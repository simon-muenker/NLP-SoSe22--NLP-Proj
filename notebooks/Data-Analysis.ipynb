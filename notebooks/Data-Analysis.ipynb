{
 "cells": [
  {
   "cell_type": "code",
   "execution_count": 1,
   "outputs": [],
   "source": [
    "# add additional module import path to import the desired function from the classifier module\n",
    "# https://stackoverflow.com/questions/34478398/import-local-function-from-a-module-housed-in-another-directory-with-relative-im#answer-35273613\n",
    "import os\n",
    "import sys\n",
    "\n",
    "module_path = os.path.abspath(os.path.join('..'))\n",
    "\n",
    "if module_path not in sys.path:\n",
    "    sys.path.append(module_path)"
   ],
   "metadata": {
    "collapsed": false,
    "pycharm": {
     "name": "#%%\n"
    }
   }
  },
  {
   "cell_type": "code",
   "execution_count": 2,
   "outputs": [],
   "source": [
    "# load classifier dependencies\n",
    "from classifier.lib import Data\n",
    "from classifier.linguistic.lookupdict import LookUpDict\n",
    "\n",
    "# define data path\n",
    "DATA_PATH: str = '../data'"
   ],
   "metadata": {
    "collapsed": false,
    "pycharm": {
     "name": "#%%\n"
    }
   }
  },
  {
   "cell_type": "code",
   "execution_count": 7,
   "outputs": [
    {
     "data": {
      "text/plain": "VBox(children=(HBox(children=(IntProgress(value=0, description='0.00%', max=10000), Label(value='0 / 10000')))…",
      "application/vnd.jupyter.widget-view+json": {
       "version_major": 2,
       "version_minor": 0,
       "model_id": "69937246215a46309ceb8e991fc52809"
      }
     },
     "metadata": {},
     "output_type": "display_data"
    },
    {
     "data": {
      "text/plain": "VBox(children=(HBox(children=(IntProgress(value=0, description='0.00%', max=10000), Label(value='0 / 10000')))…",
      "application/vnd.jupyter.widget-view+json": {
       "version_major": 2,
       "version_minor": 0,
       "model_id": "9db76816595a466dbf4ecc7e3282f45f"
      }
     },
     "metadata": {},
     "output_type": "display_data"
    },
    {
     "data": {
      "text/plain": "                                               review sentiment  \\\n0   Dave is going through a divorce and his mind w...  negative   \n1   Highly regarded at release, but since rather n...  positive   \n2   this western/musical/comedy is not one of the ...  negative   \n3   I opted to watch this film for one reason and ...  positive   \n4   As one other IMDb reviewer puts it, \"...imagin...  positive   \n5   boring stuff we got here. His 5 minute shorts ...  negative   \n6   This is a well directed Columbo episode, with ...  positive   \n7   I was watching this movie and getting increasi...  negative   \n8   Sporting a title seemingly more suitable for a...  positive   \n9   Curl up with this one on a dark and stormy nig...  positive   \n10  American playwright Howard W. Campbell, Jr. (p...  positive   \n11  The centurions is one of the best cartoons eve...  positive   \n12  Eaten Alive plays out like a bad rehearsal for...  negative   \n13  An awful film; badly written, badly acted, cli...  negative   \n14  Walerian Borowczyks La Bete (1975) was obvious...  negative   \n15  \"A Guy Thing\" may not be a classic, but it sur...  positive   \n\n                                                token  \\\n0   [dave, going, divorce, mind, wanders, back, fi...   \n1   [highly, regarded, release, since, rather, neg...   \n2   [western, musical, comedy, one, best, genre, s...   \n3   [opted, watch, film, one, reason, one, reason,...   \n4   [one, imdb, reviewer, puts, imagine, space, od...   \n5   [boring, stuff, got, minute, shorts, better, k...   \n6   [well, directed, columbo, episode, also, good,...   \n7   [watching, movie, getting, increasingly, bored...   \n8   [sporting, title, seemingly, suitable, looney,...   \n9   [curl, one, dark, stormy, night, prepare, alte...   \n10  [american, playwright, howard, w, campbell, jr...   \n11  [centurions, one, best, cartoons, ever, needs,...   \n12  [eaten, alive, plays, like, bad, rehearsal, fo...   \n13  [awful, film, badly, written, badly, acted, cl...   \n14  [walerian, borowczyks, la, bete, obviously, re...   \n15  [guy, thing, may, classic, sure, good, funny, ...   \n\n                                               2-gram  \n0   [(dave, going), (going, divorce), (divorce, mi...  \n1   [(highly, regarded), (regarded, release), (rel...  \n2   [(western, musical), (musical, comedy), (comed...  \n3   [(opted, watch), (watch, film), (film, one), (...  \n4   [(one, imdb), (imdb, reviewer), (reviewer, put...  \n5   [(boring, stuff), (stuff, got), (got, minute),...  \n6   [(well, directed), (directed, columbo), (colum...  \n7   [(watching, movie), (movie, getting), (getting...  \n8   [(sporting, title), (title, seemingly), (seemi...  \n9   [(curl, one), (one, dark), (dark, stormy), (st...  \n10  [(american, playwright), (playwright, howard),...  \n11  [(centurions, one), (one, best), (best, cartoo...  \n12  [(eaten, alive), (alive, plays), (plays, like)...  \n13  [(awful, film), (film, badly), (badly, written...  \n14  [(walerian, borowczyks), (borowczyks, la), (la...  \n15  [(guy, thing), (thing, may), (may, classic), (...  ",
      "text/html": "<div>\n<style scoped>\n    .dataframe tbody tr th:only-of-type {\n        vertical-align: middle;\n    }\n\n    .dataframe tbody tr th {\n        vertical-align: top;\n    }\n\n    .dataframe thead th {\n        text-align: right;\n    }\n</style>\n<table border=\"1\" class=\"dataframe\">\n  <thead>\n    <tr style=\"text-align: right;\">\n      <th></th>\n      <th>review</th>\n      <th>sentiment</th>\n      <th>token</th>\n      <th>2-gram</th>\n    </tr>\n  </thead>\n  <tbody>\n    <tr>\n      <th>0</th>\n      <td>Dave is going through a divorce and his mind w...</td>\n      <td>negative</td>\n      <td>[dave, going, divorce, mind, wanders, back, fi...</td>\n      <td>[(dave, going), (going, divorce), (divorce, mi...</td>\n    </tr>\n    <tr>\n      <th>1</th>\n      <td>Highly regarded at release, but since rather n...</td>\n      <td>positive</td>\n      <td>[highly, regarded, release, since, rather, neg...</td>\n      <td>[(highly, regarded), (regarded, release), (rel...</td>\n    </tr>\n    <tr>\n      <th>2</th>\n      <td>this western/musical/comedy is not one of the ...</td>\n      <td>negative</td>\n      <td>[western, musical, comedy, one, best, genre, s...</td>\n      <td>[(western, musical), (musical, comedy), (comed...</td>\n    </tr>\n    <tr>\n      <th>3</th>\n      <td>I opted to watch this film for one reason and ...</td>\n      <td>positive</td>\n      <td>[opted, watch, film, one, reason, one, reason,...</td>\n      <td>[(opted, watch), (watch, film), (film, one), (...</td>\n    </tr>\n    <tr>\n      <th>4</th>\n      <td>As one other IMDb reviewer puts it, \"...imagin...</td>\n      <td>positive</td>\n      <td>[one, imdb, reviewer, puts, imagine, space, od...</td>\n      <td>[(one, imdb), (imdb, reviewer), (reviewer, put...</td>\n    </tr>\n    <tr>\n      <th>5</th>\n      <td>boring stuff we got here. His 5 minute shorts ...</td>\n      <td>negative</td>\n      <td>[boring, stuff, got, minute, shorts, better, k...</td>\n      <td>[(boring, stuff), (stuff, got), (got, minute),...</td>\n    </tr>\n    <tr>\n      <th>6</th>\n      <td>This is a well directed Columbo episode, with ...</td>\n      <td>positive</td>\n      <td>[well, directed, columbo, episode, also, good,...</td>\n      <td>[(well, directed), (directed, columbo), (colum...</td>\n    </tr>\n    <tr>\n      <th>7</th>\n      <td>I was watching this movie and getting increasi...</td>\n      <td>negative</td>\n      <td>[watching, movie, getting, increasingly, bored...</td>\n      <td>[(watching, movie), (movie, getting), (getting...</td>\n    </tr>\n    <tr>\n      <th>8</th>\n      <td>Sporting a title seemingly more suitable for a...</td>\n      <td>positive</td>\n      <td>[sporting, title, seemingly, suitable, looney,...</td>\n      <td>[(sporting, title), (title, seemingly), (seemi...</td>\n    </tr>\n    <tr>\n      <th>9</th>\n      <td>Curl up with this one on a dark and stormy nig...</td>\n      <td>positive</td>\n      <td>[curl, one, dark, stormy, night, prepare, alte...</td>\n      <td>[(curl, one), (one, dark), (dark, stormy), (st...</td>\n    </tr>\n    <tr>\n      <th>10</th>\n      <td>American playwright Howard W. Campbell, Jr. (p...</td>\n      <td>positive</td>\n      <td>[american, playwright, howard, w, campbell, jr...</td>\n      <td>[(american, playwright), (playwright, howard),...</td>\n    </tr>\n    <tr>\n      <th>11</th>\n      <td>The centurions is one of the best cartoons eve...</td>\n      <td>positive</td>\n      <td>[centurions, one, best, cartoons, ever, needs,...</td>\n      <td>[(centurions, one), (one, best), (best, cartoo...</td>\n    </tr>\n    <tr>\n      <th>12</th>\n      <td>Eaten Alive plays out like a bad rehearsal for...</td>\n      <td>negative</td>\n      <td>[eaten, alive, plays, like, bad, rehearsal, fo...</td>\n      <td>[(eaten, alive), (alive, plays), (plays, like)...</td>\n    </tr>\n    <tr>\n      <th>13</th>\n      <td>An awful film; badly written, badly acted, cli...</td>\n      <td>negative</td>\n      <td>[awful, film, badly, written, badly, acted, cl...</td>\n      <td>[(awful, film), (film, badly), (badly, written...</td>\n    </tr>\n    <tr>\n      <th>14</th>\n      <td>Walerian Borowczyks La Bete (1975) was obvious...</td>\n      <td>negative</td>\n      <td>[walerian, borowczyks, la, bete, obviously, re...</td>\n      <td>[(walerian, borowczyks), (borowczyks, la), (la...</td>\n    </tr>\n    <tr>\n      <th>15</th>\n      <td>\"A Guy Thing\" may not be a classic, but it sur...</td>\n      <td>positive</td>\n      <td>[guy, thing, may, classic, sure, good, funny, ...</td>\n      <td>[(guy, thing), (thing, may), (may, classic), (...</td>\n    </tr>\n  </tbody>\n</table>\n</div>"
     },
     "execution_count": 7,
     "metadata": {},
     "output_type": "execute_result"
    }
   ],
   "source": [
    "# load train data, set polarities, and config (ngrams, stopwords, lemmas)\n",
    "train: Data = Data(\n",
    "    f'{DATA_PATH}/imdb.train.1.000.csv',\n",
    "    polarities={\n",
    "      \"negative\": 0,\n",
    "      \"positive\": 1\n",
    "    },\n",
    "    config={\n",
    "      \"generate_ngrams\": [\n",
    "        1,\n",
    "        2\n",
    "      ],\n",
    "      \"remove_stopwords\": True,\n",
    "      \"use_lemmatizer\": False\n",
    "    }\n",
    ")\n",
    "train.data.head(16)"
   ],
   "metadata": {
    "collapsed": false,
    "pycharm": {
     "name": "#%%\n"
    }
   }
  },
  {
   "cell_type": "code",
   "execution_count": 4,
   "outputs": [
    {
     "data": {
      "text/plain": "\nname(negative) || len(64) || sum(57866) \n            token     n         p\n52         worst  3956  0.068365\n110        awful  2474  0.042754\n125     terrible  2349  0.040594\n151        waste  2062  0.035634\n158        worse  2000  0.034563\n195     horrible  1706  0.029482\n244         crap  1431  0.024730\n293     annoying  1238  0.021394\n300   ridiculous  1215  0.020997\n327        cheap  1110  0.019182\n338         dull  1077  0.018612\n342        clich  1067  0.018439\n365        avoid  1019  0.017610\n370  predictable  1012  0.017489\n374       poorly  1000  0.017281\n384         lame   977  0.016884\nname(positive) || len(64) || sum(39981) \n            token    n         p\n368    fantastic  987  0.024687\n419     greatest  894  0.022361\n420       superb  893  0.022336\n434    realistic  860  0.021510\n436        oscar  859  0.021485\n445         tale  841  0.021035\n488       season  779  0.019484\n494  masterpiece  774  0.019359\n502       unique  766  0.019159\n509     powerful  761  0.019034\n513       beauty  753  0.018834\n514    perfectly  752  0.018809\n515   atmosphere  748  0.018709\n523    memorable  741  0.018534\n525    emotional  741  0.018534\n534      society  728  0.018209"
     },
     "execution_count": 4,
     "metadata": {},
     "output_type": "execute_result"
    }
   ],
   "source": [
    "lookUpUni = LookUpDict({\n",
    "    'data': train.data,\n",
    "    'key_label': 'token',\n",
    "    'group_label': 'sentiment',\n",
    "    'pre_selection': 1024,\n",
    "    'final_selection': 64\n",
    "})\n",
    "lookUpUni"
   ],
   "metadata": {
    "collapsed": false,
    "pycharm": {
     "name": "#%%\n"
    }
   }
  },
  {
   "cell_type": "code",
   "execution_count": 5,
   "outputs": [
    {
     "data": {
      "text/plain": "\nname(negative) || len(64) || sum(14136) \n               2-gram     n         p\n2      (waste, time)  1129  0.079867\n6       (one, worst)   788  0.055744\n16    (worst, movie)   570  0.040323\n19     (bad, acting)   556  0.039332\n43     (even, worse)   378  0.026740\n55       (bad, film)   342  0.024194\n60   (worst, movies)   335  0.023698\n67     (acting, bad)   316  0.022354\n77     (worst, film)   305  0.021576\n87     (bad, movies)   282  0.019949\n108         (mst, k)   255  0.018039\n109       (bad, bad)   255  0.018039\n111    (time, money)   252  0.017827\n123    (plot, holes)   237  0.016766\n133      (film, bad)   230  0.016271\n136     (stay, away)   228  0.016129\nname(positive) || len(64) || sum(10896) \n                     2-gram    n         p\n27     (highly, recommend)  403  0.036986\n34           (well, worth)  367  0.033682\n50            (great, job)  319  0.029277\n62           (love, movie)  300  0.027533\n61         (well, written)  300  0.027533\n66   (highly, recommended)  295  0.027074\n100           (top, notch)  237  0.021751\n108           (film, noir)  223  0.020466\n115           (best, film)  214  0.019640\n133           (also, good)  204  0.018722\n136           (feel, good)  203  0.018631\n137         (loved, movie)  202  0.018539\n149    (definitely, worth)  195  0.017896\n146      (really, enjoyed)  195  0.017896\n150          (best, movie)  194  0.017805\n162          (makes, film)  184  0.016887"
     },
     "execution_count": 5,
     "metadata": {},
     "output_type": "execute_result"
    }
   ],
   "source": [
    "lookUpBi = LookUpDict({\n",
    "    'data': train.data,\n",
    "    'key_label': \"2-gram\",\n",
    "    'group_label': 'sentiment',\n",
    "    'pre_selection': 1024,\n",
    "    'final_selection': 64\n",
    "})\n",
    "lookUpBi"
   ],
   "metadata": {
    "collapsed": false,
    "pycharm": {
     "name": "#%%\n"
    }
   }
  },
  {
   "cell_type": "code",
   "execution_count": 5,
   "outputs": [],
   "source": [],
   "metadata": {
    "collapsed": false,
    "pycharm": {
     "name": "#%%\n"
    }
   }
  }
 ],
 "metadata": {
  "kernelspec": {
   "display_name": "Python 3",
   "language": "python",
   "name": "python3"
  },
  "language_info": {
   "codemirror_mode": {
    "name": "ipython",
    "version": 2
   },
   "file_extension": ".py",
   "mimetype": "text/x-python",
   "name": "python",
   "nbconvert_exporter": "python",
   "pygments_lexer": "ipython2",
   "version": "2.7.6"
  }
 },
 "nbformat": 4,
 "nbformat_minor": 0
}