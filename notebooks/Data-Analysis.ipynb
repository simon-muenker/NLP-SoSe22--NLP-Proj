{
 "cells": [
  {
   "cell_type": "code",
   "execution_count": 1,
   "metadata": {
    "collapsed": true,
    "pycharm": {
     "name": "#%%\n"
    }
   },
   "outputs": [],
   "source": [
    "import pandas as pd\n",
    "\n",
    "DATA_PATH: str = '../data'"
   ]
  },
  {
   "cell_type": "code",
   "execution_count": 2,
   "outputs": [
    {
     "name": "stdout",
     "output_type": "stream",
     "text": [
      "                                              review sentiment\n",
      "0  Leonard Rossiter and Frances de la Tour carry ...  negative\n",
      "1  A fashion designer trips over a cat and falls ...  negative\n",
      "2  Personally, I think the movie is pretty good. ...  positive\n",
      "3  <br /><br />As usual, I was really looking for...  negative\n",
      "                                                   review sentiment\n",
      "count                                                5000      5000\n",
      "unique                                               4998         2\n",
      "top     this is the worst film I've seen in a long lon...  negative\n",
      "freq                                                    2      2515\n"
     ]
    }
   ],
   "source": [
    "sample: pd.DataFrame = pd.read_csv(f'{DATA_PATH}/imdb.eval.csv')\n",
    "\n",
    "print(sample.head(4))\n",
    "print(sample.describe(include='all'))"
   ],
   "metadata": {
    "collapsed": false,
    "pycharm": {
     "name": "#%%\n"
    }
   }
  },
  {
   "cell_type": "code",
   "execution_count": 3,
   "outputs": [
    {
     "name": "stdout",
     "output_type": "stream",
     "text": [
      "                                                   review sentiment\n",
      "count                                                4998      4998\n",
      "unique                                               4998         2\n",
      "top     Leonard Rossiter and Frances de la Tour carry ...  negative\n",
      "freq                                                    1      2513\n"
     ]
    }
   ],
   "source": [
    "# remove duplicates\n",
    "sample.drop_duplicates(inplace=True)\n",
    "print(sample.describe(include='all'))"
   ],
   "metadata": {
    "collapsed": false,
    "pycharm": {
     "name": "#%%\n"
    }
   }
  },
  {
   "cell_type": "markdown",
   "source": [
    "## Tokenize Text"
   ],
   "metadata": {
    "collapsed": false,
    "pycharm": {
     "name": "#%% md\n"
    }
   }
  },
  {
   "cell_type": "code",
   "execution_count": 4,
   "outputs": [],
   "source": [
    "import string\n",
    "\n",
    "# tokenizer text convert to lowercase\n",
    "def tokenize(column: pd.Series) -> pd.Series:\n",
    "\n",
    "    return column\\\n",
    "    .str.translate(str.maketrans('', '', string.punctuation))\\\n",
    "    .str.replace(r'<[^<>]*>', '', regex=True)\\\n",
    "    .str.lower()\\\n",
    "    .str.split()"
   ],
   "metadata": {
    "collapsed": false,
    "pycharm": {
     "name": "#%%\n"
    }
   }
  },
  {
   "cell_type": "code",
   "execution_count": 5,
   "outputs": [
    {
     "name": "stdout",
     "output_type": "stream",
     "text": [
      "                                                   review sentiment  \\\n",
      "count                                                4998      4998   \n",
      "unique                                               4998         2   \n",
      "top     Leonard Rossiter and Frances de la Tour carry ...  negative   \n",
      "freq                                                    1      2513   \n",
      "\n",
      "                                           token.uni_gram  \n",
      "count                                                4998  \n",
      "unique                                               4998  \n",
      "top     [leonard, rossiter, and, frances, de, la, tour...  \n",
      "freq                                                    1  \n"
     ]
    }
   ],
   "source": [
    "sample['token.uni_gram'] = tokenize(sample['review'])\n",
    "print(sample.describe(include='all'))"
   ],
   "metadata": {
    "collapsed": false,
    "pycharm": {
     "name": "#%%\n"
    }
   }
  },
  {
   "cell_type": "code",
   "execution_count": 6,
   "outputs": [],
   "source": [
    "from collections import Counter\n",
    "\n",
    "def calculate_absolute_frequencies(data: pd.DataFrame) -> dict:\n",
    "\n",
    "    sentiment_token: dict = {}\n",
    "\n",
    "    # iterate over each sentiment\n",
    "    for label, group in data.groupby('sentiment'):\n",
    "\n",
    "        # count most common words (absolute frequencies)\n",
    "        count: pd.DataFrame = pd.DataFrame.from_records(\n",
    "            list(dict(Counter(list(group['token.uni_gram'].explode()))).items()),\n",
    "            columns=['token','n']\n",
    "        )\n",
    "\n",
    "        # filter stop words\n",
    "        # count = count[~count['token'].isin(stop_words)]\n",
    "\n",
    "        sentiment_token[label] = count\n",
    "\n",
    "    return sentiment_token"
   ],
   "metadata": {
    "collapsed": false,
    "pycharm": {
     "name": "#%%\n"
    }
   }
  },
  {
   "cell_type": "code",
   "execution_count": 7,
   "outputs": [],
   "source": [
    "#\n",
    "def log_frequencies(data: dict, n:int = 16) -> None:\n",
    "    for sentiment, count in data.items():\n",
    "        print(f'name({sentiment}) || len({len(count)}) || sum({sum(count[\"n\"])}) \\n {count.head(n)}')"
   ],
   "metadata": {
    "collapsed": false,
    "pycharm": {
     "name": "#%%\n"
    }
   }
  },
  {
   "cell_type": "code",
   "execution_count": 8,
   "outputs": [],
   "source": [
    "#\n",
    "def get_most_common(polarity_words: dict, l: int = 1024) -> dict:\n",
    "\n",
    "    common_polarity_words: dict = {}\n",
    "\n",
    "    for sentiment, count in polarity_words.items():\n",
    "        common_polarity_words[sentiment] = count.sort_values(by=['n'], ascending=False).head(l)\n",
    "\n",
    "    return common_polarity_words"
   ],
   "metadata": {
    "collapsed": false,
    "pycharm": {
     "name": "#%%\n"
    }
   }
  },
  {
   "cell_type": "code",
   "execution_count": 9,
   "outputs": [],
   "source": [
    "#\n",
    "def remove_shared(polarity_words: dict):\n",
    "\n",
    "    filtered_polarity_words: dict = {}\n",
    "\n",
    "    all_words: list = [list(count[\"token\"]) for _, count in polarity_words.items()]\n",
    "\n",
    "    words_intersection: set = set.intersection(*map(set, all_words))\n",
    "\n",
    "    for sentiment, count in polarity_words.items():\n",
    "        filtered_polarity_words[sentiment] = count[~count['token'].isin(words_intersection)]\n",
    "\n",
    "\n",
    "    return filtered_polarity_words"
   ],
   "metadata": {
    "collapsed": false,
    "pycharm": {
     "name": "#%%\n"
    }
   }
  },
  {
   "cell_type": "code",
   "execution_count": 10,
   "outputs": [],
   "source": [
    "def calculate_relative_frequencies(polarity_words: dict) -> None:\n",
    "    for sentiment, count in polarity_words.items():\n",
    "            count['p'] = count['n'] / sum(count[\"n\"])"
   ],
   "metadata": {
    "collapsed": false,
    "pycharm": {
     "name": "#%%\n"
    }
   }
  },
  {
   "cell_type": "code",
   "execution_count": 11,
   "outputs": [
    {
     "name": "stdout",
     "output_type": "stream",
     "text": [
      "name(negative) || len(64) || sum(4492) \n",
      "           token    n         p\n",
      "1695      awful  315  0.070125\n",
      "684       waste  266  0.059216\n",
      "1536     poorly  123  0.027382\n",
      "1898       lame  122  0.027159\n",
      "375       badly  115  0.025601\n",
      "1588     wasted   96  0.021371\n",
      "912       fails   91  0.020258\n",
      "2083       joke   91  0.020258\n",
      "632        dumb   91  0.020258\n",
      "677        fake   90  0.020036\n",
      "6459   pathetic   89  0.019813\n",
      "2504       mess   87  0.019368\n",
      "4345    garbage   82  0.018255\n",
      "4039  laughable   78  0.017364\n",
      "2201  pointless   77  0.017142\n",
      "1865     bother   75  0.016696\n",
      "name(positive) || len(64) || sum(3353) \n",
      "             token   n         p\n",
      "2990       superb  96  0.028631\n",
      "826       journey  93  0.027736\n",
      "2747       subtle  75  0.022368\n",
      "1419     stunning  71  0.021175\n",
      "758   beautifully  71  0.021175\n",
      "1016    portrayal  70  0.020877\n",
      "2194  outstanding  67  0.019982\n",
      "3741     terrific  65  0.019386\n",
      "498      feelings  65  0.019386\n",
      "772      marriage  62  0.018491\n",
      "557      touching  62  0.018491\n",
      "3074    adventure  62  0.018491\n",
      "4600          won  60  0.017894\n",
      "149           tim  59  0.017596\n",
      "3201      natural  57  0.017000\n",
      "6506         bond  57  0.017000\n"
     ]
    }
   ],
   "source": [
    "sample_uni_gram_frequencies: dict = calculate_absolute_frequencies(sample)\n",
    "most_common_frequencies: dict = get_most_common(sample_uni_gram_frequencies, 2048)\n",
    "filtered_most_common_frequencies: dict = remove_shared(most_common_frequencies)\n",
    "selected_most_common_frequencies: dict = get_most_common(filtered_most_common_frequencies, 64)\n",
    "calculate_relative_frequencies(selected_most_common_frequencies)\n",
    "\n",
    "log_frequencies(selected_most_common_frequencies)"
   ],
   "metadata": {
    "collapsed": false,
    "pycharm": {
     "name": "#%%\n"
    }
   }
  },
  {
   "cell_type": "code",
   "execution_count": 12,
   "outputs": [],
   "source": [
    "def write_frequencies(path: str, polarity_words: dict) -> None:\n",
    "    writer = pd.ExcelWriter(path)\n",
    "\n",
    "    for i, (label, df) in enumerate(polarity_words.items()):\n",
    "        df.to_excel(writer, label)\n",
    "    writer.save()"
   ],
   "metadata": {
    "collapsed": false,
    "pycharm": {
     "name": "#%%\n"
    }
   }
  },
  {
   "cell_type": "code",
   "execution_count": 15,
   "outputs": [],
   "source": [
    "write_frequencies(f'{DATA_PATH}/linguistic_model/custom.classifier.polarity_words.uni_gram.xlsx', selected_most_common_frequencies)"
   ],
   "metadata": {
    "collapsed": false,
    "pycharm": {
     "name": "#%%\n"
    }
   }
  },
  {
   "cell_type": "code",
   "execution_count": null,
   "outputs": [],
   "source": [],
   "metadata": {
    "collapsed": false,
    "pycharm": {
     "name": "#%%\n"
    }
   }
  }
 ],
 "metadata": {
  "kernelspec": {
   "display_name": "Python 3",
   "language": "python",
   "name": "python3"
  },
  "language_info": {
   "codemirror_mode": {
    "name": "ipython",
    "version": 2
   },
   "file_extension": ".py",
   "mimetype": "text/x-python",
   "name": "python",
   "nbconvert_exporter": "python",
   "pygments_lexer": "ipython2",
   "version": "2.7.6"
  }
 },
 "nbformat": 4,
 "nbformat_minor": 0
}