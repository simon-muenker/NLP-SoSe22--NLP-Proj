{
 "cells": [
  {
   "cell_type": "code",
   "execution_count": 1,
   "metadata": {
    "collapsed": false,
    "execution": {
     "iopub.execute_input": "2022-09-12T08:17:08.829818Z",
     "iopub.status.busy": "2022-09-12T08:17:08.829533Z",
     "iopub.status.idle": "2022-09-12T08:17:08.854772Z",
     "shell.execute_reply": "2022-09-12T08:17:08.854111Z"
    },
    "pycharm": {
     "name": "#%%\n"
    }
   },
   "outputs": [
    {
     "name": "stdout",
     "output_type": "stream",
     "text": [
      "env: CUDA_DEVICE_ORDER=PCI_BUS_ID\n",
      "env: CUDA_VISIBLE_DEVICES=1\n"
     ]
    }
   ],
   "source": [
    "%env CUDA_DEVICE_ORDER=PCI_BUS_ID\n",
    "%env CUDA_VISIBLE_DEVICES=1"
   ]
  },
  {
   "cell_type": "code",
   "execution_count": 2,
   "metadata": {
    "collapsed": false,
    "execution": {
     "iopub.execute_input": "2022-09-12T08:17:08.928961Z",
     "iopub.status.busy": "2022-09-12T08:17:08.928676Z",
     "iopub.status.idle": "2022-09-12T08:17:08.937703Z",
     "shell.execute_reply": "2022-09-12T08:17:08.937071Z"
    },
    "pycharm": {
     "name": "#%%\n"
    }
   },
   "outputs": [],
   "source": [
    "import os\n",
    "import sys\n",
    "\n",
    "module_path = os.path.abspath(os.path.join('..'))\n",
    "\n",
    "if module_path not in sys.path:\n",
    "    sys.path.append(module_path)"
   ]
  },
  {
   "cell_type": "code",
   "execution_count": 3,
   "metadata": {
    "collapsed": false,
    "execution": {
     "iopub.execute_input": "2022-09-12T08:17:08.941938Z",
     "iopub.status.busy": "2022-09-12T08:17:08.941689Z",
     "iopub.status.idle": "2022-09-12T08:17:10.422216Z",
     "shell.execute_reply": "2022-09-12T08:17:10.421482Z"
    },
    "pycharm": {
     "name": "#%%\n"
    }
   },
   "outputs": [],
   "source": [
    "from classifier import Data\n",
    "\n",
    "dataset = Data(\n",
    "    data_path = \"../data/imdb._debug.csv\",\n",
    "    polarities = {\n",
    "      \"negative\": 0,\n",
    "      \"positive\": 1\n",
    "    },\n",
    "    data_label='review',\n",
    "    target_label='sentiment'\n",
    ")"
   ]
  },
  {
   "cell_type": "code",
   "execution_count": 4,
   "metadata": {
    "collapsed": false,
    "execution": {
     "iopub.execute_input": "2022-09-12T08:17:10.441394Z",
     "iopub.status.busy": "2022-09-12T08:17:10.440689Z",
     "iopub.status.idle": "2022-09-12T08:17:21.960687Z",
     "shell.execute_reply": "2022-09-12T08:17:21.959547Z"
    },
    "pycharm": {
     "name": "#%%\n"
    }
   },
   "outputs": [],
   "source": [
    "from classifier._neural import Encoder\n",
    "\n",
    "enc = Encoder({\n",
    "    'model': 'bert-base-uncased',\n",
    "    'layers': [11]\n",
    "})"
   ]
  },
  {
   "cell_type": "code",
   "execution_count": 5,
   "metadata": {
    "collapsed": false,
    "execution": {
     "iopub.execute_input": "2022-09-12T08:17:21.964774Z",
     "iopub.status.busy": "2022-09-12T08:17:21.964378Z",
     "iopub.status.idle": "2022-09-12T08:17:22.732685Z",
     "shell.execute_reply": "2022-09-12T08:17:22.731960Z"
    },
    "pycharm": {
     "name": "#%%\n"
    }
   },
   "outputs": [
    {
     "name": "stderr",
     "output_type": "stream",
     "text": [
      "                                                                                                                                                                                                                                                                                                                                                                          \r"
     ]
    }
   ],
   "source": [
    "enc.df_encode(dataset.data, col=dataset.data_label, label=dataset.data_path)"
   ]
  },
  {
   "cell_type": "code",
   "execution_count": 6,
   "metadata": {
    "collapsed": false,
    "execution": {
     "iopub.execute_input": "2022-09-12T08:17:22.735886Z",
     "iopub.status.busy": "2022-09-12T08:17:22.735530Z",
     "iopub.status.idle": "2022-09-12T08:17:23.330326Z",
     "shell.execute_reply": "2022-09-12T08:17:23.329454Z"
    },
    "pycharm": {
     "name": "#%%\n"
    }
   },
   "outputs": [],
   "source": [
    "import numpy as np\n",
    "from sklearn.manifold import MDS\n",
    "\n",
    "def manifold_reduction(data: np.ndarray, dim: int = 3) -> np.ndarray:\n",
    "    return MDS(n_components=dim).fit_transform(data)"
   ]
  },
  {
   "cell_type": "code",
   "execution_count": 7,
   "metadata": {
    "collapsed": false,
    "execution": {
     "iopub.execute_input": "2022-09-12T08:17:23.334296Z",
     "iopub.status.busy": "2022-09-12T08:17:23.333884Z",
     "iopub.status.idle": "2022-09-12T08:17:23.353558Z",
     "shell.execute_reply": "2022-09-12T08:17:23.352815Z"
    },
    "pycharm": {
     "name": "#%%\n"
    }
   },
   "outputs": [],
   "source": [
    "from typing import Generator\n",
    "import torch\n",
    "import numpy as np\n",
    "import pandas as pd\n",
    "from scipy.spatial import distance\n",
    "\n",
    "\n",
    "def analysis(\n",
    "        data: pd.DataFrame,\n",
    "        dim: list = None\n",
    ") -> Generator:\n",
    "    if dim is None:\n",
    "        dim = [768, 384, 192, 96, 48, 24, 12, 6, 3]\n",
    "\n",
    "    embed_col: np.ndarray = torch.stack(data[enc.col_name].tolist()).numpy()\n",
    "\n",
    "    for d in dim:\n",
    "\n",
    "        # create record to keep row data\n",
    "        record: dict = {'dim': d}\n",
    "\n",
    "        # if reduction size is equal to encoder output dim, skip manifold reduction\n",
    "        if d == enc.dim:\n",
    "            data['reduced_embeds'] = list(embed_col)\n",
    "        else:\n",
    "            data['reduced_embeds'] = list(manifold_reduction(embed_col, dim=d))\n",
    "\n",
    "        # compute centroid means and dispersion for each cluster\n",
    "        for label, group in data.groupby(dataset.target_label):\n",
    "            record[f'centroid_{label}'] = np.mean(np.stack(group['reduced_embeds'].tolist(), axis=0), axis=0).tolist()\n",
    "            record[f'dispersion_{label}'] = np.sum(distance.pdist(group['reduced_embeds'].tolist()))\n",
    "\n",
    "        record['distance'] = distance.cdist([record['centroid_positive']], [record['centroid_negative']]).item(0)\n",
    "\n",
    "        yield record"
   ]
  },
  {
   "cell_type": "code",
   "execution_count": null,
   "outputs": [],
   "source": [],
   "metadata": {
    "collapsed": false,
    "pycharm": {
     "name": "#%%\n"
    }
   }
  },
  {
   "cell_type": "code",
   "execution_count": 8,
   "metadata": {
    "collapsed": false,
    "execution": {
     "iopub.execute_input": "2022-09-12T08:17:23.357081Z",
     "iopub.status.busy": "2022-09-12T08:17:23.356343Z",
     "iopub.status.idle": "2022-09-12T08:17:25.717132Z",
     "shell.execute_reply": "2022-09-12T08:17:25.716292Z"
    },
    "pycharm": {
     "name": "#%%\n"
    }
   },
   "outputs": [
    {
     "data": {
      "text/html": [
       "<div>\n",
       "<style scoped>\n",
       "    .dataframe tbody tr th:only-of-type {\n",
       "        vertical-align: middle;\n",
       "    }\n",
       "\n",
       "    .dataframe tbody tr th {\n",
       "        vertical-align: top;\n",
       "    }\n",
       "\n",
       "    .dataframe thead th {\n",
       "        text-align: right;\n",
       "    }\n",
       "</style>\n",
       "<table border=\"1\" class=\"dataframe\">\n",
       "  <thead>\n",
       "    <tr style=\"text-align: right;\">\n",
       "      <th></th>\n",
       "      <th>dim</th>\n",
       "      <th>centroid_negative</th>\n",
       "      <th>dispersion_negative</th>\n",
       "      <th>centroid_positive</th>\n",
       "      <th>dispersion_positive</th>\n",
       "      <th>distance</th>\n",
       "    </tr>\n",
       "  </thead>\n",
       "  <tbody>\n",
       "    <tr>\n",
       "      <th>0</th>\n",
       "      <td>768</td>\n",
       "      <td>[-0.05271393805742264, -0.11926598846912384, 0...</td>\n",
       "      <td>2937.050055</td>\n",
       "      <td>[-0.15186531841754913, -0.03394192084670067, 0...</td>\n",
       "      <td>740.529710</td>\n",
       "      <td>3.035837</td>\n",
       "    </tr>\n",
       "    <tr>\n",
       "      <th>1</th>\n",
       "      <td>384</td>\n",
       "      <td>[-0.0768522068157001, 0.06856719979299332, -0....</td>\n",
       "      <td>2939.398846</td>\n",
       "      <td>[0.1596161218479925, -0.14240879957006303, 0.1...</td>\n",
       "      <td>741.410423</td>\n",
       "      <td>3.001051</td>\n",
       "    </tr>\n",
       "    <tr>\n",
       "      <th>2</th>\n",
       "      <td>192</td>\n",
       "      <td>[-0.07073982320859394, -0.08127288837630418, 0...</td>\n",
       "      <td>2938.948498</td>\n",
       "      <td>[0.14692117127938747, 0.16879753739693953, -0....</td>\n",
       "      <td>741.359616</td>\n",
       "      <td>3.009252</td>\n",
       "    </tr>\n",
       "    <tr>\n",
       "      <th>3</th>\n",
       "      <td>96</td>\n",
       "      <td>[0.05715493972521865, 0.13546924826397033, -0....</td>\n",
       "      <td>2938.800238</td>\n",
       "      <td>[-0.11870641327545414, -0.28135920793286145, 0...</td>\n",
       "      <td>741.244524</td>\n",
       "      <td>3.008571</td>\n",
       "    </tr>\n",
       "    <tr>\n",
       "      <th>4</th>\n",
       "      <td>48</td>\n",
       "      <td>[-0.09715416259024226, 0.0020771797676757985, ...</td>\n",
       "      <td>2936.558992</td>\n",
       "      <td>[0.2017817223028109, -0.00431414259440368, 0.4...</td>\n",
       "      <td>739.830286</td>\n",
       "      <td>3.059979</td>\n",
       "    </tr>\n",
       "    <tr>\n",
       "      <th>5</th>\n",
       "      <td>24</td>\n",
       "      <td>[-0.07795996254416153, -0.10610419304787336, -...</td>\n",
       "      <td>2934.177324</td>\n",
       "      <td>[0.16191684528402764, 0.22037024709942893, 0.2...</td>\n",
       "      <td>740.455521</td>\n",
       "      <td>3.008284</td>\n",
       "    </tr>\n",
       "    <tr>\n",
       "      <th>6</th>\n",
       "      <td>12</td>\n",
       "      <td>[-0.03868075811875576, -0.24673964505329657, -...</td>\n",
       "      <td>2924.989698</td>\n",
       "      <td>[0.08033695916972322, 0.5124592628030007, 0.87...</td>\n",
       "      <td>739.991042</td>\n",
       "      <td>3.026398</td>\n",
       "    </tr>\n",
       "    <tr>\n",
       "      <th>7</th>\n",
       "      <td>6</td>\n",
       "      <td>[0.2605781725061415, -0.09129301313947706, 0.0...</td>\n",
       "      <td>2892.116361</td>\n",
       "      <td>[-0.541200819820448, 0.1896085657512215, -0.18...</td>\n",
       "      <td>741.108529</td>\n",
       "      <td>2.802988</td>\n",
       "    </tr>\n",
       "    <tr>\n",
       "      <th>8</th>\n",
       "      <td>3</td>\n",
       "      <td>[-0.5601945865773238, 0.3940483758749429, -0.7...</td>\n",
       "      <td>2784.198116</td>\n",
       "      <td>[1.1634810644298275, -0.8184081652787278, 1.51...</td>\n",
       "      <td>727.061534</td>\n",
       "      <td>3.080517</td>\n",
       "    </tr>\n",
       "  </tbody>\n",
       "</table>\n",
       "</div>"
      ],
      "text/plain": [
       "   dim                                  centroid_negative  \\\n",
       "0  768  [-0.05271393805742264, -0.11926598846912384, 0...   \n",
       "1  384  [-0.0768522068157001, 0.06856719979299332, -0....   \n",
       "2  192  [-0.07073982320859394, -0.08127288837630418, 0...   \n",
       "3   96  [0.05715493972521865, 0.13546924826397033, -0....   \n",
       "4   48  [-0.09715416259024226, 0.0020771797676757985, ...   \n",
       "5   24  [-0.07795996254416153, -0.10610419304787336, -...   \n",
       "6   12  [-0.03868075811875576, -0.24673964505329657, -...   \n",
       "7    6  [0.2605781725061415, -0.09129301313947706, 0.0...   \n",
       "8    3  [-0.5601945865773238, 0.3940483758749429, -0.7...   \n",
       "\n",
       "   dispersion_negative                                  centroid_positive  \\\n",
       "0          2937.050055  [-0.15186531841754913, -0.03394192084670067, 0...   \n",
       "1          2939.398846  [0.1596161218479925, -0.14240879957006303, 0.1...   \n",
       "2          2938.948498  [0.14692117127938747, 0.16879753739693953, -0....   \n",
       "3          2938.800238  [-0.11870641327545414, -0.28135920793286145, 0...   \n",
       "4          2936.558992  [0.2017817223028109, -0.00431414259440368, 0.4...   \n",
       "5          2934.177324  [0.16191684528402764, 0.22037024709942893, 0.2...   \n",
       "6          2924.989698  [0.08033695916972322, 0.5124592628030007, 0.87...   \n",
       "7          2892.116361  [-0.541200819820448, 0.1896085657512215, -0.18...   \n",
       "8          2784.198116  [1.1634810644298275, -0.8184081652787278, 1.51...   \n",
       "\n",
       "   dispersion_positive  distance  \n",
       "0           740.529710  3.035837  \n",
       "1           741.410423  3.001051  \n",
       "2           741.359616  3.009252  \n",
       "3           741.244524  3.008571  \n",
       "4           739.830286  3.059979  \n",
       "5           740.455521  3.008284  \n",
       "6           739.991042  3.026398  \n",
       "7           741.108529  2.802988  \n",
       "8           727.061534  3.080517  "
      ]
     },
     "execution_count": 8,
     "metadata": {},
     "output_type": "execute_result"
    }
   ],
   "source": [
    "import pandas as pd\n",
    "\n",
    "cluster_analysis = pd.DataFrame.from_records(list(analysis(dataset.data)))\n",
    "cluster_analysis"
   ]
  },
  {
   "cell_type": "code",
   "execution_count": 9,
   "metadata": {
    "collapsed": false,
    "execution": {
     "iopub.execute_input": "2022-09-12T08:17:25.793603Z",
     "iopub.status.busy": "2022-09-12T08:17:25.793248Z",
     "iopub.status.idle": "2022-09-12T08:17:25.802966Z",
     "shell.execute_reply": "2022-09-12T08:17:25.802340Z"
    },
    "pycharm": {
     "name": "#%%\n"
    }
   },
   "outputs": [],
   "source": [
    "cluster_analysis.to_csv[['dim', 'dispersion_positive', 'dispersion_negative', 'distance']]('./cluster_analysis.csv')"
   ]
  }
 ],
 "metadata": {
  "kernelspec": {
   "display_name": "Python 3",
   "language": "python",
   "name": "python3"
  },
  "language_info": {
   "codemirror_mode": {
    "name": "ipython",
    "version": 3
   },
   "file_extension": ".py",
   "mimetype": "text/x-python",
   "name": "python",
   "nbconvert_exporter": "python",
   "pygments_lexer": "ipython3",
   "version": "3.8.5"
  }
 },
 "nbformat": 4,
 "nbformat_minor": 0
}