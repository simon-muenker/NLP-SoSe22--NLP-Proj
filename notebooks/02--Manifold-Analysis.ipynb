{
 "cells": [
  {
   "cell_type": "code",
   "execution_count": 1,
   "metadata": {
    "collapsed": false,
    "execution": {
     "iopub.execute_input": "2022-09-12T15:19:17.784636Z",
     "iopub.status.busy": "2022-09-12T15:19:17.784116Z",
     "iopub.status.idle": "2022-09-12T15:19:17.797343Z",
     "shell.execute_reply": "2022-09-12T15:19:17.796438Z"
    },
    "pycharm": {
     "name": "#%%\n"
    }
   },
   "outputs": [
    {
     "name": "stdout",
     "output_type": "stream",
     "text": [
      "env: CUDA_DEVICE_ORDER=PCI_BUS_ID\n",
      "env: CUDA_VISIBLE_DEVICES=5\n"
     ]
    }
   ],
   "source": [
    "%env CUDA_DEVICE_ORDER=PCI_BUS_ID\n",
    "%env CUDA_VISIBLE_DEVICES=5"
   ]
  },
  {
   "cell_type": "code",
   "execution_count": 2,
   "metadata": {
    "collapsed": false,
    "execution": {
     "iopub.execute_input": "2022-09-12T15:19:17.827273Z",
     "iopub.status.busy": "2022-09-12T15:19:17.826746Z",
     "iopub.status.idle": "2022-09-12T15:19:17.834468Z",
     "shell.execute_reply": "2022-09-12T15:19:17.833172Z"
    },
    "pycharm": {
     "name": "#%%\n"
    }
   },
   "outputs": [],
   "source": [
    "import os\n",
    "import sys\n",
    "\n",
    "module_path = os.path.abspath(os.path.join('..'))\n",
    "\n",
    "if module_path not in sys.path:\n",
    "    sys.path.append(module_path)"
   ]
  },
  {
   "cell_type": "code",
   "execution_count": 3,
   "metadata": {
    "collapsed": false,
    "execution": {
     "iopub.execute_input": "2022-09-12T15:19:17.838860Z",
     "iopub.status.busy": "2022-09-12T15:19:17.838288Z",
     "iopub.status.idle": "2022-09-12T15:19:18.675870Z",
     "shell.execute_reply": "2022-09-12T15:19:18.674439Z"
    },
    "pycharm": {
     "name": "#%%\n"
    }
   },
   "outputs": [],
   "source": [
    "from classifier import Data\n",
    "\n",
    "dataset = Data(\n",
    "    data_path = \"../data/imdb.train.sample.csv\",\n",
    "    polarities = {\n",
    "      \"negative\": 0,\n",
    "      \"positive\": 1\n",
    "    },\n",
    "    data_label='review',\n",
    "    target_label='sentiment'\n",
    ")"
   ]
  },
  {
   "cell_type": "code",
   "execution_count": 4,
   "metadata": {
    "collapsed": false,
    "execution": {
     "iopub.execute_input": "2022-09-12T15:19:18.681708Z",
     "iopub.status.busy": "2022-09-12T15:19:18.681357Z",
     "iopub.status.idle": "2022-09-12T15:19:28.686312Z",
     "shell.execute_reply": "2022-09-12T15:19:28.683898Z"
    },
    "pycharm": {
     "name": "#%%\n"
    }
   },
   "outputs": [],
   "source": [
    "from classifier._neural import Encoder\n",
    "\n",
    "enc = Encoder({\n",
    "    'model': 'textattack/bert-base-uncased-imdb',\n",
    "    'layers': [11]\n",
    "})"
   ]
  },
  {
   "cell_type": "code",
   "execution_count": 5,
   "metadata": {
    "collapsed": false,
    "execution": {
     "iopub.execute_input": "2022-09-12T15:19:28.693653Z",
     "iopub.status.busy": "2022-09-12T15:19:28.693368Z",
     "iopub.status.idle": "2022-09-12T15:19:42.820905Z",
     "shell.execute_reply": "2022-09-12T15:19:42.819316Z"
    },
    "pycharm": {
     "name": "#%%\n"
    }
   },
   "outputs": [
    {
     "name": "stderr",
     "output_type": "stream",
     "text": [
      "                                                                                                                                                                                                                                                                                                                                                                          \r"
     ]
    }
   ],
   "source": [
    "enc.df_encode(dataset.data, col=dataset.data_label, label=dataset.data_path)"
   ]
  },
  {
   "cell_type": "code",
   "execution_count": 6,
   "metadata": {
    "collapsed": false,
    "execution": {
     "iopub.execute_input": "2022-09-12T15:19:42.827412Z",
     "iopub.status.busy": "2022-09-12T15:19:42.826966Z",
     "iopub.status.idle": "2022-09-12T15:19:43.157825Z",
     "shell.execute_reply": "2022-09-12T15:19:43.156699Z"
    },
    "pycharm": {
     "name": "#%%\n"
    }
   },
   "outputs": [],
   "source": [
    "import numpy as np\n",
    "from sklearn.manifold import MDS\n",
    "\n",
    "def manifold_reduction(data: np.ndarray, dim: int = 3) -> np.ndarray:\n",
    "    return MDS(n_components=dim).fit_transform(data)"
   ]
  },
  {
   "cell_type": "code",
   "execution_count": 7,
   "metadata": {
    "collapsed": false,
    "execution": {
     "iopub.execute_input": "2022-09-12T15:19:43.163534Z",
     "iopub.status.busy": "2022-09-12T15:19:43.163166Z",
     "iopub.status.idle": "2022-09-12T15:19:43.172652Z",
     "shell.execute_reply": "2022-09-12T15:19:43.171716Z"
    },
    "pycharm": {
     "name": "#%%\n"
    }
   },
   "outputs": [],
   "source": [
    "from typing import Generator\n",
    "import torch\n",
    "import numpy as np\n",
    "import pandas as pd\n",
    "from scipy.spatial import distance\n",
    "\n",
    "\n",
    "def analysis(\n",
    "        data: pd.DataFrame,\n",
    "        dim: list = None\n",
    ") -> Generator:\n",
    "    if dim is None:\n",
    "        dim = [768, 576, 384, 192, 96, 48, 24, 12, 6, 3]\n",
    "\n",
    "    embed_col: np.ndarray = torch.stack(data[enc.col_name].tolist()).numpy()\n",
    "\n",
    "    for d in dim:\n",
    "\n",
    "        # create record to keep row data\n",
    "        record: dict = {'dim': d}\n",
    "\n",
    "        # if reduction size is equal to encoder output dim, skip manifold reduction\n",
    "        if d == enc.dim:\n",
    "            data['reduced_embeds'] = list(embed_col)\n",
    "        else:\n",
    "            data['reduced_embeds'] = list(manifold_reduction(embed_col, dim=d))\n",
    "\n",
    "        # compute centroid means and dispersion for each cluster\n",
    "        for label, group in data.groupby(dataset.target_label):\n",
    "            record[f'centroid_{label}'] = np.mean(np.stack(group['reduced_embeds'].tolist(), axis=0), axis=0).tolist()\n",
    "            record[f'dispersion_{label}'] = np.sum(distance.pdist(group['reduced_embeds'].tolist()))\n",
    "\n",
    "        record['distance'] = distance.cdist([record['centroid_positive']], [record['centroid_negative']]).item(0)\n",
    "\n",
    "        yield record"
   ]
  },
  {
   "cell_type": "code",
   "execution_count": 8,
   "metadata": {
    "collapsed": false,
    "execution": {
     "iopub.execute_input": "2022-09-12T15:19:43.176683Z",
     "iopub.status.busy": "2022-09-12T15:19:43.176311Z",
     "iopub.status.idle": "2022-09-12T15:25:57.410098Z",
     "shell.execute_reply": "2022-09-12T15:25:57.409085Z"
    },
    "pycharm": {
     "name": "#%%\n"
    }
   },
   "outputs": [
    {
     "data": {
      "text/html": [
       "<div>\n",
       "<style scoped>\n",
       "    .dataframe tbody tr th:only-of-type {\n",
       "        vertical-align: middle;\n",
       "    }\n",
       "\n",
       "    .dataframe tbody tr th {\n",
       "        vertical-align: top;\n",
       "    }\n",
       "\n",
       "    .dataframe thead th {\n",
       "        text-align: right;\n",
       "    }\n",
       "</style>\n",
       "<table border=\"1\" class=\"dataframe\">\n",
       "  <thead>\n",
       "    <tr style=\"text-align: right;\">\n",
       "      <th></th>\n",
       "      <th>dim</th>\n",
       "      <th>dispersion_positive</th>\n",
       "      <th>dispersion_negative</th>\n",
       "      <th>distance</th>\n",
       "    </tr>\n",
       "  </thead>\n",
       "  <tbody>\n",
       "    <tr>\n",
       "      <th>0</th>\n",
       "      <td>768</td>\n",
       "      <td>1.936666e+06</td>\n",
       "      <td>1.245197e+06</td>\n",
       "      <td>7.870501</td>\n",
       "    </tr>\n",
       "    <tr>\n",
       "      <th>1</th>\n",
       "      <td>576</td>\n",
       "      <td>1.936999e+06</td>\n",
       "      <td>1.245412e+06</td>\n",
       "      <td>7.871798</td>\n",
       "    </tr>\n",
       "    <tr>\n",
       "      <th>2</th>\n",
       "      <td>384</td>\n",
       "      <td>1.936758e+06</td>\n",
       "      <td>1.245218e+06</td>\n",
       "      <td>7.873773</td>\n",
       "    </tr>\n",
       "    <tr>\n",
       "      <th>3</th>\n",
       "      <td>192</td>\n",
       "      <td>1.935962e+06</td>\n",
       "      <td>1.244567e+06</td>\n",
       "      <td>7.879527</td>\n",
       "    </tr>\n",
       "    <tr>\n",
       "      <th>4</th>\n",
       "      <td>96</td>\n",
       "      <td>1.934210e+06</td>\n",
       "      <td>1.243108e+06</td>\n",
       "      <td>7.893193</td>\n",
       "    </tr>\n",
       "    <tr>\n",
       "      <th>5</th>\n",
       "      <td>48</td>\n",
       "      <td>1.930430e+06</td>\n",
       "      <td>1.239993e+06</td>\n",
       "      <td>7.921449</td>\n",
       "    </tr>\n",
       "    <tr>\n",
       "      <th>6</th>\n",
       "      <td>24</td>\n",
       "      <td>1.922074e+06</td>\n",
       "      <td>1.233175e+06</td>\n",
       "      <td>7.983199</td>\n",
       "    </tr>\n",
       "    <tr>\n",
       "      <th>7</th>\n",
       "      <td>12</td>\n",
       "      <td>1.902749e+06</td>\n",
       "      <td>1.217704e+06</td>\n",
       "      <td>8.119086</td>\n",
       "    </tr>\n",
       "    <tr>\n",
       "      <th>8</th>\n",
       "      <td>6</td>\n",
       "      <td>1.854138e+06</td>\n",
       "      <td>1.178891e+06</td>\n",
       "      <td>8.451413</td>\n",
       "    </tr>\n",
       "    <tr>\n",
       "      <th>9</th>\n",
       "      <td>3</td>\n",
       "      <td>1.711572e+06</td>\n",
       "      <td>1.075962e+06</td>\n",
       "      <td>9.236423</td>\n",
       "    </tr>\n",
       "  </tbody>\n",
       "</table>\n",
       "</div>"
      ],
      "text/plain": [
       "   dim  dispersion_positive  dispersion_negative  distance\n",
       "0  768         1.936666e+06         1.245197e+06  7.870501\n",
       "1  576         1.936999e+06         1.245412e+06  7.871798\n",
       "2  384         1.936758e+06         1.245218e+06  7.873773\n",
       "3  192         1.935962e+06         1.244567e+06  7.879527\n",
       "4   96         1.934210e+06         1.243108e+06  7.893193\n",
       "5   48         1.930430e+06         1.239993e+06  7.921449\n",
       "6   24         1.922074e+06         1.233175e+06  7.983199\n",
       "7   12         1.902749e+06         1.217704e+06  8.119086\n",
       "8    6         1.854138e+06         1.178891e+06  8.451413\n",
       "9    3         1.711572e+06         1.075962e+06  9.236423"
      ]
     },
     "execution_count": 8,
     "metadata": {},
     "output_type": "execute_result"
    }
   ],
   "source": [
    "import pandas as pd\n",
    "\n",
    "cluster_analysis = pd.DataFrame.from_records(list(analysis(dataset.data)))\n",
    "cluster_analysis[['dim', 'dispersion_positive', 'dispersion_negative', 'distance']]"
   ]
  },
  {
   "cell_type": "code",
   "execution_count": 9,
   "metadata": {
    "collapsed": false,
    "execution": {
     "iopub.execute_input": "2022-09-12T15:25:57.414607Z",
     "iopub.status.busy": "2022-09-12T15:25:57.414024Z",
     "iopub.status.idle": "2022-09-12T15:32:18.733010Z",
     "shell.execute_reply": "2022-09-12T15:32:18.731945Z"
    },
    "pycharm": {
     "name": "#%%\n"
    }
   },
   "outputs": [
    {
     "data": {
      "text/html": [
       "<div>\n",
       "<style scoped>\n",
       "    .dataframe tbody tr th:only-of-type {\n",
       "        vertical-align: middle;\n",
       "    }\n",
       "\n",
       "    .dataframe tbody tr th {\n",
       "        vertical-align: top;\n",
       "    }\n",
       "\n",
       "    .dataframe thead th {\n",
       "        text-align: right;\n",
       "    }\n",
       "</style>\n",
       "<table border=\"1\" class=\"dataframe\">\n",
       "  <thead>\n",
       "    <tr style=\"text-align: right;\">\n",
       "      <th></th>\n",
       "      <th>dim</th>\n",
       "      <th>dispersion_positive</th>\n",
       "      <th>dispersion_negative</th>\n",
       "      <th>distance</th>\n",
       "    </tr>\n",
       "  </thead>\n",
       "  <tbody>\n",
       "    <tr>\n",
       "      <th>0</th>\n",
       "      <td>768</td>\n",
       "      <td>1.936666e+06</td>\n",
       "      <td>1.245197e+06</td>\n",
       "      <td>7.870501</td>\n",
       "    </tr>\n",
       "    <tr>\n",
       "      <th>1</th>\n",
       "      <td>576</td>\n",
       "      <td>1.936996e+06</td>\n",
       "      <td>1.245416e+06</td>\n",
       "      <td>7.871884</td>\n",
       "    </tr>\n",
       "    <tr>\n",
       "      <th>2</th>\n",
       "      <td>384</td>\n",
       "      <td>1.936735e+06</td>\n",
       "      <td>1.245200e+06</td>\n",
       "      <td>7.874029</td>\n",
       "    </tr>\n",
       "    <tr>\n",
       "      <th>3</th>\n",
       "      <td>192</td>\n",
       "      <td>1.935962e+06</td>\n",
       "      <td>1.244544e+06</td>\n",
       "      <td>7.880069</td>\n",
       "    </tr>\n",
       "    <tr>\n",
       "      <th>4</th>\n",
       "      <td>96</td>\n",
       "      <td>1.934237e+06</td>\n",
       "      <td>1.243128e+06</td>\n",
       "      <td>7.892990</td>\n",
       "    </tr>\n",
       "    <tr>\n",
       "      <th>5</th>\n",
       "      <td>48</td>\n",
       "      <td>1.930401e+06</td>\n",
       "      <td>1.239985e+06</td>\n",
       "      <td>7.921559</td>\n",
       "    </tr>\n",
       "    <tr>\n",
       "      <th>6</th>\n",
       "      <td>24</td>\n",
       "      <td>1.921991e+06</td>\n",
       "      <td>1.233214e+06</td>\n",
       "      <td>7.983278</td>\n",
       "    </tr>\n",
       "    <tr>\n",
       "      <th>7</th>\n",
       "      <td>12</td>\n",
       "      <td>1.903017e+06</td>\n",
       "      <td>1.217892e+06</td>\n",
       "      <td>8.116464</td>\n",
       "    </tr>\n",
       "    <tr>\n",
       "      <th>8</th>\n",
       "      <td>6</td>\n",
       "      <td>1.853819e+06</td>\n",
       "      <td>1.179741e+06</td>\n",
       "      <td>8.439162</td>\n",
       "    </tr>\n",
       "    <tr>\n",
       "      <th>9</th>\n",
       "      <td>3</td>\n",
       "      <td>1.710758e+06</td>\n",
       "      <td>1.075000e+06</td>\n",
       "      <td>9.243265</td>\n",
       "    </tr>\n",
       "  </tbody>\n",
       "</table>\n",
       "</div>"
      ],
      "text/plain": [
       "   dim  dispersion_positive  dispersion_negative  distance\n",
       "0  768         1.936666e+06         1.245197e+06  7.870501\n",
       "1  576         1.936996e+06         1.245416e+06  7.871884\n",
       "2  384         1.936735e+06         1.245200e+06  7.874029\n",
       "3  192         1.935962e+06         1.244544e+06  7.880069\n",
       "4   96         1.934237e+06         1.243128e+06  7.892990\n",
       "5   48         1.930401e+06         1.239985e+06  7.921559\n",
       "6   24         1.921991e+06         1.233214e+06  7.983278\n",
       "7   12         1.903017e+06         1.217892e+06  8.116464\n",
       "8    6         1.853819e+06         1.179741e+06  8.439162\n",
       "9    3         1.710758e+06         1.075000e+06  9.243265"
      ]
     },
     "execution_count": 9,
     "metadata": {},
     "output_type": "execute_result"
    }
   ],
   "source": [
    "import pandas as pd\n",
    "\n",
    "cluster_analysis = pd.DataFrame.from_records(list(analysis(dataset.data)))\n",
    "cluster_analysis[['dim', 'dispersion_positive', 'dispersion_negative', 'distance']]"
   ]
  },
  {
   "cell_type": "code",
   "execution_count": 10,
   "metadata": {
    "collapsed": false,
    "execution": {
     "iopub.execute_input": "2022-09-12T15:32:18.738339Z",
     "iopub.status.busy": "2022-09-12T15:32:18.737672Z",
     "iopub.status.idle": "2022-09-12T15:32:18.746964Z",
     "shell.execute_reply": "2022-09-12T15:32:18.746122Z"
    },
    "pycharm": {
     "name": "#%%\n"
    }
   },
   "outputs": [],
   "source": [
    "cluster_analysis[['dim', 'dispersion_positive', 'dispersion_negative', 'distance']].to_csv('./cluster_analysis.csv')"
   ]
  }
 ],
 "metadata": {
  "kernelspec": {
   "display_name": "Python 3",
   "language": "python",
   "name": "python3"
  },
  "language_info": {
   "codemirror_mode": {
    "name": "ipython",
    "version": 3
   },
   "file_extension": ".py",
   "mimetype": "text/x-python",
   "name": "python",
   "nbconvert_exporter": "python",
   "pygments_lexer": "ipython3",
   "version": "3.8.5"
  }
 },
 "nbformat": 4,
 "nbformat_minor": 0
}
