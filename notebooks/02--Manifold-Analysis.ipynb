{
 "cells": [
  {
   "cell_type": "code",
   "execution_count": 1,
   "metadata": {
    "collapsed": false,
    "execution": {
     "iopub.execute_input": "2022-09-12T13:59:33.176143Z",
     "iopub.status.busy": "2022-09-12T13:59:33.174727Z",
     "iopub.status.idle": "2022-09-12T13:59:33.186348Z",
     "shell.execute_reply": "2022-09-12T13:59:33.185370Z"
    },
    "pycharm": {
     "name": "#%%\n"
    }
   },
   "outputs": [
    {
     "name": "stdout",
     "output_type": "stream",
     "text": [
      "env: CUDA_DEVICE_ORDER=PCI_BUS_ID\n",
      "env: CUDA_VISIBLE_DEVICES=5\n"
     ]
    }
   ],
   "source": [
    "%env CUDA_DEVICE_ORDER=PCI_BUS_ID\n",
    "%env CUDA_VISIBLE_DEVICES=5"
   ]
  },
  {
   "cell_type": "code",
   "execution_count": 2,
   "metadata": {
    "collapsed": false,
    "execution": {
     "iopub.execute_input": "2022-09-12T13:59:33.213590Z",
     "iopub.status.busy": "2022-09-12T13:59:33.213249Z",
     "iopub.status.idle": "2022-09-12T13:59:33.218091Z",
     "shell.execute_reply": "2022-09-12T13:59:33.217230Z"
    },
    "pycharm": {
     "name": "#%%\n"
    }
   },
   "outputs": [],
   "source": [
    "import os\n",
    "import sys\n",
    "\n",
    "module_path = os.path.abspath(os.path.join('..'))\n",
    "\n",
    "if module_path not in sys.path:\n",
    "    sys.path.append(module_path)"
   ]
  },
  {
   "cell_type": "code",
   "execution_count": 3,
   "metadata": {
    "collapsed": false,
    "execution": {
     "iopub.execute_input": "2022-09-12T13:59:33.221053Z",
     "iopub.status.busy": "2022-09-12T13:59:33.220726Z",
     "iopub.status.idle": "2022-09-12T13:59:34.178319Z",
     "shell.execute_reply": "2022-09-12T13:59:34.177398Z"
    },
    "pycharm": {
     "name": "#%%\n"
    }
   },
   "outputs": [],
   "source": [
    "from classifier import Data\n",
    "\n",
    "dataset = Data(\n",
    "    data_path = \"../data/imdb.train.sample.csv\",\n",
    "    polarities = {\n",
    "      \"negative\": 0,\n",
    "      \"positive\": 1\n",
    "    },\n",
    "    data_label='review',\n",
    "    target_label='sentiment'\n",
    ")"
   ]
  },
  {
   "cell_type": "code",
   "execution_count": 4,
   "metadata": {
    "collapsed": false,
    "execution": {
     "iopub.execute_input": "2022-09-12T13:59:34.183588Z",
     "iopub.status.busy": "2022-09-12T13:59:34.183200Z",
     "iopub.status.idle": "2022-09-12T13:59:44.421942Z",
     "shell.execute_reply": "2022-09-12T13:59:44.420108Z"
    },
    "pycharm": {
     "name": "#%%\n"
    }
   },
   "outputs": [],
   "source": [
    "from classifier._neural import Encoder\n",
    "\n",
    "enc = Encoder({\n",
    "    'model': 'fabriceyhc/bert-base-uncased-imdb',\n",
    "    'layers': [11]\n",
    "})"
   ]
  },
  {
   "cell_type": "code",
   "execution_count": 5,
   "metadata": {
    "collapsed": false,
    "execution": {
     "iopub.execute_input": "2022-09-12T13:59:44.427171Z",
     "iopub.status.busy": "2022-09-12T13:59:44.426847Z",
     "iopub.status.idle": "2022-09-12T13:59:58.553262Z",
     "shell.execute_reply": "2022-09-12T13:59:58.552111Z"
    },
    "pycharm": {
     "name": "#%%\n"
    }
   },
   "outputs": [
    {
     "name": "stderr",
     "output_type": "stream",
     "text": [
      "                                                                                                                                                                                                                                                                                                                                                                          \r"
     ]
    }
   ],
   "source": [
    "enc.df_encode(dataset.data, col=dataset.data_label, label=dataset.data_path)"
   ]
  },
  {
   "cell_type": "code",
   "execution_count": 6,
   "metadata": {
    "collapsed": false,
    "execution": {
     "iopub.execute_input": "2022-09-12T13:59:58.559072Z",
     "iopub.status.busy": "2022-09-12T13:59:58.558136Z",
     "iopub.status.idle": "2022-09-12T13:59:58.919695Z",
     "shell.execute_reply": "2022-09-12T13:59:58.918681Z"
    },
    "pycharm": {
     "name": "#%%\n"
    }
   },
   "outputs": [],
   "source": [
    "import numpy as np\n",
    "from sklearn.manifold import MDS\n",
    "\n",
    "def manifold_reduction(data: np.ndarray, dim: int = 3) -> np.ndarray:\n",
    "    return MDS(n_components=dim).fit_transform(data)"
   ]
  },
  {
   "cell_type": "code",
   "execution_count": 7,
   "metadata": {
    "collapsed": false,
    "execution": {
     "iopub.execute_input": "2022-09-12T13:59:58.924634Z",
     "iopub.status.busy": "2022-09-12T13:59:58.924251Z",
     "iopub.status.idle": "2022-09-12T13:59:58.932905Z",
     "shell.execute_reply": "2022-09-12T13:59:58.932076Z"
    },
    "pycharm": {
     "name": "#%%\n"
    }
   },
   "outputs": [],
   "source": [
    "from typing import Generator\n",
    "import torch\n",
    "import numpy as np\n",
    "import pandas as pd\n",
    "from scipy.spatial import distance\n",
    "\n",
    "\n",
    "def analysis(\n",
    "        data: pd.DataFrame,\n",
    "        dim: list = None\n",
    ") -> Generator:\n",
    "    if dim is None:\n",
    "        dim = [768, 576, 384, 192, 96, 48, 24, 12, 6, 3]\n",
    "\n",
    "    embed_col: np.ndarray = torch.stack(data[enc.col_name].tolist()).numpy()\n",
    "\n",
    "    for d in dim:\n",
    "\n",
    "        # create record to keep row data\n",
    "        record: dict = {'dim': d}\n",
    "\n",
    "        # if reduction size is equal to encoder output dim, skip manifold reduction\n",
    "        if d == enc.dim:\n",
    "            data['reduced_embeds'] = list(embed_col)\n",
    "        else:\n",
    "            data['reduced_embeds'] = list(manifold_reduction(embed_col, dim=d))\n",
    "\n",
    "        # compute centroid means and dispersion for each cluster\n",
    "        for label, group in data.groupby(dataset.target_label):\n",
    "            record[f'centroid_{label}'] = np.mean(np.stack(group['reduced_embeds'].tolist(), axis=0), axis=0).tolist()\n",
    "            record[f'dispersion_{label}'] = np.sum(distance.pdist(group['reduced_embeds'].tolist()))\n",
    "\n",
    "        record['distance'] = distance.cdist([record['centroid_positive']], [record['centroid_negative']]).item(0)\n",
    "\n",
    "        yield record"
   ]
  },
  {
   "cell_type": "code",
   "execution_count": 8,
   "metadata": {
    "collapsed": false,
    "execution": {
     "iopub.execute_input": "2022-09-12T13:59:58.937103Z",
     "iopub.status.busy": "2022-09-12T13:59:58.936753Z",
     "iopub.status.idle": "2022-09-12T14:07:10.443899Z",
     "shell.execute_reply": "2022-09-12T14:07:10.442944Z"
    },
    "pycharm": {
     "name": "#%%\n"
    }
   },
   "outputs": [
    {
     "data": {
      "text/html": [
       "<div>\n",
       "<style scoped>\n",
       "    .dataframe tbody tr th:only-of-type {\n",
       "        vertical-align: middle;\n",
       "    }\n",
       "\n",
       "    .dataframe tbody tr th {\n",
       "        vertical-align: top;\n",
       "    }\n",
       "\n",
       "    .dataframe thead th {\n",
       "        text-align: right;\n",
       "    }\n",
       "</style>\n",
       "<table border=\"1\" class=\"dataframe\">\n",
       "  <thead>\n",
       "    <tr style=\"text-align: right;\">\n",
       "      <th></th>\n",
       "      <th>dim</th>\n",
       "      <th>dispersion_positive</th>\n",
       "      <th>dispersion_negative</th>\n",
       "      <th>distance</th>\n",
       "    </tr>\n",
       "  </thead>\n",
       "  <tbody>\n",
       "    <tr>\n",
       "      <th>0</th>\n",
       "      <td>768</td>\n",
       "      <td>1.665069e+06</td>\n",
       "      <td>1.069949e+06</td>\n",
       "      <td>1.251342</td>\n",
       "    </tr>\n",
       "    <tr>\n",
       "      <th>1</th>\n",
       "      <td>576</td>\n",
       "      <td>1.665929e+06</td>\n",
       "      <td>1.070749e+06</td>\n",
       "      <td>1.189003</td>\n",
       "    </tr>\n",
       "    <tr>\n",
       "      <th>2</th>\n",
       "      <td>384</td>\n",
       "      <td>1.665837e+06</td>\n",
       "      <td>1.070677e+06</td>\n",
       "      <td>1.188894</td>\n",
       "    </tr>\n",
       "    <tr>\n",
       "      <th>3</th>\n",
       "      <td>192</td>\n",
       "      <td>1.665245e+06</td>\n",
       "      <td>1.070195e+06</td>\n",
       "      <td>1.214624</td>\n",
       "    </tr>\n",
       "    <tr>\n",
       "      <th>4</th>\n",
       "      <td>96</td>\n",
       "      <td>1.664408e+06</td>\n",
       "      <td>1.069640e+06</td>\n",
       "      <td>1.216426</td>\n",
       "    </tr>\n",
       "    <tr>\n",
       "      <th>5</th>\n",
       "      <td>48</td>\n",
       "      <td>1.661735e+06</td>\n",
       "      <td>1.067368e+06</td>\n",
       "      <td>1.310085</td>\n",
       "    </tr>\n",
       "    <tr>\n",
       "      <th>6</th>\n",
       "      <td>24</td>\n",
       "      <td>1.656986e+06</td>\n",
       "      <td>1.063510e+06</td>\n",
       "      <td>1.414011</td>\n",
       "    </tr>\n",
       "    <tr>\n",
       "      <th>7</th>\n",
       "      <td>12</td>\n",
       "      <td>1.646610e+06</td>\n",
       "      <td>1.055193e+06</td>\n",
       "      <td>1.569133</td>\n",
       "    </tr>\n",
       "    <tr>\n",
       "      <th>8</th>\n",
       "      <td>6</td>\n",
       "      <td>1.622480e+06</td>\n",
       "      <td>1.036313e+06</td>\n",
       "      <td>1.808590</td>\n",
       "    </tr>\n",
       "    <tr>\n",
       "      <th>9</th>\n",
       "      <td>3</td>\n",
       "      <td>1.583517e+06</td>\n",
       "      <td>1.001442e+06</td>\n",
       "      <td>1.307229</td>\n",
       "    </tr>\n",
       "  </tbody>\n",
       "</table>\n",
       "</div>"
      ],
      "text/plain": [
       "   dim  dispersion_positive  dispersion_negative  distance\n",
       "0  768         1.665069e+06         1.069949e+06  1.251342\n",
       "1  576         1.665929e+06         1.070749e+06  1.189003\n",
       "2  384         1.665837e+06         1.070677e+06  1.188894\n",
       "3  192         1.665245e+06         1.070195e+06  1.214624\n",
       "4   96         1.664408e+06         1.069640e+06  1.216426\n",
       "5   48         1.661735e+06         1.067368e+06  1.310085\n",
       "6   24         1.656986e+06         1.063510e+06  1.414011\n",
       "7   12         1.646610e+06         1.055193e+06  1.569133\n",
       "8    6         1.622480e+06         1.036313e+06  1.808590\n",
       "9    3         1.583517e+06         1.001442e+06  1.307229"
      ]
     },
     "execution_count": 8,
     "metadata": {},
     "output_type": "execute_result"
    }
   ],
   "source": [
    "import pandas as pd\n",
    "\n",
    "cluster_analysis = pd.DataFrame.from_records(list(analysis(dataset.data)))\n",
    "cluster_analysis[['dim', 'dispersion_positive', 'dispersion_negative', 'distance']]"
   ]
  },
  {
   "cell_type": "code",
   "execution_count": 9,
   "metadata": {
    "collapsed": false,
    "execution": {
     "iopub.execute_input": "2022-09-12T14:07:10.448731Z",
     "iopub.status.busy": "2022-09-12T14:07:10.448134Z",
     "iopub.status.idle": "2022-09-12T14:13:15.743497Z",
     "shell.execute_reply": "2022-09-12T14:13:15.742484Z"
    },
    "pycharm": {
     "name": "#%%\n"
    }
   },
   "outputs": [
    {
     "data": {
      "text/html": [
       "<div>\n",
       "<style scoped>\n",
       "    .dataframe tbody tr th:only-of-type {\n",
       "        vertical-align: middle;\n",
       "    }\n",
       "\n",
       "    .dataframe tbody tr th {\n",
       "        vertical-align: top;\n",
       "    }\n",
       "\n",
       "    .dataframe thead th {\n",
       "        text-align: right;\n",
       "    }\n",
       "</style>\n",
       "<table border=\"1\" class=\"dataframe\">\n",
       "  <thead>\n",
       "    <tr style=\"text-align: right;\">\n",
       "      <th></th>\n",
       "      <th>dim</th>\n",
       "      <th>dispersion_positive</th>\n",
       "      <th>dispersion_negative</th>\n",
       "      <th>distance</th>\n",
       "    </tr>\n",
       "  </thead>\n",
       "  <tbody>\n",
       "    <tr>\n",
       "      <th>0</th>\n",
       "      <td>768</td>\n",
       "      <td>1.665069e+06</td>\n",
       "      <td>1.069949e+06</td>\n",
       "      <td>1.251342</td>\n",
       "    </tr>\n",
       "    <tr>\n",
       "      <th>1</th>\n",
       "      <td>576</td>\n",
       "      <td>1.665990e+06</td>\n",
       "      <td>1.070803e+06</td>\n",
       "      <td>1.184022</td>\n",
       "    </tr>\n",
       "    <tr>\n",
       "      <th>2</th>\n",
       "      <td>384</td>\n",
       "      <td>1.665881e+06</td>\n",
       "      <td>1.070745e+06</td>\n",
       "      <td>1.183920</td>\n",
       "    </tr>\n",
       "    <tr>\n",
       "      <th>3</th>\n",
       "      <td>192</td>\n",
       "      <td>1.665307e+06</td>\n",
       "      <td>1.070273e+06</td>\n",
       "      <td>1.206436</td>\n",
       "    </tr>\n",
       "    <tr>\n",
       "      <th>4</th>\n",
       "      <td>96</td>\n",
       "      <td>1.664282e+06</td>\n",
       "      <td>1.069415e+06</td>\n",
       "      <td>1.232434</td>\n",
       "    </tr>\n",
       "    <tr>\n",
       "      <th>5</th>\n",
       "      <td>48</td>\n",
       "      <td>1.661879e+06</td>\n",
       "      <td>1.067403e+06</td>\n",
       "      <td>1.309405</td>\n",
       "    </tr>\n",
       "    <tr>\n",
       "      <th>6</th>\n",
       "      <td>24</td>\n",
       "      <td>1.656779e+06</td>\n",
       "      <td>1.063651e+06</td>\n",
       "      <td>1.410591</td>\n",
       "    </tr>\n",
       "    <tr>\n",
       "      <th>7</th>\n",
       "      <td>12</td>\n",
       "      <td>1.644861e+06</td>\n",
       "      <td>1.053681e+06</td>\n",
       "      <td>1.685063</td>\n",
       "    </tr>\n",
       "    <tr>\n",
       "      <th>8</th>\n",
       "      <td>6</td>\n",
       "      <td>1.626873e+06</td>\n",
       "      <td>1.039705e+06</td>\n",
       "      <td>1.586060</td>\n",
       "    </tr>\n",
       "    <tr>\n",
       "      <th>9</th>\n",
       "      <td>3</td>\n",
       "      <td>1.578766e+06</td>\n",
       "      <td>9.972874e+05</td>\n",
       "      <td>1.550226</td>\n",
       "    </tr>\n",
       "  </tbody>\n",
       "</table>\n",
       "</div>"
      ],
      "text/plain": [
       "   dim  dispersion_positive  dispersion_negative  distance\n",
       "0  768         1.665069e+06         1.069949e+06  1.251342\n",
       "1  576         1.665990e+06         1.070803e+06  1.184022\n",
       "2  384         1.665881e+06         1.070745e+06  1.183920\n",
       "3  192         1.665307e+06         1.070273e+06  1.206436\n",
       "4   96         1.664282e+06         1.069415e+06  1.232434\n",
       "5   48         1.661879e+06         1.067403e+06  1.309405\n",
       "6   24         1.656779e+06         1.063651e+06  1.410591\n",
       "7   12         1.644861e+06         1.053681e+06  1.685063\n",
       "8    6         1.626873e+06         1.039705e+06  1.586060\n",
       "9    3         1.578766e+06         9.972874e+05  1.550226"
      ]
     },
     "execution_count": 9,
     "metadata": {},
     "output_type": "execute_result"
    }
   ],
   "source": [
    "import pandas as pd\n",
    "\n",
    "cluster_analysis = pd.DataFrame.from_records(list(analysis(dataset.data)))\n",
    "cluster_analysis[['dim', 'dispersion_positive', 'dispersion_negative', 'distance']]"
   ]
  },
  {
   "cell_type": "code",
   "execution_count": 10,
   "metadata": {
    "collapsed": false,
    "execution": {
     "iopub.execute_input": "2022-09-12T14:13:15.748331Z",
     "iopub.status.busy": "2022-09-12T14:13:15.747736Z",
     "iopub.status.idle": "2022-09-12T14:13:15.756224Z",
     "shell.execute_reply": "2022-09-12T14:13:15.755466Z"
    },
    "pycharm": {
     "name": "#%%\n"
    }
   },
   "outputs": [],
   "source": [
    "cluster_analysis[['dim', 'dispersion_positive', 'dispersion_negative', 'distance']].to_csv('./cluster_analysis.csv')"
   ]
  }
 ],
 "metadata": {
  "kernelspec": {
   "display_name": "Python 3",
   "language": "python",
   "name": "python3"
  },
  "language_info": {
   "codemirror_mode": {
    "name": "ipython",
    "version": 3
   },
   "file_extension": ".py",
   "mimetype": "text/x-python",
   "name": "python",
   "nbconvert_exporter": "python",
   "pygments_lexer": "ipython3",
   "version": "3.8.5"
  }
 },
 "nbformat": 4,
 "nbformat_minor": 0
}