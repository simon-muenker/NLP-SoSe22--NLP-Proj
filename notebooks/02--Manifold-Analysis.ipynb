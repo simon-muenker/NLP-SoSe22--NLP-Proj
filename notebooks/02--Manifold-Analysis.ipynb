{
 "cells": [
  {
   "cell_type": "code",
   "execution_count": 1,
   "metadata": {
    "collapsed": false,
    "execution": {
     "iopub.execute_input": "2022-09-12T08:13:50.821847Z",
     "iopub.status.busy": "2022-09-12T08:13:50.820749Z",
     "iopub.status.idle": "2022-09-12T08:13:50.852381Z",
     "shell.execute_reply": "2022-09-12T08:13:50.842602Z"
    },
    "pycharm": {
     "name": "#%%\n"
    }
   },
   "outputs": [
    {
     "name": "stdout",
     "output_type": "stream",
     "text": [
      "env: CUDA_DEVICE_ORDER=PCI_BUS_ID\n",
      "env: CUDA_VISIBLE_DEVICES=1\n"
     ]
    }
   ],
   "source": [
    "%env CUDA_DEVICE_ORDER=PCI_BUS_ID\n",
    "%env CUDA_VISIBLE_DEVICES=1"
   ]
  },
  {
   "cell_type": "code",
   "execution_count": 2,
   "metadata": {
    "collapsed": false,
    "execution": {
     "iopub.execute_input": "2022-09-12T08:13:50.906124Z",
     "iopub.status.busy": "2022-09-12T08:13:50.905815Z",
     "iopub.status.idle": "2022-09-12T08:13:50.910412Z",
     "shell.execute_reply": "2022-09-12T08:13:50.909804Z"
    },
    "pycharm": {
     "name": "#%%\n"
    }
   },
   "outputs": [],
   "source": [
    "import os\n",
    "import sys\n",
    "\n",
    "module_path = os.path.abspath(os.path.join('..'))\n",
    "\n",
    "if module_path not in sys.path:\n",
    "    sys.path.append(module_path)"
   ]
  },
  {
   "cell_type": "code",
   "execution_count": 3,
   "metadata": {
    "collapsed": false,
    "execution": {
     "iopub.execute_input": "2022-09-12T08:13:50.913413Z",
     "iopub.status.busy": "2022-09-12T08:13:50.913112Z",
     "iopub.status.idle": "2022-09-12T08:13:52.218504Z",
     "shell.execute_reply": "2022-09-12T08:13:52.217605Z"
    },
    "pycharm": {
     "name": "#%%\n"
    }
   },
   "outputs": [],
   "source": [
    "from classifier import Data\n",
    "\n",
    "dataset = Data(\n",
    "    data_path = \"../data/imdb._debug.csv\",\n",
    "    polarities = {\n",
    "      \"negative\": 0,\n",
    "      \"positive\": 1\n",
    "    },\n",
    "    data_label='review',\n",
    "    target_label='sentiment'\n",
    ")"
   ]
  },
  {
   "cell_type": "code",
   "execution_count": 4,
   "metadata": {
    "collapsed": false,
    "execution": {
     "iopub.execute_input": "2022-09-12T08:13:52.228081Z",
     "iopub.status.busy": "2022-09-12T08:13:52.224471Z",
     "iopub.status.idle": "2022-09-12T08:14:04.526076Z",
     "shell.execute_reply": "2022-09-12T08:14:04.524211Z"
    },
    "pycharm": {
     "name": "#%%\n"
    }
   },
   "outputs": [],
   "source": [
    "from classifier._neural import Encoder\n",
    "\n",
    "enc = Encoder({\n",
    "    'model': 'bert-base-uncased',\n",
    "    'layers': [11]\n",
    "})"
   ]
  },
  {
   "cell_type": "code",
   "execution_count": 5,
   "metadata": {
    "collapsed": false,
    "execution": {
     "iopub.execute_input": "2022-09-12T08:14:04.531386Z",
     "iopub.status.busy": "2022-09-12T08:14:04.530487Z",
     "iopub.status.idle": "2022-09-12T08:14:05.248624Z",
     "shell.execute_reply": "2022-09-12T08:14:05.247957Z"
    },
    "pycharm": {
     "name": "#%%\n"
    }
   },
   "outputs": [
    {
     "name": "stderr",
     "output_type": "stream",
     "text": [
      "                                                                                                                                                                                                                                                                                                                                                                          \r"
     ]
    }
   ],
   "source": [
    "enc.df_encode(dataset.data, col=dataset.data_label, label=dataset.data_path)"
   ]
  },
  {
   "cell_type": "code",
   "execution_count": 6,
   "metadata": {
    "collapsed": false,
    "execution": {
     "iopub.execute_input": "2022-09-12T08:14:05.252078Z",
     "iopub.status.busy": "2022-09-12T08:14:05.251723Z",
     "iopub.status.idle": "2022-09-12T08:14:05.704231Z",
     "shell.execute_reply": "2022-09-12T08:14:05.703475Z"
    },
    "pycharm": {
     "name": "#%%\n"
    }
   },
   "outputs": [],
   "source": [
    "import numpy as np\n",
    "from sklearn.manifold import MDS\n",
    "\n",
    "def manifold_reduction(data: np.ndarray, dim: int = 3) -> np.ndarray:\n",
    "    return MDS(n_components=dim).fit_transform(data)"
   ]
  },
  {
   "cell_type": "code",
   "execution_count": 7,
   "metadata": {
    "collapsed": false,
    "execution": {
     "iopub.execute_input": "2022-09-12T08:14:05.708447Z",
     "iopub.status.busy": "2022-09-12T08:14:05.707772Z",
     "iopub.status.idle": "2022-09-12T08:14:05.731980Z",
     "shell.execute_reply": "2022-09-12T08:14:05.731229Z"
    },
    "pycharm": {
     "name": "#%%\n"
    }
   },
   "outputs": [],
   "source": [
    "from typing import Generator\n",
    "import torch\n",
    "import numpy as np\n",
    "import pandas as pd\n",
    "from scipy.spatial import distance\n",
    "\n",
    "\n",
    "def analysis(\n",
    "        data: pd.DataFrame,\n",
    "        dim: list = None\n",
    ") -> Generator:\n",
    "    if dim is None:\n",
    "        dim = [768, 384, 192, 96, 48, 24, 12, 6, 3]\n",
    "\n",
    "    embed_col: np.ndarray = torch.stack(data[enc.col_name].tolist()).numpy()\n",
    "\n",
    "    for d in dim:\n",
    "\n",
    "        # create record to keep row data\n",
    "        record: dict = {'dim': d}\n",
    "\n",
    "        # if reduction size is equal to encoder output dim, skip manifold reduction\n",
    "        if d == enc.dim:\n",
    "            data['reduced_embeds'] = list(embed_col)\n",
    "        else:\n",
    "            data['reduced_embeds'] = list(manifold_reduction(embed_col, dim=d))\n",
    "\n",
    "        # compute centroid means and dispersion for each cluster\n",
    "        for label, group in data.groupby(dataset.target_label):\n",
    "            record[f'centroid_{label}'] = np.mean(np.stack(group['reduced_embeds'].tolist(), axis=0), axis=0).tolist()\n",
    "            record[f'dispersion_{label}'] = np.sum(distance.pdist(group['reduced_embeds'].tolist()))\n",
    "\n",
    "        record['distance'] = distance.cdist([record['centroid_positive']], [record['centroid_negative']])\n",
    "\n",
    "        yield record"
   ]
  },
  {
   "cell_type": "code",
   "execution_count": 8,
   "metadata": {
    "collapsed": false,
    "execution": {
     "iopub.execute_input": "2022-09-12T08:14:05.735059Z",
     "iopub.status.busy": "2022-09-12T08:14:05.734748Z",
     "iopub.status.idle": "2022-09-12T08:14:07.889612Z",
     "shell.execute_reply": "2022-09-12T08:14:07.888873Z"
    },
    "pycharm": {
     "name": "#%%\n"
    }
   },
   "outputs": [
    {
     "data": {
      "text/html": [
       "<div>\n",
       "<style scoped>\n",
       "    .dataframe tbody tr th:only-of-type {\n",
       "        vertical-align: middle;\n",
       "    }\n",
       "\n",
       "    .dataframe tbody tr th {\n",
       "        vertical-align: top;\n",
       "    }\n",
       "\n",
       "    .dataframe thead th {\n",
       "        text-align: right;\n",
       "    }\n",
       "</style>\n",
       "<table border=\"1\" class=\"dataframe\">\n",
       "  <thead>\n",
       "    <tr style=\"text-align: right;\">\n",
       "      <th></th>\n",
       "      <th>dim</th>\n",
       "      <th>centroid_negative</th>\n",
       "      <th>dispersion_negative</th>\n",
       "      <th>centroid_positive</th>\n",
       "      <th>dispersion_positive</th>\n",
       "      <th>distance</th>\n",
       "    </tr>\n",
       "  </thead>\n",
       "  <tbody>\n",
       "    <tr>\n",
       "      <th>0</th>\n",
       "      <td>768</td>\n",
       "      <td>[-0.05271393805742264, -0.11926598846912384, 0...</td>\n",
       "      <td>2937.050055</td>\n",
       "      <td>[-0.15186531841754913, -0.03394192084670067, 0...</td>\n",
       "      <td>740.529710</td>\n",
       "      <td>[[3.0358365653848836]]</td>\n",
       "    </tr>\n",
       "    <tr>\n",
       "      <th>1</th>\n",
       "      <td>384</td>\n",
       "      <td>[0.03381492741932707, -0.04140750866488096, 0....</td>\n",
       "      <td>2939.310436</td>\n",
       "      <td>[-0.07023100310167933, 0.08600021030398339, -0...</td>\n",
       "      <td>741.413989</td>\n",
       "      <td>[[3.00779268375431]]</td>\n",
       "    </tr>\n",
       "    <tr>\n",
       "      <th>2</th>\n",
       "      <td>192</td>\n",
       "      <td>[0.04444726154356465, 0.05418843001541997, -0....</td>\n",
       "      <td>2939.130094</td>\n",
       "      <td>[-0.09231354320586505, -0.1125452008012569, 0....</td>\n",
       "      <td>741.335642</td>\n",
       "      <td>[[3.0080284294568846]]</td>\n",
       "    </tr>\n",
       "    <tr>\n",
       "      <th>3</th>\n",
       "      <td>96</td>\n",
       "      <td>[0.021120708305122034, -0.09543997923958604, 0...</td>\n",
       "      <td>2938.916278</td>\n",
       "      <td>[-0.04386608647986888, 0.19822149534375566, -0...</td>\n",
       "      <td>741.575287</td>\n",
       "      <td>[[2.9822537816317483]]</td>\n",
       "    </tr>\n",
       "    <tr>\n",
       "      <th>4</th>\n",
       "      <td>48</td>\n",
       "      <td>[0.10484707443004394, -0.11290730010583819, -0...</td>\n",
       "      <td>2936.515351</td>\n",
       "      <td>[-0.21775930843162966, 0.23449977714289483, 0....</td>\n",
       "      <td>739.894916</td>\n",
       "      <td>[[3.0641653027630857]]</td>\n",
       "    </tr>\n",
       "    <tr>\n",
       "      <th>5</th>\n",
       "      <td>24</td>\n",
       "      <td>[0.4245985475647291, 0.11885078813885468, -0.4...</td>\n",
       "      <td>2932.804027</td>\n",
       "      <td>[-0.8818585218652066, -0.24684394459608286, 0....</td>\n",
       "      <td>738.263493</td>\n",
       "      <td>[[3.113300690621971]]</td>\n",
       "    </tr>\n",
       "    <tr>\n",
       "      <th>6</th>\n",
       "      <td>12</td>\n",
       "      <td>[0.15022901715408205, 0.05824877986172345, 0.3...</td>\n",
       "      <td>2926.277040</td>\n",
       "      <td>[-0.31201411255078576, -0.12097823509742583, -...</td>\n",
       "      <td>743.144644</td>\n",
       "      <td>[[2.8600940965315838]]</td>\n",
       "    </tr>\n",
       "    <tr>\n",
       "      <th>7</th>\n",
       "      <td>6</td>\n",
       "      <td>[0.33139201186619477, -0.22066486211003652, -0...</td>\n",
       "      <td>2888.542600</td>\n",
       "      <td>[-0.6882757169528664, 0.4583039443823837, 1.31...</td>\n",
       "      <td>734.453189</td>\n",
       "      <td>[[3.1294672222006956]]</td>\n",
       "    </tr>\n",
       "    <tr>\n",
       "      <th>8</th>\n",
       "      <td>3</td>\n",
       "      <td>[0.6324503236432255, -0.40516824460721473, 0.4...</td>\n",
       "      <td>2788.403979</td>\n",
       "      <td>[-1.313550672182084, 0.8415032772611386, -1.03...</td>\n",
       "      <td>738.424212</td>\n",
       "      <td>[[2.771629463885227]]</td>\n",
       "    </tr>\n",
       "  </tbody>\n",
       "</table>\n",
       "</div>"
      ],
      "text/plain": [
       "   dim                                  centroid_negative  \\\n",
       "0  768  [-0.05271393805742264, -0.11926598846912384, 0...   \n",
       "1  384  [0.03381492741932707, -0.04140750866488096, 0....   \n",
       "2  192  [0.04444726154356465, 0.05418843001541997, -0....   \n",
       "3   96  [0.021120708305122034, -0.09543997923958604, 0...   \n",
       "4   48  [0.10484707443004394, -0.11290730010583819, -0...   \n",
       "5   24  [0.4245985475647291, 0.11885078813885468, -0.4...   \n",
       "6   12  [0.15022901715408205, 0.05824877986172345, 0.3...   \n",
       "7    6  [0.33139201186619477, -0.22066486211003652, -0...   \n",
       "8    3  [0.6324503236432255, -0.40516824460721473, 0.4...   \n",
       "\n",
       "   dispersion_negative                                  centroid_positive  \\\n",
       "0          2937.050055  [-0.15186531841754913, -0.03394192084670067, 0...   \n",
       "1          2939.310436  [-0.07023100310167933, 0.08600021030398339, -0...   \n",
       "2          2939.130094  [-0.09231354320586505, -0.1125452008012569, 0....   \n",
       "3          2938.916278  [-0.04386608647986888, 0.19822149534375566, -0...   \n",
       "4          2936.515351  [-0.21775930843162966, 0.23449977714289483, 0....   \n",
       "5          2932.804027  [-0.8818585218652066, -0.24684394459608286, 0....   \n",
       "6          2926.277040  [-0.31201411255078576, -0.12097823509742583, -...   \n",
       "7          2888.542600  [-0.6882757169528664, 0.4583039443823837, 1.31...   \n",
       "8          2788.403979  [-1.313550672182084, 0.8415032772611386, -1.03...   \n",
       "\n",
       "   dispersion_positive                distance  \n",
       "0           740.529710  [[3.0358365653848836]]  \n",
       "1           741.413989    [[3.00779268375431]]  \n",
       "2           741.335642  [[3.0080284294568846]]  \n",
       "3           741.575287  [[2.9822537816317483]]  \n",
       "4           739.894916  [[3.0641653027630857]]  \n",
       "5           738.263493   [[3.113300690621971]]  \n",
       "6           743.144644  [[2.8600940965315838]]  \n",
       "7           734.453189  [[3.1294672222006956]]  \n",
       "8           738.424212   [[2.771629463885227]]  "
      ]
     },
     "execution_count": 8,
     "metadata": {},
     "output_type": "execute_result"
    }
   ],
   "source": [
    "import pandas as pd\n",
    "\n",
    "cluster_analysis = pd.DataFrame.from_records(list(analysis(dataset.data)))\n",
    "cluster_analysis"
   ]
  },
  {
   "cell_type": "code",
   "execution_count": 9,
   "metadata": {
    "collapsed": false,
    "execution": {
     "iopub.execute_input": "2022-09-12T08:14:07.965410Z",
     "iopub.status.busy": "2022-09-12T08:14:07.965062Z",
     "iopub.status.idle": "2022-09-12T08:14:07.988576Z",
     "shell.execute_reply": "2022-09-12T08:14:07.987951Z"
    },
    "pycharm": {
     "name": "#%%\n"
    }
   },
   "outputs": [],
   "source": [
    "cluster_analysis.to_csv('./cluster_analysis.csv')"
   ]
  }
 ],
 "metadata": {
  "kernelspec": {
   "display_name": "Python 3",
   "language": "python",
   "name": "python3"
  },
  "language_info": {
   "codemirror_mode": {
    "name": "ipython",
    "version": 3
   },
   "file_extension": ".py",
   "mimetype": "text/x-python",
   "name": "python",
   "nbconvert_exporter": "python",
   "pygments_lexer": "ipython3",
   "version": "3.8.5"
  }
 },
 "nbformat": 4,
 "nbformat_minor": 0
}
