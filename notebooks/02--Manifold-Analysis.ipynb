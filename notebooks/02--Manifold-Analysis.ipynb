{
 "cells": [
  {
   "cell_type": "code",
   "execution_count": 1,
   "metadata": {
    "collapsed": false,
    "execution": {
     "iopub.execute_input": "2022-09-07T16:30:07.683897Z",
     "iopub.status.busy": "2022-09-07T16:30:07.683195Z",
     "iopub.status.idle": "2022-09-07T16:30:07.696861Z",
     "shell.execute_reply": "2022-09-07T16:30:07.695949Z"
    },
    "pycharm": {
     "name": "#%%\n"
    }
   },
   "outputs": [
    {
     "name": "stdout",
     "output_type": "stream",
     "text": [
      "env: CUDA_DEVICE_ORDER=PCI_BUS_ID\n",
      "env: CUDA_VISIBLE_DEVICES=1\n"
     ]
    }
   ],
   "source": [
    "%env CUDA_DEVICE_ORDER=PCI_BUS_ID\n",
    "%env CUDA_VISIBLE_DEVICES=1"
   ]
  },
  {
   "cell_type": "code",
   "execution_count": 2,
   "metadata": {
    "collapsed": false,
    "execution": {
     "iopub.execute_input": "2022-09-07T16:30:07.734694Z",
     "iopub.status.busy": "2022-09-07T16:30:07.734307Z",
     "iopub.status.idle": "2022-09-07T16:30:07.741252Z",
     "shell.execute_reply": "2022-09-07T16:30:07.740065Z"
    },
    "pycharm": {
     "name": "#%%\n"
    }
   },
   "outputs": [],
   "source": [
    "import os\n",
    "import sys\n",
    "\n",
    "module_path = os.path.abspath(os.path.join('..'))\n",
    "\n",
    "if module_path not in sys.path:\n",
    "    sys.path.append(module_path)"
   ]
  },
  {
   "cell_type": "code",
   "execution_count": 3,
   "metadata": {
    "collapsed": false,
    "execution": {
     "iopub.execute_input": "2022-09-07T16:30:07.745677Z",
     "iopub.status.busy": "2022-09-07T16:30:07.745125Z",
     "iopub.status.idle": "2022-09-07T16:30:08.835321Z",
     "shell.execute_reply": "2022-09-07T16:30:08.834223Z"
    },
    "pycharm": {
     "name": "#%%\n"
    }
   },
   "outputs": [],
   "source": [
    "from classifier import Data\n",
    "\n",
    "dataset = Data(\n",
    "    data_path = \"../data/imdb.train.csv\",\n",
    "    polarities = {\n",
    "      \"negative\": 0,\n",
    "      \"positive\": 1\n",
    "    },\n",
    "    data_label='review',\n",
    "    target_label='sentiment'\n",
    ")"
   ]
  },
  {
   "cell_type": "code",
   "execution_count": 4,
   "metadata": {
    "collapsed": false,
    "execution": {
     "iopub.execute_input": "2022-09-07T16:30:08.841254Z",
     "iopub.status.busy": "2022-09-07T16:30:08.841015Z",
     "iopub.status.idle": "2022-09-07T16:30:18.931634Z",
     "shell.execute_reply": "2022-09-07T16:30:18.930014Z"
    },
    "pycharm": {
     "name": "#%%\n"
    }
   },
   "outputs": [],
   "source": [
    "from classifier._neural import Encoder\n",
    "\n",
    "enc = Encoder({\n",
    "    'model': 'bert-base-uncased',\n",
    "    'layers': [11]\n",
    "})"
   ]
  },
  {
   "cell_type": "code",
   "execution_count": 5,
   "metadata": {
    "collapsed": false,
    "execution": {
     "iopub.execute_input": "2022-09-07T16:30:18.938370Z",
     "iopub.status.busy": "2022-09-07T16:30:18.937554Z",
     "iopub.status.idle": "2022-09-07T16:34:34.805310Z",
     "shell.execute_reply": "2022-09-07T16:34:34.804307Z"
    },
    "pycharm": {
     "name": "#%%\n"
    }
   },
   "outputs": [
    {
     "name": "stderr",
     "output_type": "stream",
     "text": [
      "                                                                                                                                                                                                                                                                                                                                                                          \r"
     ]
    }
   ],
   "source": [
    "enc.df_encode(dataset.data, col=dataset.data_label, label=dataset.data_path)"
   ]
  },
  {
   "cell_type": "code",
   "execution_count": 6,
   "metadata": {
    "collapsed": false,
    "execution": {
     "iopub.execute_input": "2022-09-07T16:34:34.812169Z",
     "iopub.status.busy": "2022-09-07T16:34:34.811762Z",
     "iopub.status.idle": "2022-09-07T16:34:35.144475Z",
     "shell.execute_reply": "2022-09-07T16:34:35.143810Z"
    },
    "pycharm": {
     "name": "#%%\n"
    }
   },
   "outputs": [],
   "source": [
    "import numpy as np\n",
    "from sklearn.manifold import TSNE\n",
    "\n",
    "def manifold_reduction(data: np.ndarray, dim: int = 3):\n",
    "    reduction = TSNE(\n",
    "            n_components=dim,\n",
    "            learning_rate='auto',\n",
    "            init='random'\n",
    "        ).fit_transform(data)\n",
    "\n",
    "    return reduction"
   ]
  },
  {
   "cell_type": "code",
   "execution_count": 7,
   "metadata": {
    "collapsed": false,
    "execution": {
     "iopub.execute_input": "2022-09-07T16:34:35.150238Z",
     "iopub.status.busy": "2022-09-07T16:34:35.149881Z",
     "iopub.status.idle": "2022-09-07T16:34:35.175840Z",
     "shell.execute_reply": "2022-09-07T16:34:35.175048Z"
    },
    "pycharm": {
     "name": "#%%\n"
    }
   },
   "outputs": [],
   "source": [
    "import torch\n",
    "\n",
    "prepared_data: np.ndarray = torch.stack(dataset.data[enc.col_name].tolist()).numpy()"
   ]
  },
  {
   "cell_type": "code",
   "execution_count": 8,
   "metadata": {
    "collapsed": false,
    "execution": {
     "iopub.execute_input": "2022-09-07T16:34:35.181583Z",
     "iopub.status.busy": "2022-09-07T16:34:35.181217Z",
     "iopub.status.idle": "2022-09-07T16:36:45.203739Z",
     "shell.execute_reply": "2022-09-07T16:36:45.202519Z"
    },
    "pycharm": {
     "name": "#%%\n"
    }
   },
   "outputs": [
    {
     "name": "stdout",
     "output_type": "stream",
     "text": [
      "(20170, 3)\n",
      "[[-18.51659     7.582781  -24.024925 ]\n",
      " [-12.772982   27.582376  -23.179518 ]\n",
      " [ 25.413723   -4.5783253  -2.5348687]\n",
      " ...\n",
      " [-20.305302   35.565216   -8.993268 ]\n",
      " [-31.323011    6.9636855  -4.002194 ]\n",
      " [ 34.783485  -10.329163    5.2391167]]\n"
     ]
    }
   ],
   "source": [
    "reduced_data = manifold_reduction(prepared_data)\n",
    "\n",
    "print(reduced_data.shape)\n",
    "print(reduced_data)\n",
    "# dataset.data['reduced_embeds'] = manifold_reduction(prepared_data)"
   ]
  },
  {
   "cell_type": "code",
   "execution_count": 9,
   "metadata": {
    "collapsed": false,
    "execution": {
     "iopub.execute_input": "2022-09-07T16:36:45.208962Z",
     "iopub.status.busy": "2022-09-07T16:36:45.208682Z",
     "iopub.status.idle": "2022-09-07T16:36:45.559255Z",
     "shell.execute_reply": "2022-09-07T16:36:45.558271Z"
    },
    "pycharm": {
     "name": "#%%\n"
    }
   },
   "outputs": [
    {
     "name": "stdout",
     "output_type": "stream",
     "text": [
      "                                                  review sentiment  \\\n",
      "1      This is a strange sex comedy because there`s v...  negative   \n",
      "3      The premise is ridiculous, the characters unbe...  negative   \n",
      "5      This was just a terrible movie. It hurt me to ...  negative   \n",
      "6      I cannot say that Aag is the worst Bollywood f...  negative   \n",
      "13     I firmly believe that the best Oscar ceremony ...  negative   \n",
      "...                                                  ...       ...   \n",
      "20164  Former brat pack actor and all round pretty bo...  negative   \n",
      "20165  The plot of 'Edison' was decent, but one actor...  negative   \n",
      "20166  Amateurism best describes the film adaptation ...  negative   \n",
      "20167  After having seen the movie the first question...  negative   \n",
      "20169  Sholay: Considered to be one of the greatest f...  negative   \n",
      "\n",
      "                                              prediction  \n",
      "1      [tensor(-0.2426), tensor(-0.2292), tensor(0.58...  \n",
      "3      [tensor(0.1673), tensor(-0.1038), tensor(0.331...  \n",
      "5      [tensor(-0.0192), tensor(-0.2233), tensor(0.37...  \n",
      "6      [tensor(0.0318), tensor(0.0445), tensor(0.1682...  \n",
      "13     [tensor(-0.3634), tensor(0.0249), tensor(0.408...  \n",
      "...                                                  ...  \n",
      "20164  [tensor(0.1454), tensor(-0.3838), tensor(0.535...  \n",
      "20165  [tensor(0.2097), tensor(-0.1760), tensor(0.160...  \n",
      "20166  [tensor(0.2293), tensor(-0.0312), tensor(0.332...  \n",
      "20167  [tensor(0.1255), tensor(-0.3455), tensor(0.216...  \n",
      "20169  [tensor(-0.4615), tensor(-0.4739), tensor(0.04...  \n",
      "\n",
      "[8928 rows x 3 columns]\n",
      "                                                  review sentiment  \\\n",
      "0      John Carpenter's Halloween is quite frankly a ...  positive   \n",
      "2      My friends and I were just discussing how frus...  positive   \n",
      "4      I enjoyed every moment of this beautiful film ...  positive   \n",
      "7      Every great gangster movie has under-currents ...  positive   \n",
      "8      Simply one of the best ever! Richard Brooks' a...  positive   \n",
      "...                                                  ...       ...   \n",
      "20157  I'm not entirely sure Rob Schmidt qualifies as...  positive   \n",
      "20158  Until today I had never seen this film. Its wa...  positive   \n",
      "20161  Jessica Alba's Max and Valerie Rae Miller's Or...  positive   \n",
      "20162  Too many sources routinely lump this thought-p...  positive   \n",
      "20168  I was taken to this film by a friend and was s...  positive   \n",
      "\n",
      "                                              prediction  \n",
      "0      [tensor(-0.3749), tensor(-0.3184), tensor(0.44...  \n",
      "2      [tensor(-0.1163), tensor(-0.3920), tensor(0.19...  \n",
      "4      [tensor(0.2827), tensor(-0.1200), tensor(0.343...  \n",
      "7      [tensor(-0.3249), tensor(-0.0370), tensor(0.15...  \n",
      "8      [tensor(-0.3523), tensor(-0.4992), tensor(0.61...  \n",
      "...                                                  ...  \n",
      "20157  [tensor(-0.1349), tensor(-0.0492), tensor(0.22...  \n",
      "20158  [tensor(-0.0470), tensor(0.0299), tensor(0.412...  \n",
      "20161  [tensor(-0.0538), tensor(-0.2087), tensor(0.32...  \n",
      "20162  [tensor(-0.2773), tensor(0.0991), tensor(0.218...  \n",
      "20168  [tensor(-0.0166), tensor(-0.1209), tensor(0.33...  \n",
      "\n",
      "[11242 rows x 3 columns]\n"
     ]
    }
   ],
   "source": [
    "for _, group in dataset.data.groupby(dataset.target_label):\n",
    "    print(group)"
   ]
  }
 ],
 "metadata": {
  "kernelspec": {
   "display_name": "Python 3",
   "language": "python",
   "name": "python3"
  },
  "language_info": {
   "codemirror_mode": {
    "name": "ipython",
    "version": 3
   },
   "file_extension": ".py",
   "mimetype": "text/x-python",
   "name": "python",
   "nbconvert_exporter": "python",
   "pygments_lexer": "ipython3",
   "version": "3.8.5"
  }
 },
 "nbformat": 4,
 "nbformat_minor": 0
}
