{
 "cells": [
  {
   "cell_type": "code",
   "execution_count": 1,
   "metadata": {
    "collapsed": false,
    "execution": {
     "iopub.execute_input": "2022-09-12T08:33:54.896595Z",
     "iopub.status.busy": "2022-09-12T08:33:54.896195Z",
     "iopub.status.idle": "2022-09-12T08:33:54.905792Z",
     "shell.execute_reply": "2022-09-12T08:33:54.905216Z"
    },
    "pycharm": {
     "name": "#%%\n"
    }
   },
   "outputs": [
    {
     "name": "stdout",
     "output_type": "stream",
     "text": [
      "env: CUDA_DEVICE_ORDER=PCI_BUS_ID\n",
      "env: CUDA_VISIBLE_DEVICES=1\n"
     ]
    }
   ],
   "source": [
    "%env CUDA_DEVICE_ORDER=PCI_BUS_ID\n",
    "%env CUDA_VISIBLE_DEVICES=1"
   ]
  },
  {
   "cell_type": "code",
   "execution_count": 2,
   "metadata": {
    "collapsed": false,
    "execution": {
     "iopub.execute_input": "2022-09-12T08:33:54.971534Z",
     "iopub.status.busy": "2022-09-12T08:33:54.971203Z",
     "iopub.status.idle": "2022-09-12T08:33:54.975341Z",
     "shell.execute_reply": "2022-09-12T08:33:54.974753Z"
    },
    "pycharm": {
     "name": "#%%\n"
    }
   },
   "outputs": [],
   "source": [
    "import os\n",
    "import sys\n",
    "\n",
    "module_path = os.path.abspath(os.path.join('..'))\n",
    "\n",
    "if module_path not in sys.path:\n",
    "    sys.path.append(module_path)"
   ]
  },
  {
   "cell_type": "code",
   "execution_count": 3,
   "metadata": {
    "collapsed": false,
    "execution": {
     "iopub.execute_input": "2022-09-12T08:33:54.978204Z",
     "iopub.status.busy": "2022-09-12T08:33:54.977827Z",
     "iopub.status.idle": "2022-09-12T08:33:56.392756Z",
     "shell.execute_reply": "2022-09-12T08:33:56.391970Z"
    },
    "pycharm": {
     "name": "#%%\n"
    }
   },
   "outputs": [],
   "source": [
    "from classifier import Data\n",
    "\n",
    "dataset = Data(\n",
    "    data_path = \"../data/imdb._debug.csv\",\n",
    "    polarities = {\n",
    "      \"negative\": 0,\n",
    "      \"positive\": 1\n",
    "    },\n",
    "    data_label='review',\n",
    "    target_label='sentiment'\n",
    ")"
   ]
  },
  {
   "cell_type": "code",
   "execution_count": 4,
   "metadata": {
    "collapsed": false,
    "execution": {
     "iopub.execute_input": "2022-09-12T08:33:56.396579Z",
     "iopub.status.busy": "2022-09-12T08:33:56.396072Z",
     "iopub.status.idle": "2022-09-12T08:34:08.802343Z",
     "shell.execute_reply": "2022-09-12T08:34:08.800259Z"
    },
    "pycharm": {
     "name": "#%%\n"
    }
   },
   "outputs": [],
   "source": [
    "from classifier._neural import Encoder\n",
    "\n",
    "enc = Encoder({\n",
    "    'model': 'bert-base-uncased',\n",
    "    'layers': [11]\n",
    "})"
   ]
  },
  {
   "cell_type": "code",
   "execution_count": 5,
   "metadata": {
    "collapsed": false,
    "execution": {
     "iopub.execute_input": "2022-09-12T08:34:08.807459Z",
     "iopub.status.busy": "2022-09-12T08:34:08.806921Z",
     "iopub.status.idle": "2022-09-12T08:34:09.463527Z",
     "shell.execute_reply": "2022-09-12T08:34:09.462857Z"
    },
    "pycharm": {
     "name": "#%%\n"
    }
   },
   "outputs": [
    {
     "name": "stderr",
     "output_type": "stream",
     "text": [
      "                                                                                                                                                                                                                                                                                                                                                                          \r"
     ]
    }
   ],
   "source": [
    "enc.df_encode(dataset.data, col=dataset.data_label, label=dataset.data_path)"
   ]
  },
  {
   "cell_type": "code",
   "execution_count": 6,
   "metadata": {
    "collapsed": false,
    "execution": {
     "iopub.execute_input": "2022-09-12T08:34:09.478669Z",
     "iopub.status.busy": "2022-09-12T08:34:09.472820Z",
     "iopub.status.idle": "2022-09-12T08:34:10.156855Z",
     "shell.execute_reply": "2022-09-12T08:34:10.155986Z"
    },
    "pycharm": {
     "name": "#%%\n"
    }
   },
   "outputs": [],
   "source": [
    "import numpy as np\n",
    "from sklearn.manifold import MDS\n",
    "\n",
    "def manifold_reduction(data: np.ndarray, dim: int = 3) -> np.ndarray:\n",
    "    return MDS(n_components=dim).fit_transform(data)"
   ]
  },
  {
   "cell_type": "code",
   "execution_count": 7,
   "metadata": {
    "collapsed": false,
    "execution": {
     "iopub.execute_input": "2022-09-12T08:34:10.165646Z",
     "iopub.status.busy": "2022-09-12T08:34:10.159807Z",
     "iopub.status.idle": "2022-09-12T08:34:10.187703Z",
     "shell.execute_reply": "2022-09-12T08:34:10.186940Z"
    },
    "pycharm": {
     "name": "#%%\n"
    }
   },
   "outputs": [],
   "source": [
    "from typing import Generator\n",
    "import torch\n",
    "import numpy as np\n",
    "import pandas as pd\n",
    "from scipy.spatial import distance\n",
    "\n",
    "\n",
    "def analysis(\n",
    "        data: pd.DataFrame,\n",
    "        dim: list = None\n",
    ") -> Generator:\n",
    "    if dim is None:\n",
    "        dim = [768, 576, 384, 192, 96, 48, 24, 12, 6, 3]\n",
    "\n",
    "    embed_col: np.ndarray = torch.stack(data[enc.col_name].tolist()).numpy()\n",
    "\n",
    "    for d in dim:\n",
    "\n",
    "        # create record to keep row data\n",
    "        record: dict = {'dim': d}\n",
    "\n",
    "        # if reduction size is equal to encoder output dim, skip manifold reduction\n",
    "        if d == enc.dim:\n",
    "            data['reduced_embeds'] = list(embed_col)\n",
    "        else:\n",
    "            data['reduced_embeds'] = list(manifold_reduction(embed_col, dim=d))\n",
    "\n",
    "        # compute centroid means and dispersion for each cluster\n",
    "        for label, group in data.groupby(dataset.target_label):\n",
    "            record[f'centroid_{label}'] = np.mean(np.stack(group['reduced_embeds'].tolist(), axis=0), axis=0).tolist()\n",
    "            record[f'dispersion_{label}'] = np.sum(distance.pdist(group['reduced_embeds'].tolist()))\n",
    "\n",
    "        record['distance'] = distance.cdist([record['centroid_positive']], [record['centroid_negative']]).item(0)\n",
    "\n",
    "        yield record"
   ]
  },
  {
   "cell_type": "code",
   "execution_count": null,
   "metadata": {
    "collapsed": false,
    "pycharm": {
     "name": "#%%\n"
    }
   },
   "outputs": [],
   "source": []
  },
  {
   "cell_type": "code",
   "execution_count": 8,
   "metadata": {
    "collapsed": false,
    "execution": {
     "iopub.execute_input": "2022-09-12T08:34:10.277676Z",
     "iopub.status.busy": "2022-09-12T08:34:10.276949Z",
     "iopub.status.idle": "2022-09-12T08:34:12.135116Z",
     "shell.execute_reply": "2022-09-12T08:34:12.134387Z"
    },
    "pycharm": {
     "name": "#%%\n"
    }
   },
   "outputs": [
    {
     "data": {
      "text/html": [
       "<div>\n",
       "<style scoped>\n",
       "    .dataframe tbody tr th:only-of-type {\n",
       "        vertical-align: middle;\n",
       "    }\n",
       "\n",
       "    .dataframe tbody tr th {\n",
       "        vertical-align: top;\n",
       "    }\n",
       "\n",
       "    .dataframe thead th {\n",
       "        text-align: right;\n",
       "    }\n",
       "</style>\n",
       "<table border=\"1\" class=\"dataframe\">\n",
       "  <thead>\n",
       "    <tr style=\"text-align: right;\">\n",
       "      <th></th>\n",
       "      <th>dim</th>\n",
       "      <th>centroid_negative</th>\n",
       "      <th>dispersion_negative</th>\n",
       "      <th>centroid_positive</th>\n",
       "      <th>dispersion_positive</th>\n",
       "      <th>distance</th>\n",
       "    </tr>\n",
       "  </thead>\n",
       "  <tbody>\n",
       "    <tr>\n",
       "      <th>0</th>\n",
       "      <td>768</td>\n",
       "      <td>[-0.05271393805742264, -0.11926598846912384, 0...</td>\n",
       "      <td>2937.050055</td>\n",
       "      <td>[-0.15186531841754913, -0.03394192084670067, 0...</td>\n",
       "      <td>740.529710</td>\n",
       "      <td>3.035837</td>\n",
       "    </tr>\n",
       "    <tr>\n",
       "      <th>1</th>\n",
       "      <td>576</td>\n",
       "      <td>[0.08174261896866489, -0.03410594663792309, 0....</td>\n",
       "      <td>2939.585108</td>\n",
       "      <td>[-0.16977313170415018, 0.07083542763260951, -0...</td>\n",
       "      <td>741.552227</td>\n",
       "      <td>3.001077</td>\n",
       "    </tr>\n",
       "    <tr>\n",
       "      <th>2</th>\n",
       "      <td>384</td>\n",
       "      <td>[0.007851863867035775, -0.0682076032248066, -0...</td>\n",
       "      <td>2938.939624</td>\n",
       "      <td>[-0.01630771726230506, 0.14166194515921363, 0....</td>\n",
       "      <td>741.071362</td>\n",
       "      <td>3.027568</td>\n",
       "    </tr>\n",
       "    <tr>\n",
       "      <th>3</th>\n",
       "      <td>192</td>\n",
       "      <td>[-0.05404731739650713, -0.1041588318174636, -0...</td>\n",
       "      <td>2939.063456</td>\n",
       "      <td>[0.11225212074659163, 0.21632988146703983, 0.0...</td>\n",
       "      <td>741.168906</td>\n",
       "      <td>3.016663</td>\n",
       "    </tr>\n",
       "    <tr>\n",
       "      <th>4</th>\n",
       "      <td>96</td>\n",
       "      <td>[0.14252597411451307, 0.07733253231225075, 0.1...</td>\n",
       "      <td>2939.251506</td>\n",
       "      <td>[-0.29601548469937333, -0.16061372095621324, -...</td>\n",
       "      <td>741.960208</td>\n",
       "      <td>2.982381</td>\n",
       "    </tr>\n",
       "    <tr>\n",
       "      <th>5</th>\n",
       "      <td>48</td>\n",
       "      <td>[0.1783247117716797, 0.1471603913533501, -0.09...</td>\n",
       "      <td>2937.898678</td>\n",
       "      <td>[-0.3703667090642578, -0.30564081281080396, 0....</td>\n",
       "      <td>741.572652</td>\n",
       "      <td>2.990593</td>\n",
       "    </tr>\n",
       "    <tr>\n",
       "      <th>6</th>\n",
       "      <td>24</td>\n",
       "      <td>[-0.1354294089260453, -0.153818090111205, 0.02...</td>\n",
       "      <td>2935.510216</td>\n",
       "      <td>[0.2812764646925557, 0.31946834100019506, -0.0...</td>\n",
       "      <td>741.940899</td>\n",
       "      <td>2.965794</td>\n",
       "    </tr>\n",
       "    <tr>\n",
       "      <th>7</th>\n",
       "      <td>12</td>\n",
       "      <td>[-0.08231881094074066, 0.166067634822193, -0.1...</td>\n",
       "      <td>2925.519007</td>\n",
       "      <td>[0.1709698381076923, -0.34490970309224694, 0.3...</td>\n",
       "      <td>742.339787</td>\n",
       "      <td>2.911227</td>\n",
       "    </tr>\n",
       "    <tr>\n",
       "      <th>8</th>\n",
       "      <td>6</td>\n",
       "      <td>[0.061759393908460226, 0.1884280416646303, 0.4...</td>\n",
       "      <td>2896.603703</td>\n",
       "      <td>[-0.12826951042526347, -0.3913505480726937, -1...</td>\n",
       "      <td>740.376417</td>\n",
       "      <td>2.800732</td>\n",
       "    </tr>\n",
       "    <tr>\n",
       "      <th>9</th>\n",
       "      <td>3</td>\n",
       "      <td>[0.31934071544289533, -0.8876141610736561, 0.1...</td>\n",
       "      <td>2786.847898</td>\n",
       "      <td>[-0.6632461013044748, 1.8435063345375926, -0.3...</td>\n",
       "      <td>731.610991</td>\n",
       "      <td>2.936529</td>\n",
       "    </tr>\n",
       "  </tbody>\n",
       "</table>\n",
       "</div>"
      ],
      "text/plain": [
       "   dim                                  centroid_negative  \\\n",
       "0  768  [-0.05271393805742264, -0.11926598846912384, 0...   \n",
       "1  576  [0.08174261896866489, -0.03410594663792309, 0....   \n",
       "2  384  [0.007851863867035775, -0.0682076032248066, -0...   \n",
       "3  192  [-0.05404731739650713, -0.1041588318174636, -0...   \n",
       "4   96  [0.14252597411451307, 0.07733253231225075, 0.1...   \n",
       "5   48  [0.1783247117716797, 0.1471603913533501, -0.09...   \n",
       "6   24  [-0.1354294089260453, -0.153818090111205, 0.02...   \n",
       "7   12  [-0.08231881094074066, 0.166067634822193, -0.1...   \n",
       "8    6  [0.061759393908460226, 0.1884280416646303, 0.4...   \n",
       "9    3  [0.31934071544289533, -0.8876141610736561, 0.1...   \n",
       "\n",
       "   dispersion_negative                                  centroid_positive  \\\n",
       "0          2937.050055  [-0.15186531841754913, -0.03394192084670067, 0...   \n",
       "1          2939.585108  [-0.16977313170415018, 0.07083542763260951, -0...   \n",
       "2          2938.939624  [-0.01630771726230506, 0.14166194515921363, 0....   \n",
       "3          2939.063456  [0.11225212074659163, 0.21632988146703983, 0.0...   \n",
       "4          2939.251506  [-0.29601548469937333, -0.16061372095621324, -...   \n",
       "5          2937.898678  [-0.3703667090642578, -0.30564081281080396, 0....   \n",
       "6          2935.510216  [0.2812764646925557, 0.31946834100019506, -0.0...   \n",
       "7          2925.519007  [0.1709698381076923, -0.34490970309224694, 0.3...   \n",
       "8          2896.603703  [-0.12826951042526347, -0.3913505480726937, -1...   \n",
       "9          2786.847898  [-0.6632461013044748, 1.8435063345375926, -0.3...   \n",
       "\n",
       "   dispersion_positive  distance  \n",
       "0           740.529710  3.035837  \n",
       "1           741.552227  3.001077  \n",
       "2           741.071362  3.027568  \n",
       "3           741.168906  3.016663  \n",
       "4           741.960208  2.982381  \n",
       "5           741.572652  2.990593  \n",
       "6           741.940899  2.965794  \n",
       "7           742.339787  2.911227  \n",
       "8           740.376417  2.800732  \n",
       "9           731.610991  2.936529  "
      ]
     },
     "execution_count": 8,
     "metadata": {},
     "output_type": "execute_result"
    }
   ],
   "source": [
    "import pandas as pd\n",
    "\n",
    "cluster_analysis = pd.DataFrame.from_records(list(analysis(dataset.data)))\n",
    "cluster_analysis"
   ]
  },
  {
   "cell_type": "code",
   "execution_count": 9,
   "metadata": {
    "collapsed": false,
    "execution": {
     "iopub.execute_input": "2022-09-12T08:34:12.139323Z",
     "iopub.status.busy": "2022-09-12T08:34:12.138856Z",
     "iopub.status.idle": "2022-09-12T08:34:12.145570Z",
     "shell.execute_reply": "2022-09-12T08:34:12.144916Z"
    },
    "pycharm": {
     "name": "#%%\n"
    }
   },
   "outputs": [],
   "source": [
    "cluster_analysis[['dim', 'dispersion_positive', 'dispersion_negative', 'distance']].to_csv('./cluster_analysis.csv')"
   ]
  }
 ],
 "metadata": {
  "kernelspec": {
   "display_name": "Python 3",
   "language": "python",
   "name": "python3"
  },
  "language_info": {
   "codemirror_mode": {
    "name": "ipython",
    "version": 3
   },
   "file_extension": ".py",
   "mimetype": "text/x-python",
   "name": "python",
   "nbconvert_exporter": "python",
   "pygments_lexer": "ipython3",
   "version": "3.8.5"
  }
 },
 "nbformat": 4,
 "nbformat_minor": 0
}
