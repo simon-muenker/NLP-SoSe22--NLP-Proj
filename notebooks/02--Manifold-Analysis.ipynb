{
 "cells": [
  {
   "cell_type": "code",
   "execution_count": 1,
   "metadata": {
    "collapsed": false,
    "execution": {
     "iopub.execute_input": "2022-09-07T16:03:53.791604Z",
     "iopub.status.busy": "2022-09-07T16:03:53.790854Z",
     "iopub.status.idle": "2022-09-07T16:03:53.805107Z",
     "shell.execute_reply": "2022-09-07T16:03:53.804127Z"
    },
    "pycharm": {
     "name": "#%%\n"
    }
   },
   "outputs": [
    {
     "name": "stdout",
     "output_type": "stream",
     "text": [
      "env: CUDA_DEVICE_ORDER=PCI_BUS_ID\n",
      "env: CUDA_VISIBLE_DEVICES=1\n"
     ]
    }
   ],
   "source": [
    "%env CUDA_DEVICE_ORDER=PCI_BUS_ID\n",
    "%env CUDA_VISIBLE_DEVICES=1"
   ]
  },
  {
   "cell_type": "code",
   "execution_count": 2,
   "metadata": {
    "collapsed": false,
    "execution": {
     "iopub.execute_input": "2022-09-07T16:03:53.838233Z",
     "iopub.status.busy": "2022-09-07T16:03:53.837243Z",
     "iopub.status.idle": "2022-09-07T16:03:53.843867Z",
     "shell.execute_reply": "2022-09-07T16:03:53.842754Z"
    },
    "pycharm": {
     "name": "#%%\n"
    }
   },
   "outputs": [],
   "source": [
    "import os\n",
    "import sys\n",
    "\n",
    "module_path = os.path.abspath(os.path.join('..'))\n",
    "\n",
    "if module_path not in sys.path:\n",
    "    sys.path.append(module_path)"
   ]
  },
  {
   "cell_type": "code",
   "execution_count": 3,
   "metadata": {
    "collapsed": false,
    "execution": {
     "iopub.execute_input": "2022-09-07T16:03:53.847735Z",
     "iopub.status.busy": "2022-09-07T16:03:53.847284Z",
     "iopub.status.idle": "2022-09-07T16:03:54.892091Z",
     "shell.execute_reply": "2022-09-07T16:03:54.890792Z"
    },
    "pycharm": {
     "name": "#%%\n"
    }
   },
   "outputs": [],
   "source": [
    "from classifier import Data\n",
    "\n",
    "dataset = Data(\n",
    "    data_path = \"../data/imdb.train.csv\",\n",
    "    polarities = {\n",
    "      \"negative\": 0,\n",
    "      \"positive\": 1\n",
    "    },\n",
    "    data_label='review',\n",
    "    target_label='sentiment'\n",
    ")"
   ]
  },
  {
   "cell_type": "code",
   "execution_count": 4,
   "metadata": {
    "collapsed": false,
    "execution": {
     "iopub.execute_input": "2022-09-07T16:03:54.897997Z",
     "iopub.status.busy": "2022-09-07T16:03:54.897543Z",
     "iopub.status.idle": "2022-09-07T16:04:04.676289Z",
     "shell.execute_reply": "2022-09-07T16:04:04.674870Z"
    },
    "pycharm": {
     "name": "#%%\n"
    }
   },
   "outputs": [],
   "source": [
    "from classifier._neural import Encoder\n",
    "\n",
    "enc = Encoder({\n",
    "    'model': 'bert-base-uncased',\n",
    "    'layers': [11]\n",
    "})"
   ]
  },
  {
   "cell_type": "code",
   "execution_count": 5,
   "metadata": {
    "collapsed": false,
    "execution": {
     "iopub.execute_input": "2022-09-07T16:04:04.682672Z",
     "iopub.status.busy": "2022-09-07T16:04:04.682256Z",
     "iopub.status.idle": "2022-09-07T16:08:19.897503Z",
     "shell.execute_reply": "2022-09-07T16:08:19.896074Z"
    },
    "pycharm": {
     "name": "#%%\n"
    }
   },
   "outputs": [
    {
     "name": "stderr",
     "output_type": "stream",
     "text": [
      "                                                                                                                                                                                                                                                                                                                                                                          \r"
     ]
    }
   ],
   "source": [
    "enc.df_encode(dataset.data, col=dataset.data_label, label=dataset.data_path)"
   ]
  },
  {
   "cell_type": "code",
   "execution_count": 6,
   "metadata": {
    "collapsed": false,
    "execution": {
     "iopub.execute_input": "2022-09-07T16:08:19.906885Z",
     "iopub.status.busy": "2022-09-07T16:08:19.906644Z",
     "iopub.status.idle": "2022-09-07T16:08:20.235246Z",
     "shell.execute_reply": "2022-09-07T16:08:20.233883Z"
    },
    "pycharm": {
     "name": "#%%\n"
    }
   },
   "outputs": [],
   "source": [
    "import numpy as np\n",
    "from sklearn.manifold import TSNE\n",
    "\n",
    "def manifold_reduction(data: np.ndarray, dim: int = 3):\n",
    "    reduction = TSNE(\n",
    "            n_components=dim,\n",
    "            learning_rate='auto',\n",
    "            init='random'\n",
    "        ).fit_transform(data)\n",
    "\n",
    "    return reduction"
   ]
  },
  {
   "cell_type": "code",
   "execution_count": 7,
   "metadata": {
    "collapsed": false,
    "execution": {
     "iopub.execute_input": "2022-09-07T16:08:20.239600Z",
     "iopub.status.busy": "2022-09-07T16:08:20.239240Z",
     "iopub.status.idle": "2022-09-07T16:08:20.266606Z",
     "shell.execute_reply": "2022-09-07T16:08:20.265667Z"
    },
    "pycharm": {
     "name": "#%%\n"
    }
   },
   "outputs": [
    {
     "name": "stdout",
     "output_type": "stream",
     "text": [
      "[[-0.37492663 -0.31844717  0.4446406  ... -0.09595198 -0.07568237\n",
      "  -0.06150296]\n",
      " [-0.24256583 -0.22915876  0.5830482  ... -0.15180513  0.28711528\n",
      "   0.08180147]\n",
      " [-0.11633979 -0.3920231   0.19411048 ... -0.19006352  0.25549436\n",
      "  -0.2251974 ]\n",
      " ...\n",
      " [ 0.12554576 -0.3454548   0.21676123 ...  0.02150118 -0.1522985\n",
      "   0.06649639]\n",
      " [-0.01661687 -0.12086555  0.33318874 ... -0.3516881  -0.1965158\n",
      "  -0.04239365]\n",
      " [-0.46148068 -0.4738913   0.04826688 ... -0.41615474  0.49644\n",
      "  -0.17524737]]\n"
     ]
    }
   ],
   "source": [
    "import torch\n",
    "\n",
    "prepared_data: np.ndarray = torch.stack(dataset.data[enc.col_name].tolist()).numpy()"
   ]
  },
  {
   "cell_type": "code",
   "execution_count": 8,
   "metadata": {
    "collapsed": false,
    "execution": {
     "iopub.execute_input": "2022-09-07T16:08:20.271668Z",
     "iopub.status.busy": "2022-09-07T16:08:20.271311Z",
     "iopub.status.idle": "2022-09-07T16:08:20.275337Z",
     "shell.execute_reply": "2022-09-07T16:08:20.274509Z"
    },
    "pycharm": {
     "name": "#%%\n"
    }
   },
   "outputs": [],
   "source": [
    "reduced_data = manifold_reduction(prepared_data)\n",
    "\n",
    "print(reduced_data.shape)\n",
    "print(reduced_data)\n",
    "# dataset.data['reduced_embeds'] = manifold_reduction(prepared_data)"
   ]
  },
  {
   "cell_type": "code",
   "execution_count": 9,
   "metadata": {
    "collapsed": false,
    "execution": {
     "iopub.execute_input": "2022-09-07T16:08:20.280026Z",
     "iopub.status.busy": "2022-09-07T16:08:20.279739Z",
     "iopub.status.idle": "2022-09-07T16:08:20.573615Z",
     "shell.execute_reply": "2022-09-07T16:08:20.572708Z"
    },
    "pycharm": {
     "name": "#%%\n"
    }
   },
   "outputs": [
    {
     "name": "stdout",
     "output_type": "stream",
     "text": [
      "                                                  review sentiment  \\\n",
      "1      This is a strange sex comedy because there`s v...  negative   \n",
      "3      The premise is ridiculous, the characters unbe...  negative   \n",
      "5      This was just a terrible movie. It hurt me to ...  negative   \n",
      "6      I cannot say that Aag is the worst Bollywood f...  negative   \n",
      "13     I firmly believe that the best Oscar ceremony ...  negative   \n",
      "...                                                  ...       ...   \n",
      "20164  Former brat pack actor and all round pretty bo...  negative   \n",
      "20165  The plot of 'Edison' was decent, but one actor...  negative   \n",
      "20166  Amateurism best describes the film adaptation ...  negative   \n",
      "20167  After having seen the movie the first question...  negative   \n",
      "20169  Sholay: Considered to be one of the greatest f...  negative   \n",
      "\n",
      "                                              prediction  \n",
      "1      [tensor(-0.2426), tensor(-0.2292), tensor(0.58...  \n",
      "3      [tensor(0.1673), tensor(-0.1038), tensor(0.331...  \n",
      "5      [tensor(-0.0192), tensor(-0.2233), tensor(0.37...  \n",
      "6      [tensor(0.0318), tensor(0.0445), tensor(0.1682...  \n",
      "13     [tensor(-0.3634), tensor(0.0249), tensor(0.408...  \n",
      "...                                                  ...  \n",
      "20164  [tensor(0.1454), tensor(-0.3838), tensor(0.535...  \n",
      "20165  [tensor(0.2097), tensor(-0.1760), tensor(0.160...  \n",
      "20166  [tensor(0.2293), tensor(-0.0312), tensor(0.332...  \n",
      "20167  [tensor(0.1255), tensor(-0.3455), tensor(0.216...  \n",
      "20169  [tensor(-0.4615), tensor(-0.4739), tensor(0.04...  \n",
      "\n",
      "[8928 rows x 3 columns]\n",
      "                                                  review sentiment  \\\n",
      "0      John Carpenter's Halloween is quite frankly a ...  positive   \n",
      "2      My friends and I were just discussing how frus...  positive   \n",
      "4      I enjoyed every moment of this beautiful film ...  positive   \n",
      "7      Every great gangster movie has under-currents ...  positive   \n",
      "8      Simply one of the best ever! Richard Brooks' a...  positive   \n",
      "...                                                  ...       ...   \n",
      "20157  I'm not entirely sure Rob Schmidt qualifies as...  positive   \n",
      "20158  Until today I had never seen this film. Its wa...  positive   \n",
      "20161  Jessica Alba's Max and Valerie Rae Miller's Or...  positive   \n",
      "20162  Too many sources routinely lump this thought-p...  positive   \n",
      "20168  I was taken to this film by a friend and was s...  positive   \n",
      "\n",
      "                                              prediction  \n",
      "0      [tensor(-0.3749), tensor(-0.3184), tensor(0.44...  \n",
      "2      [tensor(-0.1163), tensor(-0.3920), tensor(0.19...  \n",
      "4      [tensor(0.2827), tensor(-0.1200), tensor(0.343...  \n",
      "7      [tensor(-0.3249), tensor(-0.0370), tensor(0.15...  \n",
      "8      [tensor(-0.3523), tensor(-0.4992), tensor(0.61...  \n",
      "...                                                  ...  \n",
      "20157  [tensor(-0.1349), tensor(-0.0492), tensor(0.22...  \n",
      "20158  [tensor(-0.0470), tensor(0.0299), tensor(0.412...  \n",
      "20161  [tensor(-0.0538), tensor(-0.2087), tensor(0.32...  \n",
      "20162  [tensor(-0.2773), tensor(0.0991), tensor(0.218...  \n",
      "20168  [tensor(-0.0166), tensor(-0.1209), tensor(0.33...  \n",
      "\n",
      "[11242 rows x 3 columns]\n"
     ]
    }
   ],
   "source": [
    "for _, group in dataset.data.groupby(dataset.target_label):\n",
    "    print(group)"
   ]
  }
 ],
 "metadata": {
  "kernelspec": {
   "display_name": "Python 3",
   "language": "python",
   "name": "python3"
  },
  "language_info": {
   "codemirror_mode": {
    "name": "ipython",
    "version": 3
   },
   "file_extension": ".py",
   "mimetype": "text/x-python",
   "name": "python",
   "nbconvert_exporter": "python",
   "pygments_lexer": "ipython3",
   "version": "3.8.5"
  }
 },
 "nbformat": 4,
 "nbformat_minor": 0
}