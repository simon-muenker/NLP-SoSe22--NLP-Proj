{
 "cells": [
  {
   "cell_type": "code",
   "execution_count": 1,
   "metadata": {
    "collapsed": false,
    "execution": {
     "iopub.execute_input": "2022-09-12T08:35:10.239836Z",
     "iopub.status.busy": "2022-09-12T08:35:10.239250Z",
     "iopub.status.idle": "2022-09-12T08:35:10.249020Z",
     "shell.execute_reply": "2022-09-12T08:35:10.248420Z"
    },
    "pycharm": {
     "name": "#%%\n"
    }
   },
   "outputs": [
    {
     "name": "stdout",
     "output_type": "stream",
     "text": [
      "env: CUDA_DEVICE_ORDER=PCI_BUS_ID\n",
      "env: CUDA_VISIBLE_DEVICES=1\n"
     ]
    }
   ],
   "source": [
    "%env CUDA_DEVICE_ORDER=PCI_BUS_ID\n",
    "%env CUDA_VISIBLE_DEVICES=1"
   ]
  },
  {
   "cell_type": "code",
   "execution_count": 2,
   "metadata": {
    "collapsed": false,
    "execution": {
     "iopub.execute_input": "2022-09-12T08:35:10.323129Z",
     "iopub.status.busy": "2022-09-12T08:35:10.322787Z",
     "iopub.status.idle": "2022-09-12T08:35:10.327079Z",
     "shell.execute_reply": "2022-09-12T08:35:10.326476Z"
    },
    "pycharm": {
     "name": "#%%\n"
    }
   },
   "outputs": [],
   "source": [
    "import os\n",
    "import sys\n",
    "\n",
    "module_path = os.path.abspath(os.path.join('..'))\n",
    "\n",
    "if module_path not in sys.path:\n",
    "    sys.path.append(module_path)"
   ]
  },
  {
   "cell_type": "code",
   "execution_count": 3,
   "metadata": {
    "collapsed": false,
    "execution": {
     "iopub.execute_input": "2022-09-12T08:35:10.332729Z",
     "iopub.status.busy": "2022-09-12T08:35:10.332188Z",
     "iopub.status.idle": "2022-09-12T08:35:11.824769Z",
     "shell.execute_reply": "2022-09-12T08:35:11.823970Z"
    },
    "pycharm": {
     "name": "#%%\n"
    }
   },
   "outputs": [],
   "source": [
    "from classifier import Data\n",
    "\n",
    "dataset = Data(\n",
    "    data_path = \"../data/imdb._debug.csv\",\n",
    "    polarities = {\n",
    "      \"negative\": 0,\n",
    "      \"positive\": 1\n",
    "    },\n",
    "    data_label='review',\n",
    "    target_label='sentiment'\n",
    ")"
   ]
  },
  {
   "cell_type": "code",
   "execution_count": 4,
   "metadata": {
    "collapsed": false,
    "execution": {
     "iopub.execute_input": "2022-09-12T08:35:11.828986Z",
     "iopub.status.busy": "2022-09-12T08:35:11.828476Z",
     "iopub.status.idle": "2022-09-12T08:35:24.022136Z",
     "shell.execute_reply": "2022-09-12T08:35:24.020201Z"
    },
    "pycharm": {
     "name": "#%%\n"
    }
   },
   "outputs": [],
   "source": [
    "from classifier._neural import Encoder\n",
    "\n",
    "enc = Encoder({\n",
    "    'model': 'bert-base-uncased',\n",
    "    'layers': [11]\n",
    "})"
   ]
  },
  {
   "cell_type": "code",
   "execution_count": 5,
   "metadata": {
    "collapsed": false,
    "execution": {
     "iopub.execute_input": "2022-09-12T08:35:24.027238Z",
     "iopub.status.busy": "2022-09-12T08:35:24.026663Z",
     "iopub.status.idle": "2022-09-12T08:35:24.736620Z",
     "shell.execute_reply": "2022-09-12T08:35:24.735948Z"
    },
    "pycharm": {
     "name": "#%%\n"
    }
   },
   "outputs": [
    {
     "name": "stderr",
     "output_type": "stream",
     "text": [
      "                                                                                                                                                                                                                                                                                                                                                                          \r"
     ]
    }
   ],
   "source": [
    "enc.df_encode(dataset.data, col=dataset.data_label, label=dataset.data_path)"
   ]
  },
  {
   "cell_type": "code",
   "execution_count": 6,
   "metadata": {
    "collapsed": false,
    "execution": {
     "iopub.execute_input": "2022-09-12T08:35:24.740100Z",
     "iopub.status.busy": "2022-09-12T08:35:24.739493Z",
     "iopub.status.idle": "2022-09-12T08:35:25.293984Z",
     "shell.execute_reply": "2022-09-12T08:35:25.293223Z"
    },
    "pycharm": {
     "name": "#%%\n"
    }
   },
   "outputs": [],
   "source": [
    "import numpy as np\n",
    "from sklearn.manifold import MDS\n",
    "\n",
    "def manifold_reduction(data: np.ndarray, dim: int = 3) -> np.ndarray:\n",
    "    return MDS(n_components=dim).fit_transform(data)"
   ]
  },
  {
   "cell_type": "code",
   "execution_count": 7,
   "metadata": {
    "collapsed": false,
    "execution": {
     "iopub.execute_input": "2022-09-12T08:35:25.297706Z",
     "iopub.status.busy": "2022-09-12T08:35:25.297064Z",
     "iopub.status.idle": "2022-09-12T08:35:25.316574Z",
     "shell.execute_reply": "2022-09-12T08:35:25.315969Z"
    },
    "pycharm": {
     "name": "#%%\n"
    }
   },
   "outputs": [],
   "source": [
    "from typing import Generator\n",
    "import torch\n",
    "import numpy as np\n",
    "import pandas as pd\n",
    "from scipy.spatial import distance\n",
    "\n",
    "\n",
    "def analysis(\n",
    "        data: pd.DataFrame,\n",
    "        dim: list = None\n",
    ") -> Generator:\n",
    "    if dim is None:\n",
    "        dim = [768, 576, 384, 192, 96, 48, 24, 12, 6, 3]\n",
    "\n",
    "    embed_col: np.ndarray = torch.stack(data[enc.col_name].tolist()).numpy()\n",
    "\n",
    "    for d in dim:\n",
    "\n",
    "        # create record to keep row data\n",
    "        record: dict = {'dim': d}\n",
    "\n",
    "        # if reduction size is equal to encoder output dim, skip manifold reduction\n",
    "        if d == enc.dim:\n",
    "            data['reduced_embeds'] = list(embed_col)\n",
    "        else:\n",
    "            data['reduced_embeds'] = list(manifold_reduction(embed_col, dim=d))\n",
    "\n",
    "        # compute centroid means and dispersion for each cluster\n",
    "        for label, group in data.groupby(dataset.target_label):\n",
    "            record[f'centroid_{label}'] = np.mean(np.stack(group['reduced_embeds'].tolist(), axis=0), axis=0).tolist()\n",
    "            record[f'dispersion_{label}'] = np.sum(distance.pdist(group['reduced_embeds'].tolist()))\n",
    "\n",
    "        record['distance'] = distance.cdist([record['centroid_positive']], [record['centroid_negative']]).item(0)\n",
    "\n",
    "        yield record"
   ]
  },
  {
   "cell_type": "code",
   "execution_count": null,
   "outputs": [],
   "source": [
    "import pandas as pd\n",
    "\n",
    "cluster_analysis = pd.DataFrame.from_records(list(analysis(dataset.data)))\n",
    "cluster_analysis[['dim', 'dispersion_positive', 'dispersion_negative', 'distance']]"
   ],
   "metadata": {
    "collapsed": false,
    "pycharm": {
     "name": "#%%\n"
    }
   }
  },
  {
   "cell_type": "code",
   "execution_count": 8,
   "metadata": {
    "collapsed": false,
    "execution": {
     "iopub.execute_input": "2022-09-12T08:35:25.377995Z",
     "iopub.status.busy": "2022-09-12T08:35:25.377257Z",
     "iopub.status.idle": "2022-09-12T08:35:27.686384Z",
     "shell.execute_reply": "2022-09-12T08:35:27.685658Z"
    },
    "pycharm": {
     "name": "#%%\n"
    }
   },
   "outputs": [
    {
     "data": {
      "text/html": [
       "<div>\n",
       "<style scoped>\n",
       "    .dataframe tbody tr th:only-of-type {\n",
       "        vertical-align: middle;\n",
       "    }\n",
       "\n",
       "    .dataframe tbody tr th {\n",
       "        vertical-align: top;\n",
       "    }\n",
       "\n",
       "    .dataframe thead th {\n",
       "        text-align: right;\n",
       "    }\n",
       "</style>\n",
       "<table border=\"1\" class=\"dataframe\">\n",
       "  <thead>\n",
       "    <tr style=\"text-align: right;\">\n",
       "      <th></th>\n",
       "      <th>dim</th>\n",
       "      <th>dispersion_positive</th>\n",
       "      <th>dispersion_negative</th>\n",
       "      <th>distance</th>\n",
       "    </tr>\n",
       "  </thead>\n",
       "  <tbody>\n",
       "    <tr>\n",
       "      <th>0</th>\n",
       "      <td>768</td>\n",
       "      <td>740.529710</td>\n",
       "      <td>2937.050055</td>\n",
       "      <td>3.035837</td>\n",
       "    </tr>\n",
       "    <tr>\n",
       "      <th>1</th>\n",
       "      <td>576</td>\n",
       "      <td>740.895195</td>\n",
       "      <td>2939.098805</td>\n",
       "      <td>3.025212</td>\n",
       "    </tr>\n",
       "    <tr>\n",
       "      <th>2</th>\n",
       "      <td>384</td>\n",
       "      <td>741.251998</td>\n",
       "      <td>2939.253368</td>\n",
       "      <td>3.014950</td>\n",
       "    </tr>\n",
       "    <tr>\n",
       "      <th>3</th>\n",
       "      <td>192</td>\n",
       "      <td>741.104368</td>\n",
       "      <td>2939.046027</td>\n",
       "      <td>3.019541</td>\n",
       "    </tr>\n",
       "    <tr>\n",
       "      <th>4</th>\n",
       "      <td>96</td>\n",
       "      <td>741.729764</td>\n",
       "      <td>2939.230388</td>\n",
       "      <td>2.982011</td>\n",
       "    </tr>\n",
       "    <tr>\n",
       "      <th>5</th>\n",
       "      <td>48</td>\n",
       "      <td>740.524172</td>\n",
       "      <td>2936.893192</td>\n",
       "      <td>3.022487</td>\n",
       "    </tr>\n",
       "    <tr>\n",
       "      <th>6</th>\n",
       "      <td>24</td>\n",
       "      <td>740.830105</td>\n",
       "      <td>2935.334492</td>\n",
       "      <td>2.982105</td>\n",
       "    </tr>\n",
       "    <tr>\n",
       "      <th>7</th>\n",
       "      <td>12</td>\n",
       "      <td>737.722720</td>\n",
       "      <td>2920.559114</td>\n",
       "      <td>3.074009</td>\n",
       "    </tr>\n",
       "    <tr>\n",
       "      <th>8</th>\n",
       "      <td>6</td>\n",
       "      <td>739.871436</td>\n",
       "      <td>2895.560334</td>\n",
       "      <td>2.843998</td>\n",
       "    </tr>\n",
       "    <tr>\n",
       "      <th>9</th>\n",
       "      <td>3</td>\n",
       "      <td>725.553120</td>\n",
       "      <td>2772.244722</td>\n",
       "      <td>3.193975</td>\n",
       "    </tr>\n",
       "  </tbody>\n",
       "</table>\n",
       "</div>"
      ],
      "text/plain": [
       "   dim  dispersion_positive  dispersion_negative  distance\n",
       "0  768           740.529710          2937.050055  3.035837\n",
       "1  576           740.895195          2939.098805  3.025212\n",
       "2  384           741.251998          2939.253368  3.014950\n",
       "3  192           741.104368          2939.046027  3.019541\n",
       "4   96           741.729764          2939.230388  2.982011\n",
       "5   48           740.524172          2936.893192  3.022487\n",
       "6   24           740.830105          2935.334492  2.982105\n",
       "7   12           737.722720          2920.559114  3.074009\n",
       "8    6           739.871436          2895.560334  2.843998\n",
       "9    3           725.553120          2772.244722  3.193975"
      ]
     },
     "execution_count": 8,
     "metadata": {},
     "output_type": "execute_result"
    }
   ],
   "source": [
    "import pandas as pd\n",
    "\n",
    "cluster_analysis = pd.DataFrame.from_records(list(analysis(dataset.data)))\n",
    "cluster_analysis[['dim', 'dispersion_positive', 'dispersion_negative', 'distance']]"
   ]
  },
  {
   "cell_type": "code",
   "execution_count": 9,
   "metadata": {
    "collapsed": false,
    "execution": {
     "iopub.execute_input": "2022-09-12T08:35:27.690219Z",
     "iopub.status.busy": "2022-09-12T08:35:27.689579Z",
     "iopub.status.idle": "2022-09-12T08:35:27.696184Z",
     "shell.execute_reply": "2022-09-12T08:35:27.695505Z"
    },
    "pycharm": {
     "name": "#%%\n"
    }
   },
   "outputs": [],
   "source": [
    "cluster_analysis[['dim', 'dispersion_positive', 'dispersion_negative', 'distance']].to_csv('./cluster_analysis.csv')"
   ]
  }
 ],
 "metadata": {
  "kernelspec": {
   "display_name": "Python 3",
   "language": "python",
   "name": "python3"
  },
  "language_info": {
   "codemirror_mode": {
    "name": "ipython",
    "version": 3
   },
   "file_extension": ".py",
   "mimetype": "text/x-python",
   "name": "python",
   "nbconvert_exporter": "python",
   "pygments_lexer": "ipython3",
   "version": "3.8.5"
  }
 },
 "nbformat": 4,
 "nbformat_minor": 0
}