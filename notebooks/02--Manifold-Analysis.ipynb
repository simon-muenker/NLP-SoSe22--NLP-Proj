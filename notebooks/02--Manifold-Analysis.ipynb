{
 "cells": [
  {
   "cell_type": "code",
   "execution_count": 1,
   "metadata": {
    "collapsed": false,
    "execution": {
     "iopub.execute_input": "2022-09-11T22:48:24.842581Z",
     "iopub.status.busy": "2022-09-11T22:48:24.842234Z",
     "iopub.status.idle": "2022-09-11T22:48:24.852003Z",
     "shell.execute_reply": "2022-09-11T22:48:24.851416Z"
    },
    "pycharm": {
     "name": "#%%\n"
    }
   },
   "outputs": [
    {
     "name": "stdout",
     "output_type": "stream",
     "text": [
      "env: CUDA_DEVICE_ORDER=PCI_BUS_ID\n",
      "env: CUDA_VISIBLE_DEVICES=1\n"
     ]
    }
   ],
   "source": [
    "%env CUDA_DEVICE_ORDER=PCI_BUS_ID\n",
    "%env CUDA_VISIBLE_DEVICES=1"
   ]
  },
  {
   "cell_type": "code",
   "execution_count": 2,
   "metadata": {
    "collapsed": false,
    "execution": {
     "iopub.execute_input": "2022-09-11T22:48:24.912217Z",
     "iopub.status.busy": "2022-09-11T22:48:24.911953Z",
     "iopub.status.idle": "2022-09-11T22:48:24.915968Z",
     "shell.execute_reply": "2022-09-11T22:48:24.915369Z"
    },
    "pycharm": {
     "name": "#%%\n"
    }
   },
   "outputs": [],
   "source": [
    "import os\n",
    "import sys\n",
    "\n",
    "module_path = os.path.abspath(os.path.join('..'))\n",
    "\n",
    "if module_path not in sys.path:\n",
    "    sys.path.append(module_path)"
   ]
  },
  {
   "cell_type": "code",
   "execution_count": 3,
   "metadata": {
    "collapsed": false,
    "execution": {
     "iopub.execute_input": "2022-09-11T22:48:24.919008Z",
     "iopub.status.busy": "2022-09-11T22:48:24.918775Z",
     "iopub.status.idle": "2022-09-11T22:48:26.252879Z",
     "shell.execute_reply": "2022-09-11T22:48:26.251986Z"
    },
    "pycharm": {
     "name": "#%%\n"
    }
   },
   "outputs": [],
   "source": [
    "from classifier import Data\n",
    "\n",
    "dataset = Data(\n",
    "    data_path = \"../data/imdb.eval.csv\",\n",
    "    polarities = {\n",
    "      \"negative\": 0,\n",
    "      \"positive\": 1\n",
    "    },\n",
    "    data_label='review',\n",
    "    target_label='sentiment'\n",
    ")"
   ]
  },
  {
   "cell_type": "code",
   "execution_count": 4,
   "metadata": {
    "collapsed": false,
    "execution": {
     "iopub.execute_input": "2022-09-11T22:48:26.257266Z",
     "iopub.status.busy": "2022-09-11T22:48:26.256897Z",
     "iopub.status.idle": "2022-09-11T22:48:39.114706Z",
     "shell.execute_reply": "2022-09-11T22:48:39.113581Z"
    },
    "pycharm": {
     "name": "#%%\n"
    }
   },
   "outputs": [],
   "source": [
    "from classifier._neural import Encoder\n",
    "\n",
    "enc = Encoder({\n",
    "    'model': 'bert-base-uncased',\n",
    "    'layers': [11]\n",
    "})"
   ]
  },
  {
   "cell_type": "code",
   "execution_count": 5,
   "metadata": {
    "collapsed": false,
    "execution": {
     "iopub.execute_input": "2022-09-11T22:48:39.119448Z",
     "iopub.status.busy": "2022-09-11T22:48:39.119065Z",
     "iopub.status.idle": "2022-09-11T22:49:08.914564Z",
     "shell.execute_reply": "2022-09-11T22:49:08.913539Z"
    },
    "pycharm": {
     "name": "#%%\n"
    }
   },
   "outputs": [
    {
     "name": "stderr",
     "output_type": "stream",
     "text": [
      "                                                                                                                                                                                                                                                                              \r"
     ]
    }
   ],
   "source": [
    "enc.df_encode(dataset.data, col=dataset.data_label, label=dataset.data_path)"
   ]
  },
  {
   "cell_type": "code",
   "execution_count": 6,
   "metadata": {
    "collapsed": false,
    "execution": {
     "iopub.execute_input": "2022-09-11T22:49:08.918522Z",
     "iopub.status.busy": "2022-09-11T22:49:08.918079Z",
     "iopub.status.idle": "2022-09-11T22:49:09.391902Z",
     "shell.execute_reply": "2022-09-11T22:49:09.391169Z"
    },
    "pycharm": {
     "name": "#%%\n"
    }
   },
   "outputs": [],
   "source": [
    "import numpy as np\n",
    "from sklearn.manifold import MDS\n",
    "\n",
    "def manifold_reduction(data: np.ndarray, dim: int = 3) -> np.ndarray:\n",
    "    return MDS(n_components=dim).fit_transform(data)"
   ]
  },
  {
   "cell_type": "code",
   "execution_count": 7,
   "metadata": {
    "collapsed": false,
    "execution": {
     "iopub.execute_input": "2022-09-11T22:49:09.395949Z",
     "iopub.status.busy": "2022-09-11T22:49:09.395234Z",
     "iopub.status.idle": "2022-09-11T22:49:09.407936Z",
     "shell.execute_reply": "2022-09-11T22:49:09.407303Z"
    },
    "pycharm": {
     "name": "#%%\n"
    }
   },
   "outputs": [],
   "source": [
    "import torch\n",
    "\n",
    "embed_col: np.ndarray = torch.stack(dataset.data[enc.col_name].tolist()).numpy()"
   ]
  },
  {
   "cell_type": "code",
   "execution_count": 8,
   "metadata": {
    "collapsed": false,
    "execution": {
     "iopub.execute_input": "2022-09-11T22:49:09.410988Z",
     "iopub.status.busy": "2022-09-11T22:49:09.410625Z",
     "iopub.status.idle": "2022-09-11T22:49:09.414549Z",
     "shell.execute_reply": "2022-09-11T22:49:09.413902Z"
    },
    "pycharm": {
     "name": "#%%\n"
    }
   },
   "outputs": [],
   "source": [
    "centroid_records: list = []"
   ]
  },
  {
   "cell_type": "code",
   "execution_count": 9,
   "metadata": {
    "collapsed": false,
    "execution": {
     "iopub.execute_input": "2022-09-11T22:49:09.417551Z",
     "iopub.status.busy": "2022-09-11T22:49:09.417209Z",
     "iopub.status.idle": "2022-09-11T23:51:31.298185Z",
     "shell.execute_reply": "2022-09-11T23:51:31.296890Z"
    },
    "pycharm": {
     "name": "#%%\n"
    }
   },
   "outputs": [],
   "source": [
    "import numpy as np\n",
    "\n",
    "for i in [384, 192, 96, 48, 24, 12, 6, 3]:\n",
    "    record: dict = {'dim': i}\n",
    "\n",
    "    dataset.data['reduced_embeds'] = list(manifold_reduction(embed_col, dim=i))\n",
    "\n",
    "    for label, group in dataset.data.groupby(dataset.target_label):\n",
    "        record[label] = np.mean(np.stack(group['reduced_embeds'].tolist(), axis=0), axis=0).tolist()\n",
    "\n",
    "    centroid_records.append(record)"
   ]
  },
  {
   "cell_type": "code",
   "execution_count": 10,
   "metadata": {
    "collapsed": false,
    "execution": {
     "iopub.execute_input": "2022-09-11T23:51:31.304524Z",
     "iopub.status.busy": "2022-09-11T23:51:31.304085Z",
     "iopub.status.idle": "2022-09-11T23:51:31.322489Z",
     "shell.execute_reply": "2022-09-11T23:51:31.321804Z"
    },
    "pycharm": {
     "name": "#%%\n"
    }
   },
   "outputs": [],
   "source": [
    "import pandas as pd\n",
    "\n",
    "pd.DataFrame.from_records(centroid_records).to_csv('./centroid_analysis.csv')"
   ]
  }
 ],
 "metadata": {
  "kernelspec": {
   "display_name": "Python 3",
   "language": "python",
   "name": "python3"
  },
  "language_info": {
   "codemirror_mode": {
    "name": "ipython",
    "version": 3
   },
   "file_extension": ".py",
   "mimetype": "text/x-python",
   "name": "python",
   "nbconvert_exporter": "python",
   "pygments_lexer": "ipython3",
   "version": "3.8.5"
  }
 },
 "nbformat": 4,
 "nbformat_minor": 0
}
