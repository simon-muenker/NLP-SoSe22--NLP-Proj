{
 "cells": [
  {
   "cell_type": "code",
   "execution_count": 1,
   "metadata": {
    "collapsed": false,
    "execution": {
     "iopub.execute_input": "2022-09-12T07:51:04.988943Z",
     "iopub.status.busy": "2022-09-12T07:51:04.988365Z",
     "iopub.status.idle": "2022-09-12T07:51:05.001423Z",
     "shell.execute_reply": "2022-09-12T07:51:05.000768Z"
    },
    "pycharm": {
     "name": "#%%\n"
    }
   },
   "outputs": [
    {
     "name": "stdout",
     "output_type": "stream",
     "text": [
      "env: CUDA_DEVICE_ORDER=PCI_BUS_ID\n",
      "env: CUDA_VISIBLE_DEVICES=1\n"
     ]
    }
   ],
   "source": [
    "%env CUDA_DEVICE_ORDER=PCI_BUS_ID\n",
    "%env CUDA_VISIBLE_DEVICES=1"
   ]
  },
  {
   "cell_type": "code",
   "execution_count": 2,
   "metadata": {
    "collapsed": false,
    "execution": {
     "iopub.execute_input": "2022-09-12T07:51:05.064856Z",
     "iopub.status.busy": "2022-09-12T07:51:05.064438Z",
     "iopub.status.idle": "2022-09-12T07:51:05.068667Z",
     "shell.execute_reply": "2022-09-12T07:51:05.068011Z"
    },
    "pycharm": {
     "name": "#%%\n"
    }
   },
   "outputs": [],
   "source": [
    "import os\n",
    "import sys\n",
    "\n",
    "module_path = os.path.abspath(os.path.join('..'))\n",
    "\n",
    "if module_path not in sys.path:\n",
    "    sys.path.append(module_path)"
   ]
  },
  {
   "cell_type": "code",
   "execution_count": 3,
   "metadata": {
    "collapsed": false,
    "execution": {
     "iopub.execute_input": "2022-09-12T07:51:05.071773Z",
     "iopub.status.busy": "2022-09-12T07:51:05.071260Z",
     "iopub.status.idle": "2022-09-12T07:51:06.471434Z",
     "shell.execute_reply": "2022-09-12T07:51:06.470673Z"
    },
    "pycharm": {
     "name": "#%%\n"
    }
   },
   "outputs": [],
   "source": [
    "from classifier import Data\n",
    "\n",
    "dataset = Data(\n",
    "    data_path = \"../data/imdb._debug.csv\",\n",
    "    polarities = {\n",
    "      \"negative\": 0,\n",
    "      \"positive\": 1\n",
    "    },\n",
    "    data_label='review',\n",
    "    target_label='sentiment'\n",
    ")"
   ]
  },
  {
   "cell_type": "code",
   "execution_count": 4,
   "metadata": {
    "collapsed": false,
    "execution": {
     "iopub.execute_input": "2022-09-12T07:51:06.475336Z",
     "iopub.status.busy": "2022-09-12T07:51:06.474691Z",
     "iopub.status.idle": "2022-09-12T07:51:19.121318Z",
     "shell.execute_reply": "2022-09-12T07:51:19.120085Z"
    },
    "pycharm": {
     "name": "#%%\n"
    }
   },
   "outputs": [],
   "source": [
    "from classifier._neural import Encoder\n",
    "\n",
    "enc = Encoder({\n",
    "    'model': 'bert-base-uncased',\n",
    "    'layers': [11]\n",
    "})"
   ]
  },
  {
   "cell_type": "code",
   "execution_count": 5,
   "metadata": {
    "collapsed": false,
    "execution": {
     "iopub.execute_input": "2022-09-12T07:51:19.125586Z",
     "iopub.status.busy": "2022-09-12T07:51:19.125143Z",
     "iopub.status.idle": "2022-09-12T07:51:19.772619Z",
     "shell.execute_reply": "2022-09-12T07:51:19.771950Z"
    },
    "pycharm": {
     "name": "#%%\n"
    }
   },
   "outputs": [
    {
     "name": "stderr",
     "output_type": "stream",
     "text": [
      "                                                                                                                                                                                                                                                                                                                                                                          \r"
     ]
    }
   ],
   "source": [
    "enc.df_encode(dataset.data, col=dataset.data_label, label=dataset.data_path)"
   ]
  },
  {
   "cell_type": "code",
   "execution_count": 6,
   "metadata": {
    "collapsed": false,
    "execution": {
     "iopub.execute_input": "2022-09-12T07:51:19.775737Z",
     "iopub.status.busy": "2022-09-12T07:51:19.775409Z",
     "iopub.status.idle": "2022-09-12T07:51:20.281438Z",
     "shell.execute_reply": "2022-09-12T07:51:20.280699Z"
    },
    "pycharm": {
     "name": "#%%\n"
    }
   },
   "outputs": [],
   "source": [
    "import numpy as np\n",
    "from sklearn.manifold import MDS\n",
    "\n",
    "def manifold_reduction(data: np.ndarray, dim: int = 3) -> np.ndarray:\n",
    "    return MDS(n_components=dim).fit_transform(data)"
   ]
  },
  {
   "cell_type": "code",
   "execution_count": 7,
   "metadata": {
    "collapsed": false,
    "execution": {
     "iopub.execute_input": "2022-09-12T07:51:20.285083Z",
     "iopub.status.busy": "2022-09-12T07:51:20.284419Z",
     "iopub.status.idle": "2022-09-12T07:51:20.288784Z",
     "shell.execute_reply": "2022-09-12T07:51:20.288179Z"
    },
    "pycharm": {
     "name": "#%%\n"
    }
   },
   "outputs": [],
   "source": [
    "import torch\n",
    "\n",
    "embed_col: np.ndarray = torch.stack(dataset.data[enc.col_name].tolist()).numpy()"
   ]
  },
  {
   "cell_type": "code",
   "execution_count": 8,
   "metadata": {
    "collapsed": false,
    "execution": {
     "iopub.execute_input": "2022-09-12T07:51:20.291678Z",
     "iopub.status.busy": "2022-09-12T07:51:20.291282Z",
     "iopub.status.idle": "2022-09-12T07:51:20.294579Z",
     "shell.execute_reply": "2022-09-12T07:51:20.294006Z"
    },
    "pycharm": {
     "name": "#%%\n"
    }
   },
   "outputs": [],
   "source": [
    "cluster_records: list = []"
   ]
  },
  {
   "cell_type": "code",
   "execution_count": 9,
   "metadata": {
    "collapsed": false,
    "execution": {
     "iopub.execute_input": "2022-09-12T07:51:20.385381Z",
     "iopub.status.busy": "2022-09-12T07:51:20.384843Z",
     "iopub.status.idle": "2022-09-12T07:51:22.505689Z",
     "shell.execute_reply": "2022-09-12T07:51:22.504741Z"
    },
    "pycharm": {
     "name": "#%%\n"
    }
   },
   "outputs": [],
   "source": [
    "import numpy as np\n",
    "from scipy.spatial import distance\n",
    "\n",
    "for i in [384, 192, 96, 48, 24, 12, 6, 3]:\n",
    "\n",
    "    # create record to keep row data\n",
    "    record: dict = {'dim': i}\n",
    "\n",
    "    # if reduction size is equal to encoder output dim, skip manifold reduction\n",
    "    if i == enc.dim:\n",
    "        dataset.data['reduced_embeds'] = list(embed_col)\n",
    "    else:\n",
    "        dataset.data['reduced_embeds'] = list(manifold_reduction(embed_col, dim=i))\n",
    "\n",
    "    # compute centroid means and dispersion for each cluster\n",
    "    for label, group in dataset.data.groupby(dataset.target_label):\n",
    "        record[f'centroid_{label}'] = np.mean(np.stack(group['reduced_embeds'].tolist(), axis=0), axis=0).tolist()\n",
    "        record[f'dispersion_{label}'] = np.sum(distance.pdist(group['reduced_embeds'].tolist()))\n",
    "\n",
    "    record['distance'] = distance.cdist([record['centroid_positive']], [record['centroid_negative']])\n",
    "\n",
    "    cluster_records.append(record)"
   ]
  },
  {
   "cell_type": "code",
   "execution_count": 10,
   "metadata": {
    "collapsed": false,
    "execution": {
     "iopub.execute_input": "2022-09-12T07:51:22.509111Z",
     "iopub.status.busy": "2022-09-12T07:51:22.508768Z",
     "iopub.status.idle": "2022-09-12T07:51:22.522851Z",
     "shell.execute_reply": "2022-09-12T07:51:22.522169Z"
    },
    "pycharm": {
     "name": "#%%\n"
    }
   },
   "outputs": [],
   "source": [
    "import pandas as pd\n",
    "\n",
    "pd.DataFrame.from_records(cluster_records).to_csv('./cluster_analysis.csv')"
   ]
  }
 ],
 "metadata": {
  "kernelspec": {
   "display_name": "Python 3",
   "language": "python",
   "name": "python3"
  },
  "language_info": {
   "codemirror_mode": {
    "name": "ipython",
    "version": 3
   },
   "file_extension": ".py",
   "mimetype": "text/x-python",
   "name": "python",
   "nbconvert_exporter": "python",
   "pygments_lexer": "ipython3",
   "version": "3.8.5"
  }
 },
 "nbformat": 4,
 "nbformat_minor": 0
}
