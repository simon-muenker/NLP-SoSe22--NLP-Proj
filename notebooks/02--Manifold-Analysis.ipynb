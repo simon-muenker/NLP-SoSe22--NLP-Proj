{
 "cells": [
  {
   "cell_type": "code",
   "execution_count": 1,
   "metadata": {
    "collapsed": false,
    "execution": {
     "iopub.execute_input": "2022-09-07T18:05:05.132848Z",
     "iopub.status.busy": "2022-09-07T18:05:05.132089Z",
     "iopub.status.idle": "2022-09-07T18:05:05.145447Z",
     "shell.execute_reply": "2022-09-07T18:05:05.144521Z"
    },
    "pycharm": {
     "name": "#%%\n"
    }
   },
   "outputs": [
    {
     "name": "stdout",
     "output_type": "stream",
     "text": [
      "env: CUDA_DEVICE_ORDER=PCI_BUS_ID\n",
      "env: CUDA_VISIBLE_DEVICES=1\n"
     ]
    }
   ],
   "source": [
    "%env CUDA_DEVICE_ORDER=PCI_BUS_ID\n",
    "%env CUDA_VISIBLE_DEVICES=1"
   ]
  },
  {
   "cell_type": "code",
   "execution_count": 2,
   "metadata": {
    "collapsed": false,
    "execution": {
     "iopub.execute_input": "2022-09-07T18:05:05.183459Z",
     "iopub.status.busy": "2022-09-07T18:05:05.182910Z",
     "iopub.status.idle": "2022-09-07T18:05:05.190066Z",
     "shell.execute_reply": "2022-09-07T18:05:05.188908Z"
    },
    "pycharm": {
     "name": "#%%\n"
    }
   },
   "outputs": [],
   "source": [
    "import os\n",
    "import sys\n",
    "\n",
    "module_path = os.path.abspath(os.path.join('..'))\n",
    "\n",
    "if module_path not in sys.path:\n",
    "    sys.path.append(module_path)"
   ]
  },
  {
   "cell_type": "code",
   "execution_count": 3,
   "metadata": {
    "collapsed": false,
    "execution": {
     "iopub.execute_input": "2022-09-07T18:05:05.194747Z",
     "iopub.status.busy": "2022-09-07T18:05:05.194113Z",
     "iopub.status.idle": "2022-09-07T18:05:06.433697Z",
     "shell.execute_reply": "2022-09-07T18:05:06.432484Z"
    },
    "pycharm": {
     "name": "#%%\n"
    }
   },
   "outputs": [],
   "source": [
    "from classifier import Data\n",
    "\n",
    "dataset = Data(\n",
    "    data_path = \"../data/imdb.train.csv\",\n",
    "    polarities = {\n",
    "      \"negative\": 0,\n",
    "      \"positive\": 1\n",
    "    },\n",
    "    data_label='review',\n",
    "    target_label='sentiment'\n",
    ")"
   ]
  },
  {
   "cell_type": "code",
   "execution_count": 4,
   "metadata": {
    "collapsed": false,
    "execution": {
     "iopub.execute_input": "2022-09-07T18:05:06.439589Z",
     "iopub.status.busy": "2022-09-07T18:05:06.439351Z",
     "iopub.status.idle": "2022-09-07T18:05:16.901943Z",
     "shell.execute_reply": "2022-09-07T18:05:16.899728Z"
    },
    "pycharm": {
     "name": "#%%\n"
    }
   },
   "outputs": [],
   "source": [
    "from classifier._neural import Encoder\n",
    "\n",
    "enc = Encoder({\n",
    "    'model': 'bert-base-uncased',\n",
    "    'layers': [11]\n",
    "})"
   ]
  },
  {
   "cell_type": "code",
   "execution_count": 5,
   "metadata": {
    "collapsed": false,
    "execution": {
     "iopub.execute_input": "2022-09-07T18:05:16.909200Z",
     "iopub.status.busy": "2022-09-07T18:05:16.908896Z",
     "iopub.status.idle": "2022-09-07T18:09:32.189592Z",
     "shell.execute_reply": "2022-09-07T18:09:32.188664Z"
    },
    "pycharm": {
     "name": "#%%\n"
    }
   },
   "outputs": [
    {
     "name": "stderr",
     "output_type": "stream",
     "text": [
      "                                                                                                                                                                                                                                                                                                                                                                          \r"
     ]
    }
   ],
   "source": [
    "enc.df_encode(dataset.data, col=dataset.data_label, label=dataset.data_path)"
   ]
  },
  {
   "cell_type": "code",
   "execution_count": 6,
   "metadata": {
    "collapsed": false,
    "execution": {
     "iopub.execute_input": "2022-09-07T18:09:32.196304Z",
     "iopub.status.busy": "2022-09-07T18:09:32.196073Z",
     "iopub.status.idle": "2022-09-07T18:09:32.545129Z",
     "shell.execute_reply": "2022-09-07T18:09:32.544318Z"
    },
    "pycharm": {
     "name": "#%%\n"
    }
   },
   "outputs": [],
   "source": [
    "import numpy as np\n",
    "from sklearn.manifold import TSNE\n",
    "\n",
    "def manifold_reduction(data: np.ndarray, dim: int = 3) -> np.ndarray:\n",
    "    return TSNE(\n",
    "            n_components=dim,\n",
    "            learning_rate='auto',\n",
    "            init='random'\n",
    "        ).fit_transform(data)"
   ]
  },
  {
   "cell_type": "code",
   "execution_count": 7,
   "metadata": {
    "collapsed": false,
    "execution": {
     "iopub.execute_input": "2022-09-07T18:09:32.550774Z",
     "iopub.status.busy": "2022-09-07T18:09:32.550359Z",
     "iopub.status.idle": "2022-09-07T18:09:32.575721Z",
     "shell.execute_reply": "2022-09-07T18:09:32.574896Z"
    },
    "pycharm": {
     "name": "#%%\n"
    }
   },
   "outputs": [],
   "source": [
    "import torch\n",
    "\n",
    "embed_col: np.ndarray = torch.stack(dataset.data[enc.col_name].tolist()).numpy()"
   ]
  },
  {
   "cell_type": "code",
   "execution_count": 8,
   "metadata": {
    "collapsed": false,
    "execution": {
     "iopub.execute_input": "2022-09-07T18:09:32.579810Z",
     "iopub.status.busy": "2022-09-07T18:09:32.579096Z",
     "iopub.status.idle": "2022-09-07T18:09:32.583112Z",
     "shell.execute_reply": "2022-09-07T18:09:32.582378Z"
    },
    "pycharm": {
     "name": "#%%\n"
    }
   },
   "outputs": [],
   "source": [
    "centroid_records: list = []"
   ]
  },
  {
   "cell_type": "code",
   "execution_count": 9,
   "metadata": {
    "collapsed": false,
    "execution": {
     "iopub.execute_input": "2022-09-07T18:09:32.587606Z",
     "iopub.status.busy": "2022-09-07T18:09:32.587187Z",
     "iopub.status.idle": "2022-09-07T18:28:54.568494Z",
     "shell.execute_reply": "2022-09-07T18:28:54.567110Z"
    },
    "pycharm": {
     "name": "#%%\n"
    }
   },
   "outputs": [],
   "source": [
    "import numpy as np\n",
    "\n",
    "for i in [768, 384, 192, 96, 48, 24, 12, 6, 3]:\n",
    "    record: dict = {'dim': i}\n",
    "\n",
    "    dataset.data['reduced_embeds'] = list(manifold_reduction(embed_col, dim=i))\n",
    "\n",
    "    for label, group in dataset.data.groupby(dataset.target_label):\n",
    "        record[label] = np.mean(np.stack(group['reduced_embeds'].tolist(), axis=0), axis=0)\n",
    "\n",
    "    centroid_records.append(record)"
   ]
  },
  {
   "cell_type": "code",
   "execution_count": 10,
   "metadata": {
    "collapsed": false,
    "execution": {
     "iopub.execute_input": "2022-09-07T18:28:54.573655Z",
     "iopub.status.busy": "2022-09-07T18:28:54.573297Z",
     "iopub.status.idle": "2022-09-07T18:28:54.583718Z",
     "shell.execute_reply": "2022-09-07T18:28:54.582931Z"
    },
    "pycharm": {
     "name": "#%%\n"
    }
   },
   "outputs": [],
   "source": [
    "import pandas as pd\n",
    "\n",
    "pd.DataFrame.from_records(centroid_records).to_csv('./centroid_analysis.csv')"
   ]
  }
 ],
 "metadata": {
  "kernelspec": {
   "display_name": "Python 3",
   "language": "python",
   "name": "python3"
  },
  "language_info": {
   "codemirror_mode": {
    "name": "ipython",
    "version": 3
   },
   "file_extension": ".py",
   "mimetype": "text/x-python",
   "name": "python",
   "nbconvert_exporter": "python",
   "pygments_lexer": "ipython3",
   "version": "3.8.5"
  }
 },
 "nbformat": 4,
 "nbformat_minor": 0
}