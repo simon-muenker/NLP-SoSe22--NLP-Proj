{
 "cells": [
  {
   "cell_type": "code",
   "execution_count": 1,
   "metadata": {
    "collapsed": false,
    "execution": {
     "iopub.execute_input": "2022-09-12T11:02:22.857565Z",
     "iopub.status.busy": "2022-09-12T11:02:22.857002Z",
     "iopub.status.idle": "2022-09-12T11:02:22.866592Z",
     "shell.execute_reply": "2022-09-12T11:02:22.866015Z"
    },
    "pycharm": {
     "name": "#%%\n"
    }
   },
   "outputs": [
    {
     "name": "stdout",
     "output_type": "stream",
     "text": [
      "env: CUDA_DEVICE_ORDER=PCI_BUS_ID\n",
      "env: CUDA_VISIBLE_DEVICES=1\n"
     ]
    }
   ],
   "source": [
    "%env CUDA_DEVICE_ORDER=PCI_BUS_ID\n",
    "%env CUDA_VISIBLE_DEVICES=5"
   ]
  },
  {
   "cell_type": "code",
   "execution_count": 2,
   "metadata": {
    "collapsed": false,
    "execution": {
     "iopub.execute_input": "2022-09-12T11:02:22.911428Z",
     "iopub.status.busy": "2022-09-12T11:02:22.911021Z",
     "iopub.status.idle": "2022-09-12T11:02:22.915273Z",
     "shell.execute_reply": "2022-09-12T11:02:22.914613Z"
    },
    "pycharm": {
     "name": "#%%\n"
    }
   },
   "outputs": [],
   "source": [
    "import os\n",
    "import sys\n",
    "\n",
    "module_path = os.path.abspath(os.path.join('..'))\n",
    "\n",
    "if module_path not in sys.path:\n",
    "    sys.path.append(module_path)"
   ]
  },
  {
   "cell_type": "code",
   "execution_count": 3,
   "metadata": {
    "collapsed": false,
    "execution": {
     "iopub.execute_input": "2022-09-12T11:02:22.920512Z",
     "iopub.status.busy": "2022-09-12T11:02:22.920142Z",
     "iopub.status.idle": "2022-09-12T11:02:24.276861Z",
     "shell.execute_reply": "2022-09-12T11:02:24.275989Z"
    },
    "pycharm": {
     "name": "#%%\n"
    }
   },
   "outputs": [],
   "source": [
    "from classifier import Data\n",
    "\n",
    "dataset = Data(\n",
    "    data_path = \"../imdb.train.sample.csv\",\n",
    "    polarities = {\n",
    "      \"negative\": 0,\n",
    "      \"positive\": 1\n",
    "    },\n",
    "    data_label='review',\n",
    "    target_label='sentiment'\n",
    ")"
   ]
  },
  {
   "cell_type": "code",
   "execution_count": 1,
   "metadata": {
    "collapsed": false,
    "execution": {
     "iopub.execute_input": "2022-09-12T11:02:24.290321Z",
     "iopub.status.busy": "2022-09-12T11:02:24.289976Z",
     "iopub.status.idle": "2022-09-12T11:02:36.433227Z",
     "shell.execute_reply": "2022-09-12T11:02:36.432037Z"
    },
    "pycharm": {
     "name": "#%%\n"
    }
   },
   "outputs": [],
   "source": [
    "from classifier._neural import Encoder\n",
    "\n",
    "enc = Encoder({\n",
    "    'model': 'bert-base-uncased',\n",
    "    'layers': [11]\n",
    "})"
   ]
  },
  {
   "cell_type": "code",
   "execution_count": 5,
   "metadata": {
    "collapsed": false,
    "execution": {
     "iopub.execute_input": "2022-09-12T11:02:36.437216Z",
     "iopub.status.busy": "2022-09-12T11:02:36.436764Z",
     "iopub.status.idle": "2022-09-12T11:02:37.098174Z",
     "shell.execute_reply": "2022-09-12T11:02:37.097528Z"
    },
    "pycharm": {
     "name": "#%%\n"
    }
   },
   "outputs": [
    {
     "name": "stderr",
     "output_type": "stream",
     "text": [
      "                                                                                                                                                                                                                                                                                                                                                                          \r"
     ]
    }
   ],
   "source": [
    "enc.df_encode(dataset.data, col=dataset.data_label, label=dataset.data_path)"
   ]
  },
  {
   "cell_type": "code",
   "execution_count": 6,
   "metadata": {
    "collapsed": false,
    "execution": {
     "iopub.execute_input": "2022-09-12T11:02:37.101543Z",
     "iopub.status.busy": "2022-09-12T11:02:37.100949Z",
     "iopub.status.idle": "2022-09-12T11:02:37.597554Z",
     "shell.execute_reply": "2022-09-12T11:02:37.596741Z"
    },
    "pycharm": {
     "name": "#%%\n"
    }
   },
   "outputs": [],
   "source": [
    "import numpy as np\n",
    "# from sklearn.manifold import MDS\n",
    "from sklearn.decomposition import KernelPCA\n",
    "\n",
    "def manifold_reduction(data: np.ndarray, dim: int = 3) -> np.ndarray:\n",
    "    return KernelPCA(n_components=dim).fit_transform(data)"
   ]
  },
  {
   "cell_type": "code",
   "execution_count": 7,
   "metadata": {
    "collapsed": false,
    "execution": {
     "iopub.execute_input": "2022-09-12T11:02:37.601342Z",
     "iopub.status.busy": "2022-09-12T11:02:37.600992Z",
     "iopub.status.idle": "2022-09-12T11:02:37.610273Z",
     "shell.execute_reply": "2022-09-12T11:02:37.609605Z"
    },
    "pycharm": {
     "name": "#%%\n"
    }
   },
   "outputs": [],
   "source": [
    "from typing import Generator\n",
    "import torch\n",
    "import numpy as np\n",
    "import pandas as pd\n",
    "from scipy.spatial import distance\n",
    "\n",
    "\n",
    "def analysis(\n",
    "        data: pd.DataFrame,\n",
    "        dim: list = None\n",
    ") -> Generator:\n",
    "    if dim is None:\n",
    "        dim = [768, 576, 384, 192, 96, 48, 24, 12, 6, 3]\n",
    "\n",
    "    embed_col: np.ndarray = torch.stack(data[enc.col_name].tolist()).numpy()\n",
    "\n",
    "    for d in dim:\n",
    "\n",
    "        # create record to keep row data\n",
    "        record: dict = {'dim': d}\n",
    "\n",
    "        # if reduction size is equal to encoder output dim, skip manifold reduction\n",
    "        if d == enc.dim:\n",
    "            data['reduced_embeds'] = list(embed_col)\n",
    "        else:\n",
    "            data['reduced_embeds'] = list(manifold_reduction(embed_col, dim=d))\n",
    "\n",
    "        # compute centroid means and dispersion for each cluster\n",
    "        for label, group in data.groupby(dataset.target_label):\n",
    "            record[f'centroid_{label}'] = np.mean(np.stack(group['reduced_embeds'].tolist(), axis=0), axis=0).tolist()\n",
    "            record[f'dispersion_{label}'] = np.sum(distance.pdist(group['reduced_embeds'].tolist()))\n",
    "\n",
    "        record['distance'] = distance.cdist([record['centroid_positive']], [record['centroid_negative']]).item(0)\n",
    "\n",
    "        yield record"
   ]
  },
  {
   "cell_type": "code",
   "execution_count": 8,
   "metadata": {
    "collapsed": false,
    "execution": {
     "iopub.execute_input": "2022-09-12T11:02:37.613234Z",
     "iopub.status.busy": "2022-09-12T11:02:37.612856Z",
     "iopub.status.idle": "2022-09-12T11:02:40.112626Z",
     "shell.execute_reply": "2022-09-12T11:02:40.111960Z"
    },
    "pycharm": {
     "name": "#%%\n"
    }
   },
   "outputs": [
    {
     "data": {
      "text/html": [
       "<div>\n",
       "<style scoped>\n",
       "    .dataframe tbody tr th:only-of-type {\n",
       "        vertical-align: middle;\n",
       "    }\n",
       "\n",
       "    .dataframe tbody tr th {\n",
       "        vertical-align: top;\n",
       "    }\n",
       "\n",
       "    .dataframe thead th {\n",
       "        text-align: right;\n",
       "    }\n",
       "</style>\n",
       "<table border=\"1\" class=\"dataframe\">\n",
       "  <thead>\n",
       "    <tr style=\"text-align: right;\">\n",
       "      <th></th>\n",
       "      <th>dim</th>\n",
       "      <th>dispersion_positive</th>\n",
       "      <th>dispersion_negative</th>\n",
       "      <th>distance</th>\n",
       "    </tr>\n",
       "  </thead>\n",
       "  <tbody>\n",
       "    <tr>\n",
       "      <th>0</th>\n",
       "      <td>768</td>\n",
       "      <td>740.529710</td>\n",
       "      <td>2937.050055</td>\n",
       "      <td>3.035837</td>\n",
       "    </tr>\n",
       "    <tr>\n",
       "      <th>1</th>\n",
       "      <td>576</td>\n",
       "      <td>740.970098</td>\n",
       "      <td>2938.980243</td>\n",
       "      <td>3.028671</td>\n",
       "    </tr>\n",
       "    <tr>\n",
       "      <th>2</th>\n",
       "      <td>384</td>\n",
       "      <td>741.140917</td>\n",
       "      <td>2939.276179</td>\n",
       "      <td>3.018186</td>\n",
       "    </tr>\n",
       "    <tr>\n",
       "      <th>3</th>\n",
       "      <td>192</td>\n",
       "      <td>740.566328</td>\n",
       "      <td>2938.740434</td>\n",
       "      <td>3.038683</td>\n",
       "    </tr>\n",
       "    <tr>\n",
       "      <th>4</th>\n",
       "      <td>96</td>\n",
       "      <td>741.184813</td>\n",
       "      <td>2938.294281</td>\n",
       "      <td>3.002429</td>\n",
       "    </tr>\n",
       "    <tr>\n",
       "      <th>5</th>\n",
       "      <td>48</td>\n",
       "      <td>741.260948</td>\n",
       "      <td>2938.009970</td>\n",
       "      <td>2.994337</td>\n",
       "    </tr>\n",
       "    <tr>\n",
       "      <th>6</th>\n",
       "      <td>24</td>\n",
       "      <td>740.255272</td>\n",
       "      <td>2933.946146</td>\n",
       "      <td>3.054566</td>\n",
       "    </tr>\n",
       "    <tr>\n",
       "      <th>7</th>\n",
       "      <td>12</td>\n",
       "      <td>743.686835</td>\n",
       "      <td>2927.457910</td>\n",
       "      <td>2.840172</td>\n",
       "    </tr>\n",
       "    <tr>\n",
       "      <th>8</th>\n",
       "      <td>6</td>\n",
       "      <td>729.966628</td>\n",
       "      <td>2886.378546</td>\n",
       "      <td>3.221255</td>\n",
       "    </tr>\n",
       "    <tr>\n",
       "      <th>9</th>\n",
       "      <td>3</td>\n",
       "      <td>737.228310</td>\n",
       "      <td>2783.300043</td>\n",
       "      <td>2.846027</td>\n",
       "    </tr>\n",
       "  </tbody>\n",
       "</table>\n",
       "</div>"
      ],
      "text/plain": [
       "   dim  dispersion_positive  dispersion_negative  distance\n",
       "0  768           740.529710          2937.050055  3.035837\n",
       "1  576           740.970098          2938.980243  3.028671\n",
       "2  384           741.140917          2939.276179  3.018186\n",
       "3  192           740.566328          2938.740434  3.038683\n",
       "4   96           741.184813          2938.294281  3.002429\n",
       "5   48           741.260948          2938.009970  2.994337\n",
       "6   24           740.255272          2933.946146  3.054566\n",
       "7   12           743.686835          2927.457910  2.840172\n",
       "8    6           729.966628          2886.378546  3.221255\n",
       "9    3           737.228310          2783.300043  2.846027"
      ]
     },
     "execution_count": 8,
     "metadata": {},
     "output_type": "execute_result"
    }
   ],
   "source": [
    "import pandas as pd\n",
    "\n",
    "cluster_analysis = pd.DataFrame.from_records(list(analysis(dataset.data)))\n",
    "cluster_analysis[['dim', 'dispersion_positive', 'dispersion_negative', 'distance']]"
   ]
  },
  {
   "cell_type": "code",
   "execution_count": null,
   "outputs": [],
   "source": [
    "import pandas as pd\n",
    "\n",
    "cluster_analysis = pd.DataFrame.from_records(list(analysis(dataset.data)))\n",
    "cluster_analysis[['dim', 'dispersion_positive', 'dispersion_negative', 'distance']]"
   ],
   "metadata": {
    "collapsed": false,
    "pycharm": {
     "name": "#%%\n"
    }
   }
  },
  {
   "cell_type": "code",
   "execution_count": null,
   "outputs": [],
   "source": [
    "cluster_analysis[['dim', 'dispersion_positive', 'dispersion_negative', 'distance']].to_csv('./cluster_analysis.csv')"
   ],
   "metadata": {
    "collapsed": false,
    "pycharm": {
     "name": "#%%\n"
    }
   }
  },
  {
   "cell_type": "code",
   "execution_count": 4,
   "outputs": [
    {
     "data": {
      "text/plain": "                                                  review sentiment\n0      John Carpenter's Halloween is quite frankly a ...  positive\n1      This is a strange sex comedy because there`s v...  negative\n2      My friends and I were just discussing how frus...  positive\n3      The premise is ridiculous, the characters unbe...  negative\n4      I enjoyed every moment of this beautiful film ...  positive\n...                                                  ...       ...\n20165  The plot of 'Edison' was decent, but one actor...  negative\n20166  Amateurism best describes the film adaptation ...  negative\n20167  After having seen the movie the first question...  negative\n20168  I was taken to this film by a friend and was s...  positive\n20169  Sholay: Considered to be one of the greatest f...  negative\n\n[20170 rows x 2 columns]",
      "text/html": "<div>\n<style scoped>\n    .dataframe tbody tr th:only-of-type {\n        vertical-align: middle;\n    }\n\n    .dataframe tbody tr th {\n        vertical-align: top;\n    }\n\n    .dataframe thead th {\n        text-align: right;\n    }\n</style>\n<table border=\"1\" class=\"dataframe\">\n  <thead>\n    <tr style=\"text-align: right;\">\n      <th></th>\n      <th>review</th>\n      <th>sentiment</th>\n    </tr>\n  </thead>\n  <tbody>\n    <tr>\n      <th>0</th>\n      <td>John Carpenter's Halloween is quite frankly a ...</td>\n      <td>positive</td>\n    </tr>\n    <tr>\n      <th>1</th>\n      <td>This is a strange sex comedy because there`s v...</td>\n      <td>negative</td>\n    </tr>\n    <tr>\n      <th>2</th>\n      <td>My friends and I were just discussing how frus...</td>\n      <td>positive</td>\n    </tr>\n    <tr>\n      <th>3</th>\n      <td>The premise is ridiculous, the characters unbe...</td>\n      <td>negative</td>\n    </tr>\n    <tr>\n      <th>4</th>\n      <td>I enjoyed every moment of this beautiful film ...</td>\n      <td>positive</td>\n    </tr>\n    <tr>\n      <th>...</th>\n      <td>...</td>\n      <td>...</td>\n    </tr>\n    <tr>\n      <th>20165</th>\n      <td>The plot of 'Edison' was decent, but one actor...</td>\n      <td>negative</td>\n    </tr>\n    <tr>\n      <th>20166</th>\n      <td>Amateurism best describes the film adaptation ...</td>\n      <td>negative</td>\n    </tr>\n    <tr>\n      <th>20167</th>\n      <td>After having seen the movie the first question...</td>\n      <td>negative</td>\n    </tr>\n    <tr>\n      <th>20168</th>\n      <td>I was taken to this film by a friend and was s...</td>\n      <td>positive</td>\n    </tr>\n    <tr>\n      <th>20169</th>\n      <td>Sholay: Considered to be one of the greatest f...</td>\n      <td>negative</td>\n    </tr>\n  </tbody>\n</table>\n<p>20170 rows × 2 columns</p>\n</div>"
     },
     "execution_count": 4,
     "metadata": {},
     "output_type": "execute_result"
    }
   ],
   "source": [
    "import pandas as pd\n",
    "\n",
    "full = pd.read_csv('../data/imdb.train.csv')\n",
    "full"
   ],
   "metadata": {
    "collapsed": false,
    "pycharm": {
     "name": "#%%\n"
    }
   }
  },
  {
   "cell_type": "code",
   "execution_count": 5,
   "outputs": [
    {
     "data": {
      "text/plain": "                                                  review sentiment\n8216   Stewart Moss stars as a scientist who is on a ...  negative\n6122   This fantastic whodunit is an early prototype ...  positive\n4364   The 1997 low-key indie dramedy Henry Fool woul...  positive\n5517   I just saw the movie on tv. I really enjoyed i...  positive\n3326   In Iran, women are not permitted to attend men...  positive\n...                                                  ...       ...\n10960  Seeing \"Moonstruck\" after so many years is a r...  positive\n15614  I figured that any horror film with Orson Well...  negative\n2413   Better than the typical made-for-tv movie, INV...  positive\n5939   A Blair Witch-War Movie that is as much of a l...  negative\n2638   All films made before 1912 really need to be v...  positive\n\n[1008 rows x 2 columns]",
      "text/html": "<div>\n<style scoped>\n    .dataframe tbody tr th:only-of-type {\n        vertical-align: middle;\n    }\n\n    .dataframe tbody tr th {\n        vertical-align: top;\n    }\n\n    .dataframe thead th {\n        text-align: right;\n    }\n</style>\n<table border=\"1\" class=\"dataframe\">\n  <thead>\n    <tr style=\"text-align: right;\">\n      <th></th>\n      <th>review</th>\n      <th>sentiment</th>\n    </tr>\n  </thead>\n  <tbody>\n    <tr>\n      <th>8216</th>\n      <td>Stewart Moss stars as a scientist who is on a ...</td>\n      <td>negative</td>\n    </tr>\n    <tr>\n      <th>6122</th>\n      <td>This fantastic whodunit is an early prototype ...</td>\n      <td>positive</td>\n    </tr>\n    <tr>\n      <th>4364</th>\n      <td>The 1997 low-key indie dramedy Henry Fool woul...</td>\n      <td>positive</td>\n    </tr>\n    <tr>\n      <th>5517</th>\n      <td>I just saw the movie on tv. I really enjoyed i...</td>\n      <td>positive</td>\n    </tr>\n    <tr>\n      <th>3326</th>\n      <td>In Iran, women are not permitted to attend men...</td>\n      <td>positive</td>\n    </tr>\n    <tr>\n      <th>...</th>\n      <td>...</td>\n      <td>...</td>\n    </tr>\n    <tr>\n      <th>10960</th>\n      <td>Seeing \"Moonstruck\" after so many years is a r...</td>\n      <td>positive</td>\n    </tr>\n    <tr>\n      <th>15614</th>\n      <td>I figured that any horror film with Orson Well...</td>\n      <td>negative</td>\n    </tr>\n    <tr>\n      <th>2413</th>\n      <td>Better than the typical made-for-tv movie, INV...</td>\n      <td>positive</td>\n    </tr>\n    <tr>\n      <th>5939</th>\n      <td>A Blair Witch-War Movie that is as much of a l...</td>\n      <td>negative</td>\n    </tr>\n    <tr>\n      <th>2638</th>\n      <td>All films made before 1912 really need to be v...</td>\n      <td>positive</td>\n    </tr>\n  </tbody>\n</table>\n<p>1008 rows × 2 columns</p>\n</div>"
     },
     "execution_count": 5,
     "metadata": {},
     "output_type": "execute_result"
    }
   ],
   "source": [
    "full.sample(frac=0.05)"
   ],
   "metadata": {
    "collapsed": false,
    "pycharm": {
     "name": "#%%\n"
    }
   }
  }
 ],
 "metadata": {
  "kernelspec": {
   "display_name": "Python 3",
   "language": "python",
   "name": "python3"
  },
  "language_info": {
   "codemirror_mode": {
    "name": "ipython",
    "version": 3
   },
   "file_extension": ".py",
   "mimetype": "text/x-python",
   "name": "python",
   "nbconvert_exporter": "python",
   "pygments_lexer": "ipython3",
   "version": "3.8.5"
  }
 },
 "nbformat": 4,
 "nbformat_minor": 0
}