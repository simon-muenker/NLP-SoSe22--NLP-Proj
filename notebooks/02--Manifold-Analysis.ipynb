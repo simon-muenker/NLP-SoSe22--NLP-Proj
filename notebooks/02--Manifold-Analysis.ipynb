{
 "cells": [
  {
   "cell_type": "code",
   "execution_count": 1,
   "metadata": {
    "collapsed": false,
    "execution": {
     "iopub.execute_input": "2022-09-07T17:26:44.637884Z",
     "iopub.status.busy": "2022-09-07T17:26:44.637160Z",
     "iopub.status.idle": "2022-09-07T17:26:44.650073Z",
     "shell.execute_reply": "2022-09-07T17:26:44.649146Z"
    },
    "pycharm": {
     "name": "#%%\n"
    }
   },
   "outputs": [
    {
     "name": "stdout",
     "output_type": "stream",
     "text": [
      "env: CUDA_DEVICE_ORDER=PCI_BUS_ID\n",
      "env: CUDA_VISIBLE_DEVICES=1\n"
     ]
    }
   ],
   "source": [
    "%env CUDA_DEVICE_ORDER=PCI_BUS_ID\n",
    "%env CUDA_VISIBLE_DEVICES=1"
   ]
  },
  {
   "cell_type": "code",
   "execution_count": 2,
   "metadata": {
    "collapsed": false,
    "execution": {
     "iopub.execute_input": "2022-09-07T17:26:44.678875Z",
     "iopub.status.busy": "2022-09-07T17:26:44.678379Z",
     "iopub.status.idle": "2022-09-07T17:26:44.685647Z",
     "shell.execute_reply": "2022-09-07T17:26:44.684473Z"
    },
    "pycharm": {
     "name": "#%%\n"
    }
   },
   "outputs": [],
   "source": [
    "import os\n",
    "import sys\n",
    "\n",
    "module_path = os.path.abspath(os.path.join('..'))\n",
    "\n",
    "if module_path not in sys.path:\n",
    "    sys.path.append(module_path)"
   ]
  },
  {
   "cell_type": "code",
   "execution_count": 3,
   "metadata": {
    "collapsed": false,
    "execution": {
     "iopub.execute_input": "2022-09-07T17:26:44.689317Z",
     "iopub.status.busy": "2022-09-07T17:26:44.688823Z",
     "iopub.status.idle": "2022-09-07T17:26:45.874827Z",
     "shell.execute_reply": "2022-09-07T17:26:45.873608Z"
    },
    "pycharm": {
     "name": "#%%\n"
    }
   },
   "outputs": [],
   "source": [
    "from classifier import Data\n",
    "\n",
    "dataset = Data(\n",
    "    data_path = \"../data/imdb.train.csv\",\n",
    "    polarities = {\n",
    "      \"negative\": 0,\n",
    "      \"positive\": 1\n",
    "    },\n",
    "    data_label='review',\n",
    "    target_label='sentiment'\n",
    ")"
   ]
  },
  {
   "cell_type": "code",
   "execution_count": 4,
   "metadata": {
    "collapsed": false,
    "execution": {
     "iopub.execute_input": "2022-09-07T17:26:45.880420Z",
     "iopub.status.busy": "2022-09-07T17:26:45.880167Z",
     "iopub.status.idle": "2022-09-07T17:26:55.995558Z",
     "shell.execute_reply": "2022-09-07T17:26:55.993656Z"
    },
    "pycharm": {
     "name": "#%%\n"
    }
   },
   "outputs": [],
   "source": [
    "from classifier._neural import Encoder\n",
    "\n",
    "enc = Encoder({\n",
    "    'model': 'bert-base-uncased',\n",
    "    'layers': [11]\n",
    "})"
   ]
  },
  {
   "cell_type": "code",
   "execution_count": 5,
   "metadata": {
    "collapsed": false,
    "execution": {
     "iopub.execute_input": "2022-09-07T17:26:56.002015Z",
     "iopub.status.busy": "2022-09-07T17:26:56.001489Z",
     "iopub.status.idle": "2022-09-07T17:31:12.211528Z",
     "shell.execute_reply": "2022-09-07T17:31:12.210337Z"
    },
    "pycharm": {
     "name": "#%%\n"
    }
   },
   "outputs": [
    {
     "name": "stderr",
     "output_type": "stream",
     "text": [
      "                                                                                                                                                                                                                                                                                                                                                                          \r"
     ]
    }
   ],
   "source": [
    "enc.df_encode(dataset.data, col=dataset.data_label, label=dataset.data_path)"
   ]
  },
  {
   "cell_type": "code",
   "execution_count": 6,
   "metadata": {
    "collapsed": false,
    "execution": {
     "iopub.execute_input": "2022-09-07T17:31:12.218405Z",
     "iopub.status.busy": "2022-09-07T17:31:12.218069Z",
     "iopub.status.idle": "2022-09-07T17:31:12.561199Z",
     "shell.execute_reply": "2022-09-07T17:31:12.560223Z"
    },
    "pycharm": {
     "name": "#%%\n"
    }
   },
   "outputs": [],
   "source": [
    "import numpy as np\n",
    "from sklearn.manifold import TSNE\n",
    "\n",
    "def manifold_reduction(data: np.ndarray, dim: int = 3) -> np.ndarray:\n",
    "    return TSNE(\n",
    "            n_components=dim,\n",
    "            learning_rate='auto',\n",
    "            init='random'\n",
    "        ).fit_transform(data)"
   ]
  },
  {
   "cell_type": "code",
   "execution_count": 7,
   "metadata": {
    "collapsed": false,
    "execution": {
     "iopub.execute_input": "2022-09-07T17:31:12.566826Z",
     "iopub.status.busy": "2022-09-07T17:31:12.566550Z",
     "iopub.status.idle": "2022-09-07T17:31:12.592358Z",
     "shell.execute_reply": "2022-09-07T17:31:12.591424Z"
    },
    "pycharm": {
     "name": "#%%\n"
    }
   },
   "outputs": [],
   "source": [
    "import torch\n",
    "\n",
    "embed_col: np.ndarray = torch.stack(dataset.data[enc.col_name].tolist()).numpy()"
   ]
  },
  {
   "cell_type": "code",
   "execution_count": 2,
   "outputs": [],
   "source": [
    "centroid_records: list = []"
   ],
   "metadata": {
    "collapsed": false,
    "pycharm": {
     "name": "#%%\n"
    }
   }
  },
  {
   "cell_type": "code",
   "execution_count": 1,
   "outputs": [
    {
     "ename": "SyntaxError",
     "evalue": "unmatched ')' (3934540762.py, line 9)",
     "output_type": "error",
     "traceback": [
      "\u001B[0;36m  Input \u001B[0;32mIn [1]\u001B[0;36m\u001B[0m\n\u001B[0;31m    record[label] = np.mean(np.stack(group['reduced_embeds'].tolist(), axis=0), axis=0))\u001B[0m\n\u001B[0m                                                                                       ^\u001B[0m\n\u001B[0;31mSyntaxError\u001B[0m\u001B[0;31m:\u001B[0m unmatched ')'\n"
     ]
    }
   ],
   "source": [
    "import numpy as np\n",
    "\n",
    "for i in [768, 384, 192, 96, 48, 24, 12, 6, 3]:\n",
    "    record: dict = {'dim': i}\n",
    "\n",
    "    dataset.data['reduced_embeds'] = list(manifold_reduction(embed_col))\n",
    "\n",
    "    for label, group in dataset.data.groupby(dataset.target_label):\n",
    "        record[label] = np.mean(np.stack(group['reduced_embeds'].tolist(), axis=0), axis=0)\n",
    "\n",
    "    centroid_records.append(record)"
   ],
   "metadata": {
    "collapsed": false,
    "pycharm": {
     "name": "#%%\n"
    }
   }
  },
  {
   "cell_type": "code",
   "execution_count": null,
   "outputs": [],
   "source": [
    "import pandas as pd\n",
    "\n",
    "pd.DataFrame.from_records(centroid_records).to_csv('./centroid_analysis.csv')"
   ],
   "metadata": {
    "collapsed": false,
    "pycharm": {
     "name": "#%%\n"
    }
   }
  }
 ],
 "metadata": {
  "kernelspec": {
   "display_name": "Python 3",
   "language": "python",
   "name": "python3"
  },
  "language_info": {
   "codemirror_mode": {
    "name": "ipython",
    "version": 3
   },
   "file_extension": ".py",
   "mimetype": "text/x-python",
   "name": "python",
   "nbconvert_exporter": "python",
   "pygments_lexer": "ipython3",
   "version": "3.8.5"
  }
 },
 "nbformat": 4,
 "nbformat_minor": 0
}