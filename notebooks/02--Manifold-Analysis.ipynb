{
 "cells": [
  {
   "cell_type": "code",
   "execution_count": 1,
   "metadata": {
    "collapsed": false,
    "execution": {
     "iopub.execute_input": "2022-09-07T16:56:07.362680Z",
     "iopub.status.busy": "2022-09-07T16:56:07.361938Z",
     "iopub.status.idle": "2022-09-07T16:56:07.376095Z",
     "shell.execute_reply": "2022-09-07T16:56:07.375040Z"
    },
    "pycharm": {
     "name": "#%%\n"
    }
   },
   "outputs": [
    {
     "name": "stdout",
     "output_type": "stream",
     "text": [
      "env: CUDA_DEVICE_ORDER=PCI_BUS_ID\n",
      "env: CUDA_VISIBLE_DEVICES=1\n"
     ]
    }
   ],
   "source": [
    "%env CUDA_DEVICE_ORDER=PCI_BUS_ID\n",
    "%env CUDA_VISIBLE_DEVICES=1"
   ]
  },
  {
   "cell_type": "code",
   "execution_count": 2,
   "metadata": {
    "collapsed": false,
    "execution": {
     "iopub.execute_input": "2022-09-07T16:56:07.407570Z",
     "iopub.status.busy": "2022-09-07T16:56:07.406874Z",
     "iopub.status.idle": "2022-09-07T16:56:07.415360Z",
     "shell.execute_reply": "2022-09-07T16:56:07.413840Z"
    },
    "pycharm": {
     "name": "#%%\n"
    }
   },
   "outputs": [],
   "source": [
    "import os\n",
    "import sys\n",
    "\n",
    "module_path = os.path.abspath(os.path.join('..'))\n",
    "\n",
    "if module_path not in sys.path:\n",
    "    sys.path.append(module_path)"
   ]
  },
  {
   "cell_type": "code",
   "execution_count": 3,
   "metadata": {
    "collapsed": false,
    "execution": {
     "iopub.execute_input": "2022-09-07T16:56:07.419949Z",
     "iopub.status.busy": "2022-09-07T16:56:07.419375Z",
     "iopub.status.idle": "2022-09-07T16:56:08.496396Z",
     "shell.execute_reply": "2022-09-07T16:56:08.495253Z"
    },
    "pycharm": {
     "name": "#%%\n"
    }
   },
   "outputs": [],
   "source": [
    "from classifier import Data\n",
    "\n",
    "dataset = Data(\n",
    "    data_path = \"../data/imdb.train.csv\",\n",
    "    polarities = {\n",
    "      \"negative\": 0,\n",
    "      \"positive\": 1\n",
    "    },\n",
    "    data_label='review',\n",
    "    target_label='sentiment'\n",
    ")"
   ]
  },
  {
   "cell_type": "code",
   "execution_count": 4,
   "metadata": {
    "collapsed": false,
    "execution": {
     "iopub.execute_input": "2022-09-07T16:56:08.502365Z",
     "iopub.status.busy": "2022-09-07T16:56:08.501903Z",
     "iopub.status.idle": "2022-09-07T16:56:18.346642Z",
     "shell.execute_reply": "2022-09-07T16:56:18.345051Z"
    },
    "pycharm": {
     "name": "#%%\n"
    }
   },
   "outputs": [],
   "source": [
    "from classifier._neural import Encoder\n",
    "\n",
    "enc = Encoder({\n",
    "    'model': 'bert-base-uncased',\n",
    "    'layers': [11]\n",
    "})"
   ]
  },
  {
   "cell_type": "code",
   "execution_count": 5,
   "metadata": {
    "collapsed": false,
    "execution": {
     "iopub.execute_input": "2022-09-07T16:56:18.353063Z",
     "iopub.status.busy": "2022-09-07T16:56:18.352667Z",
     "iopub.status.idle": "2022-09-07T17:00:35.094699Z",
     "shell.execute_reply": "2022-09-07T17:00:35.093600Z"
    },
    "pycharm": {
     "name": "#%%\n"
    }
   },
   "outputs": [
    {
     "name": "stderr",
     "output_type": "stream",
     "text": [
      "                                                                                                                                                                                                                                                                                                                                                                          \r"
     ]
    }
   ],
   "source": [
    "enc.df_encode(dataset.data, col=dataset.data_label, label=dataset.data_path)"
   ]
  },
  {
   "cell_type": "code",
   "execution_count": 6,
   "metadata": {
    "collapsed": false,
    "execution": {
     "iopub.execute_input": "2022-09-07T17:00:35.101815Z",
     "iopub.status.busy": "2022-09-07T17:00:35.101467Z",
     "iopub.status.idle": "2022-09-07T17:00:35.438858Z",
     "shell.execute_reply": "2022-09-07T17:00:35.437762Z"
    },
    "pycharm": {
     "name": "#%%\n"
    }
   },
   "outputs": [],
   "source": [
    "import numpy as np\n",
    "from sklearn.manifold import TSNE\n",
    "\n",
    "def manifold_reduction(data: np.ndarray, dim: int = 3) -> np.ndarray:\n",
    "    return TSNE(\n",
    "            n_components=dim,\n",
    "            learning_rate='auto',\n",
    "            init='random'\n",
    "        ).fit_transform(data)"
   ]
  },
  {
   "cell_type": "code",
   "execution_count": 7,
   "metadata": {
    "collapsed": false,
    "execution": {
     "iopub.execute_input": "2022-09-07T17:00:35.443442Z",
     "iopub.status.busy": "2022-09-07T17:00:35.443161Z",
     "iopub.status.idle": "2022-09-07T17:00:35.468964Z",
     "shell.execute_reply": "2022-09-07T17:00:35.468047Z"
    },
    "pycharm": {
     "name": "#%%\n"
    }
   },
   "outputs": [],
   "source": [
    "import torch\n",
    "\n",
    "prepared_data: np.ndarray = torch.stack(dataset.data[enc.col_name].tolist()).numpy()"
   ]
  },
  {
   "cell_type": "code",
   "execution_count": 8,
   "metadata": {
    "collapsed": false,
    "execution": {
     "iopub.execute_input": "2022-09-07T17:00:35.473681Z",
     "iopub.status.busy": "2022-09-07T17:00:35.473391Z",
     "iopub.status.idle": "2022-09-07T17:02:46.723398Z",
     "shell.execute_reply": "2022-09-07T17:02:46.722683Z"
    },
    "pycharm": {
     "name": "#%%\n"
    }
   },
   "outputs": [
    {
     "data": {
      "text/plain": [
       "(20170, 3)"
      ]
     },
     "execution_count": 8,
     "metadata": {},
     "output_type": "execute_result"
    }
   ],
   "source": [
    "reduced_data = manifold_reduction(prepared_data)\n",
    "reduced_data.shape"
   ]
  },
  {
   "cell_type": "code",
   "execution_count": 9,
   "metadata": {
    "collapsed": false,
    "execution": {
     "iopub.execute_input": "2022-09-07T17:02:46.728940Z",
     "iopub.status.busy": "2022-09-07T17:02:46.728619Z",
     "iopub.status.idle": "2022-09-07T17:02:46.745241Z",
     "shell.execute_reply": "2022-09-07T17:02:46.744617Z"
    },
    "pycharm": {
     "name": "#%%\n"
    }
   },
   "outputs": [],
   "source": [
    "dataset.data['reduced_embeds'] = list(reduced_data)"
   ]
  },
  {
   "cell_type": "code",
   "execution_count": 10,
   "metadata": {
    "collapsed": false,
    "execution": {
     "iopub.execute_input": "2022-09-07T17:02:46.748523Z",
     "iopub.status.busy": "2022-09-07T17:02:46.748180Z",
     "iopub.status.idle": "2022-09-07T17:02:47.065028Z",
     "shell.execute_reply": "2022-09-07T17:02:47.064308Z"
    },
    "pycharm": {
     "name": "#%%\n"
    }
   },
   "outputs": [
    {
     "name": "stdout",
     "output_type": "stream",
     "text": [
      "                                                  review sentiment  \\\n",
      "1      This is a strange sex comedy because there`s v...  negative   \n",
      "3      The premise is ridiculous, the characters unbe...  negative   \n",
      "5      This was just a terrible movie. It hurt me to ...  negative   \n",
      "6      I cannot say that Aag is the worst Bollywood f...  negative   \n",
      "13     I firmly believe that the best Oscar ceremony ...  negative   \n",
      "...                                                  ...       ...   \n",
      "20164  Former brat pack actor and all round pretty bo...  negative   \n",
      "20165  The plot of 'Edison' was decent, but one actor...  negative   \n",
      "20166  Amateurism best describes the film adaptation ...  negative   \n",
      "20167  After having seen the movie the first question...  negative   \n",
      "20169  Sholay: Considered to be one of the greatest f...  negative   \n",
      "\n",
      "                                              prediction  \\\n",
      "1      [tensor(-0.2426), tensor(-0.2292), tensor(0.58...   \n",
      "3      [tensor(0.1673), tensor(-0.1038), tensor(0.331...   \n",
      "5      [tensor(-0.0192), tensor(-0.2233), tensor(0.37...   \n",
      "6      [tensor(0.0318), tensor(0.0445), tensor(0.1682...   \n",
      "13     [tensor(-0.3634), tensor(0.0249), tensor(0.408...   \n",
      "...                                                  ...   \n",
      "20164  [tensor(0.1454), tensor(-0.3838), tensor(0.535...   \n",
      "20165  [tensor(0.2097), tensor(-0.1760), tensor(0.160...   \n",
      "20166  [tensor(0.2293), tensor(-0.0312), tensor(0.332...   \n",
      "20167  [tensor(0.1255), tensor(-0.3455), tensor(0.216...   \n",
      "20169  [tensor(-0.4615), tensor(-0.4739), tensor(0.04...   \n",
      "\n",
      "                            reduced_embeds  \n",
      "1        [11.30804, -37.05536, -12.467995]  \n",
      "3       [13.321947, -15.659536, -8.491084]  \n",
      "5       [-1.8904169, 5.6247015, 22.437231]  \n",
      "6      [-18.053621, 13.367298, -3.2648776]  \n",
      "13      [-25.130259, 15.242754, 13.628943]  \n",
      "...                                    ...  \n",
      "20164   [12.056843, -37.80037, -12.039914]  \n",
      "20165     [8.76386, -7.2714534, 16.323383]  \n",
      "20166   [15.41088, -25.108738, -14.770332]  \n",
      "20167    [35.20885, -20.931326, -1.067286]  \n",
      "20169    [-14.412509, 20.76673, 20.393763]  \n",
      "\n",
      "[8928 rows x 4 columns]\n",
      "                                                  review sentiment  \\\n",
      "0      John Carpenter's Halloween is quite frankly a ...  positive   \n",
      "2      My friends and I were just discussing how frus...  positive   \n",
      "4      I enjoyed every moment of this beautiful film ...  positive   \n",
      "7      Every great gangster movie has under-currents ...  positive   \n",
      "8      Simply one of the best ever! Richard Brooks' a...  positive   \n",
      "...                                                  ...       ...   \n",
      "20157  I'm not entirely sure Rob Schmidt qualifies as...  positive   \n",
      "20158  Until today I had never seen this film. Its wa...  positive   \n",
      "20161  Jessica Alba's Max and Valerie Rae Miller's Or...  positive   \n",
      "20162  Too many sources routinely lump this thought-p...  positive   \n",
      "20168  I was taken to this film by a friend and was s...  positive   \n",
      "\n",
      "                                              prediction  \\\n",
      "0      [tensor(-0.3749), tensor(-0.3184), tensor(0.44...   \n",
      "2      [tensor(-0.1163), tensor(-0.3920), tensor(0.19...   \n",
      "4      [tensor(0.2827), tensor(-0.1200), tensor(0.343...   \n",
      "7      [tensor(-0.3249), tensor(-0.0370), tensor(0.15...   \n",
      "8      [tensor(-0.3523), tensor(-0.4992), tensor(0.61...   \n",
      "...                                                  ...   \n",
      "20157  [tensor(-0.1349), tensor(-0.0492), tensor(0.22...   \n",
      "20158  [tensor(-0.0470), tensor(0.0299), tensor(0.412...   \n",
      "20161  [tensor(-0.0538), tensor(-0.2087), tensor(0.32...   \n",
      "20162  [tensor(-0.2773), tensor(0.0991), tensor(0.218...   \n",
      "20168  [tensor(-0.0166), tensor(-0.1209), tensor(0.33...   \n",
      "\n",
      "                             reduced_embeds  \n",
      "0       [16.934196, -4.8721585, -28.992468]  \n",
      "2          [-0.5896398, 20.21216, 6.843348]  \n",
      "4        [26.319836, 10.955003, -13.392001]  \n",
      "7       [-32.178596, 22.494059, -5.9611573]  \n",
      "8        [24.066599, 14.692795, -2.6905706]  \n",
      "...                                     ...  \n",
      "20157     [-43.66556, 13.365399, 2.8743386]  \n",
      "20158    [-10.4239435, 11.629948, 4.031062]  \n",
      "20161   [36.406887, -14.371695, -16.584692]  \n",
      "20162  [-28.558578, -1.9737102, -17.374727]  \n",
      "20168   [33.588375, -0.0780092, -13.049819]  \n",
      "\n",
      "[11242 rows x 4 columns]\n"
     ]
    }
   ],
   "source": [
    "for _, group in dataset.data.groupby(dataset.target_label):\n",
    "    print(group)"
   ]
  },
  {
   "cell_type": "code",
   "execution_count": null,
   "metadata": {
    "collapsed": false,
    "pycharm": {
     "name": "#%%\n"
    }
   },
   "outputs": [],
   "source": []
  }
 ],
 "metadata": {
  "kernelspec": {
   "display_name": "Python 3",
   "language": "python",
   "name": "python3"
  },
  "language_info": {
   "codemirror_mode": {
    "name": "ipython",
    "version": 3
   },
   "file_extension": ".py",
   "mimetype": "text/x-python",
   "name": "python",
   "nbconvert_exporter": "python",
   "pygments_lexer": "ipython3",
   "version": "3.8.5"
  }
 },
 "nbformat": 4,
 "nbformat_minor": 0
}
