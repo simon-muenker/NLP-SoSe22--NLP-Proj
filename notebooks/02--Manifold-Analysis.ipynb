{
 "cells": [
  {
   "cell_type": "code",
   "execution_count": 1,
   "metadata": {
    "collapsed": false,
    "execution": {
     "iopub.execute_input": "2022-09-12T15:02:11.697984Z",
     "iopub.status.busy": "2022-09-12T15:02:11.697522Z",
     "iopub.status.idle": "2022-09-12T15:02:11.708952Z",
     "shell.execute_reply": "2022-09-12T15:02:11.708121Z"
    },
    "pycharm": {
     "name": "#%%\n"
    }
   },
   "outputs": [
    {
     "name": "stdout",
     "output_type": "stream",
     "text": [
      "env: CUDA_DEVICE_ORDER=PCI_BUS_ID\n",
      "env: CUDA_VISIBLE_DEVICES=5\n"
     ]
    }
   ],
   "source": [
    "%env CUDA_DEVICE_ORDER=PCI_BUS_ID\n",
    "%env CUDA_VISIBLE_DEVICES=5"
   ]
  },
  {
   "cell_type": "code",
   "execution_count": 2,
   "metadata": {
    "collapsed": false,
    "execution": {
     "iopub.execute_input": "2022-09-12T15:02:11.738968Z",
     "iopub.status.busy": "2022-09-12T15:02:11.738515Z",
     "iopub.status.idle": "2022-09-12T15:02:11.744530Z",
     "shell.execute_reply": "2022-09-12T15:02:11.743495Z"
    },
    "pycharm": {
     "name": "#%%\n"
    }
   },
   "outputs": [],
   "source": [
    "import os\n",
    "import sys\n",
    "\n",
    "module_path = os.path.abspath(os.path.join('..'))\n",
    "\n",
    "if module_path not in sys.path:\n",
    "    sys.path.append(module_path)"
   ]
  },
  {
   "cell_type": "code",
   "execution_count": 3,
   "metadata": {
    "collapsed": false,
    "execution": {
     "iopub.execute_input": "2022-09-12T15:02:11.747948Z",
     "iopub.status.busy": "2022-09-12T15:02:11.747563Z",
     "iopub.status.idle": "2022-09-12T15:02:12.609938Z",
     "shell.execute_reply": "2022-09-12T15:02:12.608862Z"
    },
    "pycharm": {
     "name": "#%%\n"
    }
   },
   "outputs": [],
   "source": [
    "from classifier import Data\n",
    "\n",
    "dataset = Data(\n",
    "    data_path = \"../data/imdb.train.sample.csv\",\n",
    "    polarities = {\n",
    "      \"negative\": 0,\n",
    "      \"positive\": 1\n",
    "    },\n",
    "    data_label='review',\n",
    "    target_label='sentiment'\n",
    ")"
   ]
  },
  {
   "cell_type": "code",
   "execution_count": 4,
   "metadata": {
    "collapsed": false,
    "execution": {
     "iopub.execute_input": "2022-09-12T15:02:12.614877Z",
     "iopub.status.busy": "2022-09-12T15:02:12.614636Z",
     "iopub.status.idle": "2022-09-12T15:02:21.375651Z",
     "shell.execute_reply": "2022-09-12T15:02:21.373541Z"
    },
    "pycharm": {
     "name": "#%%\n"
    }
   },
   "outputs": [],
   "source": [
    "from classifier._neural import Encoder\n",
    "\n",
    "enc = Encoder({\n",
    "    'model': 'textattack/bert-base-uncased-imdb',\n",
    "    'layers': [11]\n",
    "})"
   ]
  },
  {
   "cell_type": "code",
   "execution_count": 5,
   "metadata": {
    "collapsed": false,
    "execution": {
     "iopub.execute_input": "2022-09-12T15:02:21.381410Z",
     "iopub.status.busy": "2022-09-12T15:02:21.381101Z",
     "iopub.status.idle": "2022-09-12T15:02:35.463175Z",
     "shell.execute_reply": "2022-09-12T15:02:35.461975Z"
    },
    "pycharm": {
     "name": "#%%\n"
    }
   },
   "outputs": [
    {
     "name": "stderr",
     "output_type": "stream",
     "text": [
      "                                                                                                                                                                                                                                                                                                                                                                          \r"
     ]
    }
   ],
   "source": [
    "enc.df_encode(dataset.data, col=dataset.data_label, label=dataset.data_path)"
   ]
  },
  {
   "cell_type": "code",
   "execution_count": 6,
   "metadata": {
    "collapsed": false,
    "execution": {
     "iopub.execute_input": "2022-09-12T15:02:35.469206Z",
     "iopub.status.busy": "2022-09-12T15:02:35.468331Z",
     "iopub.status.idle": "2022-09-12T15:02:35.838216Z",
     "shell.execute_reply": "2022-09-12T15:02:35.836799Z"
    },
    "pycharm": {
     "name": "#%%\n"
    }
   },
   "outputs": [],
   "source": [
    "import numpy as np\n",
    "from sklearn.manifold import MDS\n",
    "\n",
    "def manifold_reduction(data: np.ndarray, dim: int = 3) -> np.ndarray:\n",
    "    return MDS(n_components=dim).fit_transform(data)"
   ]
  },
  {
   "cell_type": "code",
   "execution_count": 7,
   "metadata": {
    "collapsed": false,
    "execution": {
     "iopub.execute_input": "2022-09-12T15:02:35.843716Z",
     "iopub.status.busy": "2022-09-12T15:02:35.843254Z",
     "iopub.status.idle": "2022-09-12T15:02:35.853665Z",
     "shell.execute_reply": "2022-09-12T15:02:35.852703Z"
    },
    "pycharm": {
     "name": "#%%\n"
    }
   },
   "outputs": [],
   "source": [
    "from typing import Generator\n",
    "import torch\n",
    "import numpy as np\n",
    "import pandas as pd\n",
    "from scipy.spatial import distance\n",
    "\n",
    "\n",
    "def analysis(\n",
    "        data: pd.DataFrame,\n",
    "        dim: list = None\n",
    ") -> Generator:\n",
    "    if dim is None:\n",
    "        dim = [768, 576, 384, 192, 96, 48, 24, 12, 6, 3]\n",
    "\n",
    "    embed_col: np.ndarray = torch.stack(data[enc.col_name].tolist()).numpy()\n",
    "\n",
    "    for d in dim:\n",
    "\n",
    "        # create record to keep row data\n",
    "        record: dict = {'dim': d}\n",
    "\n",
    "        # if reduction size is equal to encoder output dim, skip manifold reduction\n",
    "        if d == enc.dim:\n",
    "            data['reduced_embeds'] = list(embed_col)\n",
    "        else:\n",
    "            data['reduced_embeds'] = list(manifold_reduction(embed_col, dim=d))\n",
    "\n",
    "        # compute centroid means and dispersion for each cluster\n",
    "        for label, group in data.groupby(dataset.target_label):\n",
    "            record[f'centroid_{label}'] = np.mean(np.stack(group['reduced_embeds'].tolist(), axis=0), axis=0).tolist()\n",
    "            record[f'dispersion_{label}'] = np.sum(distance.pdist(group['reduced_embeds'].tolist()))\n",
    "\n",
    "        record['distance'] = distance.cdist([record['centroid_positive']], [record['centroid_negative']]).item(0)\n",
    "\n",
    "        yield record"
   ]
  },
  {
   "cell_type": "code",
   "execution_count": 8,
   "metadata": {
    "collapsed": false,
    "execution": {
     "iopub.execute_input": "2022-09-12T15:02:35.858144Z",
     "iopub.status.busy": "2022-09-12T15:02:35.857780Z",
     "iopub.status.idle": "2022-09-12T15:08:59.928425Z",
     "shell.execute_reply": "2022-09-12T15:08:59.927305Z"
    },
    "pycharm": {
     "name": "#%%\n"
    }
   },
   "outputs": [
    {
     "data": {
      "text/html": [
       "<div>\n",
       "<style scoped>\n",
       "    .dataframe tbody tr th:only-of-type {\n",
       "        vertical-align: middle;\n",
       "    }\n",
       "\n",
       "    .dataframe tbody tr th {\n",
       "        vertical-align: top;\n",
       "    }\n",
       "\n",
       "    .dataframe thead th {\n",
       "        text-align: right;\n",
       "    }\n",
       "</style>\n",
       "<table border=\"1\" class=\"dataframe\">\n",
       "  <thead>\n",
       "    <tr style=\"text-align: right;\">\n",
       "      <th></th>\n",
       "      <th>dim</th>\n",
       "      <th>dispersion_positive</th>\n",
       "      <th>dispersion_negative</th>\n",
       "      <th>distance</th>\n",
       "    </tr>\n",
       "  </thead>\n",
       "  <tbody>\n",
       "    <tr>\n",
       "      <th>0</th>\n",
       "      <td>768</td>\n",
       "      <td>1.709004e+06</td>\n",
       "      <td>1.349562e+06</td>\n",
       "      <td>22.700799</td>\n",
       "    </tr>\n",
       "    <tr>\n",
       "      <th>1</th>\n",
       "      <td>576</td>\n",
       "      <td>1.709415e+06</td>\n",
       "      <td>1.349937e+06</td>\n",
       "      <td>22.701091</td>\n",
       "    </tr>\n",
       "    <tr>\n",
       "      <th>2</th>\n",
       "      <td>384</td>\n",
       "      <td>1.709337e+06</td>\n",
       "      <td>1.349875e+06</td>\n",
       "      <td>22.701175</td>\n",
       "    </tr>\n",
       "    <tr>\n",
       "      <th>3</th>\n",
       "      <td>192</td>\n",
       "      <td>1.709047e+06</td>\n",
       "      <td>1.349683e+06</td>\n",
       "      <td>22.701461</td>\n",
       "    </tr>\n",
       "    <tr>\n",
       "      <th>4</th>\n",
       "      <td>96</td>\n",
       "      <td>1.708582e+06</td>\n",
       "      <td>1.349409e+06</td>\n",
       "      <td>22.701736</td>\n",
       "    </tr>\n",
       "    <tr>\n",
       "      <th>5</th>\n",
       "      <td>48</td>\n",
       "      <td>1.707326e+06</td>\n",
       "      <td>1.348580e+06</td>\n",
       "      <td>22.702967</td>\n",
       "    </tr>\n",
       "    <tr>\n",
       "      <th>6</th>\n",
       "      <td>24</td>\n",
       "      <td>1.704465e+06</td>\n",
       "      <td>1.346718e+06</td>\n",
       "      <td>22.705300</td>\n",
       "    </tr>\n",
       "    <tr>\n",
       "      <th>7</th>\n",
       "      <td>12</td>\n",
       "      <td>1.697297e+06</td>\n",
       "      <td>1.341795e+06</td>\n",
       "      <td>22.712486</td>\n",
       "    </tr>\n",
       "    <tr>\n",
       "      <th>8</th>\n",
       "      <td>6</td>\n",
       "      <td>1.675842e+06</td>\n",
       "      <td>1.327215e+06</td>\n",
       "      <td>22.739022</td>\n",
       "    </tr>\n",
       "    <tr>\n",
       "      <th>9</th>\n",
       "      <td>3</td>\n",
       "      <td>1.587790e+06</td>\n",
       "      <td>1.272563e+06</td>\n",
       "      <td>22.910621</td>\n",
       "    </tr>\n",
       "  </tbody>\n",
       "</table>\n",
       "</div>"
      ],
      "text/plain": [
       "   dim  dispersion_positive  dispersion_negative   distance\n",
       "0  768         1.709004e+06         1.349562e+06  22.700799\n",
       "1  576         1.709415e+06         1.349937e+06  22.701091\n",
       "2  384         1.709337e+06         1.349875e+06  22.701175\n",
       "3  192         1.709047e+06         1.349683e+06  22.701461\n",
       "4   96         1.708582e+06         1.349409e+06  22.701736\n",
       "5   48         1.707326e+06         1.348580e+06  22.702967\n",
       "6   24         1.704465e+06         1.346718e+06  22.705300\n",
       "7   12         1.697297e+06         1.341795e+06  22.712486\n",
       "8    6         1.675842e+06         1.327215e+06  22.739022\n",
       "9    3         1.587790e+06         1.272563e+06  22.910621"
      ]
     },
     "execution_count": 8,
     "metadata": {},
     "output_type": "execute_result"
    }
   ],
   "source": [
    "import pandas as pd\n",
    "\n",
    "cluster_analysis = pd.DataFrame.from_records(list(analysis(dataset.data)))\n",
    "cluster_analysis[['dim', 'dispersion_positive', 'dispersion_negative', 'distance']]"
   ]
  },
  {
   "cell_type": "code",
   "execution_count": 9,
   "metadata": {
    "collapsed": false,
    "execution": {
     "iopub.execute_input": "2022-09-12T15:08:59.933420Z",
     "iopub.status.busy": "2022-09-12T15:08:59.932778Z",
     "iopub.status.idle": "2022-09-12T15:15:26.979435Z",
     "shell.execute_reply": "2022-09-12T15:15:26.975836Z"
    },
    "pycharm": {
     "name": "#%%\n"
    }
   },
   "outputs": [
    {
     "data": {
      "text/html": [
       "<div>\n",
       "<style scoped>\n",
       "    .dataframe tbody tr th:only-of-type {\n",
       "        vertical-align: middle;\n",
       "    }\n",
       "\n",
       "    .dataframe tbody tr th {\n",
       "        vertical-align: top;\n",
       "    }\n",
       "\n",
       "    .dataframe thead th {\n",
       "        text-align: right;\n",
       "    }\n",
       "</style>\n",
       "<table border=\"1\" class=\"dataframe\">\n",
       "  <thead>\n",
       "    <tr style=\"text-align: right;\">\n",
       "      <th></th>\n",
       "      <th>dim</th>\n",
       "      <th>dispersion_positive</th>\n",
       "      <th>dispersion_negative</th>\n",
       "      <th>distance</th>\n",
       "    </tr>\n",
       "  </thead>\n",
       "  <tbody>\n",
       "    <tr>\n",
       "      <th>0</th>\n",
       "      <td>768</td>\n",
       "      <td>1.709004e+06</td>\n",
       "      <td>1.349562e+06</td>\n",
       "      <td>22.700799</td>\n",
       "    </tr>\n",
       "    <tr>\n",
       "      <th>1</th>\n",
       "      <td>576</td>\n",
       "      <td>1.709429e+06</td>\n",
       "      <td>1.349943e+06</td>\n",
       "      <td>22.701073</td>\n",
       "    </tr>\n",
       "    <tr>\n",
       "      <th>2</th>\n",
       "      <td>384</td>\n",
       "      <td>1.709368e+06</td>\n",
       "      <td>1.349906e+06</td>\n",
       "      <td>22.701080</td>\n",
       "    </tr>\n",
       "    <tr>\n",
       "      <th>3</th>\n",
       "      <td>192</td>\n",
       "      <td>1.709093e+06</td>\n",
       "      <td>1.349721e+06</td>\n",
       "      <td>22.701409</td>\n",
       "    </tr>\n",
       "    <tr>\n",
       "      <th>4</th>\n",
       "      <td>96</td>\n",
       "      <td>1.708548e+06</td>\n",
       "      <td>1.349361e+06</td>\n",
       "      <td>22.701763</td>\n",
       "    </tr>\n",
       "    <tr>\n",
       "      <th>5</th>\n",
       "      <td>48</td>\n",
       "      <td>1.707356e+06</td>\n",
       "      <td>1.348583e+06</td>\n",
       "      <td>22.702989</td>\n",
       "    </tr>\n",
       "    <tr>\n",
       "      <th>6</th>\n",
       "      <td>24</td>\n",
       "      <td>1.704511e+06</td>\n",
       "      <td>1.346745e+06</td>\n",
       "      <td>22.705339</td>\n",
       "    </tr>\n",
       "    <tr>\n",
       "      <th>7</th>\n",
       "      <td>12</td>\n",
       "      <td>1.697146e+06</td>\n",
       "      <td>1.341956e+06</td>\n",
       "      <td>22.713308</td>\n",
       "    </tr>\n",
       "    <tr>\n",
       "      <th>8</th>\n",
       "      <td>6</td>\n",
       "      <td>1.675997e+06</td>\n",
       "      <td>1.326900e+06</td>\n",
       "      <td>22.738131</td>\n",
       "    </tr>\n",
       "    <tr>\n",
       "      <th>9</th>\n",
       "      <td>3</td>\n",
       "      <td>1.580486e+06</td>\n",
       "      <td>1.271556e+06</td>\n",
       "      <td>22.918353</td>\n",
       "    </tr>\n",
       "  </tbody>\n",
       "</table>\n",
       "</div>"
      ],
      "text/plain": [
       "   dim  dispersion_positive  dispersion_negative   distance\n",
       "0  768         1.709004e+06         1.349562e+06  22.700799\n",
       "1  576         1.709429e+06         1.349943e+06  22.701073\n",
       "2  384         1.709368e+06         1.349906e+06  22.701080\n",
       "3  192         1.709093e+06         1.349721e+06  22.701409\n",
       "4   96         1.708548e+06         1.349361e+06  22.701763\n",
       "5   48         1.707356e+06         1.348583e+06  22.702989\n",
       "6   24         1.704511e+06         1.346745e+06  22.705339\n",
       "7   12         1.697146e+06         1.341956e+06  22.713308\n",
       "8    6         1.675997e+06         1.326900e+06  22.738131\n",
       "9    3         1.580486e+06         1.271556e+06  22.918353"
      ]
     },
     "execution_count": 9,
     "metadata": {},
     "output_type": "execute_result"
    }
   ],
   "source": [
    "import pandas as pd\n",
    "\n",
    "cluster_analysis = pd.DataFrame.from_records(list(analysis(dataset.data)))\n",
    "cluster_analysis[['dim', 'dispersion_positive', 'dispersion_negative', 'distance']]"
   ]
  },
  {
   "cell_type": "code",
   "execution_count": 10,
   "metadata": {
    "collapsed": false,
    "execution": {
     "iopub.execute_input": "2022-09-12T15:15:26.987675Z",
     "iopub.status.busy": "2022-09-12T15:15:26.986683Z",
     "iopub.status.idle": "2022-09-12T15:15:27.005585Z",
     "shell.execute_reply": "2022-09-12T15:15:27.004790Z"
    },
    "pycharm": {
     "name": "#%%\n"
    }
   },
   "outputs": [],
   "source": [
    "cluster_analysis[['dim', 'dispersion_positive', 'dispersion_negative', 'distance']].to_csv('./cluster_analysis.csv')"
   ]
  }
 ],
 "metadata": {
  "kernelspec": {
   "display_name": "Python 3",
   "language": "python",
   "name": "python3"
  },
  "language_info": {
   "codemirror_mode": {
    "name": "ipython",
    "version": 3
   },
   "file_extension": ".py",
   "mimetype": "text/x-python",
   "name": "python",
   "nbconvert_exporter": "python",
   "pygments_lexer": "ipython3",
   "version": "3.8.5"
  }
 },
 "nbformat": 4,
 "nbformat_minor": 0
}