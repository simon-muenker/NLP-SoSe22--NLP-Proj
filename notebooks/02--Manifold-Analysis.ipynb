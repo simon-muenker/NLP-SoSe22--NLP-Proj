{
 "cells": [
  {
   "cell_type": "code",
   "execution_count": 1,
   "metadata": {
    "collapsed": false,
    "execution": {
     "iopub.execute_input": "2022-09-07T16:56:07.362680Z",
     "iopub.status.busy": "2022-09-07T16:56:07.361938Z",
     "iopub.status.idle": "2022-09-07T16:56:07.376095Z",
     "shell.execute_reply": "2022-09-07T16:56:07.375040Z"
    },
    "pycharm": {
     "name": "#%%\n"
    }
   },
   "outputs": [
    {
     "name": "stdout",
     "output_type": "stream",
     "text": [
      "env: CUDA_DEVICE_ORDER=PCI_BUS_ID\n",
      "env: CUDA_VISIBLE_DEVICES=1\n"
     ]
    }
   ],
   "source": [
    "%env CUDA_DEVICE_ORDER=PCI_BUS_ID\n",
    "%env CUDA_VISIBLE_DEVICES=1"
   ]
  },
  {
   "cell_type": "code",
   "execution_count": 2,
   "metadata": {
    "collapsed": false,
    "execution": {
     "iopub.execute_input": "2022-09-07T16:56:07.407570Z",
     "iopub.status.busy": "2022-09-07T16:56:07.406874Z",
     "iopub.status.idle": "2022-09-07T16:56:07.415360Z",
     "shell.execute_reply": "2022-09-07T16:56:07.413840Z"
    },
    "pycharm": {
     "name": "#%%\n"
    }
   },
   "outputs": [],
   "source": [
    "import os\n",
    "import sys\n",
    "\n",
    "module_path = os.path.abspath(os.path.join('..'))\n",
    "\n",
    "if module_path not in sys.path:\n",
    "    sys.path.append(module_path)"
   ]
  },
  {
   "cell_type": "code",
   "execution_count": 3,
   "metadata": {
    "collapsed": false,
    "execution": {
     "iopub.execute_input": "2022-09-07T16:56:07.419949Z",
     "iopub.status.busy": "2022-09-07T16:56:07.419375Z",
     "iopub.status.idle": "2022-09-07T16:56:08.496396Z",
     "shell.execute_reply": "2022-09-07T16:56:08.495253Z"
    },
    "pycharm": {
     "name": "#%%\n"
    }
   },
   "outputs": [],
   "source": [
    "from classifier import Data\n",
    "\n",
    "dataset = Data(\n",
    "    data_path = \"../data/imdb.train.csv\",\n",
    "    polarities = {\n",
    "      \"negative\": 0,\n",
    "      \"positive\": 1\n",
    "    },\n",
    "    data_label='review',\n",
    "    target_label='sentiment'\n",
    ")"
   ]
  },
  {
   "cell_type": "code",
   "execution_count": 4,
   "metadata": {
    "collapsed": false,
    "execution": {
     "iopub.execute_input": "2022-09-07T16:56:08.502365Z",
     "iopub.status.busy": "2022-09-07T16:56:08.501903Z",
     "iopub.status.idle": "2022-09-07T16:56:18.346642Z",
     "shell.execute_reply": "2022-09-07T16:56:18.345051Z"
    },
    "pycharm": {
     "name": "#%%\n"
    }
   },
   "outputs": [],
   "source": [
    "from classifier._neural import Encoder\n",
    "\n",
    "enc = Encoder({\n",
    "    'model': 'bert-base-uncased',\n",
    "    'layers': [11]\n",
    "})"
   ]
  },
  {
   "cell_type": "code",
   "execution_count": 5,
   "metadata": {
    "collapsed": false,
    "execution": {
     "iopub.execute_input": "2022-09-07T16:56:18.353063Z",
     "iopub.status.busy": "2022-09-07T16:56:18.352667Z",
     "iopub.status.idle": "2022-09-07T17:00:35.094699Z",
     "shell.execute_reply": "2022-09-07T17:00:35.093600Z"
    },
    "pycharm": {
     "name": "#%%\n"
    }
   },
   "outputs": [
    {
     "name": "stderr",
     "output_type": "stream",
     "text": [
      "                                                                                                                                                                                                                                                                                                                                                                          \r"
     ]
    }
   ],
   "source": [
    "enc.df_encode(dataset.data, col=dataset.data_label, label=dataset.data_path)"
   ]
  },
  {
   "cell_type": "code",
   "execution_count": 6,
   "metadata": {
    "collapsed": false,
    "execution": {
     "iopub.execute_input": "2022-09-07T17:00:35.101815Z",
     "iopub.status.busy": "2022-09-07T17:00:35.101467Z",
     "iopub.status.idle": "2022-09-07T17:00:35.438858Z",
     "shell.execute_reply": "2022-09-07T17:00:35.437762Z"
    },
    "pycharm": {
     "name": "#%%\n"
    }
   },
   "outputs": [],
   "source": [
    "import numpy as np\n",
    "from sklearn.manifold import TSNE\n",
    "\n",
    "def manifold_reduction(data: np.ndarray, dim: int = 3) -> np.ndarray:\n",
    "    return TSNE(\n",
    "            n_components=dim,\n",
    "            learning_rate='auto',\n",
    "            init='random'\n",
    "        ).fit_transform(data)"
   ]
  },
  {
   "cell_type": "code",
   "execution_count": 7,
   "metadata": {
    "collapsed": false,
    "execution": {
     "iopub.execute_input": "2022-09-07T17:00:35.443442Z",
     "iopub.status.busy": "2022-09-07T17:00:35.443161Z",
     "iopub.status.idle": "2022-09-07T17:00:35.468964Z",
     "shell.execute_reply": "2022-09-07T17:00:35.468047Z"
    },
    "pycharm": {
     "name": "#%%\n"
    }
   },
   "outputs": [],
   "source": [
    "import torch\n",
    "\n",
    "prepared_data: np.ndarray = torch.stack(dataset.data[enc.col_name].tolist()).numpy()"
   ]
  },
  {
   "cell_type": "code",
   "execution_count": 8,
   "metadata": {
    "collapsed": false,
    "execution": {
     "iopub.execute_input": "2022-09-07T17:00:35.473681Z",
     "iopub.status.busy": "2022-09-07T17:00:35.473391Z",
     "iopub.status.idle": "2022-09-07T17:02:46.723398Z",
     "shell.execute_reply": "2022-09-07T17:02:46.722683Z"
    },
    "pycharm": {
     "name": "#%%\n"
    }
   },
   "outputs": [
    {
     "data": {
      "text/plain": [
       "(20170, 3)"
      ]
     },
     "execution_count": 8,
     "metadata": {},
     "output_type": "execute_result"
    }
   ],
   "source": [
    "reduced_data = manifold_reduction(prepared_data)\n",
    "reduced_data.shape"
   ]
  },
  {
   "cell_type": "code",
   "execution_count": 9,
   "metadata": {
    "collapsed": false,
    "execution": {
     "iopub.execute_input": "2022-09-07T17:02:46.728940Z",
     "iopub.status.busy": "2022-09-07T17:02:46.728619Z",
     "iopub.status.idle": "2022-09-07T17:02:46.745241Z",
     "shell.execute_reply": "2022-09-07T17:02:46.744617Z"
    },
    "pycharm": {
     "name": "#%%\n"
    }
   },
   "outputs": [],
   "source": [
    "dataset.data['reduced_embeds'] = list(reduced_data)"
   ]
  },
  {
   "cell_type": "code",
   "execution_count": 25,
   "metadata": {
    "collapsed": false,
    "execution": {
     "iopub.execute_input": "2022-09-07T17:02:46.748523Z",
     "iopub.status.busy": "2022-09-07T17:02:46.748180Z",
     "iopub.status.idle": "2022-09-07T17:02:47.065028Z",
     "shell.execute_reply": "2022-09-07T17:02:47.064308Z"
    },
    "pycharm": {
     "name": "#%%\n"
    }
   },
   "outputs": [
    {
     "name": "stdout",
     "output_type": "stream",
     "text": [
      "                                                  review sentiment\n",
      "1      This is a strange sex comedy because there`s v...  negative\n",
      "3      The premise is ridiculous, the characters unbe...  negative\n",
      "5      This was just a terrible movie. It hurt me to ...  negative\n",
      "6      I cannot say that Aag is the worst Bollywood f...  negative\n",
      "13     I firmly believe that the best Oscar ceremony ...  negative\n",
      "...                                                  ...       ...\n",
      "20164  Former brat pack actor and all round pretty bo...  negative\n",
      "20165  The plot of 'Edison' was decent, but one actor...  negative\n",
      "20166  Amateurism best describes the film adaptation ...  negative\n",
      "20167  After having seen the movie the first question...  negative\n",
      "20169  Sholay: Considered to be one of the greatest f...  negative\n",
      "\n",
      "[8928 rows x 2 columns]\n",
      "                                                  review sentiment\n",
      "0      John Carpenter's Halloween is quite frankly a ...  positive\n",
      "2      My friends and I were just discussing how frus...  positive\n",
      "4      I enjoyed every moment of this beautiful film ...  positive\n",
      "7      Every great gangster movie has under-currents ...  positive\n",
      "8      Simply one of the best ever! Richard Brooks' a...  positive\n",
      "...                                                  ...       ...\n",
      "20157  I'm not entirely sure Rob Schmidt qualifies as...  positive\n",
      "20158  Until today I had never seen this film. Its wa...  positive\n",
      "20161  Jessica Alba's Max and Valerie Rae Miller's Or...  positive\n",
      "20162  Too many sources routinely lump this thought-p...  positive\n",
      "20168  I was taken to this film by a friend and was s...  positive\n",
      "\n",
      "[11242 rows x 2 columns]\n"
     ]
    }
   ],
   "source": [
    "for _, group in dataset.data.groupby(dataset.target_label):\n",
    "    print(torch.stack(group['reduced_embeds'].tolist()))"
   ]
  },
  {
   "cell_type": "code",
   "execution_count": null,
   "metadata": {
    "collapsed": false,
    "pycharm": {
     "name": "#%%\n"
    }
   },
   "outputs": [],
   "source": []
  }
 ],
 "metadata": {
  "kernelspec": {
   "display_name": "Python 3",
   "language": "python",
   "name": "python3"
  },
  "language_info": {
   "codemirror_mode": {
    "name": "ipython",
    "version": 3
   },
   "file_extension": ".py",
   "mimetype": "text/x-python",
   "name": "python",
   "nbconvert_exporter": "python",
   "pygments_lexer": "ipython3",
   "version": "3.8.5"
  }
 },
 "nbformat": 4,
 "nbformat_minor": 0
}