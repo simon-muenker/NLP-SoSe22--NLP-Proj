{
 "cells": [
  {
   "cell_type": "code",
   "execution_count": 1,
   "metadata": {
    "collapsed": false,
    "execution": {
     "iopub.execute_input": "2022-09-07T17:26:44.637884Z",
     "iopub.status.busy": "2022-09-07T17:26:44.637160Z",
     "iopub.status.idle": "2022-09-07T17:26:44.650073Z",
     "shell.execute_reply": "2022-09-07T17:26:44.649146Z"
    },
    "pycharm": {
     "name": "#%%\n"
    }
   },
   "outputs": [
    {
     "name": "stdout",
     "output_type": "stream",
     "text": [
      "env: CUDA_DEVICE_ORDER=PCI_BUS_ID\n",
      "env: CUDA_VISIBLE_DEVICES=1\n"
     ]
    }
   ],
   "source": [
    "%env CUDA_DEVICE_ORDER=PCI_BUS_ID\n",
    "%env CUDA_VISIBLE_DEVICES=1"
   ]
  },
  {
   "cell_type": "code",
   "execution_count": 2,
   "metadata": {
    "collapsed": false,
    "execution": {
     "iopub.execute_input": "2022-09-07T17:26:44.678875Z",
     "iopub.status.busy": "2022-09-07T17:26:44.678379Z",
     "iopub.status.idle": "2022-09-07T17:26:44.685647Z",
     "shell.execute_reply": "2022-09-07T17:26:44.684473Z"
    },
    "pycharm": {
     "name": "#%%\n"
    }
   },
   "outputs": [],
   "source": [
    "import os\n",
    "import sys\n",
    "\n",
    "module_path = os.path.abspath(os.path.join('..'))\n",
    "\n",
    "if module_path not in sys.path:\n",
    "    sys.path.append(module_path)"
   ]
  },
  {
   "cell_type": "code",
   "execution_count": 3,
   "metadata": {
    "collapsed": false,
    "execution": {
     "iopub.execute_input": "2022-09-07T17:26:44.689317Z",
     "iopub.status.busy": "2022-09-07T17:26:44.688823Z",
     "iopub.status.idle": "2022-09-07T17:26:45.874827Z",
     "shell.execute_reply": "2022-09-07T17:26:45.873608Z"
    },
    "pycharm": {
     "name": "#%%\n"
    }
   },
   "outputs": [],
   "source": [
    "from classifier import Data\n",
    "\n",
    "dataset = Data(\n",
    "    data_path = \"../data/imdb.train.csv\",\n",
    "    polarities = {\n",
    "      \"negative\": 0,\n",
    "      \"positive\": 1\n",
    "    },\n",
    "    data_label='review',\n",
    "    target_label='sentiment'\n",
    ")"
   ]
  },
  {
   "cell_type": "code",
   "execution_count": 4,
   "metadata": {
    "collapsed": false,
    "execution": {
     "iopub.execute_input": "2022-09-07T17:26:45.880420Z",
     "iopub.status.busy": "2022-09-07T17:26:45.880167Z",
     "iopub.status.idle": "2022-09-07T17:26:55.995558Z",
     "shell.execute_reply": "2022-09-07T17:26:55.993656Z"
    },
    "pycharm": {
     "name": "#%%\n"
    }
   },
   "outputs": [],
   "source": [
    "from classifier._neural import Encoder\n",
    "\n",
    "enc = Encoder({\n",
    "    'model': 'bert-base-uncased',\n",
    "    'layers': [11]\n",
    "})"
   ]
  },
  {
   "cell_type": "code",
   "execution_count": 5,
   "metadata": {
    "collapsed": false,
    "execution": {
     "iopub.execute_input": "2022-09-07T17:26:56.002015Z",
     "iopub.status.busy": "2022-09-07T17:26:56.001489Z",
     "iopub.status.idle": "2022-09-07T17:31:12.211528Z",
     "shell.execute_reply": "2022-09-07T17:31:12.210337Z"
    },
    "pycharm": {
     "name": "#%%\n"
    }
   },
   "outputs": [
    {
     "name": "stderr",
     "output_type": "stream",
     "text": [
      "                                                                                                                                                                                                                                                                                                                                                                          \r"
     ]
    }
   ],
   "source": [
    "enc.df_encode(dataset.data, col=dataset.data_label, label=dataset.data_path)"
   ]
  },
  {
   "cell_type": "code",
   "execution_count": 6,
   "metadata": {
    "collapsed": false,
    "execution": {
     "iopub.execute_input": "2022-09-07T17:31:12.218405Z",
     "iopub.status.busy": "2022-09-07T17:31:12.218069Z",
     "iopub.status.idle": "2022-09-07T17:31:12.561199Z",
     "shell.execute_reply": "2022-09-07T17:31:12.560223Z"
    },
    "pycharm": {
     "name": "#%%\n"
    }
   },
   "outputs": [],
   "source": [
    "import numpy as np\n",
    "from sklearn.manifold import TSNE\n",
    "\n",
    "def manifold_reduction(data: np.ndarray, dim: int = 3) -> np.ndarray:\n",
    "    return TSNE(\n",
    "            n_components=dim,\n",
    "            learning_rate='auto',\n",
    "            init='random'\n",
    "        ).fit_transform(data)"
   ]
  },
  {
   "cell_type": "code",
   "execution_count": 7,
   "metadata": {
    "collapsed": false,
    "execution": {
     "iopub.execute_input": "2022-09-07T17:31:12.566826Z",
     "iopub.status.busy": "2022-09-07T17:31:12.566550Z",
     "iopub.status.idle": "2022-09-07T17:31:12.592358Z",
     "shell.execute_reply": "2022-09-07T17:31:12.591424Z"
    },
    "pycharm": {
     "name": "#%%\n"
    }
   },
   "outputs": [],
   "source": [
    "import torch\n",
    "\n",
    "prepared_data: np.ndarray = torch.stack(dataset.data[enc.col_name].tolist()).numpy()"
   ]
  },
  {
   "cell_type": "code",
   "execution_count": 8,
   "metadata": {
    "collapsed": false,
    "execution": {
     "iopub.execute_input": "2022-09-07T17:31:12.597987Z",
     "iopub.status.busy": "2022-09-07T17:31:12.597719Z",
     "iopub.status.idle": "2022-09-07T17:33:11.550905Z",
     "shell.execute_reply": "2022-09-07T17:33:11.549668Z"
    },
    "pycharm": {
     "name": "#%%\n"
    }
   },
   "outputs": [
    {
     "data": {
      "text/plain": [
       "(20170, 3)"
      ]
     },
     "execution_count": 8,
     "metadata": {},
     "output_type": "execute_result"
    }
   ],
   "source": [
    "reduced_data = manifold_reduction(prepared_data)\n",
    "reduced_data.shape"
   ]
  },
  {
   "cell_type": "code",
   "execution_count": 9,
   "metadata": {
    "collapsed": false,
    "execution": {
     "iopub.execute_input": "2022-09-07T17:33:11.555191Z",
     "iopub.status.busy": "2022-09-07T17:33:11.554461Z",
     "iopub.status.idle": "2022-09-07T17:33:11.576054Z",
     "shell.execute_reply": "2022-09-07T17:33:11.574519Z"
    },
    "pycharm": {
     "name": "#%%\n"
    }
   },
   "outputs": [],
   "source": [
    "dataset.data['reduced_embeds'] = list(reduced_data)"
   ]
  },
  {
   "cell_type": "code",
   "execution_count": 10,
   "metadata": {
    "collapsed": false,
    "execution": {
     "iopub.execute_input": "2022-09-07T17:33:11.581601Z",
     "iopub.status.busy": "2022-09-07T17:33:11.581191Z",
     "iopub.status.idle": "2022-09-07T17:33:11.636153Z",
     "shell.execute_reply": "2022-09-07T17:33:11.634445Z"
    },
    "pycharm": {
     "name": "#%%\n"
    }
   },
   "outputs": [
    {
     "name": "stdout",
     "output_type": "stream",
     "text": [
      "[[-15.43566    38.015152   -5.1018553]\n",
      " [-12.720923   11.365947   -2.1645703]\n",
      " [-19.392206   -5.0839853 -15.545003 ]\n",
      " ...\n",
      " [  4.6466174  21.00328    14.404374 ]\n",
      " [-16.219112   28.947287   18.520514 ]\n",
      " [  7.4869623  -9.957257  -30.68731  ]]\n",
      "[-2.033787   -0.60669494 -1.8201021 ]\n",
      "[[  7.556418   13.866396   23.80594  ]\n",
      " [  6.2049203   0.9103638 -13.070406 ]\n",
      " [  0.8778616  31.980783    6.574333 ]\n",
      " ...\n",
      " [ -4.6049824  25.121912   32.11588  ]\n",
      " [ 22.779156   -4.0274444  -8.603216 ]\n",
      " [  1.4513288  33.30259    16.543577 ]]\n",
      "[1.2698871 0.8216684 1.7840573]\n"
     ]
    }
   ],
   "source": [
    "for _, group in dataset.data.groupby(dataset.target_label):\n",
    "    group_data = np.stack(group['reduced_embeds'].tolist(), axis=0)\n",
    "    print(group_data)\n",
    "    print(np.mean(group_data, axis=0))"
   ]
  }
 ],
 "metadata": {
  "kernelspec": {
   "display_name": "Python 3",
   "language": "python",
   "name": "python3"
  },
  "language_info": {
   "codemirror_mode": {
    "name": "ipython",
    "version": 3
   },
   "file_extension": ".py",
   "mimetype": "text/x-python",
   "name": "python",
   "nbconvert_exporter": "python",
   "pygments_lexer": "ipython3",
   "version": "3.8.5"
  }
 },
 "nbformat": 4,
 "nbformat_minor": 0
}
