{
 "cells": [
  {
   "cell_type": "code",
   "execution_count": 1,
   "metadata": {
    "collapsed": true,
    "pycharm": {
     "name": "#%%\n"
    }
   },
   "outputs": [],
   "source": [
    "import pandas as pd"
   ]
  },
  {
   "cell_type": "code",
   "execution_count": 2,
   "outputs": [],
   "source": [
    "raw: pd.DataFrame = pd.read_csv(f'../data/metacritic.reviews._raw.csv')"
   ],
   "metadata": {
    "collapsed": false,
    "pycharm": {
     "name": "#%%\n"
    }
   }
  },
  {
   "cell_type": "code",
   "execution_count": 3,
   "outputs": [
    {
     "data": {
      "text/plain": "                    title                 user      type  grade  \\\n0            Citizen Kane         larsenonfilm  reviewer  100.0   \n1            Citizen Kane    chicago-sun-times  reviewer  100.0   \n2            Citizen Kane  new-york-daily-news  reviewer  100.0   \n3            Citizen Kane            reelviews  reviewer  100.0   \n4            Citizen Kane               empire  reviewer  100.0   \n...                   ...                  ...       ...    ...   \n592248  Death of a Nation              Makesme      user   10.0   \n592249  Death of a Nation       Halohunter2002      user  100.0   \n592250  Death of a Nation             Millie33      user    0.0   \n592251  Death of a Nation          coryfritz69      user   50.0   \n592252  Death of a Nation            T33ny1235      user    0.0   \n\n                                                   review  spoilers language  \n0                                                     ...       0.0       en  \n1                                                     ...       0.0       en  \n2                                                     ...       0.0       en  \n3                                                     ...       0.0       en  \n4                                                     ...       0.0       en  \n...                                                   ...       ...      ...  \n592248  WhyGod is dead and we killed him The filmmaker...       0.0      NaN  \n592249  I really enjoyed this documentary I thought it...       0.0      NaN  \n592250  You know that a documentary is doing something...       0.0      NaN  \n592251  Wow very in depth historical accuracy! Big sur...       0.0      NaN  \n592252  Dinesh skipped history class and it's showing....       0.0      NaN  \n\n[592253 rows x 7 columns]",
      "text/html": "<div>\n<style scoped>\n    .dataframe tbody tr th:only-of-type {\n        vertical-align: middle;\n    }\n\n    .dataframe tbody tr th {\n        vertical-align: top;\n    }\n\n    .dataframe thead th {\n        text-align: right;\n    }\n</style>\n<table border=\"1\" class=\"dataframe\">\n  <thead>\n    <tr style=\"text-align: right;\">\n      <th></th>\n      <th>title</th>\n      <th>user</th>\n      <th>type</th>\n      <th>grade</th>\n      <th>review</th>\n      <th>spoilers</th>\n      <th>language</th>\n    </tr>\n  </thead>\n  <tbody>\n    <tr>\n      <th>0</th>\n      <td>Citizen Kane</td>\n      <td>larsenonfilm</td>\n      <td>reviewer</td>\n      <td>100.0</td>\n      <td>...</td>\n      <td>0.0</td>\n      <td>en</td>\n    </tr>\n    <tr>\n      <th>1</th>\n      <td>Citizen Kane</td>\n      <td>chicago-sun-times</td>\n      <td>reviewer</td>\n      <td>100.0</td>\n      <td>...</td>\n      <td>0.0</td>\n      <td>en</td>\n    </tr>\n    <tr>\n      <th>2</th>\n      <td>Citizen Kane</td>\n      <td>new-york-daily-news</td>\n      <td>reviewer</td>\n      <td>100.0</td>\n      <td>...</td>\n      <td>0.0</td>\n      <td>en</td>\n    </tr>\n    <tr>\n      <th>3</th>\n      <td>Citizen Kane</td>\n      <td>reelviews</td>\n      <td>reviewer</td>\n      <td>100.0</td>\n      <td>...</td>\n      <td>0.0</td>\n      <td>en</td>\n    </tr>\n    <tr>\n      <th>4</th>\n      <td>Citizen Kane</td>\n      <td>empire</td>\n      <td>reviewer</td>\n      <td>100.0</td>\n      <td>...</td>\n      <td>0.0</td>\n      <td>en</td>\n    </tr>\n    <tr>\n      <th>...</th>\n      <td>...</td>\n      <td>...</td>\n      <td>...</td>\n      <td>...</td>\n      <td>...</td>\n      <td>...</td>\n      <td>...</td>\n    </tr>\n    <tr>\n      <th>592248</th>\n      <td>Death of a Nation</td>\n      <td>Makesme</td>\n      <td>user</td>\n      <td>10.0</td>\n      <td>WhyGod is dead and we killed him The filmmaker...</td>\n      <td>0.0</td>\n      <td>NaN</td>\n    </tr>\n    <tr>\n      <th>592249</th>\n      <td>Death of a Nation</td>\n      <td>Halohunter2002</td>\n      <td>user</td>\n      <td>100.0</td>\n      <td>I really enjoyed this documentary I thought it...</td>\n      <td>0.0</td>\n      <td>NaN</td>\n    </tr>\n    <tr>\n      <th>592250</th>\n      <td>Death of a Nation</td>\n      <td>Millie33</td>\n      <td>user</td>\n      <td>0.0</td>\n      <td>You know that a documentary is doing something...</td>\n      <td>0.0</td>\n      <td>NaN</td>\n    </tr>\n    <tr>\n      <th>592251</th>\n      <td>Death of a Nation</td>\n      <td>coryfritz69</td>\n      <td>user</td>\n      <td>50.0</td>\n      <td>Wow very in depth historical accuracy! Big sur...</td>\n      <td>0.0</td>\n      <td>NaN</td>\n    </tr>\n    <tr>\n      <th>592252</th>\n      <td>Death of a Nation</td>\n      <td>T33ny1235</td>\n      <td>user</td>\n      <td>0.0</td>\n      <td>Dinesh skipped history class and it's showing....</td>\n      <td>0.0</td>\n      <td>NaN</td>\n    </tr>\n  </tbody>\n</table>\n<p>592253 rows × 7 columns</p>\n</div>"
     },
     "execution_count": 3,
     "metadata": {},
     "output_type": "execute_result"
    }
   ],
   "source": [
    "raw"
   ],
   "metadata": {
    "collapsed": false,
    "pycharm": {
     "name": "#%%\n"
    }
   }
  },
  {
   "cell_type": "code",
   "execution_count": 4,
   "outputs": [],
   "source": [
    "formatted: pd.DataFrame = (\n",
    "    raw\n",
    "    [raw['language'] == 'en']\n",
    "    [['grade', 'review']]\n",
    "    #\n",
    "    .assign(grade = lambda x: x['grade'] / 100)\n",
    "    .assign(review = lambda x: x['review'].str.strip())\n",
    "    #\n",
    "    .drop_duplicates(subset=['review'])\n",
    "    .dropna(subset=['review'])\n",
    ")"
   ],
   "metadata": {
    "collapsed": false,
    "pycharm": {
     "name": "#%%\n"
    }
   }
  },
  {
   "cell_type": "code",
   "execution_count": 5,
   "outputs": [
    {
     "data": {
      "text/plain": "        grade                                             review\n0        1.00  There is hardly a shot in Orson Welles’ toweri...\n1        1.00  Its surface is as much fun as any movie ever m...\n2        1.00  Welles displays touches of genius in the handl...\n3        1.00  While I acknowledge that Kane is a seminal mas...\n4        1.00  The sheer audacity and delight Welles takes in...\n...       ...                                                ...\n591813   0.25  Cheesier than a Kraft Singles truck but half a...\n591814   0.25  \"Hillary’s America” isn’t designed to stand up...\n591815   0.20  In the past, I’ve given D’Souza the benefit of...\n591816   0.20  Hillary’s America: The Secret History of the D...\n591817   0.12  D’Souza manipulates viewers’ passions while te...\n\n[557475 rows x 2 columns]",
      "text/html": "<div>\n<style scoped>\n    .dataframe tbody tr th:only-of-type {\n        vertical-align: middle;\n    }\n\n    .dataframe tbody tr th {\n        vertical-align: top;\n    }\n\n    .dataframe thead th {\n        text-align: right;\n    }\n</style>\n<table border=\"1\" class=\"dataframe\">\n  <thead>\n    <tr style=\"text-align: right;\">\n      <th></th>\n      <th>grade</th>\n      <th>review</th>\n    </tr>\n  </thead>\n  <tbody>\n    <tr>\n      <th>0</th>\n      <td>1.00</td>\n      <td>There is hardly a shot in Orson Welles’ toweri...</td>\n    </tr>\n    <tr>\n      <th>1</th>\n      <td>1.00</td>\n      <td>Its surface is as much fun as any movie ever m...</td>\n    </tr>\n    <tr>\n      <th>2</th>\n      <td>1.00</td>\n      <td>Welles displays touches of genius in the handl...</td>\n    </tr>\n    <tr>\n      <th>3</th>\n      <td>1.00</td>\n      <td>While I acknowledge that Kane is a seminal mas...</td>\n    </tr>\n    <tr>\n      <th>4</th>\n      <td>1.00</td>\n      <td>The sheer audacity and delight Welles takes in...</td>\n    </tr>\n    <tr>\n      <th>...</th>\n      <td>...</td>\n      <td>...</td>\n    </tr>\n    <tr>\n      <th>591813</th>\n      <td>0.25</td>\n      <td>Cheesier than a Kraft Singles truck but half a...</td>\n    </tr>\n    <tr>\n      <th>591814</th>\n      <td>0.25</td>\n      <td>\"Hillary’s America” isn’t designed to stand up...</td>\n    </tr>\n    <tr>\n      <th>591815</th>\n      <td>0.20</td>\n      <td>In the past, I’ve given D’Souza the benefit of...</td>\n    </tr>\n    <tr>\n      <th>591816</th>\n      <td>0.20</td>\n      <td>Hillary’s America: The Secret History of the D...</td>\n    </tr>\n    <tr>\n      <th>591817</th>\n      <td>0.12</td>\n      <td>D’Souza manipulates viewers’ passions while te...</td>\n    </tr>\n  </tbody>\n</table>\n<p>557475 rows × 2 columns</p>\n</div>"
     },
     "execution_count": 5,
     "metadata": {},
     "output_type": "execute_result"
    }
   ],
   "source": [
    "formatted"
   ],
   "metadata": {
    "collapsed": false,
    "pycharm": {
     "name": "#%%\n"
    }
   }
  },
  {
   "cell_type": "code",
   "execution_count": 6,
   "outputs": [
    {
     "data": {
      "text/plain": "count    557475.000000\nmean          0.651630\nstd           0.271106\nmin           0.000000\n25%           0.500000\n50%           0.700000\n75%           0.880000\nmax           1.000000\nName: grade, dtype: float64"
     },
     "execution_count": 6,
     "metadata": {},
     "output_type": "execute_result"
    }
   ],
   "source": [
    "formatted['grade'].describe(include='all')"
   ],
   "metadata": {
    "collapsed": false,
    "pycharm": {
     "name": "#%%\n"
    }
   }
  },
  {
   "cell_type": "code",
   "execution_count": 50,
   "outputs": [],
   "source": [
    "filtered = formatted[\n",
    "    (formatted['grade'] < 0.4) |\n",
    "    (formatted['grade'] > 0.6)\n",
    "]"
   ],
   "metadata": {
    "collapsed": false,
    "pycharm": {
     "name": "#%%\n"
    }
   }
  },
  {
   "cell_type": "code",
   "execution_count": 51,
   "outputs": [
    {
     "data": {
      "text/plain": "count    417694.000000\nmean          0.698790\nstd           0.295559\nmin           0.000000\n25%           0.670000\n50%           0.800000\n75%           0.900000\nmax           1.000000\nName: grade, dtype: float64"
     },
     "execution_count": 51,
     "metadata": {},
     "output_type": "execute_result"
    }
   ],
   "source": [
    "filtered['grade'].describe(include='all')"
   ],
   "metadata": {
    "collapsed": false,
    "pycharm": {
     "name": "#%%\n"
    }
   }
  },
  {
   "cell_type": "code",
   "execution_count": 52,
   "outputs": [
    {
     "data": {
      "text/plain": "1.00    83754\n0.80    66450\n0.70    55151\n0.90    50523\n0.75    31194\n        ...  \n0.99        1\n0.18        1\n0.04        1\n0.09        1\n0.01        1\nName: grade, Length: 76, dtype: int64"
     },
     "execution_count": 52,
     "metadata": {},
     "output_type": "execute_result"
    }
   ],
   "source": [
    "filtered['grade'].value_counts()"
   ],
   "metadata": {
    "collapsed": false,
    "pycharm": {
     "name": "#%%\n"
    }
   }
  },
  {
   "cell_type": "code",
   "execution_count": 68,
   "outputs": [],
   "source": [
    "stratified = filtered.groupby('grade', group_keys=False).apply(lambda x: x.sample(min(len(x), 5000)))"
   ],
   "metadata": {
    "collapsed": false,
    "pycharm": {
     "name": "#%%\n"
    }
   }
  },
  {
   "cell_type": "code",
   "execution_count": 69,
   "outputs": [
    {
     "data": {
      "text/plain": "        grade                                             review\n570914    0.0  For the average person capable of grasping the...\n354169    0.0  Good movie to take your enemies to go see when...\n53654     0.0  A hateful bitter film that mocks anyone who en...\n11255     0.0  I thought it was a depressing. This movie gave...\n500028    0.0            complete garbage, dont waste your money\n...       ...                                                ...\n126350    1.0  Jacques Audiard’s superb drama, which won the ...\n44153     1.0               Dizzily rich, witty, and satisfying.\n271949    1.0  KateM is a blubbering lunatic who knows nothin...\n204020    1.0  One of the greatest art documentaries ever mad...\n480293    1.0  Exactly what I expect from a good action movie...\n\n[84745 rows x 2 columns]",
      "text/html": "<div>\n<style scoped>\n    .dataframe tbody tr th:only-of-type {\n        vertical-align: middle;\n    }\n\n    .dataframe tbody tr th {\n        vertical-align: top;\n    }\n\n    .dataframe thead th {\n        text-align: right;\n    }\n</style>\n<table border=\"1\" class=\"dataframe\">\n  <thead>\n    <tr style=\"text-align: right;\">\n      <th></th>\n      <th>grade</th>\n      <th>review</th>\n    </tr>\n  </thead>\n  <tbody>\n    <tr>\n      <th>570914</th>\n      <td>0.0</td>\n      <td>For the average person capable of grasping the...</td>\n    </tr>\n    <tr>\n      <th>354169</th>\n      <td>0.0</td>\n      <td>Good movie to take your enemies to go see when...</td>\n    </tr>\n    <tr>\n      <th>53654</th>\n      <td>0.0</td>\n      <td>A hateful bitter film that mocks anyone who en...</td>\n    </tr>\n    <tr>\n      <th>11255</th>\n      <td>0.0</td>\n      <td>I thought it was a depressing. This movie gave...</td>\n    </tr>\n    <tr>\n      <th>500028</th>\n      <td>0.0</td>\n      <td>complete garbage, dont waste your money</td>\n    </tr>\n    <tr>\n      <th>...</th>\n      <td>...</td>\n      <td>...</td>\n    </tr>\n    <tr>\n      <th>126350</th>\n      <td>1.0</td>\n      <td>Jacques Audiard’s superb drama, which won the ...</td>\n    </tr>\n    <tr>\n      <th>44153</th>\n      <td>1.0</td>\n      <td>Dizzily rich, witty, and satisfying.</td>\n    </tr>\n    <tr>\n      <th>271949</th>\n      <td>1.0</td>\n      <td>KateM is a blubbering lunatic who knows nothin...</td>\n    </tr>\n    <tr>\n      <th>204020</th>\n      <td>1.0</td>\n      <td>One of the greatest art documentaries ever mad...</td>\n    </tr>\n    <tr>\n      <th>480293</th>\n      <td>1.0</td>\n      <td>Exactly what I expect from a good action movie...</td>\n    </tr>\n  </tbody>\n</table>\n<p>84745 rows × 2 columns</p>\n</div>"
     },
     "execution_count": 69,
     "metadata": {},
     "output_type": "execute_result"
    }
   ],
   "source": [
    "stratified"
   ],
   "metadata": {
    "collapsed": false,
    "pycharm": {
     "name": "#%%\n"
    }
   }
  },
  {
   "cell_type": "code",
   "execution_count": 70,
   "outputs": [
    {
     "data": {
      "text/plain": "count    84745.000000\nmean         0.574474\nstd          0.311640\nmin          0.000000\n25%          0.300000\n50%          0.670000\n75%          0.830000\nmax          1.000000\nName: grade, dtype: float64"
     },
     "execution_count": 70,
     "metadata": {},
     "output_type": "execute_result"
    }
   ],
   "source": [
    "stratified['grade'].describe(include='all')"
   ],
   "metadata": {
    "collapsed": false,
    "pycharm": {
     "name": "#%%\n"
    }
   }
  },
  {
   "cell_type": "code",
   "execution_count": 71,
   "outputs": [],
   "source": [
    "# formatted.to_csv(f'../data/metacritic.reviews.formatted.csv')\n",
    "# filtered.to_csv(f'../data/metacritic.reviews.filtered.csv')\n",
    "stratified.to_csv(f'../data/metacritic.reviews.stratified.csv')"
   ],
   "metadata": {
    "collapsed": false,
    "pycharm": {
     "name": "#%%\n"
    }
   }
  },
  {
   "cell_type": "code",
   "execution_count": 21,
   "outputs": [],
   "source": [
    "# formatted.sample(frac=0.16).to_csv(f'../data/metacritic.reviews.formatted.0.16.csv')\n",
    "# filtered.sample(frac=0.16).to_csv(f'../data/metacritic.reviews.filtered.0.16.csv')"
   ],
   "metadata": {
    "collapsed": false,
    "pycharm": {
     "name": "#%%\n"
    }
   }
  },
  {
   "cell_type": "code",
   "execution_count": null,
   "outputs": [],
   "source": [],
   "metadata": {
    "collapsed": false,
    "pycharm": {
     "name": "#%%\n"
    }
   }
  }
 ],
 "metadata": {
  "kernelspec": {
   "display_name": "Python 3",
   "language": "python",
   "name": "python3"
  },
  "language_info": {
   "codemirror_mode": {
    "name": "ipython",
    "version": 2
   },
   "file_extension": ".py",
   "mimetype": "text/x-python",
   "name": "python",
   "nbconvert_exporter": "python",
   "pygments_lexer": "ipython2",
   "version": "2.7.6"
  }
 },
 "nbformat": 4,
 "nbformat_minor": 0
}