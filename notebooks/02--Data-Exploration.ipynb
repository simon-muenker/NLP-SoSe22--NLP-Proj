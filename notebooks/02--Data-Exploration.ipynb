{
 "cells": [
  {
   "cell_type": "code",
   "execution_count": 1,
   "outputs": [],
   "source": [
    "import pandas as pd\n",
    "\n",
    "DATA_PATH: str = '../data/imdb'"
   ],
   "metadata": {
    "collapsed": false,
    "pycharm": {
     "name": "#%%\n"
    }
   }
  },
  {
   "cell_type": "code",
   "execution_count": 2,
   "outputs": [
    {
     "data": {
      "text/plain": "                                                  review sentiment\n0      One of the other reviewers has mentioned that ...  positive\n1      A wonderful little production. The filming tec...  positive\n2      I thought this was a wonderful way to spend ti...  positive\n3      Basically there's a family where a little boy ...  negative\n4      Petter Mattei's \"Love in the Time of Money\" is...  positive\n...                                                  ...       ...\n39659  Dr. Lucio Fulci (Lucio Fulci) is a director of...  negative\n39660  Yes I admit I cried during this movie. It was ...  negative\n39661  I've bought certain films on disc even though ...  positive\n39662  The final pairing of Nelson Eddy and Jeanette ...  negative\n39663  I watch romantic comedies with some hesitation...  positive\n\n[39664 rows x 2 columns]",
      "text/html": "<div>\n<style scoped>\n    .dataframe tbody tr th:only-of-type {\n        vertical-align: middle;\n    }\n\n    .dataframe tbody tr th {\n        vertical-align: top;\n    }\n\n    .dataframe thead th {\n        text-align: right;\n    }\n</style>\n<table border=\"1\" class=\"dataframe\">\n  <thead>\n    <tr style=\"text-align: right;\">\n      <th></th>\n      <th>review</th>\n      <th>sentiment</th>\n    </tr>\n  </thead>\n  <tbody>\n    <tr>\n      <th>0</th>\n      <td>One of the other reviewers has mentioned that ...</td>\n      <td>positive</td>\n    </tr>\n    <tr>\n      <th>1</th>\n      <td>A wonderful little production. The filming tec...</td>\n      <td>positive</td>\n    </tr>\n    <tr>\n      <th>2</th>\n      <td>I thought this was a wonderful way to spend ti...</td>\n      <td>positive</td>\n    </tr>\n    <tr>\n      <th>3</th>\n      <td>Basically there's a family where a little boy ...</td>\n      <td>negative</td>\n    </tr>\n    <tr>\n      <th>4</th>\n      <td>Petter Mattei's \"Love in the Time of Money\" is...</td>\n      <td>positive</td>\n    </tr>\n    <tr>\n      <th>...</th>\n      <td>...</td>\n      <td>...</td>\n    </tr>\n    <tr>\n      <th>39659</th>\n      <td>Dr. Lucio Fulci (Lucio Fulci) is a director of...</td>\n      <td>negative</td>\n    </tr>\n    <tr>\n      <th>39660</th>\n      <td>Yes I admit I cried during this movie. It was ...</td>\n      <td>negative</td>\n    </tr>\n    <tr>\n      <th>39661</th>\n      <td>I've bought certain films on disc even though ...</td>\n      <td>positive</td>\n    </tr>\n    <tr>\n      <th>39662</th>\n      <td>The final pairing of Nelson Eddy and Jeanette ...</td>\n      <td>negative</td>\n    </tr>\n    <tr>\n      <th>39663</th>\n      <td>I watch romantic comedies with some hesitation...</td>\n      <td>positive</td>\n    </tr>\n  </tbody>\n</table>\n<p>39664 rows × 2 columns</p>\n</div>"
     },
     "execution_count": 2,
     "metadata": {},
     "output_type": "execute_result"
    }
   ],
   "source": [
    "# load full dataset\n",
    "train: pd.DataFrame = pd.read_csv(f'{DATA_PATH}.train.csv')\n",
    "train"
   ],
   "metadata": {
    "collapsed": false,
    "pycharm": {
     "name": "#%%\n"
    }
   }
  },
  {
   "cell_type": "markdown",
   "source": [
    "# Show most-used non-alphanumeric symbol"
   ],
   "metadata": {
    "collapsed": false,
    "pycharm": {
     "name": "#%% md\n"
    }
   }
  },
  {
   "cell_type": "code",
   "execution_count": 3,
   "outputs": [
    {
     "data": {
      "text/plain": "<AxesSubplot:title={'center':'Occurrence of Punctuation'}>"
     },
     "execution_count": 3,
     "metadata": {},
     "output_type": "execute_result"
    },
    {
     "data": {
      "text/plain": "<Figure size 864x864 with 1 Axes>",
      "image/png": "[encoded data removed]"
     },
     "metadata": {
      "needs_background": "light"
     },
     "output_type": "display_data"
    }
   ],
   "source": [
    "(\n",
    "    pd.DataFrame({\n",
    "        label: (\n",
    "            train.iloc[ids]['review']\n",
    "            .apply(lambda s: list(s))\n",
    "            .explode()\n",
    "            .value_counts(normalize=True)\n",
    "            .filter(regex=rf'[^\\s\\d\\w]')\n",
    "        )\n",
    "        for label, ids in train.groupby('sentiment').groups.items()\n",
    "    })\n",
    "    .assign(sum=lambda x: x.sum(axis='columns'))\n",
    "    .sort_values(by=['sum'], ascending=False)\n",
    "    [['positive', 'negative']]\n",
    "    .head(12)\n",
    "    .plot.barh(\n",
    "        title='Occurrence of Punctuation',\n",
    "        figsize=(12,12)\n",
    "    )\n",
    ")"
   ],
   "metadata": {
    "collapsed": false,
    "pycharm": {
     "name": "#%%\n"
    }
   }
  },
  {
   "cell_type": "code",
   "execution_count": 4,
   "outputs": [],
   "source": [],
   "metadata": {
    "collapsed": false,
    "pycharm": {
     "name": "#%%\n"
    }
   }
  }
 ],
 "metadata": {
  "kernelspec": {
   "display_name": "Python 3",
   "language": "python",
   "name": "python3"
  },
  "language_info": {
   "codemirror_mode": {
    "name": "ipython",
    "version": 2
   },
   "file_extension": ".py",
   "mimetype": "text/x-python",
   "name": "python",
   "nbconvert_exporter": "python",
   "pygments_lexer": "ipython2",
   "version": "2.7.6"
  }
 },
 "nbformat": 4,
 "nbformat_minor": 0
}