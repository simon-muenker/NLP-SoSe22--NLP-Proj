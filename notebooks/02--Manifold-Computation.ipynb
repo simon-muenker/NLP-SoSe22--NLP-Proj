{
 "cells": [
  {
   "cell_type": "code",
   "execution_count": null,
   "metadata": {
    "collapsed": false,
    "execution": {
     "iopub.execute_input": "2022-09-12T15:44:26.749543Z",
     "iopub.status.busy": "2022-09-12T15:44:26.748813Z",
     "iopub.status.idle": "2022-09-12T15:44:26.761678Z",
     "shell.execute_reply": "2022-09-12T15:44:26.760746Z"
    },
    "pycharm": {
     "name": "#%%\n"
    }
   },
   "outputs": [],
   "source": [
    "%env CUDA_DEVICE_ORDER=PCI_BUS_ID\n",
    "%env CUDA_VISIBLE_DEVICES=5"
   ]
  },
  {
   "cell_type": "code",
   "execution_count": null,
   "metadata": {
    "collapsed": false,
    "execution": {
     "iopub.execute_input": "2022-09-12T15:44:26.794241Z",
     "iopub.status.busy": "2022-09-12T15:44:26.793637Z",
     "iopub.status.idle": "2022-09-12T15:44:26.801378Z",
     "shell.execute_reply": "2022-09-12T15:44:26.800146Z"
    },
    "pycharm": {
     "name": "#%%\n"
    }
   },
   "outputs": [],
   "source": [
    "import os\n",
    "import sys\n",
    "\n",
    "module_path = os.path.abspath(os.path.join('..'))\n",
    "\n",
    "if module_path not in sys.path:\n",
    "    sys.path.append(module_path)"
   ]
  },
  {
   "cell_type": "code",
   "execution_count": null,
   "outputs": [],
   "source": [
    "DATA_PATH: str = '../data/imdb'\n",
    "DATASETS: list = [\n",
    "    ('train', 'sample.train'),\n",
    "    ('test', 'sample.test')\n",
    "]"
   ],
   "metadata": {
    "collapsed": false,
    "pycharm": {
     "name": "#%%\n"
    }
   }
  },
  {
   "cell_type": "code",
   "execution_count": null,
   "outputs": [],
   "source": [
    "DIMS: list = [768, 576, 384, 192, 96, 48, 24, 12, 6, 3]\n",
    "MODELS: list = [\n",
    "    ('base', 'bert-base-uncased'),\n",
    "    ('textattack', 'textattack/bert-base-uncased-imdb'),\n",
    "    ('fabriceyhc', 'fabriceyhc/bert-base-uncased-imdb'),\n",
    "    ('wakaka', 'Wakaka/bert-finetuned-imdb')\n",
    "]"
   ],
   "metadata": {
    "collapsed": false,
    "pycharm": {
     "name": "#%%\n"
    }
   }
  },
  {
   "cell_type": "code",
   "execution_count": null,
   "outputs": [],
   "source": [
    "### Load Datasets into memory"
   ],
   "metadata": {
    "collapsed": false,
    "pycharm": {
     "name": "#%%\n"
    }
   }
  },
  {
   "cell_type": "code",
   "execution_count": null,
   "outputs": [],
   "source": [
    "data_config: dict = {\n",
    "    'polarities': {\n",
    "      \"negative\": 0,\n",
    "      \"positive\": 1\n",
    "    },\n",
    "    'data_label': 'text',\n",
    "    'target_label': 'sentiment'\n",
    "}"
   ],
   "metadata": {
    "collapsed": false,
    "pycharm": {
     "name": "#%%\n"
    }
   }
  },
  {
   "cell_type": "code",
   "execution_count": null,
   "metadata": {
    "collapsed": false,
    "execution": {
     "iopub.execute_input": "2022-09-12T15:44:26.805161Z",
     "iopub.status.busy": "2022-09-12T15:44:26.804791Z",
     "iopub.status.idle": "2022-09-12T15:44:27.744489Z",
     "shell.execute_reply": "2022-09-12T15:44:27.743049Z"
    },
    "pycharm": {
     "name": "#%%\n"
    }
   },
   "outputs": [],
   "source": [
    "from typing import Dict\n",
    "from classifier import Data\n",
    "\n",
    "datasets: Dict[str, Data] = {\n",
    "    label: Data(data_path=f\"{DATA_PATH}.{name}.csv\", **data_config)\n",
    "    for label, name in DATASETS\n",
    "}"
   ]
  },
  {
   "cell_type": "code",
   "execution_count": null,
   "outputs": [],
   "source": [
    "for label, dataset in datasets.items():\n",
    "    display(dataset.data)\n",
    "    display(dataset.data['sentiment'].value_counts(normalize=True))"
   ],
   "metadata": {
    "collapsed": false,
    "pycharm": {
     "name": "#%%\n"
    }
   }
  },
  {
   "cell_type": "code",
   "execution_count": null,
   "outputs": [],
   "source": [
    "### Load Encoder into Memory"
   ],
   "metadata": {
    "collapsed": false,
    "pycharm": {
     "name": "#%%\n"
    }
   }
  },
  {
   "cell_type": "code",
   "execution_count": null,
   "outputs": [],
   "source": [
    "encoder_config: dict = {\n",
    "    'layers': [11]\n",
    "}"
   ],
   "metadata": {
    "collapsed": false,
    "pycharm": {
     "name": "#%%\n"
    }
   }
  },
  {
   "cell_type": "code",
   "execution_count": null,
   "outputs": [],
   "source": [
    "from classifier._neural import Encoder\n",
    "\n",
    "encoders: Dict[str, Encoder] = {\n",
    "    label: Encoder({**{'model': ref}, **encoder_config})\n",
    "    for label, ref in MODELS\n",
    "}"
   ],
   "metadata": {
    "collapsed": false,
    "pycharm": {
     "name": "#%%\n"
    }
   }
  },
  {
   "cell_type": "code",
   "execution_count": null,
   "outputs": [],
   "source": [
    "### Compute manifolds and measure centroid distance and cluster dispersion"
   ],
   "metadata": {
    "collapsed": false,
    "pycharm": {
     "name": "#%%\n"
    }
   }
  },
  {
   "cell_type": "code",
   "execution_count": null,
   "outputs": [],
   "source": [
    "import numpy as np\n",
    "import pandas as pd"
   ],
   "metadata": {
    "collapsed": false,
    "pycharm": {
     "name": "#%%\n"
    }
   }
  },
  {
   "cell_type": "code",
   "execution_count": null,
   "outputs": [],
   "source": [
    "from sklearn.manifold import MDS\n",
    "\n",
    "def manifold_reduction(data: np.ndarray, dim: int = 3) -> np.ndarray:\n",
    "    return MDS(n_components=dim).fit_transform(data)"
   ],
   "metadata": {
    "collapsed": false,
    "pycharm": {
     "name": "#%%\n"
    }
   }
  },
  {
   "cell_type": "code",
   "execution_count": null,
   "outputs": [],
   "source": [
    "from scipy.spatial import distance\n",
    "\n",
    "def metric_computation(record: dict, groups: pd.core.groupby.GroupBy) -> None:\n",
    "\n",
    "    # compute centroid means and dispersion for each cluster\n",
    "    for label, group in groups:\n",
    "            record[f'centroid_{label}'] = np.mean(np.stack(group['reduced_embeds'].tolist(), axis=0), axis=0).tolist()\n",
    "            record[f'dispersion_{label}'] = np.sum(distance.pdist(group['reduced_embeds'].tolist()))\n",
    "\n",
    "    record['distance'] = distance.cdist([record['centroid_positive']], [record['centroid_negative']]).item(0)"
   ],
   "metadata": {
    "collapsed": false,
    "pycharm": {
     "name": "#%%\n"
    }
   }
  },
  {
   "cell_type": "code",
   "execution_count": null,
   "metadata": {
    "collapsed": false,
    "execution": {
     "iopub.execute_input": "2022-09-12T15:44:50.806125Z",
     "iopub.status.busy": "2022-09-12T15:44:50.805763Z",
     "iopub.status.idle": "2022-09-12T15:44:50.814446Z",
     "shell.execute_reply": "2022-09-12T15:44:50.813558Z"
    },
    "pycharm": {
     "name": "#%%\n"
    }
   },
   "outputs": [],
   "source": [
    "from typing import Generator\n",
    "import torch\n",
    "\n",
    "def reduce_analyse(data: pd.DataFrame, col: str, dim: list, default_dim: int = 768) -> Generator:\n",
    "\n",
    "    embed_col: np.ndarray = torch.stack(data[col].tolist()).numpy()\n",
    "\n",
    "    for d in dim:\n",
    "\n",
    "        # create record to keep row data\n",
    "        record: dict = {'dim': d}\n",
    "\n",
    "        # if reduction size is equal to encoder output dim, skip manifold reduction\n",
    "        if d == default_dim:\n",
    "            data['reduced_embeds'] = list(embed_col)\n",
    "        else:\n",
    "            data['reduced_embeds'] = list(manifold_reduction(embed_col, dim=d))\n",
    "\n",
    "        metric_computation(record, data.groupby(dataset.target_label))\n",
    "\n",
    "        yield record"
   ]
  },
  {
   "cell_type": "code",
   "execution_count": null,
   "outputs": [],
   "source": [
    "output_cols: list = ['dim', 'dispersion_positive', 'dispersion_negative', 'distance']"
   ],
   "metadata": {
    "collapsed": false,
    "pycharm": {
     "name": "#%%\n"
    }
   }
  },
  {
   "cell_type": "code",
   "execution_count": null,
   "outputs": [],
   "source": [
    "results: Dict[str, pd.DataFrame] = {}"
   ],
   "metadata": {
    "collapsed": false,
    "pycharm": {
     "name": "#%%\n"
    }
   }
  },
  {
   "cell_type": "code",
   "execution_count": null,
   "outputs": [],
   "source": [
    "for enc_label, encoder in encoders.items():\n",
    "    for data_label, dataset in datasets.items():\n",
    "        encoder.df_encode(dataset.data, col=dataset.data_label)\n",
    "        results[f'{data_label}.{enc_label}'] = pd.DataFrame.from_records(\n",
    "            list(reduce_analyse(\n",
    "                dataset.data, encoder.col_name, DIMS,\n",
    "                default_dim=encoder.dim)\n",
    "            )\n",
    "        )"
   ],
   "metadata": {
    "collapsed": false,
    "pycharm": {
     "name": "#%%\n"
    }
   }
  },
  {
   "cell_type": "code",
   "execution_count": null,
   "outputs": [],
   "source": [
    "for label, dataset in results.items():\n",
    "    results[label][output_cols].to_csv(f'./analysis.{label}.csv')\n",
    "    display(results[label][output_cols])"
   ],
   "metadata": {
    "collapsed": false,
    "pycharm": {
     "name": "#%%\n"
    }
   }
  }
 ],
 "metadata": {
  "kernelspec": {
   "display_name": "Python 3",
   "language": "python",
   "name": "python3"
  },
  "language_info": {
   "codemirror_mode": {
    "name": "ipython",
    "version": 3
   },
   "file_extension": ".py",
   "mimetype": "text/x-python",
   "name": "python",
   "nbconvert_exporter": "python",
   "pygments_lexer": "ipython3",
   "version": "3.8.5"
  }
 },
 "nbformat": 4,
 "nbformat_minor": 0
}