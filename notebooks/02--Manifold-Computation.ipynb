{
 "cells": [
  {
   "cell_type": "code",
   "execution_count": 1,
   "metadata": {
    "collapsed": false,
    "execution": {
     "iopub.execute_input": "2022-09-12T15:44:26.749543Z",
     "iopub.status.busy": "2022-09-12T15:44:26.748813Z",
     "iopub.status.idle": "2022-09-12T15:44:26.761678Z",
     "shell.execute_reply": "2022-09-12T15:44:26.760746Z"
    },
    "pycharm": {
     "name": "#%%\n"
    }
   },
   "outputs": [
    {
     "name": "stdout",
     "output_type": "stream",
     "text": [
      "env: CUDA_DEVICE_ORDER=PCI_BUS_ID\n",
      "env: CUDA_VISIBLE_DEVICES=5\n"
     ]
    }
   ],
   "source": [
    "%env CUDA_DEVICE_ORDER=PCI_BUS_ID\n",
    "%env CUDA_VISIBLE_DEVICES=5"
   ]
  },
  {
   "cell_type": "code",
   "execution_count": 2,
   "metadata": {
    "collapsed": false,
    "execution": {
     "iopub.execute_input": "2022-09-12T15:44:26.794241Z",
     "iopub.status.busy": "2022-09-12T15:44:26.793637Z",
     "iopub.status.idle": "2022-09-12T15:44:26.801378Z",
     "shell.execute_reply": "2022-09-12T15:44:26.800146Z"
    },
    "pycharm": {
     "name": "#%%\n"
    }
   },
   "outputs": [],
   "source": [
    "import os\n",
    "import sys\n",
    "\n",
    "module_path = os.path.abspath(os.path.join('..'))\n",
    "\n",
    "if module_path not in sys.path:\n",
    "    sys.path.append(module_path)"
   ]
  },
  {
   "cell_type": "code",
   "execution_count": 3,
   "metadata": {
    "collapsed": false,
    "execution": {
     "iopub.execute_input": "2022-09-12T15:44:26.805161Z",
     "iopub.status.busy": "2022-09-12T15:44:26.804791Z",
     "iopub.status.idle": "2022-09-12T15:44:27.744489Z",
     "shell.execute_reply": "2022-09-12T15:44:27.743049Z"
    },
    "pycharm": {
     "name": "#%%\n"
    }
   },
   "outputs": [],
   "source": [
    "from classifier import Data\n",
    "\n",
    "dataset = Data(\n",
    "    data_path = \"../data/imdb._debug.csv\", #  \"../data/imdb.train.sample.csv\",\n",
    "    polarities = {\n",
    "      \"negative\": 0,\n",
    "      \"positive\": 1\n",
    "    },\n",
    "    data_label='review',\n",
    "    target_label='sentiment'\n",
    ")"
   ]
  },
  {
   "cell_type": "code",
   "execution_count": 4,
   "metadata": {
    "collapsed": false,
    "execution": {
     "iopub.execute_input": "2022-09-12T15:44:27.750503Z",
     "iopub.status.busy": "2022-09-12T15:44:27.750132Z",
     "iopub.status.idle": "2022-09-12T15:44:36.489647Z",
     "shell.execute_reply": "2022-09-12T15:44:36.488150Z"
    },
    "pycharm": {
     "name": "#%%\n"
    }
   },
   "outputs": [],
   "source": [
    "from classifier._neural import Encoder\n",
    "\n",
    "enc = Encoder({\n",
    "    'model': 'bert-base-uncased',\n",
    "    'layers': [11]\n",
    "})"
   ]
  },
  {
   "cell_type": "code",
   "execution_count": 24,
   "metadata": {
    "collapsed": false,
    "execution": {
     "iopub.execute_input": "2022-09-12T15:44:36.495953Z",
     "iopub.status.busy": "2022-09-12T15:44:36.495561Z",
     "iopub.status.idle": "2022-09-12T15:44:50.469866Z",
     "shell.execute_reply": "2022-09-12T15:44:50.468721Z"
    },
    "pycharm": {
     "name": "#%%\n"
    }
   },
   "outputs": [
    {
     "name": "stderr",
     "output_type": "stream",
     "text": [
      "                                                                             "
     ]
    },
    {
     "name": "stdout",
     "output_type": "stream",
     "text": [
      "CPU times: user 1min 18s, sys: 13.8 s, total: 1min 32s\n",
      "Wall time: 23.4 s\n"
     ]
    },
    {
     "name": "stderr",
     "output_type": "stream",
     "text": [
      "\r"
     ]
    }
   ],
   "source": [
    "%time enc.df_encode(dataset.data, col=dataset.data_label, label=dataset.data_path)"
   ]
  },
  {
   "cell_type": "code",
   "execution_count": 6,
   "outputs": [],
   "source": [
    "### START ANALYSIS\n",
    "\n",
    "import numpy as np\n",
    "import pandas as pd"
   ],
   "metadata": {
    "collapsed": false,
    "pycharm": {
     "name": "#%%\n"
    }
   }
  },
  {
   "cell_type": "code",
   "execution_count": 7,
   "outputs": [],
   "source": [
    "# setup hyperparameter: dimensions to analyse\n",
    "DIMS: list = [768, 576, 384, 192, 96, 48, 24, 12, 6, 3]"
   ],
   "metadata": {
    "collapsed": false,
    "pycharm": {
     "name": "#%%\n"
    }
   }
  },
  {
   "cell_type": "code",
   "execution_count": 17,
   "outputs": [],
   "source": [
    "from sklearn.manifold import MDS\n",
    "\n",
    "def manifold_reduction(data: np.ndarray, dim: int = 3) -> np.ndarray:\n",
    "    return MDS(n_components=dim).fit_transform(data)"
   ],
   "metadata": {
    "collapsed": false,
    "pycharm": {
     "name": "#%%\n"
    }
   }
  },
  {
   "cell_type": "code",
   "execution_count": 9,
   "outputs": [],
   "source": [
    "from scipy.spatial import distance\n",
    "\n",
    "def metric_computation(record: dict, groups: pd.core.groupby.GroupBy) -> None:\n",
    "\n",
    "    # compute centroid means and dispersion for each cluster\n",
    "    for label, group in groups:\n",
    "            record[f'centroid_{label}'] = np.mean(np.stack(group['reduced_embeds'].tolist(), axis=0), axis=0).tolist()\n",
    "            record[f'dispersion_{label}'] = np.sum(distance.pdist(group['reduced_embeds'].tolist()))\n",
    "\n",
    "    record['distance'] = distance.cdist([record['centroid_positive']], [record['centroid_negative']]).item(0)"
   ],
   "metadata": {
    "collapsed": false,
    "pycharm": {
     "name": "#%%\n"
    }
   }
  },
  {
   "cell_type": "code",
   "execution_count": 10,
   "metadata": {
    "collapsed": false,
    "execution": {
     "iopub.execute_input": "2022-09-12T15:44:50.806125Z",
     "iopub.status.busy": "2022-09-12T15:44:50.805763Z",
     "iopub.status.idle": "2022-09-12T15:44:50.814446Z",
     "shell.execute_reply": "2022-09-12T15:44:50.813558Z"
    },
    "pycharm": {
     "name": "#%%\n"
    }
   },
   "outputs": [],
   "source": [
    "from typing import Generator\n",
    "import torch\n",
    "\n",
    "def analysis(data: pd.DataFrame, dim: list) -> Generator:\n",
    "\n",
    "    embed_col: np.ndarray = torch.stack(data[enc.col_name].tolist()).numpy()\n",
    "\n",
    "    for d in dim:\n",
    "\n",
    "        # create record to keep row data\n",
    "        record: dict = {'dim': d}\n",
    "\n",
    "        # if reduction size is equal to encoder output dim, skip manifold reduction\n",
    "        if d == enc.dim:\n",
    "            data['reduced_embeds'] = list(embed_col)\n",
    "        else:\n",
    "            data['reduced_embeds'] = list(manifold_reduction(embed_col, dim=d))\n",
    "\n",
    "        metric_computation(record, data.groupby(dataset.target_label))\n",
    "\n",
    "        yield record"
   ]
  },
  {
   "cell_type": "code",
   "execution_count": 22,
   "metadata": {
    "collapsed": false,
    "execution": {
     "iopub.execute_input": "2022-09-12T15:44:50.818502Z",
     "iopub.status.busy": "2022-09-12T15:44:50.818143Z",
     "iopub.status.idle": "2022-09-12T15:51:04.676304Z",
     "shell.execute_reply": "2022-09-12T15:51:04.675161Z"
    },
    "pycharm": {
     "name": "#%%\n"
    }
   },
   "outputs": [
    {
     "name": "stdout",
     "output_type": "stream",
     "text": [
      "CPU times: user 3.22 s, sys: 47.5 ms, total: 3.27 s\n",
      "Wall time: 1.02 s\n"
     ]
    }
   ],
   "source": [
    "%time cluster_analysis = pd.DataFrame.from_records(list(analysis(dataset.data, DIMS)))"
   ]
  },
  {
   "cell_type": "code",
   "execution_count": 23,
   "outputs": [
    {
     "data": {
      "text/plain": "   dim  dispersion_positive  dispersion_negative  distance\n0  768           740.529907          2937.050467  3.035837\n1  576           741.492362          2939.475522  3.004565\n2  384           740.875161          2939.113108  3.020616\n3  192           741.109321          2938.997528  3.020126\n4   96           741.468815          2938.516747  3.001927\n5   48           740.265767          2936.923393  3.050645\n6   24           739.675870          2934.071553  3.034331\n7   12           741.596591          2925.475610  2.896466\n8    6           733.021711          2886.248638  3.175714\n9    3           728.718354          2788.146261  2.872169",
      "text/html": "<div>\n<style scoped>\n    .dataframe tbody tr th:only-of-type {\n        vertical-align: middle;\n    }\n\n    .dataframe tbody tr th {\n        vertical-align: top;\n    }\n\n    .dataframe thead th {\n        text-align: right;\n    }\n</style>\n<table border=\"1\" class=\"dataframe\">\n  <thead>\n    <tr style=\"text-align: right;\">\n      <th></th>\n      <th>dim</th>\n      <th>dispersion_positive</th>\n      <th>dispersion_negative</th>\n      <th>distance</th>\n    </tr>\n  </thead>\n  <tbody>\n    <tr>\n      <th>0</th>\n      <td>768</td>\n      <td>740.529907</td>\n      <td>2937.050467</td>\n      <td>3.035837</td>\n    </tr>\n    <tr>\n      <th>1</th>\n      <td>576</td>\n      <td>741.492362</td>\n      <td>2939.475522</td>\n      <td>3.004565</td>\n    </tr>\n    <tr>\n      <th>2</th>\n      <td>384</td>\n      <td>740.875161</td>\n      <td>2939.113108</td>\n      <td>3.020616</td>\n    </tr>\n    <tr>\n      <th>3</th>\n      <td>192</td>\n      <td>741.109321</td>\n      <td>2938.997528</td>\n      <td>3.020126</td>\n    </tr>\n    <tr>\n      <th>4</th>\n      <td>96</td>\n      <td>741.468815</td>\n      <td>2938.516747</td>\n      <td>3.001927</td>\n    </tr>\n    <tr>\n      <th>5</th>\n      <td>48</td>\n      <td>740.265767</td>\n      <td>2936.923393</td>\n      <td>3.050645</td>\n    </tr>\n    <tr>\n      <th>6</th>\n      <td>24</td>\n      <td>739.675870</td>\n      <td>2934.071553</td>\n      <td>3.034331</td>\n    </tr>\n    <tr>\n      <th>7</th>\n      <td>12</td>\n      <td>741.596591</td>\n      <td>2925.475610</td>\n      <td>2.896466</td>\n    </tr>\n    <tr>\n      <th>8</th>\n      <td>6</td>\n      <td>733.021711</td>\n      <td>2886.248638</td>\n      <td>3.175714</td>\n    </tr>\n    <tr>\n      <th>9</th>\n      <td>3</td>\n      <td>728.718354</td>\n      <td>2788.146261</td>\n      <td>2.872169</td>\n    </tr>\n  </tbody>\n</table>\n</div>"
     },
     "execution_count": 23,
     "metadata": {},
     "output_type": "execute_result"
    }
   ],
   "source": [
    "cluster_analysis[['dim', 'dispersion_positive', 'dispersion_negative', 'distance']]"
   ],
   "metadata": {
    "collapsed": false,
    "pycharm": {
     "name": "#%%\n"
    }
   }
  },
  {
   "cell_type": "code",
   "execution_count": null,
   "metadata": {
    "collapsed": false,
    "execution": {
     "iopub.execute_input": "2022-09-12T15:51:04.681073Z",
     "iopub.status.busy": "2022-09-12T15:51:04.680416Z",
     "iopub.status.idle": "2022-09-12T15:51:04.688764Z",
     "shell.execute_reply": "2022-09-12T15:51:04.687965Z"
    },
    "pycharm": {
     "name": "#%%\n"
    }
   },
   "outputs": [],
   "source": [
    "cluster_analysis[['dim', 'dispersion_positive', 'dispersion_negative', 'distance']].to_csv('./cluster_analysis.csv')"
   ]
  }
 ],
 "metadata": {
  "kernelspec": {
   "display_name": "Python 3",
   "language": "python",
   "name": "python3"
  },
  "language_info": {
   "codemirror_mode": {
    "name": "ipython",
    "version": 3
   },
   "file_extension": ".py",
   "mimetype": "text/x-python",
   "name": "python",
   "nbconvert_exporter": "python",
   "pygments_lexer": "ipython3",
   "version": "3.8.5"
  }
 },
 "nbformat": 4,
 "nbformat_minor": 0
}