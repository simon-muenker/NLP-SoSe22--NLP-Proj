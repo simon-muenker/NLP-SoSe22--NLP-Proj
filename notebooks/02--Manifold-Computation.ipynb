{
 "cells": [
  {
   "cell_type": "code",
   "execution_count": 1,
   "metadata": {
    "collapsed": false,
    "execution": {
     "iopub.execute_input": "2022-09-16T07:41:03.848701Z",
     "iopub.status.busy": "2022-09-16T07:41:03.847996Z",
     "iopub.status.idle": "2022-09-16T07:41:03.861880Z",
     "shell.execute_reply": "2022-09-16T07:41:03.860874Z"
    },
    "pycharm": {
     "name": "#%%\n"
    }
   },
   "outputs": [
    {
     "name": "stdout",
     "output_type": "stream",
     "text": [
      "env: CUDA_DEVICE_ORDER=PCI_BUS_ID\n",
      "env: CUDA_VISIBLE_DEVICES=5\n"
     ]
    }
   ],
   "source": [
    "%env CUDA_DEVICE_ORDER=PCI_BUS_ID\n",
    "%env CUDA_VISIBLE_DEVICES=5"
   ]
  },
  {
   "cell_type": "code",
   "execution_count": 2,
   "metadata": {
    "collapsed": false,
    "execution": {
     "iopub.execute_input": "2022-09-16T07:41:03.893958Z",
     "iopub.status.busy": "2022-09-16T07:41:03.893291Z",
     "iopub.status.idle": "2022-09-16T07:41:03.901137Z",
     "shell.execute_reply": "2022-09-16T07:41:03.899990Z"
    },
    "pycharm": {
     "name": "#%%\n"
    }
   },
   "outputs": [],
   "source": [
    "import os\n",
    "import sys\n",
    "\n",
    "module_path = os.path.abspath(os.path.join('..'))\n",
    "\n",
    "if module_path not in sys.path:\n",
    "    sys.path.append(module_path)"
   ]
  },
  {
   "cell_type": "code",
   "execution_count": 3,
   "metadata": {
    "collapsed": false,
    "execution": {
     "iopub.execute_input": "2022-09-16T07:41:03.904758Z",
     "iopub.status.busy": "2022-09-16T07:41:03.904327Z",
     "iopub.status.idle": "2022-09-16T07:41:03.909121Z",
     "shell.execute_reply": "2022-09-16T07:41:03.908217Z"
    },
    "pycharm": {
     "name": "#%%\n"
    }
   },
   "outputs": [],
   "source": [
    "OUT_PATH: str = '../results/manifolds/raw'"
   ]
  },
  {
   "cell_type": "code",
   "execution_count": 4,
   "metadata": {
    "collapsed": false,
    "execution": {
     "iopub.execute_input": "2022-09-16T07:41:03.912755Z",
     "iopub.status.busy": "2022-09-16T07:41:03.912288Z",
     "iopub.status.idle": "2022-09-16T07:41:03.917615Z",
     "shell.execute_reply": "2022-09-16T07:41:03.916655Z"
    },
    "pycharm": {
     "name": "#%%\n"
    }
   },
   "outputs": [],
   "source": [
    "DATA_PATH: str = '../data/imdb'\n",
    "DATASETS: list = [\n",
    "    ('train', 'sample.train'),\n",
    "    ('test', 'sample.test')\n",
    "]"
   ]
  },
  {
   "cell_type": "code",
   "execution_count": 5,
   "metadata": {
    "collapsed": false,
    "execution": {
     "iopub.execute_input": "2022-09-16T07:41:03.921488Z",
     "iopub.status.busy": "2022-09-16T07:41:03.921031Z",
     "iopub.status.idle": "2022-09-16T07:41:03.926958Z",
     "shell.execute_reply": "2022-09-16T07:41:03.926008Z"
    },
    "pycharm": {
     "name": "#%%\n"
    }
   },
   "outputs": [],
   "source": [
    "DIMS: list = [768] # [768, 576, 384, 192, 96, 48, 24, 12, 6, 3]\n",
    "MODELS: list = [\n",
    "    ('base', 'bert-base-uncased'),\n",
    "    ('textattack', 'textattack/bert-base-uncased-imdb'),\n",
    "    ('fabriceyhc', 'fabriceyhc/bert-base-uncased-imdb'),\n",
    "    ('wakaka', 'Wakaka/bert-finetuned-imdb')\n",
    "]"
   ]
  },
  {
   "cell_type": "code",
   "execution_count": 6,
   "metadata": {
    "collapsed": false,
    "execution": {
     "iopub.execute_input": "2022-09-16T07:41:03.931009Z",
     "iopub.status.busy": "2022-09-16T07:41:03.930616Z",
     "iopub.status.idle": "2022-09-16T07:41:03.935007Z",
     "shell.execute_reply": "2022-09-16T07:41:03.934047Z"
    },
    "pycharm": {
     "name": "#%%\n"
    }
   },
   "outputs": [],
   "source": [
    "### Load Datasets into memory"
   ]
  },
  {
   "cell_type": "code",
   "execution_count": 7,
   "metadata": {
    "collapsed": false,
    "execution": {
     "iopub.execute_input": "2022-09-16T07:41:03.939262Z",
     "iopub.status.busy": "2022-09-16T07:41:03.938848Z",
     "iopub.status.idle": "2022-09-16T07:41:03.944739Z",
     "shell.execute_reply": "2022-09-16T07:41:03.943627Z"
    },
    "pycharm": {
     "name": "#%%\n"
    }
   },
   "outputs": [],
   "source": [
    "data_config: dict = {\n",
    "    'polarities': {\n",
    "      \"negative\": 0,\n",
    "      \"positive\": 1\n",
    "    },\n",
    "    'data_label': 'text',\n",
    "    'target_label': 'sentiment'\n",
    "}"
   ]
  },
  {
   "cell_type": "code",
   "execution_count": 8,
   "metadata": {
    "collapsed": false,
    "execution": {
     "iopub.execute_input": "2022-09-16T07:41:03.948734Z",
     "iopub.status.busy": "2022-09-16T07:41:03.948273Z",
     "iopub.status.idle": "2022-09-16T07:41:05.142654Z",
     "shell.execute_reply": "2022-09-16T07:41:05.141372Z"
    },
    "pycharm": {
     "name": "#%%\n"
    }
   },
   "outputs": [],
   "source": [
    "from typing import Dict\n",
    "from modules import Data\n",
    "\n",
    "datasets: Dict[str, Data] = {\n",
    "    label: Data(data_path=f\"{DATA_PATH}.{name}.csv\", **data_config)\n",
    "    for label, name in DATASETS\n",
    "}"
   ]
  },
  {
   "cell_type": "code",
   "execution_count": 9,
   "metadata": {
    "collapsed": false,
    "execution": {
     "iopub.execute_input": "2022-09-16T07:41:05.167979Z",
     "iopub.status.busy": "2022-09-16T07:41:05.166579Z",
     "iopub.status.idle": "2022-09-16T07:41:05.199875Z",
     "shell.execute_reply": "2022-09-16T07:41:05.198858Z"
    },
    "pycharm": {
     "name": "#%%\n"
    }
   },
   "outputs": [
    {
     "data": {
      "text/html": [
       "<div>\n",
       "<style scoped>\n",
       "    .dataframe tbody tr th:only-of-type {\n",
       "        vertical-align: middle;\n",
       "    }\n",
       "\n",
       "    .dataframe tbody tr th {\n",
       "        vertical-align: top;\n",
       "    }\n",
       "\n",
       "    .dataframe thead th {\n",
       "        text-align: right;\n",
       "    }\n",
       "</style>\n",
       "<table border=\"1\" class=\"dataframe\">\n",
       "  <thead>\n",
       "    <tr style=\"text-align: right;\">\n",
       "      <th></th>\n",
       "      <th>text</th>\n",
       "      <th>sentiment</th>\n",
       "    </tr>\n",
       "  </thead>\n",
       "  <tbody>\n",
       "    <tr>\n",
       "      <th>0</th>\n",
       "      <td>And it falls squarely into the category of \"aw...</td>\n",
       "      <td>negative</td>\n",
       "    </tr>\n",
       "    <tr>\n",
       "      <th>1</th>\n",
       "      <td>This is one seriously disturbed movie. Even Th...</td>\n",
       "      <td>negative</td>\n",
       "    </tr>\n",
       "    <tr>\n",
       "      <th>2</th>\n",
       "      <td>Basically this is an overlong, unfunny, action...</td>\n",
       "      <td>negative</td>\n",
       "    </tr>\n",
       "    <tr>\n",
       "      <th>3</th>\n",
       "      <td>Hey if you have a little over an hour to kill ...</td>\n",
       "      <td>negative</td>\n",
       "    </tr>\n",
       "    <tr>\n",
       "      <th>4</th>\n",
       "      <td>Did anyone read the script. This has to be som...</td>\n",
       "      <td>negative</td>\n",
       "    </tr>\n",
       "    <tr>\n",
       "      <th>...</th>\n",
       "      <td>...</td>\n",
       "      <td>...</td>\n",
       "    </tr>\n",
       "    <tr>\n",
       "      <th>1240</th>\n",
       "      <td>First of all, Jenna Jameson is the best actres...</td>\n",
       "      <td>negative</td>\n",
       "    </tr>\n",
       "    <tr>\n",
       "      <th>1241</th>\n",
       "      <td>I didnt think it was possible, but i have foun...</td>\n",
       "      <td>negative</td>\n",
       "    </tr>\n",
       "    <tr>\n",
       "      <th>1242</th>\n",
       "      <td>OK, I taped this off TV and missed the very st...</td>\n",
       "      <td>negative</td>\n",
       "    </tr>\n",
       "    <tr>\n",
       "      <th>1243</th>\n",
       "      <td>Okay, okay, maybe not THE greatest. I mean, Th...</td>\n",
       "      <td>positive</td>\n",
       "    </tr>\n",
       "    <tr>\n",
       "      <th>1244</th>\n",
       "      <td>It was very heart-warming. As an expatriated f...</td>\n",
       "      <td>positive</td>\n",
       "    </tr>\n",
       "  </tbody>\n",
       "</table>\n",
       "<p>1245 rows × 2 columns</p>\n",
       "</div>"
      ],
      "text/plain": [
       "                                                   text sentiment\n",
       "0     And it falls squarely into the category of \"aw...  negative\n",
       "1     This is one seriously disturbed movie. Even Th...  negative\n",
       "2     Basically this is an overlong, unfunny, action...  negative\n",
       "3     Hey if you have a little over an hour to kill ...  negative\n",
       "4     Did anyone read the script. This has to be som...  negative\n",
       "...                                                 ...       ...\n",
       "1240  First of all, Jenna Jameson is the best actres...  negative\n",
       "1241  I didnt think it was possible, but i have foun...  negative\n",
       "1242  OK, I taped this off TV and missed the very st...  negative\n",
       "1243  Okay, okay, maybe not THE greatest. I mean, Th...  positive\n",
       "1244  It was very heart-warming. As an expatriated f...  positive\n",
       "\n",
       "[1245 rows x 2 columns]"
      ]
     },
     "metadata": {},
     "output_type": "display_data"
    },
    {
     "data": {
      "text/plain": [
       "negative    0.503614\n",
       "positive    0.496386\n",
       "Name: sentiment, dtype: float64"
      ]
     },
     "metadata": {},
     "output_type": "display_data"
    },
    {
     "data": {
      "text/html": [
       "<div>\n",
       "<style scoped>\n",
       "    .dataframe tbody tr th:only-of-type {\n",
       "        vertical-align: middle;\n",
       "    }\n",
       "\n",
       "    .dataframe tbody tr th {\n",
       "        vertical-align: top;\n",
       "    }\n",
       "\n",
       "    .dataframe thead th {\n",
       "        text-align: right;\n",
       "    }\n",
       "</style>\n",
       "<table border=\"1\" class=\"dataframe\">\n",
       "  <thead>\n",
       "    <tr style=\"text-align: right;\">\n",
       "      <th></th>\n",
       "      <th>text</th>\n",
       "      <th>sentiment</th>\n",
       "    </tr>\n",
       "  </thead>\n",
       "  <tbody>\n",
       "    <tr>\n",
       "      <th>0</th>\n",
       "      <td>This...... Movie.... Is..... Horrible!!!!!! Yo...</td>\n",
       "      <td>negative</td>\n",
       "    </tr>\n",
       "    <tr>\n",
       "      <th>1</th>\n",
       "      <td>At the same time John Russell was playing ranc...</td>\n",
       "      <td>positive</td>\n",
       "    </tr>\n",
       "    <tr>\n",
       "      <th>2</th>\n",
       "      <td>This is the best version of Gypsy that has bee...</td>\n",
       "      <td>positive</td>\n",
       "    </tr>\n",
       "    <tr>\n",
       "      <th>3</th>\n",
       "      <td>It's just stories, some we wish happen to us, ...</td>\n",
       "      <td>positive</td>\n",
       "    </tr>\n",
       "    <tr>\n",
       "      <th>4</th>\n",
       "      <td>This film, without doubt, is the clearest exam...</td>\n",
       "      <td>positive</td>\n",
       "    </tr>\n",
       "    <tr>\n",
       "      <th>...</th>\n",
       "      <td>...</td>\n",
       "      <td>...</td>\n",
       "    </tr>\n",
       "    <tr>\n",
       "      <th>1235</th>\n",
       "      <td>\"Cooley High\" is one of my favorite movies EVE...</td>\n",
       "      <td>positive</td>\n",
       "    </tr>\n",
       "    <tr>\n",
       "      <th>1236</th>\n",
       "      <td>The Comic Strip featured actors from 'The Youn...</td>\n",
       "      <td>negative</td>\n",
       "    </tr>\n",
       "    <tr>\n",
       "      <th>1237</th>\n",
       "      <td>I suppose you could say this film has a grain ...</td>\n",
       "      <td>negative</td>\n",
       "    </tr>\n",
       "    <tr>\n",
       "      <th>1238</th>\n",
       "      <td>Having just watched Acacia, I find that I have...</td>\n",
       "      <td>negative</td>\n",
       "    </tr>\n",
       "    <tr>\n",
       "      <th>1239</th>\n",
       "      <td>I will give it this: it tried. It did try to m...</td>\n",
       "      <td>negative</td>\n",
       "    </tr>\n",
       "  </tbody>\n",
       "</table>\n",
       "<p>1240 rows × 2 columns</p>\n",
       "</div>"
      ],
      "text/plain": [
       "                                                   text sentiment\n",
       "0     This...... Movie.... Is..... Horrible!!!!!! Yo...  negative\n",
       "1     At the same time John Russell was playing ranc...  positive\n",
       "2     This is the best version of Gypsy that has bee...  positive\n",
       "3     It's just stories, some we wish happen to us, ...  positive\n",
       "4     This film, without doubt, is the clearest exam...  positive\n",
       "...                                                 ...       ...\n",
       "1235  \"Cooley High\" is one of my favorite movies EVE...  positive\n",
       "1236  The Comic Strip featured actors from 'The Youn...  negative\n",
       "1237  I suppose you could say this film has a grain ...  negative\n",
       "1238  Having just watched Acacia, I find that I have...  negative\n",
       "1239  I will give it this: it tried. It did try to m...  negative\n",
       "\n",
       "[1240 rows x 2 columns]"
      ]
     },
     "metadata": {},
     "output_type": "display_data"
    },
    {
     "data": {
      "text/plain": [
       "negative    0.520968\n",
       "positive    0.479032\n",
       "Name: sentiment, dtype: float64"
      ]
     },
     "metadata": {},
     "output_type": "display_data"
    }
   ],
   "source": [
    "for label, dataset in datasets.items():\n",
    "    display(dataset.data)\n",
    "    display(dataset.data['sentiment'].value_counts(normalize=True))"
   ]
  },
  {
   "cell_type": "code",
   "execution_count": 10,
   "metadata": {
    "collapsed": false,
    "execution": {
     "iopub.execute_input": "2022-09-16T07:41:05.203457Z",
     "iopub.status.busy": "2022-09-16T07:41:05.203097Z",
     "iopub.status.idle": "2022-09-16T07:41:05.206874Z",
     "shell.execute_reply": "2022-09-16T07:41:05.206145Z"
    },
    "pycharm": {
     "name": "#%%\n"
    }
   },
   "outputs": [],
   "source": [
    "### Load Encoder into Memory"
   ]
  },
  {
   "cell_type": "code",
   "execution_count": 11,
   "metadata": {
    "collapsed": false,
    "execution": {
     "iopub.execute_input": "2022-09-16T07:41:05.210413Z",
     "iopub.status.busy": "2022-09-16T07:41:05.209947Z",
     "iopub.status.idle": "2022-09-16T07:41:05.214853Z",
     "shell.execute_reply": "2022-09-16T07:41:05.213868Z"
    },
    "pycharm": {
     "name": "#%%\n"
    }
   },
   "outputs": [],
   "source": [
    "encoder_config: dict = {\n",
    "    'layers': [11]\n",
    "}"
   ]
  },
  {
   "cell_type": "code",
   "execution_count": 12,
   "metadata": {
    "collapsed": false,
    "execution": {
     "iopub.execute_input": "2022-09-16T07:41:05.218506Z",
     "iopub.status.busy": "2022-09-16T07:41:05.218090Z",
     "iopub.status.idle": "2022-09-16T07:41:31.679496Z",
     "shell.execute_reply": "2022-09-16T07:41:31.678750Z"
    },
    "pycharm": {
     "name": "#%%\n"
    }
   },
   "outputs": [],
   "source": [
    "from modules import Encoder\n",
    "\n",
    "encoders: Dict[str, Encoder] = {\n",
    "    label: Encoder({**{'model': ref}, **encoder_config})\n",
    "    for label, ref in MODELS\n",
    "}"
   ]
  },
  {
   "cell_type": "code",
   "execution_count": 13,
   "metadata": {
    "collapsed": false,
    "execution": {
     "iopub.execute_input": "2022-09-16T07:41:31.684073Z",
     "iopub.status.busy": "2022-09-16T07:41:31.683751Z",
     "iopub.status.idle": "2022-09-16T07:41:31.687221Z",
     "shell.execute_reply": "2022-09-16T07:41:31.686550Z"
    },
    "pycharm": {
     "name": "#%%\n"
    }
   },
   "outputs": [],
   "source": [
    "### Compute manifolds and measure centroid distance and cluster dispersion"
   ]
  },
  {
   "cell_type": "code",
   "execution_count": 14,
   "metadata": {
    "collapsed": false,
    "execution": {
     "iopub.execute_input": "2022-09-16T07:41:31.690776Z",
     "iopub.status.busy": "2022-09-16T07:41:31.690502Z",
     "iopub.status.idle": "2022-09-16T07:41:31.693898Z",
     "shell.execute_reply": "2022-09-16T07:41:31.693224Z"
    },
    "pycharm": {
     "name": "#%%\n"
    }
   },
   "outputs": [],
   "source": [
    "import numpy as np\n",
    "import pandas as pd"
   ]
  },
  {
   "cell_type": "code",
   "execution_count": 15,
   "metadata": {
    "collapsed": false,
    "execution": {
     "iopub.execute_input": "2022-09-16T07:41:31.697588Z",
     "iopub.status.busy": "2022-09-16T07:41:31.697252Z",
     "iopub.status.idle": "2022-09-16T07:41:31.932569Z",
     "shell.execute_reply": "2022-09-16T07:41:31.931303Z"
    },
    "pycharm": {
     "name": "#%%\n"
    }
   },
   "outputs": [],
   "source": [
    "from sklearn.manifold import MDS\n",
    "\n",
    "def manifold_reduction(data: np.ndarray, dim: int = 3) -> np.ndarray:\n",
    "    return MDS(n_components=dim).fit_transform(data)"
   ]
  },
  {
   "cell_type": "code",
   "execution_count": 16,
   "metadata": {
    "collapsed": false,
    "execution": {
     "iopub.execute_input": "2022-09-16T07:41:31.936346Z",
     "iopub.status.busy": "2022-09-16T07:41:31.936020Z",
     "iopub.status.idle": "2022-09-16T07:41:31.941591Z",
     "shell.execute_reply": "2022-09-16T07:41:31.940836Z"
    },
    "pycharm": {
     "name": "#%%\n"
    }
   },
   "outputs": [],
   "source": [
    "from scipy.spatial import distance\n",
    "\n",
    "def metric_computation(record: dict, groups: pd.core.groupby.GroupBy) -> None:\n",
    "\n",
    "    for label, group in groups:\n",
    "            record[f'centroid_{label}'] = np.mean(np.stack(group['reduced_embeds'].tolist(), axis=0), axis=0).tolist()\n",
    "            record[f'centroid_point_distances_{label}'] = distance.cdist([record[f'centroid_{label}']], group['reduced_embeds'].tolist()).tolist()\n",
    "            record[f'intra_distance_{label}'] = np.mean(record[f'centroid_point_distances_{label}'], axis=1).item()\n",
    "\n",
    "    record['extra_distance'] = distance.cdist([record['centroid_positive']], [record['centroid_negative']]).item()"
   ]
  },
  {
   "cell_type": "code",
   "execution_count": 17,
   "metadata": {
    "collapsed": false,
    "execution": {
     "iopub.execute_input": "2022-09-16T07:41:31.945788Z",
     "iopub.status.busy": "2022-09-16T07:41:31.945243Z",
     "iopub.status.idle": "2022-09-16T07:41:31.951947Z",
     "shell.execute_reply": "2022-09-16T07:41:31.951068Z"
    },
    "pycharm": {
     "name": "#%%\n"
    }
   },
   "outputs": [],
   "source": [
    "from typing import Generator\n",
    "import torch\n",
    "\n",
    "def reduce_analyse(data: pd.DataFrame, col: str, dim: list, default_dim: int = 768) -> Generator:\n",
    "\n",
    "    embed_col: np.ndarray = torch.stack(data[col].tolist()).numpy()\n",
    "\n",
    "    for d in dim:\n",
    "\n",
    "        # create record to keep row data\n",
    "        record: dict = {'dim': d}\n",
    "\n",
    "        # if reduction size is equal to encoder output dim, skip manifold reduction\n",
    "        if d == default_dim:\n",
    "            data['reduced_embeds'] = list(embed_col)\n",
    "        else:\n",
    "            data['reduced_embeds'] = list(manifold_reduction(embed_col, dim=d))\n",
    "\n",
    "        metric_computation(record, data.groupby(dataset.target_label))\n",
    "\n",
    "        yield record"
   ]
  },
  {
   "cell_type": "code",
   "execution_count": 19,
   "metadata": {
    "collapsed": false,
    "execution": {
     "iopub.execute_input": "2022-09-16T07:41:31.963089Z",
     "iopub.status.busy": "2022-09-16T07:41:31.962721Z",
     "iopub.status.idle": "2022-09-16T07:41:31.967205Z",
     "shell.execute_reply": "2022-09-16T07:41:31.966281Z"
    },
    "pycharm": {
     "name": "#%%\n"
    }
   },
   "outputs": [],
   "source": [
    "results: Dict[str, pd.DataFrame] = {}"
   ]
  },
  {
   "cell_type": "code",
   "execution_count": 20,
   "metadata": {
    "collapsed": false,
    "execution": {
     "iopub.execute_input": "2022-09-16T07:41:31.970623Z",
     "iopub.status.busy": "2022-09-16T07:41:31.970240Z",
     "iopub.status.idle": "2022-09-16T08:43:23.904692Z",
     "shell.execute_reply": "2022-09-16T08:43:23.903333Z"
    },
    "pycharm": {
     "name": "#%%\n"
    }
   },
   "outputs": [
    {
     "name": "stderr",
     "output_type": "stream",
     "text": [
      "                                                                                                                                                                                                                                                                                                                                                                          \r"
     ]
    }
   ],
   "source": [
    "for enc_label, encoder in encoders.items():\n",
    "    for data_label, dataset in datasets.items():\n",
    "        encoder.df_encode(dataset.data, col=dataset.data_label)\n",
    "        results[f'{data_label}.{enc_label}'] = pd.DataFrame.from_records(\n",
    "            list(reduce_analyse(\n",
    "                dataset.data, encoder.col_name, DIMS,\n",
    "                default_dim=encoder.dim)\n",
    "            )\n",
    "        )"
   ]
  },
  {
   "cell_type": "code",
   "execution_count": 18,
   "outputs": [],
   "source": [
    "output_cols: str = '(dim|extra_distance|intra_distance_*|centroid_point_distances_*)'"
   ],
   "metadata": {
    "collapsed": false,
    "pycharm": {
     "name": "#%%\n"
    }
   }
  },
  {
   "cell_type": "code",
   "execution_count": 21,
   "metadata": {
    "collapsed": false,
    "execution": {
     "iopub.execute_input": "2022-09-16T08:43:23.912009Z",
     "iopub.status.busy": "2022-09-16T08:43:23.911078Z",
     "iopub.status.idle": "2022-09-16T08:43:23.999940Z",
     "shell.execute_reply": "2022-09-16T08:43:23.999201Z"
    },
    "pycharm": {
     "name": "#%%\n"
    }
   },
   "outputs": [
    {
     "data": {
      "text/html": [
       "<div>\n",
       "<style scoped>\n",
       "    .dataframe tbody tr th:only-of-type {\n",
       "        vertical-align: middle;\n",
       "    }\n",
       "\n",
       "    .dataframe tbody tr th {\n",
       "        vertical-align: top;\n",
       "    }\n",
       "\n",
       "    .dataframe thead th {\n",
       "        text-align: right;\n",
       "    }\n",
       "</style>\n",
       "<table border=\"1\" class=\"dataframe\">\n",
       "  <thead>\n",
       "    <tr style=\"text-align: right;\">\n",
       "      <th></th>\n",
       "      <th>dim</th>\n",
       "      <th>dispersion_positive</th>\n",
       "      <th>dispersion_negative</th>\n",
       "      <th>distance</th>\n",
       "    </tr>\n",
       "  </thead>\n",
       "  <tbody>\n",
       "    <tr>\n",
       "      <th>0</th>\n",
       "      <td>768</td>\n",
       "      <td>6.138071</td>\n",
       "      <td>5.764313</td>\n",
       "      <td>1.259246</td>\n",
       "    </tr>\n",
       "    <tr>\n",
       "      <th>1</th>\n",
       "      <td>576</td>\n",
       "      <td>6.139669</td>\n",
       "      <td>5.765659</td>\n",
       "      <td>1.194376</td>\n",
       "    </tr>\n",
       "    <tr>\n",
       "      <th>2</th>\n",
       "      <td>384</td>\n",
       "      <td>6.139204</td>\n",
       "      <td>5.765113</td>\n",
       "      <td>1.199099</td>\n",
       "    </tr>\n",
       "    <tr>\n",
       "      <th>3</th>\n",
       "      <td>192</td>\n",
       "      <td>6.137501</td>\n",
       "      <td>5.763306</td>\n",
       "      <td>1.219064</td>\n",
       "    </tr>\n",
       "    <tr>\n",
       "      <th>4</th>\n",
       "      <td>96</td>\n",
       "      <td>6.134574</td>\n",
       "      <td>5.760337</td>\n",
       "      <td>1.241529</td>\n",
       "    </tr>\n",
       "    <tr>\n",
       "      <th>5</th>\n",
       "      <td>48</td>\n",
       "      <td>6.128319</td>\n",
       "      <td>5.753036</td>\n",
       "      <td>1.305715</td>\n",
       "    </tr>\n",
       "    <tr>\n",
       "      <th>6</th>\n",
       "      <td>24</td>\n",
       "      <td>6.114873</td>\n",
       "      <td>5.737919</td>\n",
       "      <td>1.420860</td>\n",
       "    </tr>\n",
       "    <tr>\n",
       "      <th>7</th>\n",
       "      <td>12</td>\n",
       "      <td>6.085098</td>\n",
       "      <td>5.701169</td>\n",
       "      <td>1.636281</td>\n",
       "    </tr>\n",
       "    <tr>\n",
       "      <th>8</th>\n",
       "      <td>6</td>\n",
       "      <td>6.018489</td>\n",
       "      <td>5.616422</td>\n",
       "      <td>1.876313</td>\n",
       "    </tr>\n",
       "    <tr>\n",
       "      <th>9</th>\n",
       "      <td>3</td>\n",
       "      <td>5.918405</td>\n",
       "      <td>5.411482</td>\n",
       "      <td>1.779940</td>\n",
       "    </tr>\n",
       "  </tbody>\n",
       "</table>\n",
       "</div>"
      ],
      "text/plain": [
       "   dim  dispersion_positive  dispersion_negative  distance\n",
       "0  768             6.138071             5.764313  1.259246\n",
       "1  576             6.139669             5.765659  1.194376\n",
       "2  384             6.139204             5.765113  1.199099\n",
       "3  192             6.137501             5.763306  1.219064\n",
       "4   96             6.134574             5.760337  1.241529\n",
       "5   48             6.128319             5.753036  1.305715\n",
       "6   24             6.114873             5.737919  1.420860\n",
       "7   12             6.085098             5.701169  1.636281\n",
       "8    6             6.018489             5.616422  1.876313\n",
       "9    3             5.918405             5.411482  1.779940"
      ]
     },
     "metadata": {},
     "output_type": "display_data"
    },
    {
     "data": {
      "text/html": [
       "<div>\n",
       "<style scoped>\n",
       "    .dataframe tbody tr th:only-of-type {\n",
       "        vertical-align: middle;\n",
       "    }\n",
       "\n",
       "    .dataframe tbody tr th {\n",
       "        vertical-align: top;\n",
       "    }\n",
       "\n",
       "    .dataframe thead th {\n",
       "        text-align: right;\n",
       "    }\n",
       "</style>\n",
       "<table border=\"1\" class=\"dataframe\">\n",
       "  <thead>\n",
       "    <tr style=\"text-align: right;\">\n",
       "      <th></th>\n",
       "      <th>dim</th>\n",
       "      <th>dispersion_positive</th>\n",
       "      <th>dispersion_negative</th>\n",
       "      <th>distance</th>\n",
       "    </tr>\n",
       "  </thead>\n",
       "  <tbody>\n",
       "    <tr>\n",
       "      <th>0</th>\n",
       "      <td>768</td>\n",
       "      <td>6.084546</td>\n",
       "      <td>5.798742</td>\n",
       "      <td>1.229414</td>\n",
       "    </tr>\n",
       "    <tr>\n",
       "      <th>1</th>\n",
       "      <td>576</td>\n",
       "      <td>6.086450</td>\n",
       "      <td>5.800295</td>\n",
       "      <td>1.157035</td>\n",
       "    </tr>\n",
       "    <tr>\n",
       "      <th>2</th>\n",
       "      <td>384</td>\n",
       "      <td>6.086301</td>\n",
       "      <td>5.800096</td>\n",
       "      <td>1.155812</td>\n",
       "    </tr>\n",
       "    <tr>\n",
       "      <th>3</th>\n",
       "      <td>192</td>\n",
       "      <td>6.084319</td>\n",
       "      <td>5.798407</td>\n",
       "      <td>1.178628</td>\n",
       "    </tr>\n",
       "    <tr>\n",
       "      <th>4</th>\n",
       "      <td>96</td>\n",
       "      <td>6.082008</td>\n",
       "      <td>5.795524</td>\n",
       "      <td>1.204912</td>\n",
       "    </tr>\n",
       "    <tr>\n",
       "      <th>5</th>\n",
       "      <td>48</td>\n",
       "      <td>6.074534</td>\n",
       "      <td>5.788623</td>\n",
       "      <td>1.268671</td>\n",
       "    </tr>\n",
       "    <tr>\n",
       "      <th>6</th>\n",
       "      <td>24</td>\n",
       "      <td>6.058615</td>\n",
       "      <td>5.772423</td>\n",
       "      <td>1.404744</td>\n",
       "    </tr>\n",
       "    <tr>\n",
       "      <th>7</th>\n",
       "      <td>12</td>\n",
       "      <td>6.031680</td>\n",
       "      <td>5.745048</td>\n",
       "      <td>1.566630</td>\n",
       "    </tr>\n",
       "    <tr>\n",
       "      <th>8</th>\n",
       "      <td>6</td>\n",
       "      <td>5.954286</td>\n",
       "      <td>5.664161</td>\n",
       "      <td>1.905443</td>\n",
       "    </tr>\n",
       "    <tr>\n",
       "      <th>9</th>\n",
       "      <td>3</td>\n",
       "      <td>5.892543</td>\n",
       "      <td>5.513398</td>\n",
       "      <td>1.143659</td>\n",
       "    </tr>\n",
       "  </tbody>\n",
       "</table>\n",
       "</div>"
      ],
      "text/plain": [
       "   dim  dispersion_positive  dispersion_negative  distance\n",
       "0  768             6.084546             5.798742  1.229414\n",
       "1  576             6.086450             5.800295  1.157035\n",
       "2  384             6.086301             5.800096  1.155812\n",
       "3  192             6.084319             5.798407  1.178628\n",
       "4   96             6.082008             5.795524  1.204912\n",
       "5   48             6.074534             5.788623  1.268671\n",
       "6   24             6.058615             5.772423  1.404744\n",
       "7   12             6.031680             5.745048  1.566630\n",
       "8    6             5.954286             5.664161  1.905443\n",
       "9    3             5.892543             5.513398  1.143659"
      ]
     },
     "metadata": {},
     "output_type": "display_data"
    },
    {
     "data": {
      "text/html": [
       "<div>\n",
       "<style scoped>\n",
       "    .dataframe tbody tr th:only-of-type {\n",
       "        vertical-align: middle;\n",
       "    }\n",
       "\n",
       "    .dataframe tbody tr th {\n",
       "        vertical-align: top;\n",
       "    }\n",
       "\n",
       "    .dataframe thead th {\n",
       "        text-align: right;\n",
       "    }\n",
       "</style>\n",
       "<table border=\"1\" class=\"dataframe\">\n",
       "  <thead>\n",
       "    <tr style=\"text-align: right;\">\n",
       "      <th></th>\n",
       "      <th>dim</th>\n",
       "      <th>dispersion_positive</th>\n",
       "      <th>dispersion_negative</th>\n",
       "      <th>distance</th>\n",
       "    </tr>\n",
       "  </thead>\n",
       "  <tbody>\n",
       "    <tr>\n",
       "      <th>0</th>\n",
       "      <td>768</td>\n",
       "      <td>7.117969</td>\n",
       "      <td>6.738079</td>\n",
       "      <td>7.820493</td>\n",
       "    </tr>\n",
       "    <tr>\n",
       "      <th>1</th>\n",
       "      <td>576</td>\n",
       "      <td>7.116583</td>\n",
       "      <td>6.736554</td>\n",
       "      <td>7.822101</td>\n",
       "    </tr>\n",
       "    <tr>\n",
       "      <th>2</th>\n",
       "      <td>384</td>\n",
       "      <td>7.115844</td>\n",
       "      <td>6.735819</td>\n",
       "      <td>7.823868</td>\n",
       "    </tr>\n",
       "    <tr>\n",
       "      <th>3</th>\n",
       "      <td>192</td>\n",
       "      <td>7.113526</td>\n",
       "      <td>6.733359</td>\n",
       "      <td>7.829962</td>\n",
       "    </tr>\n",
       "    <tr>\n",
       "      <th>4</th>\n",
       "      <td>96</td>\n",
       "      <td>7.108215</td>\n",
       "      <td>6.727870</td>\n",
       "      <td>7.843417</td>\n",
       "    </tr>\n",
       "    <tr>\n",
       "      <th>5</th>\n",
       "      <td>48</td>\n",
       "      <td>7.097139</td>\n",
       "      <td>6.716420</td>\n",
       "      <td>7.870813</td>\n",
       "    </tr>\n",
       "    <tr>\n",
       "      <th>6</th>\n",
       "      <td>24</td>\n",
       "      <td>7.072455</td>\n",
       "      <td>6.690959</td>\n",
       "      <td>7.932147</td>\n",
       "    </tr>\n",
       "    <tr>\n",
       "      <th>7</th>\n",
       "      <td>12</td>\n",
       "      <td>7.016590</td>\n",
       "      <td>6.632266</td>\n",
       "      <td>8.064154</td>\n",
       "    </tr>\n",
       "    <tr>\n",
       "      <th>8</th>\n",
       "      <td>6</td>\n",
       "      <td>6.867037</td>\n",
       "      <td>6.482053</td>\n",
       "      <td>8.374858</td>\n",
       "    </tr>\n",
       "    <tr>\n",
       "      <th>9</th>\n",
       "      <td>3</td>\n",
       "      <td>6.329559</td>\n",
       "      <td>5.987389</td>\n",
       "      <td>9.175378</td>\n",
       "    </tr>\n",
       "  </tbody>\n",
       "</table>\n",
       "</div>"
      ],
      "text/plain": [
       "   dim  dispersion_positive  dispersion_negative  distance\n",
       "0  768             7.117969             6.738079  7.820493\n",
       "1  576             7.116583             6.736554  7.822101\n",
       "2  384             7.115844             6.735819  7.823868\n",
       "3  192             7.113526             6.733359  7.829962\n",
       "4   96             7.108215             6.727870  7.843417\n",
       "5   48             7.097139             6.716420  7.870813\n",
       "6   24             7.072455             6.690959  7.932147\n",
       "7   12             7.016590             6.632266  8.064154\n",
       "8    6             6.867037             6.482053  8.374858\n",
       "9    3             6.329559             5.987389  9.175378"
      ]
     },
     "metadata": {},
     "output_type": "display_data"
    },
    {
     "data": {
      "text/html": [
       "<div>\n",
       "<style scoped>\n",
       "    .dataframe tbody tr th:only-of-type {\n",
       "        vertical-align: middle;\n",
       "    }\n",
       "\n",
       "    .dataframe tbody tr th {\n",
       "        vertical-align: top;\n",
       "    }\n",
       "\n",
       "    .dataframe thead th {\n",
       "        text-align: right;\n",
       "    }\n",
       "</style>\n",
       "<table border=\"1\" class=\"dataframe\">\n",
       "  <thead>\n",
       "    <tr style=\"text-align: right;\">\n",
       "      <th></th>\n",
       "      <th>dim</th>\n",
       "      <th>dispersion_positive</th>\n",
       "      <th>dispersion_negative</th>\n",
       "      <th>distance</th>\n",
       "    </tr>\n",
       "  </thead>\n",
       "  <tbody>\n",
       "    <tr>\n",
       "      <th>0</th>\n",
       "      <td>768</td>\n",
       "      <td>7.183807</td>\n",
       "      <td>6.935167</td>\n",
       "      <td>7.312816</td>\n",
       "    </tr>\n",
       "    <tr>\n",
       "      <th>1</th>\n",
       "      <td>576</td>\n",
       "      <td>7.182440</td>\n",
       "      <td>6.933758</td>\n",
       "      <td>7.314245</td>\n",
       "    </tr>\n",
       "    <tr>\n",
       "      <th>2</th>\n",
       "      <td>384</td>\n",
       "      <td>7.181604</td>\n",
       "      <td>6.933000</td>\n",
       "      <td>7.316373</td>\n",
       "    </tr>\n",
       "    <tr>\n",
       "      <th>3</th>\n",
       "      <td>192</td>\n",
       "      <td>7.179190</td>\n",
       "      <td>6.930747</td>\n",
       "      <td>7.322635</td>\n",
       "    </tr>\n",
       "    <tr>\n",
       "      <th>4</th>\n",
       "      <td>96</td>\n",
       "      <td>7.173834</td>\n",
       "      <td>6.926006</td>\n",
       "      <td>7.335768</td>\n",
       "    </tr>\n",
       "    <tr>\n",
       "      <th>5</th>\n",
       "      <td>48</td>\n",
       "      <td>7.162849</td>\n",
       "      <td>6.916276</td>\n",
       "      <td>7.361726</td>\n",
       "    </tr>\n",
       "    <tr>\n",
       "      <th>6</th>\n",
       "      <td>24</td>\n",
       "      <td>7.136895</td>\n",
       "      <td>6.892173</td>\n",
       "      <td>7.425125</td>\n",
       "    </tr>\n",
       "    <tr>\n",
       "      <th>7</th>\n",
       "      <td>12</td>\n",
       "      <td>7.078968</td>\n",
       "      <td>6.839176</td>\n",
       "      <td>7.558527</td>\n",
       "    </tr>\n",
       "    <tr>\n",
       "      <th>8</th>\n",
       "      <td>6</td>\n",
       "      <td>6.925149</td>\n",
       "      <td>6.697920</td>\n",
       "      <td>7.877356</td>\n",
       "    </tr>\n",
       "    <tr>\n",
       "      <th>9</th>\n",
       "      <td>3</td>\n",
       "      <td>6.395235</td>\n",
       "      <td>6.210816</td>\n",
       "      <td>8.715597</td>\n",
       "    </tr>\n",
       "  </tbody>\n",
       "</table>\n",
       "</div>"
      ],
      "text/plain": [
       "   dim  dispersion_positive  dispersion_negative  distance\n",
       "0  768             7.183807             6.935167  7.312816\n",
       "1  576             7.182440             6.933758  7.314245\n",
       "2  384             7.181604             6.933000  7.316373\n",
       "3  192             7.179190             6.930747  7.322635\n",
       "4   96             7.173834             6.926006  7.335768\n",
       "5   48             7.162849             6.916276  7.361726\n",
       "6   24             7.136895             6.892173  7.425125\n",
       "7   12             7.078968             6.839176  7.558527\n",
       "8    6             6.925149             6.697920  7.877356\n",
       "9    3             6.395235             6.210816  8.715597"
      ]
     },
     "metadata": {},
     "output_type": "display_data"
    },
    {
     "data": {
      "text/html": [
       "<div>\n",
       "<style scoped>\n",
       "    .dataframe tbody tr th:only-of-type {\n",
       "        vertical-align: middle;\n",
       "    }\n",
       "\n",
       "    .dataframe tbody tr th {\n",
       "        vertical-align: top;\n",
       "    }\n",
       "\n",
       "    .dataframe thead th {\n",
       "        text-align: right;\n",
       "    }\n",
       "</style>\n",
       "<table border=\"1\" class=\"dataframe\">\n",
       "  <thead>\n",
       "    <tr style=\"text-align: right;\">\n",
       "      <th></th>\n",
       "      <th>dim</th>\n",
       "      <th>dispersion_positive</th>\n",
       "      <th>dispersion_negative</th>\n",
       "      <th>distance</th>\n",
       "    </tr>\n",
       "  </thead>\n",
       "  <tbody>\n",
       "    <tr>\n",
       "      <th>0</th>\n",
       "      <td>768</td>\n",
       "      <td>6.040889</td>\n",
       "      <td>7.644175</td>\n",
       "      <td>22.864886</td>\n",
       "    </tr>\n",
       "    <tr>\n",
       "      <th>1</th>\n",
       "      <td>576</td>\n",
       "      <td>6.039529</td>\n",
       "      <td>7.641622</td>\n",
       "      <td>22.865088</td>\n",
       "    </tr>\n",
       "    <tr>\n",
       "      <th>2</th>\n",
       "      <td>384</td>\n",
       "      <td>6.039256</td>\n",
       "      <td>7.641588</td>\n",
       "      <td>22.865183</td>\n",
       "    </tr>\n",
       "    <tr>\n",
       "      <th>3</th>\n",
       "      <td>192</td>\n",
       "      <td>6.038501</td>\n",
       "      <td>7.641333</td>\n",
       "      <td>22.865379</td>\n",
       "    </tr>\n",
       "    <tr>\n",
       "      <th>4</th>\n",
       "      <td>96</td>\n",
       "      <td>6.037833</td>\n",
       "      <td>7.640487</td>\n",
       "      <td>22.865782</td>\n",
       "    </tr>\n",
       "    <tr>\n",
       "      <th>5</th>\n",
       "      <td>48</td>\n",
       "      <td>6.035165</td>\n",
       "      <td>7.639025</td>\n",
       "      <td>22.866592</td>\n",
       "    </tr>\n",
       "    <tr>\n",
       "      <th>6</th>\n",
       "      <td>24</td>\n",
       "      <td>6.027100</td>\n",
       "      <td>7.631796</td>\n",
       "      <td>22.869685</td>\n",
       "    </tr>\n",
       "    <tr>\n",
       "      <th>7</th>\n",
       "      <td>12</td>\n",
       "      <td>6.010790</td>\n",
       "      <td>7.616623</td>\n",
       "      <td>22.875936</td>\n",
       "    </tr>\n",
       "    <tr>\n",
       "      <th>8</th>\n",
       "      <td>6</td>\n",
       "      <td>5.947494</td>\n",
       "      <td>7.559823</td>\n",
       "      <td>22.900114</td>\n",
       "    </tr>\n",
       "    <tr>\n",
       "      <th>9</th>\n",
       "      <td>3</td>\n",
       "      <td>5.612881</td>\n",
       "      <td>7.313653</td>\n",
       "      <td>23.043346</td>\n",
       "    </tr>\n",
       "  </tbody>\n",
       "</table>\n",
       "</div>"
      ],
      "text/plain": [
       "   dim  dispersion_positive  dispersion_negative   distance\n",
       "0  768             6.040889             7.644175  22.864886\n",
       "1  576             6.039529             7.641622  22.865088\n",
       "2  384             6.039256             7.641588  22.865183\n",
       "3  192             6.038501             7.641333  22.865379\n",
       "4   96             6.037833             7.640487  22.865782\n",
       "5   48             6.035165             7.639025  22.866592\n",
       "6   24             6.027100             7.631796  22.869685\n",
       "7   12             6.010790             7.616623  22.875936\n",
       "8    6             5.947494             7.559823  22.900114\n",
       "9    3             5.612881             7.313653  23.043346"
      ]
     },
     "metadata": {},
     "output_type": "display_data"
    },
    {
     "data": {
      "text/html": [
       "<div>\n",
       "<style scoped>\n",
       "    .dataframe tbody tr th:only-of-type {\n",
       "        vertical-align: middle;\n",
       "    }\n",
       "\n",
       "    .dataframe tbody tr th {\n",
       "        vertical-align: top;\n",
       "    }\n",
       "\n",
       "    .dataframe thead th {\n",
       "        text-align: right;\n",
       "    }\n",
       "</style>\n",
       "<table border=\"1\" class=\"dataframe\">\n",
       "  <thead>\n",
       "    <tr style=\"text-align: right;\">\n",
       "      <th></th>\n",
       "      <th>dim</th>\n",
       "      <th>dispersion_positive</th>\n",
       "      <th>dispersion_negative</th>\n",
       "      <th>distance</th>\n",
       "    </tr>\n",
       "  </thead>\n",
       "  <tbody>\n",
       "    <tr>\n",
       "      <th>0</th>\n",
       "      <td>768</td>\n",
       "      <td>7.438157</td>\n",
       "      <td>9.273344</td>\n",
       "      <td>19.964325</td>\n",
       "    </tr>\n",
       "    <tr>\n",
       "      <th>1</th>\n",
       "      <td>576</td>\n",
       "      <td>7.436355</td>\n",
       "      <td>9.271827</td>\n",
       "      <td>19.964597</td>\n",
       "    </tr>\n",
       "    <tr>\n",
       "      <th>2</th>\n",
       "      <td>384</td>\n",
       "      <td>7.436274</td>\n",
       "      <td>9.271746</td>\n",
       "      <td>19.964672</td>\n",
       "    </tr>\n",
       "    <tr>\n",
       "      <th>3</th>\n",
       "      <td>192</td>\n",
       "      <td>7.435166</td>\n",
       "      <td>9.271504</td>\n",
       "      <td>19.965052</td>\n",
       "    </tr>\n",
       "    <tr>\n",
       "      <th>4</th>\n",
       "      <td>96</td>\n",
       "      <td>7.434171</td>\n",
       "      <td>9.270402</td>\n",
       "      <td>19.965542</td>\n",
       "    </tr>\n",
       "    <tr>\n",
       "      <th>5</th>\n",
       "      <td>48</td>\n",
       "      <td>7.431265</td>\n",
       "      <td>9.268296</td>\n",
       "      <td>19.966721</td>\n",
       "    </tr>\n",
       "    <tr>\n",
       "      <th>6</th>\n",
       "      <td>24</td>\n",
       "      <td>7.426020</td>\n",
       "      <td>9.265023</td>\n",
       "      <td>19.969651</td>\n",
       "    </tr>\n",
       "    <tr>\n",
       "      <th>7</th>\n",
       "      <td>12</td>\n",
       "      <td>7.405454</td>\n",
       "      <td>9.254471</td>\n",
       "      <td>19.978131</td>\n",
       "    </tr>\n",
       "    <tr>\n",
       "      <th>8</th>\n",
       "      <td>6</td>\n",
       "      <td>7.336097</td>\n",
       "      <td>9.197858</td>\n",
       "      <td>20.011267</td>\n",
       "    </tr>\n",
       "    <tr>\n",
       "      <th>9</th>\n",
       "      <td>3</td>\n",
       "      <td>6.961802</td>\n",
       "      <td>8.920493</td>\n",
       "      <td>20.250669</td>\n",
       "    </tr>\n",
       "  </tbody>\n",
       "</table>\n",
       "</div>"
      ],
      "text/plain": [
       "   dim  dispersion_positive  dispersion_negative   distance\n",
       "0  768             7.438157             9.273344  19.964325\n",
       "1  576             7.436355             9.271827  19.964597\n",
       "2  384             7.436274             9.271746  19.964672\n",
       "3  192             7.435166             9.271504  19.965052\n",
       "4   96             7.434171             9.270402  19.965542\n",
       "5   48             7.431265             9.268296  19.966721\n",
       "6   24             7.426020             9.265023  19.969651\n",
       "7   12             7.405454             9.254471  19.978131\n",
       "8    6             7.336097             9.197858  20.011267\n",
       "9    3             6.961802             8.920493  20.250669"
      ]
     },
     "metadata": {},
     "output_type": "display_data"
    },
    {
     "data": {
      "text/html": [
       "<div>\n",
       "<style scoped>\n",
       "    .dataframe tbody tr th:only-of-type {\n",
       "        vertical-align: middle;\n",
       "    }\n",
       "\n",
       "    .dataframe tbody tr th {\n",
       "        vertical-align: top;\n",
       "    }\n",
       "\n",
       "    .dataframe thead th {\n",
       "        text-align: right;\n",
       "    }\n",
       "</style>\n",
       "<table border=\"1\" class=\"dataframe\">\n",
       "  <thead>\n",
       "    <tr style=\"text-align: right;\">\n",
       "      <th></th>\n",
       "      <th>dim</th>\n",
       "      <th>dispersion_positive</th>\n",
       "      <th>dispersion_negative</th>\n",
       "      <th>distance</th>\n",
       "    </tr>\n",
       "  </thead>\n",
       "  <tbody>\n",
       "    <tr>\n",
       "      <th>0</th>\n",
       "      <td>768</td>\n",
       "      <td>8.561553</td>\n",
       "      <td>7.437458</td>\n",
       "      <td>11.483087</td>\n",
       "    </tr>\n",
       "    <tr>\n",
       "      <th>1</th>\n",
       "      <td>576</td>\n",
       "      <td>8.559432</td>\n",
       "      <td>7.435664</td>\n",
       "      <td>11.485481</td>\n",
       "    </tr>\n",
       "    <tr>\n",
       "      <th>2</th>\n",
       "      <td>384</td>\n",
       "      <td>8.559021</td>\n",
       "      <td>7.435237</td>\n",
       "      <td>11.485998</td>\n",
       "    </tr>\n",
       "    <tr>\n",
       "      <th>3</th>\n",
       "      <td>192</td>\n",
       "      <td>8.557336</td>\n",
       "      <td>7.433518</td>\n",
       "      <td>11.488414</td>\n",
       "    </tr>\n",
       "    <tr>\n",
       "      <th>4</th>\n",
       "      <td>96</td>\n",
       "      <td>8.553857</td>\n",
       "      <td>7.429942</td>\n",
       "      <td>11.494228</td>\n",
       "    </tr>\n",
       "    <tr>\n",
       "      <th>5</th>\n",
       "      <td>48</td>\n",
       "      <td>8.544770</td>\n",
       "      <td>7.421367</td>\n",
       "      <td>11.507466</td>\n",
       "    </tr>\n",
       "    <tr>\n",
       "      <th>6</th>\n",
       "      <td>24</td>\n",
       "      <td>8.525990</td>\n",
       "      <td>7.402648</td>\n",
       "      <td>11.537118</td>\n",
       "    </tr>\n",
       "    <tr>\n",
       "      <th>7</th>\n",
       "      <td>12</td>\n",
       "      <td>8.479190</td>\n",
       "      <td>7.356498</td>\n",
       "      <td>11.609513</td>\n",
       "    </tr>\n",
       "    <tr>\n",
       "      <th>8</th>\n",
       "      <td>6</td>\n",
       "      <td>8.340063</td>\n",
       "      <td>7.223993</td>\n",
       "      <td>11.823141</td>\n",
       "    </tr>\n",
       "    <tr>\n",
       "      <th>9</th>\n",
       "      <td>3</td>\n",
       "      <td>7.904102</td>\n",
       "      <td>6.753563</td>\n",
       "      <td>12.400316</td>\n",
       "    </tr>\n",
       "  </tbody>\n",
       "</table>\n",
       "</div>"
      ],
      "text/plain": [
       "   dim  dispersion_positive  dispersion_negative   distance\n",
       "0  768             8.561553             7.437458  11.483087\n",
       "1  576             8.559432             7.435664  11.485481\n",
       "2  384             8.559021             7.435237  11.485998\n",
       "3  192             8.557336             7.433518  11.488414\n",
       "4   96             8.553857             7.429942  11.494228\n",
       "5   48             8.544770             7.421367  11.507466\n",
       "6   24             8.525990             7.402648  11.537118\n",
       "7   12             8.479190             7.356498  11.609513\n",
       "8    6             8.340063             7.223993  11.823141\n",
       "9    3             7.904102             6.753563  12.400316"
      ]
     },
     "metadata": {},
     "output_type": "display_data"
    },
    {
     "data": {
      "text/html": [
       "<div>\n",
       "<style scoped>\n",
       "    .dataframe tbody tr th:only-of-type {\n",
       "        vertical-align: middle;\n",
       "    }\n",
       "\n",
       "    .dataframe tbody tr th {\n",
       "        vertical-align: top;\n",
       "    }\n",
       "\n",
       "    .dataframe thead th {\n",
       "        text-align: right;\n",
       "    }\n",
       "</style>\n",
       "<table border=\"1\" class=\"dataframe\">\n",
       "  <thead>\n",
       "    <tr style=\"text-align: right;\">\n",
       "      <th></th>\n",
       "      <th>dim</th>\n",
       "      <th>dispersion_positive</th>\n",
       "      <th>dispersion_negative</th>\n",
       "      <th>distance</th>\n",
       "    </tr>\n",
       "  </thead>\n",
       "  <tbody>\n",
       "    <tr>\n",
       "      <th>0</th>\n",
       "      <td>768</td>\n",
       "      <td>8.446871</td>\n",
       "      <td>7.581062</td>\n",
       "      <td>11.398275</td>\n",
       "    </tr>\n",
       "    <tr>\n",
       "      <th>1</th>\n",
       "      <td>576</td>\n",
       "      <td>8.444721</td>\n",
       "      <td>7.579173</td>\n",
       "      <td>11.400781</td>\n",
       "    </tr>\n",
       "    <tr>\n",
       "      <th>2</th>\n",
       "      <td>384</td>\n",
       "      <td>8.444202</td>\n",
       "      <td>7.578564</td>\n",
       "      <td>11.401899</td>\n",
       "    </tr>\n",
       "    <tr>\n",
       "      <th>3</th>\n",
       "      <td>192</td>\n",
       "      <td>8.442202</td>\n",
       "      <td>7.576835</td>\n",
       "      <td>11.405012</td>\n",
       "    </tr>\n",
       "    <tr>\n",
       "      <th>4</th>\n",
       "      <td>96</td>\n",
       "      <td>8.438007</td>\n",
       "      <td>7.573840</td>\n",
       "      <td>11.410919</td>\n",
       "    </tr>\n",
       "    <tr>\n",
       "      <th>5</th>\n",
       "      <td>48</td>\n",
       "      <td>8.429272</td>\n",
       "      <td>7.565218</td>\n",
       "      <td>11.424533</td>\n",
       "    </tr>\n",
       "    <tr>\n",
       "      <th>6</th>\n",
       "      <td>24</td>\n",
       "      <td>8.408910</td>\n",
       "      <td>7.547488</td>\n",
       "      <td>11.455621</td>\n",
       "    </tr>\n",
       "    <tr>\n",
       "      <th>7</th>\n",
       "      <td>12</td>\n",
       "      <td>8.357105</td>\n",
       "      <td>7.501981</td>\n",
       "      <td>11.534418</td>\n",
       "    </tr>\n",
       "    <tr>\n",
       "      <th>8</th>\n",
       "      <td>6</td>\n",
       "      <td>8.207643</td>\n",
       "      <td>7.370401</td>\n",
       "      <td>11.754118</td>\n",
       "    </tr>\n",
       "    <tr>\n",
       "      <th>9</th>\n",
       "      <td>3</td>\n",
       "      <td>7.730735</td>\n",
       "      <td>6.907276</td>\n",
       "      <td>12.368755</td>\n",
       "    </tr>\n",
       "  </tbody>\n",
       "</table>\n",
       "</div>"
      ],
      "text/plain": [
       "   dim  dispersion_positive  dispersion_negative   distance\n",
       "0  768             8.446871             7.581062  11.398275\n",
       "1  576             8.444721             7.579173  11.400781\n",
       "2  384             8.444202             7.578564  11.401899\n",
       "3  192             8.442202             7.576835  11.405012\n",
       "4   96             8.438007             7.573840  11.410919\n",
       "5   48             8.429272             7.565218  11.424533\n",
       "6   24             8.408910             7.547488  11.455621\n",
       "7   12             8.357105             7.501981  11.534418\n",
       "8    6             8.207643             7.370401  11.754118\n",
       "9    3             7.730735             6.907276  12.368755"
      ]
     },
     "metadata": {},
     "output_type": "display_data"
    }
   ],
   "source": [
    "for label, dataset in results.items():\n",
    "    results[label].filter(regex=output_cols).to_csv(f'{OUT_PATH}/{label}.csv')\n",
    "    display(results[label].filter(regex=output_cols))"
   ]
  },
  {
   "cell_type": "code",
   "execution_count": 46,
   "outputs": [
    {
     "data": {
      "text/plain": "['dim', 'dispersion_positive', 'dispersion_negative', 'extra_distance']"
     },
     "execution_count": 46,
     "metadata": {},
     "output_type": "execute_result"
    }
   ],
   "source": [
    "['dim', 'dispersion_positive', 'dispersion_negative', 'extra_distance']"
   ],
   "metadata": {
    "collapsed": false,
    "pycharm": {
     "name": "#%%\n"
    }
   }
  },
  {
   "cell_type": "code",
   "execution_count": 52,
   "outputs": [
    {
     "data": {
      "text/plain": "[(1, 2, 3), (1, 3, 2), (2, 1, 3), (2, 3, 1), (3, 1, 2), (3, 2, 1)]"
     },
     "execution_count": 52,
     "metadata": {},
     "output_type": "execute_result"
    }
   ],
   "source": [
    "from itertools import permutations\n",
    "\n"
   ],
   "metadata": {
    "collapsed": false,
    "pycharm": {
     "name": "#%%\n"
    }
   }
  }
 ],
 "metadata": {
  "kernelspec": {
   "display_name": "Python 3",
   "language": "python",
   "name": "python3"
  },
  "language_info": {
   "codemirror_mode": {
    "name": "ipython",
    "version": 3
   },
   "file_extension": ".py",
   "mimetype": "text/x-python",
   "name": "python",
   "nbconvert_exporter": "python",
   "pygments_lexer": "ipython3",
   "version": "3.8.5"
  }
 },
 "nbformat": 4,
 "nbformat_minor": 0
}