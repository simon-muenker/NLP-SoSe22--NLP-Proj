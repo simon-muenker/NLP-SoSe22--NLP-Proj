{
 "cells": [
  {
   "cell_type": "code",
   "execution_count": 1,
   "metadata": {
    "collapsed": false,
    "execution": {
     "iopub.execute_input": "2022-09-12T15:44:26.749543Z",
     "iopub.status.busy": "2022-09-12T15:44:26.748813Z",
     "iopub.status.idle": "2022-09-12T15:44:26.761678Z",
     "shell.execute_reply": "2022-09-12T15:44:26.760746Z"
    },
    "pycharm": {
     "name": "#%%\n"
    }
   },
   "outputs": [
    {
     "name": "stdout",
     "output_type": "stream",
     "text": [
      "env: CUDA_DEVICE_ORDER=PCI_BUS_ID\n",
      "env: CUDA_VISIBLE_DEVICES=5\n"
     ]
    }
   ],
   "source": [
    "%env CUDA_DEVICE_ORDER=PCI_BUS_ID\n",
    "%env CUDA_VISIBLE_DEVICES=5"
   ]
  },
  {
   "cell_type": "code",
   "execution_count": 2,
   "metadata": {
    "collapsed": false,
    "execution": {
     "iopub.execute_input": "2022-09-12T15:44:26.794241Z",
     "iopub.status.busy": "2022-09-12T15:44:26.793637Z",
     "iopub.status.idle": "2022-09-12T15:44:26.801378Z",
     "shell.execute_reply": "2022-09-12T15:44:26.800146Z"
    },
    "pycharm": {
     "name": "#%%\n"
    }
   },
   "outputs": [],
   "source": [
    "import os\n",
    "import sys\n",
    "\n",
    "module_path = os.path.abspath(os.path.join('..'))\n",
    "\n",
    "if module_path not in sys.path:\n",
    "    sys.path.append(module_path)"
   ]
  },
  {
   "cell_type": "code",
   "execution_count": 3,
   "metadata": {
    "collapsed": false,
    "execution": {
     "iopub.execute_input": "2022-09-12T15:44:26.805161Z",
     "iopub.status.busy": "2022-09-12T15:44:26.804791Z",
     "iopub.status.idle": "2022-09-12T15:44:27.744489Z",
     "shell.execute_reply": "2022-09-12T15:44:27.743049Z"
    },
    "pycharm": {
     "name": "#%%\n"
    }
   },
   "outputs": [],
   "source": [
    "from classifier import Data\n",
    "\n",
    "dataset = Data(\n",
    "    data_path = \"../data/imdb.train.sample.csv\",\n",
    "    polarities = {\n",
    "      \"negative\": 0,\n",
    "      \"positive\": 1\n",
    "    },\n",
    "    data_label='review',\n",
    "    target_label='sentiment'\n",
    ")"
   ]
  },
  {
   "cell_type": "code",
   "execution_count": 4,
   "metadata": {
    "collapsed": false,
    "execution": {
     "iopub.execute_input": "2022-09-12T15:44:27.750503Z",
     "iopub.status.busy": "2022-09-12T15:44:27.750132Z",
     "iopub.status.idle": "2022-09-12T15:44:36.489647Z",
     "shell.execute_reply": "2022-09-12T15:44:36.488150Z"
    },
    "pycharm": {
     "name": "#%%\n"
    }
   },
   "outputs": [],
   "source": [
    "from classifier._neural import Encoder\n",
    "\n",
    "enc = Encoder({\n",
    "    'model': 'Wakaka/bert-finetuned-imdb',\n",
    "    'layers': [11]\n",
    "})"
   ]
  },
  {
   "cell_type": "code",
   "execution_count": 5,
   "metadata": {
    "collapsed": false,
    "execution": {
     "iopub.execute_input": "2022-09-12T15:44:36.495953Z",
     "iopub.status.busy": "2022-09-12T15:44:36.495561Z",
     "iopub.status.idle": "2022-09-12T15:44:50.469866Z",
     "shell.execute_reply": "2022-09-12T15:44:50.468721Z"
    },
    "pycharm": {
     "name": "#%%\n"
    }
   },
   "outputs": [
    {
     "name": "stderr",
     "output_type": "stream",
     "text": [
      "                                                                                                                                                                                                                                                                                                                                                                          \r"
     ]
    }
   ],
   "source": [
    "enc.df_encode(dataset.data, col=dataset.data_label, label=dataset.data_path)"
   ]
  },
  {
   "cell_type": "code",
   "execution_count": 6,
   "metadata": {
    "collapsed": false,
    "execution": {
     "iopub.execute_input": "2022-09-12T15:44:50.475865Z",
     "iopub.status.busy": "2022-09-12T15:44:50.475466Z",
     "iopub.status.idle": "2022-09-12T15:44:50.801936Z",
     "shell.execute_reply": "2022-09-12T15:44:50.800927Z"
    },
    "pycharm": {
     "name": "#%%\n"
    }
   },
   "outputs": [],
   "source": [
    "import numpy as np\n",
    "from sklearn.manifold import MDS\n",
    "\n",
    "def manifold_reduction(data: np.ndarray, dim: int = 3) -> np.ndarray:\n",
    "    return MDS(n_components=dim).fit_transform(data)"
   ]
  },
  {
   "cell_type": "code",
   "execution_count": 7,
   "metadata": {
    "collapsed": false,
    "execution": {
     "iopub.execute_input": "2022-09-12T15:44:50.806125Z",
     "iopub.status.busy": "2022-09-12T15:44:50.805763Z",
     "iopub.status.idle": "2022-09-12T15:44:50.814446Z",
     "shell.execute_reply": "2022-09-12T15:44:50.813558Z"
    },
    "pycharm": {
     "name": "#%%\n"
    }
   },
   "outputs": [],
   "source": [
    "from typing import Generator\n",
    "import torch\n",
    "import numpy as np\n",
    "import pandas as pd\n",
    "from scipy.spatial import distance\n",
    "\n",
    "\n",
    "def analysis(\n",
    "        data: pd.DataFrame,\n",
    "        dim: list = None\n",
    ") -> Generator:\n",
    "    if dim is None:\n",
    "        dim = [768, 576, 384, 192, 96, 48, 24, 12, 6, 3]\n",
    "\n",
    "    embed_col: np.ndarray = torch.stack(data[enc.col_name].tolist()).numpy()\n",
    "\n",
    "    for d in dim:\n",
    "\n",
    "        # create record to keep row data\n",
    "        record: dict = {'dim': d}\n",
    "\n",
    "        # if reduction size is equal to encoder output dim, skip manifold reduction\n",
    "        if d == enc.dim:\n",
    "            data['reduced_embeds'] = list(embed_col)\n",
    "        else:\n",
    "            data['reduced_embeds'] = list(manifold_reduction(embed_col, dim=d))\n",
    "\n",
    "        # compute centroid means and dispersion for each cluster\n",
    "        for label, group in data.groupby(dataset.target_label):\n",
    "            record[f'centroid_{label}'] = np.mean(np.stack(group['reduced_embeds'].tolist(), axis=0), axis=0).tolist()\n",
    "            record[f'dispersion_{label}'] = np.sum(distance.pdist(group['reduced_embeds'].tolist()))\n",
    "\n",
    "        record['distance'] = distance.cdist([record['centroid_positive']], [record['centroid_negative']]).item(0)\n",
    "\n",
    "        yield record"
   ]
  },
  {
   "cell_type": "code",
   "execution_count": 8,
   "metadata": {
    "collapsed": false,
    "execution": {
     "iopub.execute_input": "2022-09-12T15:44:50.818502Z",
     "iopub.status.busy": "2022-09-12T15:44:50.818143Z",
     "iopub.status.idle": "2022-09-12T15:51:04.676304Z",
     "shell.execute_reply": "2022-09-12T15:51:04.675161Z"
    },
    "pycharm": {
     "name": "#%%\n"
    }
   },
   "outputs": [
    {
     "data": {
      "text/html": [
       "<div>\n",
       "<style scoped>\n",
       "    .dataframe tbody tr th:only-of-type {\n",
       "        vertical-align: middle;\n",
       "    }\n",
       "\n",
       "    .dataframe tbody tr th {\n",
       "        vertical-align: top;\n",
       "    }\n",
       "\n",
       "    .dataframe thead th {\n",
       "        text-align: right;\n",
       "    }\n",
       "</style>\n",
       "<table border=\"1\" class=\"dataframe\">\n",
       "  <thead>\n",
       "    <tr style=\"text-align: right;\">\n",
       "      <th></th>\n",
       "      <th>dim</th>\n",
       "      <th>dispersion_positive</th>\n",
       "      <th>dispersion_negative</th>\n",
       "      <th>distance</th>\n",
       "    </tr>\n",
       "  </thead>\n",
       "  <tbody>\n",
       "    <tr>\n",
       "      <th>0</th>\n",
       "      <td>768</td>\n",
       "      <td>2.274141e+06</td>\n",
       "      <td>1.361793e+06</td>\n",
       "      <td>11.399911</td>\n",
       "    </tr>\n",
       "    <tr>\n",
       "      <th>1</th>\n",
       "      <td>576</td>\n",
       "      <td>2.274594e+06</td>\n",
       "      <td>1.362073e+06</td>\n",
       "      <td>11.401990</td>\n",
       "    </tr>\n",
       "    <tr>\n",
       "      <th>2</th>\n",
       "      <td>384</td>\n",
       "      <td>2.274403e+06</td>\n",
       "      <td>1.361904e+06</td>\n",
       "      <td>11.402914</td>\n",
       "    </tr>\n",
       "    <tr>\n",
       "      <th>3</th>\n",
       "      <td>192</td>\n",
       "      <td>2.273787e+06</td>\n",
       "      <td>1.361416e+06</td>\n",
       "      <td>11.405447</td>\n",
       "    </tr>\n",
       "    <tr>\n",
       "      <th>4</th>\n",
       "      <td>96</td>\n",
       "      <td>2.272424e+06</td>\n",
       "      <td>1.360355e+06</td>\n",
       "      <td>11.410621</td>\n",
       "    </tr>\n",
       "    <tr>\n",
       "      <th>5</th>\n",
       "      <td>48</td>\n",
       "      <td>2.269386e+06</td>\n",
       "      <td>1.357749e+06</td>\n",
       "      <td>11.425300</td>\n",
       "    </tr>\n",
       "    <tr>\n",
       "      <th>6</th>\n",
       "      <td>24</td>\n",
       "      <td>2.262428e+06</td>\n",
       "      <td>1.352331e+06</td>\n",
       "      <td>11.455480</td>\n",
       "    </tr>\n",
       "    <tr>\n",
       "      <th>7</th>\n",
       "      <td>12</td>\n",
       "      <td>2.246036e+06</td>\n",
       "      <td>1.339156e+06</td>\n",
       "      <td>11.530741</td>\n",
       "    </tr>\n",
       "    <tr>\n",
       "      <th>8</th>\n",
       "      <td>6</td>\n",
       "      <td>2.201144e+06</td>\n",
       "      <td>1.305855e+06</td>\n",
       "      <td>11.733282</td>\n",
       "    </tr>\n",
       "    <tr>\n",
       "      <th>9</th>\n",
       "      <td>3</td>\n",
       "      <td>2.076323e+06</td>\n",
       "      <td>1.210024e+06</td>\n",
       "      <td>12.336457</td>\n",
       "    </tr>\n",
       "  </tbody>\n",
       "</table>\n",
       "</div>"
      ],
      "text/plain": [
       "   dim  dispersion_positive  dispersion_negative   distance\n",
       "0  768         2.274141e+06         1.361793e+06  11.399911\n",
       "1  576         2.274594e+06         1.362073e+06  11.401990\n",
       "2  384         2.274403e+06         1.361904e+06  11.402914\n",
       "3  192         2.273787e+06         1.361416e+06  11.405447\n",
       "4   96         2.272424e+06         1.360355e+06  11.410621\n",
       "5   48         2.269386e+06         1.357749e+06  11.425300\n",
       "6   24         2.262428e+06         1.352331e+06  11.455480\n",
       "7   12         2.246036e+06         1.339156e+06  11.530741\n",
       "8    6         2.201144e+06         1.305855e+06  11.733282\n",
       "9    3         2.076323e+06         1.210024e+06  12.336457"
      ]
     },
     "execution_count": 8,
     "metadata": {},
     "output_type": "execute_result"
    }
   ],
   "source": [
    "import pandas as pd\n",
    "\n",
    "cluster_analysis = pd.DataFrame.from_records(list(analysis(dataset.data)))\n",
    "cluster_analysis[['dim', 'dispersion_positive', 'dispersion_negative', 'distance']]"
   ]
  },
  {
   "cell_type": "code",
   "execution_count": 9,
   "metadata": {
    "collapsed": false,
    "execution": {
     "iopub.execute_input": "2022-09-12T15:51:04.681073Z",
     "iopub.status.busy": "2022-09-12T15:51:04.680416Z",
     "iopub.status.idle": "2022-09-12T15:51:04.688764Z",
     "shell.execute_reply": "2022-09-12T15:51:04.687965Z"
    },
    "pycharm": {
     "name": "#%%\n"
    }
   },
   "outputs": [],
   "source": [
    "cluster_analysis[['dim', 'dispersion_positive', 'dispersion_negative', 'distance']].to_csv('./cluster_analysis.csv')"
   ]
  }
 ],
 "metadata": {
  "kernelspec": {
   "display_name": "Python 3",
   "language": "python",
   "name": "python3"
  },
  "language_info": {
   "codemirror_mode": {
    "name": "ipython",
    "version": 3
   },
   "file_extension": ".py",
   "mimetype": "text/x-python",
   "name": "python",
   "nbconvert_exporter": "python",
   "pygments_lexer": "ipython3",
   "version": "3.8.5"
  }
 },
 "nbformat": 4,
 "nbformat_minor": 0
}