{
 "cells": [
  {
   "cell_type": "code",
   "execution_count": 1,
   "metadata": {
    "collapsed": false,
    "execution": {
     "iopub.execute_input": "2022-09-16T09:47:27.117954Z",
     "iopub.status.busy": "2022-09-16T09:47:27.117192Z",
     "iopub.status.idle": "2022-09-16T09:47:27.131329Z",
     "shell.execute_reply": "2022-09-16T09:47:27.130355Z"
    },
    "pycharm": {
     "name": "#%%\n"
    }
   },
   "outputs": [
    {
     "name": "stdout",
     "output_type": "stream",
     "text": [
      "env: CUDA_DEVICE_ORDER=PCI_BUS_ID\n",
      "env: CUDA_VISIBLE_DEVICES=5\n"
     ]
    }
   ],
   "source": [
    "%env CUDA_DEVICE_ORDER=PCI_BUS_ID\n",
    "%env CUDA_VISIBLE_DEVICES=5"
   ]
  },
  {
   "cell_type": "code",
   "execution_count": 2,
   "metadata": {
    "collapsed": false,
    "execution": {
     "iopub.execute_input": "2022-09-16T09:47:27.164040Z",
     "iopub.status.busy": "2022-09-16T09:47:27.163293Z",
     "iopub.status.idle": "2022-09-16T09:47:27.171510Z",
     "shell.execute_reply": "2022-09-16T09:47:27.170380Z"
    },
    "pycharm": {
     "name": "#%%\n"
    }
   },
   "outputs": [],
   "source": [
    "import os\n",
    "import sys\n",
    "\n",
    "module_path = os.path.abspath(os.path.join('..'))\n",
    "\n",
    "if module_path not in sys.path:\n",
    "    sys.path.append(module_path)"
   ]
  },
  {
   "cell_type": "code",
   "execution_count": 3,
   "metadata": {
    "collapsed": false,
    "execution": {
     "iopub.execute_input": "2022-09-16T09:47:27.174752Z",
     "iopub.status.busy": "2022-09-16T09:47:27.174408Z",
     "iopub.status.idle": "2022-09-16T09:47:27.178972Z",
     "shell.execute_reply": "2022-09-16T09:47:27.178020Z"
    },
    "pycharm": {
     "name": "#%%\n"
    }
   },
   "outputs": [],
   "source": [
    "OUT_PATH: str = '../results/manifolds/raw'"
   ]
  },
  {
   "cell_type": "code",
   "execution_count": 4,
   "metadata": {
    "collapsed": false,
    "execution": {
     "iopub.execute_input": "2022-09-16T09:47:27.182754Z",
     "iopub.status.busy": "2022-09-16T09:47:27.182230Z",
     "iopub.status.idle": "2022-09-16T09:47:27.187569Z",
     "shell.execute_reply": "2022-09-16T09:47:27.186557Z"
    },
    "pycharm": {
     "name": "#%%\n"
    }
   },
   "outputs": [],
   "source": [
    "DATA_PATH: str = '../data/imdb'\n",
    "DATASETS: list = [\n",
    "    ('train', 'sample.train'),\n",
    "    ('test', 'sample.test')\n",
    "]"
   ]
  },
  {
   "cell_type": "code",
   "execution_count": 5,
   "metadata": {
    "collapsed": false,
    "execution": {
     "iopub.execute_input": "2022-09-16T09:47:27.191155Z",
     "iopub.status.busy": "2022-09-16T09:47:27.190772Z",
     "iopub.status.idle": "2022-09-16T09:47:27.196343Z",
     "shell.execute_reply": "2022-09-16T09:47:27.195485Z"
    },
    "pycharm": {
     "name": "#%%\n"
    }
   },
   "outputs": [],
   "source": [
    "DIMS: list = [768] # [768, 576, 384, 192, 96, 48, 24, 12, 6, 3]\n",
    "MODELS: list = [\n",
    "    ('base', 'bert-base-uncased'),\n",
    "    ('textattack', 'textattack/bert-base-uncased-imdb'),\n",
    "    ('fabriceyhc', 'fabriceyhc/bert-base-uncased-imdb'),\n",
    "    ('wakaka', 'Wakaka/bert-finetuned-imdb')\n",
    "]"
   ]
  },
  {
   "cell_type": "code",
   "execution_count": 6,
   "metadata": {
    "collapsed": false,
    "execution": {
     "iopub.execute_input": "2022-09-16T09:47:27.199776Z",
     "iopub.status.busy": "2022-09-16T09:47:27.199414Z",
     "iopub.status.idle": "2022-09-16T09:47:27.203171Z",
     "shell.execute_reply": "2022-09-16T09:47:27.202345Z"
    },
    "pycharm": {
     "name": "#%%\n"
    }
   },
   "outputs": [],
   "source": [
    "### Load Datasets into memory"
   ]
  },
  {
   "cell_type": "code",
   "execution_count": 7,
   "metadata": {
    "collapsed": false,
    "execution": {
     "iopub.execute_input": "2022-09-16T09:47:27.207041Z",
     "iopub.status.busy": "2022-09-16T09:47:27.206588Z",
     "iopub.status.idle": "2022-09-16T09:47:27.211713Z",
     "shell.execute_reply": "2022-09-16T09:47:27.210752Z"
    },
    "pycharm": {
     "name": "#%%\n"
    }
   },
   "outputs": [],
   "source": [
    "data_config: dict = {\n",
    "    'polarities': {\n",
    "      \"negative\": 0,\n",
    "      \"positive\": 1\n",
    "    },\n",
    "    'data_label': 'text',\n",
    "    'target_label': 'sentiment'\n",
    "}"
   ]
  },
  {
   "cell_type": "code",
   "execution_count": 8,
   "metadata": {
    "collapsed": false,
    "execution": {
     "iopub.execute_input": "2022-09-16T09:47:27.215843Z",
     "iopub.status.busy": "2022-09-16T09:47:27.215393Z",
     "iopub.status.idle": "2022-09-16T09:47:28.329969Z",
     "shell.execute_reply": "2022-09-16T09:47:28.328679Z"
    },
    "pycharm": {
     "name": "#%%\n"
    }
   },
   "outputs": [],
   "source": [
    "from typing import Dict\n",
    "from modules import Data\n",
    "\n",
    "datasets: Dict[str, Data] = {\n",
    "    label: Data(data_path=f\"{DATA_PATH}.{name}.csv\", **data_config)\n",
    "    for label, name in DATASETS\n",
    "}"
   ]
  },
  {
   "cell_type": "code",
   "execution_count": 9,
   "metadata": {
    "collapsed": false,
    "execution": {
     "iopub.execute_input": "2022-09-16T09:47:28.351902Z",
     "iopub.status.busy": "2022-09-16T09:47:28.350545Z",
     "iopub.status.idle": "2022-09-16T09:47:28.383615Z",
     "shell.execute_reply": "2022-09-16T09:47:28.382590Z"
    },
    "pycharm": {
     "name": "#%%\n"
    }
   },
   "outputs": [
    {
     "data": {
      "text/html": [
       "<div>\n",
       "<style scoped>\n",
       "    .dataframe tbody tr th:only-of-type {\n",
       "        vertical-align: middle;\n",
       "    }\n",
       "\n",
       "    .dataframe tbody tr th {\n",
       "        vertical-align: top;\n",
       "    }\n",
       "\n",
       "    .dataframe thead th {\n",
       "        text-align: right;\n",
       "    }\n",
       "</style>\n",
       "<table border=\"1\" class=\"dataframe\">\n",
       "  <thead>\n",
       "    <tr style=\"text-align: right;\">\n",
       "      <th></th>\n",
       "      <th>text</th>\n",
       "      <th>sentiment</th>\n",
       "    </tr>\n",
       "  </thead>\n",
       "  <tbody>\n",
       "    <tr>\n",
       "      <th>0</th>\n",
       "      <td>And it falls squarely into the category of \"aw...</td>\n",
       "      <td>negative</td>\n",
       "    </tr>\n",
       "    <tr>\n",
       "      <th>1</th>\n",
       "      <td>This is one seriously disturbed movie. Even Th...</td>\n",
       "      <td>negative</td>\n",
       "    </tr>\n",
       "    <tr>\n",
       "      <th>2</th>\n",
       "      <td>Basically this is an overlong, unfunny, action...</td>\n",
       "      <td>negative</td>\n",
       "    </tr>\n",
       "    <tr>\n",
       "      <th>3</th>\n",
       "      <td>Hey if you have a little over an hour to kill ...</td>\n",
       "      <td>negative</td>\n",
       "    </tr>\n",
       "    <tr>\n",
       "      <th>4</th>\n",
       "      <td>Did anyone read the script. This has to be som...</td>\n",
       "      <td>negative</td>\n",
       "    </tr>\n",
       "    <tr>\n",
       "      <th>...</th>\n",
       "      <td>...</td>\n",
       "      <td>...</td>\n",
       "    </tr>\n",
       "    <tr>\n",
       "      <th>1240</th>\n",
       "      <td>First of all, Jenna Jameson is the best actres...</td>\n",
       "      <td>negative</td>\n",
       "    </tr>\n",
       "    <tr>\n",
       "      <th>1241</th>\n",
       "      <td>I didnt think it was possible, but i have foun...</td>\n",
       "      <td>negative</td>\n",
       "    </tr>\n",
       "    <tr>\n",
       "      <th>1242</th>\n",
       "      <td>OK, I taped this off TV and missed the very st...</td>\n",
       "      <td>negative</td>\n",
       "    </tr>\n",
       "    <tr>\n",
       "      <th>1243</th>\n",
       "      <td>Okay, okay, maybe not THE greatest. I mean, Th...</td>\n",
       "      <td>positive</td>\n",
       "    </tr>\n",
       "    <tr>\n",
       "      <th>1244</th>\n",
       "      <td>It was very heart-warming. As an expatriated f...</td>\n",
       "      <td>positive</td>\n",
       "    </tr>\n",
       "  </tbody>\n",
       "</table>\n",
       "<p>1245 rows × 2 columns</p>\n",
       "</div>"
      ],
      "text/plain": [
       "                                                   text sentiment\n",
       "0     And it falls squarely into the category of \"aw...  negative\n",
       "1     This is one seriously disturbed movie. Even Th...  negative\n",
       "2     Basically this is an overlong, unfunny, action...  negative\n",
       "3     Hey if you have a little over an hour to kill ...  negative\n",
       "4     Did anyone read the script. This has to be som...  negative\n",
       "...                                                 ...       ...\n",
       "1240  First of all, Jenna Jameson is the best actres...  negative\n",
       "1241  I didnt think it was possible, but i have foun...  negative\n",
       "1242  OK, I taped this off TV and missed the very st...  negative\n",
       "1243  Okay, okay, maybe not THE greatest. I mean, Th...  positive\n",
       "1244  It was very heart-warming. As an expatriated f...  positive\n",
       "\n",
       "[1245 rows x 2 columns]"
      ]
     },
     "metadata": {},
     "output_type": "display_data"
    },
    {
     "data": {
      "text/plain": [
       "negative    0.503614\n",
       "positive    0.496386\n",
       "Name: sentiment, dtype: float64"
      ]
     },
     "metadata": {},
     "output_type": "display_data"
    },
    {
     "data": {
      "text/html": [
       "<div>\n",
       "<style scoped>\n",
       "    .dataframe tbody tr th:only-of-type {\n",
       "        vertical-align: middle;\n",
       "    }\n",
       "\n",
       "    .dataframe tbody tr th {\n",
       "        vertical-align: top;\n",
       "    }\n",
       "\n",
       "    .dataframe thead th {\n",
       "        text-align: right;\n",
       "    }\n",
       "</style>\n",
       "<table border=\"1\" class=\"dataframe\">\n",
       "  <thead>\n",
       "    <tr style=\"text-align: right;\">\n",
       "      <th></th>\n",
       "      <th>text</th>\n",
       "      <th>sentiment</th>\n",
       "    </tr>\n",
       "  </thead>\n",
       "  <tbody>\n",
       "    <tr>\n",
       "      <th>0</th>\n",
       "      <td>This...... Movie.... Is..... Horrible!!!!!! Yo...</td>\n",
       "      <td>negative</td>\n",
       "    </tr>\n",
       "    <tr>\n",
       "      <th>1</th>\n",
       "      <td>At the same time John Russell was playing ranc...</td>\n",
       "      <td>positive</td>\n",
       "    </tr>\n",
       "    <tr>\n",
       "      <th>2</th>\n",
       "      <td>This is the best version of Gypsy that has bee...</td>\n",
       "      <td>positive</td>\n",
       "    </tr>\n",
       "    <tr>\n",
       "      <th>3</th>\n",
       "      <td>It's just stories, some we wish happen to us, ...</td>\n",
       "      <td>positive</td>\n",
       "    </tr>\n",
       "    <tr>\n",
       "      <th>4</th>\n",
       "      <td>This film, without doubt, is the clearest exam...</td>\n",
       "      <td>positive</td>\n",
       "    </tr>\n",
       "    <tr>\n",
       "      <th>...</th>\n",
       "      <td>...</td>\n",
       "      <td>...</td>\n",
       "    </tr>\n",
       "    <tr>\n",
       "      <th>1235</th>\n",
       "      <td>\"Cooley High\" is one of my favorite movies EVE...</td>\n",
       "      <td>positive</td>\n",
       "    </tr>\n",
       "    <tr>\n",
       "      <th>1236</th>\n",
       "      <td>The Comic Strip featured actors from 'The Youn...</td>\n",
       "      <td>negative</td>\n",
       "    </tr>\n",
       "    <tr>\n",
       "      <th>1237</th>\n",
       "      <td>I suppose you could say this film has a grain ...</td>\n",
       "      <td>negative</td>\n",
       "    </tr>\n",
       "    <tr>\n",
       "      <th>1238</th>\n",
       "      <td>Having just watched Acacia, I find that I have...</td>\n",
       "      <td>negative</td>\n",
       "    </tr>\n",
       "    <tr>\n",
       "      <th>1239</th>\n",
       "      <td>I will give it this: it tried. It did try to m...</td>\n",
       "      <td>negative</td>\n",
       "    </tr>\n",
       "  </tbody>\n",
       "</table>\n",
       "<p>1240 rows × 2 columns</p>\n",
       "</div>"
      ],
      "text/plain": [
       "                                                   text sentiment\n",
       "0     This...... Movie.... Is..... Horrible!!!!!! Yo...  negative\n",
       "1     At the same time John Russell was playing ranc...  positive\n",
       "2     This is the best version of Gypsy that has bee...  positive\n",
       "3     It's just stories, some we wish happen to us, ...  positive\n",
       "4     This film, without doubt, is the clearest exam...  positive\n",
       "...                                                 ...       ...\n",
       "1235  \"Cooley High\" is one of my favorite movies EVE...  positive\n",
       "1236  The Comic Strip featured actors from 'The Youn...  negative\n",
       "1237  I suppose you could say this film has a grain ...  negative\n",
       "1238  Having just watched Acacia, I find that I have...  negative\n",
       "1239  I will give it this: it tried. It did try to m...  negative\n",
       "\n",
       "[1240 rows x 2 columns]"
      ]
     },
     "metadata": {},
     "output_type": "display_data"
    },
    {
     "data": {
      "text/plain": [
       "negative    0.520968\n",
       "positive    0.479032\n",
       "Name: sentiment, dtype: float64"
      ]
     },
     "metadata": {},
     "output_type": "display_data"
    }
   ],
   "source": [
    "for label, dataset in datasets.items():\n",
    "    display(dataset.data)\n",
    "    display(dataset.data['sentiment'].value_counts(normalize=True))"
   ]
  },
  {
   "cell_type": "code",
   "execution_count": 10,
   "metadata": {
    "collapsed": false,
    "execution": {
     "iopub.execute_input": "2022-09-16T09:47:28.387374Z",
     "iopub.status.busy": "2022-09-16T09:47:28.386980Z",
     "iopub.status.idle": "2022-09-16T09:47:28.390851Z",
     "shell.execute_reply": "2022-09-16T09:47:28.389993Z"
    },
    "pycharm": {
     "name": "#%%\n"
    }
   },
   "outputs": [],
   "source": [
    "### Load Encoder into Memory"
   ]
  },
  {
   "cell_type": "code",
   "execution_count": 11,
   "metadata": {
    "collapsed": false,
    "execution": {
     "iopub.execute_input": "2022-09-16T09:47:28.394891Z",
     "iopub.status.busy": "2022-09-16T09:47:28.393917Z",
     "iopub.status.idle": "2022-09-16T09:47:28.398844Z",
     "shell.execute_reply": "2022-09-16T09:47:28.397830Z"
    },
    "pycharm": {
     "name": "#%%\n"
    }
   },
   "outputs": [],
   "source": [
    "encoder_config: dict = {\n",
    "    'layers': [11]\n",
    "}"
   ]
  },
  {
   "cell_type": "code",
   "execution_count": 12,
   "metadata": {
    "collapsed": false,
    "execution": {
     "iopub.execute_input": "2022-09-16T09:47:28.403026Z",
     "iopub.status.busy": "2022-09-16T09:47:28.402226Z",
     "iopub.status.idle": "2022-09-16T09:47:54.550482Z",
     "shell.execute_reply": "2022-09-16T09:47:54.549525Z"
    },
    "pycharm": {
     "name": "#%%\n"
    }
   },
   "outputs": [],
   "source": [
    "from modules import Encoder\n",
    "\n",
    "encoders: Dict[str, Encoder] = {\n",
    "    label: Encoder({**{'model': ref}, **encoder_config})\n",
    "    for label, ref in MODELS\n",
    "}"
   ]
  },
  {
   "cell_type": "code",
   "execution_count": 13,
   "metadata": {
    "collapsed": false,
    "execution": {
     "iopub.execute_input": "2022-09-16T09:47:54.554016Z",
     "iopub.status.busy": "2022-09-16T09:47:54.553634Z",
     "iopub.status.idle": "2022-09-16T09:47:54.557419Z",
     "shell.execute_reply": "2022-09-16T09:47:54.556684Z"
    },
    "pycharm": {
     "name": "#%%\n"
    }
   },
   "outputs": [],
   "source": [
    "### Compute manifolds and measure centroid distance and cluster dispersion"
   ]
  },
  {
   "cell_type": "code",
   "execution_count": 14,
   "metadata": {
    "collapsed": false,
    "execution": {
     "iopub.execute_input": "2022-09-16T09:47:54.560307Z",
     "iopub.status.busy": "2022-09-16T09:47:54.560013Z",
     "iopub.status.idle": "2022-09-16T09:47:54.563711Z",
     "shell.execute_reply": "2022-09-16T09:47:54.562949Z"
    },
    "pycharm": {
     "name": "#%%\n"
    }
   },
   "outputs": [],
   "source": [
    "import numpy as np\n",
    "import pandas as pd"
   ]
  },
  {
   "cell_type": "code",
   "execution_count": 15,
   "metadata": {
    "collapsed": false,
    "execution": {
     "iopub.execute_input": "2022-09-16T09:47:54.566939Z",
     "iopub.status.busy": "2022-09-16T09:47:54.566632Z",
     "iopub.status.idle": "2022-09-16T09:47:54.797177Z",
     "shell.execute_reply": "2022-09-16T09:47:54.796041Z"
    },
    "pycharm": {
     "name": "#%%\n"
    }
   },
   "outputs": [],
   "source": [
    "from sklearn.manifold import MDS\n",
    "\n",
    "def manifold_reduction(data: np.ndarray, dim: int = 3) -> np.ndarray:\n",
    "    return MDS(n_components=dim).fit_transform(data)"
   ]
  },
  {
   "cell_type": "code",
   "execution_count": 16,
   "metadata": {
    "collapsed": false,
    "execution": {
     "iopub.execute_input": "2022-09-16T09:47:54.800797Z",
     "iopub.status.busy": "2022-09-16T09:47:54.800422Z",
     "iopub.status.idle": "2022-09-16T09:47:54.806707Z",
     "shell.execute_reply": "2022-09-16T09:47:54.805877Z"
    },
    "pycharm": {
     "name": "#%%\n"
    }
   },
   "outputs": [],
   "source": [
    "from scipy.spatial import distance\n",
    "\n",
    "def metric_computation(record: dict, groups: pd.core.groupby.GroupBy) -> None:\n",
    "\n",
    "    for label, group in groups:\n",
    "            record[f'centroid_{label}'] = np.mean(np.stack(group['reduced_embeds'].tolist(), axis=0), axis=0).tolist()\n",
    "            record[f'centroid_point_distances_{label}'] = distance.cdist([record[f'centroid_{label}']], group['reduced_embeds'].tolist()).tolist()\n",
    "            record[f'intra_distance_{label}'] = np.mean(record[f'centroid_point_distances_{label}'], axis=1).item()\n",
    "\n",
    "    record['extra_distance'] = distance.cdist([record['centroid_positive']], [record['centroid_negative']]).item()"
   ]
  },
  {
   "cell_type": "code",
   "execution_count": 17,
   "metadata": {
    "collapsed": false,
    "execution": {
     "iopub.execute_input": "2022-09-16T09:47:54.809826Z",
     "iopub.status.busy": "2022-09-16T09:47:54.809477Z",
     "iopub.status.idle": "2022-09-16T09:47:54.815670Z",
     "shell.execute_reply": "2022-09-16T09:47:54.814761Z"
    },
    "pycharm": {
     "name": "#%%\n"
    }
   },
   "outputs": [],
   "source": [
    "from typing import Generator\n",
    "import torch\n",
    "\n",
    "def reduce_analyse(data: pd.DataFrame, col: str, dim: list, default_dim: int = 768) -> Generator:\n",
    "\n",
    "    embed_col: np.ndarray = torch.stack(data[col].tolist()).numpy()\n",
    "\n",
    "    for d in dim:\n",
    "\n",
    "        # create record to keep row data\n",
    "        record: dict = {'dim': d}\n",
    "\n",
    "        # if reduction size is equal to encoder output dim, skip manifold reduction\n",
    "        if d == default_dim:\n",
    "            data['reduced_embeds'] = list(embed_col)\n",
    "        else:\n",
    "            data['reduced_embeds'] = list(manifold_reduction(embed_col, dim=d))\n",
    "\n",
    "        metric_computation(record, data.groupby(dataset.target_label))\n",
    "\n",
    "        yield record"
   ]
  },
  {
   "cell_type": "code",
   "execution_count": 18,
   "metadata": {
    "collapsed": false,
    "execution": {
     "iopub.execute_input": "2022-09-16T09:47:54.819161Z",
     "iopub.status.busy": "2022-09-16T09:47:54.818824Z",
     "iopub.status.idle": "2022-09-16T09:47:54.823365Z",
     "shell.execute_reply": "2022-09-16T09:47:54.822374Z"
    },
    "pycharm": {
     "name": "#%%\n"
    }
   },
   "outputs": [],
   "source": [
    "results: Dict[str, pd.DataFrame] = {}"
   ]
  },
  {
   "cell_type": "code",
   "execution_count": 19,
   "metadata": {
    "collapsed": false,
    "execution": {
     "iopub.execute_input": "2022-09-16T09:47:54.826797Z",
     "iopub.status.busy": "2022-09-16T09:47:54.826468Z",
     "iopub.status.idle": "2022-09-16T09:50:00.898594Z",
     "shell.execute_reply": "2022-09-16T09:50:00.897468Z"
    },
    "pycharm": {
     "name": "#%%\n"
    }
   },
   "outputs": [
    {
     "name": "stderr",
     "output_type": "stream",
     "text": [
      "                                                                                                                                                                                                                                                                                                                                                                          \r"
     ]
    }
   ],
   "source": [
    "for enc_label, encoder in encoders.items():\n",
    "    for data_label, dataset in datasets.items():\n",
    "        encoder.df_encode(dataset.data, col=dataset.data_label)\n",
    "        results[f'{data_label}.{enc_label}'] = pd.DataFrame.from_records(\n",
    "            list(reduce_analyse(\n",
    "                dataset.data, encoder.col_name, DIMS,\n",
    "                default_dim=encoder.dim)\n",
    "            )\n",
    "        )"
   ]
  },
  {
   "cell_type": "code",
   "execution_count": 20,
   "metadata": {
    "collapsed": false,
    "execution": {
     "iopub.execute_input": "2022-09-16T09:50:00.904948Z",
     "iopub.status.busy": "2022-09-16T09:50:00.904262Z",
     "iopub.status.idle": "2022-09-16T09:50:00.908902Z",
     "shell.execute_reply": "2022-09-16T09:50:00.908091Z"
    },
    "pycharm": {
     "name": "#%%\n"
    }
   },
   "outputs": [],
   "source": [
    "output_cols: str = '(dim|extra_distance|intra_distance_*|centroid_point_distances_*)'"
   ]
  },
  {
   "cell_type": "code",
   "execution_count": 54,
   "metadata": {
    "collapsed": false,
    "execution": {
     "iopub.execute_input": "2022-09-16T09:50:00.912403Z",
     "iopub.status.busy": "2022-09-16T09:50:00.912023Z",
     "iopub.status.idle": "2022-09-16T09:50:01.000242Z",
     "shell.execute_reply": "2022-09-16T09:50:00.999347Z"
    },
    "pycharm": {
     "name": "#%%\n"
    }
   },
   "outputs": [
    {
     "ename": "NameError",
     "evalue": "name 'results' is not defined",
     "output_type": "error",
     "traceback": [
      "\u001B[0;31m---------------------------------------------------------------------------\u001B[0m",
      "\u001B[0;31mNameError\u001B[0m                                 Traceback (most recent call last)",
      "Input \u001B[0;32mIn [54]\u001B[0m, in \u001B[0;36m<cell line: 1>\u001B[0;34m()\u001B[0m\n\u001B[0;32m----> 1\u001B[0m \u001B[38;5;28;01mfor\u001B[39;00m label, dataset \u001B[38;5;129;01min\u001B[39;00m \u001B[43mresults\u001B[49m\u001B[38;5;241m.\u001B[39mitems():\n\u001B[1;32m      2\u001B[0m     results[label]\u001B[38;5;241m.\u001B[39mfilter(regex\u001B[38;5;241m=\u001B[39moutput_cols)\u001B[38;5;241m.\u001B[39mto_csv(\u001B[38;5;124mf\u001B[39m\u001B[38;5;124m'\u001B[39m\u001B[38;5;132;01m{\u001B[39;00mOUT_PATH\u001B[38;5;132;01m}\u001B[39;00m\u001B[38;5;124m/\u001B[39m\u001B[38;5;132;01m{\u001B[39;00mlabel\u001B[38;5;132;01m}\u001B[39;00m\u001B[38;5;124m.csv\u001B[39m\u001B[38;5;124m'\u001B[39m)\n\u001B[1;32m      3\u001B[0m     display(label, results[label]\u001B[38;5;241m.\u001B[39mfilter(regex\u001B[38;5;241m=\u001B[39moutput_cols))\n",
      "\u001B[0;31mNameError\u001B[0m: name 'results' is not defined"
     ]
    }
   ],
   "source": [
    "for label, dataset in results.items():\n",
    "    results[label].filter(regex=output_cols).to_csv(f'{OUT_PATH}/{label}.csv')\n",
    "    display(label, results[label].filter(regex=output_cols))"
   ]
  }
 ],
 "metadata": {
  "kernelspec": {
   "display_name": "Python 3",
   "language": "python",
   "name": "python3"
  },
  "language_info": {
   "codemirror_mode": {
    "name": "ipython",
    "version": 3
   },
   "file_extension": ".py",
   "mimetype": "text/x-python",
   "name": "python",
   "nbconvert_exporter": "python",
   "pygments_lexer": "ipython3",
   "version": "3.8.5"
  }
 },
 "nbformat": 4,
 "nbformat_minor": 0
}