{
 "cells": [
  {
   "cell_type": "code",
   "execution_count": null,
   "metadata": {
    "collapsed": true,
    "pycharm": {
     "name": "#%%\n"
    }
   },
   "outputs": [],
   "source": [
    "% env CUDA_DEVICE_ORDER=PCI_BUS_ID\n",
    "% env CUDA_VISIBLE_DEVICES=5"
   ]
  },
  {
   "cell_type": "code",
   "execution_count": null,
   "outputs": [],
   "source": [
    "SEED: int = 42\n",
    "OUT_PATH: str = '../results/training'"
   ],
   "metadata": {
    "collapsed": false,
    "pycharm": {
     "name": "#%%\n"
    }
   }
  },
  {
   "cell_type": "code",
   "execution_count": null,
   "outputs": [],
   "source": [
    "HID_SIZE: int = 256\n",
    "DROPOUT: float = 0.4"
   ],
   "metadata": {
    "collapsed": false,
    "pycharm": {
     "name": "#%%\n"
    }
   }
  },
  {
   "cell_type": "code",
   "execution_count": null,
   "outputs": [],
   "source": [
    "import random\n",
    "\n",
    "import torch\n",
    "\n",
    "random.seed(SEED)\n",
    "torch.manual_seed(SEED)\n",
    "torch.backends.cudnn.deterministic = True\n",
    "torch.backends.cudnn.benchmark = False"
   ],
   "metadata": {
    "collapsed": false,
    "pycharm": {
     "name": "#%%\n"
    }
   }
  },
  {
   "cell_type": "code",
   "execution_count": null,
   "outputs": [],
   "source": [
    "DATA_PATH: str = '../data/imdb'\n",
    "DATASETS: list = [\n",
    "    ('train', '_train'),\n",
    "    ('test', '_test')\n",
    "]"
   ],
   "metadata": {
    "collapsed": false,
    "pycharm": {
     "name": "#%%\n"
    }
   }
  },
  {
   "cell_type": "code",
   "execution_count": null,
   "outputs": [],
   "source": [
    "MODELS: list = [\n",
    "    ('base', 'bert-base-uncased'),\n",
    "    ('textattack', 'textattack/bert-base-uncased-imdb'),\n",
    "    ('fabriceyhc', 'fabriceyhc/bert-base-uncased-imdb'),\n",
    "    ('wakaka', 'Wakaka/bert-finetuned-imdb')\n",
    "]"
   ],
   "metadata": {
    "collapsed": false,
    "pycharm": {
     "name": "#%%\n"
    }
   }
  },
  {
   "cell_type": "code",
   "execution_count": 3,
   "outputs": [],
   "source": [
    "data_config: dict = {\n",
    "    'polarities': {\n",
    "        \"negative\": 0,\n",
    "        \"positive\": 1\n",
    "    },\n",
    "    'data_label': 'text',\n",
    "    'target_label': 'sentiment'\n",
    "}"
   ],
   "metadata": {
    "collapsed": false,
    "pycharm": {
     "name": "#%%\n"
    }
   }
  },
  {
   "cell_type": "code",
   "execution_count": null,
   "outputs": [],
   "source": [
    "from typing import Dict\n",
    "from classifier import Data\n",
    "\n",
    "datasets: Dict[str, Data] = {\n",
    "    label: Data(data_path=f\"{DATA_PATH}.{name}.csv\", **data_config)\n",
    "    for label, name in DATASETS\n",
    "}"
   ],
   "metadata": {
    "collapsed": false,
    "pycharm": {
     "name": "#%%\n"
    }
   }
  },
  {
   "cell_type": "code",
   "execution_count": null,
   "outputs": [],
   "source": [
    "encoder_config: dict = {\n",
    "    'layers': [11]\n",
    "}"
   ],
   "metadata": {
    "collapsed": false,
    "pycharm": {
     "name": "#%%\n"
    }
   }
  },
  {
   "cell_type": "code",
   "execution_count": null,
   "outputs": [],
   "source": [
    "from classifier._neural import Encoder\n",
    "\n",
    "encoders: Dict[str, Encoder] = {\n",
    "    label: Encoder({**{'model': ref}, **encoder_config})\n",
    "    for label, ref in MODELS\n",
    "}"
   ],
   "metadata": {
    "collapsed": false,
    "pycharm": {
     "name": "#%%\n"
    }
   }
  },
  {
   "cell_type": "code",
   "execution_count": null,
   "outputs": [],
   "source": [
    "from classifier._neural.util import get_device\n",
    "\n",
    "\n",
    "def collation_fn(batch: list) -> tuple:\n",
    "    encoded_column: str = encoders[MODELS[0][0]].col_name\n",
    "    target_column: str = datasets['train'].target_label\n",
    "\n",
    "    encode_label_fn: callable = lambda x: datasets['train'].encode_label(x)\n",
    "\n",
    "    return (\n",
    "        torch.stack([\n",
    "            sample[encoded_column].values[0]\n",
    "            for sample in batch\n",
    "        ]).to(get_device()),\n",
    "        torch.tensor(\n",
    "            [\n",
    "                encode_label_fn(lb) for lb in\n",
    "                [sample[target_column].values[0] for sample in batch]\n",
    "            ],\n",
    "            dtype=torch.long, device=get_device())\n",
    "    )"
   ],
   "metadata": {
    "collapsed": false,
    "pycharm": {
     "name": "#%%\n"
    }
   }
  },
  {
   "cell_type": "code",
   "execution_count": 2,
   "outputs": [
    {
     "ename": "NameError",
     "evalue": "name 'encoders' is not defined",
     "output_type": "error",
     "traceback": [
      "\u001B[0;31m---------------------------------------------------------------------------\u001B[0m",
      "\u001B[0;31mNameError\u001B[0m                                 Traceback (most recent call last)",
      "Input \u001B[0;32mIn [2]\u001B[0m, in \u001B[0;36m<cell line: 4>\u001B[0;34m()\u001B[0m\n\u001B[1;32m      1\u001B[0m \u001B[38;5;28;01mfrom\u001B[39;00m \u001B[38;5;21;01mclassifier\u001B[39;00m\u001B[38;5;21;01m.\u001B[39;00m\u001B[38;5;21;01m_neural\u001B[39;00m \u001B[38;5;28;01mimport\u001B[39;00m Model, Trainer\n\u001B[0;32m----> 4\u001B[0m \u001B[38;5;28;01mfor\u001B[39;00m enc_label, encoder \u001B[38;5;129;01min\u001B[39;00m \u001B[43mencoders\u001B[49m\u001B[38;5;241m.\u001B[39mitems():\n\u001B[1;32m      5\u001B[0m     model \u001B[38;5;241m=\u001B[39m Model({\n\u001B[1;32m      6\u001B[0m         \u001B[38;5;124m'\u001B[39m\u001B[38;5;124mname\u001B[39m\u001B[38;5;124m'\u001B[39m: enc\n\u001B[1;32m      7\u001B[0m     })\n\u001B[1;32m      9\u001B[0m Trainer(\n\u001B[1;32m     10\u001B[0m model, datasets, \u001B[38;5;28;01mNone\u001B[39;00m,\n\u001B[1;32m     11\u001B[0m out_dir \u001B[38;5;241m=\u001B[39m OUT_PATH,\n\u001B[1;32m     12\u001B[0m user_config \u001B[38;5;241m=\u001B[39m trainer_config,\n\u001B[1;32m     13\u001B[0m )()\n",
      "\u001B[0;31mNameError\u001B[0m: name 'encoders' is not defined"
     ]
    }
   ],
   "source": [
    "from classifier._neural import Model, Trainer\n",
    "\n",
    "for label, encoder in encoders.items():\n",
    "\n",
    "    model = Model({\n",
    "        'name': label,\n",
    "        'in_size': encoder.dim,\n",
    "        'hid_size': HID_SIZE,\n",
    "        'out_size': len(data_config['polarities']),\n",
    "        'dropout': DROPOUT,\n",
    "    })\n",
    "\n",
    "    Trainer(\n",
    "        model, datasets, collation_fn,\n",
    "        out_dir=f'{OUT_PATH}/{label}.',\n",
    "        user_config={}\n",
    "    )()"
   ],
   "metadata": {
    "collapsed": false,
    "pycharm": {
     "name": "#%%\n"
    }
   }
  }
 ],
 "metadata": {
  "kernelspec": {
   "display_name": "Python 3",
   "language": "python",
   "name": "python3"
  },
  "language_info": {
   "codemirror_mode": {
    "name": "ipython",
    "version": 2
   },
   "file_extension": ".py",
   "mimetype": "text/x-python",
   "name": "python",
   "nbconvert_exporter": "python",
   "pygments_lexer": "ipython2",
   "version": "2.7.6"
  }
 },
 "nbformat": 4,
 "nbformat_minor": 0
}