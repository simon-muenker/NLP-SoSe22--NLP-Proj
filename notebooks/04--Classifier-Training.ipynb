{
 "cells": [
  {
   "cell_type": "code",
   "execution_count": 1,
   "metadata": {
    "collapsed": true,
    "execution": {
     "iopub.execute_input": "2022-09-13T23:56:04.665860Z",
     "iopub.status.busy": "2022-09-13T23:56:04.665087Z",
     "iopub.status.idle": "2022-09-13T23:56:04.678559Z",
     "shell.execute_reply": "2022-09-13T23:56:04.677482Z"
    },
    "pycharm": {
     "name": "#%%\n"
    }
   },
   "outputs": [
    {
     "name": "stdout",
     "output_type": "stream",
     "text": [
      "env: CUDA_DEVICE_ORDER=PCI_BUS_ID\n",
      "env: CUDA_VISIBLE_DEVICES=5\n"
     ]
    }
   ],
   "source": [
    "%env CUDA_DEVICE_ORDER=PCI_BUS_ID\n",
    "%env CUDA_VISIBLE_DEVICES=5"
   ]
  },
  {
   "cell_type": "code",
   "execution_count": 2,
   "metadata": {
    "collapsed": false,
    "execution": {
     "iopub.execute_input": "2022-09-13T23:56:04.710810Z",
     "iopub.status.busy": "2022-09-13T23:56:04.710194Z",
     "iopub.status.idle": "2022-09-13T23:56:04.718250Z",
     "shell.execute_reply": "2022-09-13T23:56:04.716606Z"
    },
    "pycharm": {
     "name": "#%%\n"
    }
   },
   "outputs": [],
   "source": [
    "import os\n",
    "import sys\n",
    "\n",
    "module_path = os.path.abspath(os.path.join('..'))\n",
    "\n",
    "if module_path not in sys.path:\n",
    "    sys.path.append(module_path)"
   ]
  },
  {
   "cell_type": "code",
   "execution_count": 3,
   "metadata": {
    "collapsed": false,
    "execution": {
     "iopub.execute_input": "2022-09-13T23:56:04.723237Z",
     "iopub.status.busy": "2022-09-13T23:56:04.722537Z",
     "iopub.status.idle": "2022-09-13T23:56:04.729269Z",
     "shell.execute_reply": "2022-09-13T23:56:04.727940Z"
    },
    "pycharm": {
     "name": "#%%\n"
    }
   },
   "outputs": [],
   "source": [
    "SEED: int = 42\n",
    "OUT_PATH: str = '../results/training'"
   ]
  },
  {
   "cell_type": "code",
   "execution_count": 4,
   "metadata": {
    "collapsed": false,
    "execution": {
     "iopub.execute_input": "2022-09-13T23:56:04.733351Z",
     "iopub.status.busy": "2022-09-13T23:56:04.732978Z",
     "iopub.status.idle": "2022-09-13T23:56:04.737395Z",
     "shell.execute_reply": "2022-09-13T23:56:04.736478Z"
    },
    "pycharm": {
     "name": "#%%\n"
    }
   },
   "outputs": [],
   "source": [
    "HID_SIZE: int = 256\n",
    "DROPOUT: float = 0.4"
   ]
  },
  {
   "cell_type": "code",
   "execution_count": 5,
   "metadata": {
    "collapsed": false,
    "execution": {
     "iopub.execute_input": "2022-09-13T23:56:04.741102Z",
     "iopub.status.busy": "2022-09-13T23:56:04.740745Z",
     "iopub.status.idle": "2022-09-13T23:56:05.402230Z",
     "shell.execute_reply": "2022-09-13T23:56:05.400664Z"
    },
    "pycharm": {
     "name": "#%%\n"
    }
   },
   "outputs": [],
   "source": [
    "import random\n",
    "\n",
    "import torch\n",
    "\n",
    "random.seed(SEED)\n",
    "torch.manual_seed(SEED)\n",
    "torch.backends.cudnn.deterministic = True\n",
    "torch.backends.cudnn.benchmark = False"
   ]
  },
  {
   "cell_type": "code",
   "execution_count": 6,
   "metadata": {
    "collapsed": false,
    "execution": {
     "iopub.execute_input": "2022-09-13T23:56:05.407322Z",
     "iopub.status.busy": "2022-09-13T23:56:05.406837Z",
     "iopub.status.idle": "2022-09-13T23:56:05.411289Z",
     "shell.execute_reply": "2022-09-13T23:56:05.410490Z"
    },
    "pycharm": {
     "name": "#%%\n"
    }
   },
   "outputs": [],
   "source": [
    "DATA_PATH: str = '../data/imdb'\n",
    "DATASETS: list = [\n",
    "    ('train', '_prepped.train'),\n",
    "    ('test', '_prepped.test')\n",
    "]"
   ]
  },
  {
   "cell_type": "code",
   "execution_count": 7,
   "metadata": {
    "collapsed": false,
    "execution": {
     "iopub.execute_input": "2022-09-13T23:56:05.415283Z",
     "iopub.status.busy": "2022-09-13T23:56:05.414758Z",
     "iopub.status.idle": "2022-09-13T23:56:05.419249Z",
     "shell.execute_reply": "2022-09-13T23:56:05.418073Z"
    },
    "pycharm": {
     "name": "#%%\n"
    }
   },
   "outputs": [],
   "source": [
    "MODELS: list = [\n",
    "    ('base', 'bert-base-uncased'),\n",
    "    ('textattack', 'textattack/bert-base-uncased-imdb'),\n",
    "    ('fabriceyhc', 'fabriceyhc/bert-base-uncased-imdb'),\n",
    "    ('wakaka', 'Wakaka/bert-finetuned-imdb')\n",
    "]"
   ]
  },
  {
   "cell_type": "code",
   "execution_count": 8,
   "metadata": {
    "collapsed": false,
    "execution": {
     "iopub.execute_input": "2022-09-13T23:56:05.422180Z",
     "iopub.status.busy": "2022-09-13T23:56:05.421992Z",
     "iopub.status.idle": "2022-09-13T23:56:05.426658Z",
     "shell.execute_reply": "2022-09-13T23:56:05.425348Z"
    },
    "pycharm": {
     "name": "#%%\n"
    }
   },
   "outputs": [],
   "source": [
    "data_config: dict = {\n",
    "    'polarities': {\n",
    "        \"negative\": 0,\n",
    "        \"positive\": 1\n",
    "    },\n",
    "    'data_label': 'text',\n",
    "    'target_label': 'sentiment'\n",
    "}"
   ]
  },
  {
   "cell_type": "code",
   "execution_count": 9,
   "metadata": {
    "collapsed": false,
    "execution": {
     "iopub.execute_input": "2022-09-13T23:56:05.458394Z",
     "iopub.status.busy": "2022-09-13T23:56:05.457877Z",
     "iopub.status.idle": "2022-09-13T23:56:06.467465Z",
     "shell.execute_reply": "2022-09-13T23:56:06.466289Z"
    },
    "pycharm": {
     "name": "#%%\n"
    }
   },
   "outputs": [],
   "source": [
    "from typing import Dict\n",
    "from modules import Data\n",
    "\n",
    "datasets: Dict[str, Data] = {\n",
    "    label: Data(data_path=f\"{DATA_PATH}.{name}.csv\", **data_config)\n",
    "    for label, name in DATASETS\n",
    "}"
   ]
  },
  {
   "cell_type": "code",
   "execution_count": 10,
   "metadata": {
    "collapsed": false,
    "execution": {
     "iopub.execute_input": "2022-09-13T23:56:06.472671Z",
     "iopub.status.busy": "2022-09-13T23:56:06.472418Z",
     "iopub.status.idle": "2022-09-13T23:56:06.477277Z",
     "shell.execute_reply": "2022-09-13T23:56:06.476275Z"
    },
    "pycharm": {
     "name": "#%%\n"
    }
   },
   "outputs": [],
   "source": [
    "encoder_config: dict = {\n",
    "    'layers': [11]\n",
    "}"
   ]
  },
  {
   "cell_type": "code",
   "execution_count": 11,
   "metadata": {
    "collapsed": false,
    "execution": {
     "iopub.execute_input": "2022-09-13T23:56:06.482126Z",
     "iopub.status.busy": "2022-09-13T23:56:06.481932Z",
     "iopub.status.idle": "2022-09-13T23:56:32.946876Z",
     "shell.execute_reply": "2022-09-13T23:56:32.944994Z"
    },
    "pycharm": {
     "name": "#%%\n"
    }
   },
   "outputs": [],
   "source": [
    "from modules import Encoder\n",
    "\n",
    "encoders: Dict[str, Encoder] = {\n",
    "    label: Encoder({**{'model': ref}, **encoder_config})\n",
    "    for label, ref in MODELS\n",
    "}"
   ]
  },
  {
   "cell_type": "code",
   "execution_count": 12,
   "metadata": {
    "collapsed": false,
    "execution": {
     "iopub.execute_input": "2022-09-13T23:56:32.953817Z",
     "iopub.status.busy": "2022-09-13T23:56:32.953550Z",
     "iopub.status.idle": "2022-09-13T23:56:32.962039Z",
     "shell.execute_reply": "2022-09-13T23:56:32.960716Z"
    },
    "pycharm": {
     "name": "#%%\n"
    }
   },
   "outputs": [],
   "source": [
    "from modules.util import get_device\n",
    "\n",
    "\n",
    "def collation_fn(batch: list) -> tuple:\n",
    "    encoded_column: str = encoders[MODELS[0][0]].col_name\n",
    "    target_column: str = datasets['train'].target_label\n",
    "\n",
    "    encode_label_fn: callable = lambda x: datasets['train'].encode_label(x)\n",
    "\n",
    "    return (\n",
    "        torch.stack([\n",
    "            sample[encoded_column].values[0]\n",
    "            for sample in batch\n",
    "        ]).to(get_device()),\n",
    "        torch.tensor(\n",
    "            [\n",
    "                encode_label_fn(lb) for lb in\n",
    "                [sample[target_column].values[0] for sample in batch]\n",
    "            ],\n",
    "            dtype=torch.long, device=get_device())\n",
    "    )"
   ]
  },
  {
   "cell_type": "code",
   "execution_count": 13,
   "metadata": {
    "collapsed": false,
    "execution": {
     "iopub.execute_input": "2022-09-13T23:56:32.966187Z",
     "iopub.status.busy": "2022-09-13T23:56:32.965825Z",
     "iopub.status.idle": "2022-09-14T01:39:28.018822Z",
     "shell.execute_reply": "2022-09-14T01:39:28.017863Z"
    },
    "pycharm": {
     "name": "#%%\n"
    }
   },
   "outputs": [
    {
     "name": "stderr",
     "output_type": "stream",
     "text": [
      "                                                                                                                                                                                                                                                                              \r"
     ]
    }
   ],
   "source": [
    "from modules import Model, Trainer\n",
    "\n",
    "for label, encoder in encoders.items():\n",
    "\n",
    "    for data_label, dataset in datasets.items():\n",
    "        encoder.df_encode(dataset.data, col=dataset.data_label)\n",
    "\n",
    "    model = Model({\n",
    "        'name': label,\n",
    "        'in_size': encoder.dim,\n",
    "        'hid_size': HID_SIZE,\n",
    "        'out_size': len(data_config['polarities']),\n",
    "        'dropout': DROPOUT,\n",
    "    })\n",
    "\n",
    "    Trainer(\n",
    "        model, datasets, collation_fn,\n",
    "        out_dir=f'{OUT_PATH}/{label}.',\n",
    "        user_config={}\n",
    "    )()"
   ]
  }
 ],
 "metadata": {
  "kernelspec": {
   "display_name": "Python 3",
   "language": "python",
   "name": "python3"
  },
  "language_info": {
   "codemirror_mode": {
    "name": "ipython",
    "version": 3
   },
   "file_extension": ".py",
   "mimetype": "text/x-python",
   "name": "python",
   "nbconvert_exporter": "python",
   "pygments_lexer": "ipython3",
   "version": "3.8.5"
  }
 },
 "nbformat": 4,
 "nbformat_minor": 0
}
