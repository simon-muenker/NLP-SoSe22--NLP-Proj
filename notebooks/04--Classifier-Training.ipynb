{
 "cells": [
  {
   "cell_type": "code",
   "execution_count": 1,
   "metadata": {
    "collapsed": true,
    "execution": {
     "iopub.execute_input": "2022-09-14T16:38:47.646886Z",
     "iopub.status.busy": "2022-09-14T16:38:47.646214Z",
     "iopub.status.idle": "2022-09-14T16:38:47.660586Z",
     "shell.execute_reply": "2022-09-14T16:38:47.659543Z"
    },
    "pycharm": {
     "name": "#%%\n"
    }
   },
   "outputs": [
    {
     "name": "stdout",
     "output_type": "stream",
     "text": [
      "env: CUDA_DEVICE_ORDER=PCI_BUS_ID\n",
      "env: CUDA_VISIBLE_DEVICES=5\n"
     ]
    }
   ],
   "source": [
    "%env CUDA_DEVICE_ORDER=PCI_BUS_ID\n",
    "%env CUDA_VISIBLE_DEVICES=5"
   ]
  },
  {
   "cell_type": "code",
   "execution_count": 2,
   "metadata": {
    "collapsed": false,
    "execution": {
     "iopub.execute_input": "2022-09-14T16:38:47.694871Z",
     "iopub.status.busy": "2022-09-14T16:38:47.694247Z",
     "iopub.status.idle": "2022-09-14T16:38:47.702008Z",
     "shell.execute_reply": "2022-09-14T16:38:47.700792Z"
    },
    "pycharm": {
     "name": "#%%\n"
    }
   },
   "outputs": [],
   "source": [
    "import os\n",
    "import sys\n",
    "\n",
    "module_path = os.path.abspath(os.path.join('..'))\n",
    "\n",
    "if module_path not in sys.path:\n",
    "    sys.path.append(module_path)"
   ]
  },
  {
   "cell_type": "code",
   "execution_count": 3,
   "metadata": {
    "collapsed": false,
    "execution": {
     "iopub.execute_input": "2022-09-14T16:38:47.706372Z",
     "iopub.status.busy": "2022-09-14T16:38:47.705824Z",
     "iopub.status.idle": "2022-09-14T16:38:47.710376Z",
     "shell.execute_reply": "2022-09-14T16:38:47.709451Z"
    },
    "pycharm": {
     "name": "#%%\n"
    }
   },
   "outputs": [],
   "source": [
    "SEED: int = 42\n",
    "OUT_PATH: str = '../results/training/raw'"
   ]
  },
  {
   "cell_type": "code",
   "execution_count": 4,
   "metadata": {
    "collapsed": false,
    "execution": {
     "iopub.execute_input": "2022-09-14T16:38:47.713761Z",
     "iopub.status.busy": "2022-09-14T16:38:47.713392Z",
     "iopub.status.idle": "2022-09-14T16:38:47.718066Z",
     "shell.execute_reply": "2022-09-14T16:38:47.717117Z"
    },
    "pycharm": {
     "name": "#%%\n"
    }
   },
   "outputs": [],
   "source": [
    "HID_SIZE: int = 256\n",
    "DROPOUT: float = 0.4"
   ]
  },
  {
   "cell_type": "code",
   "execution_count": 5,
   "metadata": {
    "collapsed": false,
    "execution": {
     "iopub.execute_input": "2022-09-14T16:38:47.721793Z",
     "iopub.status.busy": "2022-09-14T16:38:47.721386Z",
     "iopub.status.idle": "2022-09-14T16:38:48.361422Z",
     "shell.execute_reply": "2022-09-14T16:38:48.359877Z"
    },
    "pycharm": {
     "name": "#%%\n"
    }
   },
   "outputs": [],
   "source": [
    "import random\n",
    "\n",
    "import torch\n",
    "\n",
    "random.seed(SEED)\n",
    "torch.manual_seed(SEED)\n",
    "torch.backends.cudnn.deterministic = True\n",
    "torch.backends.cudnn.benchmark = False"
   ]
  },
  {
   "cell_type": "code",
   "execution_count": 6,
   "metadata": {
    "collapsed": false,
    "execution": {
     "iopub.execute_input": "2022-09-14T16:38:48.366340Z",
     "iopub.status.busy": "2022-09-14T16:38:48.365839Z",
     "iopub.status.idle": "2022-09-14T16:38:48.370637Z",
     "shell.execute_reply": "2022-09-14T16:38:48.369711Z"
    },
    "pycharm": {
     "name": "#%%\n"
    }
   },
   "outputs": [],
   "source": [
    "DATA_PATH: str = '../data/imdb'\n",
    "DATASETS: list = [\n",
    "    ('train', '_prepped.train'),\n",
    "    ('test', '_prepped.test')\n",
    "]"
   ]
  },
  {
   "cell_type": "code",
   "execution_count": 7,
   "metadata": {
    "collapsed": false,
    "execution": {
     "iopub.execute_input": "2022-09-14T16:38:48.374830Z",
     "iopub.status.busy": "2022-09-14T16:38:48.374639Z",
     "iopub.status.idle": "2022-09-14T16:38:48.379201Z",
     "shell.execute_reply": "2022-09-14T16:38:48.378293Z"
    },
    "pycharm": {
     "name": "#%%\n"
    }
   },
   "outputs": [],
   "source": [
    "MODELS: list = [\n",
    "    ('base', 'bert-base-uncased'),\n",
    "    ('textattack', 'textattack/bert-base-uncased-imdb'),\n",
    "    ('fabriceyhc', 'fabriceyhc/bert-base-uncased-imdb'),\n",
    "    ('wakaka', 'Wakaka/bert-finetuned-imdb')\n",
    "]"
   ]
  },
  {
   "cell_type": "code",
   "execution_count": 8,
   "metadata": {
    "collapsed": false,
    "execution": {
     "iopub.execute_input": "2022-09-14T16:38:48.382178Z",
     "iopub.status.busy": "2022-09-14T16:38:48.381891Z",
     "iopub.status.idle": "2022-09-14T16:38:48.386683Z",
     "shell.execute_reply": "2022-09-14T16:38:48.385464Z"
    },
    "pycharm": {
     "name": "#%%\n"
    }
   },
   "outputs": [],
   "source": [
    "data_config: dict = {\n",
    "    'polarities': {\n",
    "        \"negative\": 0,\n",
    "        \"positive\": 1\n",
    "    },\n",
    "    'data_label': 'text',\n",
    "    'target_label': 'sentiment'\n",
    "}"
   ]
  },
  {
   "cell_type": "code",
   "execution_count": 9,
   "metadata": {
    "collapsed": false,
    "execution": {
     "iopub.execute_input": "2022-09-14T16:38:48.417767Z",
     "iopub.status.busy": "2022-09-14T16:38:48.417340Z",
     "iopub.status.idle": "2022-09-14T16:38:49.427113Z",
     "shell.execute_reply": "2022-09-14T16:38:49.425612Z"
    },
    "pycharm": {
     "name": "#%%\n"
    }
   },
   "outputs": [],
   "source": [
    "from typing import Dict\n",
    "from modules import Data\n",
    "\n",
    "datasets: Dict[str, Data] = {\n",
    "    label: Data(data_path=f\"{DATA_PATH}.{name}.csv\", **data_config)\n",
    "    for label, name in DATASETS\n",
    "}"
   ]
  },
  {
   "cell_type": "code",
   "execution_count": 10,
   "metadata": {
    "collapsed": false,
    "execution": {
     "iopub.execute_input": "2022-09-14T16:38:49.432924Z",
     "iopub.status.busy": "2022-09-14T16:38:49.432672Z",
     "iopub.status.idle": "2022-09-14T16:38:49.437478Z",
     "shell.execute_reply": "2022-09-14T16:38:49.436520Z"
    },
    "pycharm": {
     "name": "#%%\n"
    }
   },
   "outputs": [],
   "source": [
    "encoder_config: dict = {\n",
    "    'layers': [11]\n",
    "}"
   ]
  },
  {
   "cell_type": "code",
   "execution_count": 11,
   "metadata": {
    "collapsed": false,
    "execution": {
     "iopub.execute_input": "2022-09-14T16:38:49.442044Z",
     "iopub.status.busy": "2022-09-14T16:38:49.441608Z",
     "iopub.status.idle": "2022-09-14T16:39:15.738570Z",
     "shell.execute_reply": "2022-09-14T16:39:15.736933Z"
    },
    "pycharm": {
     "name": "#%%\n"
    }
   },
   "outputs": [],
   "source": [
    "from modules import Encoder\n",
    "\n",
    "encoders: Dict[str, Encoder] = {\n",
    "    label: Encoder({**{'model': ref}, **encoder_config})\n",
    "    for label, ref in MODELS\n",
    "}"
   ]
  },
  {
   "cell_type": "code",
   "execution_count": 12,
   "metadata": {
    "collapsed": false,
    "execution": {
     "iopub.execute_input": "2022-09-14T16:39:15.744832Z",
     "iopub.status.busy": "2022-09-14T16:39:15.744561Z",
     "iopub.status.idle": "2022-09-14T16:39:15.752422Z",
     "shell.execute_reply": "2022-09-14T16:39:15.751077Z"
    },
    "pycharm": {
     "name": "#%%\n"
    }
   },
   "outputs": [],
   "source": [
    "from modules.util import get_device\n",
    "\n",
    "\n",
    "def collation_fn(batch: list) -> tuple:\n",
    "    encoded_column: str = encoders[MODELS[0][0]].col_name\n",
    "    target_column: str = datasets['train'].target_label\n",
    "\n",
    "    encode_label_fn: callable = lambda x: datasets['train'].encode_label(x)\n",
    "\n",
    "    return (\n",
    "        torch.stack([\n",
    "            sample[encoded_column].values[0]\n",
    "            for sample in batch\n",
    "        ]).to(get_device()),\n",
    "        torch.tensor(\n",
    "            [\n",
    "                encode_label_fn(lb) for lb in\n",
    "                [sample[target_column].values[0] for sample in batch]\n",
    "            ],\n",
    "            dtype=torch.long, device=get_device())\n",
    "    )"
   ]
  },
  {
   "cell_type": "code",
   "execution_count": 13,
   "metadata": {
    "collapsed": false,
    "execution": {
     "iopub.execute_input": "2022-09-14T16:39:15.755808Z",
     "iopub.status.busy": "2022-09-14T16:39:15.755419Z",
     "iopub.status.idle": "2022-09-14T18:22:37.054157Z",
     "shell.execute_reply": "2022-09-14T18:22:37.052591Z"
    },
    "pycharm": {
     "name": "#%%\n"
    }
   },
   "outputs": [
    {
     "name": "stderr",
     "output_type": "stream",
     "text": [
      "                                                                                                                                                                                                                                                                                                                                                                          \r"
     ]
    }
   ],
   "source": [
    "from modules import Model, Trainer\n",
    "\n",
    "for label, encoder in encoders.items():\n",
    "\n",
    "    for data_label, dataset in datasets.items():\n",
    "        encoder.df_encode(dataset.data, col=dataset.data_label)\n",
    "\n",
    "    model = Model({\n",
    "        'name': label,\n",
    "        'in_size': encoder.dim,\n",
    "        'hid_size': HID_SIZE,\n",
    "        'out_size': len(data_config['polarities']),\n",
    "        'dropout': DROPOUT,\n",
    "    })\n",
    "\n",
    "    Trainer(\n",
    "        model, datasets, collation_fn,\n",
    "        out_dir=f'{OUT_PATH}/{label}.',\n",
    "        user_config={}\n",
    "    )()"
   ]
  }
 ],
 "metadata": {
  "kernelspec": {
   "display_name": "Python 3",
   "language": "python",
   "name": "python3"
  },
  "language_info": {
   "codemirror_mode": {
    "name": "ipython",
    "version": 3
   },
   "file_extension": ".py",
   "mimetype": "text/x-python",
   "name": "python",
   "nbconvert_exporter": "python",
   "pygments_lexer": "ipython3",
   "version": "3.8.5"
  }
 },
 "nbformat": 4,
 "nbformat_minor": 0
}
