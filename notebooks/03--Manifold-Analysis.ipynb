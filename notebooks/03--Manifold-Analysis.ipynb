{
 "cells": [
  {
   "cell_type": "code",
   "execution_count": 14,
   "outputs": [],
   "source": [
    "import matplotlib.pyplot as plt\n",
    "\n",
    "%matplotlib inline\n",
    "plt.rcParams[\"figure.figsize\"] = (12, 16)"
   ],
   "metadata": {
    "collapsed": false,
    "pycharm": {
     "name": "#%%\n"
    }
   }
  },
  {
   "cell_type": "code",
   "execution_count": 15,
   "outputs": [],
   "source": [
    "import pandas as pd"
   ],
   "metadata": {
    "collapsed": false,
    "pycharm": {
     "name": "#%%\n"
    }
   }
  },
  {
   "cell_type": "code",
   "execution_count": 16,
   "outputs": [],
   "source": [
    "IN_OUT_PATH: str = '../results/manifolds'"
   ],
   "metadata": {
    "collapsed": false,
    "pycharm": {
     "name": "#%%\n"
    }
   }
  },
  {
   "cell_type": "code",
   "execution_count": 17,
   "outputs": [],
   "source": [
    "DATASETS: list = ['train', 'test']"
   ],
   "metadata": {
    "collapsed": false,
    "pycharm": {
     "name": "#%%\n"
    }
   }
  },
  {
   "cell_type": "code",
   "execution_count": 18,
   "outputs": [],
   "source": [
    "MODELS: list = [ 'base', 'textattack', 'fabriceyhc', 'wakaka']"
   ],
   "metadata": {
    "collapsed": false,
    "pycharm": {
     "name": "#%%\n"
    }
   }
  },
  {
   "cell_type": "code",
   "execution_count": 19,
   "outputs": [],
   "source": [
    "### Load Datasets into memory"
   ],
   "metadata": {
    "collapsed": false,
    "pycharm": {
     "name": "#%%\n"
    }
   }
  },
  {
   "cell_type": "code",
   "execution_count": 20,
   "outputs": [],
   "source": [
    "analysis: dict = {\n",
    "    data: pd.concat(\n",
    "        [(\n",
    "            pd\n",
    "            .read_csv(f'{IN_OUT_PATH}/analysis.{data}.{model}.csv', index_col=0)\n",
    "            .set_index(['dim'])\n",
    "            .add_prefix(f'{model}_')\n",
    "        )\n",
    "            for model in MODELS],\n",
    "        axis=1)\n",
    "    for data in DATASETS\n",
    "}"
   ],
   "metadata": {
    "collapsed": false,
    "pycharm": {
     "name": "#%%\n"
    }
   }
  },
  {
   "cell_type": "code",
   "execution_count": 21,
   "outputs": [
    {
     "data": {
      "text/plain": "'train'"
     },
     "metadata": {},
     "output_type": "display_data"
    },
    {
     "data": {
      "text/plain": "     base_dispersion_positive  base_dispersion_negative  base_distance  \\\ndim                                                                      \n768              1.780549e+06              1.511064e+06       1.215327   \n576              1.781745e+06              1.512164e+06       1.145085   \n384              1.781667e+06              1.512090e+06       1.141992   \n192              1.781040e+06              1.511510e+06       1.160019   \n96               1.779856e+06              1.510311e+06       1.189642   \n48               1.777581e+06              1.508217e+06       1.226943   \n24               1.771273e+06              1.502219e+06       1.374433   \n12               1.759527e+06              1.490951e+06       1.538300   \n6                1.736990e+06              1.467700e+06       1.600850   \n3                1.685935e+06              1.413828e+06       1.318991   \n\n     textattack_dispersion_positive  textattack_dispersion_negative  \\\ndim                                                                   \n768                    2.080085e+06                    1.761406e+06   \n576                    2.080430e+06                    1.761678e+06   \n384                    2.080154e+06                    1.761415e+06   \n192                    2.079200e+06                    1.760514e+06   \n96                     2.077196e+06                    1.758636e+06   \n48                     2.072722e+06                    1.754415e+06   \n24                     2.063231e+06                    1.745557e+06   \n12                     2.041085e+06                    1.724909e+06   \n6                      1.985406e+06                    1.673575e+06   \n3                      1.818896e+06                    1.530549e+06   \n\n     textattack_distance  fabriceyhc_dispersion_positive  \\\ndim                                                        \n768             7.908210                    1.803098e+06   \n576             7.910161                    1.803555e+06   \n384             7.911783                    1.803466e+06   \n192             7.918288                    1.803199e+06   \n96              7.930053                    1.802619e+06   \n48              7.959053                    1.801146e+06   \n24              8.016581                    1.798087e+06   \n12              8.148785                    1.789945e+06   \n6               8.459311                    1.766668e+06   \n3               9.251512                    1.663101e+06   \n\n     fabriceyhc_dispersion_negative  fabriceyhc_distance  \\\ndim                                                        \n768                    1.919905e+06            22.903667   \n576                    1.920438e+06            22.903796   \n384                    1.920355e+06            22.903874   \n192                    1.920147e+06            22.904074   \n96                     1.919707e+06            22.904353   \n48                     1.918544e+06            22.905467   \n24                     1.916102e+06            22.908108   \n12                     1.909628e+06            22.915375   \n6                      1.889920e+06            22.937814   \n3                      1.804950e+06            23.122424   \n\n     wakaka_dispersion_positive  wakaka_dispersion_negative  wakaka_distance  \ndim                                                                           \n768                2.433107e+06                1.920625e+06        11.704244  \n576                2.433626e+06                1.920946e+06        11.707232  \n384                2.433385e+06                1.920715e+06        11.707926  \n192                2.432659e+06                1.919993e+06        11.710755  \n96                 2.430984e+06                1.918393e+06        11.717164  \n48                 2.427405e+06                1.914943e+06        11.730650  \n24                 2.419387e+06                1.907246e+06        11.762039  \n12                 2.399986e+06                1.888622e+06        11.842136  \n6                  2.344958e+06                1.839915e+06        12.067655  \n3                  2.200707e+06                1.708544e+06        12.634450  ",
      "text/html": "<div>\n<style scoped>\n    .dataframe tbody tr th:only-of-type {\n        vertical-align: middle;\n    }\n\n    .dataframe tbody tr th {\n        vertical-align: top;\n    }\n\n    .dataframe thead th {\n        text-align: right;\n    }\n</style>\n<table border=\"1\" class=\"dataframe\">\n  <thead>\n    <tr style=\"text-align: right;\">\n      <th></th>\n      <th>base_dispersion_positive</th>\n      <th>base_dispersion_negative</th>\n      <th>base_distance</th>\n      <th>textattack_dispersion_positive</th>\n      <th>textattack_dispersion_negative</th>\n      <th>textattack_distance</th>\n      <th>fabriceyhc_dispersion_positive</th>\n      <th>fabriceyhc_dispersion_negative</th>\n      <th>fabriceyhc_distance</th>\n      <th>wakaka_dispersion_positive</th>\n      <th>wakaka_dispersion_negative</th>\n      <th>wakaka_distance</th>\n    </tr>\n    <tr>\n      <th>dim</th>\n      <th></th>\n      <th></th>\n      <th></th>\n      <th></th>\n      <th></th>\n      <th></th>\n      <th></th>\n      <th></th>\n      <th></th>\n      <th></th>\n      <th></th>\n      <th></th>\n    </tr>\n  </thead>\n  <tbody>\n    <tr>\n      <th>768</th>\n      <td>1.780549e+06</td>\n      <td>1.511064e+06</td>\n      <td>1.215327</td>\n      <td>2.080085e+06</td>\n      <td>1.761406e+06</td>\n      <td>7.908210</td>\n      <td>1.803098e+06</td>\n      <td>1.919905e+06</td>\n      <td>22.903667</td>\n      <td>2.433107e+06</td>\n      <td>1.920625e+06</td>\n      <td>11.704244</td>\n    </tr>\n    <tr>\n      <th>576</th>\n      <td>1.781745e+06</td>\n      <td>1.512164e+06</td>\n      <td>1.145085</td>\n      <td>2.080430e+06</td>\n      <td>1.761678e+06</td>\n      <td>7.910161</td>\n      <td>1.803555e+06</td>\n      <td>1.920438e+06</td>\n      <td>22.903796</td>\n      <td>2.433626e+06</td>\n      <td>1.920946e+06</td>\n      <td>11.707232</td>\n    </tr>\n    <tr>\n      <th>384</th>\n      <td>1.781667e+06</td>\n      <td>1.512090e+06</td>\n      <td>1.141992</td>\n      <td>2.080154e+06</td>\n      <td>1.761415e+06</td>\n      <td>7.911783</td>\n      <td>1.803466e+06</td>\n      <td>1.920355e+06</td>\n      <td>22.903874</td>\n      <td>2.433385e+06</td>\n      <td>1.920715e+06</td>\n      <td>11.707926</td>\n    </tr>\n    <tr>\n      <th>192</th>\n      <td>1.781040e+06</td>\n      <td>1.511510e+06</td>\n      <td>1.160019</td>\n      <td>2.079200e+06</td>\n      <td>1.760514e+06</td>\n      <td>7.918288</td>\n      <td>1.803199e+06</td>\n      <td>1.920147e+06</td>\n      <td>22.904074</td>\n      <td>2.432659e+06</td>\n      <td>1.919993e+06</td>\n      <td>11.710755</td>\n    </tr>\n    <tr>\n      <th>96</th>\n      <td>1.779856e+06</td>\n      <td>1.510311e+06</td>\n      <td>1.189642</td>\n      <td>2.077196e+06</td>\n      <td>1.758636e+06</td>\n      <td>7.930053</td>\n      <td>1.802619e+06</td>\n      <td>1.919707e+06</td>\n      <td>22.904353</td>\n      <td>2.430984e+06</td>\n      <td>1.918393e+06</td>\n      <td>11.717164</td>\n    </tr>\n    <tr>\n      <th>48</th>\n      <td>1.777581e+06</td>\n      <td>1.508217e+06</td>\n      <td>1.226943</td>\n      <td>2.072722e+06</td>\n      <td>1.754415e+06</td>\n      <td>7.959053</td>\n      <td>1.801146e+06</td>\n      <td>1.918544e+06</td>\n      <td>22.905467</td>\n      <td>2.427405e+06</td>\n      <td>1.914943e+06</td>\n      <td>11.730650</td>\n    </tr>\n    <tr>\n      <th>24</th>\n      <td>1.771273e+06</td>\n      <td>1.502219e+06</td>\n      <td>1.374433</td>\n      <td>2.063231e+06</td>\n      <td>1.745557e+06</td>\n      <td>8.016581</td>\n      <td>1.798087e+06</td>\n      <td>1.916102e+06</td>\n      <td>22.908108</td>\n      <td>2.419387e+06</td>\n      <td>1.907246e+06</td>\n      <td>11.762039</td>\n    </tr>\n    <tr>\n      <th>12</th>\n      <td>1.759527e+06</td>\n      <td>1.490951e+06</td>\n      <td>1.538300</td>\n      <td>2.041085e+06</td>\n      <td>1.724909e+06</td>\n      <td>8.148785</td>\n      <td>1.789945e+06</td>\n      <td>1.909628e+06</td>\n      <td>22.915375</td>\n      <td>2.399986e+06</td>\n      <td>1.888622e+06</td>\n      <td>11.842136</td>\n    </tr>\n    <tr>\n      <th>6</th>\n      <td>1.736990e+06</td>\n      <td>1.467700e+06</td>\n      <td>1.600850</td>\n      <td>1.985406e+06</td>\n      <td>1.673575e+06</td>\n      <td>8.459311</td>\n      <td>1.766668e+06</td>\n      <td>1.889920e+06</td>\n      <td>22.937814</td>\n      <td>2.344958e+06</td>\n      <td>1.839915e+06</td>\n      <td>12.067655</td>\n    </tr>\n    <tr>\n      <th>3</th>\n      <td>1.685935e+06</td>\n      <td>1.413828e+06</td>\n      <td>1.318991</td>\n      <td>1.818896e+06</td>\n      <td>1.530549e+06</td>\n      <td>9.251512</td>\n      <td>1.663101e+06</td>\n      <td>1.804950e+06</td>\n      <td>23.122424</td>\n      <td>2.200707e+06</td>\n      <td>1.708544e+06</td>\n      <td>12.634450</td>\n    </tr>\n  </tbody>\n</table>\n</div>"
     },
     "metadata": {},
     "output_type": "display_data"
    },
    {
     "data": {
      "text/plain": "'test'"
     },
     "metadata": {},
     "output_type": "display_data"
    },
    {
     "data": {
      "text/plain": "     base_dispersion_positive  base_dispersion_negative  base_distance  \\\ndim                                                                      \n768              1.555449e+06              1.680930e+06       1.173917   \n576              1.556606e+06              1.682037e+06       1.100364   \n384              1.556409e+06              1.681852e+06       1.107525   \n192              1.556013e+06              1.681282e+06       1.115471   \n96               1.554800e+06              1.680074e+06       1.145750   \n48               1.552124e+06              1.677225e+06       1.220297   \n24               1.546479e+06              1.670641e+06       1.363173   \n12               1.535531e+06              1.657568e+06       1.551356   \n6                1.508335e+06              1.625345e+06       1.909222   \n3                1.471065e+06              1.563120e+06       1.532055   \n\n     textattack_dispersion_positive  textattack_dispersion_negative  \\\ndim                                                                   \n768                    1.854011e+06                    1.996711e+06   \n576                    1.854369e+06                    1.996996e+06   \n384                    1.854081e+06                    1.996713e+06   \n192                    1.853283e+06                    1.995866e+06   \n96                     1.851391e+06                    1.993884e+06   \n48                     1.847360e+06                    1.989571e+06   \n24                     1.838861e+06                    1.980605e+06   \n12                     1.819118e+06                    1.959699e+06   \n6                      1.769348e+06                    1.906282e+06   \n3                      1.620701e+06                    1.757998e+06   \n\n     textattack_distance  fabriceyhc_dispersion_positive  \\\ndim                                                        \n768             7.360264                    1.892527e+06   \n576             7.361293                    1.893023e+06   \n384             7.363674                    1.892957e+06   \n192             7.368602                    1.892713e+06   \n96              7.382469                    1.892192e+06   \n48              7.410671                    1.890933e+06   \n24              7.467608                    1.888090e+06   \n12              7.600142                    1.880559e+06   \n6               7.921906                    1.858032e+06   \n3               8.749805                    1.762150e+06   \n\n     fabriceyhc_dispersion_negative  fabriceyhc_distance  \\\ndim                                                        \n768                    2.477473e+06            20.314917   \n576                    2.477948e+06            20.315408   \n384                    2.477871e+06            20.315493   \n192                    2.477653e+06            20.315670   \n96                     2.477131e+06            20.316334   \n48                     2.476012e+06            20.317581   \n24                     2.473019e+06            20.320730   \n12                     2.465967e+06            20.329727   \n6                      2.443480e+06            20.361308   \n3                      2.352780e+06            20.590927   \n\n     wakaka_dispersion_positive  wakaka_dispersion_negative  wakaka_distance  \ndim                                                                           \n768                2.101408e+06                2.188378e+06        11.394895  \n576                2.101885e+06                2.188790e+06        11.397200  \n384                2.101656e+06                2.188540e+06        11.398204  \n192                2.100948e+06                2.187746e+06        11.401071  \n96                 2.099524e+06                2.186181e+06        11.405367  \n48                 2.096108e+06                2.182420e+06        11.420528  \n24                 2.088705e+06                2.174193e+06        11.452305  \n12                 2.070243e+06                2.154695e+06        11.532118  \n6                  2.023704e+06                2.104365e+06        11.734304  \n3                  1.893067e+06                1.967083e+06        12.306471  ",
      "text/html": "<div>\n<style scoped>\n    .dataframe tbody tr th:only-of-type {\n        vertical-align: middle;\n    }\n\n    .dataframe tbody tr th {\n        vertical-align: top;\n    }\n\n    .dataframe thead th {\n        text-align: right;\n    }\n</style>\n<table border=\"1\" class=\"dataframe\">\n  <thead>\n    <tr style=\"text-align: right;\">\n      <th></th>\n      <th>base_dispersion_positive</th>\n      <th>base_dispersion_negative</th>\n      <th>base_distance</th>\n      <th>textattack_dispersion_positive</th>\n      <th>textattack_dispersion_negative</th>\n      <th>textattack_distance</th>\n      <th>fabriceyhc_dispersion_positive</th>\n      <th>fabriceyhc_dispersion_negative</th>\n      <th>fabriceyhc_distance</th>\n      <th>wakaka_dispersion_positive</th>\n      <th>wakaka_dispersion_negative</th>\n      <th>wakaka_distance</th>\n    </tr>\n    <tr>\n      <th>dim</th>\n      <th></th>\n      <th></th>\n      <th></th>\n      <th></th>\n      <th></th>\n      <th></th>\n      <th></th>\n      <th></th>\n      <th></th>\n      <th></th>\n      <th></th>\n      <th></th>\n    </tr>\n  </thead>\n  <tbody>\n    <tr>\n      <th>768</th>\n      <td>1.555449e+06</td>\n      <td>1.680930e+06</td>\n      <td>1.173917</td>\n      <td>1.854011e+06</td>\n      <td>1.996711e+06</td>\n      <td>7.360264</td>\n      <td>1.892527e+06</td>\n      <td>2.477473e+06</td>\n      <td>20.314917</td>\n      <td>2.101408e+06</td>\n      <td>2.188378e+06</td>\n      <td>11.394895</td>\n    </tr>\n    <tr>\n      <th>576</th>\n      <td>1.556606e+06</td>\n      <td>1.682037e+06</td>\n      <td>1.100364</td>\n      <td>1.854369e+06</td>\n      <td>1.996996e+06</td>\n      <td>7.361293</td>\n      <td>1.893023e+06</td>\n      <td>2.477948e+06</td>\n      <td>20.315408</td>\n      <td>2.101885e+06</td>\n      <td>2.188790e+06</td>\n      <td>11.397200</td>\n    </tr>\n    <tr>\n      <th>384</th>\n      <td>1.556409e+06</td>\n      <td>1.681852e+06</td>\n      <td>1.107525</td>\n      <td>1.854081e+06</td>\n      <td>1.996713e+06</td>\n      <td>7.363674</td>\n      <td>1.892957e+06</td>\n      <td>2.477871e+06</td>\n      <td>20.315493</td>\n      <td>2.101656e+06</td>\n      <td>2.188540e+06</td>\n      <td>11.398204</td>\n    </tr>\n    <tr>\n      <th>192</th>\n      <td>1.556013e+06</td>\n      <td>1.681282e+06</td>\n      <td>1.115471</td>\n      <td>1.853283e+06</td>\n      <td>1.995866e+06</td>\n      <td>7.368602</td>\n      <td>1.892713e+06</td>\n      <td>2.477653e+06</td>\n      <td>20.315670</td>\n      <td>2.100948e+06</td>\n      <td>2.187746e+06</td>\n      <td>11.401071</td>\n    </tr>\n    <tr>\n      <th>96</th>\n      <td>1.554800e+06</td>\n      <td>1.680074e+06</td>\n      <td>1.145750</td>\n      <td>1.851391e+06</td>\n      <td>1.993884e+06</td>\n      <td>7.382469</td>\n      <td>1.892192e+06</td>\n      <td>2.477131e+06</td>\n      <td>20.316334</td>\n      <td>2.099524e+06</td>\n      <td>2.186181e+06</td>\n      <td>11.405367</td>\n    </tr>\n    <tr>\n      <th>48</th>\n      <td>1.552124e+06</td>\n      <td>1.677225e+06</td>\n      <td>1.220297</td>\n      <td>1.847360e+06</td>\n      <td>1.989571e+06</td>\n      <td>7.410671</td>\n      <td>1.890933e+06</td>\n      <td>2.476012e+06</td>\n      <td>20.317581</td>\n      <td>2.096108e+06</td>\n      <td>2.182420e+06</td>\n      <td>11.420528</td>\n    </tr>\n    <tr>\n      <th>24</th>\n      <td>1.546479e+06</td>\n      <td>1.670641e+06</td>\n      <td>1.363173</td>\n      <td>1.838861e+06</td>\n      <td>1.980605e+06</td>\n      <td>7.467608</td>\n      <td>1.888090e+06</td>\n      <td>2.473019e+06</td>\n      <td>20.320730</td>\n      <td>2.088705e+06</td>\n      <td>2.174193e+06</td>\n      <td>11.452305</td>\n    </tr>\n    <tr>\n      <th>12</th>\n      <td>1.535531e+06</td>\n      <td>1.657568e+06</td>\n      <td>1.551356</td>\n      <td>1.819118e+06</td>\n      <td>1.959699e+06</td>\n      <td>7.600142</td>\n      <td>1.880559e+06</td>\n      <td>2.465967e+06</td>\n      <td>20.329727</td>\n      <td>2.070243e+06</td>\n      <td>2.154695e+06</td>\n      <td>11.532118</td>\n    </tr>\n    <tr>\n      <th>6</th>\n      <td>1.508335e+06</td>\n      <td>1.625345e+06</td>\n      <td>1.909222</td>\n      <td>1.769348e+06</td>\n      <td>1.906282e+06</td>\n      <td>7.921906</td>\n      <td>1.858032e+06</td>\n      <td>2.443480e+06</td>\n      <td>20.361308</td>\n      <td>2.023704e+06</td>\n      <td>2.104365e+06</td>\n      <td>11.734304</td>\n    </tr>\n    <tr>\n      <th>3</th>\n      <td>1.471065e+06</td>\n      <td>1.563120e+06</td>\n      <td>1.532055</td>\n      <td>1.620701e+06</td>\n      <td>1.757998e+06</td>\n      <td>8.749805</td>\n      <td>1.762150e+06</td>\n      <td>2.352780e+06</td>\n      <td>20.590927</td>\n      <td>1.893067e+06</td>\n      <td>1.967083e+06</td>\n      <td>12.306471</td>\n    </tr>\n  </tbody>\n</table>\n</div>"
     },
     "metadata": {},
     "output_type": "display_data"
    }
   ],
   "source": [
    "for label, data in analysis.items():\n",
    "    display(label, data)"
   ],
   "metadata": {
    "collapsed": false,
    "pycharm": {
     "name": "#%%\n"
    }
   }
  },
  {
   "cell_type": "code",
   "execution_count": 22,
   "outputs": [],
   "source": [
    "### Calculate Centroid Distance and Cluster Dispersion"
   ],
   "metadata": {
    "collapsed": false,
    "pycharm": {
     "name": "#%%\n"
    }
   }
  },
  {
   "cell_type": "code",
   "execution_count": 39,
   "outputs": [],
   "source": [
    "distances: dict = {\n",
    "    label: (\n",
    "        data\n",
    "        .filter(regex=\".*_distance\")\n",
    "        .describe()\n",
    "        .T\n",
    "        .set_index(pd.Index(MODELS))\n",
    "    )\n",
    "    for label, data in analysis.items()\n",
    "}"
   ],
   "metadata": {
    "collapsed": false,
    "pycharm": {
     "name": "#%%\n"
    }
   }
  },
  {
   "cell_type": "code",
   "execution_count": 44,
   "outputs": [
    {
     "data": {
      "text/plain": "              mean    std     min     max\nbase         1.291  0.165   1.142   1.601\ntextattack   8.141  0.427   7.908   9.252\nfabriceyhc  22.931  0.068  22.904  23.122\nwakaka      11.858  0.295  11.704  12.634",
      "text/html": "<div>\n<style scoped>\n    .dataframe tbody tr th:only-of-type {\n        vertical-align: middle;\n    }\n\n    .dataframe tbody tr th {\n        vertical-align: top;\n    }\n\n    .dataframe thead th {\n        text-align: right;\n    }\n</style>\n<table border=\"1\" class=\"dataframe\">\n  <thead>\n    <tr style=\"text-align: right;\">\n      <th></th>\n      <th>mean</th>\n      <th>std</th>\n      <th>min</th>\n      <th>max</th>\n    </tr>\n  </thead>\n  <tbody>\n    <tr>\n      <th>base</th>\n      <td>1.291</td>\n      <td>0.165</td>\n      <td>1.142</td>\n      <td>1.601</td>\n    </tr>\n    <tr>\n      <th>textattack</th>\n      <td>8.141</td>\n      <td>0.427</td>\n      <td>7.908</td>\n      <td>9.252</td>\n    </tr>\n    <tr>\n      <th>fabriceyhc</th>\n      <td>22.931</td>\n      <td>0.068</td>\n      <td>22.904</td>\n      <td>23.122</td>\n    </tr>\n    <tr>\n      <th>wakaka</th>\n      <td>11.858</td>\n      <td>0.295</td>\n      <td>11.704</td>\n      <td>12.634</td>\n    </tr>\n  </tbody>\n</table>\n</div>"
     },
     "metadata": {},
     "output_type": "display_data"
    },
    {
     "data": {
      "text/plain": "              mean    std     min     max\nbase         1.322  0.268   1.100   1.909\ntextattack   7.599  0.441   7.360   8.750\nfabriceyhc  20.350  0.086  20.315  20.591\nwakaka      11.544  0.288  11.395  12.306",
      "text/html": "<div>\n<style scoped>\n    .dataframe tbody tr th:only-of-type {\n        vertical-align: middle;\n    }\n\n    .dataframe tbody tr th {\n        vertical-align: top;\n    }\n\n    .dataframe thead th {\n        text-align: right;\n    }\n</style>\n<table border=\"1\" class=\"dataframe\">\n  <thead>\n    <tr style=\"text-align: right;\">\n      <th></th>\n      <th>mean</th>\n      <th>std</th>\n      <th>min</th>\n      <th>max</th>\n    </tr>\n  </thead>\n  <tbody>\n    <tr>\n      <th>base</th>\n      <td>1.322</td>\n      <td>0.268</td>\n      <td>1.100</td>\n      <td>1.909</td>\n    </tr>\n    <tr>\n      <th>textattack</th>\n      <td>7.599</td>\n      <td>0.441</td>\n      <td>7.360</td>\n      <td>8.750</td>\n    </tr>\n    <tr>\n      <th>fabriceyhc</th>\n      <td>20.350</td>\n      <td>0.086</td>\n      <td>20.315</td>\n      <td>20.591</td>\n    </tr>\n    <tr>\n      <th>wakaka</th>\n      <td>11.544</td>\n      <td>0.288</td>\n      <td>11.395</td>\n      <td>12.306</td>\n    </tr>\n  </tbody>\n</table>\n</div>"
     },
     "metadata": {},
     "output_type": "display_data"
    }
   ],
   "source": [
    "for label, data in distances.items():\n",
    "    formatted: pd.DataFrame = (\n",
    "        data\n",
    "        [['mean', 'std', 'min', 'max']]\n",
    "        .round(3)\n",
    "    )\n",
    "    formatted.to_csv(f'{IN_OUT_PATH}/{label}.metric.distance.csv')\n",
    "    formatted.style.to_latex(f'{IN_OUT_PATH}/{label}.metric.distance.tex')\n",
    "    display(formatted)"
   ],
   "metadata": {
    "collapsed": false,
    "pycharm": {
     "name": "#%%\n"
    }
   }
  },
  {
   "cell_type": "code",
   "execution_count": 36,
   "outputs": [],
   "source": [
    "dispersion: dict = {\n",
    "    label: (\n",
    "        data\n",
    "        .filter(regex=\".*_dispersion\")\n",
    "        .describe()\n",
    "        .T\n",
    "        .set_index(\n",
    "        pd.MultiIndex.from_tuples(\n",
    "            [\n",
    "                (model, group)\n",
    "                for model in MODELS\n",
    "                for group in ['positive', 'negative']\n",
    "            ],\n",
    "            names=[\"model\", \"group\"]\n",
    "        )\n",
    "    )\n",
    "    )\n",
    "    for label, data in analysis.items()\n",
    "}"
   ],
   "metadata": {
    "collapsed": false,
    "pycharm": {
     "name": "#%%\n"
    }
   }
  },
  {
   "cell_type": "code",
   "execution_count": 45,
   "outputs": [
    {
     "data": {
      "text/plain": "                            mean        std          min          max\nmodel      group                                                     \nbase       positive  1763616.291  30771.944  1685935.016  1781744.939\n           negative  1494005.327  31480.529  1413827.903  1512163.912\ntextattack positive  2037840.566  82466.204  1818896.488  2080429.762\n           negative  1723265.419  73107.817  1530549.165  1761678.339\nfabriceyhc positive  1783488.416  43822.017  1663101.483  1803554.979\n           negative  1903969.829  36050.712  1804950.236  1920438.258\nwakaka     positive  2395620.535  73824.318  2200707.212  2433625.922\n           negative  1885994.188  67280.923  1708543.976  1920946.152",
      "text/html": "<div>\n<style scoped>\n    .dataframe tbody tr th:only-of-type {\n        vertical-align: middle;\n    }\n\n    .dataframe tbody tr th {\n        vertical-align: top;\n    }\n\n    .dataframe thead th {\n        text-align: right;\n    }\n</style>\n<table border=\"1\" class=\"dataframe\">\n  <thead>\n    <tr style=\"text-align: right;\">\n      <th></th>\n      <th></th>\n      <th>mean</th>\n      <th>std</th>\n      <th>min</th>\n      <th>max</th>\n    </tr>\n    <tr>\n      <th>model</th>\n      <th>group</th>\n      <th></th>\n      <th></th>\n      <th></th>\n      <th></th>\n    </tr>\n  </thead>\n  <tbody>\n    <tr>\n      <th rowspan=\"2\" valign=\"top\">base</th>\n      <th>positive</th>\n      <td>1763616.291</td>\n      <td>30771.944</td>\n      <td>1685935.016</td>\n      <td>1781744.939</td>\n    </tr>\n    <tr>\n      <th>negative</th>\n      <td>1494005.327</td>\n      <td>31480.529</td>\n      <td>1413827.903</td>\n      <td>1512163.912</td>\n    </tr>\n    <tr>\n      <th rowspan=\"2\" valign=\"top\">textattack</th>\n      <th>positive</th>\n      <td>2037840.566</td>\n      <td>82466.204</td>\n      <td>1818896.488</td>\n      <td>2080429.762</td>\n    </tr>\n    <tr>\n      <th>negative</th>\n      <td>1723265.419</td>\n      <td>73107.817</td>\n      <td>1530549.165</td>\n      <td>1761678.339</td>\n    </tr>\n    <tr>\n      <th rowspan=\"2\" valign=\"top\">fabriceyhc</th>\n      <th>positive</th>\n      <td>1783488.416</td>\n      <td>43822.017</td>\n      <td>1663101.483</td>\n      <td>1803554.979</td>\n    </tr>\n    <tr>\n      <th>negative</th>\n      <td>1903969.829</td>\n      <td>36050.712</td>\n      <td>1804950.236</td>\n      <td>1920438.258</td>\n    </tr>\n    <tr>\n      <th rowspan=\"2\" valign=\"top\">wakaka</th>\n      <th>positive</th>\n      <td>2395620.535</td>\n      <td>73824.318</td>\n      <td>2200707.212</td>\n      <td>2433625.922</td>\n    </tr>\n    <tr>\n      <th>negative</th>\n      <td>1885994.188</td>\n      <td>67280.923</td>\n      <td>1708543.976</td>\n      <td>1920946.152</td>\n    </tr>\n  </tbody>\n</table>\n</div>"
     },
     "metadata": {},
     "output_type": "display_data"
    },
    {
     "data": {
      "text/plain": "                            mean        std          min          max\nmodel      group                                                     \nbase       positive  1539281.126  28319.009  1471064.709  1556606.398\n           negative  1660007.339  38383.486  1563120.028  1682037.126\ntextattack positive  1816252.355  73668.217  1620700.940  1854369.286\n           negative  1957432.475  75588.442  1757997.866  1996995.722\nfabriceyhc positive  1874317.632  40876.879  1762150.126  1893022.986\n           negative  2459933.380  39132.922  2352779.732  2477948.347\nwakaka     positive  2067724.935  66049.861  1893066.607  2101885.356\n           negative  2152239.194  70195.034  1967083.285  2188790.102",
      "text/html": "<div>\n<style scoped>\n    .dataframe tbody tr th:only-of-type {\n        vertical-align: middle;\n    }\n\n    .dataframe tbody tr th {\n        vertical-align: top;\n    }\n\n    .dataframe thead th {\n        text-align: right;\n    }\n</style>\n<table border=\"1\" class=\"dataframe\">\n  <thead>\n    <tr style=\"text-align: right;\">\n      <th></th>\n      <th></th>\n      <th>mean</th>\n      <th>std</th>\n      <th>min</th>\n      <th>max</th>\n    </tr>\n    <tr>\n      <th>model</th>\n      <th>group</th>\n      <th></th>\n      <th></th>\n      <th></th>\n      <th></th>\n    </tr>\n  </thead>\n  <tbody>\n    <tr>\n      <th rowspan=\"2\" valign=\"top\">base</th>\n      <th>positive</th>\n      <td>1539281.126</td>\n      <td>28319.009</td>\n      <td>1471064.709</td>\n      <td>1556606.398</td>\n    </tr>\n    <tr>\n      <th>negative</th>\n      <td>1660007.339</td>\n      <td>38383.486</td>\n      <td>1563120.028</td>\n      <td>1682037.126</td>\n    </tr>\n    <tr>\n      <th rowspan=\"2\" valign=\"top\">textattack</th>\n      <th>positive</th>\n      <td>1816252.355</td>\n      <td>73668.217</td>\n      <td>1620700.940</td>\n      <td>1854369.286</td>\n    </tr>\n    <tr>\n      <th>negative</th>\n      <td>1957432.475</td>\n      <td>75588.442</td>\n      <td>1757997.866</td>\n      <td>1996995.722</td>\n    </tr>\n    <tr>\n      <th rowspan=\"2\" valign=\"top\">fabriceyhc</th>\n      <th>positive</th>\n      <td>1874317.632</td>\n      <td>40876.879</td>\n      <td>1762150.126</td>\n      <td>1893022.986</td>\n    </tr>\n    <tr>\n      <th>negative</th>\n      <td>2459933.380</td>\n      <td>39132.922</td>\n      <td>2352779.732</td>\n      <td>2477948.347</td>\n    </tr>\n    <tr>\n      <th rowspan=\"2\" valign=\"top\">wakaka</th>\n      <th>positive</th>\n      <td>2067724.935</td>\n      <td>66049.861</td>\n      <td>1893066.607</td>\n      <td>2101885.356</td>\n    </tr>\n    <tr>\n      <th>negative</th>\n      <td>2152239.194</td>\n      <td>70195.034</td>\n      <td>1967083.285</td>\n      <td>2188790.102</td>\n    </tr>\n  </tbody>\n</table>\n</div>"
     },
     "metadata": {},
     "output_type": "display_data"
    }
   ],
   "source": [
    "for label, data in dispersion.items():\n",
    "    formatted: pd.DataFrame = (\n",
    "        data\n",
    "        [['mean', 'std', 'min', 'max']]\n",
    "        .round(3)\n",
    "    )\n",
    "    formatted.to_csv(f'{IN_OUT_PATH}/{label}.metric.dispersion.csv')\n",
    "    formatted.style.to_latex(f'{IN_OUT_PATH}/{label}.metric.dispersion.tex')\n",
    "    display(formatted)"
   ],
   "metadata": {
    "collapsed": false,
    "pycharm": {
     "name": "#%%\n"
    }
   }
  }
 ],
 "metadata": {
  "kernelspec": {
   "display_name": "Python 3",
   "language": "python",
   "name": "python3"
  },
  "language_info": {
   "codemirror_mode": {
    "name": "ipython",
    "version": 3
   },
   "file_extension": ".py",
   "mimetype": "text/x-python",
   "name": "python",
   "nbconvert_exporter": "python",
   "pygments_lexer": "ipython3",
   "version": "3.8.5"
  }
 },
 "nbformat": 4,
 "nbformat_minor": 0
}