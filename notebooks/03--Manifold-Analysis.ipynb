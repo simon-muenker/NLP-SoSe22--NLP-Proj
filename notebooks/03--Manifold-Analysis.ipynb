{
 "cells": [
  {
   "cell_type": "code",
   "execution_count": 65,
   "metadata": {
    "collapsed": false,
    "execution": {
     "iopub.execute_input": "2022-09-14T16:38:43.615155Z",
     "iopub.status.busy": "2022-09-14T16:38:43.614404Z",
     "iopub.status.idle": "2022-09-14T16:38:44.265860Z",
     "shell.execute_reply": "2022-09-14T16:38:44.265001Z"
    },
    "pycharm": {
     "name": "#%%\n"
    }
   },
   "outputs": [],
   "source": [
    "import matplotlib.pyplot as plt\n",
    "\n",
    "%matplotlib inline\n",
    "plt.rcParams[\"figure.figsize\"] = (12, 16)"
   ]
  },
  {
   "cell_type": "code",
   "execution_count": 66,
   "metadata": {
    "collapsed": false,
    "execution": {
     "iopub.execute_input": "2022-09-14T16:38:44.270547Z",
     "iopub.status.busy": "2022-09-14T16:38:44.270125Z",
     "iopub.status.idle": "2022-09-14T16:38:44.521560Z",
     "shell.execute_reply": "2022-09-14T16:38:44.520631Z"
    },
    "pycharm": {
     "name": "#%%\n"
    }
   },
   "outputs": [],
   "source": [
    "import pandas as pd"
   ]
  },
  {
   "cell_type": "code",
   "execution_count": 67,
   "metadata": {
    "collapsed": false,
    "execution": {
     "iopub.execute_input": "2022-09-14T16:38:44.526640Z",
     "iopub.status.busy": "2022-09-14T16:38:44.526207Z",
     "iopub.status.idle": "2022-09-14T16:38:44.530585Z",
     "shell.execute_reply": "2022-09-14T16:38:44.529748Z"
    },
    "pycharm": {
     "name": "#%%\n"
    }
   },
   "outputs": [],
   "source": [
    "IN_PATH: str = '../results/manifolds/raw'\n",
    "OUT_PATH: str = '../results/manifolds'"
   ]
  },
  {
   "cell_type": "code",
   "execution_count": 68,
   "metadata": {
    "collapsed": false,
    "execution": {
     "iopub.execute_input": "2022-09-14T16:38:44.535640Z",
     "iopub.status.busy": "2022-09-14T16:38:44.535268Z",
     "iopub.status.idle": "2022-09-14T16:38:44.539852Z",
     "shell.execute_reply": "2022-09-14T16:38:44.538934Z"
    },
    "pycharm": {
     "name": "#%%\n"
    }
   },
   "outputs": [],
   "source": [
    "DATASETS: list = ['train', 'test']"
   ]
  },
  {
   "cell_type": "code",
   "execution_count": 69,
   "metadata": {
    "collapsed": false,
    "execution": {
     "iopub.execute_input": "2022-09-14T16:38:44.542706Z",
     "iopub.status.busy": "2022-09-14T16:38:44.542289Z",
     "iopub.status.idle": "2022-09-14T16:38:44.547024Z",
     "shell.execute_reply": "2022-09-14T16:38:44.546075Z"
    },
    "pycharm": {
     "name": "#%%\n"
    }
   },
   "outputs": [],
   "source": [
    "MODELS: list = [ 'base', 'textattack', 'fabriceyhc', 'wakaka']"
   ]
  },
  {
   "cell_type": "code",
   "execution_count": 70,
   "metadata": {
    "collapsed": false,
    "execution": {
     "iopub.execute_input": "2022-09-14T16:38:44.550724Z",
     "iopub.status.busy": "2022-09-14T16:38:44.550349Z",
     "iopub.status.idle": "2022-09-14T16:38:44.555220Z",
     "shell.execute_reply": "2022-09-14T16:38:44.554208Z"
    },
    "pycharm": {
     "name": "#%%\n"
    }
   },
   "outputs": [],
   "source": [
    "COLS_OF_INTEREST: list = ['mean', 'std', 'min', 'max']"
   ]
  },
  {
   "cell_type": "code",
   "execution_count": 71,
   "metadata": {
    "collapsed": false,
    "execution": {
     "iopub.execute_input": "2022-09-14T16:38:44.559449Z",
     "iopub.status.busy": "2022-09-14T16:38:44.559057Z",
     "iopub.status.idle": "2022-09-14T16:38:44.562934Z",
     "shell.execute_reply": "2022-09-14T16:38:44.562068Z"
    },
    "pycharm": {
     "name": "#%%\n"
    }
   },
   "outputs": [],
   "source": [
    "### Load Datasets into memory"
   ]
  },
  {
   "cell_type": "code",
   "execution_count": 72,
   "metadata": {
    "collapsed": false,
    "execution": {
     "iopub.execute_input": "2022-09-14T16:38:44.566920Z",
     "iopub.status.busy": "2022-09-14T16:38:44.566456Z",
     "iopub.status.idle": "2022-09-14T16:38:44.572960Z",
     "shell.execute_reply": "2022-09-14T16:38:44.571958Z"
    },
    "pycharm": {
     "name": "#%%\n"
    }
   },
   "outputs": [],
   "source": [
    "def convert_to_multi_col(df:pd.DataFrame, meta_col: str) -> pd.DataFrame:\n",
    "    df.columns = pd.MultiIndex.from_product([[meta_col], df.columns], names=['model', 'metrics'])\n",
    "\n",
    "    return df"
   ]
  },
  {
   "cell_type": "code",
   "execution_count": 73,
   "metadata": {
    "collapsed": false,
    "execution": {
     "iopub.execute_input": "2022-09-14T16:38:44.576463Z",
     "iopub.status.busy": "2022-09-14T16:38:44.576128Z",
     "iopub.status.idle": "2022-09-14T16:38:44.606954Z",
     "shell.execute_reply": "2022-09-14T16:38:44.605956Z"
    },
    "pycharm": {
     "name": "#%%\n"
    }
   },
   "outputs": [],
   "source": [
    "analysis: dict = {\n",
    "    data: pd.concat(\n",
    "        [(\n",
    "            pd\n",
    "            .read_csv(f'{IN_PATH}/{data}.{model}.csv', index_col=0)\n",
    "            .set_index(['dim'])\n",
    "            .pipe(convert_to_multi_col, model)\n",
    "        )\n",
    "            for model in MODELS],\n",
    "        axis=1)\n",
    "    for data in DATASETS\n",
    "}"
   ]
  },
  {
   "cell_type": "code",
   "execution_count": 74,
   "metadata": {
    "collapsed": false,
    "execution": {
     "iopub.execute_input": "2022-09-14T16:38:44.638638Z",
     "iopub.status.busy": "2022-09-14T16:38:44.638044Z",
     "iopub.status.idle": "2022-09-14T16:38:44.683728Z",
     "shell.execute_reply": "2022-09-14T16:38:44.682867Z"
    },
    "pycharm": {
     "name": "#%%\n"
    }
   },
   "outputs": [
    {
     "data": {
      "text/plain": "'train'"
     },
     "metadata": {},
     "output_type": "display_data"
    },
    {
     "data": {
      "text/plain": "model                  base                                        textattack  \\\nmetrics dispersion_positive dispersion_negative  distance dispersion_positive   \ndim                                                                             \n768            1.643370e+06        1.591676e+06  1.259246        1.915401e+06   \n576            1.644534e+06        1.592719e+06  1.194103        1.915778e+06   \n384            1.644351e+06        1.592551e+06  1.199964        1.915490e+06   \n192            1.643708e+06        1.591911e+06  1.219327        1.914635e+06   \n96             1.642579e+06        1.590627e+06  1.246506        1.912659e+06   \n48             1.640233e+06        1.588034e+06  1.293415        1.908444e+06   \n24             1.634228e+06        1.581408e+06  1.443938        1.899243e+06   \n12             1.622289e+06        1.568095e+06  1.648988        1.878269e+06   \n6              1.599161e+06        1.537979e+06  1.852708        1.824655e+06   \n3              1.561676e+06        1.476522e+06  1.520903        1.672867e+06   \n\nmodel                                          fabriceyhc                      \\\nmetrics dispersion_negative  distance dispersion_positive dispersion_negative   \ndim                                                                             \n768            1.867103e+06  7.820493        1.628460e+06        2.056547e+06   \n576            1.867371e+06  7.822215        1.628916e+06        2.057076e+06   \n384            1.867085e+06  7.824227        1.628829e+06        2.057008e+06   \n192            1.866176e+06  7.829552        1.628542e+06        2.056760e+06   \n96             1.864185e+06  7.843067        1.627981e+06        2.056267e+06   \n48             1.859759e+06  7.871172        1.626742e+06        2.055172e+06   \n24             1.850124e+06  7.931141        1.623751e+06        2.052485e+06   \n12             1.828336e+06  8.063804        1.616275e+06        2.045783e+06   \n6              1.774034e+06  8.383164        1.594092e+06        2.024674e+06   \n3              1.627430e+06  9.144963        1.492467e+06        1.945725e+06   \n\nmodel                           wakaka                                 \nmetrics   distance dispersion_positive dispersion_negative   distance  \ndim                                                                    \n768      22.864886        2.296890e+06        2.062966e+06  11.483087  \n576      22.865054        2.297310e+06        2.063295e+06  11.485725  \n384      22.865054        2.297080e+06        2.063062e+06  11.486758  \n192      22.865390        2.296474e+06        2.062360e+06  11.488441  \n96       22.865806        2.294904e+06        2.060776e+06  11.494536  \n48       22.866762        2.291651e+06        2.057314e+06  11.506000  \n24       22.869183        2.284118e+06        2.049246e+06  11.537372  \n12       22.876083        2.266485e+06        2.030528e+06  11.608496  \n6        22.898670        2.218734e+06        1.980252e+06  11.813304  \n3        23.058022        2.088940e+06        1.840697e+06  12.382923  ",
      "text/html": "<div>\n<style scoped>\n    .dataframe tbody tr th:only-of-type {\n        vertical-align: middle;\n    }\n\n    .dataframe tbody tr th {\n        vertical-align: top;\n    }\n\n    .dataframe thead tr th {\n        text-align: left;\n    }\n\n    .dataframe thead tr:last-of-type th {\n        text-align: right;\n    }\n</style>\n<table border=\"1\" class=\"dataframe\">\n  <thead>\n    <tr>\n      <th>model</th>\n      <th colspan=\"3\" halign=\"left\">base</th>\n      <th colspan=\"3\" halign=\"left\">textattack</th>\n      <th colspan=\"3\" halign=\"left\">fabriceyhc</th>\n      <th colspan=\"3\" halign=\"left\">wakaka</th>\n    </tr>\n    <tr>\n      <th>metrics</th>\n      <th>dispersion_positive</th>\n      <th>dispersion_negative</th>\n      <th>distance</th>\n      <th>dispersion_positive</th>\n      <th>dispersion_negative</th>\n      <th>distance</th>\n      <th>dispersion_positive</th>\n      <th>dispersion_negative</th>\n      <th>distance</th>\n      <th>dispersion_positive</th>\n      <th>dispersion_negative</th>\n      <th>distance</th>\n    </tr>\n    <tr>\n      <th>dim</th>\n      <th></th>\n      <th></th>\n      <th></th>\n      <th></th>\n      <th></th>\n      <th></th>\n      <th></th>\n      <th></th>\n      <th></th>\n      <th></th>\n      <th></th>\n      <th></th>\n    </tr>\n  </thead>\n  <tbody>\n    <tr>\n      <th>768</th>\n      <td>1.643370e+06</td>\n      <td>1.591676e+06</td>\n      <td>1.259246</td>\n      <td>1.915401e+06</td>\n      <td>1.867103e+06</td>\n      <td>7.820493</td>\n      <td>1.628460e+06</td>\n      <td>2.056547e+06</td>\n      <td>22.864886</td>\n      <td>2.296890e+06</td>\n      <td>2.062966e+06</td>\n      <td>11.483087</td>\n    </tr>\n    <tr>\n      <th>576</th>\n      <td>1.644534e+06</td>\n      <td>1.592719e+06</td>\n      <td>1.194103</td>\n      <td>1.915778e+06</td>\n      <td>1.867371e+06</td>\n      <td>7.822215</td>\n      <td>1.628916e+06</td>\n      <td>2.057076e+06</td>\n      <td>22.865054</td>\n      <td>2.297310e+06</td>\n      <td>2.063295e+06</td>\n      <td>11.485725</td>\n    </tr>\n    <tr>\n      <th>384</th>\n      <td>1.644351e+06</td>\n      <td>1.592551e+06</td>\n      <td>1.199964</td>\n      <td>1.915490e+06</td>\n      <td>1.867085e+06</td>\n      <td>7.824227</td>\n      <td>1.628829e+06</td>\n      <td>2.057008e+06</td>\n      <td>22.865054</td>\n      <td>2.297080e+06</td>\n      <td>2.063062e+06</td>\n      <td>11.486758</td>\n    </tr>\n    <tr>\n      <th>192</th>\n      <td>1.643708e+06</td>\n      <td>1.591911e+06</td>\n      <td>1.219327</td>\n      <td>1.914635e+06</td>\n      <td>1.866176e+06</td>\n      <td>7.829552</td>\n      <td>1.628542e+06</td>\n      <td>2.056760e+06</td>\n      <td>22.865390</td>\n      <td>2.296474e+06</td>\n      <td>2.062360e+06</td>\n      <td>11.488441</td>\n    </tr>\n    <tr>\n      <th>96</th>\n      <td>1.642579e+06</td>\n      <td>1.590627e+06</td>\n      <td>1.246506</td>\n      <td>1.912659e+06</td>\n      <td>1.864185e+06</td>\n      <td>7.843067</td>\n      <td>1.627981e+06</td>\n      <td>2.056267e+06</td>\n      <td>22.865806</td>\n      <td>2.294904e+06</td>\n      <td>2.060776e+06</td>\n      <td>11.494536</td>\n    </tr>\n    <tr>\n      <th>48</th>\n      <td>1.640233e+06</td>\n      <td>1.588034e+06</td>\n      <td>1.293415</td>\n      <td>1.908444e+06</td>\n      <td>1.859759e+06</td>\n      <td>7.871172</td>\n      <td>1.626742e+06</td>\n      <td>2.055172e+06</td>\n      <td>22.866762</td>\n      <td>2.291651e+06</td>\n      <td>2.057314e+06</td>\n      <td>11.506000</td>\n    </tr>\n    <tr>\n      <th>24</th>\n      <td>1.634228e+06</td>\n      <td>1.581408e+06</td>\n      <td>1.443938</td>\n      <td>1.899243e+06</td>\n      <td>1.850124e+06</td>\n      <td>7.931141</td>\n      <td>1.623751e+06</td>\n      <td>2.052485e+06</td>\n      <td>22.869183</td>\n      <td>2.284118e+06</td>\n      <td>2.049246e+06</td>\n      <td>11.537372</td>\n    </tr>\n    <tr>\n      <th>12</th>\n      <td>1.622289e+06</td>\n      <td>1.568095e+06</td>\n      <td>1.648988</td>\n      <td>1.878269e+06</td>\n      <td>1.828336e+06</td>\n      <td>8.063804</td>\n      <td>1.616275e+06</td>\n      <td>2.045783e+06</td>\n      <td>22.876083</td>\n      <td>2.266485e+06</td>\n      <td>2.030528e+06</td>\n      <td>11.608496</td>\n    </tr>\n    <tr>\n      <th>6</th>\n      <td>1.599161e+06</td>\n      <td>1.537979e+06</td>\n      <td>1.852708</td>\n      <td>1.824655e+06</td>\n      <td>1.774034e+06</td>\n      <td>8.383164</td>\n      <td>1.594092e+06</td>\n      <td>2.024674e+06</td>\n      <td>22.898670</td>\n      <td>2.218734e+06</td>\n      <td>1.980252e+06</td>\n      <td>11.813304</td>\n    </tr>\n    <tr>\n      <th>3</th>\n      <td>1.561676e+06</td>\n      <td>1.476522e+06</td>\n      <td>1.520903</td>\n      <td>1.672867e+06</td>\n      <td>1.627430e+06</td>\n      <td>9.144963</td>\n      <td>1.492467e+06</td>\n      <td>1.945725e+06</td>\n      <td>23.058022</td>\n      <td>2.088940e+06</td>\n      <td>1.840697e+06</td>\n      <td>12.382923</td>\n    </tr>\n  </tbody>\n</table>\n</div>"
     },
     "metadata": {},
     "output_type": "display_data"
    },
    {
     "data": {
      "text/plain": "'test'"
     },
     "metadata": {},
     "output_type": "display_data"
    },
    {
     "data": {
      "text/plain": "model                  base                                        textattack  \\\nmetrics dispersion_positive dispersion_negative  distance dispersion_positive   \ndim                                                                             \n768            1.507873e+06        1.702410e+06  1.229414        1.786823e+06   \n576            1.509076e+06        1.703589e+06  1.156741        1.787146e+06   \n384            1.508934e+06        1.703403e+06  1.158986        1.786892e+06   \n192            1.508509e+06        1.702874e+06  1.169901        1.786042e+06   \n96             1.507134e+06        1.701512e+06  1.213615        1.784244e+06   \n48             1.504606e+06        1.698812e+06  1.272759        1.780371e+06   \n24             1.499124e+06        1.692158e+06  1.409630        1.771795e+06   \n12             1.489605e+06        1.680789e+06  1.508193        1.752307e+06   \n6              1.482086e+06        1.662280e+06  0.950279        1.702880e+06   \n3              1.434469e+06        1.588580e+06  1.229867        1.560394e+06   \n\nmodel                                          fabriceyhc                      \\\nmetrics dispersion_negative  distance dispersion_positive dispersion_negative   \ndim                                                                             \n768            2.042893e+06  7.312816        1.833460e+06        2.608884e+06   \n576            2.043185e+06  7.314414        1.833902e+06        2.609408e+06   \n384            2.042884e+06  7.316451        1.833828e+06        2.609366e+06   \n192            2.041993e+06  7.322656        1.833563e+06        2.609061e+06   \n96             2.040015e+06  7.335378        1.832996e+06        2.608601e+06   \n48             2.035766e+06  7.362444        1.831810e+06        2.607396e+06   \n24             2.026320e+06  7.423075        1.828797e+06        2.604430e+06   \n12             2.004841e+06  7.558836        1.821511e+06        2.597674e+06   \n6              1.950692e+06  7.878849        1.799080e+06        2.574212e+06   \n3              1.799460e+06  8.708559        1.706871e+06        2.483648e+06   \n\nmodel                           wakaka                                 \nmetrics   distance dispersion_positive dispersion_negative   distance  \ndim                                                                    \n768      19.964325        2.091581e+06        2.231614e+06  11.398275  \n576      19.964686        2.092026e+06        2.231988e+06  11.401153  \n384      19.964686        2.091831e+06        2.231784e+06  11.401629  \n192      19.965168        2.091119e+06        2.230950e+06  11.405117  \n96       19.965624        2.089732e+06        2.229337e+06  11.409593  \n48       19.966653        2.086472e+06        2.225610e+06  11.423860  \n24       19.970807        2.079016e+06        2.217130e+06  11.455494  \n12       19.978293        2.060904e+06        2.196837e+06  11.539209  \n6        20.011916        2.013277e+06        2.144489e+06  11.756336  \n3        20.243306        1.887557e+06        1.995884e+06  12.355372  ",
      "text/html": "<div>\n<style scoped>\n    .dataframe tbody tr th:only-of-type {\n        vertical-align: middle;\n    }\n\n    .dataframe tbody tr th {\n        vertical-align: top;\n    }\n\n    .dataframe thead tr th {\n        text-align: left;\n    }\n\n    .dataframe thead tr:last-of-type th {\n        text-align: right;\n    }\n</style>\n<table border=\"1\" class=\"dataframe\">\n  <thead>\n    <tr>\n      <th>model</th>\n      <th colspan=\"3\" halign=\"left\">base</th>\n      <th colspan=\"3\" halign=\"left\">textattack</th>\n      <th colspan=\"3\" halign=\"left\">fabriceyhc</th>\n      <th colspan=\"3\" halign=\"left\">wakaka</th>\n    </tr>\n    <tr>\n      <th>metrics</th>\n      <th>dispersion_positive</th>\n      <th>dispersion_negative</th>\n      <th>distance</th>\n      <th>dispersion_positive</th>\n      <th>dispersion_negative</th>\n      <th>distance</th>\n      <th>dispersion_positive</th>\n      <th>dispersion_negative</th>\n      <th>distance</th>\n      <th>dispersion_positive</th>\n      <th>dispersion_negative</th>\n      <th>distance</th>\n    </tr>\n    <tr>\n      <th>dim</th>\n      <th></th>\n      <th></th>\n      <th></th>\n      <th></th>\n      <th></th>\n      <th></th>\n      <th></th>\n      <th></th>\n      <th></th>\n      <th></th>\n      <th></th>\n      <th></th>\n    </tr>\n  </thead>\n  <tbody>\n    <tr>\n      <th>768</th>\n      <td>1.507873e+06</td>\n      <td>1.702410e+06</td>\n      <td>1.229414</td>\n      <td>1.786823e+06</td>\n      <td>2.042893e+06</td>\n      <td>7.312816</td>\n      <td>1.833460e+06</td>\n      <td>2.608884e+06</td>\n      <td>19.964325</td>\n      <td>2.091581e+06</td>\n      <td>2.231614e+06</td>\n      <td>11.398275</td>\n    </tr>\n    <tr>\n      <th>576</th>\n      <td>1.509076e+06</td>\n      <td>1.703589e+06</td>\n      <td>1.156741</td>\n      <td>1.787146e+06</td>\n      <td>2.043185e+06</td>\n      <td>7.314414</td>\n      <td>1.833902e+06</td>\n      <td>2.609408e+06</td>\n      <td>19.964686</td>\n      <td>2.092026e+06</td>\n      <td>2.231988e+06</td>\n      <td>11.401153</td>\n    </tr>\n    <tr>\n      <th>384</th>\n      <td>1.508934e+06</td>\n      <td>1.703403e+06</td>\n      <td>1.158986</td>\n      <td>1.786892e+06</td>\n      <td>2.042884e+06</td>\n      <td>7.316451</td>\n      <td>1.833828e+06</td>\n      <td>2.609366e+06</td>\n      <td>19.964686</td>\n      <td>2.091831e+06</td>\n      <td>2.231784e+06</td>\n      <td>11.401629</td>\n    </tr>\n    <tr>\n      <th>192</th>\n      <td>1.508509e+06</td>\n      <td>1.702874e+06</td>\n      <td>1.169901</td>\n      <td>1.786042e+06</td>\n      <td>2.041993e+06</td>\n      <td>7.322656</td>\n      <td>1.833563e+06</td>\n      <td>2.609061e+06</td>\n      <td>19.965168</td>\n      <td>2.091119e+06</td>\n      <td>2.230950e+06</td>\n      <td>11.405117</td>\n    </tr>\n    <tr>\n      <th>96</th>\n      <td>1.507134e+06</td>\n      <td>1.701512e+06</td>\n      <td>1.213615</td>\n      <td>1.784244e+06</td>\n      <td>2.040015e+06</td>\n      <td>7.335378</td>\n      <td>1.832996e+06</td>\n      <td>2.608601e+06</td>\n      <td>19.965624</td>\n      <td>2.089732e+06</td>\n      <td>2.229337e+06</td>\n      <td>11.409593</td>\n    </tr>\n    <tr>\n      <th>48</th>\n      <td>1.504606e+06</td>\n      <td>1.698812e+06</td>\n      <td>1.272759</td>\n      <td>1.780371e+06</td>\n      <td>2.035766e+06</td>\n      <td>7.362444</td>\n      <td>1.831810e+06</td>\n      <td>2.607396e+06</td>\n      <td>19.966653</td>\n      <td>2.086472e+06</td>\n      <td>2.225610e+06</td>\n      <td>11.423860</td>\n    </tr>\n    <tr>\n      <th>24</th>\n      <td>1.499124e+06</td>\n      <td>1.692158e+06</td>\n      <td>1.409630</td>\n      <td>1.771795e+06</td>\n      <td>2.026320e+06</td>\n      <td>7.423075</td>\n      <td>1.828797e+06</td>\n      <td>2.604430e+06</td>\n      <td>19.970807</td>\n      <td>2.079016e+06</td>\n      <td>2.217130e+06</td>\n      <td>11.455494</td>\n    </tr>\n    <tr>\n      <th>12</th>\n      <td>1.489605e+06</td>\n      <td>1.680789e+06</td>\n      <td>1.508193</td>\n      <td>1.752307e+06</td>\n      <td>2.004841e+06</td>\n      <td>7.558836</td>\n      <td>1.821511e+06</td>\n      <td>2.597674e+06</td>\n      <td>19.978293</td>\n      <td>2.060904e+06</td>\n      <td>2.196837e+06</td>\n      <td>11.539209</td>\n    </tr>\n    <tr>\n      <th>6</th>\n      <td>1.482086e+06</td>\n      <td>1.662280e+06</td>\n      <td>0.950279</td>\n      <td>1.702880e+06</td>\n      <td>1.950692e+06</td>\n      <td>7.878849</td>\n      <td>1.799080e+06</td>\n      <td>2.574212e+06</td>\n      <td>20.011916</td>\n      <td>2.013277e+06</td>\n      <td>2.144489e+06</td>\n      <td>11.756336</td>\n    </tr>\n    <tr>\n      <th>3</th>\n      <td>1.434469e+06</td>\n      <td>1.588580e+06</td>\n      <td>1.229867</td>\n      <td>1.560394e+06</td>\n      <td>1.799460e+06</td>\n      <td>8.708559</td>\n      <td>1.706871e+06</td>\n      <td>2.483648e+06</td>\n      <td>20.243306</td>\n      <td>1.887557e+06</td>\n      <td>1.995884e+06</td>\n      <td>12.355372</td>\n    </tr>\n  </tbody>\n</table>\n</div>"
     },
     "metadata": {},
     "output_type": "display_data"
    }
   ],
   "source": [
    "for label, data in analysis.items():\n",
    "    display(label, data)"
   ]
  },
  {
   "cell_type": "code",
   "execution_count": 75,
   "metadata": {
    "collapsed": false,
    "execution": {
     "iopub.execute_input": "2022-09-14T16:38:44.692015Z",
     "iopub.status.busy": "2022-09-14T16:38:44.691651Z",
     "iopub.status.idle": "2022-09-14T16:38:44.696131Z",
     "shell.execute_reply": "2022-09-14T16:38:44.695127Z"
    },
    "pycharm": {
     "name": "#%%\n"
    }
   },
   "outputs": [],
   "source": [
    "### Calculate Centroid Distance and Cluster Dispersion"
   ]
  },
  {
   "cell_type": "code",
   "execution_count": 76,
   "metadata": {
    "collapsed": false,
    "execution": {
     "iopub.execute_input": "2022-09-14T16:38:44.699595Z",
     "iopub.status.busy": "2022-09-14T16:38:44.699226Z",
     "iopub.status.idle": "2022-09-14T16:38:44.730219Z",
     "shell.execute_reply": "2022-09-14T16:38:44.729362Z"
    },
    "pycharm": {
     "name": "#%%\n"
    }
   },
   "outputs": [],
   "source": [
    "distances: dict = {\n",
    "    label: (\n",
    "        data\n",
    "        .filter(regex=\".*distance\")\n",
    "        .describe()\n",
    "        .T\n",
    "    )\n",
    "    for label, data in analysis.items()\n",
    "}"
   ]
  },
  {
   "cell_type": "code",
   "execution_count": 77,
   "metadata": {
    "collapsed": false,
    "execution": {
     "iopub.execute_input": "2022-09-14T16:38:44.734357Z",
     "iopub.status.busy": "2022-09-14T16:38:44.734011Z",
     "iopub.status.idle": "2022-09-14T16:38:44.820090Z",
     "shell.execute_reply": "2022-09-14T16:38:44.819214Z"
    },
    "pycharm": {
     "name": "#%%\n"
    }
   },
   "outputs": [
    {
     "data": {
      "text/plain": "'train'"
     },
     "metadata": {},
     "output_type": "display_data"
    },
    {
     "data": {
      "text/plain": "                       mean    std     min     max\nmodel      metrics                                \nbase       distance   1.388  0.224   1.194   1.853\ntextattack distance   8.053  0.422   7.820   9.145\nfabriceyhc distance  22.889  0.060  22.865  23.058\nwakaka     distance  11.629  0.284  11.483  12.383",
      "text/html": "<div>\n<style scoped>\n    .dataframe tbody tr th:only-of-type {\n        vertical-align: middle;\n    }\n\n    .dataframe tbody tr th {\n        vertical-align: top;\n    }\n\n    .dataframe thead th {\n        text-align: right;\n    }\n</style>\n<table border=\"1\" class=\"dataframe\">\n  <thead>\n    <tr style=\"text-align: right;\">\n      <th></th>\n      <th></th>\n      <th>mean</th>\n      <th>std</th>\n      <th>min</th>\n      <th>max</th>\n    </tr>\n    <tr>\n      <th>model</th>\n      <th>metrics</th>\n      <th></th>\n      <th></th>\n      <th></th>\n      <th></th>\n    </tr>\n  </thead>\n  <tbody>\n    <tr>\n      <th>base</th>\n      <th>distance</th>\n      <td>1.388</td>\n      <td>0.224</td>\n      <td>1.194</td>\n      <td>1.853</td>\n    </tr>\n    <tr>\n      <th>textattack</th>\n      <th>distance</th>\n      <td>8.053</td>\n      <td>0.422</td>\n      <td>7.820</td>\n      <td>9.145</td>\n    </tr>\n    <tr>\n      <th>fabriceyhc</th>\n      <th>distance</th>\n      <td>22.889</td>\n      <td>0.060</td>\n      <td>22.865</td>\n      <td>23.058</td>\n    </tr>\n    <tr>\n      <th>wakaka</th>\n      <th>distance</th>\n      <td>11.629</td>\n      <td>0.284</td>\n      <td>11.483</td>\n      <td>12.383</td>\n    </tr>\n  </tbody>\n</table>\n</div>"
     },
     "metadata": {},
     "output_type": "display_data"
    },
    {
     "data": {
      "text/plain": "'test'"
     },
     "metadata": {},
     "output_type": "display_data"
    },
    {
     "data": {
      "text/plain": "                       mean    std     min     max\nmodel      metrics                                \nbase       distance   1.230  0.151   0.950   1.508\ntextattack distance   7.553  0.443   7.313   8.709\nfabriceyhc distance  20.000  0.087  19.964  20.243\nwakaka     distance  11.555  0.303  11.398  12.355",
      "text/html": "<div>\n<style scoped>\n    .dataframe tbody tr th:only-of-type {\n        vertical-align: middle;\n    }\n\n    .dataframe tbody tr th {\n        vertical-align: top;\n    }\n\n    .dataframe thead th {\n        text-align: right;\n    }\n</style>\n<table border=\"1\" class=\"dataframe\">\n  <thead>\n    <tr style=\"text-align: right;\">\n      <th></th>\n      <th></th>\n      <th>mean</th>\n      <th>std</th>\n      <th>min</th>\n      <th>max</th>\n    </tr>\n    <tr>\n      <th>model</th>\n      <th>metrics</th>\n      <th></th>\n      <th></th>\n      <th></th>\n      <th></th>\n    </tr>\n  </thead>\n  <tbody>\n    <tr>\n      <th>base</th>\n      <th>distance</th>\n      <td>1.230</td>\n      <td>0.151</td>\n      <td>0.950</td>\n      <td>1.508</td>\n    </tr>\n    <tr>\n      <th>textattack</th>\n      <th>distance</th>\n      <td>7.553</td>\n      <td>0.443</td>\n      <td>7.313</td>\n      <td>8.709</td>\n    </tr>\n    <tr>\n      <th>fabriceyhc</th>\n      <th>distance</th>\n      <td>20.000</td>\n      <td>0.087</td>\n      <td>19.964</td>\n      <td>20.243</td>\n    </tr>\n    <tr>\n      <th>wakaka</th>\n      <th>distance</th>\n      <td>11.555</td>\n      <td>0.303</td>\n      <td>11.398</td>\n      <td>12.355</td>\n    </tr>\n  </tbody>\n</table>\n</div>"
     },
     "metadata": {},
     "output_type": "display_data"
    }
   ],
   "source": [
    "for label, data in distances.items():\n",
    "    formatted: pd.DataFrame = (\n",
    "        data\n",
    "        [COLS_OF_INTEREST]\n",
    "        .round(3)\n",
    "    )\n",
    "    formatted.to_csv(f'{OUT_PATH}/{label}.metric.distance.csv')\n",
    "    formatted.style.to_latex(f'{OUT_PATH}/{label}.metric.distance.tex')\n",
    "    display(label, formatted)\n",
    "    # print(formatted.to_markdown())"
   ]
  },
  {
   "cell_type": "code",
   "execution_count": 78,
   "metadata": {
    "collapsed": false,
    "execution": {
     "iopub.execute_input": "2022-09-14T16:38:44.825071Z",
     "iopub.status.busy": "2022-09-14T16:38:44.824725Z",
     "iopub.status.idle": "2022-09-14T16:38:44.870943Z",
     "shell.execute_reply": "2022-09-14T16:38:44.870052Z"
    },
    "pycharm": {
     "name": "#%%\n"
    }
   },
   "outputs": [],
   "source": [
    "dispersion: dict = {\n",
    "    label: (\n",
    "        data\n",
    "        .filter(regex=\".*dispersion\")\n",
    "        .describe()\n",
    "        .T\n",
    "    )\n",
    "    for label, data in analysis.items()\n",
    "}"
   ]
  },
  {
   "cell_type": "code",
   "execution_count": 79,
   "metadata": {
    "collapsed": false,
    "execution": {
     "iopub.execute_input": "2022-09-14T16:38:44.875952Z",
     "iopub.status.busy": "2022-09-14T16:38:44.875536Z",
     "iopub.status.idle": "2022-09-14T16:38:44.905106Z",
     "shell.execute_reply": "2022-09-14T16:38:44.904264Z"
    },
    "pycharm": {
     "name": "#%%\n"
    }
   },
   "outputs": [
    {
     "data": {
      "text/plain": "'train'"
     },
     "metadata": {},
     "output_type": "display_data"
    },
    {
     "data": {
      "text/plain": "                                       mean        std          min  \\\nmodel      metrics                                                    \nbase       dispersion_positive  1627613.104  27256.904  1561675.581   \n           dispersion_negative  1571152.271  37430.363  1476522.285   \ntextattack dispersion_positive  1875744.028  76759.077  1672866.519   \n           dispersion_negative  1827160.148  76015.529  1627429.920   \nfabriceyhc dispersion_positive  1609605.553  42549.923  1492467.351   \n           dispersion_negative  2040749.680  34859.701  1945724.828   \nwakaka     dispersion_positive  2263258.640  65963.258  2088939.738   \n           dispersion_negative  2027049.680  70413.880  1840696.849   \n\n                                        max  \nmodel      metrics                           \nbase       dispersion_positive  1644534.351  \n           dispersion_negative  1592719.381  \ntextattack dispersion_positive  1915778.263  \n           dispersion_negative  1867370.677  \nfabriceyhc dispersion_positive  1628916.281  \n           dispersion_negative  2057076.245  \nwakaka     dispersion_positive  2297310.361  \n           dispersion_negative  2063295.329  ",
      "text/html": "<div>\n<style scoped>\n    .dataframe tbody tr th:only-of-type {\n        vertical-align: middle;\n    }\n\n    .dataframe tbody tr th {\n        vertical-align: top;\n    }\n\n    .dataframe thead th {\n        text-align: right;\n    }\n</style>\n<table border=\"1\" class=\"dataframe\">\n  <thead>\n    <tr style=\"text-align: right;\">\n      <th></th>\n      <th></th>\n      <th>mean</th>\n      <th>std</th>\n      <th>min</th>\n      <th>max</th>\n    </tr>\n    <tr>\n      <th>model</th>\n      <th>metrics</th>\n      <th></th>\n      <th></th>\n      <th></th>\n      <th></th>\n    </tr>\n  </thead>\n  <tbody>\n    <tr>\n      <th rowspan=\"2\" valign=\"top\">base</th>\n      <th>dispersion_positive</th>\n      <td>1627613.104</td>\n      <td>27256.904</td>\n      <td>1561675.581</td>\n      <td>1644534.351</td>\n    </tr>\n    <tr>\n      <th>dispersion_negative</th>\n      <td>1571152.271</td>\n      <td>37430.363</td>\n      <td>1476522.285</td>\n      <td>1592719.381</td>\n    </tr>\n    <tr>\n      <th rowspan=\"2\" valign=\"top\">textattack</th>\n      <th>dispersion_positive</th>\n      <td>1875744.028</td>\n      <td>76759.077</td>\n      <td>1672866.519</td>\n      <td>1915778.263</td>\n    </tr>\n    <tr>\n      <th>dispersion_negative</th>\n      <td>1827160.148</td>\n      <td>76015.529</td>\n      <td>1627429.920</td>\n      <td>1867370.677</td>\n    </tr>\n    <tr>\n      <th rowspan=\"2\" valign=\"top\">fabriceyhc</th>\n      <th>dispersion_positive</th>\n      <td>1609605.553</td>\n      <td>42549.923</td>\n      <td>1492467.351</td>\n      <td>1628916.281</td>\n    </tr>\n    <tr>\n      <th>dispersion_negative</th>\n      <td>2040749.680</td>\n      <td>34859.701</td>\n      <td>1945724.828</td>\n      <td>2057076.245</td>\n    </tr>\n    <tr>\n      <th rowspan=\"2\" valign=\"top\">wakaka</th>\n      <th>dispersion_positive</th>\n      <td>2263258.640</td>\n      <td>65963.258</td>\n      <td>2088939.738</td>\n      <td>2297310.361</td>\n    </tr>\n    <tr>\n      <th>dispersion_negative</th>\n      <td>2027049.680</td>\n      <td>70413.880</td>\n      <td>1840696.849</td>\n      <td>2063295.329</td>\n    </tr>\n  </tbody>\n</table>\n</div>"
     },
     "metadata": {},
     "output_type": "display_data"
    },
    {
     "data": {
      "text/plain": "'test'"
     },
     "metadata": {},
     "output_type": "display_data"
    },
    {
     "data": {
      "text/plain": "                                       mean        std          min  \\\nmodel      metrics                                                    \nbase       dispersion_positive  1495141.591  23230.127  1434468.683   \n           dispersion_negative  1683640.672  35953.293  1588580.038   \ntextattack dispersion_positive  1749889.361  71602.151  1560393.844   \n           dispersion_negative  2002804.965  77080.489  1799460.053   \nfabriceyhc dispersion_positive  1815581.831  39690.747  1706871.390   \n           dispersion_negative  2591267.887  39343.675  2483647.913   \nwakaka     dispersion_positive  2058351.422  64845.215  1887557.195   \n           dispersion_negative  2193562.313  74640.670  1995884.354   \n\n                                        max  \nmodel      metrics                           \nbase       dispersion_positive  1509076.011  \n           dispersion_negative  1703589.013  \ntextattack dispersion_positive  1787146.411  \n           dispersion_negative  2043185.339  \nfabriceyhc dispersion_positive  1833901.678  \n           dispersion_negative  2609407.772  \nwakaka     dispersion_positive  2092025.930  \n           dispersion_negative  2231988.091  ",
      "text/html": "<div>\n<style scoped>\n    .dataframe tbody tr th:only-of-type {\n        vertical-align: middle;\n    }\n\n    .dataframe tbody tr th {\n        vertical-align: top;\n    }\n\n    .dataframe thead th {\n        text-align: right;\n    }\n</style>\n<table border=\"1\" class=\"dataframe\">\n  <thead>\n    <tr style=\"text-align: right;\">\n      <th></th>\n      <th></th>\n      <th>mean</th>\n      <th>std</th>\n      <th>min</th>\n      <th>max</th>\n    </tr>\n    <tr>\n      <th>model</th>\n      <th>metrics</th>\n      <th></th>\n      <th></th>\n      <th></th>\n      <th></th>\n    </tr>\n  </thead>\n  <tbody>\n    <tr>\n      <th rowspan=\"2\" valign=\"top\">base</th>\n      <th>dispersion_positive</th>\n      <td>1495141.591</td>\n      <td>23230.127</td>\n      <td>1434468.683</td>\n      <td>1509076.011</td>\n    </tr>\n    <tr>\n      <th>dispersion_negative</th>\n      <td>1683640.672</td>\n      <td>35953.293</td>\n      <td>1588580.038</td>\n      <td>1703589.013</td>\n    </tr>\n    <tr>\n      <th rowspan=\"2\" valign=\"top\">textattack</th>\n      <th>dispersion_positive</th>\n      <td>1749889.361</td>\n      <td>71602.151</td>\n      <td>1560393.844</td>\n      <td>1787146.411</td>\n    </tr>\n    <tr>\n      <th>dispersion_negative</th>\n      <td>2002804.965</td>\n      <td>77080.489</td>\n      <td>1799460.053</td>\n      <td>2043185.339</td>\n    </tr>\n    <tr>\n      <th rowspan=\"2\" valign=\"top\">fabriceyhc</th>\n      <th>dispersion_positive</th>\n      <td>1815581.831</td>\n      <td>39690.747</td>\n      <td>1706871.390</td>\n      <td>1833901.678</td>\n    </tr>\n    <tr>\n      <th>dispersion_negative</th>\n      <td>2591267.887</td>\n      <td>39343.675</td>\n      <td>2483647.913</td>\n      <td>2609407.772</td>\n    </tr>\n    <tr>\n      <th rowspan=\"2\" valign=\"top\">wakaka</th>\n      <th>dispersion_positive</th>\n      <td>2058351.422</td>\n      <td>64845.215</td>\n      <td>1887557.195</td>\n      <td>2092025.930</td>\n    </tr>\n    <tr>\n      <th>dispersion_negative</th>\n      <td>2193562.313</td>\n      <td>74640.670</td>\n      <td>1995884.354</td>\n      <td>2231988.091</td>\n    </tr>\n  </tbody>\n</table>\n</div>"
     },
     "metadata": {},
     "output_type": "display_data"
    }
   ],
   "source": [
    "for label, data in dispersion.items():\n",
    "    formatted: pd.DataFrame = (\n",
    "        data\n",
    "        [['mean', 'std', 'min', 'max']]\n",
    "        .round(3)\n",
    "    )\n",
    "    formatted.to_csv(f'{OUT_PATH}/{label}.metric.dispersion.csv')\n",
    "    formatted.style.to_latex(f'{OUT_PATH}/{label}.metric.dispersion.tex')\n",
    "    display(label, formatted)\n",
    "    # print(formatted.to_markdown())"
   ]
  },
  {
   "cell_type": "code",
   "execution_count": 79,
   "outputs": [],
   "source": [],
   "metadata": {
    "collapsed": false,
    "pycharm": {
     "name": "#%%\n"
    }
   }
  }
 ],
 "metadata": {
  "kernelspec": {
   "display_name": "Python 3",
   "language": "python",
   "name": "python3"
  },
  "language_info": {
   "codemirror_mode": {
    "name": "ipython",
    "version": 3
   },
   "file_extension": ".py",
   "mimetype": "text/x-python",
   "name": "python",
   "nbconvert_exporter": "python",
   "pygments_lexer": "ipython3",
   "version": "3.8.5"
  }
 },
 "nbformat": 4,
 "nbformat_minor": 0
}