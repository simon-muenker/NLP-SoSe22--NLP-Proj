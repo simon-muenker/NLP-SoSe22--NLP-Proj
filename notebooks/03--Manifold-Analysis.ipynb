{
 "cells": [
  {
   "cell_type": "code",
   "execution_count": null,
   "outputs": [],
   "source": [
    "import matplotlib.pyplot as plt\n",
    "\n",
    "%matplotlib inline\n",
    "plt.rcParams[\"figure.figsize\"] = (12, 16)"
   ],
   "metadata": {
    "collapsed": false,
    "pycharm": {
     "name": "#%%\n"
    }
   }
  },
  {
   "cell_type": "code",
   "execution_count": null,
   "outputs": [],
   "source": [
    "import pandas as pd"
   ],
   "metadata": {
    "collapsed": false,
    "pycharm": {
     "name": "#%%\n"
    }
   }
  },
  {
   "cell_type": "code",
   "execution_count": null,
   "outputs": [],
   "source": [
    "DATASETS: list = ['train', 'test']"
   ],
   "metadata": {
    "collapsed": false,
    "pycharm": {
     "name": "#%%\n"
    }
   }
  },
  {
   "cell_type": "code",
   "execution_count": null,
   "outputs": [],
   "source": [
    "MODELS: list = [ 'base', 'textattack', 'fabriceyhc', 'wakaka']"
   ],
   "metadata": {
    "collapsed": false,
    "pycharm": {
     "name": "#%%\n"
    }
   }
  },
  {
   "cell_type": "code",
   "execution_count": null,
   "outputs": [],
   "source": [
    "### Load Datasets into memory"
   ],
   "metadata": {
    "collapsed": false,
    "pycharm": {
     "name": "#%%\n"
    }
   }
  },
  {
   "cell_type": "code",
   "execution_count": null,
   "outputs": [],
   "source": [
    "analysis: dict = {\n",
    "    data: (\n",
    "        pd\n",
    "        .read_csv(f'analysis.{data}.{model}.csv', index_col=0)\n",
    "        .set_index(['dim'])\n",
    "        .add_prefix(f'{model}_')\n",
    "    )\n",
    "    for model in MODELS\n",
    "    for data in DATASETS\n",
    "}"
   ],
   "metadata": {
    "collapsed": false,
    "pycharm": {
     "name": "#%%\n"
    }
   }
  },
  {
   "cell_type": "code",
   "execution_count": null,
   "outputs": [],
   "source": [
    "for label, data in analysis.items():\n",
    "    display(label, data)"
   ],
   "metadata": {
    "collapsed": false,
    "pycharm": {
     "name": "#%%\n"
    }
   }
  },
  {
   "cell_type": "code",
   "execution_count": null,
   "outputs": [],
   "source": [
    "### Calculate Centroid Distance and Cluster Dispersion"
   ],
   "metadata": {
    "collapsed": false,
    "pycharm": {
     "name": "#%%\n"
    }
   }
  },
  {
   "cell_type": "code",
   "execution_count": null,
   "outputs": [],
   "source": [
    "distances: dict = {\n",
    "    label: (\n",
    "        data\n",
    "        .filter(regex=\".*_distance\")\n",
    "        .describe()\n",
    "        .T\n",
    "    )\n",
    "    for label, data in analysis.items()\n",
    "}"
   ],
   "metadata": {
    "collapsed": false,
    "pycharm": {
     "name": "#%%\n"
    }
   }
  },
  {
   "cell_type": "code",
   "execution_count": null,
   "outputs": [],
   "source": [
    "for label, data in distances.items():\n",
    "    formatted: pd.DataFrame = (\n",
    "        data\n",
    "        [['mean', 'std', 'min', 'max']]\n",
    "        .set_index(pd.Index(list(zip(*MODELS))[0]))\n",
    "        .round(3)\n",
    "    )\n",
    "    formatted.to_csv(f'{label}.metric.distance.csv')\n",
    "    display(formatted)"
   ],
   "metadata": {
    "collapsed": false,
    "pycharm": {
     "name": "#%%\n"
    }
   }
  },
  {
   "cell_type": "code",
   "execution_count": null,
   "outputs": [],
   "source": [
    "dispersion: dict = {\n",
    "    label: (\n",
    "        data\n",
    "        .filter(regex=\".*_dispersion\")\n",
    "        .describe()\n",
    "        .T\n",
    "        .set_index(\n",
    "        pd.MultiIndex.from_tuples(\n",
    "            [\n",
    "                (model, group)\n",
    "                for model in list(zip(*MODELS))[0]\n",
    "                for group in ['positive', 'negative']\n",
    "            ],\n",
    "            names=[\"model\", \"group\"]\n",
    "        )\n",
    "    )\n",
    "    )\n",
    "    for label, data in analysis.items()\n",
    "}"
   ],
   "metadata": {
    "collapsed": false,
    "pycharm": {
     "name": "#%%\n"
    }
   }
  },
  {
   "cell_type": "code",
   "execution_count": null,
   "outputs": [],
   "source": [
    "for label, data in dispersion.items():\n",
    "    formatted: pd.DataFrame = (\n",
    "        data\n",
    "        [['mean', 'std', 'min', 'max']]\n",
    "        .set_index(pd.Index(list(zip(*MODELS))[0]))\n",
    "        .round(3)\n",
    "    )\n",
    "    formatted.to_csv(f'{label}.metric.dispersion.csv')\n",
    "    display(formatted)"
   ],
   "metadata": {
    "collapsed": false,
    "pycharm": {
     "name": "#%%\n"
    }
   }
  }
 ],
 "metadata": {
  "kernelspec": {
   "display_name": "Python 3",
   "language": "python",
   "name": "python3"
  },
  "language_info": {
   "codemirror_mode": {
    "name": "ipython",
    "version": 3
   },
   "file_extension": ".py",
   "mimetype": "text/x-python",
   "name": "python",
   "nbconvert_exporter": "python",
   "pygments_lexer": "ipython3",
   "version": "3.8.5"
  }
 },
 "nbformat": 4,
 "nbformat_minor": 0
}