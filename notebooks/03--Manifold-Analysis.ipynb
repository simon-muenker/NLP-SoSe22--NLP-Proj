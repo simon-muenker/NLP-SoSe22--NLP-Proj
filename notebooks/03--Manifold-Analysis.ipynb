{
 "cells": [
  {
   "cell_type": "code",
   "execution_count": 1,
   "metadata": {
    "collapsed": false,
    "execution": {
     "iopub.execute_input": "2022-09-16T09:50:04.233711Z",
     "iopub.status.busy": "2022-09-16T09:50:04.233047Z",
     "iopub.status.idle": "2022-09-16T09:50:04.944282Z",
     "shell.execute_reply": "2022-09-16T09:50:04.943038Z"
    },
    "pycharm": {
     "name": "#%%\n"
    }
   },
   "outputs": [],
   "source": [
    "import matplotlib.pyplot as plt\n",
    "\n",
    "%matplotlib inline\n",
    "plt.rcParams[\"figure.figsize\"] = (12, 16)"
   ]
  },
  {
   "cell_type": "code",
   "execution_count": 2,
   "metadata": {
    "collapsed": false,
    "execution": {
     "iopub.execute_input": "2022-09-16T09:50:04.950507Z",
     "iopub.status.busy": "2022-09-16T09:50:04.950050Z",
     "iopub.status.idle": "2022-09-16T09:50:05.193664Z",
     "shell.execute_reply": "2022-09-16T09:50:05.192708Z"
    },
    "pycharm": {
     "name": "#%%\n"
    }
   },
   "outputs": [],
   "source": [
    "import pandas as pd"
   ]
  },
  {
   "cell_type": "code",
   "execution_count": 3,
   "metadata": {
    "collapsed": false,
    "execution": {
     "iopub.execute_input": "2022-09-16T09:50:05.199700Z",
     "iopub.status.busy": "2022-09-16T09:50:05.199274Z",
     "iopub.status.idle": "2022-09-16T09:50:05.203406Z",
     "shell.execute_reply": "2022-09-16T09:50:05.202648Z"
    },
    "pycharm": {
     "name": "#%%\n"
    }
   },
   "outputs": [],
   "source": [
    "IN_PATH: str = '../results/manifolds/raw'\n",
    "OUT_PATH: str = '../results/manifolds'"
   ]
  },
  {
   "cell_type": "code",
   "execution_count": 4,
   "metadata": {
    "collapsed": false,
    "execution": {
     "iopub.execute_input": "2022-09-16T09:50:05.209365Z",
     "iopub.status.busy": "2022-09-16T09:50:05.208945Z",
     "iopub.status.idle": "2022-09-16T09:50:05.213284Z",
     "shell.execute_reply": "2022-09-16T09:50:05.212429Z"
    },
    "pycharm": {
     "name": "#%%\n"
    }
   },
   "outputs": [],
   "source": [
    "DATASETS: list = ['train', 'test']"
   ]
  },
  {
   "cell_type": "code",
   "execution_count": 5,
   "metadata": {
    "collapsed": false,
    "execution": {
     "iopub.execute_input": "2022-09-16T09:50:05.216932Z",
     "iopub.status.busy": "2022-09-16T09:50:05.216470Z",
     "iopub.status.idle": "2022-09-16T09:50:05.221200Z",
     "shell.execute_reply": "2022-09-16T09:50:05.220280Z"
    },
    "pycharm": {
     "name": "#%%\n"
    }
   },
   "outputs": [],
   "source": [
    "MODELS: list = [ 'base', 'textattack', 'fabriceyhc', 'wakaka']"
   ]
  },
  {
   "cell_type": "code",
   "execution_count": 6,
   "metadata": {
    "collapsed": false,
    "execution": {
     "iopub.execute_input": "2022-09-16T09:50:05.225341Z",
     "iopub.status.busy": "2022-09-16T09:50:05.224880Z",
     "iopub.status.idle": "2022-09-16T09:50:05.229695Z",
     "shell.execute_reply": "2022-09-16T09:50:05.228780Z"
    },
    "pycharm": {
     "name": "#%%\n"
    }
   },
   "outputs": [],
   "source": [
    "COLS_OF_INTEREST: list = ['mean', 'std', 'min', 'max']"
   ]
  },
  {
   "cell_type": "code",
   "execution_count": 7,
   "metadata": {
    "collapsed": false,
    "execution": {
     "iopub.execute_input": "2022-09-16T09:50:05.233878Z",
     "iopub.status.busy": "2022-09-16T09:50:05.233408Z",
     "iopub.status.idle": "2022-09-16T09:50:05.237508Z",
     "shell.execute_reply": "2022-09-16T09:50:05.236691Z"
    },
    "pycharm": {
     "name": "#%%\n"
    }
   },
   "outputs": [],
   "source": [
    "### Load Datasets into memory"
   ]
  },
  {
   "cell_type": "code",
   "execution_count": 8,
   "metadata": {
    "collapsed": false,
    "execution": {
     "iopub.execute_input": "2022-09-16T09:50:05.240818Z",
     "iopub.status.busy": "2022-09-16T09:50:05.240480Z",
     "iopub.status.idle": "2022-09-16T09:50:05.245545Z",
     "shell.execute_reply": "2022-09-16T09:50:05.244719Z"
    },
    "pycharm": {
     "name": "#%%\n"
    }
   },
   "outputs": [],
   "source": [
    "def convert_to_multi_col(df:pd.DataFrame, meta_col: str) -> pd.DataFrame:\n",
    "    df.columns = pd.MultiIndex.from_product([[meta_col], df.columns], names=['model', 'metrics'])\n",
    "\n",
    "    return df"
   ]
  },
  {
   "cell_type": "code",
   "execution_count": 9,
   "metadata": {
    "collapsed": false,
    "execution": {
     "iopub.execute_input": "2022-09-16T09:50:05.262220Z",
     "iopub.status.busy": "2022-09-16T09:50:05.261750Z",
     "iopub.status.idle": "2022-09-16T09:50:05.298760Z",
     "shell.execute_reply": "2022-09-16T09:50:05.297922Z"
    },
    "pycharm": {
     "name": "#%%\n"
    }
   },
   "outputs": [],
   "source": [
    "analysis: dict = {\n",
    "    data: pd.concat(\n",
    "        [(\n",
    "            pd\n",
    "            .read_csv(f'{IN_PATH}/{data}.{model}.csv', index_col=0)\n",
    "            .set_index(['dim'])\n",
    "            .pipe(convert_to_multi_col, model)\n",
    "        )\n",
    "            for model in MODELS],\n",
    "        axis=1)\n",
    "    for data in DATASETS\n",
    "}"
   ]
  },
  {
   "cell_type": "code",
   "execution_count": 10,
   "metadata": {
    "collapsed": false,
    "execution": {
     "iopub.execute_input": "2022-09-16T09:50:05.304045Z",
     "iopub.status.busy": "2022-09-16T09:50:05.303832Z",
     "iopub.status.idle": "2022-09-16T09:50:05.345271Z",
     "shell.execute_reply": "2022-09-16T09:50:05.344417Z"
    },
    "pycharm": {
     "name": "#%%\n"
    }
   },
   "outputs": [
    {
     "data": {
      "text/plain": [
       "'train'"
      ]
     },
     "metadata": {},
     "output_type": "display_data"
    },
    {
     "data": {
      "text/html": [
       "<div>\n",
       "<style scoped>\n",
       "    .dataframe tbody tr th:only-of-type {\n",
       "        vertical-align: middle;\n",
       "    }\n",
       "\n",
       "    .dataframe tbody tr th {\n",
       "        vertical-align: top;\n",
       "    }\n",
       "\n",
       "    .dataframe thead tr th {\n",
       "        text-align: left;\n",
       "    }\n",
       "\n",
       "    .dataframe thead tr:last-of-type th {\n",
       "        text-align: right;\n",
       "    }\n",
       "</style>\n",
       "<table border=\"1\" class=\"dataframe\">\n",
       "  <thead>\n",
       "    <tr>\n",
       "      <th>model</th>\n",
       "      <th colspan=\"5\" halign=\"left\">base</th>\n",
       "      <th colspan=\"5\" halign=\"left\">textattack</th>\n",
       "      <th colspan=\"5\" halign=\"left\">fabriceyhc</th>\n",
       "      <th colspan=\"5\" halign=\"left\">wakaka</th>\n",
       "    </tr>\n",
       "    <tr>\n",
       "      <th>metrics</th>\n",
       "      <th>centroid_point_distances_negative</th>\n",
       "      <th>intra_distance_negative</th>\n",
       "      <th>centroid_point_distances_positive</th>\n",
       "      <th>intra_distance_positive</th>\n",
       "      <th>extra_distance</th>\n",
       "      <th>centroid_point_distances_negative</th>\n",
       "      <th>intra_distance_negative</th>\n",
       "      <th>centroid_point_distances_positive</th>\n",
       "      <th>intra_distance_positive</th>\n",
       "      <th>extra_distance</th>\n",
       "      <th>centroid_point_distances_negative</th>\n",
       "      <th>intra_distance_negative</th>\n",
       "      <th>centroid_point_distances_positive</th>\n",
       "      <th>intra_distance_positive</th>\n",
       "      <th>extra_distance</th>\n",
       "      <th>centroid_point_distances_negative</th>\n",
       "      <th>intra_distance_negative</th>\n",
       "      <th>centroid_point_distances_positive</th>\n",
       "      <th>intra_distance_positive</th>\n",
       "      <th>extra_distance</th>\n",
       "    </tr>\n",
       "    <tr>\n",
       "      <th>dim</th>\n",
       "      <th></th>\n",
       "      <th></th>\n",
       "      <th></th>\n",
       "      <th></th>\n",
       "      <th></th>\n",
       "      <th></th>\n",
       "      <th></th>\n",
       "      <th></th>\n",
       "      <th></th>\n",
       "      <th></th>\n",
       "      <th></th>\n",
       "      <th></th>\n",
       "      <th></th>\n",
       "      <th></th>\n",
       "      <th></th>\n",
       "      <th></th>\n",
       "      <th></th>\n",
       "      <th></th>\n",
       "      <th></th>\n",
       "      <th></th>\n",
       "    </tr>\n",
       "  </thead>\n",
       "  <tbody>\n",
       "    <tr>\n",
       "      <th>768</th>\n",
       "      <td>[[5.992325561399737, 5.203575077395552, 3.5995...</td>\n",
       "      <td>5.764313</td>\n",
       "      <td>[[6.28652306558972, 3.8467728310963367, 5.1201...</td>\n",
       "      <td>6.138071</td>\n",
       "      <td>1.259246</td>\n",
       "      <td>[[6.751666973990453, 7.309737450435016, 5.0174...</td>\n",
       "      <td>6.738079</td>\n",
       "      <td>[[8.802257554520567, 5.346788559260816, 6.4295...</td>\n",
       "      <td>7.117969</td>\n",
       "      <td>7.820493</td>\n",
       "      <td>[[4.967599522866965, 5.136100990019949, 7.8128...</td>\n",
       "      <td>7.644175</td>\n",
       "      <td>[[4.750496262880372, 5.36116840102162, 4.42993...</td>\n",
       "      <td>6.040889</td>\n",
       "      <td>22.864886</td>\n",
       "      <td>[[8.912249447423662, 5.991112258898744, 6.4723...</td>\n",
       "      <td>7.437458</td>\n",
       "      <td>[[11.313891151375156, 10.330851402943722, 5.53...</td>\n",
       "      <td>8.561553</td>\n",
       "      <td>11.483087</td>\n",
       "    </tr>\n",
       "  </tbody>\n",
       "</table>\n",
       "</div>"
      ],
      "text/plain": [
       "model                                                 base  \\\n",
       "metrics                  centroid_point_distances_negative   \n",
       "dim                                                          \n",
       "768      [[5.992325561399737, 5.203575077395552, 3.5995...   \n",
       "\n",
       "model                            \\\n",
       "metrics intra_distance_negative   \n",
       "dim                               \n",
       "768                    5.764313   \n",
       "\n",
       "model                                                       \\\n",
       "metrics                  centroid_point_distances_positive   \n",
       "dim                                                          \n",
       "768      [[6.28652306558972, 3.8467728310963367, 5.1201...   \n",
       "\n",
       "model                                           \\\n",
       "metrics intra_distance_positive extra_distance   \n",
       "dim                                              \n",
       "768                    6.138071       1.259246   \n",
       "\n",
       "model                                           textattack  \\\n",
       "metrics                  centroid_point_distances_negative   \n",
       "dim                                                          \n",
       "768      [[6.751666973990453, 7.309737450435016, 5.0174...   \n",
       "\n",
       "model                            \\\n",
       "metrics intra_distance_negative   \n",
       "dim                               \n",
       "768                    6.738079   \n",
       "\n",
       "model                                                       \\\n",
       "metrics                  centroid_point_distances_positive   \n",
       "dim                                                          \n",
       "768      [[8.802257554520567, 5.346788559260816, 6.4295...   \n",
       "\n",
       "model                                           \\\n",
       "metrics intra_distance_positive extra_distance   \n",
       "dim                                              \n",
       "768                    7.117969       7.820493   \n",
       "\n",
       "model                                           fabriceyhc  \\\n",
       "metrics                  centroid_point_distances_negative   \n",
       "dim                                                          \n",
       "768      [[4.967599522866965, 5.136100990019949, 7.8128...   \n",
       "\n",
       "model                            \\\n",
       "metrics intra_distance_negative   \n",
       "dim                               \n",
       "768                    7.644175   \n",
       "\n",
       "model                                                       \\\n",
       "metrics                  centroid_point_distances_positive   \n",
       "dim                                                          \n",
       "768      [[4.750496262880372, 5.36116840102162, 4.42993...   \n",
       "\n",
       "model                                           \\\n",
       "metrics intra_distance_positive extra_distance   \n",
       "dim                                              \n",
       "768                    6.040889      22.864886   \n",
       "\n",
       "model                                               wakaka  \\\n",
       "metrics                  centroid_point_distances_negative   \n",
       "dim                                                          \n",
       "768      [[8.912249447423662, 5.991112258898744, 6.4723...   \n",
       "\n",
       "model                            \\\n",
       "metrics intra_distance_negative   \n",
       "dim                               \n",
       "768                    7.437458   \n",
       "\n",
       "model                                                       \\\n",
       "metrics                  centroid_point_distances_positive   \n",
       "dim                                                          \n",
       "768      [[11.313891151375156, 10.330851402943722, 5.53...   \n",
       "\n",
       "model                                           \n",
       "metrics intra_distance_positive extra_distance  \n",
       "dim                                             \n",
       "768                    8.561553      11.483087  "
      ]
     },
     "metadata": {},
     "output_type": "display_data"
    },
    {
     "data": {
      "text/plain": [
       "'test'"
      ]
     },
     "metadata": {},
     "output_type": "display_data"
    },
    {
     "data": {
      "text/html": [
       "<div>\n",
       "<style scoped>\n",
       "    .dataframe tbody tr th:only-of-type {\n",
       "        vertical-align: middle;\n",
       "    }\n",
       "\n",
       "    .dataframe tbody tr th {\n",
       "        vertical-align: top;\n",
       "    }\n",
       "\n",
       "    .dataframe thead tr th {\n",
       "        text-align: left;\n",
       "    }\n",
       "\n",
       "    .dataframe thead tr:last-of-type th {\n",
       "        text-align: right;\n",
       "    }\n",
       "</style>\n",
       "<table border=\"1\" class=\"dataframe\">\n",
       "  <thead>\n",
       "    <tr>\n",
       "      <th>model</th>\n",
       "      <th colspan=\"5\" halign=\"left\">base</th>\n",
       "      <th colspan=\"5\" halign=\"left\">textattack</th>\n",
       "      <th colspan=\"5\" halign=\"left\">fabriceyhc</th>\n",
       "      <th colspan=\"5\" halign=\"left\">wakaka</th>\n",
       "    </tr>\n",
       "    <tr>\n",
       "      <th>metrics</th>\n",
       "      <th>centroid_point_distances_negative</th>\n",
       "      <th>intra_distance_negative</th>\n",
       "      <th>centroid_point_distances_positive</th>\n",
       "      <th>intra_distance_positive</th>\n",
       "      <th>extra_distance</th>\n",
       "      <th>centroid_point_distances_negative</th>\n",
       "      <th>intra_distance_negative</th>\n",
       "      <th>centroid_point_distances_positive</th>\n",
       "      <th>intra_distance_positive</th>\n",
       "      <th>extra_distance</th>\n",
       "      <th>centroid_point_distances_negative</th>\n",
       "      <th>intra_distance_negative</th>\n",
       "      <th>centroid_point_distances_positive</th>\n",
       "      <th>intra_distance_positive</th>\n",
       "      <th>extra_distance</th>\n",
       "      <th>centroid_point_distances_negative</th>\n",
       "      <th>intra_distance_negative</th>\n",
       "      <th>centroid_point_distances_positive</th>\n",
       "      <th>intra_distance_positive</th>\n",
       "      <th>extra_distance</th>\n",
       "    </tr>\n",
       "    <tr>\n",
       "      <th>dim</th>\n",
       "      <th></th>\n",
       "      <th></th>\n",
       "      <th></th>\n",
       "      <th></th>\n",
       "      <th></th>\n",
       "      <th></th>\n",
       "      <th></th>\n",
       "      <th></th>\n",
       "      <th></th>\n",
       "      <th></th>\n",
       "      <th></th>\n",
       "      <th></th>\n",
       "      <th></th>\n",
       "      <th></th>\n",
       "      <th></th>\n",
       "      <th></th>\n",
       "      <th></th>\n",
       "      <th></th>\n",
       "      <th></th>\n",
       "      <th></th>\n",
       "    </tr>\n",
       "  </thead>\n",
       "  <tbody>\n",
       "    <tr>\n",
       "      <th>768</th>\n",
       "      <td>[[4.832424433221461, 9.807014103979695, 3.7882...</td>\n",
       "      <td>5.798742</td>\n",
       "      <td>[[5.229993597663103, 4.427183632815254, 5.6675...</td>\n",
       "      <td>6.084546</td>\n",
       "      <td>1.229414</td>\n",
       "      <td>[[6.785032081639631, 9.407629650697947, 6.6619...</td>\n",
       "      <td>6.935167</td>\n",
       "      <td>[[5.874596543022215, 7.184561450019481, 6.6260...</td>\n",
       "      <td>7.183807</td>\n",
       "      <td>7.312816</td>\n",
       "      <td>[[9.073984610715168, 10.79574947060581, 10.667...</td>\n",
       "      <td>9.273344</td>\n",
       "      <td>[[3.9066403335518403, 9.816295601628925, 11.72...</td>\n",
       "      <td>7.438157</td>\n",
       "      <td>19.964325</td>\n",
       "      <td>[[6.595880875307386, 8.794097214610463, 7.2356...</td>\n",
       "      <td>7.581062</td>\n",
       "      <td>[[6.3813950679018925, 9.885993432500822, 6.399...</td>\n",
       "      <td>8.446871</td>\n",
       "      <td>11.398275</td>\n",
       "    </tr>\n",
       "  </tbody>\n",
       "</table>\n",
       "</div>"
      ],
      "text/plain": [
       "model                                                 base  \\\n",
       "metrics                  centroid_point_distances_negative   \n",
       "dim                                                          \n",
       "768      [[4.832424433221461, 9.807014103979695, 3.7882...   \n",
       "\n",
       "model                            \\\n",
       "metrics intra_distance_negative   \n",
       "dim                               \n",
       "768                    5.798742   \n",
       "\n",
       "model                                                       \\\n",
       "metrics                  centroid_point_distances_positive   \n",
       "dim                                                          \n",
       "768      [[5.229993597663103, 4.427183632815254, 5.6675...   \n",
       "\n",
       "model                                           \\\n",
       "metrics intra_distance_positive extra_distance   \n",
       "dim                                              \n",
       "768                    6.084546       1.229414   \n",
       "\n",
       "model                                           textattack  \\\n",
       "metrics                  centroid_point_distances_negative   \n",
       "dim                                                          \n",
       "768      [[6.785032081639631, 9.407629650697947, 6.6619...   \n",
       "\n",
       "model                            \\\n",
       "metrics intra_distance_negative   \n",
       "dim                               \n",
       "768                    6.935167   \n",
       "\n",
       "model                                                       \\\n",
       "metrics                  centroid_point_distances_positive   \n",
       "dim                                                          \n",
       "768      [[5.874596543022215, 7.184561450019481, 6.6260...   \n",
       "\n",
       "model                                           \\\n",
       "metrics intra_distance_positive extra_distance   \n",
       "dim                                              \n",
       "768                    7.183807       7.312816   \n",
       "\n",
       "model                                           fabriceyhc  \\\n",
       "metrics                  centroid_point_distances_negative   \n",
       "dim                                                          \n",
       "768      [[9.073984610715168, 10.79574947060581, 10.667...   \n",
       "\n",
       "model                            \\\n",
       "metrics intra_distance_negative   \n",
       "dim                               \n",
       "768                    9.273344   \n",
       "\n",
       "model                                                       \\\n",
       "metrics                  centroid_point_distances_positive   \n",
       "dim                                                          \n",
       "768      [[3.9066403335518403, 9.816295601628925, 11.72...   \n",
       "\n",
       "model                                           \\\n",
       "metrics intra_distance_positive extra_distance   \n",
       "dim                                              \n",
       "768                    7.438157      19.964325   \n",
       "\n",
       "model                                               wakaka  \\\n",
       "metrics                  centroid_point_distances_negative   \n",
       "dim                                                          \n",
       "768      [[6.595880875307386, 8.794097214610463, 7.2356...   \n",
       "\n",
       "model                            \\\n",
       "metrics intra_distance_negative   \n",
       "dim                               \n",
       "768                    7.581062   \n",
       "\n",
       "model                                                       \\\n",
       "metrics                  centroid_point_distances_positive   \n",
       "dim                                                          \n",
       "768      [[6.3813950679018925, 9.885993432500822, 6.399...   \n",
       "\n",
       "model                                           \n",
       "metrics intra_distance_positive extra_distance  \n",
       "dim                                             \n",
       "768                    8.446871      11.398275  "
      ]
     },
     "metadata": {},
     "output_type": "display_data"
    }
   ],
   "source": [
    "for label, data in analysis.items():\n",
    "    display(label, data)"
   ]
  },
  {
   "cell_type": "code",
   "execution_count": 11,
   "metadata": {
    "collapsed": false,
    "execution": {
     "iopub.execute_input": "2022-09-16T09:50:05.348719Z",
     "iopub.status.busy": "2022-09-16T09:50:05.348368Z",
     "iopub.status.idle": "2022-09-16T09:50:05.352227Z",
     "shell.execute_reply": "2022-09-16T09:50:05.351370Z"
    },
    "pycharm": {
     "name": "#%%\n"
    }
   },
   "outputs": [],
   "source": [
    "### Calculate Centroid Distance and Cluster Dispersion"
   ]
  },
  {
   "cell_type": "code",
   "execution_count": 12,
   "metadata": {
    "collapsed": false,
    "execution": {
     "iopub.execute_input": "2022-09-16T09:50:05.355342Z",
     "iopub.status.busy": "2022-09-16T09:50:05.354973Z",
     "iopub.status.idle": "2022-09-16T09:50:05.383620Z",
     "shell.execute_reply": "2022-09-16T09:50:05.382520Z"
    },
    "pycharm": {
     "name": "#%%\n"
    }
   },
   "outputs": [],
   "source": [
    "distances: dict = {\n",
    "    label: (\n",
    "        data\n",
    "        .filter(regex=\".*extra_distance\")\n",
    "        .describe()\n",
    "        .T\n",
    "    )\n",
    "    for label, data in analysis.items()\n",
    "}"
   ]
  },
  {
   "cell_type": "code",
   "execution_count": 13,
   "metadata": {
    "collapsed": false,
    "execution": {
     "iopub.execute_input": "2022-09-16T09:50:05.387333Z",
     "iopub.status.busy": "2022-09-16T09:50:05.387009Z",
     "iopub.status.idle": "2022-09-16T09:50:05.472301Z",
     "shell.execute_reply": "2022-09-16T09:50:05.471471Z"
    },
    "pycharm": {
     "name": "#%%\n"
    }
   },
   "outputs": [
    {
     "data": {
      "text/plain": [
       "'train'"
      ]
     },
     "metadata": {},
     "output_type": "display_data"
    },
    {
     "data": {
      "text/html": [
       "<div>\n",
       "<style scoped>\n",
       "    .dataframe tbody tr th:only-of-type {\n",
       "        vertical-align: middle;\n",
       "    }\n",
       "\n",
       "    .dataframe tbody tr th {\n",
       "        vertical-align: top;\n",
       "    }\n",
       "\n",
       "    .dataframe thead th {\n",
       "        text-align: right;\n",
       "    }\n",
       "</style>\n",
       "<table border=\"1\" class=\"dataframe\">\n",
       "  <thead>\n",
       "    <tr style=\"text-align: right;\">\n",
       "      <th></th>\n",
       "      <th></th>\n",
       "      <th>mean</th>\n",
       "      <th>std</th>\n",
       "      <th>min</th>\n",
       "      <th>max</th>\n",
       "    </tr>\n",
       "    <tr>\n",
       "      <th>model</th>\n",
       "      <th>metrics</th>\n",
       "      <th></th>\n",
       "      <th></th>\n",
       "      <th></th>\n",
       "      <th></th>\n",
       "    </tr>\n",
       "  </thead>\n",
       "  <tbody>\n",
       "    <tr>\n",
       "      <th>base</th>\n",
       "      <th>extra_distance</th>\n",
       "      <td>1.259</td>\n",
       "      <td>NaN</td>\n",
       "      <td>1.259</td>\n",
       "      <td>1.259</td>\n",
       "    </tr>\n",
       "    <tr>\n",
       "      <th>textattack</th>\n",
       "      <th>extra_distance</th>\n",
       "      <td>7.820</td>\n",
       "      <td>NaN</td>\n",
       "      <td>7.820</td>\n",
       "      <td>7.820</td>\n",
       "    </tr>\n",
       "    <tr>\n",
       "      <th>fabriceyhc</th>\n",
       "      <th>extra_distance</th>\n",
       "      <td>22.865</td>\n",
       "      <td>NaN</td>\n",
       "      <td>22.865</td>\n",
       "      <td>22.865</td>\n",
       "    </tr>\n",
       "    <tr>\n",
       "      <th>wakaka</th>\n",
       "      <th>extra_distance</th>\n",
       "      <td>11.483</td>\n",
       "      <td>NaN</td>\n",
       "      <td>11.483</td>\n",
       "      <td>11.483</td>\n",
       "    </tr>\n",
       "  </tbody>\n",
       "</table>\n",
       "</div>"
      ],
      "text/plain": [
       "                             mean  std     min     max\n",
       "model      metrics                                    \n",
       "base       extra_distance   1.259  NaN   1.259   1.259\n",
       "textattack extra_distance   7.820  NaN   7.820   7.820\n",
       "fabriceyhc extra_distance  22.865  NaN  22.865  22.865\n",
       "wakaka     extra_distance  11.483  NaN  11.483  11.483"
      ]
     },
     "metadata": {},
     "output_type": "display_data"
    },
    {
     "data": {
      "text/plain": [
       "'test'"
      ]
     },
     "metadata": {},
     "output_type": "display_data"
    },
    {
     "data": {
      "text/html": [
       "<div>\n",
       "<style scoped>\n",
       "    .dataframe tbody tr th:only-of-type {\n",
       "        vertical-align: middle;\n",
       "    }\n",
       "\n",
       "    .dataframe tbody tr th {\n",
       "        vertical-align: top;\n",
       "    }\n",
       "\n",
       "    .dataframe thead th {\n",
       "        text-align: right;\n",
       "    }\n",
       "</style>\n",
       "<table border=\"1\" class=\"dataframe\">\n",
       "  <thead>\n",
       "    <tr style=\"text-align: right;\">\n",
       "      <th></th>\n",
       "      <th></th>\n",
       "      <th>mean</th>\n",
       "      <th>std</th>\n",
       "      <th>min</th>\n",
       "      <th>max</th>\n",
       "    </tr>\n",
       "    <tr>\n",
       "      <th>model</th>\n",
       "      <th>metrics</th>\n",
       "      <th></th>\n",
       "      <th></th>\n",
       "      <th></th>\n",
       "      <th></th>\n",
       "    </tr>\n",
       "  </thead>\n",
       "  <tbody>\n",
       "    <tr>\n",
       "      <th>base</th>\n",
       "      <th>extra_distance</th>\n",
       "      <td>1.229</td>\n",
       "      <td>NaN</td>\n",
       "      <td>1.229</td>\n",
       "      <td>1.229</td>\n",
       "    </tr>\n",
       "    <tr>\n",
       "      <th>textattack</th>\n",
       "      <th>extra_distance</th>\n",
       "      <td>7.313</td>\n",
       "      <td>NaN</td>\n",
       "      <td>7.313</td>\n",
       "      <td>7.313</td>\n",
       "    </tr>\n",
       "    <tr>\n",
       "      <th>fabriceyhc</th>\n",
       "      <th>extra_distance</th>\n",
       "      <td>19.964</td>\n",
       "      <td>NaN</td>\n",
       "      <td>19.964</td>\n",
       "      <td>19.964</td>\n",
       "    </tr>\n",
       "    <tr>\n",
       "      <th>wakaka</th>\n",
       "      <th>extra_distance</th>\n",
       "      <td>11.398</td>\n",
       "      <td>NaN</td>\n",
       "      <td>11.398</td>\n",
       "      <td>11.398</td>\n",
       "    </tr>\n",
       "  </tbody>\n",
       "</table>\n",
       "</div>"
      ],
      "text/plain": [
       "                             mean  std     min     max\n",
       "model      metrics                                    \n",
       "base       extra_distance   1.229  NaN   1.229   1.229\n",
       "textattack extra_distance   7.313  NaN   7.313   7.313\n",
       "fabriceyhc extra_distance  19.964  NaN  19.964  19.964\n",
       "wakaka     extra_distance  11.398  NaN  11.398  11.398"
      ]
     },
     "metadata": {},
     "output_type": "display_data"
    }
   ],
   "source": [
    "for label, data in distances.items():\n",
    "    formatted: pd.DataFrame = (\n",
    "        data\n",
    "        [COLS_OF_INTEREST]\n",
    "        .round(3)\n",
    "    )\n",
    "    formatted.to_csv(f'{OUT_PATH}/{label}.metric.distance.csv')\n",
    "    formatted.style.to_latex(f'{OUT_PATH}/{label}.metric.distance.tex')\n",
    "    display(label, formatted)\n",
    "    # print(formatted.to_markdown())"
   ]
  },
  {
   "cell_type": "code",
   "execution_count": 14,
   "metadata": {
    "collapsed": false,
    "execution": {
     "iopub.execute_input": "2022-09-16T09:50:05.476276Z",
     "iopub.status.busy": "2022-09-16T09:50:05.475938Z",
     "iopub.status.idle": "2022-09-16T09:50:05.518339Z",
     "shell.execute_reply": "2022-09-16T09:50:05.517455Z"
    },
    "pycharm": {
     "name": "#%%\n"
    }
   },
   "outputs": [],
   "source": [
    "dispersion: dict = {\n",
    "    label: (\n",
    "        data\n",
    "        .filter(regex=\".*intra_distance\")\n",
    "        .describe()\n",
    "        .T\n",
    "    )\n",
    "    for label, data in analysis.items()\n",
    "}"
   ]
  },
  {
   "cell_type": "code",
   "execution_count": 15,
   "metadata": {
    "collapsed": false,
    "execution": {
     "iopub.execute_input": "2022-09-16T09:50:05.523643Z",
     "iopub.status.busy": "2022-09-16T09:50:05.523315Z",
     "iopub.status.idle": "2022-09-16T09:50:05.555210Z",
     "shell.execute_reply": "2022-09-16T09:50:05.554395Z"
    },
    "pycharm": {
     "name": "#%%\n"
    }
   },
   "outputs": [
    {
     "data": {
      "text/plain": [
       "'train'"
      ]
     },
     "metadata": {},
     "output_type": "display_data"
    },
    {
     "data": {
      "text/html": [
       "<div>\n",
       "<style scoped>\n",
       "    .dataframe tbody tr th:only-of-type {\n",
       "        vertical-align: middle;\n",
       "    }\n",
       "\n",
       "    .dataframe tbody tr th {\n",
       "        vertical-align: top;\n",
       "    }\n",
       "\n",
       "    .dataframe thead th {\n",
       "        text-align: right;\n",
       "    }\n",
       "</style>\n",
       "<table border=\"1\" class=\"dataframe\">\n",
       "  <thead>\n",
       "    <tr style=\"text-align: right;\">\n",
       "      <th></th>\n",
       "      <th></th>\n",
       "      <th>mean</th>\n",
       "      <th>std</th>\n",
       "      <th>min</th>\n",
       "      <th>max</th>\n",
       "    </tr>\n",
       "    <tr>\n",
       "      <th>model</th>\n",
       "      <th>metrics</th>\n",
       "      <th></th>\n",
       "      <th></th>\n",
       "      <th></th>\n",
       "      <th></th>\n",
       "    </tr>\n",
       "  </thead>\n",
       "  <tbody>\n",
       "    <tr>\n",
       "      <th rowspan=\"2\" valign=\"top\">base</th>\n",
       "      <th>intra_distance_negative</th>\n",
       "      <td>5.764</td>\n",
       "      <td>NaN</td>\n",
       "      <td>5.764</td>\n",
       "      <td>5.764</td>\n",
       "    </tr>\n",
       "    <tr>\n",
       "      <th>intra_distance_positive</th>\n",
       "      <td>6.138</td>\n",
       "      <td>NaN</td>\n",
       "      <td>6.138</td>\n",
       "      <td>6.138</td>\n",
       "    </tr>\n",
       "    <tr>\n",
       "      <th rowspan=\"2\" valign=\"top\">textattack</th>\n",
       "      <th>intra_distance_negative</th>\n",
       "      <td>6.738</td>\n",
       "      <td>NaN</td>\n",
       "      <td>6.738</td>\n",
       "      <td>6.738</td>\n",
       "    </tr>\n",
       "    <tr>\n",
       "      <th>intra_distance_positive</th>\n",
       "      <td>7.118</td>\n",
       "      <td>NaN</td>\n",
       "      <td>7.118</td>\n",
       "      <td>7.118</td>\n",
       "    </tr>\n",
       "    <tr>\n",
       "      <th rowspan=\"2\" valign=\"top\">fabriceyhc</th>\n",
       "      <th>intra_distance_negative</th>\n",
       "      <td>7.644</td>\n",
       "      <td>NaN</td>\n",
       "      <td>7.644</td>\n",
       "      <td>7.644</td>\n",
       "    </tr>\n",
       "    <tr>\n",
       "      <th>intra_distance_positive</th>\n",
       "      <td>6.041</td>\n",
       "      <td>NaN</td>\n",
       "      <td>6.041</td>\n",
       "      <td>6.041</td>\n",
       "    </tr>\n",
       "    <tr>\n",
       "      <th rowspan=\"2\" valign=\"top\">wakaka</th>\n",
       "      <th>intra_distance_negative</th>\n",
       "      <td>7.437</td>\n",
       "      <td>NaN</td>\n",
       "      <td>7.437</td>\n",
       "      <td>7.437</td>\n",
       "    </tr>\n",
       "    <tr>\n",
       "      <th>intra_distance_positive</th>\n",
       "      <td>8.562</td>\n",
       "      <td>NaN</td>\n",
       "      <td>8.562</td>\n",
       "      <td>8.562</td>\n",
       "    </tr>\n",
       "  </tbody>\n",
       "</table>\n",
       "</div>"
      ],
      "text/plain": [
       "                                     mean  std    min    max\n",
       "model      metrics                                          \n",
       "base       intra_distance_negative  5.764  NaN  5.764  5.764\n",
       "           intra_distance_positive  6.138  NaN  6.138  6.138\n",
       "textattack intra_distance_negative  6.738  NaN  6.738  6.738\n",
       "           intra_distance_positive  7.118  NaN  7.118  7.118\n",
       "fabriceyhc intra_distance_negative  7.644  NaN  7.644  7.644\n",
       "           intra_distance_positive  6.041  NaN  6.041  6.041\n",
       "wakaka     intra_distance_negative  7.437  NaN  7.437  7.437\n",
       "           intra_distance_positive  8.562  NaN  8.562  8.562"
      ]
     },
     "metadata": {},
     "output_type": "display_data"
    },
    {
     "data": {
      "text/plain": [
       "'test'"
      ]
     },
     "metadata": {},
     "output_type": "display_data"
    },
    {
     "data": {
      "text/html": [
       "<div>\n",
       "<style scoped>\n",
       "    .dataframe tbody tr th:only-of-type {\n",
       "        vertical-align: middle;\n",
       "    }\n",
       "\n",
       "    .dataframe tbody tr th {\n",
       "        vertical-align: top;\n",
       "    }\n",
       "\n",
       "    .dataframe thead th {\n",
       "        text-align: right;\n",
       "    }\n",
       "</style>\n",
       "<table border=\"1\" class=\"dataframe\">\n",
       "  <thead>\n",
       "    <tr style=\"text-align: right;\">\n",
       "      <th></th>\n",
       "      <th></th>\n",
       "      <th>mean</th>\n",
       "      <th>std</th>\n",
       "      <th>min</th>\n",
       "      <th>max</th>\n",
       "    </tr>\n",
       "    <tr>\n",
       "      <th>model</th>\n",
       "      <th>metrics</th>\n",
       "      <th></th>\n",
       "      <th></th>\n",
       "      <th></th>\n",
       "      <th></th>\n",
       "    </tr>\n",
       "  </thead>\n",
       "  <tbody>\n",
       "    <tr>\n",
       "      <th rowspan=\"2\" valign=\"top\">base</th>\n",
       "      <th>intra_distance_negative</th>\n",
       "      <td>5.799</td>\n",
       "      <td>NaN</td>\n",
       "      <td>5.799</td>\n",
       "      <td>5.799</td>\n",
       "    </tr>\n",
       "    <tr>\n",
       "      <th>intra_distance_positive</th>\n",
       "      <td>6.085</td>\n",
       "      <td>NaN</td>\n",
       "      <td>6.085</td>\n",
       "      <td>6.085</td>\n",
       "    </tr>\n",
       "    <tr>\n",
       "      <th rowspan=\"2\" valign=\"top\">textattack</th>\n",
       "      <th>intra_distance_negative</th>\n",
       "      <td>6.935</td>\n",
       "      <td>NaN</td>\n",
       "      <td>6.935</td>\n",
       "      <td>6.935</td>\n",
       "    </tr>\n",
       "    <tr>\n",
       "      <th>intra_distance_positive</th>\n",
       "      <td>7.184</td>\n",
       "      <td>NaN</td>\n",
       "      <td>7.184</td>\n",
       "      <td>7.184</td>\n",
       "    </tr>\n",
       "    <tr>\n",
       "      <th rowspan=\"2\" valign=\"top\">fabriceyhc</th>\n",
       "      <th>intra_distance_negative</th>\n",
       "      <td>9.273</td>\n",
       "      <td>NaN</td>\n",
       "      <td>9.273</td>\n",
       "      <td>9.273</td>\n",
       "    </tr>\n",
       "    <tr>\n",
       "      <th>intra_distance_positive</th>\n",
       "      <td>7.438</td>\n",
       "      <td>NaN</td>\n",
       "      <td>7.438</td>\n",
       "      <td>7.438</td>\n",
       "    </tr>\n",
       "    <tr>\n",
       "      <th rowspan=\"2\" valign=\"top\">wakaka</th>\n",
       "      <th>intra_distance_negative</th>\n",
       "      <td>7.581</td>\n",
       "      <td>NaN</td>\n",
       "      <td>7.581</td>\n",
       "      <td>7.581</td>\n",
       "    </tr>\n",
       "    <tr>\n",
       "      <th>intra_distance_positive</th>\n",
       "      <td>8.447</td>\n",
       "      <td>NaN</td>\n",
       "      <td>8.447</td>\n",
       "      <td>8.447</td>\n",
       "    </tr>\n",
       "  </tbody>\n",
       "</table>\n",
       "</div>"
      ],
      "text/plain": [
       "                                     mean  std    min    max\n",
       "model      metrics                                          \n",
       "base       intra_distance_negative  5.799  NaN  5.799  5.799\n",
       "           intra_distance_positive  6.085  NaN  6.085  6.085\n",
       "textattack intra_distance_negative  6.935  NaN  6.935  6.935\n",
       "           intra_distance_positive  7.184  NaN  7.184  7.184\n",
       "fabriceyhc intra_distance_negative  9.273  NaN  9.273  9.273\n",
       "           intra_distance_positive  7.438  NaN  7.438  7.438\n",
       "wakaka     intra_distance_negative  7.581  NaN  7.581  7.581\n",
       "           intra_distance_positive  8.447  NaN  8.447  8.447"
      ]
     },
     "metadata": {},
     "output_type": "display_data"
    }
   ],
   "source": [
    "for label, data in dispersion.items():\n",
    "    formatted: pd.DataFrame = (\n",
    "        data\n",
    "        [['mean', 'std', 'min', 'max']]\n",
    "        .round(3)\n",
    "    )\n",
    "    formatted.to_csv(f'{OUT_PATH}/{label}.metric.dispersion.csv')\n",
    "    formatted.style.to_latex(f'{OUT_PATH}/{label}.metric.dispersion.tex')\n",
    "    display(label, formatted)\n",
    "    # print(formatted.to_markdown())"
   ]
  },
  {
   "cell_type": "code",
   "execution_count": 79,
   "metadata": {
    "collapsed": false,
    "pycharm": {
     "name": "#%%\n"
    }
   },
   "outputs": [],
   "source": []
  }
 ],
 "metadata": {
  "kernelspec": {
   "display_name": "Python 3",
   "language": "python",
   "name": "python3"
  },
  "language_info": {
   "codemirror_mode": {
    "name": "ipython",
    "version": 3
   },
   "file_extension": ".py",
   "mimetype": "text/x-python",
   "name": "python",
   "nbconvert_exporter": "python",
   "pygments_lexer": "ipython3",
   "version": "3.8.5"
  }
 },
 "nbformat": 4,
 "nbformat_minor": 0
}
