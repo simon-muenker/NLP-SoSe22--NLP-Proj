{
 "cells": [
  {
   "cell_type": "code",
   "execution_count": 38,
   "metadata": {
    "collapsed": false,
    "execution": {
     "iopub.execute_input": "2022-09-13T23:56:00.716931Z",
     "iopub.status.busy": "2022-09-13T23:56:00.716166Z",
     "iopub.status.idle": "2022-09-13T23:56:01.375735Z",
     "shell.execute_reply": "2022-09-13T23:56:01.374632Z"
    },
    "pycharm": {
     "name": "#%%\n"
    }
   },
   "outputs": [],
   "source": [
    "import matplotlib.pyplot as plt\n",
    "\n",
    "%matplotlib inline\n",
    "plt.rcParams[\"figure.figsize\"] = (12, 16)"
   ]
  },
  {
   "cell_type": "code",
   "execution_count": 39,
   "metadata": {
    "collapsed": false,
    "execution": {
     "iopub.execute_input": "2022-09-13T23:56:01.379368Z",
     "iopub.status.busy": "2022-09-13T23:56:01.378989Z",
     "iopub.status.idle": "2022-09-13T23:56:01.630115Z",
     "shell.execute_reply": "2022-09-13T23:56:01.628970Z"
    },
    "pycharm": {
     "name": "#%%\n"
    }
   },
   "outputs": [],
   "source": [
    "import pandas as pd"
   ]
  },
  {
   "cell_type": "code",
   "execution_count": 40,
   "metadata": {
    "collapsed": false,
    "execution": {
     "iopub.execute_input": "2022-09-13T23:56:01.634653Z",
     "iopub.status.busy": "2022-09-13T23:56:01.634244Z",
     "iopub.status.idle": "2022-09-13T23:56:01.638614Z",
     "shell.execute_reply": "2022-09-13T23:56:01.637764Z"
    },
    "pycharm": {
     "name": "#%%\n"
    }
   },
   "outputs": [],
   "source": [
    "IN_PATH: str = '../results/manifolds/raw'\n",
    "OUT_PATH: str = '../results/manifolds'"
   ]
  },
  {
   "cell_type": "code",
   "execution_count": 41,
   "metadata": {
    "collapsed": false,
    "execution": {
     "iopub.execute_input": "2022-09-13T23:56:01.642698Z",
     "iopub.status.busy": "2022-09-13T23:56:01.642393Z",
     "iopub.status.idle": "2022-09-13T23:56:01.646191Z",
     "shell.execute_reply": "2022-09-13T23:56:01.645345Z"
    },
    "pycharm": {
     "name": "#%%\n"
    }
   },
   "outputs": [],
   "source": [
    "DATASETS: list = ['train', 'test']"
   ]
  },
  {
   "cell_type": "code",
   "execution_count": 42,
   "metadata": {
    "collapsed": false,
    "execution": {
     "iopub.execute_input": "2022-09-13T23:56:01.649344Z",
     "iopub.status.busy": "2022-09-13T23:56:01.648942Z",
     "iopub.status.idle": "2022-09-13T23:56:01.653321Z",
     "shell.execute_reply": "2022-09-13T23:56:01.652406Z"
    },
    "pycharm": {
     "name": "#%%\n"
    }
   },
   "outputs": [],
   "source": [
    "MODELS: list = [ 'base', 'textattack', 'fabriceyhc', 'wakaka']"
   ]
  },
  {
   "cell_type": "code",
   "execution_count": 43,
   "outputs": [],
   "source": [
    "COLS_OF_INTEREST: list = ['mean', 'std', 'min', 'max']"
   ],
   "metadata": {
    "collapsed": false,
    "pycharm": {
     "name": "#%%\n"
    }
   }
  },
  {
   "cell_type": "code",
   "execution_count": 44,
   "metadata": {
    "collapsed": false,
    "execution": {
     "iopub.execute_input": "2022-09-13T23:56:01.656773Z",
     "iopub.status.busy": "2022-09-13T23:56:01.656373Z",
     "iopub.status.idle": "2022-09-13T23:56:01.660492Z",
     "shell.execute_reply": "2022-09-13T23:56:01.659523Z"
    },
    "pycharm": {
     "name": "#%%\n"
    }
   },
   "outputs": [],
   "source": [
    "### Load Datasets into memory"
   ]
  },
  {
   "cell_type": "code",
   "execution_count": 45,
   "outputs": [],
   "source": [
    "def convert_to_multi_col(df:pd.DataFrame, meta_col: str) -> pd.DataFrame:\n",
    "    df.columns = pd.MultiIndex.from_product([[meta_col], df.columns], names=['model', 'metrics'])\n",
    "\n",
    "    return df"
   ],
   "metadata": {
    "collapsed": false,
    "pycharm": {
     "name": "#%%\n"
    }
   }
  },
  {
   "cell_type": "code",
   "execution_count": 46,
   "metadata": {
    "collapsed": false,
    "execution": {
     "iopub.execute_input": "2022-09-13T23:56:01.663647Z",
     "iopub.status.busy": "2022-09-13T23:56:01.663289Z",
     "iopub.status.idle": "2022-09-13T23:56:01.688450Z",
     "shell.execute_reply": "2022-09-13T23:56:01.687601Z"
    },
    "pycharm": {
     "name": "#%%\n"
    }
   },
   "outputs": [],
   "source": [
    "analysis: dict = {\n",
    "    data: pd.concat(\n",
    "        [(\n",
    "            pd\n",
    "            .read_csv(f'{IN_PATH}/{data}.{model}.csv', index_col=0)\n",
    "            .set_index(['dim'])\n",
    "            .pipe(convert_to_multi_col, model)\n",
    "        )\n",
    "            for model in MODELS],\n",
    "        axis=1)\n",
    "    for data in DATASETS\n",
    "}"
   ]
  },
  {
   "cell_type": "code",
   "execution_count": 47,
   "metadata": {
    "collapsed": false,
    "execution": {
     "iopub.execute_input": "2022-09-13T23:56:01.691700Z",
     "iopub.status.busy": "2022-09-13T23:56:01.691360Z",
     "iopub.status.idle": "2022-09-13T23:56:01.726531Z",
     "shell.execute_reply": "2022-09-13T23:56:01.725685Z"
    },
    "pycharm": {
     "name": "#%%\n"
    }
   },
   "outputs": [
    {
     "data": {
      "text/plain": "'train'"
     },
     "metadata": {},
     "output_type": "display_data"
    },
    {
     "data": {
      "text/plain": "model                  base                                        textattack  \\\nmetrics dispersion_positive dispersion_negative  distance dispersion_positive   \ndim                                                                             \n768            1.846608e+06        1.474544e+06  1.191455        2.136783e+06   \n576            1.848007e+06        1.475781e+06  1.104581        2.137147e+06   \n384            1.847754e+06        1.475565e+06  1.115865        2.136869e+06   \n192            1.847403e+06        1.475146e+06  1.117858        2.135925e+06   \n96             1.845973e+06        1.473852e+06  1.167782        2.133923e+06   \n48             1.843396e+06        1.471407e+06  1.218857        2.129540e+06   \n24             1.838040e+06        1.465957e+06  1.328104        2.120059e+06   \n12             1.826143e+06        1.454249e+06  1.517147        2.098074e+06   \n6              1.812401e+06        1.435127e+06  1.248237        2.042790e+06   \n3              1.768678e+06        1.375959e+06  1.019506        1.881023e+06   \n\nmodel                                          fabriceyhc                      \\\nmetrics dispersion_negative  distance dispersion_positive dispersion_negative   \ndim                                                                             \n768            1.716567e+06  7.983203        1.841314e+06        1.778661e+06   \n576            1.716806e+06  7.985439        1.841794e+06        1.779128e+06   \n384            1.716547e+06  7.986923        1.841676e+06        1.779056e+06   \n192            1.715649e+06  7.993095        1.841426e+06        1.778840e+06   \n96             1.713791e+06  8.005571        1.840792e+06        1.778376e+06   \n48             1.709696e+06  8.032312        1.839467e+06        1.777263e+06   \n24             1.700843e+06  8.090835        1.836317e+06        1.774793e+06   \n12             1.680481e+06  8.221065        1.828286e+06        1.768427e+06   \n6              1.630799e+06  8.522049        1.805838e+06        1.749138e+06   \n3              1.487288e+06  9.313700        1.707622e+06        1.662055e+06   \n\nmodel                           wakaka                                 \nmetrics   distance dispersion_positive dispersion_negative   distance  \ndim                                                                    \n768      23.344327        2.522510e+06        1.890411e+06  11.647890  \n576      23.344435        2.522973e+06        1.890731e+06  11.650852  \n384      23.344594        2.522782e+06        1.890579e+06  11.651119  \n192      23.344719        2.522103e+06        1.889882e+06  11.653348  \n96       23.345179        2.520431e+06        1.888266e+06  11.660106  \n48       23.346219        2.516740e+06        1.884904e+06  11.674473  \n24       23.348690        2.509036e+06        1.877356e+06  11.702982  \n12       23.355068        2.489279e+06        1.859478e+06  11.784167  \n6        23.376483        2.438433e+06        1.812340e+06  11.991117  \n3        23.559772        2.300045e+06        1.676438e+06  12.581335  ",
      "text/html": "<div>\n<style scoped>\n    .dataframe tbody tr th:only-of-type {\n        vertical-align: middle;\n    }\n\n    .dataframe tbody tr th {\n        vertical-align: top;\n    }\n\n    .dataframe thead tr th {\n        text-align: left;\n    }\n\n    .dataframe thead tr:last-of-type th {\n        text-align: right;\n    }\n</style>\n<table border=\"1\" class=\"dataframe\">\n  <thead>\n    <tr>\n      <th>model</th>\n      <th colspan=\"3\" halign=\"left\">base</th>\n      <th colspan=\"3\" halign=\"left\">textattack</th>\n      <th colspan=\"3\" halign=\"left\">fabriceyhc</th>\n      <th colspan=\"3\" halign=\"left\">wakaka</th>\n    </tr>\n    <tr>\n      <th>metrics</th>\n      <th>dispersion_positive</th>\n      <th>dispersion_negative</th>\n      <th>distance</th>\n      <th>dispersion_positive</th>\n      <th>dispersion_negative</th>\n      <th>distance</th>\n      <th>dispersion_positive</th>\n      <th>dispersion_negative</th>\n      <th>distance</th>\n      <th>dispersion_positive</th>\n      <th>dispersion_negative</th>\n      <th>distance</th>\n    </tr>\n    <tr>\n      <th>dim</th>\n      <th></th>\n      <th></th>\n      <th></th>\n      <th></th>\n      <th></th>\n      <th></th>\n      <th></th>\n      <th></th>\n      <th></th>\n      <th></th>\n      <th></th>\n      <th></th>\n    </tr>\n  </thead>\n  <tbody>\n    <tr>\n      <th>768</th>\n      <td>1.846608e+06</td>\n      <td>1.474544e+06</td>\n      <td>1.191455</td>\n      <td>2.136783e+06</td>\n      <td>1.716567e+06</td>\n      <td>7.983203</td>\n      <td>1.841314e+06</td>\n      <td>1.778661e+06</td>\n      <td>23.344327</td>\n      <td>2.522510e+06</td>\n      <td>1.890411e+06</td>\n      <td>11.647890</td>\n    </tr>\n    <tr>\n      <th>576</th>\n      <td>1.848007e+06</td>\n      <td>1.475781e+06</td>\n      <td>1.104581</td>\n      <td>2.137147e+06</td>\n      <td>1.716806e+06</td>\n      <td>7.985439</td>\n      <td>1.841794e+06</td>\n      <td>1.779128e+06</td>\n      <td>23.344435</td>\n      <td>2.522973e+06</td>\n      <td>1.890731e+06</td>\n      <td>11.650852</td>\n    </tr>\n    <tr>\n      <th>384</th>\n      <td>1.847754e+06</td>\n      <td>1.475565e+06</td>\n      <td>1.115865</td>\n      <td>2.136869e+06</td>\n      <td>1.716547e+06</td>\n      <td>7.986923</td>\n      <td>1.841676e+06</td>\n      <td>1.779056e+06</td>\n      <td>23.344594</td>\n      <td>2.522782e+06</td>\n      <td>1.890579e+06</td>\n      <td>11.651119</td>\n    </tr>\n    <tr>\n      <th>192</th>\n      <td>1.847403e+06</td>\n      <td>1.475146e+06</td>\n      <td>1.117858</td>\n      <td>2.135925e+06</td>\n      <td>1.715649e+06</td>\n      <td>7.993095</td>\n      <td>1.841426e+06</td>\n      <td>1.778840e+06</td>\n      <td>23.344719</td>\n      <td>2.522103e+06</td>\n      <td>1.889882e+06</td>\n      <td>11.653348</td>\n    </tr>\n    <tr>\n      <th>96</th>\n      <td>1.845973e+06</td>\n      <td>1.473852e+06</td>\n      <td>1.167782</td>\n      <td>2.133923e+06</td>\n      <td>1.713791e+06</td>\n      <td>8.005571</td>\n      <td>1.840792e+06</td>\n      <td>1.778376e+06</td>\n      <td>23.345179</td>\n      <td>2.520431e+06</td>\n      <td>1.888266e+06</td>\n      <td>11.660106</td>\n    </tr>\n    <tr>\n      <th>48</th>\n      <td>1.843396e+06</td>\n      <td>1.471407e+06</td>\n      <td>1.218857</td>\n      <td>2.129540e+06</td>\n      <td>1.709696e+06</td>\n      <td>8.032312</td>\n      <td>1.839467e+06</td>\n      <td>1.777263e+06</td>\n      <td>23.346219</td>\n      <td>2.516740e+06</td>\n      <td>1.884904e+06</td>\n      <td>11.674473</td>\n    </tr>\n    <tr>\n      <th>24</th>\n      <td>1.838040e+06</td>\n      <td>1.465957e+06</td>\n      <td>1.328104</td>\n      <td>2.120059e+06</td>\n      <td>1.700843e+06</td>\n      <td>8.090835</td>\n      <td>1.836317e+06</td>\n      <td>1.774793e+06</td>\n      <td>23.348690</td>\n      <td>2.509036e+06</td>\n      <td>1.877356e+06</td>\n      <td>11.702982</td>\n    </tr>\n    <tr>\n      <th>12</th>\n      <td>1.826143e+06</td>\n      <td>1.454249e+06</td>\n      <td>1.517147</td>\n      <td>2.098074e+06</td>\n      <td>1.680481e+06</td>\n      <td>8.221065</td>\n      <td>1.828286e+06</td>\n      <td>1.768427e+06</td>\n      <td>23.355068</td>\n      <td>2.489279e+06</td>\n      <td>1.859478e+06</td>\n      <td>11.784167</td>\n    </tr>\n    <tr>\n      <th>6</th>\n      <td>1.812401e+06</td>\n      <td>1.435127e+06</td>\n      <td>1.248237</td>\n      <td>2.042790e+06</td>\n      <td>1.630799e+06</td>\n      <td>8.522049</td>\n      <td>1.805838e+06</td>\n      <td>1.749138e+06</td>\n      <td>23.376483</td>\n      <td>2.438433e+06</td>\n      <td>1.812340e+06</td>\n      <td>11.991117</td>\n    </tr>\n    <tr>\n      <th>3</th>\n      <td>1.768678e+06</td>\n      <td>1.375959e+06</td>\n      <td>1.019506</td>\n      <td>1.881023e+06</td>\n      <td>1.487288e+06</td>\n      <td>9.313700</td>\n      <td>1.707622e+06</td>\n      <td>1.662055e+06</td>\n      <td>23.559772</td>\n      <td>2.300045e+06</td>\n      <td>1.676438e+06</td>\n      <td>12.581335</td>\n    </tr>\n  </tbody>\n</table>\n</div>"
     },
     "metadata": {},
     "output_type": "display_data"
    },
    {
     "data": {
      "text/plain": "'test'"
     },
     "metadata": {},
     "output_type": "display_data"
    },
    {
     "data": {
      "text/plain": "model                  base                                        textattack  \\\nmetrics dispersion_positive dispersion_negative  distance dispersion_positive   \ndim                                                                             \n768            1.682362e+06        1.571783e+06  1.254312        1.997442e+06   \n576            1.683568e+06        1.572977e+06  1.182686        1.997749e+06   \n384            1.683447e+06        1.572856e+06  1.180682        1.997455e+06   \n192            1.682942e+06        1.572307e+06  1.195615        1.996618e+06   \n96             1.681746e+06        1.571151e+06  1.225906        1.994685e+06   \n48             1.679057e+06        1.568448e+06  1.286972        1.990453e+06   \n24             1.674267e+06        1.563556e+06  1.354284        1.981440e+06   \n12             1.661568e+06        1.550616e+06  1.593289        1.960951e+06   \n6              1.634855e+06        1.520840e+06  1.905295        1.907166e+06   \n3              1.603535e+06        1.468301e+06  1.333726        1.757716e+06   \n\nmodel                                          fabriceyhc                      \\\nmetrics dispersion_negative  distance dispersion_positive dispersion_negative   \ndim                                                                             \n768            1.865335e+06  7.293892        2.011053e+06        2.339915e+06   \n576            1.865593e+06  7.296332        2.011486e+06        2.340341e+06   \n384            1.865311e+06  7.298676        2.011368e+06        2.340235e+06   \n192            1.864474e+06  7.304216        2.011151e+06        2.340037e+06   \n96             1.862614e+06  7.317522        2.010568e+06        2.339567e+06   \n48             1.858556e+06  7.346356        2.009287e+06        2.338370e+06   \n24             1.849680e+06  7.408480        2.006147e+06        2.335904e+06   \n12             1.829719e+06  7.541790        1.998519e+06        2.329213e+06   \n6              1.777770e+06  7.878604        1.974660e+06        2.308466e+06   \n3              1.640257e+06  8.683845        1.879749e+06        2.233494e+06   \n\nmodel                           wakaka                                 \nmetrics   distance dispersion_positive dispersion_negative   distance  \ndim                                                                    \n768      19.961293        2.327735e+06        2.037541e+06  11.718390  \n576      19.961680        2.328194e+06        2.037943e+06  11.720677  \n384      19.961977        2.327959e+06        2.037697e+06  11.721993  \n192      19.961979        2.327250e+06        2.036991e+06  11.724361  \n96       19.962522        2.325808e+06        2.035462e+06  11.729770  \n48       19.963800        2.322370e+06        2.032033e+06  11.741664  \n24       19.966276        2.314735e+06        2.024343e+06  11.771790  \n12       19.974889        2.295898e+06        2.005609e+06  11.851487  \n6        20.006246        2.244949e+06        1.957892e+06  12.057583  \n3        20.204602        2.108218e+06        1.825098e+06  12.633208  ",
      "text/html": "<div>\n<style scoped>\n    .dataframe tbody tr th:only-of-type {\n        vertical-align: middle;\n    }\n\n    .dataframe tbody tr th {\n        vertical-align: top;\n    }\n\n    .dataframe thead tr th {\n        text-align: left;\n    }\n\n    .dataframe thead tr:last-of-type th {\n        text-align: right;\n    }\n</style>\n<table border=\"1\" class=\"dataframe\">\n  <thead>\n    <tr>\n      <th>model</th>\n      <th colspan=\"3\" halign=\"left\">base</th>\n      <th colspan=\"3\" halign=\"left\">textattack</th>\n      <th colspan=\"3\" halign=\"left\">fabriceyhc</th>\n      <th colspan=\"3\" halign=\"left\">wakaka</th>\n    </tr>\n    <tr>\n      <th>metrics</th>\n      <th>dispersion_positive</th>\n      <th>dispersion_negative</th>\n      <th>distance</th>\n      <th>dispersion_positive</th>\n      <th>dispersion_negative</th>\n      <th>distance</th>\n      <th>dispersion_positive</th>\n      <th>dispersion_negative</th>\n      <th>distance</th>\n      <th>dispersion_positive</th>\n      <th>dispersion_negative</th>\n      <th>distance</th>\n    </tr>\n    <tr>\n      <th>dim</th>\n      <th></th>\n      <th></th>\n      <th></th>\n      <th></th>\n      <th></th>\n      <th></th>\n      <th></th>\n      <th></th>\n      <th></th>\n      <th></th>\n      <th></th>\n      <th></th>\n    </tr>\n  </thead>\n  <tbody>\n    <tr>\n      <th>768</th>\n      <td>1.682362e+06</td>\n      <td>1.571783e+06</td>\n      <td>1.254312</td>\n      <td>1.997442e+06</td>\n      <td>1.865335e+06</td>\n      <td>7.293892</td>\n      <td>2.011053e+06</td>\n      <td>2.339915e+06</td>\n      <td>19.961293</td>\n      <td>2.327735e+06</td>\n      <td>2.037541e+06</td>\n      <td>11.718390</td>\n    </tr>\n    <tr>\n      <th>576</th>\n      <td>1.683568e+06</td>\n      <td>1.572977e+06</td>\n      <td>1.182686</td>\n      <td>1.997749e+06</td>\n      <td>1.865593e+06</td>\n      <td>7.296332</td>\n      <td>2.011486e+06</td>\n      <td>2.340341e+06</td>\n      <td>19.961680</td>\n      <td>2.328194e+06</td>\n      <td>2.037943e+06</td>\n      <td>11.720677</td>\n    </tr>\n    <tr>\n      <th>384</th>\n      <td>1.683447e+06</td>\n      <td>1.572856e+06</td>\n      <td>1.180682</td>\n      <td>1.997455e+06</td>\n      <td>1.865311e+06</td>\n      <td>7.298676</td>\n      <td>2.011368e+06</td>\n      <td>2.340235e+06</td>\n      <td>19.961977</td>\n      <td>2.327959e+06</td>\n      <td>2.037697e+06</td>\n      <td>11.721993</td>\n    </tr>\n    <tr>\n      <th>192</th>\n      <td>1.682942e+06</td>\n      <td>1.572307e+06</td>\n      <td>1.195615</td>\n      <td>1.996618e+06</td>\n      <td>1.864474e+06</td>\n      <td>7.304216</td>\n      <td>2.011151e+06</td>\n      <td>2.340037e+06</td>\n      <td>19.961979</td>\n      <td>2.327250e+06</td>\n      <td>2.036991e+06</td>\n      <td>11.724361</td>\n    </tr>\n    <tr>\n      <th>96</th>\n      <td>1.681746e+06</td>\n      <td>1.571151e+06</td>\n      <td>1.225906</td>\n      <td>1.994685e+06</td>\n      <td>1.862614e+06</td>\n      <td>7.317522</td>\n      <td>2.010568e+06</td>\n      <td>2.339567e+06</td>\n      <td>19.962522</td>\n      <td>2.325808e+06</td>\n      <td>2.035462e+06</td>\n      <td>11.729770</td>\n    </tr>\n    <tr>\n      <th>48</th>\n      <td>1.679057e+06</td>\n      <td>1.568448e+06</td>\n      <td>1.286972</td>\n      <td>1.990453e+06</td>\n      <td>1.858556e+06</td>\n      <td>7.346356</td>\n      <td>2.009287e+06</td>\n      <td>2.338370e+06</td>\n      <td>19.963800</td>\n      <td>2.322370e+06</td>\n      <td>2.032033e+06</td>\n      <td>11.741664</td>\n    </tr>\n    <tr>\n      <th>24</th>\n      <td>1.674267e+06</td>\n      <td>1.563556e+06</td>\n      <td>1.354284</td>\n      <td>1.981440e+06</td>\n      <td>1.849680e+06</td>\n      <td>7.408480</td>\n      <td>2.006147e+06</td>\n      <td>2.335904e+06</td>\n      <td>19.966276</td>\n      <td>2.314735e+06</td>\n      <td>2.024343e+06</td>\n      <td>11.771790</td>\n    </tr>\n    <tr>\n      <th>12</th>\n      <td>1.661568e+06</td>\n      <td>1.550616e+06</td>\n      <td>1.593289</td>\n      <td>1.960951e+06</td>\n      <td>1.829719e+06</td>\n      <td>7.541790</td>\n      <td>1.998519e+06</td>\n      <td>2.329213e+06</td>\n      <td>19.974889</td>\n      <td>2.295898e+06</td>\n      <td>2.005609e+06</td>\n      <td>11.851487</td>\n    </tr>\n    <tr>\n      <th>6</th>\n      <td>1.634855e+06</td>\n      <td>1.520840e+06</td>\n      <td>1.905295</td>\n      <td>1.907166e+06</td>\n      <td>1.777770e+06</td>\n      <td>7.878604</td>\n      <td>1.974660e+06</td>\n      <td>2.308466e+06</td>\n      <td>20.006246</td>\n      <td>2.244949e+06</td>\n      <td>1.957892e+06</td>\n      <td>12.057583</td>\n    </tr>\n    <tr>\n      <th>3</th>\n      <td>1.603535e+06</td>\n      <td>1.468301e+06</td>\n      <td>1.333726</td>\n      <td>1.757716e+06</td>\n      <td>1.640257e+06</td>\n      <td>8.683845</td>\n      <td>1.879749e+06</td>\n      <td>2.233494e+06</td>\n      <td>20.204602</td>\n      <td>2.108218e+06</td>\n      <td>1.825098e+06</td>\n      <td>12.633208</td>\n    </tr>\n  </tbody>\n</table>\n</div>"
     },
     "metadata": {},
     "output_type": "display_data"
    }
   ],
   "source": [
    "for label, data in analysis.items():\n",
    "    display(label, data)"
   ]
  },
  {
   "cell_type": "code",
   "execution_count": 48,
   "metadata": {
    "collapsed": false,
    "execution": {
     "iopub.execute_input": "2022-09-13T23:56:01.738122Z",
     "iopub.status.busy": "2022-09-13T23:56:01.737769Z",
     "iopub.status.idle": "2022-09-13T23:56:01.742245Z",
     "shell.execute_reply": "2022-09-13T23:56:01.741266Z"
    },
    "pycharm": {
     "name": "#%%\n"
    }
   },
   "outputs": [],
   "source": [
    "### Calculate Centroid Distance and Cluster Dispersion"
   ]
  },
  {
   "cell_type": "code",
   "execution_count": 49,
   "metadata": {
    "collapsed": false,
    "execution": {
     "iopub.execute_input": "2022-09-13T23:56:01.745964Z",
     "iopub.status.busy": "2022-09-13T23:56:01.745584Z",
     "iopub.status.idle": "2022-09-13T23:56:01.770102Z",
     "shell.execute_reply": "2022-09-13T23:56:01.769263Z"
    },
    "pycharm": {
     "name": "#%%\n"
    }
   },
   "outputs": [],
   "source": [
    "distances: dict = {\n",
    "    label: (\n",
    "        data\n",
    "        .filter(regex=\".*distance\")\n",
    "        .describe()\n",
    "        .T\n",
    "    )\n",
    "    for label, data in analysis.items()\n",
    "}"
   ]
  },
  {
   "cell_type": "code",
   "execution_count": 50,
   "metadata": {
    "collapsed": false,
    "execution": {
     "iopub.execute_input": "2022-09-13T23:56:01.774458Z",
     "iopub.status.busy": "2022-09-13T23:56:01.774178Z",
     "iopub.status.idle": "2022-09-13T23:56:01.855820Z",
     "shell.execute_reply": "2022-09-13T23:56:01.854972Z"
    },
    "pycharm": {
     "name": "#%%\n"
    }
   },
   "outputs": [
    {
     "data": {
      "text/plain": "                       mean    std     min     max\nmodel      metrics                                \nbase       distance   1.203  0.140   1.020   1.517\ntextattack distance   8.213  0.422   7.983   9.314\nfabriceyhc distance  23.371  0.067  23.344  23.560\nwakaka     distance  11.800  0.295  11.648  12.581",
      "text/html": "<div>\n<style scoped>\n    .dataframe tbody tr th:only-of-type {\n        vertical-align: middle;\n    }\n\n    .dataframe tbody tr th {\n        vertical-align: top;\n    }\n\n    .dataframe thead th {\n        text-align: right;\n    }\n</style>\n<table border=\"1\" class=\"dataframe\">\n  <thead>\n    <tr style=\"text-align: right;\">\n      <th></th>\n      <th></th>\n      <th>mean</th>\n      <th>std</th>\n      <th>min</th>\n      <th>max</th>\n    </tr>\n    <tr>\n      <th>model</th>\n      <th>metrics</th>\n      <th></th>\n      <th></th>\n      <th></th>\n      <th></th>\n    </tr>\n  </thead>\n  <tbody>\n    <tr>\n      <th>base</th>\n      <th>distance</th>\n      <td>1.203</td>\n      <td>0.140</td>\n      <td>1.020</td>\n      <td>1.517</td>\n    </tr>\n    <tr>\n      <th>textattack</th>\n      <th>distance</th>\n      <td>8.213</td>\n      <td>0.422</td>\n      <td>7.983</td>\n      <td>9.314</td>\n    </tr>\n    <tr>\n      <th>fabriceyhc</th>\n      <th>distance</th>\n      <td>23.371</td>\n      <td>0.067</td>\n      <td>23.344</td>\n      <td>23.560</td>\n    </tr>\n    <tr>\n      <th>wakaka</th>\n      <th>distance</th>\n      <td>11.800</td>\n      <td>0.295</td>\n      <td>11.648</td>\n      <td>12.581</td>\n    </tr>\n  </tbody>\n</table>\n</div>"
     },
     "metadata": {},
     "output_type": "display_data"
    },
    {
     "data": {
      "text/plain": "                       mean    std     min     max\nmodel      metrics                                \nbase       distance   1.351  0.230   1.181   1.905\ntextattack distance   7.537  0.442   7.294   8.684\nfabriceyhc distance  19.993  0.076  19.961  20.205\nwakaka     distance  11.867  0.289  11.718  12.633",
      "text/html": "<div>\n<style scoped>\n    .dataframe tbody tr th:only-of-type {\n        vertical-align: middle;\n    }\n\n    .dataframe tbody tr th {\n        vertical-align: top;\n    }\n\n    .dataframe thead th {\n        text-align: right;\n    }\n</style>\n<table border=\"1\" class=\"dataframe\">\n  <thead>\n    <tr style=\"text-align: right;\">\n      <th></th>\n      <th></th>\n      <th>mean</th>\n      <th>std</th>\n      <th>min</th>\n      <th>max</th>\n    </tr>\n    <tr>\n      <th>model</th>\n      <th>metrics</th>\n      <th></th>\n      <th></th>\n      <th></th>\n      <th></th>\n    </tr>\n  </thead>\n  <tbody>\n    <tr>\n      <th>base</th>\n      <th>distance</th>\n      <td>1.351</td>\n      <td>0.230</td>\n      <td>1.181</td>\n      <td>1.905</td>\n    </tr>\n    <tr>\n      <th>textattack</th>\n      <th>distance</th>\n      <td>7.537</td>\n      <td>0.442</td>\n      <td>7.294</td>\n      <td>8.684</td>\n    </tr>\n    <tr>\n      <th>fabriceyhc</th>\n      <th>distance</th>\n      <td>19.993</td>\n      <td>0.076</td>\n      <td>19.961</td>\n      <td>20.205</td>\n    </tr>\n    <tr>\n      <th>wakaka</th>\n      <th>distance</th>\n      <td>11.867</td>\n      <td>0.289</td>\n      <td>11.718</td>\n      <td>12.633</td>\n    </tr>\n  </tbody>\n</table>\n</div>"
     },
     "metadata": {},
     "output_type": "display_data"
    }
   ],
   "source": [
    "for label, data in distances.items():\n",
    "    formatted: pd.DataFrame = (\n",
    "        data\n",
    "        [COLS_OF_INTEREST]\n",
    "        .round(3)\n",
    "    )\n",
    "    formatted.to_csv(f'{OUT_PATH}/{label}.metric.distance.csv')\n",
    "    formatted.style.to_latex(f'{OUT_PATH}/{label}.metric.distance.tex')\n",
    "    display(formatted)"
   ]
  },
  {
   "cell_type": "code",
   "execution_count": 51,
   "metadata": {
    "collapsed": false,
    "execution": {
     "iopub.execute_input": "2022-09-13T23:56:01.860466Z",
     "iopub.status.busy": "2022-09-13T23:56:01.860131Z",
     "iopub.status.idle": "2022-09-13T23:56:01.895375Z",
     "shell.execute_reply": "2022-09-13T23:56:01.894252Z"
    },
    "pycharm": {
     "name": "#%%\n"
    }
   },
   "outputs": [],
   "source": [
    "dispersion: dict = {\n",
    "    label: (\n",
    "        data\n",
    "        .filter(regex=\".*dispersion\")\n",
    "        .describe()\n",
    "        .T\n",
    "    )\n",
    "    for label, data in analysis.items()\n",
    "}"
   ]
  },
  {
   "cell_type": "code",
   "execution_count": 52,
   "metadata": {
    "collapsed": false,
    "execution": {
     "iopub.execute_input": "2022-09-13T23:56:01.899382Z",
     "iopub.status.busy": "2022-09-13T23:56:01.899057Z",
     "iopub.status.idle": "2022-09-13T23:56:01.928742Z",
     "shell.execute_reply": "2022-09-13T23:56:01.927884Z"
    },
    "pycharm": {
     "name": "#%%\n"
    }
   },
   "outputs": [
    {
     "data": {
      "text/plain": "                                       mean        std          min  \\\nmodel      metrics                                                    \nbase       dispersion_positive  1832440.216  25260.425  1768678.117   \n           dispersion_negative  1457758.694  31542.202  1375958.570   \ntextattack dispersion_positive  2095213.308  80833.923  1881022.752   \n           dispersion_negative  1678846.742  72496.991  1487287.578   \nfabriceyhc dispersion_positive  1822453.212  41864.413  1707621.660   \n           dispersion_negative  1762573.772  36518.920  1662054.975   \nwakaka     dispersion_positive  2486433.151  70606.965  2300045.096   \n           dispersion_negative  1856038.534  67681.762  1676438.294   \n\n                                        max  \nmodel      metrics                           \nbase       dispersion_positive  1848006.724  \n           dispersion_negative  1475781.297  \ntextattack dispersion_positive  2137146.959  \n           dispersion_negative  1716806.434  \nfabriceyhc dispersion_positive  1841794.494  \n           dispersion_negative  1779127.751  \nwakaka     dispersion_positive  2522973.115  \n           dispersion_negative  1890730.572  ",
      "text/html": "<div>\n<style scoped>\n    .dataframe tbody tr th:only-of-type {\n        vertical-align: middle;\n    }\n\n    .dataframe tbody tr th {\n        vertical-align: top;\n    }\n\n    .dataframe thead th {\n        text-align: right;\n    }\n</style>\n<table border=\"1\" class=\"dataframe\">\n  <thead>\n    <tr style=\"text-align: right;\">\n      <th></th>\n      <th></th>\n      <th>mean</th>\n      <th>std</th>\n      <th>min</th>\n      <th>max</th>\n    </tr>\n    <tr>\n      <th>model</th>\n      <th>metrics</th>\n      <th></th>\n      <th></th>\n      <th></th>\n      <th></th>\n    </tr>\n  </thead>\n  <tbody>\n    <tr>\n      <th rowspan=\"2\" valign=\"top\">base</th>\n      <th>dispersion_positive</th>\n      <td>1832440.216</td>\n      <td>25260.425</td>\n      <td>1768678.117</td>\n      <td>1848006.724</td>\n    </tr>\n    <tr>\n      <th>dispersion_negative</th>\n      <td>1457758.694</td>\n      <td>31542.202</td>\n      <td>1375958.570</td>\n      <td>1475781.297</td>\n    </tr>\n    <tr>\n      <th rowspan=\"2\" valign=\"top\">textattack</th>\n      <th>dispersion_positive</th>\n      <td>2095213.308</td>\n      <td>80833.923</td>\n      <td>1881022.752</td>\n      <td>2137146.959</td>\n    </tr>\n    <tr>\n      <th>dispersion_negative</th>\n      <td>1678846.742</td>\n      <td>72496.991</td>\n      <td>1487287.578</td>\n      <td>1716806.434</td>\n    </tr>\n    <tr>\n      <th rowspan=\"2\" valign=\"top\">fabriceyhc</th>\n      <th>dispersion_positive</th>\n      <td>1822453.212</td>\n      <td>41864.413</td>\n      <td>1707621.660</td>\n      <td>1841794.494</td>\n    </tr>\n    <tr>\n      <th>dispersion_negative</th>\n      <td>1762573.772</td>\n      <td>36518.920</td>\n      <td>1662054.975</td>\n      <td>1779127.751</td>\n    </tr>\n    <tr>\n      <th rowspan=\"2\" valign=\"top\">wakaka</th>\n      <th>dispersion_positive</th>\n      <td>2486433.151</td>\n      <td>70606.965</td>\n      <td>2300045.096</td>\n      <td>2522973.115</td>\n    </tr>\n    <tr>\n      <th>dispersion_negative</th>\n      <td>1856038.534</td>\n      <td>67681.762</td>\n      <td>1676438.294</td>\n      <td>1890730.572</td>\n    </tr>\n  </tbody>\n</table>\n</div>"
     },
     "metadata": {},
     "output_type": "display_data"
    },
    {
     "data": {
      "text/plain": "                                       mean        std          min  \\\nmodel      metrics                                                    \nbase       dispersion_positive  1666734.669  26958.072  1603534.865   \n           dispersion_negative  1553283.254  34012.285  1468300.531   \ntextattack dispersion_positive  1958167.362  75893.444  1757715.854   \n           dispersion_negative  1827931.039  71418.186  1640256.704   \nfabriceyhc dispersion_positive  1992398.826  41190.985  1879748.837   \n           dispersion_negative  2324554.254  33480.311  2233493.846   \nwakaka     dispersion_positive  2292311.503  69688.701  2108217.790   \n           dispersion_negative  2003060.870  67343.271  1825098.398   \n\n                                        max  \nmodel      metrics                           \nbase       dispersion_positive  1683567.603  \n           dispersion_negative  1572977.317  \ntextattack dispersion_positive  1997749.467  \n           dispersion_negative  1865592.827  \nfabriceyhc dispersion_positive  2011486.215  \n           dispersion_negative  2340340.956  \nwakaka     dispersion_positive  2328193.714  \n           dispersion_negative  2037942.830  ",
      "text/html": "<div>\n<style scoped>\n    .dataframe tbody tr th:only-of-type {\n        vertical-align: middle;\n    }\n\n    .dataframe tbody tr th {\n        vertical-align: top;\n    }\n\n    .dataframe thead th {\n        text-align: right;\n    }\n</style>\n<table border=\"1\" class=\"dataframe\">\n  <thead>\n    <tr style=\"text-align: right;\">\n      <th></th>\n      <th></th>\n      <th>mean</th>\n      <th>std</th>\n      <th>min</th>\n      <th>max</th>\n    </tr>\n    <tr>\n      <th>model</th>\n      <th>metrics</th>\n      <th></th>\n      <th></th>\n      <th></th>\n      <th></th>\n    </tr>\n  </thead>\n  <tbody>\n    <tr>\n      <th rowspan=\"2\" valign=\"top\">base</th>\n      <th>dispersion_positive</th>\n      <td>1666734.669</td>\n      <td>26958.072</td>\n      <td>1603534.865</td>\n      <td>1683567.603</td>\n    </tr>\n    <tr>\n      <th>dispersion_negative</th>\n      <td>1553283.254</td>\n      <td>34012.285</td>\n      <td>1468300.531</td>\n      <td>1572977.317</td>\n    </tr>\n    <tr>\n      <th rowspan=\"2\" valign=\"top\">textattack</th>\n      <th>dispersion_positive</th>\n      <td>1958167.362</td>\n      <td>75893.444</td>\n      <td>1757715.854</td>\n      <td>1997749.467</td>\n    </tr>\n    <tr>\n      <th>dispersion_negative</th>\n      <td>1827931.039</td>\n      <td>71418.186</td>\n      <td>1640256.704</td>\n      <td>1865592.827</td>\n    </tr>\n    <tr>\n      <th rowspan=\"2\" valign=\"top\">fabriceyhc</th>\n      <th>dispersion_positive</th>\n      <td>1992398.826</td>\n      <td>41190.985</td>\n      <td>1879748.837</td>\n      <td>2011486.215</td>\n    </tr>\n    <tr>\n      <th>dispersion_negative</th>\n      <td>2324554.254</td>\n      <td>33480.311</td>\n      <td>2233493.846</td>\n      <td>2340340.956</td>\n    </tr>\n    <tr>\n      <th rowspan=\"2\" valign=\"top\">wakaka</th>\n      <th>dispersion_positive</th>\n      <td>2292311.503</td>\n      <td>69688.701</td>\n      <td>2108217.790</td>\n      <td>2328193.714</td>\n    </tr>\n    <tr>\n      <th>dispersion_negative</th>\n      <td>2003060.870</td>\n      <td>67343.271</td>\n      <td>1825098.398</td>\n      <td>2037942.830</td>\n    </tr>\n  </tbody>\n</table>\n</div>"
     },
     "metadata": {},
     "output_type": "display_data"
    }
   ],
   "source": [
    "for label, data in dispersion.items():\n",
    "    formatted: pd.DataFrame = (\n",
    "        data\n",
    "        [['mean', 'std', 'min', 'max']]\n",
    "        .round(3)\n",
    "    )\n",
    "    formatted.to_csv(f'{OUT_PATH}/{label}.metric.dispersion.csv')\n",
    "    formatted.style.to_latex(f'{OUT_PATH}/{label}.metric.dispersion.tex')\n",
    "    display(formatted)"
   ]
  },
  {
   "cell_type": "code",
   "execution_count": 52,
   "outputs": [],
   "source": [],
   "metadata": {
    "collapsed": false,
    "pycharm": {
     "name": "#%%\n"
    }
   }
  }
 ],
 "metadata": {
  "kernelspec": {
   "display_name": "Python 3",
   "language": "python",
   "name": "python3"
  },
  "language_info": {
   "codemirror_mode": {
    "name": "ipython",
    "version": 3
   },
   "file_extension": ".py",
   "mimetype": "text/x-python",
   "name": "python",
   "nbconvert_exporter": "python",
   "pygments_lexer": "ipython3",
   "version": "3.8.5"
  }
 },
 "nbformat": 4,
 "nbformat_minor": 0
}