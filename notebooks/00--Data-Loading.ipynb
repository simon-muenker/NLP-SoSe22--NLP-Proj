{
 "cells": [
  {
   "cell_type": "code",
   "execution_count": 1,
   "outputs": [],
   "source": [
    "# original dataset not included use (please download first)\n",
    "# src: ai.stanford.edu/~amaas/data/sentiment/\n",
    "INPUT_DIR: str = '../data/_aclImdb/'\n",
    "EXPORT_DIR: str =  '../data/imdb'"
   ],
   "metadata": {
    "collapsed": false,
    "pycharm": {
     "name": "#%%\n"
    }
   }
  },
  {
   "cell_type": "code",
   "execution_count": 2,
   "outputs": [],
   "source": [
    "from typing import Dict\n",
    "import os\n",
    "\n",
    "import numpy as np\n",
    "import pandas as pd\n",
    "\n",
    "\n",
    "def load_train_test_imdb_data(data_dir: str) -> Dict[str, pd.DataFrame]:\n",
    "    \"\"\"Loads the IMDB train/test datasets from a folder path.\n",
    "    src: Shiva Krishna Gajavelli\n",
    "    https://github.com/shivakrishna2497/Sentiment-Analysis-of-IMDB-Movie-Reviews/blob/master/\n",
    "\n",
    "    Args:\n",
    "        data_dir: path to the \"aclImdb\" folder.\n",
    "\n",
    "    Returns:\n",
    "        dict containing train/test datasets as pandas dataframes.\n",
    "\n",
    "    \"\"\"\n",
    "\n",
    "    data: dict = {}\n",
    "\n",
    "    for split in [\"train\", \"test\"]:\n",
    "        data[split] = []\n",
    "\n",
    "        for sentiment in [\"neg\", \"pos\"]:\n",
    "            score = \"positive\" if sentiment == \"pos\" else \"negative\"\n",
    "\n",
    "            path = os.path.join(data_dir, split, sentiment)\n",
    "            file_names = os.listdir(path)\n",
    "\n",
    "            for f_name in file_names:\n",
    "                with open(os.path.join(path, f_name), \"r\") as f:\n",
    "\n",
    "                    review = f.read()\n",
    "                    data[split].append([review, score])\n",
    "\n",
    "        np.random.shuffle(data[split])\n",
    "        data[split] = pd.DataFrame(data[split], columns=['text', 'sentiment'])\n",
    "\n",
    "    return data"
   ],
   "metadata": {
    "collapsed": false,
    "pycharm": {
     "name": "#%%\n"
    }
   }
  },
  {
   "cell_type": "code",
   "execution_count": 3,
   "outputs": [],
   "source": [
    "datasets: dict = load_train_test_imdb_data(INPUT_DIR)"
   ],
   "metadata": {
    "collapsed": false,
    "pycharm": {
     "name": "#%%\n"
    }
   }
  },
  {
   "cell_type": "code",
   "execution_count": 4,
   "outputs": [
    {
     "data": {
      "text/plain": "'train'"
     },
     "metadata": {},
     "output_type": "display_data"
    },
    {
     "data": {
      "text/plain": "                                                    text sentiment\n0      Here are the matches . . . (adv. = advantage)<...  negative\n1      STAR RATING: ***** Saturday Night **** Friday ...  negative\n2      The traditional Western is synonymous with wid...  positive\n3      Brilliant actor as he is, Al Pacino completely...  negative\n4      This is the most recent addition to a new wave...  positive\n...                                                  ...       ...\n24995  This film is a portrait of the half-spastic te...  negative\n24996  A warning to you not to be seduced by the name...  negative\n24997  I just saw this film last night at Toronto Fil...  positive\n24998  Sadly it was misguided. This movie stunk from ...  negative\n24999  It is nice to see Suraj Barjatya back at what ...  positive\n\n[25000 rows x 2 columns]",
      "text/html": "<div>\n<style scoped>\n    .dataframe tbody tr th:only-of-type {\n        vertical-align: middle;\n    }\n\n    .dataframe tbody tr th {\n        vertical-align: top;\n    }\n\n    .dataframe thead th {\n        text-align: right;\n    }\n</style>\n<table border=\"1\" class=\"dataframe\">\n  <thead>\n    <tr style=\"text-align: right;\">\n      <th></th>\n      <th>text</th>\n      <th>sentiment</th>\n    </tr>\n  </thead>\n  <tbody>\n    <tr>\n      <th>0</th>\n      <td>Here are the matches . . . (adv. = advantage)&lt;...</td>\n      <td>negative</td>\n    </tr>\n    <tr>\n      <th>1</th>\n      <td>STAR RATING: ***** Saturday Night **** Friday ...</td>\n      <td>negative</td>\n    </tr>\n    <tr>\n      <th>2</th>\n      <td>The traditional Western is synonymous with wid...</td>\n      <td>positive</td>\n    </tr>\n    <tr>\n      <th>3</th>\n      <td>Brilliant actor as he is, Al Pacino completely...</td>\n      <td>negative</td>\n    </tr>\n    <tr>\n      <th>4</th>\n      <td>This is the most recent addition to a new wave...</td>\n      <td>positive</td>\n    </tr>\n    <tr>\n      <th>...</th>\n      <td>...</td>\n      <td>...</td>\n    </tr>\n    <tr>\n      <th>24995</th>\n      <td>This film is a portrait of the half-spastic te...</td>\n      <td>negative</td>\n    </tr>\n    <tr>\n      <th>24996</th>\n      <td>A warning to you not to be seduced by the name...</td>\n      <td>negative</td>\n    </tr>\n    <tr>\n      <th>24997</th>\n      <td>I just saw this film last night at Toronto Fil...</td>\n      <td>positive</td>\n    </tr>\n    <tr>\n      <th>24998</th>\n      <td>Sadly it was misguided. This movie stunk from ...</td>\n      <td>negative</td>\n    </tr>\n    <tr>\n      <th>24999</th>\n      <td>It is nice to see Suraj Barjatya back at what ...</td>\n      <td>positive</td>\n    </tr>\n  </tbody>\n</table>\n<p>25000 rows × 2 columns</p>\n</div>"
     },
     "metadata": {},
     "output_type": "display_data"
    },
    {
     "data": {
      "text/plain": "negative    0.5\npositive    0.5\nName: sentiment, dtype: float64"
     },
     "metadata": {},
     "output_type": "display_data"
    },
    {
     "data": {
      "text/plain": "'test'"
     },
     "metadata": {},
     "output_type": "display_data"
    },
    {
     "data": {
      "text/plain": "                                                    text sentiment\n0      Most likely \"Cleopatra 2525\" will be of little...  negative\n1      Rita Hayworth plays a Brooklyn nightclub dance...  negative\n2      This film was okay, but like most TV series it...  negative\n3      I saw the film yesterday and really enjoyed it...  positive\n4      I saw the movie in 1972, and like other people...  positive\n...                                                  ...       ...\n24995  Mom has to be one of the all time uncomfortabl...  positive\n24996  At last, a film to rival 'El Padrino' and 'Dar...  negative\n24997  If this film had been made in the 50's or 60's...  positive\n24998  I opted to watch this film for one reason and ...  positive\n24999  This is your typical junk comedy.<br /><br />T...  negative\n\n[25000 rows x 2 columns]",
      "text/html": "<div>\n<style scoped>\n    .dataframe tbody tr th:only-of-type {\n        vertical-align: middle;\n    }\n\n    .dataframe tbody tr th {\n        vertical-align: top;\n    }\n\n    .dataframe thead th {\n        text-align: right;\n    }\n</style>\n<table border=\"1\" class=\"dataframe\">\n  <thead>\n    <tr style=\"text-align: right;\">\n      <th></th>\n      <th>text</th>\n      <th>sentiment</th>\n    </tr>\n  </thead>\n  <tbody>\n    <tr>\n      <th>0</th>\n      <td>Most likely \"Cleopatra 2525\" will be of little...</td>\n      <td>negative</td>\n    </tr>\n    <tr>\n      <th>1</th>\n      <td>Rita Hayworth plays a Brooklyn nightclub dance...</td>\n      <td>negative</td>\n    </tr>\n    <tr>\n      <th>2</th>\n      <td>This film was okay, but like most TV series it...</td>\n      <td>negative</td>\n    </tr>\n    <tr>\n      <th>3</th>\n      <td>I saw the film yesterday and really enjoyed it...</td>\n      <td>positive</td>\n    </tr>\n    <tr>\n      <th>4</th>\n      <td>I saw the movie in 1972, and like other people...</td>\n      <td>positive</td>\n    </tr>\n    <tr>\n      <th>...</th>\n      <td>...</td>\n      <td>...</td>\n    </tr>\n    <tr>\n      <th>24995</th>\n      <td>Mom has to be one of the all time uncomfortabl...</td>\n      <td>positive</td>\n    </tr>\n    <tr>\n      <th>24996</th>\n      <td>At last, a film to rival 'El Padrino' and 'Dar...</td>\n      <td>negative</td>\n    </tr>\n    <tr>\n      <th>24997</th>\n      <td>If this film had been made in the 50's or 60's...</td>\n      <td>positive</td>\n    </tr>\n    <tr>\n      <th>24998</th>\n      <td>I opted to watch this film for one reason and ...</td>\n      <td>positive</td>\n    </tr>\n    <tr>\n      <th>24999</th>\n      <td>This is your typical junk comedy.&lt;br /&gt;&lt;br /&gt;T...</td>\n      <td>negative</td>\n    </tr>\n  </tbody>\n</table>\n<p>25000 rows × 2 columns</p>\n</div>"
     },
     "metadata": {},
     "output_type": "display_data"
    },
    {
     "data": {
      "text/plain": "negative    0.5\npositive    0.5\nName: sentiment, dtype: float64"
     },
     "metadata": {},
     "output_type": "display_data"
    }
   ],
   "source": [
    "for label, data in datasets.items():\n",
    "    display(label, data)\n",
    "    display(data['sentiment'].value_counts(normalize=True))"
   ],
   "metadata": {
    "collapsed": false,
    "pycharm": {
     "name": "#%%\n"
    }
   }
  },
  {
   "cell_type": "code",
   "execution_count": 5,
   "outputs": [],
   "source": [
    "# save raw data to csv\n",
    "for label, data in datasets.items():\n",
    "    data.to_csv(f'{EXPORT_DIR}._raw.{label}.csv', index=False)"
   ],
   "metadata": {
    "collapsed": false,
    "pycharm": {
     "name": "#%%\n"
    }
   }
  }
 ],
 "metadata": {
  "kernelspec": {
   "display_name": "Python 3",
   "language": "python",
   "name": "python3"
  },
  "language_info": {
   "codemirror_mode": {
    "name": "ipython",
    "version": 2
   },
   "file_extension": ".py",
   "mimetype": "text/x-python",
   "name": "python",
   "nbconvert_exporter": "python",
   "pygments_lexer": "ipython2",
   "version": "2.7.6"
  }
 },
 "nbformat": 4,
 "nbformat_minor": 0
}