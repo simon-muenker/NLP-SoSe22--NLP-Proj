{
 "cells": [
  {
   "cell_type": "code",
   "execution_count": 1,
   "outputs": [],
   "source": [
    "INPUT_DIR: str = '../data/_aclImdb/'\n",
    "EXPORT_DIR: str =  '../data/imdb'"
   ],
   "metadata": {
    "collapsed": false,
    "pycharm": {
     "name": "#%%\n"
    }
   }
  },
  {
   "cell_type": "code",
   "execution_count": 2,
   "outputs": [],
   "source": [
    "from typing import Dict\n",
    "import os\n",
    "\n",
    "import numpy as np\n",
    "import pandas as pd\n",
    "\n",
    "\n",
    "def load_train_test_imdb_data(data_dir: str) -> Dict[str, pd.DataFrame]:\n",
    "    \"\"\"Loads the IMDB train/test datasets from a folder path.\n",
    "    src: Shiva Krishna Gajavelli\n",
    "    https://github.com/shivakrishna2497/Sentiment-Analysis-of-IMDB-Movie-Reviews/blob/master/\n",
    "\n",
    "    Args:\n",
    "        data_dir: path to the \"aclImdb\" folder.\n",
    "\n",
    "    Returns:\n",
    "        dict containing train/test datasets as pandas dataframes.\n",
    "\n",
    "    \"\"\"\n",
    "\n",
    "    data: dict = {}\n",
    "\n",
    "    for split in [\"train\", \"test\"]:\n",
    "        data[split] = []\n",
    "\n",
    "        for sentiment in [\"neg\", \"pos\"]:\n",
    "            score = \"positive\" if sentiment == \"pos\" else \"negative\"\n",
    "\n",
    "            path = os.path.join(data_dir, split, sentiment)\n",
    "            file_names = os.listdir(path)\n",
    "\n",
    "            for f_name in file_names:\n",
    "                with open(os.path.join(path, f_name), \"r\") as f:\n",
    "\n",
    "                    review = f.read()\n",
    "                    data[split].append([review, score])\n",
    "\n",
    "        np.random.shuffle(data[split])\n",
    "        data[split] = pd.DataFrame(data[split], columns=['text', 'sentiment'])\n",
    "\n",
    "    return data"
   ],
   "metadata": {
    "collapsed": false,
    "pycharm": {
     "name": "#%%\n"
    }
   }
  },
  {
   "cell_type": "code",
   "execution_count": 3,
   "outputs": [],
   "source": [
    "datasets: dict = load_train_test_imdb_data(INPUT_DIR)"
   ],
   "metadata": {
    "collapsed": false,
    "pycharm": {
     "name": "#%%\n"
    }
   }
  },
  {
   "cell_type": "code",
   "execution_count": 4,
   "outputs": [
    {
     "data": {
      "text/plain": "'train'"
     },
     "metadata": {},
     "output_type": "display_data"
    },
    {
     "data": {
      "text/plain": "                                                    text sentiment\n0      *Wonderland SPOILERS* <br /><br />July 1st, 19...  positive\n1      Neil Simon has quite a body of work, but it is...  positive\n2      This movie is a riot. I cannot remember the la...  positive\n3      I created my own reality by walking out of the...  negative\n4      Spacecamp is one of the movies that kids just ...  positive\n...                                                  ...       ...\n24995  I've always knew Anne DeSalvo was a great char...  positive\n24996  I've read one comment which labeled this film ...  positive\n24997  Who would think Andy Griffith's \"Helen Crump\" ...  positive\n24998  Watching this I mainly noticed the ad placemen...  negative\n24999  Indian Directors have it tough, They have to c...  positive\n\n[25000 rows x 2 columns]",
      "text/html": "<div>\n<style scoped>\n    .dataframe tbody tr th:only-of-type {\n        vertical-align: middle;\n    }\n\n    .dataframe tbody tr th {\n        vertical-align: top;\n    }\n\n    .dataframe thead th {\n        text-align: right;\n    }\n</style>\n<table border=\"1\" class=\"dataframe\">\n  <thead>\n    <tr style=\"text-align: right;\">\n      <th></th>\n      <th>text</th>\n      <th>sentiment</th>\n    </tr>\n  </thead>\n  <tbody>\n    <tr>\n      <th>0</th>\n      <td>*Wonderland SPOILERS* &lt;br /&gt;&lt;br /&gt;July 1st, 19...</td>\n      <td>positive</td>\n    </tr>\n    <tr>\n      <th>1</th>\n      <td>Neil Simon has quite a body of work, but it is...</td>\n      <td>positive</td>\n    </tr>\n    <tr>\n      <th>2</th>\n      <td>This movie is a riot. I cannot remember the la...</td>\n      <td>positive</td>\n    </tr>\n    <tr>\n      <th>3</th>\n      <td>I created my own reality by walking out of the...</td>\n      <td>negative</td>\n    </tr>\n    <tr>\n      <th>4</th>\n      <td>Spacecamp is one of the movies that kids just ...</td>\n      <td>positive</td>\n    </tr>\n    <tr>\n      <th>...</th>\n      <td>...</td>\n      <td>...</td>\n    </tr>\n    <tr>\n      <th>24995</th>\n      <td>I've always knew Anne DeSalvo was a great char...</td>\n      <td>positive</td>\n    </tr>\n    <tr>\n      <th>24996</th>\n      <td>I've read one comment which labeled this film ...</td>\n      <td>positive</td>\n    </tr>\n    <tr>\n      <th>24997</th>\n      <td>Who would think Andy Griffith's \"Helen Crump\" ...</td>\n      <td>positive</td>\n    </tr>\n    <tr>\n      <th>24998</th>\n      <td>Watching this I mainly noticed the ad placemen...</td>\n      <td>negative</td>\n    </tr>\n    <tr>\n      <th>24999</th>\n      <td>Indian Directors have it tough, They have to c...</td>\n      <td>positive</td>\n    </tr>\n  </tbody>\n</table>\n<p>25000 rows × 2 columns</p>\n</div>"
     },
     "metadata": {},
     "output_type": "display_data"
    },
    {
     "data": {
      "text/plain": "'test'"
     },
     "metadata": {},
     "output_type": "display_data"
    },
    {
     "data": {
      "text/plain": "                                                    text sentiment\n0      If you can watch a Bond film from 1983 that is...  positive\n1      \"More\", maybe, is mostly remembered for the ex...  positive\n2      What a cast of actors and actresses in this Co...  positive\n3      I will admit I possibly missed tiny moments wh...  positive\n4      his has to surely be one of the worst gay-them...  negative\n...                                                  ...       ...\n24995  It amazes me that production companies will su...  positive\n24996  In short this movie was awful.<br /><br />I un...  negative\n24997  having never actually seen anything by this be...  positive\n24998  Okay, I haven't read the book yet but I have t...  negative\n24999  There seems to be a whole sub genre of cheap, ...  negative\n\n[25000 rows x 2 columns]",
      "text/html": "<div>\n<style scoped>\n    .dataframe tbody tr th:only-of-type {\n        vertical-align: middle;\n    }\n\n    .dataframe tbody tr th {\n        vertical-align: top;\n    }\n\n    .dataframe thead th {\n        text-align: right;\n    }\n</style>\n<table border=\"1\" class=\"dataframe\">\n  <thead>\n    <tr style=\"text-align: right;\">\n      <th></th>\n      <th>text</th>\n      <th>sentiment</th>\n    </tr>\n  </thead>\n  <tbody>\n    <tr>\n      <th>0</th>\n      <td>If you can watch a Bond film from 1983 that is...</td>\n      <td>positive</td>\n    </tr>\n    <tr>\n      <th>1</th>\n      <td>\"More\", maybe, is mostly remembered for the ex...</td>\n      <td>positive</td>\n    </tr>\n    <tr>\n      <th>2</th>\n      <td>What a cast of actors and actresses in this Co...</td>\n      <td>positive</td>\n    </tr>\n    <tr>\n      <th>3</th>\n      <td>I will admit I possibly missed tiny moments wh...</td>\n      <td>positive</td>\n    </tr>\n    <tr>\n      <th>4</th>\n      <td>his has to surely be one of the worst gay-them...</td>\n      <td>negative</td>\n    </tr>\n    <tr>\n      <th>...</th>\n      <td>...</td>\n      <td>...</td>\n    </tr>\n    <tr>\n      <th>24995</th>\n      <td>It amazes me that production companies will su...</td>\n      <td>positive</td>\n    </tr>\n    <tr>\n      <th>24996</th>\n      <td>In short this movie was awful.&lt;br /&gt;&lt;br /&gt;I un...</td>\n      <td>negative</td>\n    </tr>\n    <tr>\n      <th>24997</th>\n      <td>having never actually seen anything by this be...</td>\n      <td>positive</td>\n    </tr>\n    <tr>\n      <th>24998</th>\n      <td>Okay, I haven't read the book yet but I have t...</td>\n      <td>negative</td>\n    </tr>\n    <tr>\n      <th>24999</th>\n      <td>There seems to be a whole sub genre of cheap, ...</td>\n      <td>negative</td>\n    </tr>\n  </tbody>\n</table>\n<p>25000 rows × 2 columns</p>\n</div>"
     },
     "metadata": {},
     "output_type": "display_data"
    }
   ],
   "source": [
    "for label, data in datasets.items():\n",
    "    display(label, datasets[label])"
   ],
   "metadata": {
    "collapsed": false,
    "pycharm": {
     "name": "#%%\n"
    }
   }
  },
  {
   "cell_type": "code",
   "execution_count": 5,
   "outputs": [],
   "source": [
    "# save raw data to csv\n",
    "for label, data in datasets.items():\n",
    "    data.to_csv(f'{EXPORT_DIR}._{label}.csv', index=False)"
   ],
   "metadata": {
    "collapsed": false,
    "pycharm": {
     "name": "#%%\n"
    }
   }
  }
 ],
 "metadata": {
  "kernelspec": {
   "display_name": "Python 3",
   "language": "python",
   "name": "python3"
  },
  "language_info": {
   "codemirror_mode": {
    "name": "ipython",
    "version": 2
   },
   "file_extension": ".py",
   "mimetype": "text/x-python",
   "name": "python",
   "nbconvert_exporter": "python",
   "pygments_lexer": "ipython2",
   "version": "2.7.6"
  }
 },
 "nbformat": 4,
 "nbformat_minor": 0
}