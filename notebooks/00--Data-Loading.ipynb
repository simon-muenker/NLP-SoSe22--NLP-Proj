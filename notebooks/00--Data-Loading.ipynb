{
 "cells": [
  {
   "cell_type": "code",
   "execution_count": 1,
   "metadata": {
    "collapsed": false,
    "execution": {
     "iopub.execute_input": "2022-09-13T23:00:33.282209Z",
     "iopub.status.busy": "2022-09-13T23:00:33.281449Z",
     "iopub.status.idle": "2022-09-13T23:00:33.292016Z",
     "shell.execute_reply": "2022-09-13T23:00:33.290986Z"
    },
    "pycharm": {
     "name": "#%%\n"
    }
   },
   "outputs": [],
   "source": [
    "# original dataset not included use (please download first)\n",
    "# src: ai.stanford.edu/~amaas/data/sentiment/\n",
    "INPUT_DIR: str = '../data/_aclImdb/'\n",
    "EXPORT_DIR: str =  '../data/imdb'"
   ]
  },
  {
   "cell_type": "code",
   "execution_count": 2,
   "metadata": {
    "collapsed": false,
    "execution": {
     "iopub.execute_input": "2022-09-13T23:00:33.295794Z",
     "iopub.status.busy": "2022-09-13T23:00:33.295403Z",
     "iopub.status.idle": "2022-09-13T23:00:33.628733Z",
     "shell.execute_reply": "2022-09-13T23:00:33.627779Z"
    },
    "pycharm": {
     "name": "#%%\n"
    }
   },
   "outputs": [],
   "source": [
    "from typing import Dict\n",
    "import os\n",
    "\n",
    "import numpy as np\n",
    "import pandas as pd\n",
    "\n",
    "\n",
    "def load_train_test_imdb_data(data_dir: str) -> Dict[str, pd.DataFrame]:\n",
    "    \"\"\"Loads the IMDB train/test datasets from a folder path.\n",
    "    src: Shiva Krishna Gajavelli\n",
    "    https://github.com/shivakrishna2497/Sentiment-Analysis-of-IMDB-Movie-Reviews/blob/master/\n",
    "\n",
    "    Args:\n",
    "        data_dir: path to the \"aclImdb\" folder.\n",
    "\n",
    "    Returns:\n",
    "        dict containing train/test datasets as pandas dataframes.\n",
    "\n",
    "    \"\"\"\n",
    "\n",
    "    data: dict = {}\n",
    "\n",
    "    for split in [\"train\", \"test\"]:\n",
    "        data[split] = []\n",
    "\n",
    "        for sentiment in [\"neg\", \"pos\"]:\n",
    "            score = \"positive\" if sentiment == \"pos\" else \"negative\"\n",
    "\n",
    "            path = os.path.join(data_dir, split, sentiment)\n",
    "            file_names = os.listdir(path)\n",
    "\n",
    "            for f_name in file_names:\n",
    "                with open(os.path.join(path, f_name), \"r\") as f:\n",
    "\n",
    "                    review = f.read()\n",
    "                    data[split].append([review, score])\n",
    "\n",
    "        np.random.shuffle(data[split])\n",
    "        data[split] = pd.DataFrame(data[split], columns=['text', 'sentiment'])\n",
    "\n",
    "    return data"
   ]
  },
  {
   "cell_type": "code",
   "execution_count": 3,
   "metadata": {
    "collapsed": false,
    "execution": {
     "iopub.execute_input": "2022-09-13T23:00:33.633807Z",
     "iopub.status.busy": "2022-09-13T23:00:33.633458Z",
     "iopub.status.idle": "2022-09-13T23:00:34.411279Z",
     "shell.execute_reply": "2022-09-13T23:00:34.409866Z"
    },
    "pycharm": {
     "name": "#%%\n"
    }
   },
   "outputs": [],
   "source": [
    "datasets: dict = load_train_test_imdb_data(INPUT_DIR)"
   ]
  },
  {
   "cell_type": "code",
   "execution_count": 4,
   "metadata": {
    "collapsed": false,
    "execution": {
     "iopub.execute_input": "2022-09-13T23:00:34.416660Z",
     "iopub.status.busy": "2022-09-13T23:00:34.416333Z",
     "iopub.status.idle": "2022-09-13T23:00:34.447036Z",
     "shell.execute_reply": "2022-09-13T23:00:34.446331Z"
    },
    "pycharm": {
     "name": "#%%\n"
    }
   },
   "outputs": [
    {
     "data": {
      "text/plain": [
       "'train'"
      ]
     },
     "metadata": {},
     "output_type": "display_data"
    },
    {
     "data": {
      "text/html": [
       "<div>\n",
       "<style scoped>\n",
       "    .dataframe tbody tr th:only-of-type {\n",
       "        vertical-align: middle;\n",
       "    }\n",
       "\n",
       "    .dataframe tbody tr th {\n",
       "        vertical-align: top;\n",
       "    }\n",
       "\n",
       "    .dataframe thead th {\n",
       "        text-align: right;\n",
       "    }\n",
       "</style>\n",
       "<table border=\"1\" class=\"dataframe\">\n",
       "  <thead>\n",
       "    <tr style=\"text-align: right;\">\n",
       "      <th></th>\n",
       "      <th>text</th>\n",
       "      <th>sentiment</th>\n",
       "    </tr>\n",
       "  </thead>\n",
       "  <tbody>\n",
       "    <tr>\n",
       "      <th>0</th>\n",
       "      <td>I love this show and my 11 year-old daughter a...</td>\n",
       "      <td>positive</td>\n",
       "    </tr>\n",
       "    <tr>\n",
       "      <th>1</th>\n",
       "      <td>I watched the movie while recovering from majo...</td>\n",
       "      <td>positive</td>\n",
       "    </tr>\n",
       "    <tr>\n",
       "      <th>2</th>\n",
       "      <td>blows my mind how this movie got made. i watch...</td>\n",
       "      <td>negative</td>\n",
       "    </tr>\n",
       "    <tr>\n",
       "      <th>3</th>\n",
       "      <td>Soapdish may go down as one of the single most...</td>\n",
       "      <td>positive</td>\n",
       "    </tr>\n",
       "    <tr>\n",
       "      <th>4</th>\n",
       "      <td>I have to say that Grand Canyon is one of the ...</td>\n",
       "      <td>positive</td>\n",
       "    </tr>\n",
       "    <tr>\n",
       "      <th>...</th>\n",
       "      <td>...</td>\n",
       "      <td>...</td>\n",
       "    </tr>\n",
       "    <tr>\n",
       "      <th>24995</th>\n",
       "      <td>Well, I had seen \"They all laughed\" when it ca...</td>\n",
       "      <td>positive</td>\n",
       "    </tr>\n",
       "    <tr>\n",
       "      <th>24996</th>\n",
       "      <td>I love all his work but this looks like nothin...</td>\n",
       "      <td>negative</td>\n",
       "    </tr>\n",
       "    <tr>\n",
       "      <th>24997</th>\n",
       "      <td>This film was on last week and although at tha...</td>\n",
       "      <td>positive</td>\n",
       "    </tr>\n",
       "    <tr>\n",
       "      <th>24998</th>\n",
       "      <td>A lot of themes or parts of the story is the s...</td>\n",
       "      <td>negative</td>\n",
       "    </tr>\n",
       "    <tr>\n",
       "      <th>24999</th>\n",
       "      <td>I won't add to the plot reviews, it's not very...</td>\n",
       "      <td>negative</td>\n",
       "    </tr>\n",
       "  </tbody>\n",
       "</table>\n",
       "<p>25000 rows × 2 columns</p>\n",
       "</div>"
      ],
      "text/plain": [
       "                                                    text sentiment\n",
       "0      I love this show and my 11 year-old daughter a...  positive\n",
       "1      I watched the movie while recovering from majo...  positive\n",
       "2      blows my mind how this movie got made. i watch...  negative\n",
       "3      Soapdish may go down as one of the single most...  positive\n",
       "4      I have to say that Grand Canyon is one of the ...  positive\n",
       "...                                                  ...       ...\n",
       "24995  Well, I had seen \"They all laughed\" when it ca...  positive\n",
       "24996  I love all his work but this looks like nothin...  negative\n",
       "24997  This film was on last week and although at tha...  positive\n",
       "24998  A lot of themes or parts of the story is the s...  negative\n",
       "24999  I won't add to the plot reviews, it's not very...  negative\n",
       "\n",
       "[25000 rows x 2 columns]"
      ]
     },
     "metadata": {},
     "output_type": "display_data"
    },
    {
     "data": {
      "text/plain": [
       "positive    0.5\n",
       "negative    0.5\n",
       "Name: sentiment, dtype: float64"
      ]
     },
     "metadata": {},
     "output_type": "display_data"
    },
    {
     "data": {
      "text/plain": [
       "'test'"
      ]
     },
     "metadata": {},
     "output_type": "display_data"
    },
    {
     "data": {
      "text/html": [
       "<div>\n",
       "<style scoped>\n",
       "    .dataframe tbody tr th:only-of-type {\n",
       "        vertical-align: middle;\n",
       "    }\n",
       "\n",
       "    .dataframe tbody tr th {\n",
       "        vertical-align: top;\n",
       "    }\n",
       "\n",
       "    .dataframe thead th {\n",
       "        text-align: right;\n",
       "    }\n",
       "</style>\n",
       "<table border=\"1\" class=\"dataframe\">\n",
       "  <thead>\n",
       "    <tr style=\"text-align: right;\">\n",
       "      <th></th>\n",
       "      <th>text</th>\n",
       "      <th>sentiment</th>\n",
       "    </tr>\n",
       "  </thead>\n",
       "  <tbody>\n",
       "    <tr>\n",
       "      <th>0</th>\n",
       "      <td>Awful, dreadful, terrible. The actors are bad,...</td>\n",
       "      <td>negative</td>\n",
       "    </tr>\n",
       "    <tr>\n",
       "      <th>1</th>\n",
       "      <td>Okay, so I love silly movies. If you enjoy sil...</td>\n",
       "      <td>positive</td>\n",
       "    </tr>\n",
       "    <tr>\n",
       "      <th>2</th>\n",
       "      <td>This film should never have been made! It stin...</td>\n",
       "      <td>negative</td>\n",
       "    </tr>\n",
       "    <tr>\n",
       "      <th>3</th>\n",
       "      <td>For those of you unfamiliar with Alisdair Sims...</td>\n",
       "      <td>positive</td>\n",
       "    </tr>\n",
       "    <tr>\n",
       "      <th>4</th>\n",
       "      <td>The film was half over before I managed to fig...</td>\n",
       "      <td>negative</td>\n",
       "    </tr>\n",
       "    <tr>\n",
       "      <th>...</th>\n",
       "      <td>...</td>\n",
       "      <td>...</td>\n",
       "    </tr>\n",
       "    <tr>\n",
       "      <th>24995</th>\n",
       "      <td>Based on actual events of 1905, silent film TH...</td>\n",
       "      <td>positive</td>\n",
       "    </tr>\n",
       "    <tr>\n",
       "      <th>24996</th>\n",
       "      <td>This is one of the better sci-fi series. It in...</td>\n",
       "      <td>positive</td>\n",
       "    </tr>\n",
       "    <tr>\n",
       "      <th>24997</th>\n",
       "      <td>A lovely librarian, played by Playboy model Kr...</td>\n",
       "      <td>positive</td>\n",
       "    </tr>\n",
       "    <tr>\n",
       "      <th>24998</th>\n",
       "      <td>This era was not just the dawn of sound in car...</td>\n",
       "      <td>positive</td>\n",
       "    </tr>\n",
       "    <tr>\n",
       "      <th>24999</th>\n",
       "      <td>I seem to notice that a lot of people have nev...</td>\n",
       "      <td>positive</td>\n",
       "    </tr>\n",
       "  </tbody>\n",
       "</table>\n",
       "<p>25000 rows × 2 columns</p>\n",
       "</div>"
      ],
      "text/plain": [
       "                                                    text sentiment\n",
       "0      Awful, dreadful, terrible. The actors are bad,...  negative\n",
       "1      Okay, so I love silly movies. If you enjoy sil...  positive\n",
       "2      This film should never have been made! It stin...  negative\n",
       "3      For those of you unfamiliar with Alisdair Sims...  positive\n",
       "4      The film was half over before I managed to fig...  negative\n",
       "...                                                  ...       ...\n",
       "24995  Based on actual events of 1905, silent film TH...  positive\n",
       "24996  This is one of the better sci-fi series. It in...  positive\n",
       "24997  A lovely librarian, played by Playboy model Kr...  positive\n",
       "24998  This era was not just the dawn of sound in car...  positive\n",
       "24999  I seem to notice that a lot of people have nev...  positive\n",
       "\n",
       "[25000 rows x 2 columns]"
      ]
     },
     "metadata": {},
     "output_type": "display_data"
    },
    {
     "data": {
      "text/plain": [
       "negative    0.5\n",
       "positive    0.5\n",
       "Name: sentiment, dtype: float64"
      ]
     },
     "metadata": {},
     "output_type": "display_data"
    }
   ],
   "source": [
    "for label, data in datasets.items():\n",
    "    display(label, data)\n",
    "    display(data['sentiment'].value_counts(normalize=True))"
   ]
  },
  {
   "cell_type": "code",
   "execution_count": 5,
   "metadata": {
    "collapsed": false,
    "execution": {
     "iopub.execute_input": "2022-09-13T23:00:34.470443Z",
     "iopub.status.busy": "2022-09-13T23:00:34.470106Z",
     "iopub.status.idle": "2022-09-13T23:00:35.884868Z",
     "shell.execute_reply": "2022-09-13T23:00:35.883207Z"
    },
    "pycharm": {
     "name": "#%%\n"
    }
   },
   "outputs": [],
   "source": [
    "# save raw data to csv\n",
    "for label, data in datasets.items():\n",
    "    data.to_csv(f'{EXPORT_DIR}._raw.{label}.csv', index=False)"
   ]
  }
 ],
 "metadata": {
  "kernelspec": {
   "display_name": "Python 3",
   "language": "python",
   "name": "python3"
  },
  "language_info": {
   "codemirror_mode": {
    "name": "ipython",
    "version": 3
   },
   "file_extension": ".py",
   "mimetype": "text/x-python",
   "name": "python",
   "nbconvert_exporter": "python",
   "pygments_lexer": "ipython3",
   "version": "3.8.5"
  }
 },
 "nbformat": 4,
 "nbformat_minor": 0
}
