{
 "cells": [
  {
   "cell_type": "code",
   "execution_count": 1,
   "metadata": {
    "collapsed": false,
    "execution": {
     "iopub.execute_input": "2022-09-13T22:48:30.629931Z",
     "iopub.status.busy": "2022-09-13T22:48:30.629185Z",
     "iopub.status.idle": "2022-09-13T22:48:30.639886Z",
     "shell.execute_reply": "2022-09-13T22:48:30.638954Z"
    },
    "pycharm": {
     "name": "#%%\n"
    }
   },
   "outputs": [],
   "source": [
    "# original dataset not included use (please download first)\n",
    "# src: ai.stanford.edu/~amaas/data/sentiment/\n",
    "INPUT_DIR: str = '../data/_aclImdb/'\n",
    "EXPORT_DIR: str =  '../data/imdb'"
   ]
  },
  {
   "cell_type": "code",
   "execution_count": 2,
   "metadata": {
    "collapsed": false,
    "execution": {
     "iopub.execute_input": "2022-09-13T22:48:30.643719Z",
     "iopub.status.busy": "2022-09-13T22:48:30.643310Z",
     "iopub.status.idle": "2022-09-13T22:48:30.966412Z",
     "shell.execute_reply": "2022-09-13T22:48:30.965679Z"
    },
    "pycharm": {
     "name": "#%%\n"
    }
   },
   "outputs": [],
   "source": [
    "from typing import Dict\n",
    "import os\n",
    "\n",
    "import numpy as np\n",
    "import pandas as pd\n",
    "\n",
    "\n",
    "def load_train_test_imdb_data(data_dir: str) -> Dict[str, pd.DataFrame]:\n",
    "    \"\"\"Loads the IMDB train/test datasets from a folder path.\n",
    "    src: Shiva Krishna Gajavelli\n",
    "    https://github.com/shivakrishna2497/Sentiment-Analysis-of-IMDB-Movie-Reviews/blob/master/\n",
    "\n",
    "    Args:\n",
    "        data_dir: path to the \"aclImdb\" folder.\n",
    "\n",
    "    Returns:\n",
    "        dict containing train/test datasets as pandas dataframes.\n",
    "\n",
    "    \"\"\"\n",
    "\n",
    "    data: dict = {}\n",
    "\n",
    "    for split in [\"train\", \"test\"]:\n",
    "        data[split] = []\n",
    "\n",
    "        for sentiment in [\"neg\", \"pos\"]:\n",
    "            score = \"positive\" if sentiment == \"pos\" else \"negative\"\n",
    "\n",
    "            path = os.path.join(data_dir, split, sentiment)\n",
    "            file_names = os.listdir(path)\n",
    "\n",
    "            for f_name in file_names:\n",
    "                with open(os.path.join(path, f_name), \"r\") as f:\n",
    "\n",
    "                    review = f.read()\n",
    "                    data[split].append([review, score])\n",
    "\n",
    "        np.random.shuffle(data[split])\n",
    "        data[split] = pd.DataFrame(data[split], columns=['text', 'sentiment'])\n",
    "\n",
    "    return data"
   ]
  },
  {
   "cell_type": "code",
   "execution_count": 3,
   "metadata": {
    "collapsed": false,
    "execution": {
     "iopub.execute_input": "2022-09-13T22:48:30.969805Z",
     "iopub.status.busy": "2022-09-13T22:48:30.969419Z",
     "iopub.status.idle": "2022-09-13T22:48:31.766037Z",
     "shell.execute_reply": "2022-09-13T22:48:31.764970Z"
    },
    "pycharm": {
     "name": "#%%\n"
    }
   },
   "outputs": [],
   "source": [
    "datasets: dict = load_train_test_imdb_data(INPUT_DIR)"
   ]
  },
  {
   "cell_type": "code",
   "execution_count": 4,
   "metadata": {
    "collapsed": false,
    "execution": {
     "iopub.execute_input": "2022-09-13T22:48:31.771409Z",
     "iopub.status.busy": "2022-09-13T22:48:31.771062Z",
     "iopub.status.idle": "2022-09-13T22:48:31.802416Z",
     "shell.execute_reply": "2022-09-13T22:48:31.801690Z"
    },
    "pycharm": {
     "name": "#%%\n"
    }
   },
   "outputs": [
    {
     "data": {
      "text/plain": [
       "'train'"
      ]
     },
     "metadata": {},
     "output_type": "display_data"
    },
    {
     "data": {
      "text/html": [
       "<div>\n",
       "<style scoped>\n",
       "    .dataframe tbody tr th:only-of-type {\n",
       "        vertical-align: middle;\n",
       "    }\n",
       "\n",
       "    .dataframe tbody tr th {\n",
       "        vertical-align: top;\n",
       "    }\n",
       "\n",
       "    .dataframe thead th {\n",
       "        text-align: right;\n",
       "    }\n",
       "</style>\n",
       "<table border=\"1\" class=\"dataframe\">\n",
       "  <thead>\n",
       "    <tr style=\"text-align: right;\">\n",
       "      <th></th>\n",
       "      <th>text</th>\n",
       "      <th>sentiment</th>\n",
       "    </tr>\n",
       "  </thead>\n",
       "  <tbody>\n",
       "    <tr>\n",
       "      <th>0</th>\n",
       "      <td>Manoj Agrawal after the failure of PARDESI BAB...</td>\n",
       "      <td>negative</td>\n",
       "    </tr>\n",
       "    <tr>\n",
       "      <th>1</th>\n",
       "      <td>OK.... I just have 3 words - cheesy, cheesy an...</td>\n",
       "      <td>negative</td>\n",
       "    </tr>\n",
       "    <tr>\n",
       "      <th>2</th>\n",
       "      <td>The main reason I wanted to see this movie was...</td>\n",
       "      <td>positive</td>\n",
       "    </tr>\n",
       "    <tr>\n",
       "      <th>3</th>\n",
       "      <td>From the Q &amp; A before and after, this is what ...</td>\n",
       "      <td>negative</td>\n",
       "    </tr>\n",
       "    <tr>\n",
       "      <th>4</th>\n",
       "      <td>That was definitely the case with Angels in th...</td>\n",
       "      <td>positive</td>\n",
       "    </tr>\n",
       "    <tr>\n",
       "      <th>...</th>\n",
       "      <td>...</td>\n",
       "      <td>...</td>\n",
       "    </tr>\n",
       "    <tr>\n",
       "      <th>24995</th>\n",
       "      <td>I'm not a huge Star Trek fan, but I was lookin...</td>\n",
       "      <td>negative</td>\n",
       "    </tr>\n",
       "    <tr>\n",
       "      <th>24996</th>\n",
       "      <td>I expected to enjoy a romantic comedy featurin...</td>\n",
       "      <td>negative</td>\n",
       "    </tr>\n",
       "    <tr>\n",
       "      <th>24997</th>\n",
       "      <td>Some comments here on IMDb have likened Dog Bi...</td>\n",
       "      <td>positive</td>\n",
       "    </tr>\n",
       "    <tr>\n",
       "      <th>24998</th>\n",
       "      <td>I agree with all the accolades, I went through...</td>\n",
       "      <td>positive</td>\n",
       "    </tr>\n",
       "    <tr>\n",
       "      <th>24999</th>\n",
       "      <td>I have been looking for this film for ages bec...</td>\n",
       "      <td>negative</td>\n",
       "    </tr>\n",
       "  </tbody>\n",
       "</table>\n",
       "<p>25000 rows × 2 columns</p>\n",
       "</div>"
      ],
      "text/plain": [
       "                                                    text sentiment\n",
       "0      Manoj Agrawal after the failure of PARDESI BAB...  negative\n",
       "1      OK.... I just have 3 words - cheesy, cheesy an...  negative\n",
       "2      The main reason I wanted to see this movie was...  positive\n",
       "3      From the Q & A before and after, this is what ...  negative\n",
       "4      That was definitely the case with Angels in th...  positive\n",
       "...                                                  ...       ...\n",
       "24995  I'm not a huge Star Trek fan, but I was lookin...  negative\n",
       "24996  I expected to enjoy a romantic comedy featurin...  negative\n",
       "24997  Some comments here on IMDb have likened Dog Bi...  positive\n",
       "24998  I agree with all the accolades, I went through...  positive\n",
       "24999  I have been looking for this film for ages bec...  negative\n",
       "\n",
       "[25000 rows x 2 columns]"
      ]
     },
     "metadata": {},
     "output_type": "display_data"
    },
    {
     "data": {
      "text/plain": [
       "negative    0.5\n",
       "positive    0.5\n",
       "Name: sentiment, dtype: float64"
      ]
     },
     "metadata": {},
     "output_type": "display_data"
    },
    {
     "data": {
      "text/plain": [
       "'test'"
      ]
     },
     "metadata": {},
     "output_type": "display_data"
    },
    {
     "data": {
      "text/html": [
       "<div>\n",
       "<style scoped>\n",
       "    .dataframe tbody tr th:only-of-type {\n",
       "        vertical-align: middle;\n",
       "    }\n",
       "\n",
       "    .dataframe tbody tr th {\n",
       "        vertical-align: top;\n",
       "    }\n",
       "\n",
       "    .dataframe thead th {\n",
       "        text-align: right;\n",
       "    }\n",
       "</style>\n",
       "<table border=\"1\" class=\"dataframe\">\n",
       "  <thead>\n",
       "    <tr style=\"text-align: right;\">\n",
       "      <th></th>\n",
       "      <th>text</th>\n",
       "      <th>sentiment</th>\n",
       "    </tr>\n",
       "  </thead>\n",
       "  <tbody>\n",
       "    <tr>\n",
       "      <th>0</th>\n",
       "      <td>This movie was astonishing how good it was! Th...</td>\n",
       "      <td>positive</td>\n",
       "    </tr>\n",
       "    <tr>\n",
       "      <th>1</th>\n",
       "      <td>Normally, I don't like Chuck Norris films. I a...</td>\n",
       "      <td>negative</td>\n",
       "    </tr>\n",
       "    <tr>\n",
       "      <th>2</th>\n",
       "      <td>Le conseguenze dell'amore (2004)is a beautiful...</td>\n",
       "      <td>positive</td>\n",
       "    </tr>\n",
       "    <tr>\n",
       "      <th>3</th>\n",
       "      <td>Don't watch this movie expecting the Jane Aust...</td>\n",
       "      <td>positive</td>\n",
       "    </tr>\n",
       "    <tr>\n",
       "      <th>4</th>\n",
       "      <td>This is one of the funniest movies I have ever...</td>\n",
       "      <td>positive</td>\n",
       "    </tr>\n",
       "    <tr>\n",
       "      <th>...</th>\n",
       "      <td>...</td>\n",
       "      <td>...</td>\n",
       "    </tr>\n",
       "    <tr>\n",
       "      <th>24995</th>\n",
       "      <td>There were very few good moments in this film....</td>\n",
       "      <td>negative</td>\n",
       "    </tr>\n",
       "    <tr>\n",
       "      <th>24996</th>\n",
       "      <td>...and I'm so disappointed because I can't see...</td>\n",
       "      <td>positive</td>\n",
       "    </tr>\n",
       "    <tr>\n",
       "      <th>24997</th>\n",
       "      <td>Tim Robbins did a masterful job directing this...</td>\n",
       "      <td>positive</td>\n",
       "    </tr>\n",
       "    <tr>\n",
       "      <th>24998</th>\n",
       "      <td>When i went to see this i thought, i liked the...</td>\n",
       "      <td>negative</td>\n",
       "    </tr>\n",
       "    <tr>\n",
       "      <th>24999</th>\n",
       "      <td>This movie made me laugh so much. It was a blo...</td>\n",
       "      <td>negative</td>\n",
       "    </tr>\n",
       "  </tbody>\n",
       "</table>\n",
       "<p>25000 rows × 2 columns</p>\n",
       "</div>"
      ],
      "text/plain": [
       "                                                    text sentiment\n",
       "0      This movie was astonishing how good it was! Th...  positive\n",
       "1      Normally, I don't like Chuck Norris films. I a...  negative\n",
       "2      Le conseguenze dell'amore (2004)is a beautiful...  positive\n",
       "3      Don't watch this movie expecting the Jane Aust...  positive\n",
       "4      This is one of the funniest movies I have ever...  positive\n",
       "...                                                  ...       ...\n",
       "24995  There were very few good moments in this film....  negative\n",
       "24996  ...and I'm so disappointed because I can't see...  positive\n",
       "24997  Tim Robbins did a masterful job directing this...  positive\n",
       "24998  When i went to see this i thought, i liked the...  negative\n",
       "24999  This movie made me laugh so much. It was a blo...  negative\n",
       "\n",
       "[25000 rows x 2 columns]"
      ]
     },
     "metadata": {},
     "output_type": "display_data"
    },
    {
     "data": {
      "text/plain": [
       "positive    0.5\n",
       "negative    0.5\n",
       "Name: sentiment, dtype: float64"
      ]
     },
     "metadata": {},
     "output_type": "display_data"
    }
   ],
   "source": [
    "for label, data in datasets.items():\n",
    "    display(label, data)\n",
    "    display(data['sentiment'].value_counts(normalize=True))"
   ]
  },
  {
   "cell_type": "code",
   "execution_count": 5,
   "metadata": {
    "collapsed": false,
    "execution": {
     "iopub.execute_input": "2022-09-13T22:48:31.826851Z",
     "iopub.status.busy": "2022-09-13T22:48:31.826375Z",
     "iopub.status.idle": "2022-09-13T22:48:33.157090Z",
     "shell.execute_reply": "2022-09-13T22:48:33.155701Z"
    },
    "pycharm": {
     "name": "#%%\n"
    }
   },
   "outputs": [],
   "source": [
    "# save raw data to csv\n",
    "for label, data in datasets.items():\n",
    "    data.to_csv(f'{EXPORT_DIR}._raw.{label}.csv', index=False)"
   ]
  }
 ],
 "metadata": {
  "kernelspec": {
   "display_name": "Python 3",
   "language": "python",
   "name": "python3"
  },
  "language_info": {
   "codemirror_mode": {
    "name": "ipython",
    "version": 3
   },
   "file_extension": ".py",
   "mimetype": "text/x-python",
   "name": "python",
   "nbconvert_exporter": "python",
   "pygments_lexer": "ipython3",
   "version": "3.8.5"
  }
 },
 "nbformat": 4,
 "nbformat_minor": 0
}
