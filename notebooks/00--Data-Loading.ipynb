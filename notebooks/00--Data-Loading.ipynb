{
 "cells": [
  {
   "cell_type": "code",
   "execution_count": 1,
   "metadata": {
    "collapsed": false,
    "execution": {
     "iopub.execute_input": "2022-09-14T15:43:26.086212Z",
     "iopub.status.busy": "2022-09-14T15:43:26.085524Z",
     "iopub.status.idle": "2022-09-14T15:43:26.097693Z",
     "shell.execute_reply": "2022-09-14T15:43:26.096816Z"
    },
    "pycharm": {
     "name": "#%%\n"
    }
   },
   "outputs": [],
   "source": [
    "# original dataset not included use (please download first)\n",
    "# src: ai.stanford.edu/~amaas/data/sentiment/\n",
    "INPUT_DIR: str = '../data/_aclImdb/'\n",
    "EXPORT_DIR: str =  '../data/imdb'"
   ]
  },
  {
   "cell_type": "code",
   "execution_count": 2,
   "metadata": {
    "collapsed": false,
    "execution": {
     "iopub.execute_input": "2022-09-14T15:43:26.102299Z",
     "iopub.status.busy": "2022-09-14T15:43:26.101882Z",
     "iopub.status.idle": "2022-09-14T15:43:26.441825Z",
     "shell.execute_reply": "2022-09-14T15:43:26.441053Z"
    },
    "pycharm": {
     "name": "#%%\n"
    }
   },
   "outputs": [],
   "source": [
    "from typing import Dict\n",
    "import os\n",
    "\n",
    "import numpy as np\n",
    "import pandas as pd\n",
    "\n",
    "\n",
    "def load_train_test_imdb_data(data_dir: str) -> Dict[str, pd.DataFrame]:\n",
    "    \"\"\"Loads the IMDB train/test datasets from a folder path.\n",
    "    src: Shiva Krishna Gajavelli\n",
    "    https://github.com/shivakrishna2497/Sentiment-Analysis-of-IMDB-Movie-Reviews/blob/master/\n",
    "\n",
    "    Args:\n",
    "        data_dir: path to the \"aclImdb\" folder.\n",
    "\n",
    "    Returns:\n",
    "        dict containing train/test datasets as pandas dataframes.\n",
    "\n",
    "    \"\"\"\n",
    "\n",
    "    data: dict = {}\n",
    "\n",
    "    for split in [\"train\", \"test\"]:\n",
    "        data[split] = []\n",
    "\n",
    "        for sentiment in [\"neg\", \"pos\"]:\n",
    "            score = \"positive\" if sentiment == \"pos\" else \"negative\"\n",
    "\n",
    "            path = os.path.join(data_dir, split, sentiment)\n",
    "            file_names = os.listdir(path)\n",
    "\n",
    "            for f_name in file_names:\n",
    "                with open(os.path.join(path, f_name), \"r\") as f:\n",
    "\n",
    "                    review = f.read()\n",
    "                    data[split].append([review, score])\n",
    "\n",
    "        np.random.shuffle(data[split])\n",
    "        data[split] = pd.DataFrame(data[split], columns=['text', 'sentiment'])\n",
    "\n",
    "    return data"
   ]
  },
  {
   "cell_type": "code",
   "execution_count": 3,
   "metadata": {
    "collapsed": false,
    "execution": {
     "iopub.execute_input": "2022-09-14T15:43:26.446215Z",
     "iopub.status.busy": "2022-09-14T15:43:26.445795Z",
     "iopub.status.idle": "2022-09-14T15:43:27.284599Z",
     "shell.execute_reply": "2022-09-14T15:43:27.283632Z"
    },
    "pycharm": {
     "name": "#%%\n"
    }
   },
   "outputs": [],
   "source": [
    "datasets: dict = load_train_test_imdb_data(INPUT_DIR)"
   ]
  },
  {
   "cell_type": "code",
   "execution_count": 4,
   "metadata": {
    "collapsed": false,
    "execution": {
     "iopub.execute_input": "2022-09-14T15:43:27.290793Z",
     "iopub.status.busy": "2022-09-14T15:43:27.290410Z",
     "iopub.status.idle": "2022-09-14T15:43:27.322308Z",
     "shell.execute_reply": "2022-09-14T15:43:27.321503Z"
    },
    "pycharm": {
     "name": "#%%\n"
    }
   },
   "outputs": [
    {
     "data": {
      "text/plain": [
       "'train'"
      ]
     },
     "metadata": {},
     "output_type": "display_data"
    },
    {
     "data": {
      "text/html": [
       "<div>\n",
       "<style scoped>\n",
       "    .dataframe tbody tr th:only-of-type {\n",
       "        vertical-align: middle;\n",
       "    }\n",
       "\n",
       "    .dataframe tbody tr th {\n",
       "        vertical-align: top;\n",
       "    }\n",
       "\n",
       "    .dataframe thead th {\n",
       "        text-align: right;\n",
       "    }\n",
       "</style>\n",
       "<table border=\"1\" class=\"dataframe\">\n",
       "  <thead>\n",
       "    <tr style=\"text-align: right;\">\n",
       "      <th></th>\n",
       "      <th>text</th>\n",
       "      <th>sentiment</th>\n",
       "    </tr>\n",
       "  </thead>\n",
       "  <tbody>\n",
       "    <tr>\n",
       "      <th>0</th>\n",
       "      <td>The location of the shop around the corner is ...</td>\n",
       "      <td>positive</td>\n",
       "    </tr>\n",
       "    <tr>\n",
       "      <th>1</th>\n",
       "      <td>As a horse lover one can only appreciate this ...</td>\n",
       "      <td>positive</td>\n",
       "    </tr>\n",
       "    <tr>\n",
       "      <th>2</th>\n",
       "      <td>As gently as I can, I sincerely believe this m...</td>\n",
       "      <td>negative</td>\n",
       "    </tr>\n",
       "    <tr>\n",
       "      <th>3</th>\n",
       "      <td>I saw a preview of Freebird at the Isle of Man...</td>\n",
       "      <td>positive</td>\n",
       "    </tr>\n",
       "    <tr>\n",
       "      <th>4</th>\n",
       "      <td>\"Chinese Ghost Story\" is one of the most amazi...</td>\n",
       "      <td>positive</td>\n",
       "    </tr>\n",
       "    <tr>\n",
       "      <th>...</th>\n",
       "      <td>...</td>\n",
       "      <td>...</td>\n",
       "    </tr>\n",
       "    <tr>\n",
       "      <th>24995</th>\n",
       "      <td>I screamed my head off because seeing this mov...</td>\n",
       "      <td>negative</td>\n",
       "    </tr>\n",
       "    <tr>\n",
       "      <th>24996</th>\n",
       "      <td>I really enjoyed The 60's. Not being of that g...</td>\n",
       "      <td>positive</td>\n",
       "    </tr>\n",
       "    <tr>\n",
       "      <th>24997</th>\n",
       "      <td>Level One, Horror.&lt;br /&gt;&lt;br /&gt;When I saw this ...</td>\n",
       "      <td>positive</td>\n",
       "    </tr>\n",
       "    <tr>\n",
       "      <th>24998</th>\n",
       "      <td>Notice that all those that did not like and en...</td>\n",
       "      <td>positive</td>\n",
       "    </tr>\n",
       "    <tr>\n",
       "      <th>24999</th>\n",
       "      <td>I found 'Still Crazy' to be marvelously entert...</td>\n",
       "      <td>positive</td>\n",
       "    </tr>\n",
       "  </tbody>\n",
       "</table>\n",
       "<p>25000 rows × 2 columns</p>\n",
       "</div>"
      ],
      "text/plain": [
       "                                                    text sentiment\n",
       "0      The location of the shop around the corner is ...  positive\n",
       "1      As a horse lover one can only appreciate this ...  positive\n",
       "2      As gently as I can, I sincerely believe this m...  negative\n",
       "3      I saw a preview of Freebird at the Isle of Man...  positive\n",
       "4      \"Chinese Ghost Story\" is one of the most amazi...  positive\n",
       "...                                                  ...       ...\n",
       "24995  I screamed my head off because seeing this mov...  negative\n",
       "24996  I really enjoyed The 60's. Not being of that g...  positive\n",
       "24997  Level One, Horror.<br /><br />When I saw this ...  positive\n",
       "24998  Notice that all those that did not like and en...  positive\n",
       "24999  I found 'Still Crazy' to be marvelously entert...  positive\n",
       "\n",
       "[25000 rows x 2 columns]"
      ]
     },
     "metadata": {},
     "output_type": "display_data"
    },
    {
     "data": {
      "text/plain": [
       "positive    0.5\n",
       "negative    0.5\n",
       "Name: sentiment, dtype: float64"
      ]
     },
     "metadata": {},
     "output_type": "display_data"
    },
    {
     "data": {
      "text/plain": [
       "'test'"
      ]
     },
     "metadata": {},
     "output_type": "display_data"
    },
    {
     "data": {
      "text/html": [
       "<div>\n",
       "<style scoped>\n",
       "    .dataframe tbody tr th:only-of-type {\n",
       "        vertical-align: middle;\n",
       "    }\n",
       "\n",
       "    .dataframe tbody tr th {\n",
       "        vertical-align: top;\n",
       "    }\n",
       "\n",
       "    .dataframe thead th {\n",
       "        text-align: right;\n",
       "    }\n",
       "</style>\n",
       "<table border=\"1\" class=\"dataframe\">\n",
       "  <thead>\n",
       "    <tr style=\"text-align: right;\">\n",
       "      <th></th>\n",
       "      <th>text</th>\n",
       "      <th>sentiment</th>\n",
       "    </tr>\n",
       "  </thead>\n",
       "  <tbody>\n",
       "    <tr>\n",
       "      <th>0</th>\n",
       "      <td>The Movie is okay. Meaning that I don't regret...</td>\n",
       "      <td>negative</td>\n",
       "    </tr>\n",
       "    <tr>\n",
       "      <th>1</th>\n",
       "      <td>Albert Pyun presents his vision of the lost ci...</td>\n",
       "      <td>negative</td>\n",
       "    </tr>\n",
       "    <tr>\n",
       "      <th>2</th>\n",
       "      <td>This movie will undoubtably not go over well w...</td>\n",
       "      <td>positive</td>\n",
       "    </tr>\n",
       "    <tr>\n",
       "      <th>3</th>\n",
       "      <td>While watching this film recently, I constantl...</td>\n",
       "      <td>positive</td>\n",
       "    </tr>\n",
       "    <tr>\n",
       "      <th>4</th>\n",
       "      <td>The cast was well picked. Pauly Shore is hilar...</td>\n",
       "      <td>positive</td>\n",
       "    </tr>\n",
       "    <tr>\n",
       "      <th>...</th>\n",
       "      <td>...</td>\n",
       "      <td>...</td>\n",
       "    </tr>\n",
       "    <tr>\n",
       "      <th>24995</th>\n",
       "      <td>scarlet coat like most revolution flicks wasnt...</td>\n",
       "      <td>positive</td>\n",
       "    </tr>\n",
       "    <tr>\n",
       "      <th>24996</th>\n",
       "      <td>The initiation to the local sport team involve...</td>\n",
       "      <td>negative</td>\n",
       "    </tr>\n",
       "    <tr>\n",
       "      <th>24997</th>\n",
       "      <td>Very poor quality and the acting is equally as...</td>\n",
       "      <td>negative</td>\n",
       "    </tr>\n",
       "    <tr>\n",
       "      <th>24998</th>\n",
       "      <td>If You can watch a film without worrying about...</td>\n",
       "      <td>negative</td>\n",
       "    </tr>\n",
       "    <tr>\n",
       "      <th>24999</th>\n",
       "      <td>This is a story about a journey made by a man ...</td>\n",
       "      <td>positive</td>\n",
       "    </tr>\n",
       "  </tbody>\n",
       "</table>\n",
       "<p>25000 rows × 2 columns</p>\n",
       "</div>"
      ],
      "text/plain": [
       "                                                    text sentiment\n",
       "0      The Movie is okay. Meaning that I don't regret...  negative\n",
       "1      Albert Pyun presents his vision of the lost ci...  negative\n",
       "2      This movie will undoubtably not go over well w...  positive\n",
       "3      While watching this film recently, I constantl...  positive\n",
       "4      The cast was well picked. Pauly Shore is hilar...  positive\n",
       "...                                                  ...       ...\n",
       "24995  scarlet coat like most revolution flicks wasnt...  positive\n",
       "24996  The initiation to the local sport team involve...  negative\n",
       "24997  Very poor quality and the acting is equally as...  negative\n",
       "24998  If You can watch a film without worrying about...  negative\n",
       "24999  This is a story about a journey made by a man ...  positive\n",
       "\n",
       "[25000 rows x 2 columns]"
      ]
     },
     "metadata": {},
     "output_type": "display_data"
    },
    {
     "data": {
      "text/plain": [
       "negative    0.5\n",
       "positive    0.5\n",
       "Name: sentiment, dtype: float64"
      ]
     },
     "metadata": {},
     "output_type": "display_data"
    }
   ],
   "source": [
    "for label, data in datasets.items():\n",
    "    display(label, data)\n",
    "    display(data['sentiment'].value_counts(normalize=True))"
   ]
  },
  {
   "cell_type": "code",
   "execution_count": 5,
   "metadata": {
    "collapsed": false,
    "execution": {
     "iopub.execute_input": "2022-09-14T15:43:27.346810Z",
     "iopub.status.busy": "2022-09-14T15:43:27.346244Z",
     "iopub.status.idle": "2022-09-14T15:43:28.768904Z",
     "shell.execute_reply": "2022-09-14T15:43:28.767761Z"
    },
    "pycharm": {
     "name": "#%%\n"
    }
   },
   "outputs": [],
   "source": [
    "# save raw data to csv\n",
    "for label, data in datasets.items():\n",
    "    data.to_csv(f'{EXPORT_DIR}._raw.{label}.csv', index=False)"
   ]
  }
 ],
 "metadata": {
  "kernelspec": {
   "display_name": "Python 3",
   "language": "python",
   "name": "python3"
  },
  "language_info": {
   "codemirror_mode": {
    "name": "ipython",
    "version": 3
   },
   "file_extension": ".py",
   "mimetype": "text/x-python",
   "name": "python",
   "nbconvert_exporter": "python",
   "pygments_lexer": "ipython3",
   "version": "3.8.5"
  }
 },
 "nbformat": 4,
 "nbformat_minor": 0
}
