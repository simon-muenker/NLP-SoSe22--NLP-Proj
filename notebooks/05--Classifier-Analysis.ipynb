{
 "cells": [
  {
   "cell_type": "code",
   "execution_count": 15,
   "metadata": {
    "collapsed": false,
    "execution": {
     "iopub.execute_input": "2022-09-13T23:56:01.379368Z",
     "iopub.status.busy": "2022-09-13T23:56:01.378989Z",
     "iopub.status.idle": "2022-09-13T23:56:01.630115Z",
     "shell.execute_reply": "2022-09-13T23:56:01.628970Z"
    },
    "pycharm": {
     "name": "#%%\n"
    }
   },
   "outputs": [],
   "source": [
    "import pandas as pd"
   ]
  },
  {
   "cell_type": "code",
   "execution_count": 16,
   "metadata": {
    "collapsed": false,
    "execution": {
     "iopub.execute_input": "2022-09-13T23:56:01.634653Z",
     "iopub.status.busy": "2022-09-13T23:56:01.634244Z",
     "iopub.status.idle": "2022-09-13T23:56:01.638614Z",
     "shell.execute_reply": "2022-09-13T23:56:01.637764Z"
    },
    "pycharm": {
     "name": "#%%\n"
    }
   },
   "outputs": [],
   "source": [
    "IN_PATH: str = '../results/training/raw'\n",
    "OUT_PATH: str = '../results/training'"
   ]
  },
  {
   "cell_type": "code",
   "execution_count": 17,
   "metadata": {
    "collapsed": false,
    "execution": {
     "iopub.execute_input": "2022-09-13T23:56:01.642698Z",
     "iopub.status.busy": "2022-09-13T23:56:01.642393Z",
     "iopub.status.idle": "2022-09-13T23:56:01.646191Z",
     "shell.execute_reply": "2022-09-13T23:56:01.645345Z"
    },
    "pycharm": {
     "name": "#%%\n"
    }
   },
   "outputs": [],
   "source": [
    "DATASETS: list = ['train', 'test']"
   ]
  },
  {
   "cell_type": "code",
   "execution_count": 18,
   "metadata": {
    "collapsed": false,
    "execution": {
     "iopub.execute_input": "2022-09-13T23:56:01.649344Z",
     "iopub.status.busy": "2022-09-13T23:56:01.648942Z",
     "iopub.status.idle": "2022-09-13T23:56:01.653321Z",
     "shell.execute_reply": "2022-09-13T23:56:01.652406Z"
    },
    "pycharm": {
     "name": "#%%\n"
    }
   },
   "outputs": [],
   "source": [
    "MODELS: list = [ 'base', 'textattack', 'fabriceyhc', 'wakaka']"
   ]
  },
  {
   "cell_type": "code",
   "execution_count": 19,
   "metadata": {
    "collapsed": false,
    "execution": {
     "iopub.execute_input": "2022-09-13T23:56:01.656773Z",
     "iopub.status.busy": "2022-09-13T23:56:01.656373Z",
     "iopub.status.idle": "2022-09-13T23:56:01.660492Z",
     "shell.execute_reply": "2022-09-13T23:56:01.659523Z"
    },
    "pycharm": {
     "name": "#%%\n"
    }
   },
   "outputs": [],
   "source": [
    "### Analyse training along epochs"
   ]
  },
  {
   "cell_type": "code",
   "execution_count": 20,
   "outputs": [],
   "source": [
    "def convert_to_multi_col(df:pd.DataFrame, meta_col: str) -> pd.DataFrame:\n",
    "    df.columns = pd.MultiIndex.from_product([[meta_col], df.columns], names=['model', 'metrics'])\n",
    "\n",
    "    return df"
   ],
   "metadata": {
    "collapsed": false,
    "pycharm": {
     "name": "#%%\n"
    }
   }
  },
  {
   "cell_type": "code",
   "execution_count": 21,
   "outputs": [],
   "source": [
    "training: pd.DataFrame = (\n",
    "    pd.concat(\n",
    "    [(\n",
    "        pd\n",
    "        .read_csv(f'{IN_PATH}/{model}.metric.training.csv', index_col=0)\n",
    "        .pipe(convert_to_multi_col, model)\n",
    "    )\n",
    "        for model in MODELS],\n",
    "    axis=1)\n",
    ")"
   ],
   "metadata": {
    "collapsed": false,
    "pycharm": {
     "name": "#%%\n"
    }
   }
  },
  {
   "cell_type": "code",
   "execution_count": 22,
   "outputs": [
    {
     "data": {
      "text/plain": "model         base                                               textattack  \\\nmetrics loss_train loss_test  f1_train   f1_test        duration loss_train   \nepoch                                                                         \n1         0.341356  0.294766  0.853391  0.874803  0:00:08.983668   0.091191   \n2         0.304875  0.292052  0.871903  0.876900  0:00:08.898100   0.080997   \n3         0.295210  0.280823  0.876722  0.879924  0:00:08.949960   0.073947   \n4         0.287250  0.278645  0.879051  0.881497  0:00:08.915519   0.072463   \n5         0.284240  0.299630  0.881340  0.872021  0:00:09.065765   0.068837   \n...            ...       ...       ...       ...             ...        ...   \n96        0.107723  0.500491  0.951371  0.888311  0:00:08.707183   0.012686   \n97        0.109458  0.447672  0.947757  0.886738  0:00:08.672244   0.014001   \n98        0.109632  0.447081  0.946914  0.888996  0:00:08.666717   0.013556   \n99        0.106792  0.428225  0.948239  0.887061  0:00:08.600682   0.013185   \n100       0.107167  0.468766  0.949002  0.887222  0:00:08.882167   0.012083   \n\nmodel                                                 fabriceyhc            \\\nmetrics loss_test  f1_train   f1_test        duration loss_train loss_test   \nepoch                                                                        \n1        0.205213  0.968237  0.934438  0:00:08.868493   0.053138  0.246463   \n2        0.198486  0.970365  0.934116  0:00:08.873600   0.049418  0.321903   \n3        0.214225  0.974381  0.932745  0:00:08.770989   0.047468  0.285969   \n4        0.205862  0.974541  0.933309  0:00:08.812462   0.047887  0.246906   \n5        0.241459  0.974903  0.934761  0:00:09.006933   0.046723  0.268597   \n...           ...       ...       ...             ...        ...       ...   \n96       0.631011  0.994057  0.930366  0:00:08.811137   0.020466  0.512787   \n97       0.647178  0.993093  0.932583  0:00:08.877095   0.023192  0.450768   \n98       0.678445  0.993696  0.930567  0:00:08.888158   0.020649  0.530180   \n99       0.669811  0.993696  0.931172  0:00:08.935617   0.021413  0.536261   \n100      0.696069  0.994097  0.932382  0:00:09.155856   0.021072  0.531129   \n\nmodel                                           wakaka                      \\\nmetrics  f1_train   f1_test        duration loss_train loss_test  f1_train   \nepoch                                                                        \n1        0.983777  0.931495  0:00:08.797146   0.283233  0.258874  0.885154   \n2        0.986146  0.931817  0:00:08.831089   0.267042  0.253861  0.889652   \n3        0.986227  0.932100  0:00:08.834580   0.262518  0.254365  0.893065   \n4        0.986508  0.932462  0:00:08.830311   0.256165  0.250078  0.895153   \n5        0.986347  0.932503  0:00:08.970126   0.253032  0.248746  0.898205   \n...           ...       ...             ...        ...       ...       ...   \n96       0.994418  0.928188  0:00:08.904898   0.105236  0.423453  0.956431   \n97       0.992973  0.927825  0:00:08.897817   0.100959  0.422309  0.957314   \n98       0.994298  0.927946  0:00:08.893539   0.102477  0.434478  0.958077   \n99       0.993936  0.929358  0:00:08.755679   0.102604  0.408044  0.956712   \n100      0.993896  0.928067  0:00:09.084979   0.100907  0.449202  0.957355   \n\nmodel                              \nmetrics   f1_test        duration  \nepoch                              \n1        0.892020  0:00:08.866107  \n2        0.895125  0:00:08.779235  \n3        0.895690  0:00:08.779363  \n4        0.899440  0:00:08.729340  \n5        0.897343  0:00:08.995133  \n...           ...             ...  \n96       0.899843  0:00:08.895868  \n97       0.901536  0:00:08.857474  \n98       0.901214  0:00:08.739469  \n99       0.902423  0:00:08.829757  \n100      0.898956  0:00:09.023654  \n\n[100 rows x 20 columns]",
      "text/html": "<div>\n<style scoped>\n    .dataframe tbody tr th:only-of-type {\n        vertical-align: middle;\n    }\n\n    .dataframe tbody tr th {\n        vertical-align: top;\n    }\n\n    .dataframe thead tr th {\n        text-align: left;\n    }\n\n    .dataframe thead tr:last-of-type th {\n        text-align: right;\n    }\n</style>\n<table border=\"1\" class=\"dataframe\">\n  <thead>\n    <tr>\n      <th>model</th>\n      <th colspan=\"5\" halign=\"left\">base</th>\n      <th colspan=\"5\" halign=\"left\">textattack</th>\n      <th colspan=\"5\" halign=\"left\">fabriceyhc</th>\n      <th colspan=\"5\" halign=\"left\">wakaka</th>\n    </tr>\n    <tr>\n      <th>metrics</th>\n      <th>loss_train</th>\n      <th>loss_test</th>\n      <th>f1_train</th>\n      <th>f1_test</th>\n      <th>duration</th>\n      <th>loss_train</th>\n      <th>loss_test</th>\n      <th>f1_train</th>\n      <th>f1_test</th>\n      <th>duration</th>\n      <th>loss_train</th>\n      <th>loss_test</th>\n      <th>f1_train</th>\n      <th>f1_test</th>\n      <th>duration</th>\n      <th>loss_train</th>\n      <th>loss_test</th>\n      <th>f1_train</th>\n      <th>f1_test</th>\n      <th>duration</th>\n    </tr>\n    <tr>\n      <th>epoch</th>\n      <th></th>\n      <th></th>\n      <th></th>\n      <th></th>\n      <th></th>\n      <th></th>\n      <th></th>\n      <th></th>\n      <th></th>\n      <th></th>\n      <th></th>\n      <th></th>\n      <th></th>\n      <th></th>\n      <th></th>\n      <th></th>\n      <th></th>\n      <th></th>\n      <th></th>\n      <th></th>\n    </tr>\n  </thead>\n  <tbody>\n    <tr>\n      <th>1</th>\n      <td>0.341356</td>\n      <td>0.294766</td>\n      <td>0.853391</td>\n      <td>0.874803</td>\n      <td>0:00:08.983668</td>\n      <td>0.091191</td>\n      <td>0.205213</td>\n      <td>0.968237</td>\n      <td>0.934438</td>\n      <td>0:00:08.868493</td>\n      <td>0.053138</td>\n      <td>0.246463</td>\n      <td>0.983777</td>\n      <td>0.931495</td>\n      <td>0:00:08.797146</td>\n      <td>0.283233</td>\n      <td>0.258874</td>\n      <td>0.885154</td>\n      <td>0.892020</td>\n      <td>0:00:08.866107</td>\n    </tr>\n    <tr>\n      <th>2</th>\n      <td>0.304875</td>\n      <td>0.292052</td>\n      <td>0.871903</td>\n      <td>0.876900</td>\n      <td>0:00:08.898100</td>\n      <td>0.080997</td>\n      <td>0.198486</td>\n      <td>0.970365</td>\n      <td>0.934116</td>\n      <td>0:00:08.873600</td>\n      <td>0.049418</td>\n      <td>0.321903</td>\n      <td>0.986146</td>\n      <td>0.931817</td>\n      <td>0:00:08.831089</td>\n      <td>0.267042</td>\n      <td>0.253861</td>\n      <td>0.889652</td>\n      <td>0.895125</td>\n      <td>0:00:08.779235</td>\n    </tr>\n    <tr>\n      <th>3</th>\n      <td>0.295210</td>\n      <td>0.280823</td>\n      <td>0.876722</td>\n      <td>0.879924</td>\n      <td>0:00:08.949960</td>\n      <td>0.073947</td>\n      <td>0.214225</td>\n      <td>0.974381</td>\n      <td>0.932745</td>\n      <td>0:00:08.770989</td>\n      <td>0.047468</td>\n      <td>0.285969</td>\n      <td>0.986227</td>\n      <td>0.932100</td>\n      <td>0:00:08.834580</td>\n      <td>0.262518</td>\n      <td>0.254365</td>\n      <td>0.893065</td>\n      <td>0.895690</td>\n      <td>0:00:08.779363</td>\n    </tr>\n    <tr>\n      <th>4</th>\n      <td>0.287250</td>\n      <td>0.278645</td>\n      <td>0.879051</td>\n      <td>0.881497</td>\n      <td>0:00:08.915519</td>\n      <td>0.072463</td>\n      <td>0.205862</td>\n      <td>0.974541</td>\n      <td>0.933309</td>\n      <td>0:00:08.812462</td>\n      <td>0.047887</td>\n      <td>0.246906</td>\n      <td>0.986508</td>\n      <td>0.932462</td>\n      <td>0:00:08.830311</td>\n      <td>0.256165</td>\n      <td>0.250078</td>\n      <td>0.895153</td>\n      <td>0.899440</td>\n      <td>0:00:08.729340</td>\n    </tr>\n    <tr>\n      <th>5</th>\n      <td>0.284240</td>\n      <td>0.299630</td>\n      <td>0.881340</td>\n      <td>0.872021</td>\n      <td>0:00:09.065765</td>\n      <td>0.068837</td>\n      <td>0.241459</td>\n      <td>0.974903</td>\n      <td>0.934761</td>\n      <td>0:00:09.006933</td>\n      <td>0.046723</td>\n      <td>0.268597</td>\n      <td>0.986347</td>\n      <td>0.932503</td>\n      <td>0:00:08.970126</td>\n      <td>0.253032</td>\n      <td>0.248746</td>\n      <td>0.898205</td>\n      <td>0.897343</td>\n      <td>0:00:08.995133</td>\n    </tr>\n    <tr>\n      <th>...</th>\n      <td>...</td>\n      <td>...</td>\n      <td>...</td>\n      <td>...</td>\n      <td>...</td>\n      <td>...</td>\n      <td>...</td>\n      <td>...</td>\n      <td>...</td>\n      <td>...</td>\n      <td>...</td>\n      <td>...</td>\n      <td>...</td>\n      <td>...</td>\n      <td>...</td>\n      <td>...</td>\n      <td>...</td>\n      <td>...</td>\n      <td>...</td>\n      <td>...</td>\n    </tr>\n    <tr>\n      <th>96</th>\n      <td>0.107723</td>\n      <td>0.500491</td>\n      <td>0.951371</td>\n      <td>0.888311</td>\n      <td>0:00:08.707183</td>\n      <td>0.012686</td>\n      <td>0.631011</td>\n      <td>0.994057</td>\n      <td>0.930366</td>\n      <td>0:00:08.811137</td>\n      <td>0.020466</td>\n      <td>0.512787</td>\n      <td>0.994418</td>\n      <td>0.928188</td>\n      <td>0:00:08.904898</td>\n      <td>0.105236</td>\n      <td>0.423453</td>\n      <td>0.956431</td>\n      <td>0.899843</td>\n      <td>0:00:08.895868</td>\n    </tr>\n    <tr>\n      <th>97</th>\n      <td>0.109458</td>\n      <td>0.447672</td>\n      <td>0.947757</td>\n      <td>0.886738</td>\n      <td>0:00:08.672244</td>\n      <td>0.014001</td>\n      <td>0.647178</td>\n      <td>0.993093</td>\n      <td>0.932583</td>\n      <td>0:00:08.877095</td>\n      <td>0.023192</td>\n      <td>0.450768</td>\n      <td>0.992973</td>\n      <td>0.927825</td>\n      <td>0:00:08.897817</td>\n      <td>0.100959</td>\n      <td>0.422309</td>\n      <td>0.957314</td>\n      <td>0.901536</td>\n      <td>0:00:08.857474</td>\n    </tr>\n    <tr>\n      <th>98</th>\n      <td>0.109632</td>\n      <td>0.447081</td>\n      <td>0.946914</td>\n      <td>0.888996</td>\n      <td>0:00:08.666717</td>\n      <td>0.013556</td>\n      <td>0.678445</td>\n      <td>0.993696</td>\n      <td>0.930567</td>\n      <td>0:00:08.888158</td>\n      <td>0.020649</td>\n      <td>0.530180</td>\n      <td>0.994298</td>\n      <td>0.927946</td>\n      <td>0:00:08.893539</td>\n      <td>0.102477</td>\n      <td>0.434478</td>\n      <td>0.958077</td>\n      <td>0.901214</td>\n      <td>0:00:08.739469</td>\n    </tr>\n    <tr>\n      <th>99</th>\n      <td>0.106792</td>\n      <td>0.428225</td>\n      <td>0.948239</td>\n      <td>0.887061</td>\n      <td>0:00:08.600682</td>\n      <td>0.013185</td>\n      <td>0.669811</td>\n      <td>0.993696</td>\n      <td>0.931172</td>\n      <td>0:00:08.935617</td>\n      <td>0.021413</td>\n      <td>0.536261</td>\n      <td>0.993936</td>\n      <td>0.929358</td>\n      <td>0:00:08.755679</td>\n      <td>0.102604</td>\n      <td>0.408044</td>\n      <td>0.956712</td>\n      <td>0.902423</td>\n      <td>0:00:08.829757</td>\n    </tr>\n    <tr>\n      <th>100</th>\n      <td>0.107167</td>\n      <td>0.468766</td>\n      <td>0.949002</td>\n      <td>0.887222</td>\n      <td>0:00:08.882167</td>\n      <td>0.012083</td>\n      <td>0.696069</td>\n      <td>0.994097</td>\n      <td>0.932382</td>\n      <td>0:00:09.155856</td>\n      <td>0.021072</td>\n      <td>0.531129</td>\n      <td>0.993896</td>\n      <td>0.928067</td>\n      <td>0:00:09.084979</td>\n      <td>0.100907</td>\n      <td>0.449202</td>\n      <td>0.957355</td>\n      <td>0.898956</td>\n      <td>0:00:09.023654</td>\n    </tr>\n  </tbody>\n</table>\n<p>100 rows × 20 columns</p>\n</div>"
     },
     "execution_count": 22,
     "metadata": {},
     "output_type": "execute_result"
    }
   ],
   "source": [
    "training.to_csv(f'{OUT_PATH}/train.full.csv')\n",
    "training"
   ],
   "metadata": {
    "collapsed": false,
    "pycharm": {
     "name": "#%%\n"
    }
   }
  },
  {
   "cell_type": "code",
   "execution_count": 23,
   "outputs": [],
   "source": [
    "training_subset = (\n",
    "    training\n",
    "    .filter(regex=\"f1_.*\")\n",
    "    .iloc[range(9, 100, 10)]\n",
    ")"
   ],
   "metadata": {
    "collapsed": false,
    "pycharm": {
     "name": "#%%\n"
    }
   }
  },
  {
   "cell_type": "code",
   "execution_count": 24,
   "outputs": [
    {
     "data": {
      "text/plain": "model        base           textattack           fabriceyhc            \\\nmetrics  f1_train   f1_test   f1_train   f1_test   f1_train   f1_test   \nepoch                                                                   \n10       0.889772  0.885811   0.978677  0.933712   0.986909  0.931817   \n20       0.903385  0.889722   0.983456  0.931333   0.988034  0.931737   \n30       0.914187  0.889077   0.987833  0.932543   0.989640  0.929116   \n40       0.923182  0.888392   0.990162  0.932382   0.990242  0.931938   \n50       0.929687  0.886053   0.990604  0.928753   0.991607  0.930930   \n60       0.934265  0.890650   0.990724  0.932543   0.991367  0.930285   \n70       0.940088  0.887988   0.992129  0.932462   0.992732  0.930971   \n80       0.941453  0.888714   0.993816  0.929075   0.992892  0.928793   \n90       0.945589  0.889601   0.993615  0.930850   0.993896  0.930850   \n100      0.949002  0.887222   0.994097  0.932382   0.993896  0.928067   \n\nmodel      wakaka            \nmetrics  f1_train   f1_test  \nepoch                        \n10       0.903465  0.902464  \n20       0.917600  0.904843  \n30       0.925310  0.898512  \n40       0.933060  0.902706  \n50       0.939445  0.901133  \n60       0.944224  0.901859  \n70       0.950649  0.902746  \n80       0.951733  0.899722  \n90       0.956712  0.901980  \n100      0.957355  0.898956  ",
      "text/html": "<div>\n<style scoped>\n    .dataframe tbody tr th:only-of-type {\n        vertical-align: middle;\n    }\n\n    .dataframe tbody tr th {\n        vertical-align: top;\n    }\n\n    .dataframe thead tr th {\n        text-align: left;\n    }\n\n    .dataframe thead tr:last-of-type th {\n        text-align: right;\n    }\n</style>\n<table border=\"1\" class=\"dataframe\">\n  <thead>\n    <tr>\n      <th>model</th>\n      <th colspan=\"2\" halign=\"left\">base</th>\n      <th colspan=\"2\" halign=\"left\">textattack</th>\n      <th colspan=\"2\" halign=\"left\">fabriceyhc</th>\n      <th colspan=\"2\" halign=\"left\">wakaka</th>\n    </tr>\n    <tr>\n      <th>metrics</th>\n      <th>f1_train</th>\n      <th>f1_test</th>\n      <th>f1_train</th>\n      <th>f1_test</th>\n      <th>f1_train</th>\n      <th>f1_test</th>\n      <th>f1_train</th>\n      <th>f1_test</th>\n    </tr>\n    <tr>\n      <th>epoch</th>\n      <th></th>\n      <th></th>\n      <th></th>\n      <th></th>\n      <th></th>\n      <th></th>\n      <th></th>\n      <th></th>\n    </tr>\n  </thead>\n  <tbody>\n    <tr>\n      <th>10</th>\n      <td>0.889772</td>\n      <td>0.885811</td>\n      <td>0.978677</td>\n      <td>0.933712</td>\n      <td>0.986909</td>\n      <td>0.931817</td>\n      <td>0.903465</td>\n      <td>0.902464</td>\n    </tr>\n    <tr>\n      <th>20</th>\n      <td>0.903385</td>\n      <td>0.889722</td>\n      <td>0.983456</td>\n      <td>0.931333</td>\n      <td>0.988034</td>\n      <td>0.931737</td>\n      <td>0.917600</td>\n      <td>0.904843</td>\n    </tr>\n    <tr>\n      <th>30</th>\n      <td>0.914187</td>\n      <td>0.889077</td>\n      <td>0.987833</td>\n      <td>0.932543</td>\n      <td>0.989640</td>\n      <td>0.929116</td>\n      <td>0.925310</td>\n      <td>0.898512</td>\n    </tr>\n    <tr>\n      <th>40</th>\n      <td>0.923182</td>\n      <td>0.888392</td>\n      <td>0.990162</td>\n      <td>0.932382</td>\n      <td>0.990242</td>\n      <td>0.931938</td>\n      <td>0.933060</td>\n      <td>0.902706</td>\n    </tr>\n    <tr>\n      <th>50</th>\n      <td>0.929687</td>\n      <td>0.886053</td>\n      <td>0.990604</td>\n      <td>0.928753</td>\n      <td>0.991607</td>\n      <td>0.930930</td>\n      <td>0.939445</td>\n      <td>0.901133</td>\n    </tr>\n    <tr>\n      <th>60</th>\n      <td>0.934265</td>\n      <td>0.890650</td>\n      <td>0.990724</td>\n      <td>0.932543</td>\n      <td>0.991367</td>\n      <td>0.930285</td>\n      <td>0.944224</td>\n      <td>0.901859</td>\n    </tr>\n    <tr>\n      <th>70</th>\n      <td>0.940088</td>\n      <td>0.887988</td>\n      <td>0.992129</td>\n      <td>0.932462</td>\n      <td>0.992732</td>\n      <td>0.930971</td>\n      <td>0.950649</td>\n      <td>0.902746</td>\n    </tr>\n    <tr>\n      <th>80</th>\n      <td>0.941453</td>\n      <td>0.888714</td>\n      <td>0.993816</td>\n      <td>0.929075</td>\n      <td>0.992892</td>\n      <td>0.928793</td>\n      <td>0.951733</td>\n      <td>0.899722</td>\n    </tr>\n    <tr>\n      <th>90</th>\n      <td>0.945589</td>\n      <td>0.889601</td>\n      <td>0.993615</td>\n      <td>0.930850</td>\n      <td>0.993896</td>\n      <td>0.930850</td>\n      <td>0.956712</td>\n      <td>0.901980</td>\n    </tr>\n    <tr>\n      <th>100</th>\n      <td>0.949002</td>\n      <td>0.887222</td>\n      <td>0.994097</td>\n      <td>0.932382</td>\n      <td>0.993896</td>\n      <td>0.928067</td>\n      <td>0.957355</td>\n      <td>0.898956</td>\n    </tr>\n  </tbody>\n</table>\n</div>"
     },
     "execution_count": 24,
     "metadata": {},
     "output_type": "execute_result"
    }
   ],
   "source": [
    "training_subset.to_csv(f'{OUT_PATH}/train.subset.csv')\n",
    "training_subset.style.to_latex(f'{OUT_PATH}/train.subset.tex')\n",
    "training_subset"
   ],
   "metadata": {
    "collapsed": false,
    "pycharm": {
     "name": "#%%\n"
    }
   }
  },
  {
   "cell_type": "code",
   "execution_count": 25,
   "outputs": [],
   "source": [
    "test: pd.DataFrame = (\n",
    "    pd.concat(\n",
    "    [(\n",
    "        pd\n",
    "        .read_csv(f'{IN_PATH}/{model}.metric.test.csv', index_col=0)\n",
    "        .pipe(convert_to_multi_col, model)\n",
    "    )\n",
    "        for model in MODELS],\n",
    "    axis=1)\n",
    "    .round(3)\n",
    ")"
   ],
   "metadata": {
    "collapsed": false,
    "pycharm": {
     "name": "#%%\n"
    }
   }
  },
  {
   "cell_type": "code",
   "execution_count": 26,
   "outputs": [
    {
     "data": {
      "text/plain": "model      base                                                textattack  \\\nmetrics      tp    fp     tn    fn   prec    rec     f1    acc         tp   \nlabel                                                                       \nAVG       22106  2695  22106  2695  0.891  0.891  0.891  0.891      23192   \nnegative  10956  1290  11150  1405  0.895  0.886  0.890  0.891      11506   \npositive  11150  1405  10956  1290  0.888  0.896  0.892  0.891      11686   \n\nmodel           ... fabriceyhc        wakaka                                   \\\nmetrics     fp  ...         f1    acc     tp    fp     tn    fn   prec    rec   \nlabel           ...                                                             \nAVG       1609  ...      0.933  0.933  22443  2358  22443  2358  0.905  0.905   \nnegative   754  ...      0.933  0.933  11163  1160  11280  1198  0.906  0.903   \npositive   855  ...      0.932  0.933  11280  1198  11163  1160  0.904  0.907   \n\nmodel                   \nmetrics      f1    acc  \nlabel                   \nAVG       0.905  0.905  \nnegative  0.904  0.905  \npositive  0.905  0.905  \n\n[3 rows x 32 columns]",
      "text/html": "<div>\n<style scoped>\n    .dataframe tbody tr th:only-of-type {\n        vertical-align: middle;\n    }\n\n    .dataframe tbody tr th {\n        vertical-align: top;\n    }\n\n    .dataframe thead tr th {\n        text-align: left;\n    }\n\n    .dataframe thead tr:last-of-type th {\n        text-align: right;\n    }\n</style>\n<table border=\"1\" class=\"dataframe\">\n  <thead>\n    <tr>\n      <th>model</th>\n      <th colspan=\"8\" halign=\"left\">base</th>\n      <th colspan=\"2\" halign=\"left\">textattack</th>\n      <th>...</th>\n      <th colspan=\"2\" halign=\"left\">fabriceyhc</th>\n      <th colspan=\"8\" halign=\"left\">wakaka</th>\n    </tr>\n    <tr>\n      <th>metrics</th>\n      <th>tp</th>\n      <th>fp</th>\n      <th>tn</th>\n      <th>fn</th>\n      <th>prec</th>\n      <th>rec</th>\n      <th>f1</th>\n      <th>acc</th>\n      <th>tp</th>\n      <th>fp</th>\n      <th>...</th>\n      <th>f1</th>\n      <th>acc</th>\n      <th>tp</th>\n      <th>fp</th>\n      <th>tn</th>\n      <th>fn</th>\n      <th>prec</th>\n      <th>rec</th>\n      <th>f1</th>\n      <th>acc</th>\n    </tr>\n    <tr>\n      <th>label</th>\n      <th></th>\n      <th></th>\n      <th></th>\n      <th></th>\n      <th></th>\n      <th></th>\n      <th></th>\n      <th></th>\n      <th></th>\n      <th></th>\n      <th></th>\n      <th></th>\n      <th></th>\n      <th></th>\n      <th></th>\n      <th></th>\n      <th></th>\n      <th></th>\n      <th></th>\n      <th></th>\n      <th></th>\n    </tr>\n  </thead>\n  <tbody>\n    <tr>\n      <th>AVG</th>\n      <td>22106</td>\n      <td>2695</td>\n      <td>22106</td>\n      <td>2695</td>\n      <td>0.891</td>\n      <td>0.891</td>\n      <td>0.891</td>\n      <td>0.891</td>\n      <td>23192</td>\n      <td>1609</td>\n      <td>...</td>\n      <td>0.933</td>\n      <td>0.933</td>\n      <td>22443</td>\n      <td>2358</td>\n      <td>22443</td>\n      <td>2358</td>\n      <td>0.905</td>\n      <td>0.905</td>\n      <td>0.905</td>\n      <td>0.905</td>\n    </tr>\n    <tr>\n      <th>negative</th>\n      <td>10956</td>\n      <td>1290</td>\n      <td>11150</td>\n      <td>1405</td>\n      <td>0.895</td>\n      <td>0.886</td>\n      <td>0.890</td>\n      <td>0.891</td>\n      <td>11506</td>\n      <td>754</td>\n      <td>...</td>\n      <td>0.933</td>\n      <td>0.933</td>\n      <td>11163</td>\n      <td>1160</td>\n      <td>11280</td>\n      <td>1198</td>\n      <td>0.906</td>\n      <td>0.903</td>\n      <td>0.904</td>\n      <td>0.905</td>\n    </tr>\n    <tr>\n      <th>positive</th>\n      <td>11150</td>\n      <td>1405</td>\n      <td>10956</td>\n      <td>1290</td>\n      <td>0.888</td>\n      <td>0.896</td>\n      <td>0.892</td>\n      <td>0.891</td>\n      <td>11686</td>\n      <td>855</td>\n      <td>...</td>\n      <td>0.932</td>\n      <td>0.933</td>\n      <td>11280</td>\n      <td>1198</td>\n      <td>11163</td>\n      <td>1160</td>\n      <td>0.904</td>\n      <td>0.907</td>\n      <td>0.905</td>\n      <td>0.905</td>\n    </tr>\n  </tbody>\n</table>\n<p>3 rows × 32 columns</p>\n</div>"
     },
     "execution_count": 26,
     "metadata": {},
     "output_type": "execute_result"
    }
   ],
   "source": [
    "test.to_csv(f'{OUT_PATH}/test.full.csv')\n",
    "test"
   ],
   "metadata": {
    "collapsed": false,
    "pycharm": {
     "name": "#%%\n"
    }
   }
  },
  {
   "cell_type": "code",
   "execution_count": 27,
   "outputs": [],
   "source": [
    "test_subset = (\n",
    "    test\n",
    "    .filter(regex=\"(prec|rec|f1)\")\n",
    ")"
   ],
   "metadata": {
    "collapsed": false,
    "pycharm": {
     "name": "#%%\n"
    }
   }
  },
  {
   "cell_type": "code",
   "execution_count": 28,
   "outputs": [
    {
     "data": {
      "text/plain": "model      base               textattack               fabriceyhc         \\\nmetrics    prec    rec     f1       prec    rec     f1       prec    rec   \nlabel                                                                      \nAVG       0.891  0.891  0.891      0.935  0.935  0.935      0.933  0.933   \nnegative  0.895  0.886  0.890      0.938  0.931  0.935      0.925  0.941   \npositive  0.888  0.896  0.892      0.932  0.939  0.936      0.941  0.924   \n\nmodel           wakaka                \nmetrics      f1   prec    rec     f1  \nlabel                                 \nAVG       0.933  0.905  0.905  0.905  \nnegative  0.933  0.906  0.903  0.904  \npositive  0.932  0.904  0.907  0.905  ",
      "text/html": "<div>\n<style scoped>\n    .dataframe tbody tr th:only-of-type {\n        vertical-align: middle;\n    }\n\n    .dataframe tbody tr th {\n        vertical-align: top;\n    }\n\n    .dataframe thead tr th {\n        text-align: left;\n    }\n\n    .dataframe thead tr:last-of-type th {\n        text-align: right;\n    }\n</style>\n<table border=\"1\" class=\"dataframe\">\n  <thead>\n    <tr>\n      <th>model</th>\n      <th colspan=\"3\" halign=\"left\">base</th>\n      <th colspan=\"3\" halign=\"left\">textattack</th>\n      <th colspan=\"3\" halign=\"left\">fabriceyhc</th>\n      <th colspan=\"3\" halign=\"left\">wakaka</th>\n    </tr>\n    <tr>\n      <th>metrics</th>\n      <th>prec</th>\n      <th>rec</th>\n      <th>f1</th>\n      <th>prec</th>\n      <th>rec</th>\n      <th>f1</th>\n      <th>prec</th>\n      <th>rec</th>\n      <th>f1</th>\n      <th>prec</th>\n      <th>rec</th>\n      <th>f1</th>\n    </tr>\n    <tr>\n      <th>label</th>\n      <th></th>\n      <th></th>\n      <th></th>\n      <th></th>\n      <th></th>\n      <th></th>\n      <th></th>\n      <th></th>\n      <th></th>\n      <th></th>\n      <th></th>\n      <th></th>\n    </tr>\n  </thead>\n  <tbody>\n    <tr>\n      <th>AVG</th>\n      <td>0.891</td>\n      <td>0.891</td>\n      <td>0.891</td>\n      <td>0.935</td>\n      <td>0.935</td>\n      <td>0.935</td>\n      <td>0.933</td>\n      <td>0.933</td>\n      <td>0.933</td>\n      <td>0.905</td>\n      <td>0.905</td>\n      <td>0.905</td>\n    </tr>\n    <tr>\n      <th>negative</th>\n      <td>0.895</td>\n      <td>0.886</td>\n      <td>0.890</td>\n      <td>0.938</td>\n      <td>0.931</td>\n      <td>0.935</td>\n      <td>0.925</td>\n      <td>0.941</td>\n      <td>0.933</td>\n      <td>0.906</td>\n      <td>0.903</td>\n      <td>0.904</td>\n    </tr>\n    <tr>\n      <th>positive</th>\n      <td>0.888</td>\n      <td>0.896</td>\n      <td>0.892</td>\n      <td>0.932</td>\n      <td>0.939</td>\n      <td>0.936</td>\n      <td>0.941</td>\n      <td>0.924</td>\n      <td>0.932</td>\n      <td>0.904</td>\n      <td>0.907</td>\n      <td>0.905</td>\n    </tr>\n  </tbody>\n</table>\n</div>"
     },
     "execution_count": 28,
     "metadata": {},
     "output_type": "execute_result"
    }
   ],
   "source": [
    "test_subset.to_csv(f'{OUT_PATH}/test.subset.csv')\n",
    "test_subset.style.to_latex(f'{OUT_PATH}/test.subset.tex')\n",
    "test_subset"
   ],
   "metadata": {
    "collapsed": false,
    "pycharm": {
     "name": "#%%\n"
    }
   }
  }
 ],
 "metadata": {
  "kernelspec": {
   "display_name": "Python 3",
   "language": "python",
   "name": "python3"
  },
  "language_info": {
   "codemirror_mode": {
    "name": "ipython",
    "version": 3
   },
   "file_extension": ".py",
   "mimetype": "text/x-python",
   "name": "python",
   "nbconvert_exporter": "python",
   "pygments_lexer": "ipython3",
   "version": "3.8.5"
  }
 },
 "nbformat": 4,
 "nbformat_minor": 0
}