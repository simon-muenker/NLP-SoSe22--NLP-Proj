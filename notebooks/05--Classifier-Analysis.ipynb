{
 "cells": [
  {
   "cell_type": "code",
   "execution_count": 18,
   "metadata": {
    "collapsed": false,
    "execution": {
     "iopub.execute_input": "2022-09-15T11:05:16.401806Z",
     "iopub.status.busy": "2022-09-15T11:05:16.401370Z",
     "iopub.status.idle": "2022-09-15T11:05:18.816804Z",
     "shell.execute_reply": "2022-09-15T11:05:18.815789Z"
    },
    "pycharm": {
     "name": "#%%\n"
    }
   },
   "outputs": [],
   "source": [
    "import pandas as pd"
   ]
  },
  {
   "cell_type": "code",
   "execution_count": 19,
   "metadata": {
    "collapsed": false,
    "execution": {
     "iopub.execute_input": "2022-09-15T11:05:18.820779Z",
     "iopub.status.busy": "2022-09-15T11:05:18.820516Z",
     "iopub.status.idle": "2022-09-15T11:05:18.825359Z",
     "shell.execute_reply": "2022-09-15T11:05:18.824634Z"
    },
    "pycharm": {
     "name": "#%%\n"
    }
   },
   "outputs": [],
   "source": [
    "IN_PATH: str = '../results/training/raw'\n",
    "OUT_PATH: str = '../results/training'"
   ]
  },
  {
   "cell_type": "code",
   "execution_count": 20,
   "metadata": {
    "collapsed": false,
    "execution": {
     "iopub.execute_input": "2022-09-15T11:05:18.828851Z",
     "iopub.status.busy": "2022-09-15T11:05:18.828627Z",
     "iopub.status.idle": "2022-09-15T11:05:18.831758Z",
     "shell.execute_reply": "2022-09-15T11:05:18.831184Z"
    },
    "pycharm": {
     "name": "#%%\n"
    }
   },
   "outputs": [],
   "source": [
    "DATASETS: list = ['train', 'test']"
   ]
  },
  {
   "cell_type": "code",
   "execution_count": 21,
   "metadata": {
    "collapsed": false,
    "execution": {
     "iopub.execute_input": "2022-09-15T11:05:18.834597Z",
     "iopub.status.busy": "2022-09-15T11:05:18.834347Z",
     "iopub.status.idle": "2022-09-15T11:05:18.837305Z",
     "shell.execute_reply": "2022-09-15T11:05:18.836697Z"
    },
    "pycharm": {
     "name": "#%%\n"
    }
   },
   "outputs": [],
   "source": [
    "MODELS: list = [ 'base', 'textattack', 'fabriceyhc', 'wakaka']"
   ]
  },
  {
   "cell_type": "code",
   "execution_count": 22,
   "metadata": {
    "collapsed": false,
    "execution": {
     "iopub.execute_input": "2022-09-15T11:05:18.840002Z",
     "iopub.status.busy": "2022-09-15T11:05:18.839802Z",
     "iopub.status.idle": "2022-09-15T11:05:18.842028Z",
     "shell.execute_reply": "2022-09-15T11:05:18.841522Z"
    },
    "pycharm": {
     "name": "#%%\n"
    }
   },
   "outputs": [],
   "source": [
    "### Analyse training along epochs"
   ]
  },
  {
   "cell_type": "code",
   "execution_count": 23,
   "metadata": {
    "collapsed": false,
    "execution": {
     "iopub.execute_input": "2022-09-15T11:05:18.844876Z",
     "iopub.status.busy": "2022-09-15T11:05:18.844684Z",
     "iopub.status.idle": "2022-09-15T11:05:18.848069Z",
     "shell.execute_reply": "2022-09-15T11:05:18.847560Z"
    },
    "pycharm": {
     "name": "#%%\n"
    }
   },
   "outputs": [],
   "source": [
    "def convert_to_multi_col(df:pd.DataFrame, meta_col: str) -> pd.DataFrame:\n",
    "    df.columns = pd.MultiIndex.from_product([[meta_col], df.columns], names=['model', 'metrics'])\n",
    "\n",
    "    return df"
   ]
  },
  {
   "cell_type": "code",
   "execution_count": 24,
   "metadata": {
    "collapsed": false,
    "execution": {
     "iopub.execute_input": "2022-09-15T11:05:18.850737Z",
     "iopub.status.busy": "2022-09-15T11:05:18.850552Z",
     "iopub.status.idle": "2022-09-15T11:05:18.881332Z",
     "shell.execute_reply": "2022-09-15T11:05:18.880561Z"
    },
    "pycharm": {
     "name": "#%%\n"
    }
   },
   "outputs": [],
   "source": [
    "training: pd.DataFrame = (\n",
    "    pd.concat(\n",
    "    [(\n",
    "        pd\n",
    "        .read_csv(f'{IN_PATH}/{model}.metric.training.csv', index_col=0)\n",
    "        .pipe(convert_to_multi_col, model)\n",
    "    )\n",
    "        for model in MODELS],\n",
    "    axis=1)\n",
    ")"
   ]
  },
  {
   "cell_type": "code",
   "execution_count": 25,
   "metadata": {
    "collapsed": false,
    "execution": {
     "iopub.execute_input": "2022-09-15T11:05:18.884359Z",
     "iopub.status.busy": "2022-09-15T11:05:18.884150Z",
     "iopub.status.idle": "2022-09-15T11:05:18.925441Z",
     "shell.execute_reply": "2022-09-15T11:05:18.924945Z"
    },
    "pycharm": {
     "name": "#%%\n"
    }
   },
   "outputs": [
    {
     "data": {
      "text/plain": "model         base                                               textattack  \\\nmetrics loss_train loss_test  f1_train   f1_test        duration loss_train   \nepoch                                                                         \n1         0.343233  0.338719  0.852789  0.852587  0:00:09.668784   0.090434   \n2         0.307729  0.326901  0.870257  0.858070  0:00:09.572611   0.080465   \n3         0.295009  0.281795  0.877525  0.880287  0:00:09.547557   0.074212   \n4         0.288303  0.282079  0.880055  0.880529  0:00:09.568807   0.071654   \n5         0.286963  0.298477  0.882022  0.872384  0:00:09.723108   0.069381   \n...            ...       ...       ...       ...             ...        ...   \n96        0.113739  0.429951  0.945830  0.889924  0:00:08.684905   0.010093   \n97        0.108427  0.433491  0.947075  0.890972  0:00:08.694592   0.012433   \n98        0.112546  0.435157  0.946713  0.888029  0:00:08.698532   0.012706   \n99        0.108437  0.494099  0.947557  0.888230  0:00:08.726006   0.013844   \n100       0.106169  0.505802  0.950367  0.882384  0:00:08.810596   0.010980   \n\nmodel                                                 fabriceyhc            \\\nmetrics loss_test  f1_train   f1_test        duration loss_train loss_test   \nepoch                                                                        \n1        0.201433  0.967755  0.934357  0:00:08.705031   0.053728  0.235835   \n2        0.218280  0.971530  0.929237  0:00:08.687009   0.049393  0.218563   \n3        0.229594  0.972935  0.934196  0:00:08.710527   0.048638  0.332823   \n4        0.241140  0.974862  0.932462  0:00:08.607995   0.047800  0.272608   \n5        0.220475  0.975023  0.932664  0:00:08.844395   0.047182  0.230460   \n...           ...       ...       ...             ...        ...       ...   \n96       0.729500  0.994579  0.931817  0:00:09.048059   0.023699  0.472859   \n97       0.667817  0.994258  0.929761  0:00:09.013151   0.021013  0.571112   \n98       0.632887  0.994057  0.929237  0:00:08.932167   0.019619  0.579133   \n99       0.644918  0.994258  0.931696  0:00:08.996109   0.021750  0.478141   \n100      0.659987  0.995342  0.930285  0:00:09.150759   0.022505  0.545479   \n\nmodel                                           wakaka                      \\\nmetrics  f1_train   f1_test        duration loss_train loss_test  f1_train   \nepoch                                                                        \n1        0.984098  0.932301  0:00:09.021376   0.283266  0.259142  0.884632   \n2        0.985986  0.930769  0:00:08.916055   0.269048  0.257580  0.889853   \n3        0.985945  0.930003  0:00:08.822648   0.261387  0.249518  0.894189   \n4        0.986548  0.932341  0:00:08.934248   0.255489  0.248275  0.896599   \n5        0.986508  0.932462  0:00:09.234810   0.251836  0.247597  0.897924   \n...           ...       ...             ...        ...       ...       ...   \n96       0.992330  0.929196  0:00:09.668125   0.103378  0.405929  0.956351   \n97       0.993615  0.928713  0:00:09.763579   0.105295  0.393021  0.955949   \n98       0.993936  0.929882  0:00:09.720812   0.101766  0.384666  0.958077   \n99       0.993374  0.929519  0:00:09.710189   0.099981  0.473264  0.958158   \n100      0.993455  0.931495  0:00:09.951089   0.103536  0.453354  0.956310   \n\nmodel                              \nmetrics   f1_test        duration  \nepoch                              \n1        0.891456  0:00:09.755657  \n2        0.896254  0:00:09.709849  \n3        0.898149  0:00:09.467708  \n4        0.898996  0:00:09.016544  \n5        0.897746  0:00:09.224361  \n...           ...             ...  \n96       0.902867  0:00:09.011410  \n97       0.901415  0:00:08.954484  \n98       0.901778  0:00:08.949227  \n99       0.893069  0:00:08.886320  \n100      0.903673  0:00:09.214288  \n\n[100 rows x 20 columns]",
      "text/html": "<div>\n<style scoped>\n    .dataframe tbody tr th:only-of-type {\n        vertical-align: middle;\n    }\n\n    .dataframe tbody tr th {\n        vertical-align: top;\n    }\n\n    .dataframe thead tr th {\n        text-align: left;\n    }\n\n    .dataframe thead tr:last-of-type th {\n        text-align: right;\n    }\n</style>\n<table border=\"1\" class=\"dataframe\">\n  <thead>\n    <tr>\n      <th>model</th>\n      <th colspan=\"5\" halign=\"left\">base</th>\n      <th colspan=\"5\" halign=\"left\">textattack</th>\n      <th colspan=\"5\" halign=\"left\">fabriceyhc</th>\n      <th colspan=\"5\" halign=\"left\">wakaka</th>\n    </tr>\n    <tr>\n      <th>metrics</th>\n      <th>loss_train</th>\n      <th>loss_test</th>\n      <th>f1_train</th>\n      <th>f1_test</th>\n      <th>duration</th>\n      <th>loss_train</th>\n      <th>loss_test</th>\n      <th>f1_train</th>\n      <th>f1_test</th>\n      <th>duration</th>\n      <th>loss_train</th>\n      <th>loss_test</th>\n      <th>f1_train</th>\n      <th>f1_test</th>\n      <th>duration</th>\n      <th>loss_train</th>\n      <th>loss_test</th>\n      <th>f1_train</th>\n      <th>f1_test</th>\n      <th>duration</th>\n    </tr>\n    <tr>\n      <th>epoch</th>\n      <th></th>\n      <th></th>\n      <th></th>\n      <th></th>\n      <th></th>\n      <th></th>\n      <th></th>\n      <th></th>\n      <th></th>\n      <th></th>\n      <th></th>\n      <th></th>\n      <th></th>\n      <th></th>\n      <th></th>\n      <th></th>\n      <th></th>\n      <th></th>\n      <th></th>\n      <th></th>\n    </tr>\n  </thead>\n  <tbody>\n    <tr>\n      <th>1</th>\n      <td>0.343233</td>\n      <td>0.338719</td>\n      <td>0.852789</td>\n      <td>0.852587</td>\n      <td>0:00:09.668784</td>\n      <td>0.090434</td>\n      <td>0.201433</td>\n      <td>0.967755</td>\n      <td>0.934357</td>\n      <td>0:00:08.705031</td>\n      <td>0.053728</td>\n      <td>0.235835</td>\n      <td>0.984098</td>\n      <td>0.932301</td>\n      <td>0:00:09.021376</td>\n      <td>0.283266</td>\n      <td>0.259142</td>\n      <td>0.884632</td>\n      <td>0.891456</td>\n      <td>0:00:09.755657</td>\n    </tr>\n    <tr>\n      <th>2</th>\n      <td>0.307729</td>\n      <td>0.326901</td>\n      <td>0.870257</td>\n      <td>0.858070</td>\n      <td>0:00:09.572611</td>\n      <td>0.080465</td>\n      <td>0.218280</td>\n      <td>0.971530</td>\n      <td>0.929237</td>\n      <td>0:00:08.687009</td>\n      <td>0.049393</td>\n      <td>0.218563</td>\n      <td>0.985986</td>\n      <td>0.930769</td>\n      <td>0:00:08.916055</td>\n      <td>0.269048</td>\n      <td>0.257580</td>\n      <td>0.889853</td>\n      <td>0.896254</td>\n      <td>0:00:09.709849</td>\n    </tr>\n    <tr>\n      <th>3</th>\n      <td>0.295009</td>\n      <td>0.281795</td>\n      <td>0.877525</td>\n      <td>0.880287</td>\n      <td>0:00:09.547557</td>\n      <td>0.074212</td>\n      <td>0.229594</td>\n      <td>0.972935</td>\n      <td>0.934196</td>\n      <td>0:00:08.710527</td>\n      <td>0.048638</td>\n      <td>0.332823</td>\n      <td>0.985945</td>\n      <td>0.930003</td>\n      <td>0:00:08.822648</td>\n      <td>0.261387</td>\n      <td>0.249518</td>\n      <td>0.894189</td>\n      <td>0.898149</td>\n      <td>0:00:09.467708</td>\n    </tr>\n    <tr>\n      <th>4</th>\n      <td>0.288303</td>\n      <td>0.282079</td>\n      <td>0.880055</td>\n      <td>0.880529</td>\n      <td>0:00:09.568807</td>\n      <td>0.071654</td>\n      <td>0.241140</td>\n      <td>0.974862</td>\n      <td>0.932462</td>\n      <td>0:00:08.607995</td>\n      <td>0.047800</td>\n      <td>0.272608</td>\n      <td>0.986548</td>\n      <td>0.932341</td>\n      <td>0:00:08.934248</td>\n      <td>0.255489</td>\n      <td>0.248275</td>\n      <td>0.896599</td>\n      <td>0.898996</td>\n      <td>0:00:09.016544</td>\n    </tr>\n    <tr>\n      <th>5</th>\n      <td>0.286963</td>\n      <td>0.298477</td>\n      <td>0.882022</td>\n      <td>0.872384</td>\n      <td>0:00:09.723108</td>\n      <td>0.069381</td>\n      <td>0.220475</td>\n      <td>0.975023</td>\n      <td>0.932664</td>\n      <td>0:00:08.844395</td>\n      <td>0.047182</td>\n      <td>0.230460</td>\n      <td>0.986508</td>\n      <td>0.932462</td>\n      <td>0:00:09.234810</td>\n      <td>0.251836</td>\n      <td>0.247597</td>\n      <td>0.897924</td>\n      <td>0.897746</td>\n      <td>0:00:09.224361</td>\n    </tr>\n    <tr>\n      <th>...</th>\n      <td>...</td>\n      <td>...</td>\n      <td>...</td>\n      <td>...</td>\n      <td>...</td>\n      <td>...</td>\n      <td>...</td>\n      <td>...</td>\n      <td>...</td>\n      <td>...</td>\n      <td>...</td>\n      <td>...</td>\n      <td>...</td>\n      <td>...</td>\n      <td>...</td>\n      <td>...</td>\n      <td>...</td>\n      <td>...</td>\n      <td>...</td>\n      <td>...</td>\n    </tr>\n    <tr>\n      <th>96</th>\n      <td>0.113739</td>\n      <td>0.429951</td>\n      <td>0.945830</td>\n      <td>0.889924</td>\n      <td>0:00:08.684905</td>\n      <td>0.010093</td>\n      <td>0.729500</td>\n      <td>0.994579</td>\n      <td>0.931817</td>\n      <td>0:00:09.048059</td>\n      <td>0.023699</td>\n      <td>0.472859</td>\n      <td>0.992330</td>\n      <td>0.929196</td>\n      <td>0:00:09.668125</td>\n      <td>0.103378</td>\n      <td>0.405929</td>\n      <td>0.956351</td>\n      <td>0.902867</td>\n      <td>0:00:09.011410</td>\n    </tr>\n    <tr>\n      <th>97</th>\n      <td>0.108427</td>\n      <td>0.433491</td>\n      <td>0.947075</td>\n      <td>0.890972</td>\n      <td>0:00:08.694592</td>\n      <td>0.012433</td>\n      <td>0.667817</td>\n      <td>0.994258</td>\n      <td>0.929761</td>\n      <td>0:00:09.013151</td>\n      <td>0.021013</td>\n      <td>0.571112</td>\n      <td>0.993615</td>\n      <td>0.928713</td>\n      <td>0:00:09.763579</td>\n      <td>0.105295</td>\n      <td>0.393021</td>\n      <td>0.955949</td>\n      <td>0.901415</td>\n      <td>0:00:08.954484</td>\n    </tr>\n    <tr>\n      <th>98</th>\n      <td>0.112546</td>\n      <td>0.435157</td>\n      <td>0.946713</td>\n      <td>0.888029</td>\n      <td>0:00:08.698532</td>\n      <td>0.012706</td>\n      <td>0.632887</td>\n      <td>0.994057</td>\n      <td>0.929237</td>\n      <td>0:00:08.932167</td>\n      <td>0.019619</td>\n      <td>0.579133</td>\n      <td>0.993936</td>\n      <td>0.929882</td>\n      <td>0:00:09.720812</td>\n      <td>0.101766</td>\n      <td>0.384666</td>\n      <td>0.958077</td>\n      <td>0.901778</td>\n      <td>0:00:08.949227</td>\n    </tr>\n    <tr>\n      <th>99</th>\n      <td>0.108437</td>\n      <td>0.494099</td>\n      <td>0.947557</td>\n      <td>0.888230</td>\n      <td>0:00:08.726006</td>\n      <td>0.013844</td>\n      <td>0.644918</td>\n      <td>0.994258</td>\n      <td>0.931696</td>\n      <td>0:00:08.996109</td>\n      <td>0.021750</td>\n      <td>0.478141</td>\n      <td>0.993374</td>\n      <td>0.929519</td>\n      <td>0:00:09.710189</td>\n      <td>0.099981</td>\n      <td>0.473264</td>\n      <td>0.958158</td>\n      <td>0.893069</td>\n      <td>0:00:08.886320</td>\n    </tr>\n    <tr>\n      <th>100</th>\n      <td>0.106169</td>\n      <td>0.505802</td>\n      <td>0.950367</td>\n      <td>0.882384</td>\n      <td>0:00:08.810596</td>\n      <td>0.010980</td>\n      <td>0.659987</td>\n      <td>0.995342</td>\n      <td>0.930285</td>\n      <td>0:00:09.150759</td>\n      <td>0.022505</td>\n      <td>0.545479</td>\n      <td>0.993455</td>\n      <td>0.931495</td>\n      <td>0:00:09.951089</td>\n      <td>0.103536</td>\n      <td>0.453354</td>\n      <td>0.956310</td>\n      <td>0.903673</td>\n      <td>0:00:09.214288</td>\n    </tr>\n  </tbody>\n</table>\n<p>100 rows × 20 columns</p>\n</div>"
     },
     "execution_count": 25,
     "metadata": {},
     "output_type": "execute_result"
    }
   ],
   "source": [
    "training.to_csv(f'{OUT_PATH}/train.full.csv')\n",
    "training"
   ]
  },
  {
   "cell_type": "code",
   "execution_count": 26,
   "metadata": {
    "collapsed": false,
    "execution": {
     "iopub.execute_input": "2022-09-15T11:05:18.951830Z",
     "iopub.status.busy": "2022-09-15T11:05:18.951601Z",
     "iopub.status.idle": "2022-09-15T11:05:18.957269Z",
     "shell.execute_reply": "2022-09-15T11:05:18.956517Z"
    },
    "pycharm": {
     "name": "#%%\n"
    }
   },
   "outputs": [],
   "source": [
    "training_subset = (\n",
    "    training\n",
    "    .filter(regex=\"f1_.*\")\n",
    "    .iloc[range(9, 100, 10)]\n",
    ")"
   ]
  },
  {
   "cell_type": "code",
   "execution_count": 27,
   "metadata": {
    "collapsed": false,
    "execution": {
     "iopub.execute_input": "2022-09-15T11:05:18.960544Z",
     "iopub.status.busy": "2022-09-15T11:05:18.960319Z",
     "iopub.status.idle": "2022-09-15T11:05:20.037912Z",
     "shell.execute_reply": "2022-09-15T11:05:20.036882Z"
    },
    "pycharm": {
     "name": "#%%\n"
    }
   },
   "outputs": [
    {
     "data": {
      "text/plain": "model        base           textattack           fabriceyhc            \\\nmetrics  f1_train   f1_test   f1_train   f1_test   f1_train   f1_test   \nepoch                                                                   \n10       0.892985  0.887505   0.978517  0.934156   0.987471  0.931333   \n20       0.902662  0.889480   0.984259  0.932180   0.988034  0.931212   \n30       0.912501  0.891738   0.986949  0.930809   0.988756  0.931696   \n40       0.921375  0.887827   0.990202  0.930285   0.990041  0.930245   \n50       0.930290  0.884642   0.991447  0.931293   0.990764  0.929680   \n60       0.932378  0.890851   0.992732  0.929600   0.991969  0.930164   \n70       0.938281  0.886617   0.993736  0.930325   0.992491  0.929398   \n80       0.942055  0.891174   0.994137  0.933108   0.992611  0.928632   \n90       0.944906  0.882384   0.994097  0.930083   0.993133  0.928551   \n100      0.950367  0.882384   0.995342  0.930285   0.993455  0.931495   \n\nmodel      wakaka            \nmetrics  f1_train   f1_test  \nepoch                        \n10       0.905192  0.902101  \n20       0.915271  0.901536  \n30       0.923021  0.903189  \n40       0.931454  0.904883  \n50       0.937397  0.898875  \n60       0.945509  0.900165  \n70       0.947195  0.897827  \n80       0.951050  0.902625  \n90       0.953741  0.900085  \n100      0.956310  0.903673  ",
      "text/html": "<div>\n<style scoped>\n    .dataframe tbody tr th:only-of-type {\n        vertical-align: middle;\n    }\n\n    .dataframe tbody tr th {\n        vertical-align: top;\n    }\n\n    .dataframe thead tr th {\n        text-align: left;\n    }\n\n    .dataframe thead tr:last-of-type th {\n        text-align: right;\n    }\n</style>\n<table border=\"1\" class=\"dataframe\">\n  <thead>\n    <tr>\n      <th>model</th>\n      <th colspan=\"2\" halign=\"left\">base</th>\n      <th colspan=\"2\" halign=\"left\">textattack</th>\n      <th colspan=\"2\" halign=\"left\">fabriceyhc</th>\n      <th colspan=\"2\" halign=\"left\">wakaka</th>\n    </tr>\n    <tr>\n      <th>metrics</th>\n      <th>f1_train</th>\n      <th>f1_test</th>\n      <th>f1_train</th>\n      <th>f1_test</th>\n      <th>f1_train</th>\n      <th>f1_test</th>\n      <th>f1_train</th>\n      <th>f1_test</th>\n    </tr>\n    <tr>\n      <th>epoch</th>\n      <th></th>\n      <th></th>\n      <th></th>\n      <th></th>\n      <th></th>\n      <th></th>\n      <th></th>\n      <th></th>\n    </tr>\n  </thead>\n  <tbody>\n    <tr>\n      <th>10</th>\n      <td>0.892985</td>\n      <td>0.887505</td>\n      <td>0.978517</td>\n      <td>0.934156</td>\n      <td>0.987471</td>\n      <td>0.931333</td>\n      <td>0.905192</td>\n      <td>0.902101</td>\n    </tr>\n    <tr>\n      <th>20</th>\n      <td>0.902662</td>\n      <td>0.889480</td>\n      <td>0.984259</td>\n      <td>0.932180</td>\n      <td>0.988034</td>\n      <td>0.931212</td>\n      <td>0.915271</td>\n      <td>0.901536</td>\n    </tr>\n    <tr>\n      <th>30</th>\n      <td>0.912501</td>\n      <td>0.891738</td>\n      <td>0.986949</td>\n      <td>0.930809</td>\n      <td>0.988756</td>\n      <td>0.931696</td>\n      <td>0.923021</td>\n      <td>0.903189</td>\n    </tr>\n    <tr>\n      <th>40</th>\n      <td>0.921375</td>\n      <td>0.887827</td>\n      <td>0.990202</td>\n      <td>0.930285</td>\n      <td>0.990041</td>\n      <td>0.930245</td>\n      <td>0.931454</td>\n      <td>0.904883</td>\n    </tr>\n    <tr>\n      <th>50</th>\n      <td>0.930290</td>\n      <td>0.884642</td>\n      <td>0.991447</td>\n      <td>0.931293</td>\n      <td>0.990764</td>\n      <td>0.929680</td>\n      <td>0.937397</td>\n      <td>0.898875</td>\n    </tr>\n    <tr>\n      <th>60</th>\n      <td>0.932378</td>\n      <td>0.890851</td>\n      <td>0.992732</td>\n      <td>0.929600</td>\n      <td>0.991969</td>\n      <td>0.930164</td>\n      <td>0.945509</td>\n      <td>0.900165</td>\n    </tr>\n    <tr>\n      <th>70</th>\n      <td>0.938281</td>\n      <td>0.886617</td>\n      <td>0.993736</td>\n      <td>0.930325</td>\n      <td>0.992491</td>\n      <td>0.929398</td>\n      <td>0.947195</td>\n      <td>0.897827</td>\n    </tr>\n    <tr>\n      <th>80</th>\n      <td>0.942055</td>\n      <td>0.891174</td>\n      <td>0.994137</td>\n      <td>0.933108</td>\n      <td>0.992611</td>\n      <td>0.928632</td>\n      <td>0.951050</td>\n      <td>0.902625</td>\n    </tr>\n    <tr>\n      <th>90</th>\n      <td>0.944906</td>\n      <td>0.882384</td>\n      <td>0.994097</td>\n      <td>0.930083</td>\n      <td>0.993133</td>\n      <td>0.928551</td>\n      <td>0.953741</td>\n      <td>0.900085</td>\n    </tr>\n    <tr>\n      <th>100</th>\n      <td>0.950367</td>\n      <td>0.882384</td>\n      <td>0.995342</td>\n      <td>0.930285</td>\n      <td>0.993455</td>\n      <td>0.931495</td>\n      <td>0.956310</td>\n      <td>0.903673</td>\n    </tr>\n  </tbody>\n</table>\n</div>"
     },
     "metadata": {},
     "output_type": "display_data"
    }
   ],
   "source": [
    "training_subset.to_csv(f'{OUT_PATH}/train.subset.csv')\n",
    "training_subset.style.to_latex(f'{OUT_PATH}/_tex/train.subset.tex')\n",
    "display(training_subset)\n",
    "# print(training_subset.to_markdown())"
   ]
  },
  {
   "cell_type": "code",
   "execution_count": 28,
   "metadata": {
    "collapsed": false,
    "execution": {
     "iopub.execute_input": "2022-09-15T11:05:20.043322Z",
     "iopub.status.busy": "2022-09-15T11:05:20.042956Z",
     "iopub.status.idle": "2022-09-15T11:05:20.083464Z",
     "shell.execute_reply": "2022-09-15T11:05:20.082679Z"
    },
    "pycharm": {
     "name": "#%%\n"
    }
   },
   "outputs": [],
   "source": [
    "test: pd.DataFrame = (\n",
    "    pd.concat(\n",
    "    [(\n",
    "        pd\n",
    "        .read_csv(f'{IN_PATH}/{model}.metric.test.csv', index_col=0)\n",
    "        .pipe(convert_to_multi_col, model)\n",
    "    )\n",
    "        for model in MODELS],\n",
    "    axis=1)\n",
    "    .round(3)\n",
    ")"
   ]
  },
  {
   "cell_type": "code",
   "execution_count": 29,
   "metadata": {
    "collapsed": false,
    "execution": {
     "iopub.execute_input": "2022-09-15T11:05:20.087425Z",
     "iopub.status.busy": "2022-09-15T11:05:20.087148Z",
     "iopub.status.idle": "2022-09-15T11:05:20.128400Z",
     "shell.execute_reply": "2022-09-15T11:05:20.127341Z"
    },
    "pycharm": {
     "name": "#%%\n"
    }
   },
   "outputs": [
    {
     "data": {
      "text/plain": "model      base                                                textattack  \\\nmetrics      tp    fp     tn    fn   prec    rec     f1    acc         tp   \nlabel                                                                       \nAVG       22116  2685  22116  2685  0.892  0.892  0.892  0.892      23177   \nnegative  10956  1280  11160  1405  0.895  0.886  0.891  0.892      11598   \npositive  11160  1405  10956  1280  0.888  0.897  0.893  0.892      11579   \n\nmodel           ... fabriceyhc        wakaka                                   \\\nmetrics     fp  ...         f1    acc     tp    fp     tn    fn   prec    rec   \nlabel           ...                                                             \nAVG       1624  ...      0.933  0.933  22442  2359  22442  2359  0.905  0.905   \nnegative   861  ...      0.933  0.933  11116  1114  11326  1245  0.909  0.899   \npositive   763  ...      0.933  0.933  11326  1245  11116  1114  0.901  0.910   \n\nmodel                   \nmetrics      f1    acc  \nlabel                   \nAVG       0.905  0.905  \nnegative  0.904  0.905  \npositive  0.906  0.905  \n\n[3 rows x 32 columns]",
      "text/html": "<div>\n<style scoped>\n    .dataframe tbody tr th:only-of-type {\n        vertical-align: middle;\n    }\n\n    .dataframe tbody tr th {\n        vertical-align: top;\n    }\n\n    .dataframe thead tr th {\n        text-align: left;\n    }\n\n    .dataframe thead tr:last-of-type th {\n        text-align: right;\n    }\n</style>\n<table border=\"1\" class=\"dataframe\">\n  <thead>\n    <tr>\n      <th>model</th>\n      <th colspan=\"8\" halign=\"left\">base</th>\n      <th colspan=\"2\" halign=\"left\">textattack</th>\n      <th>...</th>\n      <th colspan=\"2\" halign=\"left\">fabriceyhc</th>\n      <th colspan=\"8\" halign=\"left\">wakaka</th>\n    </tr>\n    <tr>\n      <th>metrics</th>\n      <th>tp</th>\n      <th>fp</th>\n      <th>tn</th>\n      <th>fn</th>\n      <th>prec</th>\n      <th>rec</th>\n      <th>f1</th>\n      <th>acc</th>\n      <th>tp</th>\n      <th>fp</th>\n      <th>...</th>\n      <th>f1</th>\n      <th>acc</th>\n      <th>tp</th>\n      <th>fp</th>\n      <th>tn</th>\n      <th>fn</th>\n      <th>prec</th>\n      <th>rec</th>\n      <th>f1</th>\n      <th>acc</th>\n    </tr>\n    <tr>\n      <th>label</th>\n      <th></th>\n      <th></th>\n      <th></th>\n      <th></th>\n      <th></th>\n      <th></th>\n      <th></th>\n      <th></th>\n      <th></th>\n      <th></th>\n      <th></th>\n      <th></th>\n      <th></th>\n      <th></th>\n      <th></th>\n      <th></th>\n      <th></th>\n      <th></th>\n      <th></th>\n      <th></th>\n      <th></th>\n    </tr>\n  </thead>\n  <tbody>\n    <tr>\n      <th>AVG</th>\n      <td>22116</td>\n      <td>2685</td>\n      <td>22116</td>\n      <td>2685</td>\n      <td>0.892</td>\n      <td>0.892</td>\n      <td>0.892</td>\n      <td>0.892</td>\n      <td>23177</td>\n      <td>1624</td>\n      <td>...</td>\n      <td>0.933</td>\n      <td>0.933</td>\n      <td>22442</td>\n      <td>2359</td>\n      <td>22442</td>\n      <td>2359</td>\n      <td>0.905</td>\n      <td>0.905</td>\n      <td>0.905</td>\n      <td>0.905</td>\n    </tr>\n    <tr>\n      <th>negative</th>\n      <td>10956</td>\n      <td>1280</td>\n      <td>11160</td>\n      <td>1405</td>\n      <td>0.895</td>\n      <td>0.886</td>\n      <td>0.891</td>\n      <td>0.892</td>\n      <td>11598</td>\n      <td>861</td>\n      <td>...</td>\n      <td>0.933</td>\n      <td>0.933</td>\n      <td>11116</td>\n      <td>1114</td>\n      <td>11326</td>\n      <td>1245</td>\n      <td>0.909</td>\n      <td>0.899</td>\n      <td>0.904</td>\n      <td>0.905</td>\n    </tr>\n    <tr>\n      <th>positive</th>\n      <td>11160</td>\n      <td>1405</td>\n      <td>10956</td>\n      <td>1280</td>\n      <td>0.888</td>\n      <td>0.897</td>\n      <td>0.893</td>\n      <td>0.892</td>\n      <td>11579</td>\n      <td>763</td>\n      <td>...</td>\n      <td>0.933</td>\n      <td>0.933</td>\n      <td>11326</td>\n      <td>1245</td>\n      <td>11116</td>\n      <td>1114</td>\n      <td>0.901</td>\n      <td>0.910</td>\n      <td>0.906</td>\n      <td>0.905</td>\n    </tr>\n  </tbody>\n</table>\n<p>3 rows × 32 columns</p>\n</div>"
     },
     "execution_count": 29,
     "metadata": {},
     "output_type": "execute_result"
    }
   ],
   "source": [
    "test.to_csv(f'{OUT_PATH}/test.full.csv')\n",
    "test"
   ]
  },
  {
   "cell_type": "code",
   "execution_count": 30,
   "metadata": {
    "collapsed": false,
    "execution": {
     "iopub.execute_input": "2022-09-15T11:05:20.134866Z",
     "iopub.status.busy": "2022-09-15T11:05:20.134472Z",
     "iopub.status.idle": "2022-09-15T11:05:20.140866Z",
     "shell.execute_reply": "2022-09-15T11:05:20.139684Z"
    },
    "pycharm": {
     "name": "#%%\n"
    }
   },
   "outputs": [],
   "source": [
    "test_subset = (\n",
    "    test\n",
    "    .filter(regex=\"(prec|rec|f1)\")\n",
    ")"
   ]
  },
  {
   "cell_type": "code",
   "execution_count": 31,
   "metadata": {
    "collapsed": false,
    "execution": {
     "iopub.execute_input": "2022-09-15T11:05:20.146868Z",
     "iopub.status.busy": "2022-09-15T11:05:20.146437Z",
     "iopub.status.idle": "2022-09-15T11:05:20.188810Z",
     "shell.execute_reply": "2022-09-15T11:05:20.187529Z"
    },
    "pycharm": {
     "name": "#%%\n"
    }
   },
   "outputs": [
    {
     "data": {
      "text/plain": "model      base               textattack               fabriceyhc         \\\nmetrics    prec    rec     f1       prec    rec     f1       prec    rec   \nlabel                                                                      \nAVG       0.892  0.892  0.892      0.935  0.935  0.935      0.933  0.933   \nnegative  0.895  0.886  0.891      0.931  0.938  0.935      0.930  0.935   \npositive  0.888  0.897  0.893      0.938  0.931  0.934      0.935  0.930   \n\nmodel           wakaka                \nmetrics      f1   prec    rec     f1  \nlabel                                 \nAVG       0.933  0.905  0.905  0.905  \nnegative  0.933  0.909  0.899  0.904  \npositive  0.933  0.901  0.910  0.906  ",
      "text/html": "<div>\n<style scoped>\n    .dataframe tbody tr th:only-of-type {\n        vertical-align: middle;\n    }\n\n    .dataframe tbody tr th {\n        vertical-align: top;\n    }\n\n    .dataframe thead tr th {\n        text-align: left;\n    }\n\n    .dataframe thead tr:last-of-type th {\n        text-align: right;\n    }\n</style>\n<table border=\"1\" class=\"dataframe\">\n  <thead>\n    <tr>\n      <th>model</th>\n      <th colspan=\"3\" halign=\"left\">base</th>\n      <th colspan=\"3\" halign=\"left\">textattack</th>\n      <th colspan=\"3\" halign=\"left\">fabriceyhc</th>\n      <th colspan=\"3\" halign=\"left\">wakaka</th>\n    </tr>\n    <tr>\n      <th>metrics</th>\n      <th>prec</th>\n      <th>rec</th>\n      <th>f1</th>\n      <th>prec</th>\n      <th>rec</th>\n      <th>f1</th>\n      <th>prec</th>\n      <th>rec</th>\n      <th>f1</th>\n      <th>prec</th>\n      <th>rec</th>\n      <th>f1</th>\n    </tr>\n    <tr>\n      <th>label</th>\n      <th></th>\n      <th></th>\n      <th></th>\n      <th></th>\n      <th></th>\n      <th></th>\n      <th></th>\n      <th></th>\n      <th></th>\n      <th></th>\n      <th></th>\n      <th></th>\n    </tr>\n  </thead>\n  <tbody>\n    <tr>\n      <th>AVG</th>\n      <td>0.892</td>\n      <td>0.892</td>\n      <td>0.892</td>\n      <td>0.935</td>\n      <td>0.935</td>\n      <td>0.935</td>\n      <td>0.933</td>\n      <td>0.933</td>\n      <td>0.933</td>\n      <td>0.905</td>\n      <td>0.905</td>\n      <td>0.905</td>\n    </tr>\n    <tr>\n      <th>negative</th>\n      <td>0.895</td>\n      <td>0.886</td>\n      <td>0.891</td>\n      <td>0.931</td>\n      <td>0.938</td>\n      <td>0.935</td>\n      <td>0.930</td>\n      <td>0.935</td>\n      <td>0.933</td>\n      <td>0.909</td>\n      <td>0.899</td>\n      <td>0.904</td>\n    </tr>\n    <tr>\n      <th>positive</th>\n      <td>0.888</td>\n      <td>0.897</td>\n      <td>0.893</td>\n      <td>0.938</td>\n      <td>0.931</td>\n      <td>0.934</td>\n      <td>0.935</td>\n      <td>0.930</td>\n      <td>0.933</td>\n      <td>0.901</td>\n      <td>0.910</td>\n      <td>0.906</td>\n    </tr>\n  </tbody>\n</table>\n</div>"
     },
     "metadata": {},
     "output_type": "display_data"
    }
   ],
   "source": [
    "test_subset.to_csv(f'{OUT_PATH}/test.subset.csv')\n",
    "test_subset.style.to_latex(f'{OUT_PATH}/_tex/test.subset.tex')\n",
    "display(test_subset)\n",
    "# print(test_subset.to_markdown())"
   ]
  }
 ],
 "metadata": {
  "kernelspec": {
   "display_name": "Python 3",
   "language": "python",
   "name": "python3"
  },
  "language_info": {
   "codemirror_mode": {
    "name": "ipython",
    "version": 3
   },
   "file_extension": ".py",
   "mimetype": "text/x-python",
   "name": "python",
   "nbconvert_exporter": "python",
   "pygments_lexer": "ipython3",
   "version": "3.8.13"
  }
 },
 "nbformat": 4,
 "nbformat_minor": 0
}