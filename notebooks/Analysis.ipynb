{
 "cells": [
  {
   "cell_type": "code",
   "execution_count": 1,
   "outputs": [],
   "source": [
    "import pandas as pd\n",
    "\n",
    "PATH: str = '../experiments'\n",
    "EX_TYPES: list = ['transformer', 'linguistic', 'hybrid']\n",
    "SIZES: list = ['0.010', '0.100', '1.000']\n",
    "EVAL_NAME =  'metric.eval.csv'"
   ],
   "metadata": {
    "collapsed": false,
    "pycharm": {
     "name": "#%%\n"
    }
   }
  },
  {
   "cell_type": "code",
   "execution_count": 2,
   "outputs": [
    {
     "data": {
      "text/plain": "       transformer  linguistic  hybrid\n0.010       0.6466      0.7102  0.7972\n0.100       0.7308      0.7764  0.8318\n1.000       0.7598      0.7910  0.8498",
      "text/html": "<div>\n<style scoped>\n    .dataframe tbody tr th:only-of-type {\n        vertical-align: middle;\n    }\n\n    .dataframe tbody tr th {\n        vertical-align: top;\n    }\n\n    .dataframe thead th {\n        text-align: right;\n    }\n</style>\n<table border=\"1\" class=\"dataframe\">\n  <thead>\n    <tr style=\"text-align: right;\">\n      <th></th>\n      <th>transformer</th>\n      <th>linguistic</th>\n      <th>hybrid</th>\n    </tr>\n  </thead>\n  <tbody>\n    <tr>\n      <th>0.010</th>\n      <td>0.6466</td>\n      <td>0.7102</td>\n      <td>0.7972</td>\n    </tr>\n    <tr>\n      <th>0.100</th>\n      <td>0.7308</td>\n      <td>0.7764</td>\n      <td>0.8318</td>\n    </tr>\n    <tr>\n      <th>1.000</th>\n      <td>0.7598</td>\n      <td>0.7910</td>\n      <td>0.8498</td>\n    </tr>\n  </tbody>\n</table>\n</div>"
     },
     "execution_count": 2,
     "metadata": {},
     "output_type": "execute_result"
    }
   ],
   "source": [
    "results: pd.DataFrame = (\n",
    "    pd.DataFrame(\n",
    "        {ex: [\n",
    "            pd.read_csv(f'{PATH}/{ex}/train.{s}/{EVAL_NAME}').iloc[0]['f1']\n",
    "            for s in SIZES\n",
    "        ] for ex in EX_TYPES\n",
    "        }\n",
    "    )\n",
    "    .set_index(pd.Series(SIZES))\n",
    ")\n",
    "results"
   ],
   "metadata": {
    "collapsed": false,
    "pycharm": {
     "name": "#%%\n"
    }
   }
  },
  {
   "cell_type": "code",
   "execution_count": 3,
   "outputs": [
    {
     "data": {
      "text/plain": "<Figure size 432x288 with 1 Axes>",
      "image/png": "[encoded data removed]"
     },
     "metadata": {
      "needs_background": "light"
     },
     "output_type": "display_data"
    }
   ],
   "source": [
    "plot = (\n",
    "    results\n",
    "    .plot(\n",
    "        kind='bar',\n",
    "        stacked=False,\n",
    "        ylim=(.5, .9),\n",
    "\n",
    "        title='Metric F1 by model and train data size',\n",
    "        xlabel='Train Data Size (%)',\n",
    "        ylabel='F1 (%)',\n",
    "    )\n",
    ")"
   ],
   "metadata": {
    "collapsed": false,
    "pycharm": {
     "name": "#%%\n"
    }
   }
  },
  {
   "cell_type": "code",
   "execution_count": 4,
   "outputs": [],
   "source": [
    "plot.get_figure().savefig('../experiments/__output.png')"
   ],
   "metadata": {
    "collapsed": false,
    "pycharm": {
     "name": "#%%\n"
    }
   }
  }
 ],
 "metadata": {
  "kernelspec": {
   "display_name": "Python 3",
   "language": "python",
   "name": "python3"
  },
  "language_info": {
   "codemirror_mode": {
    "name": "ipython",
    "version": 2
   },
   "file_extension": ".py",
   "mimetype": "text/x-python",
   "name": "python",
   "nbconvert_exporter": "python",
   "pygments_lexer": "ipython2",
   "version": "2.7.6"
  }
 },
 "nbformat": 4,
 "nbformat_minor": 0
}