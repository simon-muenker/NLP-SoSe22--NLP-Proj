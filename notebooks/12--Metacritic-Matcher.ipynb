{
 "cells": [
  {
   "cell_type": "code",
   "execution_count": 53,
   "outputs": [],
   "source": [
    "import pandas as pd\n",
    "\n",
    "META_PATH: str = '../data/metacritic'\n",
    "IMDB_PATH: str = '../data/imdb'"
   ],
   "metadata": {
    "collapsed": false,
    "pycharm": {
     "name": "#%%\n"
    }
   }
  },
  {
   "cell_type": "code",
   "execution_count": 54,
   "outputs": [
    {
     "data": {
      "text/plain": "           title  metascore userscore  \\\n0  The Godfather        100       9.2   \n1   Citizen Kane        100       8.4   \n2    Rear Window        100       8.7   \n3     Casablanca        100       8.8   \n4        Boyhood        100       7.4   \n\n                                             summary  \n0  \\n                        Francis Ford Coppola...  \n1  \\n                        Following the death ...  \n2  \\n                        A wheelchair-bound p...  \n3  \\n                        A Casablanca, Morocc...  \n4  \\n                        Filmed over 12 years...  ",
      "text/html": "<div>\n<style scoped>\n    .dataframe tbody tr th:only-of-type {\n        vertical-align: middle;\n    }\n\n    .dataframe tbody tr th {\n        vertical-align: top;\n    }\n\n    .dataframe thead th {\n        text-align: right;\n    }\n</style>\n<table border=\"1\" class=\"dataframe\">\n  <thead>\n    <tr style=\"text-align: right;\">\n      <th></th>\n      <th>title</th>\n      <th>metascore</th>\n      <th>userscore</th>\n      <th>summary</th>\n    </tr>\n  </thead>\n  <tbody>\n    <tr>\n      <th>0</th>\n      <td>The Godfather</td>\n      <td>100</td>\n      <td>9.2</td>\n      <td>\\n                        Francis Ford Coppola...</td>\n    </tr>\n    <tr>\n      <th>1</th>\n      <td>Citizen Kane</td>\n      <td>100</td>\n      <td>8.4</td>\n      <td>\\n                        Following the death ...</td>\n    </tr>\n    <tr>\n      <th>2</th>\n      <td>Rear Window</td>\n      <td>100</td>\n      <td>8.7</td>\n      <td>\\n                        A wheelchair-bound p...</td>\n    </tr>\n    <tr>\n      <th>3</th>\n      <td>Casablanca</td>\n      <td>100</td>\n      <td>8.8</td>\n      <td>\\n                        A Casablanca, Morocc...</td>\n    </tr>\n    <tr>\n      <th>4</th>\n      <td>Boyhood</td>\n      <td>100</td>\n      <td>7.4</td>\n      <td>\\n                        Filmed over 12 years...</td>\n    </tr>\n  </tbody>\n</table>\n</div>"
     },
     "execution_count": 54,
     "metadata": {},
     "output_type": "execute_result"
    }
   ],
   "source": [
    "# load full dataset\n",
    "raw: pd.DataFrame = pd.read_csv(f'{META_PATH}._raw.csv')\n",
    "raw.head()"
   ],
   "metadata": {
    "collapsed": false,
    "pycharm": {
     "name": "#%%\n"
    }
   }
  },
  {
   "cell_type": "code",
   "execution_count": 55,
   "outputs": [
    {
     "data": {
      "text/plain": "               metascore  userscore  \\\ntitle                                 \nThe Godfather        1.0       0.92   \nCitizen Kane         1.0       0.84   \nRear Window          1.0       0.87   \nCasablanca           1.0       0.88   \nBoyhood              1.0       0.74   \n\n                                                         summary  \ntitle                                                             \nThe Godfather                          Francis Ford Coppola's...  \nCitizen Kane                           Following the death of...  \nRear Window                            A wheelchair-bound pho...  \nCasablanca                             A Casablanca, Morocco ...  \nBoyhood                                Filmed over 12 years w...  ",
      "text/html": "<div>\n<style scoped>\n    .dataframe tbody tr th:only-of-type {\n        vertical-align: middle;\n    }\n\n    .dataframe tbody tr th {\n        vertical-align: top;\n    }\n\n    .dataframe thead th {\n        text-align: right;\n    }\n</style>\n<table border=\"1\" class=\"dataframe\">\n  <thead>\n    <tr style=\"text-align: right;\">\n      <th></th>\n      <th>metascore</th>\n      <th>userscore</th>\n      <th>summary</th>\n    </tr>\n    <tr>\n      <th>title</th>\n      <th></th>\n      <th></th>\n      <th></th>\n    </tr>\n  </thead>\n  <tbody>\n    <tr>\n      <th>The Godfather</th>\n      <td>1.0</td>\n      <td>0.92</td>\n      <td>Francis Ford Coppola's...</td>\n    </tr>\n    <tr>\n      <th>Citizen Kane</th>\n      <td>1.0</td>\n      <td>0.84</td>\n      <td>Following the death of...</td>\n    </tr>\n    <tr>\n      <th>Rear Window</th>\n      <td>1.0</td>\n      <td>0.87</td>\n      <td>A wheelchair-bound pho...</td>\n    </tr>\n    <tr>\n      <th>Casablanca</th>\n      <td>1.0</td>\n      <td>0.88</td>\n      <td>A Casablanca, Morocco ...</td>\n    </tr>\n    <tr>\n      <th>Boyhood</th>\n      <td>1.0</td>\n      <td>0.74</td>\n      <td>Filmed over 12 years w...</td>\n    </tr>\n  </tbody>\n</table>\n</div>"
     },
     "execution_count": 55,
     "metadata": {},
     "output_type": "execute_result"
    }
   ],
   "source": [
    "# format: remove html tags, convert sentiment to category\n",
    "formatted: pd.DataFrame = (\n",
    "    pd.DataFrame()\n",
    "    .assign(\n",
    "        title=raw['title'],\n",
    "        metascore=raw['metascore'] * 0.01,\n",
    "        userscore=raw['userscore']\n",
    "        .replace('tbd', 0.0)\n",
    "        .astype('float32') * 0.1,\n",
    "        summary=raw['summary']\n",
    "        .str.replace(r'\\n', '', regex=True),\n",
    "    )\n",
    "    .drop_duplicates()\n",
    "    .set_index('title')\n",
    ")\n",
    "formatted.head()"
   ],
   "metadata": {
    "collapsed": false,
    "pycharm": {
     "name": "#%%\n"
    }
   }
  },
  {
   "cell_type": "code",
   "execution_count": 56,
   "outputs": [
    {
     "data": {
      "text/plain": "                                              review sentiment\n0  This is not great cinema. The film is cliche r...  negative\n1  Personnaly I really loved this movie, and it p...  positive\n2  First, the current IMDb plot description seems...  negative\n3  If you want a serious laugh pain, watch this m...  positive\n4  Carlito Way, the original is a brilliant story...  negative",
      "text/html": "<div>\n<style scoped>\n    .dataframe tbody tr th:only-of-type {\n        vertical-align: middle;\n    }\n\n    .dataframe tbody tr th {\n        vertical-align: top;\n    }\n\n    .dataframe thead th {\n        text-align: right;\n    }\n</style>\n<table border=\"1\" class=\"dataframe\">\n  <thead>\n    <tr style=\"text-align: right;\">\n      <th></th>\n      <th>review</th>\n      <th>sentiment</th>\n    </tr>\n  </thead>\n  <tbody>\n    <tr>\n      <th>0</th>\n      <td>This is not great cinema. The film is cliche r...</td>\n      <td>negative</td>\n    </tr>\n    <tr>\n      <th>1</th>\n      <td>Personnaly I really loved this movie, and it p...</td>\n      <td>positive</td>\n    </tr>\n    <tr>\n      <th>2</th>\n      <td>First, the current IMDb plot description seems...</td>\n      <td>negative</td>\n    </tr>\n    <tr>\n      <th>3</th>\n      <td>If you want a serious laugh pain, watch this m...</td>\n      <td>positive</td>\n    </tr>\n    <tr>\n      <th>4</th>\n      <td>Carlito Way, the original is a brilliant story...</td>\n      <td>negative</td>\n    </tr>\n  </tbody>\n</table>\n</div>"
     },
     "execution_count": 56,
     "metadata": {},
     "output_type": "execute_result"
    }
   ],
   "source": [
    "test: pd.DataFrame = pd.read_csv(f'{IMDB_PATH}.test.csv')\n",
    "test.head()"
   ],
   "metadata": {
    "collapsed": false,
    "pycharm": {
     "name": "#%%\n"
    }
   }
  },
  {
   "cell_type": "code",
   "execution_count": 57,
   "outputs": [
    {
     "data": {
      "text/plain": "                                               review sentiment  metascore  \\\n0   This is not great cinema. The film is cliche r...  negative       0.00   \n1   Personnaly I really loved this movie, and it p...  positive       0.00   \n2   First, the current IMDb plot description seems...  negative       0.30   \n3   If you want a serious laugh pain, watch this m...  positive       0.00   \n4   Carlito Way, the original is a brilliant story...  negative       0.59   \n..                                                ...       ...        ...   \n59  The dazzling seventeen-minute dance sequence o...  positive       0.77   \n60  This show is amazing! I love each and every ep...  positive       0.00   \n61  This Columbo episode is probably noted more fo...  positive       0.00   \n62  Jonathan Rivers (Michael Keaton) suddenly beco...  negative       0.30   \n63  The sound in this movie is a nightmare. That i...  negative       0.00   \n\n    userscore                               matches  \n0       0.000                                    []  \n1       0.000                                    []  \n2       0.655            [The Hitcher, The Hitcher]  \n3       0.000                                    []  \n4       0.845  [Carlito's Way, Lucky Number Slevin]  \n..        ...                                   ...  \n59      0.715   [An American in Paris, On the Town]  \n60      0.000                                    []  \n61      0.000                                    []  \n62      0.540                         [White Noise]  \n63      0.000                                    []  \n\n[64 rows x 5 columns]",
      "text/html": "<div>\n<style scoped>\n    .dataframe tbody tr th:only-of-type {\n        vertical-align: middle;\n    }\n\n    .dataframe tbody tr th {\n        vertical-align: top;\n    }\n\n    .dataframe thead th {\n        text-align: right;\n    }\n</style>\n<table border=\"1\" class=\"dataframe\">\n  <thead>\n    <tr style=\"text-align: right;\">\n      <th></th>\n      <th>review</th>\n      <th>sentiment</th>\n      <th>metascore</th>\n      <th>userscore</th>\n      <th>matches</th>\n    </tr>\n  </thead>\n  <tbody>\n    <tr>\n      <th>0</th>\n      <td>This is not great cinema. The film is cliche r...</td>\n      <td>negative</td>\n      <td>0.00</td>\n      <td>0.000</td>\n      <td>[]</td>\n    </tr>\n    <tr>\n      <th>1</th>\n      <td>Personnaly I really loved this movie, and it p...</td>\n      <td>positive</td>\n      <td>0.00</td>\n      <td>0.000</td>\n      <td>[]</td>\n    </tr>\n    <tr>\n      <th>2</th>\n      <td>First, the current IMDb plot description seems...</td>\n      <td>negative</td>\n      <td>0.30</td>\n      <td>0.655</td>\n      <td>[The Hitcher, The Hitcher]</td>\n    </tr>\n    <tr>\n      <th>3</th>\n      <td>If you want a serious laugh pain, watch this m...</td>\n      <td>positive</td>\n      <td>0.00</td>\n      <td>0.000</td>\n      <td>[]</td>\n    </tr>\n    <tr>\n      <th>4</th>\n      <td>Carlito Way, the original is a brilliant story...</td>\n      <td>negative</td>\n      <td>0.59</td>\n      <td>0.845</td>\n      <td>[Carlito's Way, Lucky Number Slevin]</td>\n    </tr>\n    <tr>\n      <th>...</th>\n      <td>...</td>\n      <td>...</td>\n      <td>...</td>\n      <td>...</td>\n      <td>...</td>\n    </tr>\n    <tr>\n      <th>59</th>\n      <td>The dazzling seventeen-minute dance sequence o...</td>\n      <td>positive</td>\n      <td>0.77</td>\n      <td>0.715</td>\n      <td>[An American in Paris, On the Town]</td>\n    </tr>\n    <tr>\n      <th>60</th>\n      <td>This show is amazing! I love each and every ep...</td>\n      <td>positive</td>\n      <td>0.00</td>\n      <td>0.000</td>\n      <td>[]</td>\n    </tr>\n    <tr>\n      <th>61</th>\n      <td>This Columbo episode is probably noted more fo...</td>\n      <td>positive</td>\n      <td>0.00</td>\n      <td>0.000</td>\n      <td>[]</td>\n    </tr>\n    <tr>\n      <th>62</th>\n      <td>Jonathan Rivers (Michael Keaton) suddenly beco...</td>\n      <td>negative</td>\n      <td>0.30</td>\n      <td>0.540</td>\n      <td>[White Noise]</td>\n    </tr>\n    <tr>\n      <th>63</th>\n      <td>The sound in this movie is a nightmare. That i...</td>\n      <td>negative</td>\n      <td>0.00</td>\n      <td>0.000</td>\n      <td>[]</td>\n    </tr>\n  </tbody>\n</table>\n<p>64 rows × 5 columns</p>\n</div>"
     },
     "execution_count": 57,
     "metadata": {},
     "output_type": "execute_result"
    }
   ],
   "source": [
    "def maps(row):\n",
    "\n",
    "    m_scores: list = []\n",
    "    u_scores: list = []\n",
    "    matches: list = []\n",
    "\n",
    "    for idx, data in formatted.iterrows():\n",
    "        if idx in row['review'] and len(idx) > 8:\n",
    "            m_scores.append(data['metascore'])\n",
    "            u_scores.append(data['userscore'])\n",
    "            matches.append(idx)\n",
    "\n",
    "    if len(m_scores) == 0:\n",
    "        return 0.0, 0.0, []\n",
    "\n",
    "    return (\n",
    "        sum(m_scores) / len(m_scores),\n",
    "        sum(u_scores) / len(u_scores),\n",
    "        matches\n",
    "    )\n",
    "\n",
    "test[['metascore', 'userscore', 'matches']] = test[: 64].apply(maps, axis=1,  result_type=\"expand\")\n",
    "test.head(64)"
   ],
   "metadata": {
    "collapsed": false,
    "pycharm": {
     "name": "#%%\n"
    }
   }
  },
  {
   "cell_type": "code",
   "execution_count": 58,
   "outputs": [],
   "source": [
    "# test.to_csv('test.csv')"
   ],
   "metadata": {
    "collapsed": false,
    "pycharm": {
     "name": "#%%\n"
    }
   }
  }
 ],
 "metadata": {
  "kernelspec": {
   "display_name": "Python 3",
   "language": "python",
   "name": "python3"
  },
  "language_info": {
   "codemirror_mode": {
    "name": "ipython",
    "version": 2
   },
   "file_extension": ".py",
   "mimetype": "text/x-python",
   "name": "python",
   "nbconvert_exporter": "python",
   "pygments_lexer": "ipython2",
   "version": "2.7.6"
  }
 },
 "nbformat": 4,
 "nbformat_minor": 0
}