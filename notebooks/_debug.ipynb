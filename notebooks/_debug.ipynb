{
 "cells": [
  {
   "cell_type": "code",
   "execution_count": 2,
   "metadata": {
    "collapsed": true,
    "pycharm": {
     "name": "#%%\n"
    }
   },
   "outputs": [],
   "source": [
    "import torch"
   ]
  },
  {
   "cell_type": "code",
   "execution_count": 3,
   "outputs": [
    {
     "data": {
      "text/plain": "tensor([[ 0.0275,  0.2928, -0.0673,  0.0091, -0.2381, -0.1013,  0.0629,  0.3827,\n         -0.0429],\n        [-0.1159,  0.1298, -0.0803,  0.0268, -0.1646, -0.0231, -0.1705,  0.2590,\n          0.1646],\n        [-0.0583,  0.2696,  0.1578, -0.1233, -0.0556, -0.4193, -0.0929,  0.2257,\n          0.1437],\n        [-0.0147,  0.2270,  0.0529, -0.1243, -0.0623, -0.1973, -0.1104,  0.1529,\n          0.0326]])"
     },
     "execution_count": 3,
     "metadata": {},
     "output_type": "execute_result"
    }
   ],
   "source": [
    "t: torch.Tensor = torch.tensor([\n",
    "    [0.0275, 0.2928, -0.0673, 0.0091, -0.2381, -0.1013, 0.0629, 0.3827, -0.0429],\n",
    "    [-0.1159, 0.1298, -0.0803, 0.0268, -0.1646, -0.0231, -0.1705, 0.2590, 0.1646],\n",
    "    [-0.0583, 0.2696, 0.1578, -0.1233, -0.0556, -0.4193, -0.0929, 0.2257, 0.1437],\n",
    "    [-0.0147, 0.2270, 0.0529, -0.1243, -0.0623, -0.1973, -0.1104, 0.1529, 0.0326]\n",
    "])\n",
    "t"
   ],
   "metadata": {
    "collapsed": false,
    "pycharm": {
     "name": "#%%\n"
    }
   }
  },
  {
   "cell_type": "code",
   "execution_count": 4,
   "outputs": [
    {
     "data": {
      "text/plain": "tensor([ 0.0275,  0.2928, -0.0673,  0.0091, -0.2381, -0.1013,  0.0629,  0.3827,\n        -0.0429])"
     },
     "execution_count": 4,
     "metadata": {},
     "output_type": "execute_result"
    }
   ],
   "source": [
    "t[0]"
   ],
   "metadata": {
    "collapsed": false,
    "pycharm": {
     "name": "#%%\n"
    }
   }
  },
  {
   "cell_type": "code",
   "execution_count": 13,
   "outputs": [
    {
     "data": {
      "text/plain": "tensor([[ 0.0275,  0.2928, -0.0673,  0.0091, -0.2381, -0.1013,  0.0629],\n        [-0.1159,  0.1298, -0.0803,  0.0268, -0.1646, -0.0231, -0.1705],\n        [-0.0583,  0.2696,  0.1578, -0.1233, -0.0556, -0.4193, -0.0929],\n        [-0.0147,  0.2270,  0.0529, -0.1243, -0.0623, -0.1973, -0.1104]])"
     },
     "execution_count": 13,
     "metadata": {},
     "output_type": "execute_result"
    }
   ],
   "source": [
    "t[:, :-2]"
   ],
   "metadata": {
    "collapsed": false,
    "pycharm": {
     "name": "#%%\n"
    }
   }
  },
  {
   "cell_type": "code",
   "execution_count": null,
   "outputs": [],
   "source": [],
   "metadata": {
    "collapsed": false,
    "pycharm": {
     "name": "#%%\n"
    }
   }
  }
 ],
 "metadata": {
  "kernelspec": {
   "display_name": "Python 3",
   "language": "python",
   "name": "python3"
  },
  "language_info": {
   "codemirror_mode": {
    "name": "ipython",
    "version": 2
   },
   "file_extension": ".py",
   "mimetype": "text/x-python",
   "name": "python",
   "nbconvert_exporter": "python",
   "pygments_lexer": "ipython2",
   "version": "2.7.6"
  }
 },
 "nbformat": 4,
 "nbformat_minor": 0
}