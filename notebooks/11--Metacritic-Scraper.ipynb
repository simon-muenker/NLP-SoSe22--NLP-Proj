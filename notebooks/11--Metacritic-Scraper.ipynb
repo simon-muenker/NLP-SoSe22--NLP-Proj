{
 "cells": [
  {
   "cell_type": "code",
   "execution_count": 21,
   "outputs": [],
   "source": [
    "import pandas as pd\n",
    "\n",
    "import requests\n",
    "from bs4 import BeautifulSoup\n",
    "\n",
    "BASE: str = 'https://www.metacritic.com'\n",
    "API: str = 'browse/movies/score/metascore/all/filtered'\n",
    "QUERY = lambda n: f'sort=desc&page={n}'\n",
    "\n",
    "AGENT: str = 'Mozilla/5.0 (Macintosh; Intel Mac OS X 10_9_2) AppleWebKit/537.36 (KHTML, like Gecko) Chrome/34.0.1847.131 Safari/537.36'\n",
    "\n",
    "TO_PAGE: int = 148\n",
    "DATA_PATH: str = '../data/metacritic'"
   ],
   "metadata": {
    "collapsed": false,
    "pycharm": {
     "name": "#%%\n"
    }
   }
  },
  {
   "cell_type": "code",
   "execution_count": 22,
   "outputs": [],
   "source": [
    "def scrape_page(num: int):\n",
    "    url: str = f'{BASE}/{API}?{QUERY(num)}'\n",
    "\n",
    "    s = requests.Session()\n",
    "    s.headers['User-Agent'] = AGENT\n",
    "\n",
    "    page = s.get(url, allow_redirects=True)\n",
    "    soup = BeautifulSoup(page.content, \"html.parser\")\n",
    "\n",
    "    return pd.DataFrame.from_records([\n",
    "        {\n",
    "            'title': movie.find_all('h3')[0].text,\n",
    "            'metascore': movie.find_all('div', class_=['movie'])[0].text,\n",
    "            'userscore': movie.find_all('div', class_=['user'])[0].text,\n",
    "            'summary': movie.find_all('div', class_='summary')[0].text\n",
    "        }\n",
    "        for movie in soup.find_all(\"tr\") if movie.get('class', [None])[0] != 'spacer'\n",
    "    ])"
   ],
   "metadata": {
    "collapsed": false,
    "pycharm": {
     "name": "#%%\n"
    }
   }
  },
  {
   "cell_type": "code",
   "execution_count": 23,
   "outputs": [
    {
     "data": {
      "text/plain": "                                                title metascore userscore  \\\n0                                       The Godfather       100       9.2   \n1                                        Citizen Kane       100       8.4   \n2                                         Rear Window       100       8.7   \n3                                          Casablanca       100       8.8   \n4                                             Boyhood       100       7.4   \n5                                   Three Colors: Red       100       8.5   \n6                                             Vertigo       100       8.6   \n7                                           Notorious       100       7.9   \n8                                 Singin' in the Rain        99       8.7   \n9                                         City Lights        99       8.9   \n10                                          Moonlight        99       7.1   \n11                                        Intolerance        99       7.1   \n12                                          Pinocchio        99       8.1   \n13                                      Touch of Evil        99       8.4   \n14                                Au hasard Balthazar        98       7.1   \n15                                  The Lady Vanishes        98       7.7   \n16                   The Treasure of the Sierra Madre        98       8.1   \n17                                    Pan's Labyrinth        98       8.6   \n18                                   Some Like It Hot        98       8.4   \n19                                 North by Northwest        98       8.0   \n20                                        Hoop Dreams        98       7.9   \n21                                           Rashomon        98       8.6   \n22                                      All About Eve        98       8.7   \n23                                      Jules and Jim        97       6.3   \n24                                     The Wild Bunch        97       7.4   \n25                                       My Left Foot        97       8.3   \n26                                      The Third Man        97       8.5   \n27  Dr. Strangelove or: How I Learned to Stop Worr...        97       8.4   \n28                                   Quo Vadis, Aida?        97       8.0   \n29                                 Gone with the Wind        97       8.3   \n30                       4 Months, 3 Weeks and 2 Days        97       7.9   \n31                                             Psycho        97       8.9   \n\n                                              summary  \n0   \\n                        Francis Ford Coppola...  \n1   \\n                        Following the death ...  \n2   \\n                        A wheelchair-bound p...  \n3   \\n                        A Casablanca, Morocc...  \n4   \\n                        Filmed over 12 years...  \n5   \\n                        Krzysztof Kieslowski...  \n6   \\n                        Vertigo creates a di...  \n7   \\n                        A woman is asked to ...  \n8   \\n                        A silent film produc...  \n9   \\n                        The Tramp (Charlie C...  \n10  \\n                        Moonlight is the ten...  \n11  \\n                        The story of a poor ...  \n12  \\n                        A living puppet, wit...  \n13  \\n                        This film noir portr...  \n14  \\n                        Robert Bresson's 196...  \n15  \\n                        While travelling in ...  \n16  \\n                        Fred Dobbs and Bob C...  \n17  \\n                        Following a bloody c...  \n18  \\n                        When two male musici...  \n19  \\n                        A hapless New York a...  \n20  \\n                        Two inner-city Chica...  \n21  \\n                        The rape of a bride ...  \n22  \\n                        An ingenue insinuate...  \n23  \\n                        Decades of a love tr...  \n24  \\n                        An aging group of ou...  \n25  \\n                        True story of cerebr...  \n26  \\n                        Pulp novelist Holly ...  \n27  \\n                        Through a series of ...  \n28  \\n                        Bosnia, July 11th 19...  \n29  \\n                        A Southern belle str...  \n30  \\n                        During the final day...  \n31  \\n                        A Phoenix secretary ...  ",
      "text/html": "<div>\n<style scoped>\n    .dataframe tbody tr th:only-of-type {\n        vertical-align: middle;\n    }\n\n    .dataframe tbody tr th {\n        vertical-align: top;\n    }\n\n    .dataframe thead th {\n        text-align: right;\n    }\n</style>\n<table border=\"1\" class=\"dataframe\">\n  <thead>\n    <tr style=\"text-align: right;\">\n      <th></th>\n      <th>title</th>\n      <th>metascore</th>\n      <th>userscore</th>\n      <th>summary</th>\n    </tr>\n  </thead>\n  <tbody>\n    <tr>\n      <th>0</th>\n      <td>The Godfather</td>\n      <td>100</td>\n      <td>9.2</td>\n      <td>\\n                        Francis Ford Coppola...</td>\n    </tr>\n    <tr>\n      <th>1</th>\n      <td>Citizen Kane</td>\n      <td>100</td>\n      <td>8.4</td>\n      <td>\\n                        Following the death ...</td>\n    </tr>\n    <tr>\n      <th>2</th>\n      <td>Rear Window</td>\n      <td>100</td>\n      <td>8.7</td>\n      <td>\\n                        A wheelchair-bound p...</td>\n    </tr>\n    <tr>\n      <th>3</th>\n      <td>Casablanca</td>\n      <td>100</td>\n      <td>8.8</td>\n      <td>\\n                        A Casablanca, Morocc...</td>\n    </tr>\n    <tr>\n      <th>4</th>\n      <td>Boyhood</td>\n      <td>100</td>\n      <td>7.4</td>\n      <td>\\n                        Filmed over 12 years...</td>\n    </tr>\n    <tr>\n      <th>5</th>\n      <td>Three Colors: Red</td>\n      <td>100</td>\n      <td>8.5</td>\n      <td>\\n                        Krzysztof Kieslowski...</td>\n    </tr>\n    <tr>\n      <th>6</th>\n      <td>Vertigo</td>\n      <td>100</td>\n      <td>8.6</td>\n      <td>\\n                        Vertigo creates a di...</td>\n    </tr>\n    <tr>\n      <th>7</th>\n      <td>Notorious</td>\n      <td>100</td>\n      <td>7.9</td>\n      <td>\\n                        A woman is asked to ...</td>\n    </tr>\n    <tr>\n      <th>8</th>\n      <td>Singin' in the Rain</td>\n      <td>99</td>\n      <td>8.7</td>\n      <td>\\n                        A silent film produc...</td>\n    </tr>\n    <tr>\n      <th>9</th>\n      <td>City Lights</td>\n      <td>99</td>\n      <td>8.9</td>\n      <td>\\n                        The Tramp (Charlie C...</td>\n    </tr>\n    <tr>\n      <th>10</th>\n      <td>Moonlight</td>\n      <td>99</td>\n      <td>7.1</td>\n      <td>\\n                        Moonlight is the ten...</td>\n    </tr>\n    <tr>\n      <th>11</th>\n      <td>Intolerance</td>\n      <td>99</td>\n      <td>7.1</td>\n      <td>\\n                        The story of a poor ...</td>\n    </tr>\n    <tr>\n      <th>12</th>\n      <td>Pinocchio</td>\n      <td>99</td>\n      <td>8.1</td>\n      <td>\\n                        A living puppet, wit...</td>\n    </tr>\n    <tr>\n      <th>13</th>\n      <td>Touch of Evil</td>\n      <td>99</td>\n      <td>8.4</td>\n      <td>\\n                        This film noir portr...</td>\n    </tr>\n    <tr>\n      <th>14</th>\n      <td>Au hasard Balthazar</td>\n      <td>98</td>\n      <td>7.1</td>\n      <td>\\n                        Robert Bresson's 196...</td>\n    </tr>\n    <tr>\n      <th>15</th>\n      <td>The Lady Vanishes</td>\n      <td>98</td>\n      <td>7.7</td>\n      <td>\\n                        While travelling in ...</td>\n    </tr>\n    <tr>\n      <th>16</th>\n      <td>The Treasure of the Sierra Madre</td>\n      <td>98</td>\n      <td>8.1</td>\n      <td>\\n                        Fred Dobbs and Bob C...</td>\n    </tr>\n    <tr>\n      <th>17</th>\n      <td>Pan's Labyrinth</td>\n      <td>98</td>\n      <td>8.6</td>\n      <td>\\n                        Following a bloody c...</td>\n    </tr>\n    <tr>\n      <th>18</th>\n      <td>Some Like It Hot</td>\n      <td>98</td>\n      <td>8.4</td>\n      <td>\\n                        When two male musici...</td>\n    </tr>\n    <tr>\n      <th>19</th>\n      <td>North by Northwest</td>\n      <td>98</td>\n      <td>8.0</td>\n      <td>\\n                        A hapless New York a...</td>\n    </tr>\n    <tr>\n      <th>20</th>\n      <td>Hoop Dreams</td>\n      <td>98</td>\n      <td>7.9</td>\n      <td>\\n                        Two inner-city Chica...</td>\n    </tr>\n    <tr>\n      <th>21</th>\n      <td>Rashomon</td>\n      <td>98</td>\n      <td>8.6</td>\n      <td>\\n                        The rape of a bride ...</td>\n    </tr>\n    <tr>\n      <th>22</th>\n      <td>All About Eve</td>\n      <td>98</td>\n      <td>8.7</td>\n      <td>\\n                        An ingenue insinuate...</td>\n    </tr>\n    <tr>\n      <th>23</th>\n      <td>Jules and Jim</td>\n      <td>97</td>\n      <td>6.3</td>\n      <td>\\n                        Decades of a love tr...</td>\n    </tr>\n    <tr>\n      <th>24</th>\n      <td>The Wild Bunch</td>\n      <td>97</td>\n      <td>7.4</td>\n      <td>\\n                        An aging group of ou...</td>\n    </tr>\n    <tr>\n      <th>25</th>\n      <td>My Left Foot</td>\n      <td>97</td>\n      <td>8.3</td>\n      <td>\\n                        True story of cerebr...</td>\n    </tr>\n    <tr>\n      <th>26</th>\n      <td>The Third Man</td>\n      <td>97</td>\n      <td>8.5</td>\n      <td>\\n                        Pulp novelist Holly ...</td>\n    </tr>\n    <tr>\n      <th>27</th>\n      <td>Dr. Strangelove or: How I Learned to Stop Worr...</td>\n      <td>97</td>\n      <td>8.4</td>\n      <td>\\n                        Through a series of ...</td>\n    </tr>\n    <tr>\n      <th>28</th>\n      <td>Quo Vadis, Aida?</td>\n      <td>97</td>\n      <td>8.0</td>\n      <td>\\n                        Bosnia, July 11th 19...</td>\n    </tr>\n    <tr>\n      <th>29</th>\n      <td>Gone with the Wind</td>\n      <td>97</td>\n      <td>8.3</td>\n      <td>\\n                        A Southern belle str...</td>\n    </tr>\n    <tr>\n      <th>30</th>\n      <td>4 Months, 3 Weeks and 2 Days</td>\n      <td>97</td>\n      <td>7.9</td>\n      <td>\\n                        During the final day...</td>\n    </tr>\n    <tr>\n      <th>31</th>\n      <td>Psycho</td>\n      <td>97</td>\n      <td>8.9</td>\n      <td>\\n                        A Phoenix secretary ...</td>\n    </tr>\n  </tbody>\n</table>\n</div>"
     },
     "execution_count": 23,
     "metadata": {},
     "output_type": "execute_result"
    }
   ],
   "source": [
    "scraped = pd.concat(\n",
    "    [scrape_page(n) for n in range(TO_PAGE + 1)],\n",
    "    ignore_index=True\n",
    ")\n",
    "scraped.head(32)"
   ],
   "metadata": {
    "collapsed": false,
    "pycharm": {
     "name": "#%%\n"
    }
   }
  },
  {
   "cell_type": "code",
   "execution_count": 25,
   "outputs": [],
   "source": [
    "scraped.to_csv(f'{DATA_PATH}._raw.csv', index=False)"
   ],
   "metadata": {
    "collapsed": false,
    "pycharm": {
     "name": "#%%\n"
    }
   }
  }
 ],
 "metadata": {
  "kernelspec": {
   "display_name": "Python 3",
   "language": "python",
   "name": "python3"
  },
  "language_info": {
   "codemirror_mode": {
    "name": "ipython",
    "version": 2
   },
   "file_extension": ".py",
   "mimetype": "text/x-python",
   "name": "python",
   "nbconvert_exporter": "python",
   "pygments_lexer": "ipython2",
   "version": "2.7.6"
  }
 },
 "nbformat": 4,
 "nbformat_minor": 0
}