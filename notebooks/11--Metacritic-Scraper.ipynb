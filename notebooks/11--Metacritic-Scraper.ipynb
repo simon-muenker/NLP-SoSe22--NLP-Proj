{
 "cells": [
  {
   "cell_type": "code",
   "execution_count": 1,
   "outputs": [],
   "source": [
    "import pandas as pd\n",
    "\n",
    "import requests\n",
    "from bs4 import BeautifulSoup\n",
    "\n",
    "BASE: str = 'https://www.metacritic.com'\n",
    "API: str = 'browse/movies/score/metascore/all/filtered'\n",
    "QUERY = lambda n: f'sort=desc&page={n}'\n",
    "\n",
    "AGENT: str = 'Mozilla/5.0 (Macintosh; Intel Mac OS X 10_9_2) AppleWebKit/537.36 (KHTML, like Gecko) Chrome/34.0.1847.131 Safari/537.36'"
   ],
   "metadata": {
    "collapsed": false,
    "pycharm": {
     "name": "#%%\n"
    }
   }
  },
  {
   "cell_type": "code",
   "execution_count": 2,
   "outputs": [],
   "source": [
    "def scrape_page(num: int):\n",
    "    url: str = f'{BASE}/{API}?{QUERY(num)}'\n",
    "\n",
    "    s = requests.Session()\n",
    "    s.headers['User-Agent'] = AGENT\n",
    "\n",
    "    page = s.get(url, allow_redirects=True)\n",
    "    soup = BeautifulSoup(page.content, \"html.parser\")\n",
    "\n",
    "    return pd.DataFrame.from_records([\n",
    "        {\n",
    "            'title': movie.find_all('h3')[0].text,\n",
    "            'score': movie.find_all('div', class_='metascore_w')[0].text,\n",
    "            'summary': movie.find_all('div', class_='summary')[0].text\n",
    "        }\n",
    "        for movie in soup.find_all(\"tr\") if movie.get('class', [None])[0] != 'spacer'\n",
    "    ])"
   ],
   "metadata": {
    "collapsed": false,
    "pycharm": {
     "name": "#%%\n"
    }
   }
  },
  {
   "cell_type": "code",
   "execution_count": 3,
   "outputs": [
    {
     "data": {
      "text/plain": "                  title score  \\\n0         The Godfather   100   \n1          Citizen Kane   100   \n2           Rear Window   100   \n3            Casablanca   100   \n4               Boyhood   100   \n..                  ...   ...   \n995  A Room with a View    83   \n996               Hugo     83   \n997            Tenebrae    83   \n998      The LEGO Movie    83   \n999              Gloria    83   \n\n                                               summary  \n0    \\n                        Francis Ford Coppola...  \n1    \\n                        Following the death ...  \n2    \\n                        A wheelchair-bound p...  \n3    \\n                        A Casablanca, Morocc...  \n4    \\n                        Filmed over 12 years...  \n..                                                 ...  \n995  \\n                        Based on E.M. Forste...  \n996  \\n                        Based on Brian Selzn...  \n997  \\n                        An American writer i...  \n998  \\n                        An ordinary LEGO min...  \n999  \\n                        Gloria is a \"woman o...  \n\n[1000 rows x 3 columns]",
      "text/html": "<div>\n<style scoped>\n    .dataframe tbody tr th:only-of-type {\n        vertical-align: middle;\n    }\n\n    .dataframe tbody tr th {\n        vertical-align: top;\n    }\n\n    .dataframe thead th {\n        text-align: right;\n    }\n</style>\n<table border=\"1\" class=\"dataframe\">\n  <thead>\n    <tr style=\"text-align: right;\">\n      <th></th>\n      <th>title</th>\n      <th>score</th>\n      <th>summary</th>\n    </tr>\n  </thead>\n  <tbody>\n    <tr>\n      <th>0</th>\n      <td>The Godfather</td>\n      <td>100</td>\n      <td>\\n                        Francis Ford Coppola...</td>\n    </tr>\n    <tr>\n      <th>1</th>\n      <td>Citizen Kane</td>\n      <td>100</td>\n      <td>\\n                        Following the death ...</td>\n    </tr>\n    <tr>\n      <th>2</th>\n      <td>Rear Window</td>\n      <td>100</td>\n      <td>\\n                        A wheelchair-bound p...</td>\n    </tr>\n    <tr>\n      <th>3</th>\n      <td>Casablanca</td>\n      <td>100</td>\n      <td>\\n                        A Casablanca, Morocc...</td>\n    </tr>\n    <tr>\n      <th>4</th>\n      <td>Boyhood</td>\n      <td>100</td>\n      <td>\\n                        Filmed over 12 years...</td>\n    </tr>\n    <tr>\n      <th>...</th>\n      <td>...</td>\n      <td>...</td>\n      <td>...</td>\n    </tr>\n    <tr>\n      <th>995</th>\n      <td>A Room with a View</td>\n      <td>83</td>\n      <td>\\n                        Based on E.M. Forste...</td>\n    </tr>\n    <tr>\n      <th>996</th>\n      <td>Hugo</td>\n      <td>83</td>\n      <td>\\n                        Based on Brian Selzn...</td>\n    </tr>\n    <tr>\n      <th>997</th>\n      <td>Tenebrae</td>\n      <td>83</td>\n      <td>\\n                        An American writer i...</td>\n    </tr>\n    <tr>\n      <th>998</th>\n      <td>The LEGO Movie</td>\n      <td>83</td>\n      <td>\\n                        An ordinary LEGO min...</td>\n    </tr>\n    <tr>\n      <th>999</th>\n      <td>Gloria</td>\n      <td>83</td>\n      <td>\\n                        Gloria is a \"woman o...</td>\n    </tr>\n  </tbody>\n</table>\n<p>1000 rows × 3 columns</p>\n</div>"
     },
     "execution_count": 3,
     "metadata": {},
     "output_type": "execute_result"
    }
   ],
   "source": [
    "pd.concat(\n",
    "    [scrape_page(n) for n in range(10)],\n",
    "    ignore_index=True\n",
    ")"
   ],
   "metadata": {
    "collapsed": false,
    "pycharm": {
     "name": "#%%\n"
    }
   }
  },
  {
   "cell_type": "code",
   "execution_count": null,
   "outputs": [],
   "source": [],
   "metadata": {
    "collapsed": false,
    "pycharm": {
     "name": "#%%\n"
    }
   }
  }
 ],
 "metadata": {
  "kernelspec": {
   "display_name": "Python 3",
   "language": "python",
   "name": "python3"
  },
  "language_info": {
   "codemirror_mode": {
    "name": "ipython",
    "version": 2
   },
   "file_extension": ".py",
   "mimetype": "text/x-python",
   "name": "python",
   "nbconvert_exporter": "python",
   "pygments_lexer": "ipython2",
   "version": "2.7.6"
  }
 },
 "nbformat": 4,
 "nbformat_minor": 0
}