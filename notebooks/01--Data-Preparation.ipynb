{
 "cells": [
  {
   "cell_type": "code",
   "execution_count": 1,
   "outputs": [],
   "source": [
    "DATA_PATH: str = '../data/imdb'\n",
    "SAMPLE_SIZE: float = 0.05 # set sample size as fraction"
   ],
   "metadata": {
    "collapsed": false,
    "pycharm": {
     "name": "#%%\n"
    }
   }
  },
  {
   "cell_type": "code",
   "execution_count": 2,
   "outputs": [],
   "source": [
    "from typing import Dict\n",
    "import pandas as pd\n",
    "\n",
    "\n",
    "# load raw dataset (not included, please use notebook 00 first)\n",
    "datasets: Dict[str, pd.DataFrame] = {\n",
    "    'train': pd.read_csv(f'{DATA_PATH}._raw.train.csv'),\n",
    "    'test': pd.read_csv(f'{DATA_PATH}._raw.test.csv')\n",
    "}"
   ],
   "metadata": {
    "collapsed": false,
    "pycharm": {
     "name": "#%%\n"
    }
   }
  },
  {
   "cell_type": "code",
   "execution_count": 3,
   "outputs": [
    {
     "data": {
      "text/plain": "                                                    text sentiment\n0      Here are the matches . . . (adv. = advantage)<...  negative\n1      STAR RATING: ***** Saturday Night **** Friday ...  negative\n2      The traditional Western is synonymous with wid...  positive\n3      Brilliant actor as he is, Al Pacino completely...  negative\n4      This is the most recent addition to a new wave...  positive\n...                                                  ...       ...\n24995  This film is a portrait of the half-spastic te...  negative\n24996  A warning to you not to be seduced by the name...  negative\n24997  I just saw this film last night at Toronto Fil...  positive\n24998  Sadly it was misguided. This movie stunk from ...  negative\n24999  It is nice to see Suraj Barjatya back at what ...  positive\n\n[25000 rows x 2 columns]",
      "text/html": "<div>\n<style scoped>\n    .dataframe tbody tr th:only-of-type {\n        vertical-align: middle;\n    }\n\n    .dataframe tbody tr th {\n        vertical-align: top;\n    }\n\n    .dataframe thead th {\n        text-align: right;\n    }\n</style>\n<table border=\"1\" class=\"dataframe\">\n  <thead>\n    <tr style=\"text-align: right;\">\n      <th></th>\n      <th>text</th>\n      <th>sentiment</th>\n    </tr>\n  </thead>\n  <tbody>\n    <tr>\n      <th>0</th>\n      <td>Here are the matches . . . (adv. = advantage)&lt;...</td>\n      <td>negative</td>\n    </tr>\n    <tr>\n      <th>1</th>\n      <td>STAR RATING: ***** Saturday Night **** Friday ...</td>\n      <td>negative</td>\n    </tr>\n    <tr>\n      <th>2</th>\n      <td>The traditional Western is synonymous with wid...</td>\n      <td>positive</td>\n    </tr>\n    <tr>\n      <th>3</th>\n      <td>Brilliant actor as he is, Al Pacino completely...</td>\n      <td>negative</td>\n    </tr>\n    <tr>\n      <th>4</th>\n      <td>This is the most recent addition to a new wave...</td>\n      <td>positive</td>\n    </tr>\n    <tr>\n      <th>...</th>\n      <td>...</td>\n      <td>...</td>\n    </tr>\n    <tr>\n      <th>24995</th>\n      <td>This film is a portrait of the half-spastic te...</td>\n      <td>negative</td>\n    </tr>\n    <tr>\n      <th>24996</th>\n      <td>A warning to you not to be seduced by the name...</td>\n      <td>negative</td>\n    </tr>\n    <tr>\n      <th>24997</th>\n      <td>I just saw this film last night at Toronto Fil...</td>\n      <td>positive</td>\n    </tr>\n    <tr>\n      <th>24998</th>\n      <td>Sadly it was misguided. This movie stunk from ...</td>\n      <td>negative</td>\n    </tr>\n    <tr>\n      <th>24999</th>\n      <td>It is nice to see Suraj Barjatya back at what ...</td>\n      <td>positive</td>\n    </tr>\n  </tbody>\n</table>\n<p>25000 rows × 2 columns</p>\n</div>"
     },
     "metadata": {},
     "output_type": "display_data"
    },
    {
     "data": {
      "text/plain": "negative    0.5\npositive    0.5\nName: sentiment, dtype: float64"
     },
     "metadata": {},
     "output_type": "display_data"
    },
    {
     "data": {
      "text/plain": "                                                    text sentiment\n0      Most likely \"Cleopatra 2525\" will be of little...  negative\n1      Rita Hayworth plays a Brooklyn nightclub dance...  negative\n2      This film was okay, but like most TV series it...  negative\n3      I saw the film yesterday and really enjoyed it...  positive\n4      I saw the movie in 1972, and like other people...  positive\n...                                                  ...       ...\n24995  Mom has to be one of the all time uncomfortabl...  positive\n24996  At last, a film to rival 'El Padrino' and 'Dar...  negative\n24997  If this film had been made in the 50's or 60's...  positive\n24998  I opted to watch this film for one reason and ...  positive\n24999  This is your typical junk comedy.<br /><br />T...  negative\n\n[25000 rows x 2 columns]",
      "text/html": "<div>\n<style scoped>\n    .dataframe tbody tr th:only-of-type {\n        vertical-align: middle;\n    }\n\n    .dataframe tbody tr th {\n        vertical-align: top;\n    }\n\n    .dataframe thead th {\n        text-align: right;\n    }\n</style>\n<table border=\"1\" class=\"dataframe\">\n  <thead>\n    <tr style=\"text-align: right;\">\n      <th></th>\n      <th>text</th>\n      <th>sentiment</th>\n    </tr>\n  </thead>\n  <tbody>\n    <tr>\n      <th>0</th>\n      <td>Most likely \"Cleopatra 2525\" will be of little...</td>\n      <td>negative</td>\n    </tr>\n    <tr>\n      <th>1</th>\n      <td>Rita Hayworth plays a Brooklyn nightclub dance...</td>\n      <td>negative</td>\n    </tr>\n    <tr>\n      <th>2</th>\n      <td>This film was okay, but like most TV series it...</td>\n      <td>negative</td>\n    </tr>\n    <tr>\n      <th>3</th>\n      <td>I saw the film yesterday and really enjoyed it...</td>\n      <td>positive</td>\n    </tr>\n    <tr>\n      <th>4</th>\n      <td>I saw the movie in 1972, and like other people...</td>\n      <td>positive</td>\n    </tr>\n    <tr>\n      <th>...</th>\n      <td>...</td>\n      <td>...</td>\n    </tr>\n    <tr>\n      <th>24995</th>\n      <td>Mom has to be one of the all time uncomfortabl...</td>\n      <td>positive</td>\n    </tr>\n    <tr>\n      <th>24996</th>\n      <td>At last, a film to rival 'El Padrino' and 'Dar...</td>\n      <td>negative</td>\n    </tr>\n    <tr>\n      <th>24997</th>\n      <td>If this film had been made in the 50's or 60's...</td>\n      <td>positive</td>\n    </tr>\n    <tr>\n      <th>24998</th>\n      <td>I opted to watch this film for one reason and ...</td>\n      <td>positive</td>\n    </tr>\n    <tr>\n      <th>24999</th>\n      <td>This is your typical junk comedy.&lt;br /&gt;&lt;br /&gt;T...</td>\n      <td>negative</td>\n    </tr>\n  </tbody>\n</table>\n<p>25000 rows × 2 columns</p>\n</div>"
     },
     "metadata": {},
     "output_type": "display_data"
    },
    {
     "data": {
      "text/plain": "negative    0.5\npositive    0.5\nName: sentiment, dtype: float64"
     },
     "metadata": {},
     "output_type": "display_data"
    }
   ],
   "source": [
    "for label, data in datasets.items():\n",
    "    # format: remove html tags, convert sentiment to category\n",
    "    datasets[label]: pd.DataFrame = (\n",
    "        pd.DataFrame()\n",
    "        .assign(\n",
    "            text=data['text']\n",
    "            .str.replace(r'<[^<]+?>', '', regex=True),\n",
    "            sentiment=data['sentiment']\n",
    "            .astype('category')\n",
    "        )\n",
    "        .drop_duplicates()\n",
    "        .reset_index(drop=True)\n",
    "        .sample(frac=1) # shuffling\n",
    "    )\n",
    "    display(data)\n",
    "    display(data['sentiment'].value_counts(normalize=True))\n"
   ],
   "metadata": {
    "collapsed": false,
    "pycharm": {
     "name": "#%%\n"
    }
   }
  },
  {
   "cell_type": "code",
   "execution_count": 4,
   "outputs": [],
   "source": [
    "# save processed data to csv\n",
    "for label, data in datasets.items():\n",
    "    data.to_csv(f'{DATA_PATH}._prepped.{label}.csv', index=False)"
   ],
   "metadata": {
    "collapsed": false,
    "pycharm": {
     "name": "#%%\n"
    }
   }
  },
  {
   "cell_type": "code",
   "execution_count": 5,
   "outputs": [
    {
     "data": {
      "text/plain": "                                                    text sentiment\n13935  The acting in this movie was superb. As an ama...  positive\n8327   Watching That Lady In Ermine I was wondering w...  negative\n8657   Why?!! This was an insipid, uninspired and emb...  negative\n21062  Although the plot was a bit sappy at times, an...  positive\n20445  This is one of the few comedies I can watch ag...  positive\n...                                                  ...       ...\n21972  This film has a special place in my heart as t...  negative\n20389  OK me and a friend rented this a few days ago ...  negative\n2598   Five-year-old Michael sees his mother getting ...  negative\n14955  Every movie critic and metal head hated this m...  positive\n18221  The annoying mouse and lullaby really got to m...  negative\n\n[1245 rows x 2 columns]",
      "text/html": "<div>\n<style scoped>\n    .dataframe tbody tr th:only-of-type {\n        vertical-align: middle;\n    }\n\n    .dataframe tbody tr th {\n        vertical-align: top;\n    }\n\n    .dataframe thead th {\n        text-align: right;\n    }\n</style>\n<table border=\"1\" class=\"dataframe\">\n  <thead>\n    <tr style=\"text-align: right;\">\n      <th></th>\n      <th>text</th>\n      <th>sentiment</th>\n    </tr>\n  </thead>\n  <tbody>\n    <tr>\n      <th>13935</th>\n      <td>The acting in this movie was superb. As an ama...</td>\n      <td>positive</td>\n    </tr>\n    <tr>\n      <th>8327</th>\n      <td>Watching That Lady In Ermine I was wondering w...</td>\n      <td>negative</td>\n    </tr>\n    <tr>\n      <th>8657</th>\n      <td>Why?!! This was an insipid, uninspired and emb...</td>\n      <td>negative</td>\n    </tr>\n    <tr>\n      <th>21062</th>\n      <td>Although the plot was a bit sappy at times, an...</td>\n      <td>positive</td>\n    </tr>\n    <tr>\n      <th>20445</th>\n      <td>This is one of the few comedies I can watch ag...</td>\n      <td>positive</td>\n    </tr>\n    <tr>\n      <th>...</th>\n      <td>...</td>\n      <td>...</td>\n    </tr>\n    <tr>\n      <th>21972</th>\n      <td>This film has a special place in my heart as t...</td>\n      <td>negative</td>\n    </tr>\n    <tr>\n      <th>20389</th>\n      <td>OK me and a friend rented this a few days ago ...</td>\n      <td>negative</td>\n    </tr>\n    <tr>\n      <th>2598</th>\n      <td>Five-year-old Michael sees his mother getting ...</td>\n      <td>negative</td>\n    </tr>\n    <tr>\n      <th>14955</th>\n      <td>Every movie critic and metal head hated this m...</td>\n      <td>positive</td>\n    </tr>\n    <tr>\n      <th>18221</th>\n      <td>The annoying mouse and lullaby really got to m...</td>\n      <td>negative</td>\n    </tr>\n  </tbody>\n</table>\n<p>1245 rows × 2 columns</p>\n</div>"
     },
     "metadata": {},
     "output_type": "display_data"
    },
    {
     "data": {
      "text/plain": "positive    0.515663\nnegative    0.484337\nName: sentiment, dtype: float64"
     },
     "metadata": {},
     "output_type": "display_data"
    },
    {
     "data": {
      "text/plain": "                                                    text sentiment\n19259  one of my favorite lines in Shakespeare.i.e. *...  positive\n17256  A poor basketball movie. A gruff coach with a ...  negative\n9728   Based on the book \"Space Vampires\" by Colin Wi...  positive\n24096  There are about ten minutes about half way thr...  negative\n22344  >>> Great News there is a BBC DVD release sche...  positive\n...                                                  ...       ...\n14852  Sheba Shayne (Pam Grier) receives a telegram i...  negative\n14899  On one level, Hari Om is a film using a famili...  positive\n17820  OK, so I gotta start this review by saying i w...  negative\n6409   My daughter already wrote a review of this mov...  positive\n11705  I completely understand the historical signifi...  negative\n\n[1240 rows x 2 columns]",
      "text/html": "<div>\n<style scoped>\n    .dataframe tbody tr th:only-of-type {\n        vertical-align: middle;\n    }\n\n    .dataframe tbody tr th {\n        vertical-align: top;\n    }\n\n    .dataframe thead th {\n        text-align: right;\n    }\n</style>\n<table border=\"1\" class=\"dataframe\">\n  <thead>\n    <tr style=\"text-align: right;\">\n      <th></th>\n      <th>text</th>\n      <th>sentiment</th>\n    </tr>\n  </thead>\n  <tbody>\n    <tr>\n      <th>19259</th>\n      <td>one of my favorite lines in Shakespeare.i.e. *...</td>\n      <td>positive</td>\n    </tr>\n    <tr>\n      <th>17256</th>\n      <td>A poor basketball movie. A gruff coach with a ...</td>\n      <td>negative</td>\n    </tr>\n    <tr>\n      <th>9728</th>\n      <td>Based on the book \"Space Vampires\" by Colin Wi...</td>\n      <td>positive</td>\n    </tr>\n    <tr>\n      <th>24096</th>\n      <td>There are about ten minutes about half way thr...</td>\n      <td>negative</td>\n    </tr>\n    <tr>\n      <th>22344</th>\n      <td>&gt;&gt;&gt; Great News there is a BBC DVD release sche...</td>\n      <td>positive</td>\n    </tr>\n    <tr>\n      <th>...</th>\n      <td>...</td>\n      <td>...</td>\n    </tr>\n    <tr>\n      <th>14852</th>\n      <td>Sheba Shayne (Pam Grier) receives a telegram i...</td>\n      <td>negative</td>\n    </tr>\n    <tr>\n      <th>14899</th>\n      <td>On one level, Hari Om is a film using a famili...</td>\n      <td>positive</td>\n    </tr>\n    <tr>\n      <th>17820</th>\n      <td>OK, so I gotta start this review by saying i w...</td>\n      <td>negative</td>\n    </tr>\n    <tr>\n      <th>6409</th>\n      <td>My daughter already wrote a review of this mov...</td>\n      <td>positive</td>\n    </tr>\n    <tr>\n      <th>11705</th>\n      <td>I completely understand the historical signifi...</td>\n      <td>negative</td>\n    </tr>\n  </tbody>\n</table>\n<p>1240 rows × 2 columns</p>\n</div>"
     },
     "metadata": {},
     "output_type": "display_data"
    },
    {
     "data": {
      "text/plain": "negative    0.514516\npositive    0.485484\nName: sentiment, dtype: float64"
     },
     "metadata": {},
     "output_type": "display_data"
    }
   ],
   "source": [
    "# create, log and save sample to csv\n",
    "for label, data in datasets.items():\n",
    "    sample: pd.DataFrame = data.sample(frac=SAMPLE_SIZE)\n",
    "    display(sample)\n",
    "    display(sample['sentiment'].value_counts(normalize=True))\n",
    "\n",
    "    sample.to_csv(f'{DATA_PATH}.sample.{label}.csv', index=False)"
   ],
   "metadata": {
    "collapsed": false,
    "pycharm": {
     "name": "#%%\n"
    }
   }
  }
 ],
 "metadata": {
  "kernelspec": {
   "display_name": "Python 3",
   "language": "python",
   "name": "python3"
  },
  "language_info": {
   "codemirror_mode": {
    "name": "ipython",
    "version": 2
   },
   "file_extension": ".py",
   "mimetype": "text/x-python",
   "name": "python",
   "nbconvert_exporter": "python",
   "pygments_lexer": "ipython2",
   "version": "2.7.6"
  }
 },
 "nbformat": 4,
 "nbformat_minor": 0
}