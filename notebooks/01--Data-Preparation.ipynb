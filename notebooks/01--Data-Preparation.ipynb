{
 "cells": [
  {
   "cell_type": "code",
   "execution_count": 1,
   "metadata": {
    "collapsed": true,
    "pycharm": {
     "name": "#%%\n"
    }
   },
   "outputs": [],
   "source": [
    "import pandas as pd\n",
    "\n",
    "DATA_PATH: str = '../data/imdb'\n",
    "\n",
    "# load raw dataset\n",
    "raw: pd.DataFrame = pd.read_csv(f'{DATA_PATH}._raw.csv')"
   ]
  },
  {
   "cell_type": "code",
   "execution_count": 2,
   "outputs": [
    {
     "data": {
      "text/plain": "                                                  review sentiment\n0      One of the other reviewers has mentioned that ...  positive\n1      A wonderful little production. The filming tec...  positive\n2      I thought this was a wonderful way to spend ti...  positive\n3      Basically there's a family where a little boy ...  negative\n4      Petter Mattei's \"Love in the Time of Money\" is...  positive\n...                                                  ...       ...\n49576  I thought this movie did a down right good job...  positive\n49577  Bad plot, bad dialogue, bad acting, idiotic di...  negative\n49578  I am a Catholic taught in parochial elementary...  negative\n49579  I'm going to have to disagree with the previou...  negative\n49580  No one expects the Star Trek movies to be high...  negative\n\n[49581 rows x 2 columns]",
      "text/html": "<div>\n<style scoped>\n    .dataframe tbody tr th:only-of-type {\n        vertical-align: middle;\n    }\n\n    .dataframe tbody tr th {\n        vertical-align: top;\n    }\n\n    .dataframe thead th {\n        text-align: right;\n    }\n</style>\n<table border=\"1\" class=\"dataframe\">\n  <thead>\n    <tr style=\"text-align: right;\">\n      <th></th>\n      <th>review</th>\n      <th>sentiment</th>\n    </tr>\n  </thead>\n  <tbody>\n    <tr>\n      <th>0</th>\n      <td>One of the other reviewers has mentioned that ...</td>\n      <td>positive</td>\n    </tr>\n    <tr>\n      <th>1</th>\n      <td>A wonderful little production. The filming tec...</td>\n      <td>positive</td>\n    </tr>\n    <tr>\n      <th>2</th>\n      <td>I thought this was a wonderful way to spend ti...</td>\n      <td>positive</td>\n    </tr>\n    <tr>\n      <th>3</th>\n      <td>Basically there's a family where a little boy ...</td>\n      <td>negative</td>\n    </tr>\n    <tr>\n      <th>4</th>\n      <td>Petter Mattei's \"Love in the Time of Money\" is...</td>\n      <td>positive</td>\n    </tr>\n    <tr>\n      <th>...</th>\n      <td>...</td>\n      <td>...</td>\n    </tr>\n    <tr>\n      <th>49576</th>\n      <td>I thought this movie did a down right good job...</td>\n      <td>positive</td>\n    </tr>\n    <tr>\n      <th>49577</th>\n      <td>Bad plot, bad dialogue, bad acting, idiotic di...</td>\n      <td>negative</td>\n    </tr>\n    <tr>\n      <th>49578</th>\n      <td>I am a Catholic taught in parochial elementary...</td>\n      <td>negative</td>\n    </tr>\n    <tr>\n      <th>49579</th>\n      <td>I'm going to have to disagree with the previou...</td>\n      <td>negative</td>\n    </tr>\n    <tr>\n      <th>49580</th>\n      <td>No one expects the Star Trek movies to be high...</td>\n      <td>negative</td>\n    </tr>\n  </tbody>\n</table>\n<p>49581 rows × 2 columns</p>\n</div>"
     },
     "execution_count": 2,
     "metadata": {},
     "output_type": "execute_result"
    }
   ],
   "source": [
    "# format: remove html tags, convert sentiment to category\n",
    "formatted: pd.DataFrame = (\n",
    "    pd.DataFrame()\n",
    "    .assign(\n",
    "        review=raw['review']\n",
    "        .str.replace(r'<[^<]+?>', '', regex=True),\n",
    "        sentiment=raw['sentiment']\n",
    "        .astype('category')\n",
    "    )\n",
    "    .drop_duplicates()\n",
    "    .reset_index(drop=True)\n",
    ")\n",
    "formatted"
   ],
   "metadata": {
    "collapsed": false,
    "pycharm": {
     "name": "#%%\n"
    }
   }
  },
  {
   "cell_type": "markdown",
   "source": [
    "# Split into train, eval, test"
   ],
   "metadata": {
    "collapsed": false,
    "pycharm": {
     "name": "#%% md\n"
    }
   }
  },
  {
   "cell_type": "code",
   "execution_count": 3,
   "outputs": [],
   "source": [
    "def split(data: pd.DataFrame, sizes: list) -> dict:\n",
    "    return {\n",
    "    label:\n",
    "        data[\n",
    "        int(sizes[n - 1][1] * len(data)):\n",
    "        int((sizes[n - 1][1] + size) * len(data))\n",
    "        ]\n",
    "        if n != 0 else\n",
    "        data[:int(size * len(data))]\n",
    "    for n, (label, size) in enumerate(sizes)\n",
    "}"
   ],
   "metadata": {
    "collapsed": false,
    "pycharm": {
     "name": "#%%\n"
    }
   }
  },
  {
   "cell_type": "code",
   "execution_count": 4,
   "outputs": [
    {
     "data": {
      "text/plain": "{'train':                                                   review sentiment\n 0      One of the other reviewers has mentioned that ...  positive\n 1      A wonderful little production. The filming tec...  positive\n 2      I thought this was a wonderful way to spend ti...  positive\n 3      Basically there's a family where a little boy ...  negative\n 4      Petter Mattei's \"Love in the Time of Money\" is...  positive\n ...                                                  ...       ...\n 39659  Dr. Lucio Fulci (Lucio Fulci) is a director of...  negative\n 39660  Yes I admit I cried during this movie. It was ...  negative\n 39661  I've bought certain films on disc even though ...  positive\n 39662  The final pairing of Nelson Eddy and Jeanette ...  negative\n 39663  I watch romantic comedies with some hesitation...  positive\n \n [39664 rows x 2 columns],\n 'eval':                                                   review sentiment\n 39664  I usually check out the MTV movie awards to wa...  negative\n 39665  I just saw this film at the phoenix film festi...  positive\n 39666  This is still the benchmark to judge all Golde...  positive\n 39667  This is easily the worst movie i have EVER see...  negative\n 39668  \"Admissions\" is a fine drama even though they'...  positive\n ...                                                  ...       ...\n 44617  \"The Cure\" is a very touching and poignant dra...  positive\n 44618  Fot the most part, this movie feels like a \"ma...  negative\n 44619  For a moment, let's put aside the cultural asp...  positive\n 44620  Academy Awarding actor Sidney Poitier of \"Lili...  negative\n 44621  When I first heard about \"Down To Earth,\" I wa...  negative\n \n [4958 rows x 2 columns],\n 'test':                                                  review sentiment\n 4958  This is not great cinema. The film is cliche r...  negative\n 4959  Personnaly I really loved this movie, and it p...  positive\n 4960  First, the current IMDb plot description seems...  negative\n 4961  If you want a serious laugh pain, watch this m...  positive\n 4962  Carlito Way, the original is a brilliant story...  negative\n ...                                                 ...       ...\n 9911  One of those TV films you saw in the seventies...  positive\n 9912  It's rare for a movie to both encompass the pr...  positive\n 9913  The Drug Years actually suffers from one of th...  positive\n 9914  I loved this movie from the opening sequence r...  positive\n 9915  Whether one views him as a gallant cavalier of...  positive\n \n [4958 rows x 2 columns]}"
     },
     "execution_count": 4,
     "metadata": {},
     "output_type": "execute_result"
    }
   ],
   "source": [
    "datasets = split(\n",
    "    formatted, [\n",
    "    ('train', 0.8),\n",
    "    ('eval', 0.1),\n",
    "    ('test', 0.1)\n",
    "])\n",
    "datasets"
   ],
   "metadata": {
    "collapsed": false,
    "pycharm": {
     "name": "#%%\n"
    }
   }
  },
  {
   "cell_type": "code",
   "execution_count": 5,
   "outputs": [],
   "source": [
    "# save to csv\n",
    "for label, data in datasets.items():\n",
    "    data.to_csv(f'{DATA_PATH}.{label}.csv', index = False)"
   ],
   "metadata": {
    "collapsed": false,
    "pycharm": {
     "name": "#%%\n"
    }
   }
  },
  {
   "cell_type": "code",
   "execution_count": null,
   "outputs": [],
   "source": [],
   "metadata": {
    "collapsed": false,
    "pycharm": {
     "name": "#%%\n"
    }
   }
  }
 ],
 "metadata": {
  "kernelspec": {
   "display_name": "Python 3",
   "language": "python",
   "name": "python3"
  },
  "language_info": {
   "codemirror_mode": {
    "name": "ipython",
    "version": 2
   },
   "file_extension": ".py",
   "mimetype": "text/x-python",
   "name": "python",
   "nbconvert_exporter": "python",
   "pygments_lexer": "ipython2",
   "version": "2.7.6"
  }
 },
 "nbformat": 4,
 "nbformat_minor": 0
}