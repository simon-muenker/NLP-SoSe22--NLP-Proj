{
 "cells": [
  {
   "cell_type": "code",
   "execution_count": 1,
   "metadata": {
    "collapsed": true,
    "pycharm": {
     "name": "#%%\n"
    }
   },
   "outputs": [],
   "source": [
    "import pandas as pd\n",
    "\n",
    "DATA_PATH: str = '../data/imdb'\n",
    "\n",
    "# load raw dataset\n",
    "raw: pd.DataFrame = pd.read_csv(f'{DATA_PATH}.train.csv')"
   ]
  },
  {
   "cell_type": "code",
   "execution_count": 3,
   "outputs": [
    {
     "data": {
      "text/plain": "                                                  review sentiment\n10449  John Carpenter's Halloween is quite frankly a ...  positive\n17483  This is a strange sex comedy because there`s v...  negative\n7717   My friends and I were just discussing how frus...  positive\n19830  The premise is ridiculous, the characters unbe...  negative\n381    I enjoyed every moment of this beautiful film ...  positive\n...                                                  ...       ...\n4998   \"Ah Ritchie's made another gangster film with ...  positive\n20363  I always thought people were a little too cyni...  negative\n13720  PROBLEM CHILD is one of the worst movies I hav...  negative\n18306  I saw this movie a few months ago in the town ...  negative\n7044   This show started out with great mystery episo...  positive\n\n[22412 rows x 2 columns]",
      "text/html": "<div>\n<style scoped>\n    .dataframe tbody tr th:only-of-type {\n        vertical-align: middle;\n    }\n\n    .dataframe tbody tr th {\n        vertical-align: top;\n    }\n\n    .dataframe thead th {\n        text-align: right;\n    }\n</style>\n<table border=\"1\" class=\"dataframe\">\n  <thead>\n    <tr style=\"text-align: right;\">\n      <th></th>\n      <th>review</th>\n      <th>sentiment</th>\n    </tr>\n  </thead>\n  <tbody>\n    <tr>\n      <th>10449</th>\n      <td>John Carpenter's Halloween is quite frankly a ...</td>\n      <td>positive</td>\n    </tr>\n    <tr>\n      <th>17483</th>\n      <td>This is a strange sex comedy because there`s v...</td>\n      <td>negative</td>\n    </tr>\n    <tr>\n      <th>7717</th>\n      <td>My friends and I were just discussing how frus...</td>\n      <td>positive</td>\n    </tr>\n    <tr>\n      <th>19830</th>\n      <td>The premise is ridiculous, the characters unbe...</td>\n      <td>negative</td>\n    </tr>\n    <tr>\n      <th>381</th>\n      <td>I enjoyed every moment of this beautiful film ...</td>\n      <td>positive</td>\n    </tr>\n    <tr>\n      <th>...</th>\n      <td>...</td>\n      <td>...</td>\n    </tr>\n    <tr>\n      <th>4998</th>\n      <td>\"Ah Ritchie's made another gangster film with ...</td>\n      <td>positive</td>\n    </tr>\n    <tr>\n      <th>20363</th>\n      <td>I always thought people were a little too cyni...</td>\n      <td>negative</td>\n    </tr>\n    <tr>\n      <th>13720</th>\n      <td>PROBLEM CHILD is one of the worst movies I hav...</td>\n      <td>negative</td>\n    </tr>\n    <tr>\n      <th>18306</th>\n      <td>I saw this movie a few months ago in the town ...</td>\n      <td>negative</td>\n    </tr>\n    <tr>\n      <th>7044</th>\n      <td>This show started out with great mystery episo...</td>\n      <td>positive</td>\n    </tr>\n  </tbody>\n</table>\n<p>22412 rows × 2 columns</p>\n</div>"
     },
     "execution_count": 3,
     "metadata": {},
     "output_type": "execute_result"
    }
   ],
   "source": [
    "# format: remove html tags, convert sentiment to category\n",
    "formatted: pd.DataFrame = (\n",
    "    pd.DataFrame()\n",
    "    .assign(\n",
    "        review=raw['review']\n",
    "        .str.replace(r'<[^<]+?>', '', regex=True),\n",
    "        sentiment=raw['sentiment']\n",
    "        .astype('category')\n",
    "    )\n",
    "    .drop_duplicates()\n",
    "    .reset_index(drop=True)\n",
    "    .sample(frac=1)\n",
    ")\n",
    "formatted"
   ],
   "metadata": {
    "collapsed": false,
    "pycharm": {
     "name": "#%%\n"
    }
   }
  },
  {
   "cell_type": "markdown",
   "source": [
    "# Split into train, eval, test"
   ],
   "metadata": {
    "collapsed": false,
    "pycharm": {
     "name": "#%% md\n"
    }
   }
  },
  {
   "cell_type": "code",
   "execution_count": 4,
   "outputs": [],
   "source": [
    "def split(data: pd.DataFrame, sizes: list) -> dict:\n",
    "    return {\n",
    "    label:\n",
    "        data[\n",
    "        int(sizes[n - 1][1] * len(data)):\n",
    "        int((sizes[n - 1][1] + size) * len(data))\n",
    "        ]\n",
    "        if n != 0 else\n",
    "        data[:int(size * len(data))]\n",
    "    for n, (label, size) in enumerate(sizes)\n",
    "}"
   ],
   "metadata": {
    "collapsed": false,
    "pycharm": {
     "name": "#%%\n"
    }
   }
  },
  {
   "cell_type": "code",
   "execution_count": 5,
   "outputs": [
    {
     "data": {
      "text/plain": "{'train':                                                   review sentiment\n 10449  John Carpenter's Halloween is quite frankly a ...  positive\n 17483  This is a strange sex comedy because there`s v...  negative\n 7717   My friends and I were just discussing how frus...  positive\n 19830  The premise is ridiculous, the characters unbe...  negative\n 381    I enjoyed every moment of this beautiful film ...  positive\n ...                                                  ...       ...\n 21133  The plot of 'Edison' was decent, but one actor...  negative\n 20333  Amateurism best describes the film adaptation ...  negative\n 14285  After having seen the movie the first question...  negative\n 2207   I was taken to this film by a friend and was s...  positive\n 14535  Sholay: Considered to be one of the greatest f...  negative\n \n [20170 rows x 2 columns],\n 'eval':                                                   review sentiment\n 22224  I very nearly walked out, but I'd paid my mone...  negative\n 21622  Strummer's hippie past was a revelation, but o...  negative\n 22411  I ordered this extremely rare and highly overr...  negative\n 10248  The way this story played out and the interact...  positive\n 1462   Due to the invention of a \"The Domestication C...  positive\n ...                                                  ...       ...\n 4998   \"Ah Ritchie's made another gangster film with ...  positive\n 20363  I always thought people were a little too cyni...  negative\n 13720  PROBLEM CHILD is one of the worst movies I hav...  negative\n 18306  I saw this movie a few months ago in the town ...  negative\n 7044   This show started out with great mystery episo...  positive\n \n [2242 rows x 2 columns]}"
     },
     "execution_count": 5,
     "metadata": {},
     "output_type": "execute_result"
    }
   ],
   "source": [
    "datasets = split(\n",
    "    formatted, [\n",
    "    ('train', 0.9),\n",
    "    ('eval', 0.1),\n",
    "])\n",
    "datasets"
   ],
   "metadata": {
    "collapsed": false,
    "pycharm": {
     "name": "#%%\n"
    }
   }
  },
  {
   "cell_type": "code",
   "execution_count": 10,
   "outputs": [
    {
     "data": {
      "text/plain": "positive    0.557362\nnegative    0.442638\nName: sentiment, dtype: float64"
     },
     "metadata": {},
     "output_type": "display_data"
    },
    {
     "data": {
      "text/plain": "positive    0.548617\nnegative    0.451383\nName: sentiment, dtype: float64"
     },
     "metadata": {},
     "output_type": "display_data"
    }
   ],
   "source": [
    "from IPython.core.display_functions import display\n",
    "\n",
    "# save to csv\n",
    "for label, data in datasets.items():\n",
    "    display(data['sentiment'].value_counts(normalize=True))"
   ],
   "metadata": {
    "collapsed": false,
    "pycharm": {
     "name": "#%%\n"
    }
   }
  },
  {
   "cell_type": "code",
   "execution_count": 11,
   "outputs": [],
   "source": [
    "# save to csv\n",
    "for label, data in datasets.items():\n",
    "    data.to_csv(f'{DATA_PATH}.{label}.csv', index = False)"
   ],
   "metadata": {
    "collapsed": false,
    "pycharm": {
     "name": "#%%\n"
    }
   }
  },
  {
   "cell_type": "code",
   "execution_count": null,
   "outputs": [],
   "source": [],
   "metadata": {
    "collapsed": false,
    "pycharm": {
     "name": "#%%\n"
    }
   }
  }
 ],
 "metadata": {
  "kernelspec": {
   "display_name": "Python 3",
   "language": "python",
   "name": "python3"
  },
  "language_info": {
   "codemirror_mode": {
    "name": "ipython",
    "version": 2
   },
   "file_extension": ".py",
   "mimetype": "text/x-python",
   "name": "python",
   "nbconvert_exporter": "python",
   "pygments_lexer": "ipython2",
   "version": "2.7.6"
  }
 },
 "nbformat": 4,
 "nbformat_minor": 0
}