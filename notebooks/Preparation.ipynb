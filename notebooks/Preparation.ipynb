{
 "cells": [
  {
   "cell_type": "code",
   "execution_count": 4,
   "metadata": {
    "collapsed": true,
    "pycharm": {
     "name": "#%%\n"
    }
   },
   "outputs": [],
   "source": [
    "import pandas as pd\n",
    "\n",
    "DATA_PATH: str = '../data/imdb'"
   ]
  },
  {
   "cell_type": "markdown",
   "source": [
    "# Data Loading & Split Generation"
   ],
   "metadata": {
    "collapsed": false,
    "pycharm": {
     "name": "#%% md\n"
    }
   }
  },
  {
   "cell_type": "code",
   "execution_count": 5,
   "outputs": [],
   "source": [
    "#\n",
    "### Generate data subsets\n",
    "SPLITS: tuple = (.80, .10, .10)\n",
    "\n",
    "# check if all subsets are equal to 1.\n",
    "if sum(SPLITS) != 1.0:\n",
    "    raise AttributeError()\n",
    "\n",
    "# load full dataset\n",
    "imdb: pd.DataFrame = pd.read_csv(f'{DATA_PATH}._full.csv')\n",
    "\n",
    "# split original into train, dev, test using sampling:\n",
    "data_splits: dict = {\n",
    "    'train.1.000': imdb.sample(frac=SPLITS[0], ignore_index=True),\n",
    "    'eval': imdb.sample(frac=SPLITS[1], ignore_index=True),\n",
    "    'test': imdb.sample(frac=SPLITS[2], ignore_index=True)\n",
    "}\n",
    "\n",
    "# save to csv\n",
    "for label, data in data_splits.items():\n",
    "    data.to_csv(f'{DATA_PATH}.{label}.csv', index = False)"
   ],
   "metadata": {
    "collapsed": false,
    "pycharm": {
     "name": "#%%\n"
    }
   }
  },
  {
   "cell_type": "code",
   "execution_count": 6,
   "outputs": [],
   "source": [
    "#\n",
    "### Generate reduced training dataset sizes\n",
    "SIZES: tuple = (0.1, 0.01, 0.001)\n",
    "\n",
    "# sample each training subset from full train set\n",
    "for S in SIZES:\n",
    "    sample: pd.DataFrame = pd.read_csv(f'{DATA_PATH}.train.1.000.csv').sample(frac=S, ignore_index=True)\n",
    "    sample.to_csv(f'{DATA_PATH}.train.{S:0.3f}.csv', index = False)"
   ],
   "metadata": {
    "collapsed": false,
    "pycharm": {
     "name": "#%%\n"
    }
   }
  }
 ],
 "metadata": {
  "kernelspec": {
   "display_name": "Python 3",
   "language": "python",
   "name": "python3"
  },
  "language_info": {
   "codemirror_mode": {
    "name": "ipython",
    "version": 2
   },
   "file_extension": ".py",
   "mimetype": "text/x-python",
   "name": "python",
   "nbconvert_exporter": "python",
   "pygments_lexer": "ipython2",
   "version": "2.7.6"
  }
 },
 "nbformat": 4,
 "nbformat_minor": 0
}