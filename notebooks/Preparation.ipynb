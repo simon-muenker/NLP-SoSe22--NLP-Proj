{
 "cells": [
  {
   "cell_type": "code",
   "execution_count": 1,
   "metadata": {
    "collapsed": true,
    "pycharm": {
     "name": "#%%\n"
    }
   },
   "outputs": [],
   "source": [
    "import pandas as pd\n",
    "\n",
    "DATA_PATH: str = '../data/imdb'\n",
    "\n",
    "# load full dataset\n",
    "imdb: pd.DataFrame = pd.read_csv(f'{DATA_PATH}._full.csv')"
   ]
  },
  {
   "cell_type": "markdown",
   "source": [
    "# Data Loading & Split Generation"
   ],
   "metadata": {
    "collapsed": false,
    "pycharm": {
     "name": "#%% md\n"
    }
   }
  },
  {
   "cell_type": "code",
   "execution_count": 14,
   "outputs": [],
   "source": [
    "def split(data: pd.DataFrame, sizes: list):\n",
    "    return {\n",
    "    label:\n",
    "        data[\n",
    "        int(sizes[n - 1][1] * len(data)):\n",
    "        int((sizes[n - 1][1] + size) * len(data))\n",
    "        ]\n",
    "        if n != 0 else\n",
    "        data[:int(size * len(imdb))]\n",
    "    for n, (label, size) in enumerate(sizes)\n",
    "}"
   ],
   "metadata": {
    "collapsed": false,
    "pycharm": {
     "name": "#%%\n"
    }
   }
  },
  {
   "cell_type": "code",
   "execution_count": 16,
   "outputs": [
    {
     "data": {
      "text/plain": "{'train':                                                   review sentiment\n 0      One of the other reviewers has mentioned that ...  positive\n 1      A wonderful little production. <br /><br />The...  positive\n 2      I thought this was a wonderful way to spend ti...  positive\n 3      Basically there's a family where a little boy ...  negative\n 4      Petter Mattei's \"Love in the Time of Money\" is...  positive\n ...                                                  ...       ...\n 39995  This was a marvelously funny comedy with a gre...  positive\n 39996  There is no plot. There are no central charact...  positive\n 39997  This show is awesome! I love all the actors! I...  positive\n 39998  The fact that this movie has been entitled to ...  negative\n 39999  I have to confess that I am severely disappoin...  negative\n \n [40000 rows x 2 columns],\n 'eval':                                                   review sentiment\n 40000  First off I want to say that I lean liberal on...  negative\n 40001  I was excited to see a sitcom that would hopef...  negative\n 40002  When you look at the cover and read stuff abou...  negative\n 40003  Like many others, I counted on the appearance ...  negative\n 40004  This movie was on t.v the other day, and I did...  negative\n ...                                                  ...       ...\n 44995  I watched this movie for the first time a few ...  negative\n 44996  I am a sucker for films like this. Films that ...  positive\n 44997  I am a college student studying a-levels and n...  positive\n 44998  huge Ramones fan. i do like the ramones, and i...  positive\n 44999  I rented this movie yesterday and can hardly e...  negative\n \n [5000 rows x 2 columns],\n 'test':                                                  review sentiment\n 5000  Not a movie for everyone, but this movie is in...  positive\n 5001  This film is not your typical Hollywood fare, ...  positive\n 5002  RKO Radio Pictures made a real classic in 1947...  positive\n 5003  \"Transylvania 6-5000\" is an insignificant but ...  negative\n 5004  This is a very good, under-rated action/drama/...  positive\n ...                                                 ...       ...\n 9995  Fun, entertaining movie about WWII German spy ...  positive\n 9996  Give me a break. How can anyone say that this ...  negative\n 9997  This movie is a bad movie. But after watching ...  negative\n 9998  This is a movie that was probably made to ente...  negative\n 9999  Smashing film about film-making. Shows the int...  positive\n \n [5000 rows x 2 columns]}"
     },
     "execution_count": 16,
     "metadata": {},
     "output_type": "execute_result"
    }
   ],
   "source": [
    "datasets = split(\n",
    "    imdb, [\n",
    "    ('train', 0.8),\n",
    "    ('eval', 0.1),\n",
    "    ('test', 0.1)\n",
    "])\n",
    "datasets"
   ],
   "metadata": {
    "collapsed": false,
    "pycharm": {
     "name": "#%%\n"
    }
   }
  },
  {
   "cell_type": "code",
   "execution_count": 17,
   "outputs": [],
   "source": [
    "# save to csv\n",
    "for label, data in datasets.items():\n",
    "    data.to_csv(f'{DATA_PATH}.{label}.csv', index = False)"
   ],
   "metadata": {
    "collapsed": false,
    "pycharm": {
     "name": "#%%\n"
    }
   }
  },
  {
   "cell_type": "code",
   "execution_count": 18,
   "outputs": [],
   "source": [
    "#\n",
    "### Generate reduced training dataset sizes\n",
    "SIZES: tuple = (0.1, 0.01, 0.001)\n",
    "\n",
    "# sample each training subset from full train set\n",
    "for S in SIZES:\n",
    "    sample: pd.DataFrame = pd.read_csv(f'{DATA_PATH}.train.1.000.csv').sample(frac=S, ignore_index=True)\n",
    "    sample.to_csv(f'{DATA_PATH}.train.{S:0.3f}.csv', index = False)"
   ],
   "metadata": {
    "collapsed": false,
    "pycharm": {
     "name": "#%%\n"
    }
   }
  },
  {
   "cell_type": "code",
   "execution_count": null,
   "outputs": [],
   "source": [],
   "metadata": {
    "collapsed": false,
    "pycharm": {
     "name": "#%%\n"
    }
   }
  }
 ],
 "metadata": {
  "kernelspec": {
   "display_name": "Python 3",
   "language": "python",
   "name": "python3"
  },
  "language_info": {
   "codemirror_mode": {
    "name": "ipython",
    "version": 2
   },
   "file_extension": ".py",
   "mimetype": "text/x-python",
   "name": "python",
   "nbconvert_exporter": "python",
   "pygments_lexer": "ipython2",
   "version": "2.7.6"
  }
 },
 "nbformat": 4,
 "nbformat_minor": 0
}